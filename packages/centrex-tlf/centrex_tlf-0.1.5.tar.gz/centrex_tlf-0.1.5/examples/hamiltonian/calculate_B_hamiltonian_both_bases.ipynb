{
 "cells": [
  {
   "cell_type": "code",
   "execution_count": 1,
   "metadata": {},
   "outputs": [],
   "source": [
    "import tqdm\n",
    "import numpy as np\n",
    "import matplotlib.pyplot as plt\n",
    "from centrex_tlf import states, hamiltonian"
   ]
  },
  {
   "cell_type": "code",
   "execution_count": 2,
   "metadata": {},
   "outputs": [],
   "source": [
    "from decimal import Decimal\n",
    "\n",
    "\n",
    "def fexp(number):\n",
    "    (sign, digits, exponent) = Decimal(number).as_tuple()\n",
    "    return len(digits) + exponent - 1"
   ]
  },
  {
   "attachments": {},
   "cell_type": "markdown",
   "metadata": {},
   "source": [
    "# Zero field\n",
    "## Ω basis"
   ]
  },
  {
   "cell_type": "code",
   "execution_count": 3,
   "metadata": {},
   "outputs": [
    {
     "data": {
      "text/plain": [
       "array([|B, J = 1, F₁ = 1/2, F = 1, mF = -1, I₁ = 1/2, I₂ = 1/2, Ω = -1>,\n",
       "       |B, J = 1, F₁ = 1/2, F = 1, mF = -1, I₁ = 1/2, I₂ = 1/2, Ω = 1>,\n",
       "       |B, J = 1, F₁ = 1/2, F = 1, mF = 0, I₁ = 1/2, I₂ = 1/2, Ω = -1>,\n",
       "       |B, J = 1, F₁ = 1/2, F = 1, mF = 0, I₁ = 1/2, I₂ = 1/2, Ω = 1>,\n",
       "       |B, J = 1, F₁ = 1/2, F = 1, mF = 1, I₁ = 1/2, I₂ = 1/2, Ω = -1>,\n",
       "       |B, J = 1, F₁ = 1/2, F = 1, mF = 1, I₁ = 1/2, I₂ = 1/2, Ω = 1>],\n",
       "      dtype=object)"
      ]
     },
     "execution_count": 3,
     "metadata": {},
     "output_type": "execute_result"
    }
   ],
   "source": [
    "QNc = states.generate_coupled_states_excited(Js=[1, 2, 3, 4], Ps=None, Omegas=[-1, 1])\n",
    "qn_select = states.QuantumSelector(\n",
    "    J=1, F1=1 / 2, F=1, electronic=states.ElectronicState.B\n",
    ")\n",
    "QNc[qn_select.get_indices(QNc)]"
   ]
  },
  {
   "cell_type": "code",
   "execution_count": 4,
   "metadata": {},
   "outputs": [],
   "source": [
    "# generate the X hamiltonian terms\n",
    "H = hamiltonian.generate_coupled_hamiltonian_B(QNc)\n",
    "\n",
    "# create a function outputting the hamiltonian as a function of E and B\n",
    "Hfunc = hamiltonian.generate_coupled_hamiltonian_B_function(H)\n",
    "\n",
    "# generate the Hamiltonian for (almost) zero field, add a small field to make states\n",
    "# non-degenerate\n",
    "Hi = Hfunc(E=[0, 0, 0], B=[0, 0, 1e-5])\n",
    "E, V = np.linalg.eigh(Hi)\n",
    "\n",
    "# get the true superposition-states of the system\n",
    "QN_states = hamiltonian.matrix_to_states(V, QNc)"
   ]
  },
  {
   "cell_type": "code",
   "execution_count": 5,
   "metadata": {},
   "outputs": [],
   "source": [
    "QN_states_omega, E_omega = QN_states, E"
   ]
  },
  {
   "attachments": {},
   "cell_type": "markdown",
   "metadata": {},
   "source": [
    "## P basis"
   ]
  },
  {
   "cell_type": "code",
   "execution_count": 6,
   "metadata": {},
   "outputs": [
    {
     "data": {
      "text/plain": [
       "array([|B, J = 1, F₁ = 1/2, F = 1, mF = -1, I₁ = 1/2, I₂ = 1/2, P = -, Ω = 1>,\n",
       "       |B, J = 1, F₁ = 1/2, F = 1, mF = -1, I₁ = 1/2, I₂ = 1/2, P = +, Ω = 1>,\n",
       "       |B, J = 1, F₁ = 1/2, F = 1, mF = 0, I₁ = 1/2, I₂ = 1/2, P = -, Ω = 1>,\n",
       "       |B, J = 1, F₁ = 1/2, F = 1, mF = 0, I₁ = 1/2, I₂ = 1/2, P = +, Ω = 1>,\n",
       "       |B, J = 1, F₁ = 1/2, F = 1, mF = 1, I₁ = 1/2, I₂ = 1/2, P = -, Ω = 1>,\n",
       "       |B, J = 1, F₁ = 1/2, F = 1, mF = 1, I₁ = 1/2, I₂ = 1/2, P = +, Ω = 1>],\n",
       "      dtype=object)"
      ]
     },
     "execution_count": 6,
     "metadata": {},
     "output_type": "execute_result"
    }
   ],
   "source": [
    "QNc = states.generate_coupled_states_excited(Js=[1, 2, 3, 4], Ps=[-1, 1], Omegas=1)\n",
    "qn_select = states.QuantumSelector(\n",
    "    J=1, F1=1 / 2, F=1, electronic=states.ElectronicState.B\n",
    ")\n",
    "QNc[qn_select.get_indices(QNc)]"
   ]
  },
  {
   "cell_type": "code",
   "execution_count": 7,
   "metadata": {},
   "outputs": [],
   "source": [
    "# generate the X hamiltonian terms\n",
    "H = hamiltonian.generate_coupled_hamiltonian_B(QNc)\n",
    "\n",
    "# create a function outputting the hamiltonian as a function of E and B\n",
    "Hfunc = hamiltonian.generate_coupled_hamiltonian_B_function(H)\n",
    "\n",
    "# generate the Hamiltonian for (almost) zero field, add a small field to make states\n",
    "# non-degenerate\n",
    "Hi = Hfunc(E=[0, 0, 0], B=[0, 0, 1e-5])\n",
    "E, V = np.linalg.eigh(Hi)\n",
    "\n",
    "# get the true superposition-states of the system\n",
    "QN_states = hamiltonian.matrix_to_states(V, QNc)"
   ]
  },
  {
   "attachments": {},
   "cell_type": "markdown",
   "metadata": {},
   "source": [
    "## Check if the resulting states are the same for the P and Ω basis"
   ]
  },
  {
   "cell_type": "code",
   "execution_count": 8,
   "metadata": {},
   "outputs": [
    {
     "name": "stderr",
     "output_type": "stream",
     "text": [
      "100%|██████████| 192/192 [00:06<00:00, 27.65it/s]\n"
     ]
    }
   ],
   "source": [
    "# at a tolerance of 1e-5 some states will have slightly different coefficients between\n",
    "# the two bases\n",
    "tol = 1e-4\n",
    "\n",
    "for qnp, qno in tqdm.tqdm(zip(QN_states, QN_states_omega), total=len(QN_states)):\n",
    "    qnp = qnp.remove_small_components(tol)\n",
    "    qno = qno.transform_to_parity_basis().remove_small_components(tol)\n",
    "    qno.data = [(np.round(a, abs(fexp(tol))), s) for a, s in qno.data]\n",
    "    qnp.data = [(np.round(a, abs(fexp(tol))), s) for a, s in qnp.data]\n",
    "    if qnp != qno and qnp != -qno:\n",
    "        print(qno)\n",
    "        print(qnp)\n",
    "        raise AssertionError(\"Mismatch between different bases.\")"
   ]
  },
  {
   "attachments": {},
   "cell_type": "markdown",
   "metadata": {},
   "source": [
    "# Non-zero electric field\n",
    "## Ω basis"
   ]
  },
  {
   "cell_type": "code",
   "execution_count": 9,
   "metadata": {},
   "outputs": [],
   "source": [
    "QNc = states.generate_coupled_states_excited(Js=[1, 2, 3, 4], Ps=None, Omegas=[-1, 1])\n",
    "\n",
    "# generate the X hamiltonian terms\n",
    "H = hamiltonian.generate_coupled_hamiltonian_B(QNc)\n",
    "\n",
    "# create a function outputting the hamiltonian as a function of E and B\n",
    "Hfunc = hamiltonian.generate_coupled_hamiltonian_B_function(H)\n",
    "\n",
    "# generate the Hamiltonian for (almost) zero field, add a small field to make states\n",
    "# non-degenerate\n",
    "Hi = Hfunc(E=[0, 0, 200], B=[0, 0, 1e-5])\n",
    "E, V = np.linalg.eigh(Hi)\n",
    "\n",
    "# get the true superposition-states of the system\n",
    "QN_states = hamiltonian.matrix_to_states(V, QNc)\n",
    "\n",
    "QN_states_omega, E_omega = QN_states, E"
   ]
  },
  {
   "attachments": {},
   "cell_type": "markdown",
   "metadata": {},
   "source": [
    "## P basis"
   ]
  },
  {
   "cell_type": "code",
   "execution_count": 10,
   "metadata": {},
   "outputs": [],
   "source": [
    "QNc = states.generate_coupled_states_excited(Js=[1, 2, 3, 4], Ps=[-1, 1], Omegas=1)\n",
    "\n",
    "# generate the X hamiltonian terms\n",
    "H = hamiltonian.generate_coupled_hamiltonian_B(QNc)\n",
    "\n",
    "# create a function outputting the hamiltonian as a function of E and B\n",
    "Hfunc = hamiltonian.generate_coupled_hamiltonian_B_function(H)\n",
    "\n",
    "# generate the Hamiltonian for (almost) zero field, add a small field to make states\n",
    "# non-degenerate\n",
    "Hi = Hfunc(E=[0, 0, 200], B=[0, 0, 1e-5])\n",
    "E, V = np.linalg.eigh(Hi)\n",
    "\n",
    "# get the true superposition-states of the system\n",
    "QN_states = hamiltonian.matrix_to_states(V, QNc)"
   ]
  },
  {
   "attachments": {},
   "cell_type": "markdown",
   "metadata": {},
   "source": [
    "## Check if the resulting states are the same for the P and Ω basis"
   ]
  },
  {
   "cell_type": "code",
   "execution_count": 11,
   "metadata": {},
   "outputs": [
    {
     "name": "stderr",
     "output_type": "stream",
     "text": [
      "100%|██████████| 192/192 [00:21<00:00,  9.14it/s]\n"
     ]
    }
   ],
   "source": [
    "tol = 1e-4\n",
    "QN_states_filtered = [s.remove_small_components(tol) for s in QN_states]\n",
    "\n",
    "indices_check = []\n",
    "for qno in tqdm.tqdm(QN_states_omega):\n",
    "    qno = qno.transform_to_parity_basis().remove_small_components(tol)\n",
    "    vector = np.abs(qno.state_vector(QN_states_filtered))\n",
    "    assert np.argmax(vector) not in indices_check\n",
    "    indices_check.append(np.argmax(vector))"
   ]
  },
  {
   "cell_type": "code",
   "execution_count": 12,
   "metadata": {},
   "outputs": [
    {
     "name": "stderr",
     "output_type": "stream",
     "text": [
      "100%|██████████| 192/192 [00:07<00:00, 24.20it/s]\n"
     ]
    }
   ],
   "source": [
    "# at a tolerance of 1e-5 some states will have slightly different coefficients between\n",
    "# the two bases\n",
    "tol = 1e-4\n",
    "for qnp, qno in tqdm.tqdm(zip(QN_states, QN_states_omega), total=len(QN_states)):\n",
    "    qnp = qnp.order_by_amp().remove_small_components(tol)\n",
    "    qno = qno.transform_to_parity_basis().order_by_amp().remove_small_components(tol)\n",
    "    qno.data = [(np.round(a, abs(fexp(tol))), s) for a, s in qno.data]\n",
    "    qnp.data = [(np.round(a, abs(fexp(tol))), s) for a, s in qnp.data]\n",
    "    if qnp != qno and qnp != -qno:\n",
    "        print(qno)\n",
    "        print(qnp)\n",
    "        raise AssertionError(\"Mismatch between different bases.\")"
   ]
  },
  {
   "cell_type": "code",
   "execution_count": null,
   "metadata": {},
   "outputs": [],
   "source": []
  }
 ],
 "metadata": {
  "kernelspec": {
   "display_name": "centrex-tlf",
   "language": "python",
   "name": "python3"
  },
  "language_info": {
   "codemirror_mode": {
    "name": "ipython",
    "version": 3
   },
   "file_extension": ".py",
   "mimetype": "text/x-python",
   "name": "python",
   "nbconvert_exporter": "python",
   "pygments_lexer": "ipython3",
   "version": "3.9.18"
  },
  "orig_nbformat": 4,
  "vscode": {
   "interpreter": {
    "hash": "ce93d6a7a231c0dfdc9b9cbfa88f0a8a869cb66939855c1a18d089a9d5c60067"
   }
  }
 },
 "nbformat": 4,
 "nbformat_minor": 2
}
