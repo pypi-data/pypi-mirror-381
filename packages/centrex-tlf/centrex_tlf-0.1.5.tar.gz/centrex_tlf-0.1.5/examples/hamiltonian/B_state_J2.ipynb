{
 "cells": [
  {
   "cell_type": "code",
   "execution_count": 1,
   "metadata": {},
   "outputs": [],
   "source": [
    "import tqdm\n",
    "import numpy as np\n",
    "import matplotlib.pyplot as plt\n",
    "from centrex_tlf import states, hamiltonian"
   ]
  },
  {
   "cell_type": "code",
   "execution_count": 2,
   "metadata": {},
   "outputs": [
    {
     "data": {
      "text/plain": [
       "array([|B, J = 2, F₁ = 3/2, F = 1, mF = -1, I₁ = 1/2, I₂ = 1/2, Ω = -1>,\n",
       "       |B, J = 2, F₁ = 3/2, F = 1, mF = -1, I₁ = 1/2, I₂ = 1/2, Ω = 1>,\n",
       "       |B, J = 2, F₁ = 3/2, F = 1, mF = 0, I₁ = 1/2, I₂ = 1/2, Ω = -1>,\n",
       "       |B, J = 2, F₁ = 3/2, F = 1, mF = 0, I₁ = 1/2, I₂ = 1/2, Ω = 1>,\n",
       "       |B, J = 2, F₁ = 3/2, F = 1, mF = 1, I₁ = 1/2, I₂ = 1/2, Ω = -1>,\n",
       "       |B, J = 2, F₁ = 3/2, F = 1, mF = 1, I₁ = 1/2, I₂ = 1/2, Ω = 1>],\n",
       "      dtype=object)"
      ]
     },
     "execution_count": 2,
     "metadata": {},
     "output_type": "execute_result"
    }
   ],
   "source": [
    "QNc = states.generate_coupled_states_excited(Js = [1,2,3,4], Ps=None, Omegas=[-1,1])\n",
    "qn_select = states.QuantumSelector(J = 2,F1=3/2, F=1, electronic = states.ElectronicState.B)\n",
    "QNc[qn_select.get_indices(QNc)]"
   ]
  },
  {
   "cell_type": "code",
   "execution_count": 3,
   "metadata": {},
   "outputs": [],
   "source": [
    "# generate the X hamiltonian terms\n",
    "H = hamiltonian.generate_coupled_hamiltonian_B(QNc)"
   ]
  },
  {
   "cell_type": "code",
   "execution_count": 4,
   "metadata": {},
   "outputs": [],
   "source": [
    "# create a function outputting the hamiltonian as a function of E and B\n",
    "Hfunc = hamiltonian.generate_coupled_hamiltonian_B_function(H)\n",
    "\n",
    "# generate the Hamiltonian for (almost) zero field, add a small field to make states\n",
    "# non-degenerate\n",
    "Hi = Hfunc(E=[0, 0, 1e-6], B=[0, 0, 0])\n",
    "E, V = np.linalg.eigh(Hi)\n",
    "\n",
    "# get the true superposition-states of the system\n",
    "QN_states = hamiltonian.matrix_to_states(V, QNc)\n",
    "\n",
    "# original eigenvectors used in tracking states as energies change order\n",
    "V_track = V.copy()"
   ]
  },
  {
   "cell_type": "code",
   "execution_count": 5,
   "metadata": {},
   "outputs": [
    {
     "data": {
      "text/plain": [
       "array([0.53+0.00j x |B, J = 2, F₁ = 3/2, F = 1, mF = 1, I₁ = 1/2, I₂ = 1/2, Ω = 1>\n",
       "       -0.53+0.00j x |B, J = 2, F₁ = 3/2, F = 1, mF = 1, I₁ = 1/2, I₂ = 1/2, Ω = -1>\n",
       "       -0.32+0.00j x |B, J = 1, F₁ = 3/2, F = 1, mF = 1, I₁ = 1/2, I₂ = 1/2, Ω = 1>\n",
       "       -0.32+0.00j x |B, J = 1, F₁ = 3/2, F = 1, mF = 1, I₁ = 1/2, I₂ = 1/2, Ω = -1>\n",
       "       -0.29+0.00j x |B, J = 2, F₁ = 3/2, F = 1, mF = -1, I₁ = 1/2, I₂ = 1/2, Ω = -1>\n",
       "       0.29+0.00j x |B, J = 2, F₁ = 3/2, F = 1, mF = -1, I₁ = 1/2, I₂ = 1/2, Ω = 1>  ,\n",
       "       0.53-0.00j x |B, J = 2, F₁ = 3/2, F = 1, mF = -1, I₁ = 1/2, I₂ = 1/2, Ω = -1>\n",
       "       -0.53+0.00j x |B, J = 2, F₁ = 3/2, F = 1, mF = -1, I₁ = 1/2, I₂ = 1/2, Ω = 1>\n",
       "       0.32-0.00j x |B, J = 1, F₁ = 3/2, F = 1, mF = -1, I₁ = 1/2, I₂ = 1/2, Ω = -1>\n",
       "       0.32-0.00j x |B, J = 1, F₁ = 3/2, F = 1, mF = -1, I₁ = 1/2, I₂ = 1/2, Ω = 1>\n",
       "       0.29-0.00j x |B, J = 2, F₁ = 3/2, F = 1, mF = 1, I₁ = 1/2, I₂ = 1/2, Ω = 1>\n",
       "       -0.29+0.00j x |B, J = 2, F₁ = 3/2, F = 1, mF = 1, I₁ = 1/2, I₂ = 1/2, Ω = -1>,\n",
       "       0.60-0.00j x |B, J = 2, F₁ = 3/2, F = 1, mF = 0, I₁ = 1/2, I₂ = 1/2, Ω = -1>\n",
       "       -0.60+0.00j x |B, J = 2, F₁ = 3/2, F = 1, mF = 0, I₁ = 1/2, I₂ = 1/2, Ω = 1>\n",
       "       0.37-0.00j x |B, J = 1, F₁ = 3/2, F = 1, mF = 0, I₁ = 1/2, I₂ = 1/2, Ω = -1>\n",
       "       0.37-0.00j x |B, J = 1, F₁ = 3/2, F = 1, mF = 0, I₁ = 1/2, I₂ = 1/2, Ω = 1>\n",
       "       0.00-0.00j x |B, J = 1, F₁ = 1/2, F = 1, mF = 0, I₁ = 1/2, I₂ = 1/2, Ω = -1>\n",
       "       0.00-0.00j x |B, J = 1, F₁ = 1/2, F = 1, mF = 0, I₁ = 1/2, I₂ = 1/2, Ω = 1> ,\n",
       "       0.60-0.00j x |B, J = 2, F₁ = 3/2, F = 1, mF = 1, I₁ = 1/2, I₂ = 1/2, Ω = -1>\n",
       "       0.60-0.00j x |B, J = 2, F₁ = 3/2, F = 1, mF = 1, I₁ = 1/2, I₂ = 1/2, Ω = 1>\n",
       "       0.37-0.00j x |B, J = 1, F₁ = 3/2, F = 1, mF = 1, I₁ = 1/2, I₂ = 1/2, Ω = -1>\n",
       "       -0.37+0.00j x |B, J = 1, F₁ = 3/2, F = 1, mF = 1, I₁ = 1/2, I₂ = 1/2, Ω = 1>\n",
       "       -0.08+0.00j x |B, J = 2, F₁ = 3/2, F = 1, mF = -1, I₁ = 1/2, I₂ = 1/2, Ω = 1>\n",
       "       -0.08+0.00j x |B, J = 2, F₁ = 3/2, F = 1, mF = -1, I₁ = 1/2, I₂ = 1/2, Ω = -1>,\n",
       "       0.60+0.00j x |B, J = 2, F₁ = 3/2, F = 1, mF = -1, I₁ = 1/2, I₂ = 1/2, Ω = 1>\n",
       "       0.60+0.00j x |B, J = 2, F₁ = 3/2, F = 1, mF = -1, I₁ = 1/2, I₂ = 1/2, Ω = -1>\n",
       "       -0.37+0.00j x |B, J = 1, F₁ = 3/2, F = 1, mF = -1, I₁ = 1/2, I₂ = 1/2, Ω = 1>\n",
       "       0.37+0.00j x |B, J = 1, F₁ = 3/2, F = 1, mF = -1, I₁ = 1/2, I₂ = 1/2, Ω = -1>\n",
       "       0.08+0.00j x |B, J = 2, F₁ = 3/2, F = 1, mF = 1, I₁ = 1/2, I₂ = 1/2, Ω = -1>\n",
       "       0.08+0.00j x |B, J = 2, F₁ = 3/2, F = 1, mF = 1, I₁ = 1/2, I₂ = 1/2, Ω = 1>  ,\n",
       "       0.60+0.00j x |B, J = 2, F₁ = 3/2, F = 1, mF = 0, I₁ = 1/2, I₂ = 1/2, Ω = 1>\n",
       "       0.60+0.00j x |B, J = 2, F₁ = 3/2, F = 1, mF = 0, I₁ = 1/2, I₂ = 1/2, Ω = -1>\n",
       "       -0.37+0.00j x |B, J = 1, F₁ = 3/2, F = 1, mF = 0, I₁ = 1/2, I₂ = 1/2, Ω = 1>\n",
       "       0.37+0.00j x |B, J = 1, F₁ = 3/2, F = 1, mF = 0, I₁ = 1/2, I₂ = 1/2, Ω = -1>\n",
       "       -0.00+0.00j x |B, J = 1, F₁ = 1/2, F = 1, mF = 0, I₁ = 1/2, I₂ = 1/2, Ω = 1>\n",
       "       0.00+0.00j x |B, J = 1, F₁ = 1/2, F = 1, mF = 0, I₁ = 1/2, I₂ = 1/2, Ω = -1>],\n",
       "      dtype=object)"
      ]
     },
     "execution_count": 5,
     "metadata": {},
     "output_type": "execute_result"
    }
   ],
   "source": [
    "indices = qn_select.get_indices(QN_states)\n",
    "np.asarray(QN_states)[indices]"
   ]
  },
  {
   "cell_type": "code",
   "execution_count": 6,
   "metadata": {},
   "outputs": [
    {
     "name": "stdout",
     "output_type": "stream",
     "text": [
      "|B, J = 2, F₁ = 3/2, F = 1, mF = 1, I₁ = 1/2, I₂ = 1/2, Ω = 1>\n",
      "|B, J = 2, F₁ = 3/2, F = 1, mF = -1, I₁ = 1/2, I₂ = 1/2, Ω = -1>\n",
      "|B, J = 2, F₁ = 3/2, F = 1, mF = 0, I₁ = 1/2, I₂ = 1/2, Ω = -1>\n",
      "|B, J = 2, F₁ = 3/2, F = 1, mF = 1, I₁ = 1/2, I₂ = 1/2, Ω = -1>\n",
      "|B, J = 2, F₁ = 3/2, F = 1, mF = -1, I₁ = 1/2, I₂ = 1/2, Ω = 1>\n",
      "|B, J = 2, F₁ = 3/2, F = 1, mF = 0, I₁ = 1/2, I₂ = 1/2, Ω = 1>\n"
     ]
    }
   ],
   "source": [
    "for idx in indices:\n",
    "    print(QN_states[idx].largest)"
   ]
  },
  {
   "cell_type": "code",
   "execution_count": 7,
   "metadata": {},
   "outputs": [
    {
     "data": {
      "image/png": "[encoded data removed]",
      "text/plain": [
       "<Figure size 800x500 with 1 Axes>"
      ]
     },
     "metadata": {},
     "output_type": "display_data"
    }
   ],
   "source": [
    "fig, ax=  plt.subplots(figsize = (8,5))\n",
    "ax.plot((E[indices] - E[indices[0]]) / (2*np.pi*1e6), '.')\n",
    "\n",
    "ax.set_ylabel(\"Energy [MHz]\")\n",
    "\n",
    "ax.grid(True)"
   ]
  },
  {
   "cell_type": "code",
   "execution_count": 8,
   "metadata": {},
   "outputs": [
    {
     "name": "stdout",
     "output_type": "stream",
     "text": [
      "14.30 MHz\n"
     ]
    }
   ],
   "source": [
    "print(f\"{np.ptp(E[indices]) / (2*np.pi*1e6):.2f} MHz\")"
   ]
  },
  {
   "cell_type": "code",
   "execution_count": null,
   "metadata": {},
   "outputs": [],
   "source": []
  }
 ],
 "metadata": {
  "kernelspec": {
   "display_name": "centrex-tlf",
   "language": "python",
   "name": "python3"
  },
  "language_info": {
   "codemirror_mode": {
    "name": "ipython",
    "version": 3
   },
   "file_extension": ".py",
   "mimetype": "text/x-python",
   "name": "python",
   "nbconvert_exporter": "python",
   "pygments_lexer": "ipython3",
   "version": "3.9.16"
  },
  "orig_nbformat": 4,
  "vscode": {
   "interpreter": {
    "hash": "ce93d6a7a231c0dfdc9b9cbfa88f0a8a869cb66939855c1a18d089a9d5c60067"
   }
  }
 },
 "nbformat": 4,
 "nbformat_minor": 2
}
