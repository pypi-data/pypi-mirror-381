{
 "cells": [
  {
   "cell_type": "code",
   "execution_count": 8,
   "metadata": {},
   "outputs": [],
   "source": [
    "import numpy as np\n",
    "\n",
    "from centrex_tlf import states, hamiltonian"
   ]
  },
  {
   "cell_type": "code",
   "execution_count": 33,
   "metadata": {},
   "outputs": [],
   "source": [
    "Jmin = None\n",
    "Jmax = None\n",
    "\n",
    "nuclear_spins = states.TlFNuclearSpins()\n",
    "constants = hamiltonian.XConstants()\n",
    "\n",
    "rtol = None\n",
    "stol = 1e-3\n",
    "\n",
    "E = np.array([0, 0, 0])\n",
    "B = np.array([0, 0, 1e-5])\n",
    "# smaller than 1e-5 some X states are degenerate again and states.find_exact_states will\n",
    "# find duplicate states"
   ]
  },
  {
   "cell_type": "code",
   "execution_count": 10,
   "metadata": {},
   "outputs": [],
   "source": [
    "X_select = states.QuantumSelector(J=list(range(9)))\n",
    "X_states_approx = states.generate_coupled_states_X(X_select)"
   ]
  },
  {
   "cell_type": "code",
   "execution_count": 11,
   "metadata": {},
   "outputs": [],
   "source": [
    "_Jmin = min([gs.J for gs in X_states_approx]) if Jmin is None else Jmin\n",
    "_Jmax = max([gs.J for gs in X_states_approx]) if Jmax is None else Jmax"
   ]
  },
  {
   "cell_type": "code",
   "execution_count": 13,
   "metadata": {},
   "outputs": [],
   "source": [
    "QN = states.generate_uncoupled_states_ground(\n",
    "    Js=np.arange(_Jmin, _Jmax + 1), nuclear_spins=nuclear_spins\n",
    ")\n",
    "QNc = states.generate_coupled_states_ground(\n",
    "    Js=np.arange(_Jmin, _Jmax + 1), nuclear_spins=nuclear_spins\n",
    ")"
   ]
  },
  {
   "cell_type": "code",
   "execution_count": 14,
   "metadata": {},
   "outputs": [],
   "source": [
    "H_X_uc = hamiltonian.generate_uncoupled_hamiltonian_X(QN, constants=constants)\n",
    "H_X_uc_func = hamiltonian.generate_uncoupled_hamiltonian_X_function(H_X_uc)"
   ]
  },
  {
   "cell_type": "code",
   "execution_count": 15,
   "metadata": {},
   "outputs": [],
   "source": [
    "S_transform = hamiltonian.generate_transform_matrix(QN, QNc)"
   ]
  },
  {
   "cell_type": "code",
   "execution_count": 35,
   "metadata": {},
   "outputs": [],
   "source": [
    "H_X = S_transform.conj().T @ H_X_uc_func(E, B) @ S_transform\n",
    "if rtol:\n",
    "    H_X[np.abs(H_X) < np.abs(H_X).max() * rtol] = 0"
   ]
  },
  {
   "cell_type": "code",
   "execution_count": 36,
   "metadata": {},
   "outputs": [],
   "source": [
    "H_diagonalized = hamiltonian.generate_diagonalized_hamiltonian(\n",
    "    H_X, keep_order=True, return_V_ref=True, rtol=rtol\n",
    ")\n",
    "QN_diag = hamiltonian.matrix_to_states(H_diagonalized.V, list(QNc))"
   ]
  },
  {
   "cell_type": "code",
   "execution_count": 37,
   "metadata": {},
   "outputs": [],
   "source": [
    "ground_states = states.find_exact_states(\n",
    "    [1 * gs for gs in X_states_approx],\n",
    "    list(QNc),\n",
    "    QN_diag,\n",
    "    V=H_diagonalized.V,\n",
    "    # V_ref=H_diagonalized.V_ref_,\n",
    ")\n",
    "ground_states = [gs.remove_small_components(stol) for gs in ground_states]\n",
    "\n",
    "H_X_red = hamiltonian.reduced_basis_hamiltonian(\n",
    "    QN_diag, H_diagonalized.H, ground_states\n",
    ")"
   ]
  },
  {
   "cell_type": "code",
   "execution_count": 38,
   "metadata": {},
   "outputs": [],
   "source": [
    "H_X_red = hamiltonian.reduced_hamiltonian.ReducedHamiltonian(\n",
    "    H=H_X_red, V=H_diagonalized.V, QN_basis=ground_states, QN_construct=list(QNc)\n",
    ")"
   ]
  }
 ],
 "metadata": {
  "kernelspec": {
   "display_name": "centrex-tlf",
   "language": "python",
   "name": "python3"
  },
  "language_info": {
   "codemirror_mode": {
    "name": "ipython",
    "version": 3
   },
   "file_extension": ".py",
   "mimetype": "text/x-python",
   "name": "python",
   "nbconvert_exporter": "python",
   "pygments_lexer": "ipython3",
   "version": "3.9.18"
  },
  "orig_nbformat": 4,
  "vscode": {
   "interpreter": {
    "hash": "ce93d6a7a231c0dfdc9b9cbfa88f0a8a869cb66939855c1a18d089a9d5c60067"
   }
  }
 },
 "nbformat": 4,
 "nbformat_minor": 2
}
