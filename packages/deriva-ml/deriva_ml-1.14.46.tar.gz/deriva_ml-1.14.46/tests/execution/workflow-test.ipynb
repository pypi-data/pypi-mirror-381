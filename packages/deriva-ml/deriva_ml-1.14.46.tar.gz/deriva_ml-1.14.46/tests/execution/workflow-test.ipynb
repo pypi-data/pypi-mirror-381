{
 "cells": [
  {
   "cell_type": "markdown",
   "id": "0",
   "metadata": {},
   "source": [
    "# Notebook template for executing code using DerivaML.\n",
    "\n",
    "This notebook should be modified to perform the desired calcuation and *COMITTED* to Gihub prior to execution."
   ]
  },
  {
   "cell_type": "code",
   "execution_count": null,
   "id": "1",
   "metadata": {},
   "outputs": [],
   "source": [
    "from deriva_ml import DerivaML, MLVocab as vc, ExecutionConfiguration\n",
    "import os"
   ]
  },
  {
   "cell_type": "markdown",
   "id": "2",
   "metadata": {},
   "source": [
    "## Parameters cell\n"
   ]
  },
  {
   "cell_type": "code",
   "execution_count": null,
   "id": "3",
   "metadata": {
    "tags": [
     "parameters"
    ]
   },
   "outputs": [],
   "source": [
    "host = None\n",
    "catalog = None"
   ]
  },
  {
   "cell_type": "code",
   "execution_count": null,
   "id": "4",
   "metadata": {},
   "outputs": [],
   "source": [
    "# Modify these to your desired server and catalog.\n",
    "host = host or os.environ.get(\"DERIVA_HOST\")\n",
    "catalog = catalog or os.environ.get(\"DERIVA_CATALOG\")\n",
    "\n",
    "# Change this line to call the domain specific class derived from DerivaML\n",
    "ml_instance = DerivaML(host, catalog)\n",
    "\n",
    "ml_instance.add_term(vc.asset_type, \"Test Model\", description=\"Model for our Test workflow\")\n",
    "ml_instance.add_term(vc.workflow_type, \"Test Workflow\", description=\"A ML Workflow that uses Deriva ML API\")\n",
    "\n",
    "api_workflow = ml_instance.create_workflow(\n",
    "     name=\"Test Workflow One\",\n",
    "     workflow_type=\"Test Workflow\",\n",
    "     description=\"A test operation\",\n",
    " )\n",
    "rid = ml_instance.add_workflow(api_workflow)\n",
    "\n",
    "execution_config = ExecutionConfiguration(description=\"Sample Execution\", workflow=api_workflow)\n",
    "execution = ml_instance.create_execution(execution_config)\n",
    "with execution.execute() as e:\n",
    "    pass\n",
    "execution.upload_execution_outputs()\n"
   ]
  }
 ],
 "metadata": {
  "kernelspec": {
   "display_name": "deriva-test",
   "language": "python",
   "name": "deriva-test"
  },
  "language_info": {
   "codemirror_mode": {
    "name": "ipython",
    "version": 2
   },
   "file_extension": ".py",
   "mimetype": "text/x-python",
   "name": "python",
   "nbconvert_exporter": "python",
   "pygments_lexer": "ipython2",
   "version": "2.7.6"
  }
 },
 "nbformat": 4,
 "nbformat_minor": 5
}
