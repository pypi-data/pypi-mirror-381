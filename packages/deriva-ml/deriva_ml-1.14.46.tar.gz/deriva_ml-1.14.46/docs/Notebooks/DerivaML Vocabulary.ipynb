{
 "cells": [
  {
   "cell_type": "markdown",
   "id": "0",
   "metadata": {},
   "source": [
    "# DerivaML Vocabulary\n",
    "\n",
    "DerivaML is a class library built on the Deriva Scientific Asset management system that is designed to help simplify a number of the basic operations associated with building and testing ML libraries based on common toolkits such as TensorFlow.  This notebook reviews the basic features of the DerivaML library.\n",
    "\n",
    "A core aspect of DerivaML is the extensive use of controlled vocabulary terms.  A vocabulary term may be something defined outside of the study, for example from an ontology like Uberon or Schema.org, or it can be a term that is defined and used locally by the ML team.  The purpose of using controlled vocabulary is that it makes it easier to find data and can help ensure that proper communication is taking place between members of the ML team."
   ]
  },
  {
   "cell_type": "markdown",
   "id": "1",
   "metadata": {},
   "source": [
    "## Preliminaries.\n",
    "\n",
    "To start, we will do some preliminaries, loading needed modules and making sure we are logged into the DerivaML server."
   ]
  },
  {
   "cell_type": "code",
   "id": "2",
   "metadata": {
    "ExecuteTime": {
     "end_time": "2025-06-06T21:12:17.642500Z",
     "start_time": "2025-06-06T21:12:16.168200Z"
    }
   },
   "source": [
    "from IPython.display import display, Markdown, HTML\n",
    "import pandas as pd\n",
    "from deriva.core.utils.globus_auth_utils import GlobusNativeLogin\n",
    "from deriva_ml.demo_catalog import create_demo_catalog, DemoML\n",
    "from deriva_ml import MLVocab"
   ],
   "outputs": [],
   "execution_count": 1
  },
  {
   "cell_type": "code",
   "id": "3",
   "metadata": {
    "ExecuteTime": {
     "end_time": "2025-06-06T21:12:20.383347Z",
     "start_time": "2025-06-06T21:12:20.344740Z"
    }
   },
   "source": [
    "hostname = 'dev.eye-ai.org'   # This needs to be changed.\n",
    "\n",
    "gnl = GlobusNativeLogin(host=hostname)\n",
    "if gnl.is_logged_in([hostname]):\n",
    "    print(\"You are already logged in.\")\n",
    "else:\n",
    "    gnl.login([hostname], no_local_server=True, no_browser=True, refresh_tokens=True, update_bdbag_keychain=True)\n",
    "    print(\"Login Successful\")"
   ],
   "outputs": [
    {
     "name": "stdout",
     "output_type": "stream",
     "text": [
      "You are already logged in.\n"
     ]
    }
   ],
   "execution_count": 2
  },
  {
   "cell_type": "markdown",
   "id": "4",
   "metadata": {},
   "source": [
    "### Create a test catalog.\n",
    "Create a test catalog and get an instance of the DerivaML class.  This will take around 30 seconds, so be patient."
   ]
  },
  {
   "cell_type": "code",
   "id": "5",
   "metadata": {
    "ExecuteTime": {
     "end_time": "2025-06-06T21:12:53.290591Z",
     "start_time": "2025-06-06T21:12:24.856557Z"
    }
   },
   "source": [
    "test_catalog = create_demo_catalog(hostname)\n",
    "ml_instance = DemoML(hostname, test_catalog.catalog_id)"
   ],
   "outputs": [
    {
     "name": "stderr",
     "output_type": "stream",
     "text": [
      "2025-06-06 14:12:47,103 - deriva_ml.WARNING - File /Users/carl/Repos/Projects/deriva-ml/docs/Notebooks/DerivaML Vocabulary.ipynb has been modified since last commit. Consider commiting before executing\n"
     ]
    },
    {
     "data": {
      "text/plain": [
       "<IPython.core.display.Markdown object>"
      ],
      "text/markdown": "Execution RID: https://dev.eye-ai.org/id/2060/3SC@33D-VDH5-6N1W"
     },
     "metadata": {},
     "output_type": "display_data"
    }
   ],
   "execution_count": 3
  },
  {
   "cell_type": "markdown",
   "id": "6",
   "metadata": {},
   "source": [
    "### Explore existing vocabularies.\n",
    "Get a list of all the currently defined controlled vocabularies"
   ]
  },
  {
   "cell_type": "code",
   "id": "7",
   "metadata": {
    "ExecuteTime": {
     "end_time": "2025-06-06T21:12:53.473300Z",
     "start_time": "2025-06-06T21:12:53.305180Z"
    }
   },
   "source": [
    "ml_instance.find_vocabularies()"
   ],
   "outputs": [
    {
     "ename": "AttributeError",
     "evalue": "'DemoML' object has no attribute 'find_vocabularies'",
     "output_type": "error",
     "traceback": [
      "\u001B[0;31m---------------------------------------------------------------------------\u001B[0m",
      "\u001B[0;31mAttributeError\u001B[0m                            Traceback (most recent call last)",
      "Cell \u001B[0;32mIn[4], line 1\u001B[0m\n\u001B[0;32m----> 1\u001B[0m \u001B[43mml_instance\u001B[49m\u001B[38;5;241;43m.\u001B[39;49m\u001B[43mfind_vocabularies\u001B[49m()\n",
      "\u001B[0;31mAttributeError\u001B[0m: 'DemoML' object has no attribute 'find_vocabularies'"
     ]
    }
   ],
   "execution_count": 4
  },
  {
   "cell_type": "markdown",
   "id": "8",
   "metadata": {},
   "source": [
    "Let's look at the contents of one of the predefined vocabularies in the DerivaML library.  We can make this look nicer with a Panda.\n",
    "Many of the datatypes in DerivaML are represented by [Pydantic](https://docs.pydantic.dev/latest/) data classes.  These have a number of methods that can make it easy to operate on them.  The one we are going to use here is `model_dump()`, which converts a dataclass into a dictionary."
   ]
  },
  {
   "cell_type": "code",
   "execution_count": null,
   "id": "9",
   "metadata": {},
   "outputs": [],
   "source": [
    "display(\n",
    "    Markdown(f\"#### Contents of controlled vocabulary {MLVocab.execution_metadata_type}\"),\n",
    "    pd.DataFrame([v.model_dump() for v in ml_instance.list_vocabulary_terms(MLVocab.execution_metadata_type)])\n",
    ")"
   ]
  },
  {
   "cell_type": "markdown",
   "id": "10",
   "metadata": {},
   "source": [
    "### Creating a new controlled vocabulary.\n",
    "Now let's create a new controlled vocabulary to house terms that are specific to the problem we are working on."
   ]
  },
  {
   "cell_type": "code",
   "execution_count": null,
   "id": "11",
   "metadata": {},
   "outputs": [],
   "source": [
    "ml_instance.create_vocabulary(\"My term set\", comment=\"Terms to use for generating tests\")"
   ]
  },
  {
   "cell_type": "code",
   "execution_count": null,
   "id": "12",
   "metadata": {},
   "outputs": [],
   "source": [
    "ml_instance.find_vocabularies()"
   ]
  },
  {
   "cell_type": "markdown",
   "id": "13",
   "metadata": {},
   "source": [
    "#### Adding terms\n",
    "Given our new controlled vocabulary, we can add terms to it.  A term has a name, that should uniquely identify it within the vocabulary, a description of what the term means, and finally a list of synonyms. Each term is assigned a resource identifier (RID) by the deriva platform.  There are other additional features of terms that facilitate integration from preexisting vocabularies that are beyond the scope of this notebook.  You can look at the class documentation for these details."
   ]
  },
  {
   "cell_type": "code",
   "execution_count": null,
   "id": "14",
   "metadata": {},
   "outputs": [],
   "source": [
    "for i in range(5):\n",
    "    ml_instance.add_term(\"My term set\", f\"Term{i}\", description=f\"My term {i}\", synonyms=[f\"t{i}\", f\"T{i}\"])"
   ]
  },
  {
   "cell_type": "code",
   "id": "15",
   "metadata": {
    "ExecuteTime": {
     "end_time": "2025-06-06T21:11:15.795882Z",
     "start_time": "2025-06-06T21:11:15.335291Z"
    }
   },
   "source": [
    "display(\n",
    "    Markdown('#### Contents of controlled vocabulary \"My term set'),\n",
    "    pd.DataFrame([v.model_dump() for v in ml_instance.list_vocabulary_terms(\"My term set\")])\n",
    ")"
   ],
   "outputs": [
    {
     "ename": "NameError",
     "evalue": "name 'ml_instance' is not defined",
     "output_type": "error",
     "traceback": [
      "\u001B[0;31m---------------------------------------------------------------------------\u001B[0m",
      "\u001B[0;31mNameError\u001B[0m                                 Traceback (most recent call last)",
      "Cell \u001B[0;32mIn[2], line 3\u001B[0m\n\u001B[1;32m      1\u001B[0m display(\n\u001B[1;32m      2\u001B[0m     Markdown(\u001B[38;5;124m'\u001B[39m\u001B[38;5;124m#### Contents of controlled vocabulary \u001B[39m\u001B[38;5;124m\"\u001B[39m\u001B[38;5;124mMy term set\u001B[39m\u001B[38;5;124m'\u001B[39m),\n\u001B[0;32m----> 3\u001B[0m     pd\u001B[38;5;241m.\u001B[39mDataFrame([v\u001B[38;5;241m.\u001B[39mmodel_dump() \u001B[38;5;28;01mfor\u001B[39;00m v \u001B[38;5;129;01min\u001B[39;00m \u001B[43mml_instance\u001B[49m\u001B[38;5;241m.\u001B[39mlist_vocabulary_terms(\u001B[38;5;124m\"\u001B[39m\u001B[38;5;124mMy term set\u001B[39m\u001B[38;5;124m\"\u001B[39m)])\n\u001B[1;32m      4\u001B[0m )\n",
      "\u001B[0;31mNameError\u001B[0m: name 'ml_instance' is not defined"
     ]
    }
   ],
   "execution_count": 2
  },
  {
   "cell_type": "markdown",
   "id": "16",
   "metadata": {},
   "source": [
    "#### Looking up terms\n",
    "We can also look up individual terms, either by their name, or by a synonym"
   ]
  },
  {
   "cell_type": "code",
   "execution_count": null,
   "id": "17",
   "metadata": {},
   "outputs": [],
   "source": [
    "display(\n",
    "    ml_instance.lookup_term(\"My term set\", \"Term0\"),\n",
    "    ml_instance.lookup_term(\"My term set\", \"Term2\"),\n",
    "    ml_instance.lookup_term('My term set', 'T3'),\n",
    ")"
   ]
  },
  {
   "cell_type": "markdown",
   "id": "18",
   "metadata": {},
   "source": [
    "#### Browsing terms in the user interface\n",
    "All the terms we define in the API are of course visible via the Chaise use interface."
   ]
  },
  {
   "cell_type": "code",
   "execution_count": null,
   "id": "19",
   "metadata": {},
   "outputs": [],
   "source": [
    "display(HTML(f'<a href={ml_instance.chaise_url(\"My term set\")}>Browse vocabulary: My term set</a>'))"
   ]
  },
  {
   "cell_type": "code",
   "execution_count": null,
   "id": "20",
   "metadata": {},
   "outputs": [],
   "source": [
    "test_catalog.delete_ermrest_catalog(really=True)"
   ]
  }
 ],
 "metadata": {
  "kernelspec": {
   "display_name": "deriva-ml",
   "language": "python",
   "name": "deriva-ml"
  },
  "language_info": {
   "codemirror_mode": {
    "name": "ipython",
    "version": 3
   },
   "file_extension": ".py",
   "mimetype": "text/x-python",
   "name": "python",
   "nbconvert_exporter": "python",
   "pygments_lexer": "ipython3",
   "version": "3.12.2"
  }
 },
 "nbformat": 4,
 "nbformat_minor": 5
}
