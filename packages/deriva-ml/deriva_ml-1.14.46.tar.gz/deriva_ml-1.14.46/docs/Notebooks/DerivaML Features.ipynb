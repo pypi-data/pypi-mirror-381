{
 "cells": [
  {
   "cell_type": "markdown",
   "id": "0",
   "metadata": {},
   "source": [
    "# DerivaML Features\n",
    "\n",
    "DerivaML is a class library built on the Deriva Scientific Asset management system that is designed to help simplify a number of the basic operations associated with building and testing ML libraries based on common toolkits such as TensorFlow.  This notebook reviews the basic features of the DerivaML library.\n",
    "\n",
    "\n",
    "In DerivaML, \"features\" are the way we attach values to objects in the catalog. A feature could be a computed value that serves as input to a ML model, or it could be a label, that is the result of running a model.  A feature can be a controlled vocabulary term, an asset, or a value.\n",
    "\n",
    "Each feature in the catalog is distinguished by the name of the feature, the identity of the object that the feature is being attached to, and the execution RID of the process that generated the feature value\n",
    "\n",
    "## Set up Deriva for test case"
   ]
  },
  {
   "cell_type": "code",
   "execution_count": null,
   "id": "1",
   "metadata": {},
   "outputs": [],
   "source": [
    "%load_ext autoreload\n",
    "%autoreload 2"
   ]
  },
  {
   "cell_type": "code",
   "execution_count": null,
   "id": "2",
   "metadata": {},
   "outputs": [],
   "source": [
    "import builtins\n",
    "from deriva.core.utils.globus_auth_utils import GlobusNativeLogin\n",
    "from deriva_ml import ColumnDefinition, BuiltinTypes, MLVocab, DerivaSystemColumns\n",
    "from deriva_ml.demo_catalog import create_demo_catalog, DemoML\n",
    "from deriva_ml import ExecutionConfiguration\n",
    "from IPython.display import display, Markdown, HTML\n",
    "import itertools\n",
    "import pandas as pd\n",
    "import random"
   ]
  },
  {
   "cell_type": "markdown",
   "id": "3",
   "metadata": {},
   "source": [
    "Set the details for the catalog we want and authenticate to the server if needed."
   ]
  },
  {
   "cell_type": "code",
   "execution_count": null,
   "id": "4",
   "metadata": {},
   "outputs": [],
   "source": [
    "hostname = 'localhost'\n",
    "domain_schema = 'demo-schema'\n",
    "\n",
    "gnl = GlobusNativeLogin(host=hostname)\n",
    "if gnl.is_logged_in([hostname]):\n",
    "    print(\"You are already logged in.\")\n",
    "else:\n",
    "    gnl.login([hostname], no_local_server=True, no_browser=True, refresh_tokens=True, update_bdbag_keychain=True)\n",
    "    print(\"Login Successful\")"
   ]
  },
  {
   "cell_type": "markdown",
   "id": "5",
   "metadata": {},
   "source": [
    "Create a test catalog and get an instance of the DerivaML class."
   ]
  },
  {
   "cell_type": "code",
   "execution_count": null,
   "id": "6",
   "metadata": {},
   "outputs": [],
   "source": [
    "test_catalog = create_demo_catalog(hostname, domain_schema)\n",
    "ml_instance = DemoML(hostname, test_catalog.catalog_id)\n",
    "display(f\"Created demo catalog at {hostname}:{test_catalog.catalog_id}\")"
   ]
  },
  {
   "cell_type": "markdown",
   "id": "7",
   "metadata": {},
   "source": [
    "## Define Features\n",
    "A feature is a set of values that are attached to a table in the DerivaML catalog. Instances of features are distinguished from one another by the ID of the execution that produced the feature value. The execution could be the result of a program, or it could be a manual process by which a person defines a set of values\n",
    "\n",
    "To create a new feature, we need to know the name of the feature, the table to which it is attached, and the set of values that make up the feature.  The values could be terms from a controlled vocabulary, a set of one or more file based assets, or other values, such as integers, or strings. However, use of strings outside of controlled vocabularies is discouraged.\n",
    "\n",
    "For our example, we are going to define three features.  Two of them will use values from a controlled vocabulary, which we need to\n",
    "create.  The third feature will consist of a file whose contents we will generate.  To start, we will need to create the controlled \n",
    "vocabularies, and create an asset table for the feature values."
   ]
  },
  {
   "cell_type": "code",
   "execution_count": null,
   "id": "8",
   "metadata": {},
   "outputs": [],
   "source": [
    "# Prerequisites for our feature, which will include a CV term and asset.\n",
    "\n",
    "# Create a vocabulary and add a term to it to use in our features.\n",
    "ml_instance.create_vocabulary(\"SubjectHealth\", \"A vocab\")\n",
    "ml_instance.add_term(\"SubjectHealth\", \"Sick\", description=\"The subject self reports that they are sick\")\n",
    "ml_instance.add_term(\"SubjectHealth\", \"Well\", description=\"The subject self reports that they feel well\")\n",
    "\n",
    "ml_instance.create_vocabulary(\"ImageQuality\", \"Controlled vocabulary for image quality\")\n",
    "ml_instance.add_term(\"ImageQuality\", \"Good\", description=\"The image is good\")\n",
    "ml_instance.add_term(\"ImageQuality\", \"Bad\", description=\"The image is bad\")\n",
    "\n",
    "box_asset = ml_instance.create_asset(\"BoundingBox\", comment=\"A file that contains a cropped version of a image\")"
   ]
  },
  {
   "cell_type": "markdown",
   "id": "9",
   "metadata": {},
   "source": [
    "We are now ready to create our new features. Each feature will be associated with a table, have a name, and then the set of values that \n",
    "define the feature. After we create the features, we can list the features associated with each table type that we have."
   ]
  },
  {
   "cell_type": "code",
   "execution_count": null,
   "id": "10",
   "metadata": {},
   "outputs": [],
   "source": [
    "ml_instance.create_feature(\"Subject\", \"Health\",\n",
    "                                        terms=[\"SubjectHealth\"],\n",
    "                                        metadata=[ColumnDefinition(name='Scale', type=BuiltinTypes.int2, nullok=True)],\n",
    "                           optional=['Scale'])\n",
    "\n",
    "ml_instance.create_feature('Image', 'BoundingBox', assets=[box_asset])\n",
    "ml_instance.create_feature('Image', 'Quality', terms=[\"ImageQuality\"])\n",
    "\n",
    "display(\n",
    "    [f'{f.target_table.name}:{f.feature_name}' for f in ml_instance.find_features(\"Subject\")],\n",
    "    [f'{f.target_table.name}:{f.feature_name}' for f in ml_instance.find_features(\"Image\")]\n",
    ")"
   ]
  },
  {
   "cell_type": "markdown",
   "id": "11",
   "metadata": {},
   "source": [
    "Now we can add some features to our images.  To streamline the creation of new feature, we create a class that is specific to the arguments required to create it."
   ]
  },
  {
   "cell_type": "code",
   "execution_count": null,
   "id": "12",
   "metadata": {},
   "outputs": [],
   "source": [
    "ImageQualityFeature = ml_instance.feature_record_class(\"Image\", \"Quality\")\n",
    "ImageBoundingboxFeature = ml_instance.feature_record_class(\"Image\", \"BoundingBox\")\n",
    "SubjectWellnessFeature= ml_instance.feature_record_class(\"Subject\", \"Health\")\n",
    "\n",
    "display(\n",
    "    Markdown('### SubjectWellnessFeature'),\n",
    "    Markdown(f'* feature_columns: ' f'```{[c.name for c in SubjectWellnessFeature.feature_columns()]}```'),\n",
    "    Markdown(f'* required columns: ' f'```{[c.name  for c in SubjectWellnessFeature.feature_columns() if not c.nullok]}```'),\n",
    "    Markdown(f'* term columns: ' f'```{[c.name for c in SubjectWellnessFeature.term_columns()]}```'),\n",
    "    Markdown(f'* value columns: ' f'```{[c.name for c in SubjectWellnessFeature.value_columns()]}```'),\n",
    "    Markdown(f'* asset columns: ' f'```{[c.name for c in SubjectWellnessFeature.asset_columns()]}```'),\n",
    "\n",
    "    Markdown('### ImageQualityFeature'),\n",
    "    Markdown( f'* feature_columns:* ' f'```{[c.name for c in ImageQualityFeature.feature_columns()]}```'),\n",
    "    Markdown(f'*  required columns:* ' f'```{[c.name  for c in ImageQualityFeature.feature_columns() if not c.nullok]}```'),\n",
    "    Markdown(f'* term columns: * ' f'```{[c.name for c in ImageQualityFeature.term_columns()]}```'),\n",
    "    Markdown(f'* value columns: * ' f'```{[c.name for c in ImageQualityFeature.value_columns()]}```'),\n",
    "    Markdown(f'* asset columns: * ' f'```{[c.name for c in ImageQualityFeature.asset_columns()]}```'),\n",
    "\n",
    "    Markdown('### ImageBoundingboxFeature'),\n",
    "    Markdown( f'* feature_columns:* ' f'```{[c.name for c in ImageBoundingboxFeature.feature_columns()]}```'),\n",
    "    Markdown(f'* required columns:* ' f'```{[c.name  for c in ImageBoundingboxFeature.feature_columns() if not c.nullok]}```'),\n",
    "    Markdown( f'* term columns:* ' f'```{[c.name for c in ImageBoundingboxFeature.term_columns()]}```'),\n",
    "    Markdown( f'* value columns:* ' f'```{[c.name for c in ImageBoundingboxFeature.value_columns()]}```'),\n",
    "    Markdown( f'* asset columns:* ' f'```{[c.name for c in ImageBoundingboxFeature.asset_columns()]}```'),\n",
    ")"
   ]
  },
  {
   "cell_type": "markdown",
   "id": "13",
   "metadata": {},
   "source": [
    "## Add feature values\n",
    "\n",
    "Now using feature classes, we can create some instances of the feature and add them.  We must have a execution_rid in order to define the feature. In our example, we will assume that the execution that calculates the feature values will use a model file to configure it, so ww will need to create and upload the file before we can start the execution."
   ]
  },
  {
   "cell_type": "code",
   "execution_count": null,
   "id": "14",
   "metadata": {},
   "outputs": [],
   "source": [
    "ml_instance.add_term(MLVocab.workflow_type, \"Feature Notebook Workflow\", description=\"A Workflow that uses Deriva ML API\")\n",
    "ml_instance.add_term(MLVocab.asset_type, \"API_Model\", description=\"Model for our Notebook workflow\")\n",
    "\n",
    "# Get the workflow for this notebook\n",
    "notebook_workflow = ml_instance.create_workflow(\n",
    "    name=\"API Workflow\", \n",
    "    workflow_type=\"Feature Notebook Workflow\"\n",
    ")\n",
    "\n",
    "feature_execution = ml_instance.create_execution(\n",
    "    ExecutionConfiguration(\n",
    "        workflow=notebook_workflow,\n",
    "        description=\"Our Sample Workflow instance\")\n",
    ")"
   ]
  },
  {
   "cell_type": "code",
   "execution_count": null,
   "id": "15",
   "metadata": {},
   "outputs": [],
   "source": [
    "# Get the IDs of al of the things that we are going to want to attach features to.\n",
    "subject_rids = [i['RID'] for i in ml_instance.domain_path.tables['Subject'].entities().fetch()]\n",
    "image_rids = [i['RID'] for i in ml_instance.domain_path.tables['Image'].entities().fetch()]"
   ]
  },
  {
   "cell_type": "markdown",
   "id": "16",
   "metadata": {},
   "source": [
    "Now that we have the list of objects that we want to add features to, we can define the sets of feature values we want to record and then add these features in the catalog."
   ]
  },
  {
   "cell_type": "code",
   "execution_count": null,
   "id": "17",
   "metadata": {},
   "outputs": [],
   "source": [
    "# Create a new set of images.  For fun, lets wrap this in an execution so we get status updates\n",
    "image_bounding_box_feature_list = []\n",
    "for cnt, image_rid in enumerate(image_rids):\n",
    "    bounding_box_file = feature_execution.asset_file_path(\"BoundingBox\", f\"box{cnt}.txt\")\n",
    "    with open(bounding_box_file, \"w\") as fp:\n",
    "        fp.write(f\"Hi there {cnt}\")\n",
    "    image_bounding_box_feature_list.append(   ImageBoundingboxFeature(Image=image_rid, BoundingBox=bounding_box_file)\n",
    "    )\n",
    "\n",
    "image_quality_feature_list = [\n",
    "    ImageQualityFeature(\n",
    "        Image=image_rid,\n",
    "        ImageQuality=[\"Good\", \"Bad\"][random.randint(0, 1)],\n",
    "    )\n",
    "    for image_rid in image_rids\n",
    "]\n",
    "\n",
    "subject_feature_list = [\n",
    "    SubjectWellnessFeature(\n",
    "        Subject=subject_rid,\n",
    "        SubjectHealth=[\"Well\", \"Sick\"][random.randint(0, 1)],\n",
    "        Scale=random.randint(1, 10),\n",
    "    )\n",
    "    for subject_rid in subject_rids\n",
    "]\n",
    "\n",
    "with feature_execution.execute() as execution:\n",
    "    feature_execution.add_features(image_bounding_box_feature_list)\n",
    "    feature_execution.add_features(image_quality_feature_list)\n",
    "    feature_execution.add_features(subject_feature_list)\n",
    "\n",
    "# Upload all of the new assets that we have created during the execution.\n",
    "feature_execution.upload_execution_outputs()"
   ]
  },
  {
   "cell_type": "code",
   "execution_count": null,
   "id": "18",
   "metadata": {},
   "outputs": [],
   "source": [
    "display(\n",
    "    Markdown('### Wellness'),\n",
    "    pd.DataFrame(ml_instance.list_feature_values(\"Subject\", \"Health\")).drop(columns=DerivaSystemColumns + ['Feature_Name']),\n",
    "    Markdown('### Image Quality'),\n",
    "    pd.DataFrame(ml_instance.list_feature_values(\"Image\", \"Quality\")).drop(columns=DerivaSystemColumns + ['Feature_Name']),\n",
    "    Markdown('### BoundingBox'),\n",
    "    pd.DataFrame(ml_instance.list_feature_values(\"Image\", \"BoundingBox\")).drop(columns=DerivaSystemColumns + ['Feature_Name']),\n",
    ")"
   ]
  },
  {
   "cell_type": "code",
   "execution_count": null,
   "id": "19",
   "metadata": {},
   "outputs": [],
   "source": [
    "display(HTML(f'<a href={ml_instance.chaise_url(\"Subject\")}>Browse Subject Table</a>'))"
   ]
  },
  {
   "cell_type": "code",
   "execution_count": null,
   "id": "20",
   "metadata": {},
   "outputs": [],
   "source": [
    "test_catalog.delete_ermrest_catalog(really=True)"
   ]
  }
 ],
 "metadata": {
  "kernelspec": {
   "display_name": "deriva-test",
   "language": "python",
   "name": "deriva-test"
  },
  "language_info": {
   "codemirror_mode": {
    "name": "ipython",
    "version": 3
   },
   "file_extension": ".py",
   "mimetype": "text/x-python",
   "name": "python",
   "nbconvert_exporter": "python",
   "pygments_lexer": "ipython3",
   "version": "3.12.2"
  }
 },
 "nbformat": 4,
 "nbformat_minor": 5
}
