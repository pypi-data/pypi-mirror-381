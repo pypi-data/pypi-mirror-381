{
 "cells": [
  {
   "cell_type": "markdown",
   "id": "0",
   "metadata": {},
   "source": [
    "# DerivaML Execution\n",
    "\n",
    "DerivaML is a class library built on the Deriva Scientific Asset management system that is designed to help simplify a number of the basic operations associated with building and testing ML libraries based on common toolkits such as TensorFlow.  This notebook reviews the basic features of the DerivaML library."
   ]
  },
  {
   "cell_type": "code",
   "execution_count": null,
   "id": "1",
   "metadata": {},
   "outputs": [],
   "source": [
    "%load_ext autoreload\n",
    "%autoreload 2"
   ]
  },
  {
   "cell_type": "code",
   "execution_count": null,
   "id": "2",
   "metadata": {},
   "outputs": [],
   "source": [
    "import builtins\n",
    "from deriva.core.utils.globus_auth_utils import GlobusNativeLogin\n",
    "from deriva_ml import ExecutionConfiguration, MLVocab, DerivaSystemColumns, DatasetSpec\n",
    "from deriva_ml.demo_catalog import create_demo_catalog, DemoML\n",
    "from IPython.display import display, Markdown, JSON\n",
    "import itertools\n",
    "import pandas as pd"
   ]
  },
  {
   "cell_type": "markdown",
   "id": "3",
   "metadata": {},
   "source": [
    "Set the details for the catalog we want and authenticate to the server if needed."
   ]
  },
  {
   "cell_type": "code",
   "execution_count": null,
   "id": "4",
   "metadata": {},
   "outputs": [],
   "source": [
    "hostname = 'dev.eye-ai.org'\n",
    "domain_schema = 'demo-schema'\n",
    "\n",
    "gnl = GlobusNativeLogin(host=hostname)\n",
    "if gnl.is_logged_in([hostname]):\n",
    "    print(\"You are already logged in.\")\n",
    "else:\n",
    "    gnl.login([hostname], no_local_server=True, no_browser=True, refresh_tokens=True, update_bdbag_keychain=True)\n",
    "    print(\"Login Successful\")\n"
   ]
  },
  {
   "cell_type": "markdown",
   "id": "5",
   "metadata": {},
   "source": [
    "Create a test catalog and get an instance of the DerivaML class.  Use options so that we create some initial datasets and features.  Use the exploration API to find out what features and datasets we have."
   ]
  },
  {
   "cell_type": "code",
   "execution_count": null,
   "id": "6",
   "metadata": {},
   "outputs": [],
   "source": [
    "test_catalog = create_demo_catalog(hostname, domain_schema, create_features=True, create_datasets=True)\n",
    "ml_instance = DemoML(hostname, test_catalog.catalog_id)\n",
    "print(f'Creating catalog at {ml_instance.catalog_id}')"
   ]
  },
  {
   "cell_type": "code",
   "execution_count": null,
   "id": "7",
   "metadata": {},
   "outputs": [],
   "source": [
    "display(\n",
    "    Markdown('## Datasets'),\n",
    "    pd.DataFrame(ml_instance.find_datasets()).drop(columns=DerivaSystemColumns),\n",
    "\n",
    "    Markdown('## Features'),\n",
    "    [f'{f.target_table.name}:{f.feature_name}' for f in ml_instance.find_features(\"Subject\")],\n",
    "    [f'{f.target_table.name}:{f.feature_name}' for f in ml_instance.find_features(\"Image\")]\n",
    ")"
   ]
  },
  {
   "cell_type": "code",
   "execution_count": null,
   "id": "8",
   "metadata": {},
   "outputs": [],
   "source": [
    "datasets = pd.DataFrame(ml_instance.find_datasets()).drop(columns=DerivaSystemColumns)\n",
    "training_dataset_rid = [ds['RID'] for ds in ml_instance.find_datasets() if 'Training' in ds['Dataset_Type']][0]\n",
    "testing_dataset_rid = [ds['RID'] for ds in ml_instance.find_datasets() if 'Testing' in ds['Dataset_Type']][0]\n",
    "\n",
    "display(\n",
    "    Markdown(f'Training Dataset: {training_dataset_rid}'),\n",
    "    Markdown('## Datasets'),\n",
    "    datasets)"
   ]
  },
  {
   "cell_type": "markdown",
   "id": "9",
   "metadata": {},
   "source": [
    "## Initializing the environment for an execution\n",
    "\n",
    "In DerivaML, the catalog is the source of record for all of the data created and used by a machine learning experiment.  While we can use the Deriva API to interact directly with the catalog, DerivaML provides a much simpler way of retrieving and adding data to a catalog.\n",
    "\n",
    "The core concept in this process is an execution.  An execution can be the process of training a model, of executing a model, for running analysis scripts, or even a manual operation.  Every execution in DerivaML is uniquely identified by a *resource identifier* (RID).\n",
    "\n",
    "The steps involved in creating and using an execution are:\n",
    "1. Create an Execution configuration object that identifies the inputs, and code for the execution.\n",
    "2. Create a workflow object to represent the code/operation that you will perform\n",
    "3. Create an execution instance, which will download all of the required inputs from the catalog\n",
    "Locate the input files using methods in the execution instance\n",
    "4. Perform your computation, placing output files in locations provided by the execution instance methods\n",
    "5. Upload the results of the computation using the execution instance methods. This will upload all of your files and tag them with the execution RID so you know how they were generated.  In addition, and new tabular data in CSV format will be uploaded to corrisponding tables in the catalog.\n",
    "\n",
    "\n",
    "### Creating an `ExectutionConfiguration`\n",
    "An execution can be described by the datasets and files that it needs, the code that it runs, and the resulting files that it creates.\n",
    "This information is captured in an ExecutionConfiguration object:\n",
    "\n",
    "\n",
    "    class ExecutionConfiguration:\n",
    "     \"\"\"\n",
    "        Define the parameters that are used to configure a specific execution.\n",
    "\n",
    "        Arguments:\n",
    "            datasets: List of dataset RIDS, MINIDS for datasets to be downloaded prior to execution.  By default,\n",
    "                     all  the datasets are materialized. However, if the assets associated with a dataset are not\n",
    "                     needed, a dictionary that defines the rid and the materialization parameter for the\n",
    "                     download_dataset_bag method can be specified, e.g.  datasets=[{'rid': RID, 'materialize': True}].\n",
    "            assets: List of assets to be downloaded prior to execution.  The values must be RIDs in an asset table\n",
    "            workflow: A workflow instance.  Must have a name, URI to the workflow instance, and a type.\n",
    "            description: A description of the execution.  Can use markdown format.\n",
    "\n",
    "## Creating a `Workflow`\n",
    "\n",
    "The actual code that is being run is represented by a `Workflow` class.  A workflow class is intended to be quite general and could be a Python script, a Jupyter notebook, a manual process, or even a Airflow or some other type of workflow system.  In order to create a workflow class instance, we will need to have a name for the workflow, a URI to name the resource that the workflow is capturing, and a workflow type.\n",
    "\n",
    "The url for the workflow will depend on what the workflow is actually doing. In general, its a good idea to make the URL a reference to a tagged code or repository in GitHub. This will require some disiplane on your process to ensure that you always have workflows that are commited and tagged in a repo.\n",
    "\n",
    "The workflow type is a controlled vocabulary.  You can create new workflow types using the standard APIs for adding terms.\n"
   ]
  },
  {
   "cell_type": "code",
   "execution_count": null,
   "id": "10",
   "metadata": {},
   "outputs": [],
   "source": [
    "ml_instance.add_term(MLVocab.workflow_type, \"Execution Notebook\", description=\"Notebook for demonstrating executions\")\n",
    "ml_instance.add_term(MLVocab.asset_type, \"API_Model\", description=\"Model for our API workflow\")\n",
    "\n",
    "api_workflow = ml_instance.create_workflow(\n",
    "    name=\"Execution Notebook Workflow\",\n",
    "    workflow_type=\"Execution Notebook\",\n",
    "    description=\"Demonstration notebook\"\n",
    ")\n",
    "\n",
    "notebook_execution = ml_instance.create_execution(ExecutionConfiguration( description=\"Sample Execution\", workflow=api_workflow))\n",
    "\n",
    "# Now lets create model configuration for our program.\n",
    "model_file = notebook_execution.asset_file_path(\"Execution_Asset\",'modelfile.txt', asset_types=\"API_Model\")\n",
    "with builtins.open(model_file, \"w\") as fp:\n",
    "    fp.write(f\"My model\")\n",
    "\n",
    "# Now upload the file and retrieve the RID of the new asset from the returned results.\n",
    "uploaded_assets = notebook_execution.upload_execution_outputs()\n",
    "training_model_rid = [a.asset_rid  for a  in uploaded_assets['deriva-ml/Execution_Asset'] if 'API_Model' in a.asset_types][0]\n",
    "\n",
    "display(\n",
    "    Markdown(f'## Training Model: {training_model_rid}'),\n",
    "    JSON(ml_instance.retrieve_rid(training_model_rid))\n",
    ")"
   ]
  },
  {
   "cell_type": "markdown",
   "id": "11",
   "metadata": {},
   "source": [
    "### Setup for a ML run\n"
   ]
  },
  {
   "cell_type": "code",
   "execution_count": null,
   "id": "12",
   "metadata": {},
   "outputs": [],
   "source": [
    "ml_instance.add_term(MLVocab.workflow_type, \"ML Demo\", description=\"A ML Workflow that uses Deriva ML API\")\n",
    "\n",
    "config = ExecutionConfiguration(\n",
    "        assets = [training_model_rid],\n",
    "    description=\"Notebook ML Execution\",\n",
    "    workflow=api_workflow,\n",
    "    datasets=[DatasetSpec(rid=training_dataset_rid, version=ml_instance.dataset_version(training_dataset_rid)),\n",
    "            DatasetSpec(rid=testing_dataset_rid, version=ml_instance.dataset_version(training_dataset_rid), materialize=False)],\n",
    ")\n",
    "\n",
    "ml_execution = ml_instance.create_execution(config)"
   ]
  },
  {
   "cell_type": "code",
   "execution_count": null,
   "id": "13",
   "metadata": {},
   "outputs": [],
   "source": [
    "ml_execution.asset_paths"
   ]
  },
  {
   "cell_type": "code",
   "execution_count": null,
   "id": "14",
   "metadata": {},
   "outputs": [],
   "source": [
    "with ml_execution.execute() as deriva_exec:\n",
    "    # Get the input datasets:\n",
    "    training_dataset = ml_execution.datasets[0]  # Input dataset\n",
    "    image_rids = training_dataset.get_table_as_dataframe('Image')['RID']\n",
    "\n",
    "    # Get input files\n",
    "    with open(ml_execution.asset_paths[0], 'rt') as model_file:\n",
    "        training_model = model_file.read()\n",
    "        print(f'Got model file: {training_model}')\n",
    "\n",
    "    # Put your ML code here....\n",
    "    pass\n",
    "\n",
    "    # Write a new model\n",
    "    model_file = ml_execution.asset_path('API_Model', 'modelfile.txt')\n",
    "    with open(model_file, 'w') as f:\n",
    "        f.write(\"Hello there a new model;\\n\")\n",
    "\n",
    "    # Create some new feature values.\n",
    "    bb_csv_path, bb_asset_paths = ml_execution.execution_asset_path('BoundingBox')\n",
    "    bounding_box_files = [bb_asset_paths['BoundingBox'] / f\"box{i}.txt\" for i in range(10)]\n",
    "    for i in range(10):\n",
    "        bounding_box_files.append(fn := bb_asset_paths['BoundingBox'] / f\"box{i}.txt\")\n",
    "        with builtins.open(fn, \"w\") as fp:\n",
    "            fp.write(f\"Hi there {i}\")\n",
    "\n",
    "    ImageBoundingboxFeature = ml_instance.feature_record_class(\"Image\", \"BoundingBox\")\n",
    "    image_bounding_box_feature_list = [ImageBoundingboxFeature(Image=image_rid,\n",
    "                                                               Execution=ml_execution.execution_rid,\n",
    "                                                               BoundingBox=asset_rid)\n",
    "                                       for image_rid, asset_rid in zip(image_rids, itertools.cycle(bounding_box_files))]\n",
    "\n",
    "    ml_execution.add_features(image_bounding_box_feature_list)\n",
    "\n",
    "upload_status = ml_execution.upload_execution_outputs()"
   ]
  },
  {
   "cell_type": "markdown",
   "id": "15",
   "metadata": {},
   "source": [
    "Now lets check the assets produced by this execution to make sure that they are what we expect."
   ]
  },
  {
   "cell_type": "code",
   "execution_count": null,
   "id": "16",
   "metadata": {},
   "outputs": [],
   "source": [
    "# Get datapath to the ML schema.\n",
    "schema_path = ml_instance.pathBuilder.schemas[ml_instance.ml_schema]\n",
    "\n",
    "# Now get path to the execution table, and get our execution record.  We filter on the RID for the\n",
    "# execution we are looking for.\n",
    "executions = schema_path.Execution.filter(schema_path.Execution.RID == ml_execution.execution_rid)\n",
    "execution_info = list(executions.entities().fetch())[0]\n",
    "\n",
    "# To get the assets for the execution, we need to go through the linking table to the assets.\n",
    "asset_path = executions.link(schema_path.Execution_Asset_Execution).link(schema_path.Execution_Asset)\n",
    "pd.DataFrame(asset_path.entities().fetch()).drop(columns=DerivaSystemColumns + ['MD5'])\n",
    "\n",
    "# Now lets display our results.\n",
    "display(\n",
    "    Markdown(f'### Execution: {ml_execution.execution_rid}'),\n",
    "    JSON(execution_info),\n",
    "    Markdown(f'### Execution Assets'),\n",
    "    pd.DataFrame(asset_path.entities().fetch()).drop(columns=DerivaSystemColumns + ['MD5']),\n",
    ")"
   ]
  },
  {
   "cell_type": "code",
   "execution_count": null,
   "id": "17",
   "metadata": {},
   "outputs": [],
   "source": [
    "test_catalog.delete_ermrest_catalog(really=True)"
   ]
  }
 ],
 "metadata": {
  "kernelspec": {
   "display_name": "deriva-test",
   "language": "python",
   "name": "deriva-test"
  },
  "language_info": {
   "codemirror_mode": {
    "name": "ipython",
    "version": 3
   },
   "file_extension": ".py",
   "mimetype": "text/x-python",
   "name": "python",
   "nbconvert_exporter": "python",
   "pygments_lexer": "ipython3",
   "version": "3.12.2"
  }
 },
 "nbformat": 4,
 "nbformat_minor": 5
}
