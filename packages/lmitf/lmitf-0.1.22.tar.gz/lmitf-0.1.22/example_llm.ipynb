{
 "cells": [
  {
   "cell_type": "markdown",
   "id": "b9ff5154",
   "metadata": {},
   "source": [
    "# LLM(Large Language Model) 使用示例"
   ]
  },
  {
   "cell_type": "markdown",
   "id": "6e85500f",
   "metadata": {},
   "source": [
    "## 1 包导入"
   ]
  },
  {
   "cell_type": "code",
   "execution_count": 1,
   "id": "cb691ac4",
   "metadata": {},
   "outputs": [],
   "source": [
    "import lmitf\n",
    "from lmitf import BaseLLM\n",
    "from lmitf import TemplateLLM"
   ]
  },
  {
   "cell_type": "markdown",
   "id": "40731a09",
   "metadata": {},
   "source": [
    "## 2 QA示例\n",
    "llm.call 方法接受几乎所有 OpenAI 的可选参数。默认使用 `gpt-4o` 模型，如需使用其他模型，可在调用时通过 `model` 参数指定。  \n",
    "可选模型详见聚合 API 网站，这里以 [DMXAPI](https://www.dmxapi.cn/pricing) 为例。"
   ]
  },
  {
   "cell_type": "markdown",
   "id": "a2410617",
   "metadata": {},
   "source": [
    "### 2.1 单次问讯"
   ]
  },
  {
   "cell_type": "code",
   "execution_count": 2,
   "id": "3b278225",
   "metadata": {},
   "outputs": [
    {
     "name": "stdout",
     "output_type": "stream",
     "text": [
      "\u001b[1m\n",
      "===================================== 👤 =====================================\u001b[0m\n",
      "Who is the president of the United States?\n",
      "\u001b[1m\n",
      "===================================== 🤖 =====================================\u001b[0m\n",
      "As of my last knowledge update in October 2023, the President of the United States is **Joe Biden**. He officially took office on January 20, 2021. If you're checking this at a later date, I recommend verifying with current sources to ensure accuracy.\n"
     ]
    }
   ],
   "source": [
    "llm = BaseLLM()\n",
    "q = \"Who is the president of the United States?\"\n",
    "llm.call(\n",
    "    messages=[{'role': 'user', 'content': q}],\n",
    "    response_format='text',\n",
    ")\n",
    "llm.print_history()"
   ]
  },
  {
   "cell_type": "markdown",
   "id": "e641b54c",
   "metadata": {},
   "source": [
    "### 2.2 多轮对话\n",
    "基于示例化后的 `llm` 对象，在 `messages` 中添加多轮对话的历史记录。"
   ]
  },
  {
   "cell_type": "code",
   "execution_count": 3,
   "id": "c8fcbb40",
   "metadata": {},
   "outputs": [
    {
     "name": "stdout",
     "output_type": "stream",
     "text": [
      "\u001b[1m\n",
      "===================================== 👤 =====================================\u001b[0m\n",
      "Who is the president of the United States?\n",
      "\u001b[1m\n",
      "===================================== 🤖 =====================================\u001b[0m\n",
      "As of my last knowledge update in October 2023, the President of the United States is **Joe Biden**. He officially took office on January 20, 2021. If you're checking this at a later date, I recommend verifying with current sources to ensure accuracy.\n",
      "\u001b[1m\n",
      "===================================== 👤 =====================================\u001b[0m\n",
      "Where is the president from?\n",
      "\u001b[1m\n",
      "===================================== 🤖 =====================================\u001b[0m\n",
      "President **Joe Biden** is from **Scranton, Pennsylvania**. He was born there on **November 20, 1942**, and spent his early years in Scranton before his family moved to **Delaware** when he was 10 years old. Biden considers Delaware his home state, as he lived there for most of his life, launched his political career there, and represented Delaware in the U.S. Senate for 36 years.\n"
     ]
    }
   ],
   "source": [
    "q1 = \"Where is the president from?\"\n",
    "res = llm.call(\n",
    "    messages=llm.call_history + [{'role': 'user', 'content': q1}],\n",
    "    response_format='text',\n",
    ")\n",
    "llm.print_history()"
   ]
  },
  {
   "cell_type": "markdown",
   "id": "01e2443a",
   "metadata": {},
   "source": [
    "## 3 Embedding获取示例"
   ]
  },
  {
   "cell_type": "code",
   "execution_count": 4,
   "id": "ca9bbe2d",
   "metadata": {},
   "outputs": [
    {
     "name": "stdout",
     "output_type": "stream",
     "text": [
      "embedding shape: (3072,)\n"
     ]
    },
    {
     "data": {
      "image/png": "[encoded data removed]",
      "text/plain": [
       "<Figure size 1200x100 with 1 Axes>"
      ]
     },
     "metadata": {},
     "output_type": "display_data"
    }
   ],
   "source": [
    "text = \"hello world\"\n",
    "emed = llm.call_embed(\n",
    "    input=text,\n",
    "    model=\"text-embedding-3-large\"\n",
    ")\n",
    "\n",
    "import numpy as np\n",
    "import matplotlib.pyplot as plt\n",
    "emed = np.array(emed)\n",
    "print(f\"embedding shape: {emed.shape}\")\n",
    "plt.figure(figsize=(12, 1))\n",
    "plt.imshow(emed.reshape(1, -1), aspect='auto')\n",
    "plt.axis('off')\n",
    "plt.show()\n"
   ]
  },
  {
   "cell_type": "markdown",
   "id": "22d2f61a",
   "metadata": {},
   "source": [
    "## 4 模版化LLM调用\n",
    "本节将演示如何自定义模版，并通过 `TemplateLLM` 进行调用。  \n",
    "以下代码定义了一个 RDF 三元组抽取任务的 prompt模版\n",
    "你也可以自己定义模版，遵循类似\"[text2triples.py](https://github.com/colehank/AI-interface/blob/main/lmitf/datasets/llm_prompts/text2triples.py)\" 的格式。\n",
    "\n",
    "```python"
   ]
  },
  {
   "cell_type": "code",
   "execution_count": 5,
   "id": "cc59f026",
   "metadata": {},
   "outputs": [
    {
     "name": "stdout",
     "output_type": "stream",
     "text": [
      "Template loaded from\n",
      "/Users/zgh/Desktop/workingdir/AI-interface/lmitf/datasets/llm_prompts/text2triples.py\n"
     ]
    }
   ],
   "source": [
    "template = lmitf.prompts.llm_prompts['text2triples'] # 数据库中的模板\n",
    "template_llm = TemplateLLM(template) # 这里的template为一个.py文件路径，用户可以自己定义模版后传入TemplateLLM"
   ]
  },
  {
   "cell_type": "code",
   "execution_count": 6,
   "id": "7a6b87a3",
   "metadata": {},
   "outputs": [
    {
     "name": "stdout",
     "output_type": "stream",
     "text": [
      "\u001b[1m\n",
      "===================================== ⚙️ =====================================\u001b[0m\n",
      "Your task is to construct an RDF (Resource Description Framework) graph from the given passages and named entity lists.\n",
      "Respond with a JSON list of triples, with each triple representing a relationship in the RDF graph.\n",
      "\n",
      "Pay attention to the following requirements:\n",
      "- Each triple should contain at least one, but preferably two, of the named entities in the list for each passage.\n",
      "- Clearly resolve pronouns to their specific names to maintain clarity.\n",
      "\n",
      "\u001b[1m\n",
      "===================================== 👤 =====================================\u001b[0m\n",
      "\n",
      "Convert the paragraph into a JSON dict,\n",
      "it has a named entity list and a triple list.\n",
      "\n",
      "Paragraph:\n",
      "Radio City is India's first private FM radio station and was started on 3 July 2001.\n",
      "It plays Hindi, English and regional songs.\n",
      "Radio City recently forayed into New Media in May 2008 with the launch of a music portal - PlanetRadiocity.com that offers music related news, videos, songs, and other music-related features.\n",
      "\n",
      "Named Entities:\n",
      "[\"Radio City\", \"India\", \"3 July 2001\", \"Hindi\", \"English\", \"May 2008\", \"PlanetRadiocity.com\"]\n",
      "\n",
      "\u001b[1m\n",
      "===================================== 🤖 =====================================\u001b[0m\n",
      "{\"triples\": [\n",
      "            [\"Radio City\", \"located in\", \"India\"],\n",
      "            [\"Radio City\", \"is\", \"private FM radio station\"],\n",
      "            [\"Radio City\", \"started on\", \"3 July 2001\"],\n",
      "            [\"Radio City\", \"plays songs in\", \"Hindi\"],\n",
      "            [\"Radio City\", \"plays songs in\", \"English\"],\n",
      "            [\"Radio City\", \"forayed into\", \"New Media\"],\n",
      "            [\"Radio City\", \"launched\", \"PlanetRadiocity.com\"],\n",
      "            [\"PlanetRadiocity.com\", \"launched in\", \"May 2008\"],\n",
      "            [\"PlanetRadiocity.com\", \"is\", \"music portal\"],\n",
      "            [\"PlanetRadiocity.com\", \"offers\", \"news\"],\n",
      "            [\"PlanetRadiocity.com\", \"offers\", \"videos\"],\n",
      "            [\"PlanetRadiocity.com\", \"offers\", \"songs\"]\n",
      "    ]\n",
      "}\n",
      "\u001b[1m\n",
      "===================================== 👤 =====================================\u001b[0m\n",
      "\n",
      "Convert the paragraph into a JSON dict,\n",
      "it has a named entity list and a triple list.\n",
      "\n",
      "Paragraph:\n",
      "$passage\n",
      "\n",
      "Named Entities:\n",
      "$named_entities\n",
      "\n"
     ]
    }
   ],
   "source": [
    "lmitf.print_turn(template_llm.prompt_template)"
   ]
  },
  {
   "cell_type": "code",
   "execution_count": 7,
   "id": "db2bcba4",
   "metadata": {},
   "outputs": [
    {
     "data": {
      "text/plain": [
       "{'triples': [['Xiaoming', 'born in', 'Sichuan'],\n",
       "  ['Xiaoming', 'studies at', 'Beijing Normal University'],\n",
       "  ['Beijing Normal University', 'located in', 'Beijing'],\n",
       "  ['Xiaoming', 'belongs to', 'psychology department']]}"
      ]
     },
     "execution_count": 7,
     "metadata": {},
     "output_type": "execute_result"
    }
   ],
   "source": [
    "res = template_llm.call(\n",
    "    passage=\"\"\"\n",
    "    Xiaoming, borned in Sichuan, \n",
    "    studies at Beijing Normal University, \n",
    "    belongs to its psychology department.\n",
    "    \"\"\",\n",
    "    named_entities=[\"Xiaoming\", \"Beijing\", \"Beijing Normal University\", \"psychology\"],\n",
    "    response_format='json',\n",
    "    temperature=1.5,\n",
    ")\n",
    "res"
   ]
  },
  {
   "cell_type": "markdown",
   "id": "821cfc4e",
   "metadata": {},
   "source": [
    "如上说明了该模版LLM需要在调用的时候提供`passage`, `named_entities`。对于自定义模版，仅需要在`conditioned_frame`用`$`表示需传入的参数即可，工具会自动解析"
   ]
  },
  {
   "cell_type": "code",
   "execution_count": 8,
   "id": "1dd1a384",
   "metadata": {},
   "outputs": [
    {
     "data": {
      "image/png": "[encoded data removed]",
      "text/plain": [
       "<Figure size 640x480 with 1 Axes>"
      ]
     },
     "metadata": {},
     "output_type": "display_data"
    }
   ],
   "source": [
    "import networkx as nx\n",
    "import matplotlib.pyplot as plt\n",
    "\n",
    "G = nx.DiGraph()\n",
    "for head, relation, tail in res['triples']:\n",
    "    G.add_edge(head, tail, label=relation)\n",
    "\n",
    "pos = nx.spring_layout(G)\n",
    "plt.figure()\n",
    "nx.draw(G, pos, with_labels=True)\n",
    "edge_labels = nx.get_edge_attributes(G, 'label')\n",
    "nx.draw_networkx_edge_labels(G, pos, edge_labels=edge_labels, font_color='red')\n",
    "plt.axis('off')\n",
    "plt.show()"
   ]
  }
 ],
 "metadata": {
  "kernelspec": {
   "display_name": "base",
   "language": "python",
   "name": "python3"
  },
  "language_info": {
   "codemirror_mode": {
    "name": "ipython",
    "version": 3
   },
   "file_extension": ".py",
   "mimetype": "text/x-python",
   "name": "python",
   "nbconvert_exporter": "python",
   "pygments_lexer": "ipython3",
   "version": "3.12.2"
  }
 },
 "nbformat": 4,
 "nbformat_minor": 5
}
