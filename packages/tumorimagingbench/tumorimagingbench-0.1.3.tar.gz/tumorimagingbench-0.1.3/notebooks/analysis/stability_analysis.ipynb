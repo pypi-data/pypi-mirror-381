{
 "cells": [
  {
   "cell_type": "code",
   "execution_count": 5,
   "metadata": {},
   "outputs": [],
   "source": [
    "import pandas as pd\n",
    "import pickle\n",
    "import numpy as np\n",
    "from sklearn.metrics.pairwise import cosine_similarity\n"
   ]
  },
  {
   "cell_type": "code",
   "execution_count": 6,
   "metadata": {},
   "outputs": [],
   "source": [
    "# Load features from a pickle file\n",
    "feature_dict_path = \"/home/suraj/Repositories/FM-extractors-radiomics/evaluation/features/rider_features.pkl\" # Path to the pickle file containing features\n",
    "with open(feature_dict_path, 'rb') as file: # Open the file in read binary mode\n",
    "    data = pickle.load(file) # Load the data from the pickle file"
   ]
  },
  {
   "cell_type": "code",
   "execution_count": 13,
   "metadata": {},
   "outputs": [],
   "source": [
    "similarity_scores = []\n",
    "\n",
    "for model, df in data.items():\n",
    "    data_list = []\n",
    "    for idx, item in enumerate(df[\"train\"]):\n",
    "        row = item[\"row\"]\n",
    "        if item[\"feature\"].shape[0] != 1:\n",
    "            item[\"feature\"] = np.mean(item[\"feature\"], axis=0, keepdims=1)\n",
    "\n",
    "        for i in range(item[\"feature\"].shape[1]):\n",
    "            row[f\"feature_{i}\"] = item[\"feature\"][0, i]\n",
    "        data_list.append(row)\n",
    "\n",
    "    df = pd.DataFrame(data_list)\n",
    "    df[\"Category\"] = df[\"PatientID\"].apply(lambda x: x.split(\"-\")[-1])\n",
    "    df[\"PatientID\"] = df[\"PatientID\"].apply(lambda x: x.split(\"-\")[0])\n",
    "\n",
    "    # Group by PatientID\n",
    "    grouped = df.groupby(\"PatientID\")\n",
    "\n",
    "    row = {\n",
    "        \"Model\": model\n",
    "    }\n",
    "    # List to store results\n",
    "    similarity_results = []\n",
    "\n",
    "    # Iterate over each group\n",
    "    for patient_id, group in grouped:\n",
    "        # Separate test and retest\n",
    "        test_features = group[group[\"Category\"] == \"test\"].filter(like=\"feature\").values\n",
    "        retest_features = group[group[\"Category\"] == \"retest\"].filter(like=\"feature\").values\n",
    "\n",
    "        # Calculate cosine similarity if both test and retest are available\n",
    "        if test_features.size > 0 and retest_features.size > 0:\n",
    "            similarity = cosine_similarity(test_features, retest_features)\n",
    "            similarity_results.append({\n",
    "                \"PatientID\": patient_id,\n",
    "                \"CosineSimilarity\": similarity.mean() # Average similarity\n",
    "            })\n",
    "\n",
    "        row.update({patient_id: similarity.mean()})\n",
    "\n",
    "    similarity_scores.append(row)"
   ]
  },
  {
   "cell_type": "code",
   "execution_count": 14,
   "metadata": {},
   "outputs": [
    {
     "data": {
      "text/html": [
       "<div>\n",
       "<style scoped>\n",
       "    .dataframe tbody tr th:only-of-type {\n",
       "        vertical-align: middle;\n",
       "    }\n",
       "\n",
       "    .dataframe tbody tr th {\n",
       "        vertical-align: top;\n",
       "    }\n",
       "\n",
       "    .dataframe thead th {\n",
       "        text-align: right;\n",
       "    }\n",
       "</style>\n",
       "<table border=\"1\" class=\"dataframe\">\n",
       "  <thead>\n",
       "    <tr style=\"text-align: right;\">\n",
       "      <th></th>\n",
       "      <th>Model</th>\n",
       "      <th>1129164940</th>\n",
       "      <th>1225316081</th>\n",
       "      <th>1286684383</th>\n",
       "      <th>1332496276</th>\n",
       "      <th>1344011628</th>\n",
       "      <th>1346917136</th>\n",
       "      <th>1500037140</th>\n",
       "      <th>1532432635</th>\n",
       "      <th>1760553574</th>\n",
       "      <th>...</th>\n",
       "      <th>2619750334</th>\n",
       "      <th>2655999012</th>\n",
       "      <th>2669524182</th>\n",
       "      <th>2799584460</th>\n",
       "      <th>3023568408</th>\n",
       "      <th>3115188676</th>\n",
       "      <th>3152132495</th>\n",
       "      <th>3160137230</th>\n",
       "      <th>6324870494</th>\n",
       "      <th>9763310455</th>\n",
       "    </tr>\n",
       "  </thead>\n",
       "  <tbody>\n",
       "    <tr>\n",
       "      <th>0</th>\n",
       "      <td>FMCIBExtractor</td>\n",
       "      <td>0.984755</td>\n",
       "      <td>0.991311</td>\n",
       "      <td>0.993948</td>\n",
       "      <td>0.988226</td>\n",
       "      <td>0.987306</td>\n",
       "      <td>0.992159</td>\n",
       "      <td>0.994090</td>\n",
       "      <td>0.990584</td>\n",
       "      <td>0.986328</td>\n",
       "      <td>...</td>\n",
       "      <td>0.992554</td>\n",
       "      <td>0.994005</td>\n",
       "      <td>0.992305</td>\n",
       "      <td>0.996201</td>\n",
       "      <td>0.986543</td>\n",
       "      <td>0.981461</td>\n",
       "      <td>0.989918</td>\n",
       "      <td>0.992072</td>\n",
       "      <td>0.987163</td>\n",
       "      <td>0.988515</td>\n",
       "    </tr>\n",
       "    <tr>\n",
       "      <th>1</th>\n",
       "      <td>CTFMExtractor</td>\n",
       "      <td>0.980054</td>\n",
       "      <td>0.972268</td>\n",
       "      <td>0.986338</td>\n",
       "      <td>0.976405</td>\n",
       "      <td>0.973627</td>\n",
       "      <td>0.984043</td>\n",
       "      <td>0.980602</td>\n",
       "      <td>0.989095</td>\n",
       "      <td>0.986237</td>\n",
       "      <td>...</td>\n",
       "      <td>0.972104</td>\n",
       "      <td>0.990409</td>\n",
       "      <td>0.984938</td>\n",
       "      <td>0.994559</td>\n",
       "      <td>0.990190</td>\n",
       "      <td>0.985550</td>\n",
       "      <td>0.965330</td>\n",
       "      <td>0.985030</td>\n",
       "      <td>0.970803</td>\n",
       "      <td>0.990520</td>\n",
       "    </tr>\n",
       "    <tr>\n",
       "      <th>2</th>\n",
       "      <td>CTClipVitExtractor</td>\n",
       "      <td>0.690198</td>\n",
       "      <td>0.966613</td>\n",
       "      <td>0.967126</td>\n",
       "      <td>0.979720</td>\n",
       "      <td>0.969774</td>\n",
       "      <td>0.985830</td>\n",
       "      <td>0.976854</td>\n",
       "      <td>0.987476</td>\n",
       "      <td>0.989507</td>\n",
       "      <td>...</td>\n",
       "      <td>0.990872</td>\n",
       "      <td>0.479299</td>\n",
       "      <td>0.904442</td>\n",
       "      <td>0.978727</td>\n",
       "      <td>0.879736</td>\n",
       "      <td>0.969456</td>\n",
       "      <td>0.935896</td>\n",
       "      <td>0.983428</td>\n",
       "      <td>0.924488</td>\n",
       "      <td>0.987791</td>\n",
       "    </tr>\n",
       "    <tr>\n",
       "      <th>3</th>\n",
       "      <td>PASTAExtractor</td>\n",
       "      <td>0.988589</td>\n",
       "      <td>0.984902</td>\n",
       "      <td>0.992129</td>\n",
       "      <td>0.994269</td>\n",
       "      <td>0.980483</td>\n",
       "      <td>0.988990</td>\n",
       "      <td>0.993281</td>\n",
       "      <td>0.986486</td>\n",
       "      <td>0.994789</td>\n",
       "      <td>...</td>\n",
       "      <td>0.982148</td>\n",
       "      <td>0.991020</td>\n",
       "      <td>0.994971</td>\n",
       "      <td>0.994306</td>\n",
       "      <td>0.991442</td>\n",
       "      <td>0.991297</td>\n",
       "      <td>0.990841</td>\n",
       "      <td>0.987193</td>\n",
       "      <td>0.990207</td>\n",
       "      <td>0.992046</td>\n",
       "    </tr>\n",
       "    <tr>\n",
       "      <th>4</th>\n",
       "      <td>VISTA3DExtractor</td>\n",
       "      <td>0.952474</td>\n",
       "      <td>0.942863</td>\n",
       "      <td>0.981147</td>\n",
       "      <td>0.970828</td>\n",
       "      <td>0.957722</td>\n",
       "      <td>0.959806</td>\n",
       "      <td>0.972630</td>\n",
       "      <td>0.962932</td>\n",
       "      <td>0.979448</td>\n",
       "      <td>...</td>\n",
       "      <td>0.972161</td>\n",
       "      <td>0.974797</td>\n",
       "      <td>0.973922</td>\n",
       "      <td>0.989251</td>\n",
       "      <td>0.972537</td>\n",
       "      <td>0.969385</td>\n",
       "      <td>0.960788</td>\n",
       "      <td>0.979471</td>\n",
       "      <td>0.960681</td>\n",
       "      <td>0.973082</td>\n",
       "    </tr>\n",
       "    <tr>\n",
       "      <th>5</th>\n",
       "      <td>VocoExtractor</td>\n",
       "      <td>0.999998</td>\n",
       "      <td>0.999992</td>\n",
       "      <td>0.999999</td>\n",
       "      <td>0.999993</td>\n",
       "      <td>0.999999</td>\n",
       "      <td>1.000000</td>\n",
       "      <td>1.000000</td>\n",
       "      <td>0.999995</td>\n",
       "      <td>1.000000</td>\n",
       "      <td>...</td>\n",
       "      <td>1.000000</td>\n",
       "      <td>0.999998</td>\n",
       "      <td>1.000000</td>\n",
       "      <td>0.999998</td>\n",
       "      <td>0.999998</td>\n",
       "      <td>0.999999</td>\n",
       "      <td>0.999997</td>\n",
       "      <td>1.000000</td>\n",
       "      <td>1.000000</td>\n",
       "      <td>0.999992</td>\n",
       "    </tr>\n",
       "    <tr>\n",
       "      <th>6</th>\n",
       "      <td>SUPREMExtractor</td>\n",
       "      <td>0.999454</td>\n",
       "      <td>0.998917</td>\n",
       "      <td>0.999582</td>\n",
       "      <td>0.999613</td>\n",
       "      <td>0.999423</td>\n",
       "      <td>0.999705</td>\n",
       "      <td>0.999516</td>\n",
       "      <td>0.999499</td>\n",
       "      <td>0.999667</td>\n",
       "      <td>...</td>\n",
       "      <td>0.999697</td>\n",
       "      <td>0.999494</td>\n",
       "      <td>0.999625</td>\n",
       "      <td>0.999662</td>\n",
       "      <td>0.999415</td>\n",
       "      <td>0.999435</td>\n",
       "      <td>0.999409</td>\n",
       "      <td>0.999566</td>\n",
       "      <td>0.999421</td>\n",
       "      <td>0.999711</td>\n",
       "    </tr>\n",
       "    <tr>\n",
       "      <th>7</th>\n",
       "      <td>MerlinExtractor</td>\n",
       "      <td>0.797546</td>\n",
       "      <td>0.756355</td>\n",
       "      <td>0.739302</td>\n",
       "      <td>0.831392</td>\n",
       "      <td>0.924906</td>\n",
       "      <td>0.854537</td>\n",
       "      <td>0.878959</td>\n",
       "      <td>0.796966</td>\n",
       "      <td>0.417270</td>\n",
       "      <td>...</td>\n",
       "      <td>0.885625</td>\n",
       "      <td>0.879914</td>\n",
       "      <td>0.825201</td>\n",
       "      <td>0.842104</td>\n",
       "      <td>0.908874</td>\n",
       "      <td>0.782401</td>\n",
       "      <td>0.893829</td>\n",
       "      <td>0.929624</td>\n",
       "      <td>0.833247</td>\n",
       "      <td>0.842944</td>\n",
       "    </tr>\n",
       "    <tr>\n",
       "      <th>8</th>\n",
       "      <td>MedImageInsightExtractor</td>\n",
       "      <td>0.997524</td>\n",
       "      <td>0.998003</td>\n",
       "      <td>0.998669</td>\n",
       "      <td>0.998706</td>\n",
       "      <td>0.998494</td>\n",
       "      <td>0.998673</td>\n",
       "      <td>0.998069</td>\n",
       "      <td>0.998142</td>\n",
       "      <td>0.998220</td>\n",
       "      <td>...</td>\n",
       "      <td>0.996315</td>\n",
       "      <td>0.997779</td>\n",
       "      <td>0.997982</td>\n",
       "      <td>0.998881</td>\n",
       "      <td>0.997696</td>\n",
       "      <td>0.996069</td>\n",
       "      <td>0.998863</td>\n",
       "      <td>0.998862</td>\n",
       "      <td>0.997702</td>\n",
       "      <td>0.996759</td>\n",
       "    </tr>\n",
       "    <tr>\n",
       "      <th>9</th>\n",
       "      <td>ModelsGenExtractor</td>\n",
       "      <td>0.961621</td>\n",
       "      <td>0.964430</td>\n",
       "      <td>0.983384</td>\n",
       "      <td>0.983220</td>\n",
       "      <td>0.972619</td>\n",
       "      <td>0.984502</td>\n",
       "      <td>0.983838</td>\n",
       "      <td>0.984862</td>\n",
       "      <td>0.987475</td>\n",
       "      <td>...</td>\n",
       "      <td>0.985298</td>\n",
       "      <td>0.991589</td>\n",
       "      <td>0.985709</td>\n",
       "      <td>0.992849</td>\n",
       "      <td>0.979574</td>\n",
       "      <td>0.968933</td>\n",
       "      <td>0.978932</td>\n",
       "      <td>0.982646</td>\n",
       "      <td>0.972922</td>\n",
       "      <td>0.989212</td>\n",
       "    </tr>\n",
       "  </tbody>\n",
       "</table>\n",
       "<p>10 rows × 27 columns</p>\n",
       "</div>"
      ],
      "text/plain": [
       "                      Model  1129164940  1225316081  1286684383  1332496276  \\\n",
       "0            FMCIBExtractor    0.984755    0.991311    0.993948    0.988226   \n",
       "1             CTFMExtractor    0.980054    0.972268    0.986338    0.976405   \n",
       "2        CTClipVitExtractor    0.690198    0.966613    0.967126    0.979720   \n",
       "3            PASTAExtractor    0.988589    0.984902    0.992129    0.994269   \n",
       "4          VISTA3DExtractor    0.952474    0.942863    0.981147    0.970828   \n",
       "5             VocoExtractor    0.999998    0.999992    0.999999    0.999993   \n",
       "6           SUPREMExtractor    0.999454    0.998917    0.999582    0.999613   \n",
       "7           MerlinExtractor    0.797546    0.756355    0.739302    0.831392   \n",
       "8  MedImageInsightExtractor    0.997524    0.998003    0.998669    0.998706   \n",
       "9        ModelsGenExtractor    0.961621    0.964430    0.983384    0.983220   \n",
       "\n",
       "   1344011628  1346917136  1500037140  1532432635  1760553574  ...  \\\n",
       "0    0.987306    0.992159    0.994090    0.990584    0.986328  ...   \n",
       "1    0.973627    0.984043    0.980602    0.989095    0.986237  ...   \n",
       "2    0.969774    0.985830    0.976854    0.987476    0.989507  ...   \n",
       "3    0.980483    0.988990    0.993281    0.986486    0.994789  ...   \n",
       "4    0.957722    0.959806    0.972630    0.962932    0.979448  ...   \n",
       "5    0.999999    1.000000    1.000000    0.999995    1.000000  ...   \n",
       "6    0.999423    0.999705    0.999516    0.999499    0.999667  ...   \n",
       "7    0.924906    0.854537    0.878959    0.796966    0.417270  ...   \n",
       "8    0.998494    0.998673    0.998069    0.998142    0.998220  ...   \n",
       "9    0.972619    0.984502    0.983838    0.984862    0.987475  ...   \n",
       "\n",
       "   2619750334  2655999012  2669524182  2799584460  3023568408  3115188676  \\\n",
       "0    0.992554    0.994005    0.992305    0.996201    0.986543    0.981461   \n",
       "1    0.972104    0.990409    0.984938    0.994559    0.990190    0.985550   \n",
       "2    0.990872    0.479299    0.904442    0.978727    0.879736    0.969456   \n",
       "3    0.982148    0.991020    0.994971    0.994306    0.991442    0.991297   \n",
       "4    0.972161    0.974797    0.973922    0.989251    0.972537    0.969385   \n",
       "5    1.000000    0.999998    1.000000    0.999998    0.999998    0.999999   \n",
       "6    0.999697    0.999494    0.999625    0.999662    0.999415    0.999435   \n",
       "7    0.885625    0.879914    0.825201    0.842104    0.908874    0.782401   \n",
       "8    0.996315    0.997779    0.997982    0.998881    0.997696    0.996069   \n",
       "9    0.985298    0.991589    0.985709    0.992849    0.979574    0.968933   \n",
       "\n",
       "   3152132495  3160137230  6324870494  9763310455  \n",
       "0    0.989918    0.992072    0.987163    0.988515  \n",
       "1    0.965330    0.985030    0.970803    0.990520  \n",
       "2    0.935896    0.983428    0.924488    0.987791  \n",
       "3    0.990841    0.987193    0.990207    0.992046  \n",
       "4    0.960788    0.979471    0.960681    0.973082  \n",
       "5    0.999997    1.000000    1.000000    0.999992  \n",
       "6    0.999409    0.999566    0.999421    0.999711  \n",
       "7    0.893829    0.929624    0.833247    0.842944  \n",
       "8    0.998863    0.998862    0.997702    0.996759  \n",
       "9    0.978932    0.982646    0.972922    0.989212  \n",
       "\n",
       "[10 rows x 27 columns]"
      ]
     },
     "execution_count": 14,
     "metadata": {},
     "output_type": "execute_result"
    }
   ],
   "source": [
    "similarity_df = pd.DataFrame(similarity_scores)\n",
    "similarity_df"
   ]
  },
  {
   "cell_type": "code",
   "execution_count": 50,
   "metadata": {},
   "outputs": [
    {
     "data": {
      "application/vnd.plotly.v1+json": {
       "config": {
        "plotlyServerURL": "https://plot.ly"
       },
       "data": [
        {
         "alignmentgroup": "True",
         "hovertemplate": "Model=%{x}<br>AverageSimilarity=%{y}<extra></extra>",
         "legendgroup": "",
         "marker": {
          "color": "purple",
          "opacity": 0.6,
          "pattern": {
           "shape": ""
          }
         },
         "name": "",
         "offsetgroup": "",
         "orientation": "v",
         "showlegend": false,
         "textposition": "auto",
         "type": "bar",
         "x": [
          "FMCIBExtractor",
          "CTFMExtractor",
          "CTClipVitExtractor",
          "PASTAExtractor",
          "VISTA3DExtractor",
          "VocoExtractor",
          "SUPREMExtractor",
          "MerlinExtractor",
          "MedImageInsightExtractor",
          "ModelsGenExtractor"
         ],
         "xaxis": "x",
         "y": [
          0.9902843213998354,
          0.9807018293784215,
          0.9272450850560114,
          0.9900133304878667,
          0.9691378990478161,
          0.9999973673900325,
          0.9995172612178155,
          0.8103054271482449,
          0.998052866429052,
          0.980965795632531
         ],
         "yaxis": "y"
        }
       ],
       "layout": {
        "annotations": [
         {
          "font": {
           "color": "black",
           "size": 25
          },
          "showarrow": false,
          "text": "0.99",
          "x": "FMCIBExtractor",
          "y": 0.9902843213998354,
          "yshift": 15
         },
         {
          "font": {
           "color": "black",
           "size": 25
          },
          "showarrow": false,
          "text": "0.98",
          "x": "CTFMExtractor",
          "y": 0.9807018293784215,
          "yshift": 15
         },
         {
          "font": {
           "color": "black",
           "size": 25
          },
          "showarrow": false,
          "text": "0.93",
          "x": "CTClipVitExtractor",
          "y": 0.9272450850560114,
          "yshift": 15
         },
         {
          "font": {
           "color": "black",
           "size": 25
          },
          "showarrow": false,
          "text": "0.99",
          "x": "PASTAExtractor",
          "y": 0.9900133304878667,
          "yshift": 15
         },
         {
          "font": {
           "color": "black",
           "size": 25
          },
          "showarrow": false,
          "text": "0.97",
          "x": "VISTA3DExtractor",
          "y": 0.9691378990478161,
          "yshift": 15
         },
         {
          "font": {
           "color": "black",
           "size": 25
          },
          "showarrow": false,
          "text": "1.00",
          "x": "VocoExtractor",
          "y": 0.9999973673900325,
          "yshift": 15
         },
         {
          "font": {
           "color": "black",
           "size": 25
          },
          "showarrow": false,
          "text": "1.00",
          "x": "SUPREMExtractor",
          "y": 0.9995172612178155,
          "yshift": 15
         },
         {
          "font": {
           "color": "black",
           "size": 25
          },
          "showarrow": false,
          "text": "0.81",
          "x": "MerlinExtractor",
          "y": 0.8103054271482449,
          "yshift": 15
         },
         {
          "font": {
           "color": "black",
           "size": 25
          },
          "showarrow": false,
          "text": "1.00",
          "x": "MedImageInsightExtractor",
          "y": 0.998052866429052,
          "yshift": 15
         },
         {
          "font": {
           "color": "black",
           "size": 25
          },
          "showarrow": false,
          "text": "0.98",
          "x": "ModelsGenExtractor",
          "y": 0.980965795632531,
          "yshift": 15
         }
        ],
        "barmode": "relative",
        "font": {
         "family": "Arial",
         "size": 30
        },
        "height": 1200,
        "legend": {
         "tracegroupgap": 0
        },
        "margin": {
         "b": 20,
         "l": 20,
         "r": 20,
         "t": 40
        },
        "showlegend": false,
        "template": {
         "data": {
          "bar": [
           {
            "error_x": {
             "color": "rgb(36,36,36)"
            },
            "error_y": {
             "color": "rgb(36,36,36)"
            },
            "marker": {
             "line": {
              "color": "white",
              "width": 0.5
             },
             "pattern": {
              "fillmode": "overlay",
              "size": 10,
              "solidity": 0.2
             }
            },
            "type": "bar"
           }
          ],
          "barpolar": [
           {
            "marker": {
             "line": {
              "color": "white",
              "width": 0.5
             },
             "pattern": {
              "fillmode": "overlay",
              "size": 10,
              "solidity": 0.2
             }
            },
            "type": "barpolar"
           }
          ],
          "carpet": [
           {
            "aaxis": {
             "endlinecolor": "rgb(36,36,36)",
             "gridcolor": "white",
             "linecolor": "white",
             "minorgridcolor": "white",
             "startlinecolor": "rgb(36,36,36)"
            },
            "baxis": {
             "endlinecolor": "rgb(36,36,36)",
             "gridcolor": "white",
             "linecolor": "white",
             "minorgridcolor": "white",
             "startlinecolor": "rgb(36,36,36)"
            },
            "type": "carpet"
           }
          ],
          "choropleth": [
           {
            "colorbar": {
             "outlinewidth": 1,
             "tickcolor": "rgb(36,36,36)",
             "ticks": "outside"
            },
            "type": "choropleth"
           }
          ],
          "contour": [
           {
            "colorbar": {
             "outlinewidth": 1,
             "tickcolor": "rgb(36,36,36)",
             "ticks": "outside"
            },
            "colorscale": [
             [
              0,
              "#440154"
             ],
             [
              0.1111111111111111,
              "#482878"
             ],
             [
              0.2222222222222222,
              "#3e4989"
             ],
             [
              0.3333333333333333,
              "#31688e"
             ],
             [
              0.4444444444444444,
              "#26828e"
             ],
             [
              0.5555555555555556,
              "#1f9e89"
             ],
             [
              0.6666666666666666,
              "#35b779"
             ],
             [
              0.7777777777777778,
              "#6ece58"
             ],
             [
              0.8888888888888888,
              "#b5de2b"
             ],
             [
              1,
              "#fde725"
             ]
            ],
            "type": "contour"
           }
          ],
          "contourcarpet": [
           {
            "colorbar": {
             "outlinewidth": 1,
             "tickcolor": "rgb(36,36,36)",
             "ticks": "outside"
            },
            "type": "contourcarpet"
           }
          ],
          "heatmap": [
           {
            "colorbar": {
             "outlinewidth": 1,
             "tickcolor": "rgb(36,36,36)",
             "ticks": "outside"
            },
            "colorscale": [
             [
              0,
              "#440154"
             ],
             [
              0.1111111111111111,
              "#482878"
             ],
             [
              0.2222222222222222,
              "#3e4989"
             ],
             [
              0.3333333333333333,
              "#31688e"
             ],
             [
              0.4444444444444444,
              "#26828e"
             ],
             [
              0.5555555555555556,
              "#1f9e89"
             ],
             [
              0.6666666666666666,
              "#35b779"
             ],
             [
              0.7777777777777778,
              "#6ece58"
             ],
             [
              0.8888888888888888,
              "#b5de2b"
             ],
             [
              1,
              "#fde725"
             ]
            ],
            "type": "heatmap"
           }
          ],
          "heatmapgl": [
           {
            "colorbar": {
             "outlinewidth": 1,
             "tickcolor": "rgb(36,36,36)",
             "ticks": "outside"
            },
            "colorscale": [
             [
              0,
              "#440154"
             ],
             [
              0.1111111111111111,
              "#482878"
             ],
             [
              0.2222222222222222,
              "#3e4989"
             ],
             [
              0.3333333333333333,
              "#31688e"
             ],
             [
              0.4444444444444444,
              "#26828e"
             ],
             [
              0.5555555555555556,
              "#1f9e89"
             ],
             [
              0.6666666666666666,
              "#35b779"
             ],
             [
              0.7777777777777778,
              "#6ece58"
             ],
             [
              0.8888888888888888,
              "#b5de2b"
             ],
             [
              1,
              "#fde725"
             ]
            ],
            "type": "heatmapgl"
           }
          ],
          "histogram": [
           {
            "marker": {
             "line": {
              "color": "white",
              "width": 0.6
             }
            },
            "type": "histogram"
           }
          ],
          "histogram2d": [
           {
            "colorbar": {
             "outlinewidth": 1,
             "tickcolor": "rgb(36,36,36)",
             "ticks": "outside"
            },
            "colorscale": [
             [
              0,
              "#440154"
             ],
             [
              0.1111111111111111,
              "#482878"
             ],
             [
              0.2222222222222222,
              "#3e4989"
             ],
             [
              0.3333333333333333,
              "#31688e"
             ],
             [
              0.4444444444444444,
              "#26828e"
             ],
             [
              0.5555555555555556,
              "#1f9e89"
             ],
             [
              0.6666666666666666,
              "#35b779"
             ],
             [
              0.7777777777777778,
              "#6ece58"
             ],
             [
              0.8888888888888888,
              "#b5de2b"
             ],
             [
              1,
              "#fde725"
             ]
            ],
            "type": "histogram2d"
           }
          ],
          "histogram2dcontour": [
           {
            "colorbar": {
             "outlinewidth": 1,
             "tickcolor": "rgb(36,36,36)",
             "ticks": "outside"
            },
            "colorscale": [
             [
              0,
              "#440154"
             ],
             [
              0.1111111111111111,
              "#482878"
             ],
             [
              0.2222222222222222,
              "#3e4989"
             ],
             [
              0.3333333333333333,
              "#31688e"
             ],
             [
              0.4444444444444444,
              "#26828e"
             ],
             [
              0.5555555555555556,
              "#1f9e89"
             ],
             [
              0.6666666666666666,
              "#35b779"
             ],
             [
              0.7777777777777778,
              "#6ece58"
             ],
             [
              0.8888888888888888,
              "#b5de2b"
             ],
             [
              1,
              "#fde725"
             ]
            ],
            "type": "histogram2dcontour"
           }
          ],
          "mesh3d": [
           {
            "colorbar": {
             "outlinewidth": 1,
             "tickcolor": "rgb(36,36,36)",
             "ticks": "outside"
            },
            "type": "mesh3d"
           }
          ],
          "parcoords": [
           {
            "line": {
             "colorbar": {
              "outlinewidth": 1,
              "tickcolor": "rgb(36,36,36)",
              "ticks": "outside"
             }
            },
            "type": "parcoords"
           }
          ],
          "pie": [
           {
            "automargin": true,
            "type": "pie"
           }
          ],
          "scatter": [
           {
            "fillpattern": {
             "fillmode": "overlay",
             "size": 10,
             "solidity": 0.2
            },
            "type": "scatter"
           }
          ],
          "scatter3d": [
           {
            "line": {
             "colorbar": {
              "outlinewidth": 1,
              "tickcolor": "rgb(36,36,36)",
              "ticks": "outside"
             }
            },
            "marker": {
             "colorbar": {
              "outlinewidth": 1,
              "tickcolor": "rgb(36,36,36)",
              "ticks": "outside"
             }
            },
            "type": "scatter3d"
           }
          ],
          "scattercarpet": [
           {
            "marker": {
             "colorbar": {
              "outlinewidth": 1,
              "tickcolor": "rgb(36,36,36)",
              "ticks": "outside"
             }
            },
            "type": "scattercarpet"
           }
          ],
          "scattergeo": [
           {
            "marker": {
             "colorbar": {
              "outlinewidth": 1,
              "tickcolor": "rgb(36,36,36)",
              "ticks": "outside"
             }
            },
            "type": "scattergeo"
           }
          ],
          "scattergl": [
           {
            "marker": {
             "colorbar": {
              "outlinewidth": 1,
              "tickcolor": "rgb(36,36,36)",
              "ticks": "outside"
             }
            },
            "type": "scattergl"
           }
          ],
          "scattermapbox": [
           {
            "marker": {
             "colorbar": {
              "outlinewidth": 1,
              "tickcolor": "rgb(36,36,36)",
              "ticks": "outside"
             }
            },
            "type": "scattermapbox"
           }
          ],
          "scatterpolar": [
           {
            "marker": {
             "colorbar": {
              "outlinewidth": 1,
              "tickcolor": "rgb(36,36,36)",
              "ticks": "outside"
             }
            },
            "type": "scatterpolar"
           }
          ],
          "scatterpolargl": [
           {
            "marker": {
             "colorbar": {
              "outlinewidth": 1,
              "tickcolor": "rgb(36,36,36)",
              "ticks": "outside"
             }
            },
            "type": "scatterpolargl"
           }
          ],
          "scatterternary": [
           {
            "marker": {
             "colorbar": {
              "outlinewidth": 1,
              "tickcolor": "rgb(36,36,36)",
              "ticks": "outside"
             }
            },
            "type": "scatterternary"
           }
          ],
          "surface": [
           {
            "colorbar": {
             "outlinewidth": 1,
             "tickcolor": "rgb(36,36,36)",
             "ticks": "outside"
            },
            "colorscale": [
             [
              0,
              "#440154"
             ],
             [
              0.1111111111111111,
              "#482878"
             ],
             [
              0.2222222222222222,
              "#3e4989"
             ],
             [
              0.3333333333333333,
              "#31688e"
             ],
             [
              0.4444444444444444,
              "#26828e"
             ],
             [
              0.5555555555555556,
              "#1f9e89"
             ],
             [
              0.6666666666666666,
              "#35b779"
             ],
             [
              0.7777777777777778,
              "#6ece58"
             ],
             [
              0.8888888888888888,
              "#b5de2b"
             ],
             [
              1,
              "#fde725"
             ]
            ],
            "type": "surface"
           }
          ],
          "table": [
           {
            "cells": {
             "fill": {
              "color": "rgb(237,237,237)"
             },
             "line": {
              "color": "white"
             }
            },
            "header": {
             "fill": {
              "color": "rgb(217,217,217)"
             },
             "line": {
              "color": "white"
             }
            },
            "type": "table"
           }
          ]
         },
         "layout": {
          "annotationdefaults": {
           "arrowhead": 0,
           "arrowwidth": 1
          },
          "autotypenumbers": "strict",
          "coloraxis": {
           "colorbar": {
            "outlinewidth": 1,
            "tickcolor": "rgb(36,36,36)",
            "ticks": "outside"
           }
          },
          "colorscale": {
           "diverging": [
            [
             0,
             "rgb(103,0,31)"
            ],
            [
             0.1,
             "rgb(178,24,43)"
            ],
            [
             0.2,
             "rgb(214,96,77)"
            ],
            [
             0.3,
             "rgb(244,165,130)"
            ],
            [
             0.4,
             "rgb(253,219,199)"
            ],
            [
             0.5,
             "rgb(247,247,247)"
            ],
            [
             0.6,
             "rgb(209,229,240)"
            ],
            [
             0.7,
             "rgb(146,197,222)"
            ],
            [
             0.8,
             "rgb(67,147,195)"
            ],
            [
             0.9,
             "rgb(33,102,172)"
            ],
            [
             1,
             "rgb(5,48,97)"
            ]
           ],
           "sequential": [
            [
             0,
             "#440154"
            ],
            [
             0.1111111111111111,
             "#482878"
            ],
            [
             0.2222222222222222,
             "#3e4989"
            ],
            [
             0.3333333333333333,
             "#31688e"
            ],
            [
             0.4444444444444444,
             "#26828e"
            ],
            [
             0.5555555555555556,
             "#1f9e89"
            ],
            [
             0.6666666666666666,
             "#35b779"
            ],
            [
             0.7777777777777778,
             "#6ece58"
            ],
            [
             0.8888888888888888,
             "#b5de2b"
            ],
            [
             1,
             "#fde725"
            ]
           ],
           "sequentialminus": [
            [
             0,
             "#440154"
            ],
            [
             0.1111111111111111,
             "#482878"
            ],
            [
             0.2222222222222222,
             "#3e4989"
            ],
            [
             0.3333333333333333,
             "#31688e"
            ],
            [
             0.4444444444444444,
             "#26828e"
            ],
            [
             0.5555555555555556,
             "#1f9e89"
            ],
            [
             0.6666666666666666,
             "#35b779"
            ],
            [
             0.7777777777777778,
             "#6ece58"
            ],
            [
             0.8888888888888888,
             "#b5de2b"
            ],
            [
             1,
             "#fde725"
            ]
           ]
          },
          "colorway": [
           "#1F77B4",
           "#FF7F0E",
           "#2CA02C",
           "#D62728",
           "#9467BD",
           "#8C564B",
           "#E377C2",
           "#7F7F7F",
           "#BCBD22",
           "#17BECF"
          ],
          "font": {
           "color": "rgb(36,36,36)"
          },
          "geo": {
           "bgcolor": "white",
           "lakecolor": "white",
           "landcolor": "white",
           "showlakes": true,
           "showland": true,
           "subunitcolor": "white"
          },
          "hoverlabel": {
           "align": "left"
          },
          "hovermode": "closest",
          "mapbox": {
           "style": "light"
          },
          "paper_bgcolor": "white",
          "plot_bgcolor": "white",
          "polar": {
           "angularaxis": {
            "gridcolor": "rgb(232,232,232)",
            "linecolor": "rgb(36,36,36)",
            "showgrid": false,
            "showline": true,
            "ticks": "outside"
           },
           "bgcolor": "white",
           "radialaxis": {
            "gridcolor": "rgb(232,232,232)",
            "linecolor": "rgb(36,36,36)",
            "showgrid": false,
            "showline": true,
            "ticks": "outside"
           }
          },
          "scene": {
           "xaxis": {
            "backgroundcolor": "white",
            "gridcolor": "rgb(232,232,232)",
            "gridwidth": 2,
            "linecolor": "rgb(36,36,36)",
            "showbackground": true,
            "showgrid": false,
            "showline": true,
            "ticks": "outside",
            "zeroline": false,
            "zerolinecolor": "rgb(36,36,36)"
           },
           "yaxis": {
            "backgroundcolor": "white",
            "gridcolor": "rgb(232,232,232)",
            "gridwidth": 2,
            "linecolor": "rgb(36,36,36)",
            "showbackground": true,
            "showgrid": false,
            "showline": true,
            "ticks": "outside",
            "zeroline": false,
            "zerolinecolor": "rgb(36,36,36)"
           },
           "zaxis": {
            "backgroundcolor": "white",
            "gridcolor": "rgb(232,232,232)",
            "gridwidth": 2,
            "linecolor": "rgb(36,36,36)",
            "showbackground": true,
            "showgrid": false,
            "showline": true,
            "ticks": "outside",
            "zeroline": false,
            "zerolinecolor": "rgb(36,36,36)"
           }
          },
          "shapedefaults": {
           "fillcolor": "black",
           "line": {
            "width": 0
           },
           "opacity": 0.3
          },
          "ternary": {
           "aaxis": {
            "gridcolor": "rgb(232,232,232)",
            "linecolor": "rgb(36,36,36)",
            "showgrid": false,
            "showline": true,
            "ticks": "outside"
           },
           "baxis": {
            "gridcolor": "rgb(232,232,232)",
            "linecolor": "rgb(36,36,36)",
            "showgrid": false,
            "showline": true,
            "ticks": "outside"
           },
           "bgcolor": "white",
           "caxis": {
            "gridcolor": "rgb(232,232,232)",
            "linecolor": "rgb(36,36,36)",
            "showgrid": false,
            "showline": true,
            "ticks": "outside"
           }
          },
          "title": {
           "x": 0.05
          },
          "xaxis": {
           "automargin": true,
           "gridcolor": "rgb(232,232,232)",
           "linecolor": "rgb(36,36,36)",
           "showgrid": false,
           "showline": true,
           "ticks": "outside",
           "title": {
            "standoff": 15
           },
           "zeroline": false,
           "zerolinecolor": "rgb(36,36,36)"
          },
          "yaxis": {
           "automargin": true,
           "gridcolor": "rgb(232,232,232)",
           "linecolor": "rgb(36,36,36)",
           "showgrid": false,
           "showline": true,
           "ticks": "outside",
           "title": {
            "standoff": 15
           },
           "zeroline": false,
           "zerolinecolor": "rgb(36,36,36)"
          }
         }
        },
        "title": {
         "x": 0.5,
         "xanchor": "center"
        },
        "width": 800,
        "xaxis": {
         "anchor": "y",
         "domain": [
          0,
          1
         ],
         "showgrid": false,
         "showline": false,
         "tickfont": {
          "size": 30
         },
         "title": {
          "text": "Model"
         }
        },
        "yaxis": {
         "anchor": "x",
         "domain": [
          0,
          1
         ],
         "range": [
          0.6,
          1
         ],
         "showgrid": false,
         "tickfont": {
          "size": 30
         },
         "title": {
          "text": "Average Similarity"
         }
        }
       }
      },
      "text/html": [
       "<div>                            <div id=\"ab478ae9-0ea6-409c-aa2b-b8ef5401e169\" class=\"plotly-graph-div\" style=\"height:1200px; width:800px;\"></div>            <script type=\"text/javascript\">                require([\"plotly\"], function(Plotly) {                    window.PLOTLYENV=window.PLOTLYENV || {};                                    if (document.getElementById(\"ab478ae9-0ea6-409c-aa2b-b8ef5401e169\")) {                    Plotly.newPlot(                        \"ab478ae9-0ea6-409c-aa2b-b8ef5401e169\",                        [{\"alignmentgroup\":\"True\",\"hovertemplate\":\"Model=%{x}\\u003cbr\\u003eAverageSimilarity=%{y}\\u003cextra\\u003e\\u003c\\u002fextra\\u003e\",\"legendgroup\":\"\",\"marker\":{\"color\":\"purple\",\"pattern\":{\"shape\":\"\"},\"opacity\":0.6},\"name\":\"\",\"offsetgroup\":\"\",\"orientation\":\"v\",\"showlegend\":false,\"textposition\":\"auto\",\"x\":[\"FMCIBExtractor\",\"CTFMExtractor\",\"CTClipVitExtractor\",\"PASTAExtractor\",\"VISTA3DExtractor\",\"VocoExtractor\",\"SUPREMExtractor\",\"MerlinExtractor\",\"MedImageInsightExtractor\",\"ModelsGenExtractor\"],\"xaxis\":\"x\",\"y\":[0.9902843213998354,0.9807018293784215,0.9272450850560114,0.9900133304878667,0.9691378990478161,0.9999973673900325,0.9995172612178155,0.8103054271482449,0.998052866429052,0.980965795632531],\"yaxis\":\"y\",\"type\":\"bar\"}],                        {\"template\":{\"data\":{\"barpolar\":[{\"marker\":{\"line\":{\"color\":\"white\",\"width\":0.5},\"pattern\":{\"fillmode\":\"overlay\",\"size\":10,\"solidity\":0.2}},\"type\":\"barpolar\"}],\"bar\":[{\"error_x\":{\"color\":\"rgb(36,36,36)\"},\"error_y\":{\"color\":\"rgb(36,36,36)\"},\"marker\":{\"line\":{\"color\":\"white\",\"width\":0.5},\"pattern\":{\"fillmode\":\"overlay\",\"size\":10,\"solidity\":0.2}},\"type\":\"bar\"}],\"carpet\":[{\"aaxis\":{\"endlinecolor\":\"rgb(36,36,36)\",\"gridcolor\":\"white\",\"linecolor\":\"white\",\"minorgridcolor\":\"white\",\"startlinecolor\":\"rgb(36,36,36)\"},\"baxis\":{\"endlinecolor\":\"rgb(36,36,36)\",\"gridcolor\":\"white\",\"linecolor\":\"white\",\"minorgridcolor\":\"white\",\"startlinecolor\":\"rgb(36,36,36)\"},\"type\":\"carpet\"}],\"choropleth\":[{\"colorbar\":{\"outlinewidth\":1,\"tickcolor\":\"rgb(36,36,36)\",\"ticks\":\"outside\"},\"type\":\"choropleth\"}],\"contourcarpet\":[{\"colorbar\":{\"outlinewidth\":1,\"tickcolor\":\"rgb(36,36,36)\",\"ticks\":\"outside\"},\"type\":\"contourcarpet\"}],\"contour\":[{\"colorbar\":{\"outlinewidth\":1,\"tickcolor\":\"rgb(36,36,36)\",\"ticks\":\"outside\"},\"colorscale\":[[0.0,\"#440154\"],[0.1111111111111111,\"#482878\"],[0.2222222222222222,\"#3e4989\"],[0.3333333333333333,\"#31688e\"],[0.4444444444444444,\"#26828e\"],[0.5555555555555556,\"#1f9e89\"],[0.6666666666666666,\"#35b779\"],[0.7777777777777778,\"#6ece58\"],[0.8888888888888888,\"#b5de2b\"],[1.0,\"#fde725\"]],\"type\":\"contour\"}],\"heatmapgl\":[{\"colorbar\":{\"outlinewidth\":1,\"tickcolor\":\"rgb(36,36,36)\",\"ticks\":\"outside\"},\"colorscale\":[[0.0,\"#440154\"],[0.1111111111111111,\"#482878\"],[0.2222222222222222,\"#3e4989\"],[0.3333333333333333,\"#31688e\"],[0.4444444444444444,\"#26828e\"],[0.5555555555555556,\"#1f9e89\"],[0.6666666666666666,\"#35b779\"],[0.7777777777777778,\"#6ece58\"],[0.8888888888888888,\"#b5de2b\"],[1.0,\"#fde725\"]],\"type\":\"heatmapgl\"}],\"heatmap\":[{\"colorbar\":{\"outlinewidth\":1,\"tickcolor\":\"rgb(36,36,36)\",\"ticks\":\"outside\"},\"colorscale\":[[0.0,\"#440154\"],[0.1111111111111111,\"#482878\"],[0.2222222222222222,\"#3e4989\"],[0.3333333333333333,\"#31688e\"],[0.4444444444444444,\"#26828e\"],[0.5555555555555556,\"#1f9e89\"],[0.6666666666666666,\"#35b779\"],[0.7777777777777778,\"#6ece58\"],[0.8888888888888888,\"#b5de2b\"],[1.0,\"#fde725\"]],\"type\":\"heatmap\"}],\"histogram2dcontour\":[{\"colorbar\":{\"outlinewidth\":1,\"tickcolor\":\"rgb(36,36,36)\",\"ticks\":\"outside\"},\"colorscale\":[[0.0,\"#440154\"],[0.1111111111111111,\"#482878\"],[0.2222222222222222,\"#3e4989\"],[0.3333333333333333,\"#31688e\"],[0.4444444444444444,\"#26828e\"],[0.5555555555555556,\"#1f9e89\"],[0.6666666666666666,\"#35b779\"],[0.7777777777777778,\"#6ece58\"],[0.8888888888888888,\"#b5de2b\"],[1.0,\"#fde725\"]],\"type\":\"histogram2dcontour\"}],\"histogram2d\":[{\"colorbar\":{\"outlinewidth\":1,\"tickcolor\":\"rgb(36,36,36)\",\"ticks\":\"outside\"},\"colorscale\":[[0.0,\"#440154\"],[0.1111111111111111,\"#482878\"],[0.2222222222222222,\"#3e4989\"],[0.3333333333333333,\"#31688e\"],[0.4444444444444444,\"#26828e\"],[0.5555555555555556,\"#1f9e89\"],[0.6666666666666666,\"#35b779\"],[0.7777777777777778,\"#6ece58\"],[0.8888888888888888,\"#b5de2b\"],[1.0,\"#fde725\"]],\"type\":\"histogram2d\"}],\"histogram\":[{\"marker\":{\"line\":{\"color\":\"white\",\"width\":0.6}},\"type\":\"histogram\"}],\"mesh3d\":[{\"colorbar\":{\"outlinewidth\":1,\"tickcolor\":\"rgb(36,36,36)\",\"ticks\":\"outside\"},\"type\":\"mesh3d\"}],\"parcoords\":[{\"line\":{\"colorbar\":{\"outlinewidth\":1,\"tickcolor\":\"rgb(36,36,36)\",\"ticks\":\"outside\"}},\"type\":\"parcoords\"}],\"pie\":[{\"automargin\":true,\"type\":\"pie\"}],\"scatter3d\":[{\"line\":{\"colorbar\":{\"outlinewidth\":1,\"tickcolor\":\"rgb(36,36,36)\",\"ticks\":\"outside\"}},\"marker\":{\"colorbar\":{\"outlinewidth\":1,\"tickcolor\":\"rgb(36,36,36)\",\"ticks\":\"outside\"}},\"type\":\"scatter3d\"}],\"scattercarpet\":[{\"marker\":{\"colorbar\":{\"outlinewidth\":1,\"tickcolor\":\"rgb(36,36,36)\",\"ticks\":\"outside\"}},\"type\":\"scattercarpet\"}],\"scattergeo\":[{\"marker\":{\"colorbar\":{\"outlinewidth\":1,\"tickcolor\":\"rgb(36,36,36)\",\"ticks\":\"outside\"}},\"type\":\"scattergeo\"}],\"scattergl\":[{\"marker\":{\"colorbar\":{\"outlinewidth\":1,\"tickcolor\":\"rgb(36,36,36)\",\"ticks\":\"outside\"}},\"type\":\"scattergl\"}],\"scattermapbox\":[{\"marker\":{\"colorbar\":{\"outlinewidth\":1,\"tickcolor\":\"rgb(36,36,36)\",\"ticks\":\"outside\"}},\"type\":\"scattermapbox\"}],\"scatterpolargl\":[{\"marker\":{\"colorbar\":{\"outlinewidth\":1,\"tickcolor\":\"rgb(36,36,36)\",\"ticks\":\"outside\"}},\"type\":\"scatterpolargl\"}],\"scatterpolar\":[{\"marker\":{\"colorbar\":{\"outlinewidth\":1,\"tickcolor\":\"rgb(36,36,36)\",\"ticks\":\"outside\"}},\"type\":\"scatterpolar\"}],\"scatter\":[{\"fillpattern\":{\"fillmode\":\"overlay\",\"size\":10,\"solidity\":0.2},\"type\":\"scatter\"}],\"scatterternary\":[{\"marker\":{\"colorbar\":{\"outlinewidth\":1,\"tickcolor\":\"rgb(36,36,36)\",\"ticks\":\"outside\"}},\"type\":\"scatterternary\"}],\"surface\":[{\"colorbar\":{\"outlinewidth\":1,\"tickcolor\":\"rgb(36,36,36)\",\"ticks\":\"outside\"},\"colorscale\":[[0.0,\"#440154\"],[0.1111111111111111,\"#482878\"],[0.2222222222222222,\"#3e4989\"],[0.3333333333333333,\"#31688e\"],[0.4444444444444444,\"#26828e\"],[0.5555555555555556,\"#1f9e89\"],[0.6666666666666666,\"#35b779\"],[0.7777777777777778,\"#6ece58\"],[0.8888888888888888,\"#b5de2b\"],[1.0,\"#fde725\"]],\"type\":\"surface\"}],\"table\":[{\"cells\":{\"fill\":{\"color\":\"rgb(237,237,237)\"},\"line\":{\"color\":\"white\"}},\"header\":{\"fill\":{\"color\":\"rgb(217,217,217)\"},\"line\":{\"color\":\"white\"}},\"type\":\"table\"}]},\"layout\":{\"annotationdefaults\":{\"arrowhead\":0,\"arrowwidth\":1},\"autotypenumbers\":\"strict\",\"coloraxis\":{\"colorbar\":{\"outlinewidth\":1,\"tickcolor\":\"rgb(36,36,36)\",\"ticks\":\"outside\"}},\"colorscale\":{\"diverging\":[[0.0,\"rgb(103,0,31)\"],[0.1,\"rgb(178,24,43)\"],[0.2,\"rgb(214,96,77)\"],[0.3,\"rgb(244,165,130)\"],[0.4,\"rgb(253,219,199)\"],[0.5,\"rgb(247,247,247)\"],[0.6,\"rgb(209,229,240)\"],[0.7,\"rgb(146,197,222)\"],[0.8,\"rgb(67,147,195)\"],[0.9,\"rgb(33,102,172)\"],[1.0,\"rgb(5,48,97)\"]],\"sequential\":[[0.0,\"#440154\"],[0.1111111111111111,\"#482878\"],[0.2222222222222222,\"#3e4989\"],[0.3333333333333333,\"#31688e\"],[0.4444444444444444,\"#26828e\"],[0.5555555555555556,\"#1f9e89\"],[0.6666666666666666,\"#35b779\"],[0.7777777777777778,\"#6ece58\"],[0.8888888888888888,\"#b5de2b\"],[1.0,\"#fde725\"]],\"sequentialminus\":[[0.0,\"#440154\"],[0.1111111111111111,\"#482878\"],[0.2222222222222222,\"#3e4989\"],[0.3333333333333333,\"#31688e\"],[0.4444444444444444,\"#26828e\"],[0.5555555555555556,\"#1f9e89\"],[0.6666666666666666,\"#35b779\"],[0.7777777777777778,\"#6ece58\"],[0.8888888888888888,\"#b5de2b\"],[1.0,\"#fde725\"]]},\"colorway\":[\"#1F77B4\",\"#FF7F0E\",\"#2CA02C\",\"#D62728\",\"#9467BD\",\"#8C564B\",\"#E377C2\",\"#7F7F7F\",\"#BCBD22\",\"#17BECF\"],\"font\":{\"color\":\"rgb(36,36,36)\"},\"geo\":{\"bgcolor\":\"white\",\"lakecolor\":\"white\",\"landcolor\":\"white\",\"showlakes\":true,\"showland\":true,\"subunitcolor\":\"white\"},\"hoverlabel\":{\"align\":\"left\"},\"hovermode\":\"closest\",\"mapbox\":{\"style\":\"light\"},\"paper_bgcolor\":\"white\",\"plot_bgcolor\":\"white\",\"polar\":{\"angularaxis\":{\"gridcolor\":\"rgb(232,232,232)\",\"linecolor\":\"rgb(36,36,36)\",\"showgrid\":false,\"showline\":true,\"ticks\":\"outside\"},\"bgcolor\":\"white\",\"radialaxis\":{\"gridcolor\":\"rgb(232,232,232)\",\"linecolor\":\"rgb(36,36,36)\",\"showgrid\":false,\"showline\":true,\"ticks\":\"outside\"}},\"scene\":{\"xaxis\":{\"backgroundcolor\":\"white\",\"gridcolor\":\"rgb(232,232,232)\",\"gridwidth\":2,\"linecolor\":\"rgb(36,36,36)\",\"showbackground\":true,\"showgrid\":false,\"showline\":true,\"ticks\":\"outside\",\"zeroline\":false,\"zerolinecolor\":\"rgb(36,36,36)\"},\"yaxis\":{\"backgroundcolor\":\"white\",\"gridcolor\":\"rgb(232,232,232)\",\"gridwidth\":2,\"linecolor\":\"rgb(36,36,36)\",\"showbackground\":true,\"showgrid\":false,\"showline\":true,\"ticks\":\"outside\",\"zeroline\":false,\"zerolinecolor\":\"rgb(36,36,36)\"},\"zaxis\":{\"backgroundcolor\":\"white\",\"gridcolor\":\"rgb(232,232,232)\",\"gridwidth\":2,\"linecolor\":\"rgb(36,36,36)\",\"showbackground\":true,\"showgrid\":false,\"showline\":true,\"ticks\":\"outside\",\"zeroline\":false,\"zerolinecolor\":\"rgb(36,36,36)\"}},\"shapedefaults\":{\"fillcolor\":\"black\",\"line\":{\"width\":0},\"opacity\":0.3},\"ternary\":{\"aaxis\":{\"gridcolor\":\"rgb(232,232,232)\",\"linecolor\":\"rgb(36,36,36)\",\"showgrid\":false,\"showline\":true,\"ticks\":\"outside\"},\"baxis\":{\"gridcolor\":\"rgb(232,232,232)\",\"linecolor\":\"rgb(36,36,36)\",\"showgrid\":false,\"showline\":true,\"ticks\":\"outside\"},\"bgcolor\":\"white\",\"caxis\":{\"gridcolor\":\"rgb(232,232,232)\",\"linecolor\":\"rgb(36,36,36)\",\"showgrid\":false,\"showline\":true,\"ticks\":\"outside\"}},\"title\":{\"x\":0.05},\"xaxis\":{\"automargin\":true,\"gridcolor\":\"rgb(232,232,232)\",\"linecolor\":\"rgb(36,36,36)\",\"showgrid\":false,\"showline\":true,\"ticks\":\"outside\",\"title\":{\"standoff\":15},\"zeroline\":false,\"zerolinecolor\":\"rgb(36,36,36)\"},\"yaxis\":{\"automargin\":true,\"gridcolor\":\"rgb(232,232,232)\",\"linecolor\":\"rgb(36,36,36)\",\"showgrid\":false,\"showline\":true,\"ticks\":\"outside\",\"title\":{\"standoff\":15},\"zeroline\":false,\"zerolinecolor\":\"rgb(36,36,36)\"}}},\"xaxis\":{\"anchor\":\"y\",\"domain\":[0.0,1.0],\"title\":{\"text\":\"Model\"},\"tickfont\":{\"size\":30},\"showline\":false,\"showgrid\":false},\"yaxis\":{\"anchor\":\"x\",\"domain\":[0.0,1.0],\"title\":{\"text\":\"Average Similarity\"},\"range\":[0.6,1],\"tickfont\":{\"size\":30},\"showgrid\":false},\"legend\":{\"tracegroupgap\":0},\"margin\":{\"t\":40,\"l\":20,\"r\":20,\"b\":20},\"barmode\":\"relative\",\"height\":1200,\"width\":800,\"title\":{\"x\":0.5,\"xanchor\":\"center\"},\"font\":{\"size\":30,\"family\":\"Arial\"},\"showlegend\":false,\"annotations\":[{\"font\":{\"color\":\"black\",\"size\":25},\"showarrow\":false,\"text\":\"0.99\",\"x\":\"FMCIBExtractor\",\"y\":0.9902843213998354,\"yshift\":15},{\"font\":{\"color\":\"black\",\"size\":25},\"showarrow\":false,\"text\":\"0.98\",\"x\":\"CTFMExtractor\",\"y\":0.9807018293784215,\"yshift\":15},{\"font\":{\"color\":\"black\",\"size\":25},\"showarrow\":false,\"text\":\"0.93\",\"x\":\"CTClipVitExtractor\",\"y\":0.9272450850560114,\"yshift\":15},{\"font\":{\"color\":\"black\",\"size\":25},\"showarrow\":false,\"text\":\"0.99\",\"x\":\"PASTAExtractor\",\"y\":0.9900133304878667,\"yshift\":15},{\"font\":{\"color\":\"black\",\"size\":25},\"showarrow\":false,\"text\":\"0.97\",\"x\":\"VISTA3DExtractor\",\"y\":0.9691378990478161,\"yshift\":15},{\"font\":{\"color\":\"black\",\"size\":25},\"showarrow\":false,\"text\":\"1.00\",\"x\":\"VocoExtractor\",\"y\":0.9999973673900325,\"yshift\":15},{\"font\":{\"color\":\"black\",\"size\":25},\"showarrow\":false,\"text\":\"1.00\",\"x\":\"SUPREMExtractor\",\"y\":0.9995172612178155,\"yshift\":15},{\"font\":{\"color\":\"black\",\"size\":25},\"showarrow\":false,\"text\":\"0.81\",\"x\":\"MerlinExtractor\",\"y\":0.8103054271482449,\"yshift\":15},{\"font\":{\"color\":\"black\",\"size\":25},\"showarrow\":false,\"text\":\"1.00\",\"x\":\"MedImageInsightExtractor\",\"y\":0.998052866429052,\"yshift\":15},{\"font\":{\"color\":\"black\",\"size\":25},\"showarrow\":false,\"text\":\"0.98\",\"x\":\"ModelsGenExtractor\",\"y\":0.980965795632531,\"yshift\":15}]},                        {\"responsive\": true}                    ).then(function(){\n",
       "                            \n",
       "var gd = document.getElementById('ab478ae9-0ea6-409c-aa2b-b8ef5401e169');\n",
       "var x = new MutationObserver(function (mutations, observer) {{\n",
       "        var display = window.getComputedStyle(gd).display;\n",
       "        if (!display || display === 'none') {{\n",
       "            console.log([gd, 'removed!']);\n",
       "            Plotly.purge(gd);\n",
       "            observer.disconnect();\n",
       "        }}\n",
       "}});\n",
       "\n",
       "// Listen for the removal of the full notebook cells\n",
       "var notebookContainer = gd.closest('#notebook-container');\n",
       "if (notebookContainer) {{\n",
       "    x.observe(notebookContainer, {childList: true});\n",
       "}}\n",
       "\n",
       "// Listen for the clearing of the current output cell\n",
       "var outputEl = gd.closest('.output');\n",
       "if (outputEl) {{\n",
       "    x.observe(outputEl, {childList: true});\n",
       "}}\n",
       "\n",
       "                        })                };                });            </script>        </div>"
      ]
     },
     "metadata": {},
     "output_type": "display_data"
    }
   ],
   "source": [
    "import plotly.express as px\n",
    "\n",
    "# Calculate the average similarity for each model\n",
    "similarity_df['AverageSimilarity'] = similarity_df.iloc[:, 1:].mean(axis=1)\n",
    "\n",
    "# Create a bar plot using the 'simple_white' template with specific dimensions\n",
    "fig = px.bar(similarity_df, x='Model', y='AverageSimilarity', \n",
    "             title='', template='simple_white', width=800, height=1200, range_y=(0.6,1))\n",
    "\n",
    "# Update layout for a minimalist appearance similar to file_context_0\n",
    "fig.update_layout(\n",
    "    margin=dict(l=20, r=20, t=40, b=20),\n",
    "    xaxis=dict(showline=False, showgrid=False, tickfont=dict(size=30), title='Model'),\n",
    "    yaxis=dict(showgrid=False, tickfont=dict(size=30), title='Average Similarity'),\n",
    "    title=dict(x=0.5, xanchor='center'),\n",
    "    font=dict(size=30, family=\"Arial\"),\n",
    "    width=800,\n",
    "    height=1200,\n",
    "    showlegend=False,\n",
    ")\n",
    "\n",
    "# Update traces with a different color\n",
    "fig.update_traces(\n",
    "    marker_color=\"purple\",  # Using purple for marker color\n",
    "    marker_opacity=0.6,\n",
    ")\n",
    "\n",
    "# Add text annotations for each bar to display its average similarity value\n",
    "for idx, row in similarity_df.iterrows():\n",
    "    fig.add_annotation(\n",
    "        x=row['Model'],\n",
    "        y=row['AverageSimilarity'],\n",
    "        text=f\"{row['AverageSimilarity']:.2f}\",\n",
    "        showarrow=False,\n",
    "        yshift=15,\n",
    "        font=dict(size=25, color=\"black\")\n",
    "    )\n",
    "\n",
    "# Show the plot\n",
    "fig.show()\n"
   ]
  },
  {
   "cell_type": "code",
   "execution_count": null,
   "metadata": {},
   "outputs": [],
   "source": []
  }
 ],
 "metadata": {
  "kernelspec": {
   "display_name": "lighter_dev",
   "language": "python",
   "name": "python3"
  },
  "language_info": {
   "codemirror_mode": {
    "name": "ipython",
    "version": 3
   },
   "file_extension": ".py",
   "mimetype": "text/x-python",
   "name": "python",
   "nbconvert_exporter": "python",
   "pygments_lexer": "ipython3",
   "version": "3.10.14"
  }
 },
 "nbformat": 4,
 "nbformat_minor": 2
}
