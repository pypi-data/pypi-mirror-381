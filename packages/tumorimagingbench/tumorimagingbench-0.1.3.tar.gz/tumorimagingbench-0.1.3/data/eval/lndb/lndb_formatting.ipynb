{
 "cells": [
  {
   "cell_type": "code",
   "execution_count": 1,
   "metadata": {},
   "outputs": [],
   "source": [
    "import pandas as pd\n",
    "from pathlib import Path\n"
   ]
  },
  {
   "cell_type": "code",
   "execution_count": 2,
   "metadata": {},
   "outputs": [],
   "source": [
    "data_dir = Path(\"/mnt/data1/datasets/RadiomicsHub/LNDb\")"
   ]
  },
  {
   "cell_type": "code",
   "execution_count": 3,
   "metadata": {},
   "outputs": [],
   "source": [
    "df = pd.read_csv(data_dir / \"trainNodules.csv\")"
   ]
  },
  {
   "cell_type": "code",
   "execution_count": 4,
   "metadata": {},
   "outputs": [],
   "source": [
    "df[\"image_path\"] = df.apply(lambda x: f\"/mnt/data1/datasets/RadiomicsHub/LNDb/LNDb-{int(x['LNDbID']):04}.mhd\", axis=1)\n",
    "df[\"coordX\"] = df[\"x\"]\n",
    "df[\"coordY\"] = df[\"y\"]\n",
    "df[\"coordZ\"] = df[\"z\"]\n",
    "\n",
    "df[\"texture\"] = df[\"Text\"][df[\"Text\"] != 0]\n",
    "df[\"texture\"] = df[\"texture\"].map({1: 0, 2: 0, 3: 1, 4: 2, 5: 2})\n",
    "\n",
    "df = df[[\"image_path\", \"coordX\", \"coordY\", \"coordZ\", \"texture\"]]"
   ]
  },
  {
   "cell_type": "code",
   "execution_count": 5,
   "metadata": {},
   "outputs": [
    {
     "data": {
      "text/html": [
       "<div>\n",
       "<style scoped>\n",
       "    .dataframe tbody tr th:only-of-type {\n",
       "        vertical-align: middle;\n",
       "    }\n",
       "\n",
       "    .dataframe tbody tr th {\n",
       "        vertical-align: top;\n",
       "    }\n",
       "\n",
       "    .dataframe thead th {\n",
       "        text-align: right;\n",
       "    }\n",
       "</style>\n",
       "<table border=\"1\" class=\"dataframe\">\n",
       "  <thead>\n",
       "    <tr style=\"text-align: right;\">\n",
       "      <th></th>\n",
       "      <th>image_path</th>\n",
       "      <th>coordX</th>\n",
       "      <th>coordY</th>\n",
       "      <th>coordZ</th>\n",
       "      <th>texture</th>\n",
       "    </tr>\n",
       "  </thead>\n",
       "  <tbody>\n",
       "    <tr>\n",
       "      <th>0</th>\n",
       "      <td>/mnt/data1/datasets/RadiomicsHub/LNDb/LNDb-000...</td>\n",
       "      <td>-44.608398</td>\n",
       "      <td>-119.073242</td>\n",
       "      <td>-37.500000</td>\n",
       "      <td>2.0</td>\n",
       "    </tr>\n",
       "    <tr>\n",
       "      <th>1</th>\n",
       "      <td>/mnt/data1/datasets/RadiomicsHub/LNDb/LNDb-000...</td>\n",
       "      <td>25.852539</td>\n",
       "      <td>-126.969727</td>\n",
       "      <td>-45.500000</td>\n",
       "      <td>2.0</td>\n",
       "    </tr>\n",
       "    <tr>\n",
       "      <th>2</th>\n",
       "      <td>/mnt/data1/datasets/RadiomicsHub/LNDb/LNDb-000...</td>\n",
       "      <td>-44.000977</td>\n",
       "      <td>-118.465820</td>\n",
       "      <td>-37.500000</td>\n",
       "      <td>2.0</td>\n",
       "    </tr>\n",
       "    <tr>\n",
       "      <th>3</th>\n",
       "      <td>/mnt/data1/datasets/RadiomicsHub/LNDb/LNDb-000...</td>\n",
       "      <td>-44.000977</td>\n",
       "      <td>-119.680664</td>\n",
       "      <td>-37.500000</td>\n",
       "      <td>2.0</td>\n",
       "    </tr>\n",
       "    <tr>\n",
       "      <th>4</th>\n",
       "      <td>/mnt/data1/datasets/RadiomicsHub/LNDb/LNDb-000...</td>\n",
       "      <td>88.895508</td>\n",
       "      <td>-123.625977</td>\n",
       "      <td>-129.500000</td>\n",
       "      <td>2.0</td>\n",
       "    </tr>\n",
       "    <tr>\n",
       "      <th>...</th>\n",
       "      <td>...</td>\n",
       "      <td>...</td>\n",
       "      <td>...</td>\n",
       "      <td>...</td>\n",
       "      <td>...</td>\n",
       "    </tr>\n",
       "    <tr>\n",
       "      <th>1522</th>\n",
       "      <td>/mnt/data1/datasets/RadiomicsHub/LNDb/LNDb-031...</td>\n",
       "      <td>-61.421900</td>\n",
       "      <td>-221.223863</td>\n",
       "      <td>-1082.705868</td>\n",
       "      <td>NaN</td>\n",
       "    </tr>\n",
       "    <tr>\n",
       "      <th>1523</th>\n",
       "      <td>/mnt/data1/datasets/RadiomicsHub/LNDb/LNDb-031...</td>\n",
       "      <td>97.832825</td>\n",
       "      <td>-63.763479</td>\n",
       "      <td>-1177.533513</td>\n",
       "      <td>NaN</td>\n",
       "    </tr>\n",
       "    <tr>\n",
       "      <th>1524</th>\n",
       "      <td>/mnt/data1/datasets/RadiomicsHub/LNDb/LNDb-031...</td>\n",
       "      <td>-50.744508</td>\n",
       "      <td>-49.309899</td>\n",
       "      <td>-1176.200246</td>\n",
       "      <td>NaN</td>\n",
       "    </tr>\n",
       "    <tr>\n",
       "      <th>1525</th>\n",
       "      <td>/mnt/data1/datasets/RadiomicsHub/LNDb/LNDb-031...</td>\n",
       "      <td>99.839636</td>\n",
       "      <td>-63.420362</td>\n",
       "      <td>-1134.356620</td>\n",
       "      <td>NaN</td>\n",
       "    </tr>\n",
       "    <tr>\n",
       "      <th>1526</th>\n",
       "      <td>/mnt/data1/datasets/RadiomicsHub/LNDb/LNDb-031...</td>\n",
       "      <td>-91.313708</td>\n",
       "      <td>-79.837964</td>\n",
       "      <td>-1037.081614</td>\n",
       "      <td>NaN</td>\n",
       "    </tr>\n",
       "  </tbody>\n",
       "</table>\n",
       "<p>1527 rows × 5 columns</p>\n",
       "</div>"
      ],
      "text/plain": [
       "                                             image_path     coordX  \\\n",
       "0     /mnt/data1/datasets/RadiomicsHub/LNDb/LNDb-000... -44.608398   \n",
       "1     /mnt/data1/datasets/RadiomicsHub/LNDb/LNDb-000...  25.852539   \n",
       "2     /mnt/data1/datasets/RadiomicsHub/LNDb/LNDb-000... -44.000977   \n",
       "3     /mnt/data1/datasets/RadiomicsHub/LNDb/LNDb-000... -44.000977   \n",
       "4     /mnt/data1/datasets/RadiomicsHub/LNDb/LNDb-000...  88.895508   \n",
       "...                                                 ...        ...   \n",
       "1522  /mnt/data1/datasets/RadiomicsHub/LNDb/LNDb-031... -61.421900   \n",
       "1523  /mnt/data1/datasets/RadiomicsHub/LNDb/LNDb-031...  97.832825   \n",
       "1524  /mnt/data1/datasets/RadiomicsHub/LNDb/LNDb-031... -50.744508   \n",
       "1525  /mnt/data1/datasets/RadiomicsHub/LNDb/LNDb-031...  99.839636   \n",
       "1526  /mnt/data1/datasets/RadiomicsHub/LNDb/LNDb-031... -91.313708   \n",
       "\n",
       "          coordY       coordZ  texture  \n",
       "0    -119.073242   -37.500000      2.0  \n",
       "1    -126.969727   -45.500000      2.0  \n",
       "2    -118.465820   -37.500000      2.0  \n",
       "3    -119.680664   -37.500000      2.0  \n",
       "4    -123.625977  -129.500000      2.0  \n",
       "...          ...          ...      ...  \n",
       "1522 -221.223863 -1082.705868      NaN  \n",
       "1523  -63.763479 -1177.533513      NaN  \n",
       "1524  -49.309899 -1176.200246      NaN  \n",
       "1525  -63.420362 -1134.356620      NaN  \n",
       "1526  -79.837964 -1037.081614      NaN  \n",
       "\n",
       "[1527 rows x 5 columns]"
      ]
     },
     "execution_count": 5,
     "metadata": {},
     "output_type": "execute_result"
    }
   ],
   "source": [
    "df"
   ]
  },
  {
   "cell_type": "code",
   "execution_count": 6,
   "metadata": {},
   "outputs": [
    {
     "name": "stdout",
     "output_type": "stream",
     "text": [
      "229\n",
      "114 46 69\n"
     ]
    }
   ],
   "source": [
    "image_list = df[\"image_path\"].unique()\n",
    "\n",
    "print(len(image_list))\n",
    "\n",
    "train_list = image_list[:int(len(image_list) * 0.5)]\n",
    "\n",
    "valtest_list = image_list[int(len(image_list) * 0.5):]\n",
    "val_list = valtest_list[:int(len(valtest_list) * 0.4)]\n",
    "test_list = valtest_list[int(len(valtest_list) * 0.4):]\n",
    "\n",
    "print(len(train_list), len(val_list), len(test_list))"
   ]
  },
  {
   "cell_type": "code",
   "execution_count": 8,
   "metadata": {},
   "outputs": [
    {
     "name": "stdout",
     "output_type": "stream",
     "text": [
      "697 292 538\n"
     ]
    },
    {
     "ename": "",
     "evalue": "",
     "output_type": "error",
     "traceback": [
      "\u001b[1;31mThe Kernel crashed while executing code in the current cell or a previous cell. \n",
      "\u001b[1;31mPlease review the code in the cell(s) to identify a possible cause of the failure. \n",
      "\u001b[1;31mClick <a href='https://aka.ms/vscodeJupyterKernelCrash'>here</a> for more info. \n",
      "\u001b[1;31mView Jupyter <a href='command:jupyter.viewOutput'>log</a> for further details."
     ]
    }
   ],
   "source": [
    "train_df = df[df[\"image_path\"].isin(train_list)]\n",
    "val_df = df[df[\"image_path\"].isin(val_list)]\n",
    "test_df = df[df[\"image_path\"].isin(test_list)]\n",
    "\n",
    "print(len(train_df), len(val_df), len(test_df))\n",
    "\n",
    "train_df.to_csv(data_dir / \"train.csv\", index=False)\n",
    "val_df.to_csv(data_dir / \"val.csv\", index=False)\n",
    "test_df.to_csv(data_dir / \"test.csv\", index=False)"
   ]
  },
  {
   "cell_type": "code",
   "execution_count": null,
   "metadata": {},
   "outputs": [],
   "source": []
  }
 ],
 "metadata": {
  "kernelspec": {
   "display_name": "lighter_dev",
   "language": "python",
   "name": "python3"
  },
  "language_info": {
   "codemirror_mode": {
    "name": "ipython",
    "version": 3
   },
   "file_extension": ".py",
   "mimetype": "text/x-python",
   "name": "python",
   "nbconvert_exporter": "python",
   "pygments_lexer": "ipython3",
   "version": "3.10.14"
  }
 },
 "nbformat": 4,
 "nbformat_minor": 2
}
