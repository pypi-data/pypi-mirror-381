{
 "cells": [
  {
   "cell_type": "code",
   "execution_count": null,
   "id": "3b47f7ec",
   "metadata": {},
   "outputs": [
    {
     "name": "stdout",
     "output_type": "stream",
     "text": [
      "The autoreload extension is already loaded. To reload it, use:\n",
      "  %reload_ext autoreload\n"
     ]
    }
   ],
   "source": [
    "%load_ext autoreload\n",
    "%autoreload 2\n",
    "\n",
    "from mimic_iv_analysis.configurations.params import DEFAULT_STUDY_TABLES_LIST\n",
    "from mimic_iv_analysis.io import DataLoader, TableNames, ParquetConverter, ExampleDataLoader\n",
    "import pandas as pd\n",
    "\n",
    "import dask.dataframe as dd\n",
    "\n",
    "# from dask.distributed import Client\n",
    "# client = Client(n_workers=4, threads_per_worker=4, processes=True, memory_limit='8GB')\n",
    "# client"
   ]
  },
  {
   "cell_type": "code",
   "execution_count": null,
   "id": "ecb936c1",
   "metadata": {},
   "outputs": [],
   "source": [
    "# example = ExampleDataLoader(partial_loading=False, num_subjects=10, apply_filtering=True)"
   ]
  },
  {
   "cell_type": "code",
   "execution_count": null,
   "id": "47f1fd00",
   "metadata": {},
   "outputs": [],
   "source": [
    "loader = DataLoader(apply_filtering=True)"
   ]
  },
  {
   "cell_type": "code",
   "execution_count": null,
   "id": "a9b2174a",
   "metadata": {},
   "outputs": [],
   "source": [
    "# df = loader.load_one_table(table_name=TableNames.ADMISSIONS, partial_loading=True, num_subjects=10)"
   ]
  },
  {
   "cell_type": "code",
   "execution_count": 7,
   "id": "3827e77f",
   "metadata": {},
   "outputs": [],
   "source": [
    "df_merged = loader.load(table_name=TableNames.MERGED, partial_loading=False)"
   ]
  },
  {
   "cell_type": "code",
   "execution_count": 8,
   "id": "b870f22c",
   "metadata": {},
   "outputs": [],
   "source": [
    "subject_ids = loader.all_subject_ids(df=df_merged, table_name=TableNames.MERGED)"
   ]
  },
  {
   "cell_type": "code",
   "execution_count": null,
   "id": "fac6539a",
   "metadata": {},
   "outputs": [],
   "source": [
    "len(subject_ids)\n",
    "df_merged.columns"
   ]
  },
  {
   "cell_type": "code",
   "execution_count": null,
   "id": "43748f5d",
   "metadata": {},
   "outputs": [],
   "source": [
    "df_merged.shape[0].compute()"
   ]
  },
  {
   "cell_type": "code",
   "execution_count": null,
   "id": "2568241f",
   "metadata": {},
   "outputs": [],
   "source": [
    "df_merged.compute()"
   ]
  },
  {
   "cell_type": "code",
   "execution_count": null,
   "id": "ef986515",
   "metadata": {},
   "outputs": [],
   "source": []
  }
 ],
 "metadata": {
  "kernelspec": {
   "display_name": ".venv",
   "language": "python",
   "name": "python3"
  },
  "language_info": {
   "codemirror_mode": {
    "name": "ipython",
    "version": 3
   },
   "file_extension": ".py",
   "mimetype": "text/x-python",
   "name": "python",
   "nbconvert_exporter": "python",
   "pygments_lexer": "ipython3",
   "version": "3.12.10"
  }
 },
 "nbformat": 4,
 "nbformat_minor": 5
}
