{
 "cells": [
  {
   "cell_type": "markdown",
   "metadata": {},
   "source": [
    "# Pixel-based clustering\n",
    "\n",
    "In this tutorial we will focus on pixel-based clustering. This tutorial assumes, that you have already registered and\n",
    "pre-processed your data.\n"
   ]
  },
  {
   "cell_type": "code",
   "execution_count": 1,
   "metadata": {},
   "outputs": [],
   "source": [
    "import numpy as np\n",
    "import seaborn as sns\n",
    "from skimage.transform import downscale_local_mean\n",
    "\n",
    "import spatiomic as so"
   ]
  },
  {
   "cell_type": "code",
   "execution_count": 2,
   "metadata": {},
   "outputs": [],
   "source": [
    "# read the example data\n",
    "img_data = so.data.read().read_tiff(\"./data/example.tiff\")\n",
    "img_data = (downscale_local_mean(img_data, (4, 4, 1)) + 1 > 0).astype(float) * 255"
   ]
  },
  {
   "cell_type": "markdown",
   "metadata": {},
   "source": [
    "Let's take a look at the data:\n"
   ]
  },
  {
   "cell_type": "code",
   "execution_count": 3,
   "metadata": {},
   "outputs": [
    {
     "data": {
      "image/png": "[encoded data removed]",
      "text/plain": [
       "<Figure size 640x480 with 3 Axes>"
      ]
     },
     "metadata": {},
     "output_type": "display_data"
    }
   ],
   "source": [
    "import matplotlib.pyplot as plt\n",
    "\n",
    "fig, ax = plt.subplots(1, 3)\n",
    "\n",
    "for i in range(3):\n",
    "    ax[i].imshow(img_data[:, :, i], cmap=\"gray\")\n",
    "    ax[i].set_title(\"Channel {}\".format(i))\n",
    "    ax[i].axis(\"off\")\n",
    "\n",
    "plt.tight_layout()"
   ]
  },
  {
   "cell_type": "markdown",
   "metadata": {},
   "source": [
    "## SOM training\n"
   ]
  },
  {
   "cell_type": "markdown",
   "metadata": {},
   "source": [
    "First, we create our self-organizing map. The node count should scale with the size of your dataset and the complexity of your data. It is advisable to use the `euclidean`, `cosine` or `correlation` (Pearson correlation) distance metric for biological data.\n"
   ]
  },
  {
   "cell_type": "code",
   "execution_count": 4,
   "metadata": {},
   "outputs": [
    {
     "name": "stdout",
     "output_type": "stream",
     "text": [
      "WARNING: CuPy could not be imported\n",
      "WARNING: CuPy could not be imported\n",
      "WARNING: CuPy could not be imported\n"
     ]
    }
   ],
   "source": [
    "som = so.dimension.som(\n",
    "    node_count=(30, 30),\n",
    "    dimension_count=img_data.shape[-1],\n",
    "    distance_metric=\"euclidean\",\n",
    "    use_gpu=False,\n",
    "    seed=42,\n",
    ")"
   ]
  },
  {
   "cell_type": "markdown",
   "metadata": {},
   "source": [
    "Next, we train our SOM on the data. Depending on the size of the data and the node count, this may take a while. To speed training up, consider training on a random subsample of your data. This can be achieved via `pp.data.subsample(data, method=\"fraction\", fraction=0.1)` or `pp.data.subsample(data, method=\"count\", count=10^9)`.\n"
   ]
  },
  {
   "cell_type": "code",
   "execution_count": 5,
   "metadata": {},
   "outputs": [],
   "source": [
    "img_data_subsample = so.data.subsample().fit_transform(img_data, method=\"fraction\", fraction=0.5, seed=42)"
   ]
  },
  {
   "cell_type": "code",
   "execution_count": 6,
   "metadata": {},
   "outputs": [
    {
     "name": "stderr",
     "output_type": "stream",
     "text": [
      "/Users/au734063/Documents/spatiomic/.venv/lib/python3.12/site-packages/xpysom/xpysom.py:425: RuntimeWarning: divide by zero encountered in divide\n",
      "  self._numerator_gpu / self._denominator_gpu,\n",
      "/Users/au734063/Documents/spatiomic/.venv/lib/python3.12/site-packages/xpysom/xpysom.py:425: RuntimeWarning: invalid value encountered in divide\n",
      "  self._numerator_gpu / self._denominator_gpu,\n"
     ]
    }
   ],
   "source": [
    "som.fit(img_data_subsample, iteration_count=100)"
   ]
  },
  {
   "cell_type": "markdown",
   "metadata": {},
   "source": [
    "## Graph clustering\n"
   ]
  },
  {
   "cell_type": "markdown",
   "metadata": {},
   "source": [
    "After our self-organising map finishes training, we can use its nodes that now represent the topography of our dataset to create a kNN graph. Finally, we perform Leiden graph clustering.\n"
   ]
  },
  {
   "cell_type": "code",
   "execution_count": 7,
   "metadata": {},
   "outputs": [],
   "source": [
    "knn_graph = so.neighbor.knn_graph().create(som, neighbor_count=100, distance_metric=\"euclidean\", use_gpu=False)\n",
    "clusters, modularity = so.cluster.leiden().predict(\n",
    "    knn_graph, resolution=0.5, seed=42, use_gpu=False, iteration_count=10\n",
    ")"
   ]
  },
  {
   "cell_type": "markdown",
   "metadata": {},
   "source": [
    "## Plotting & evaluation\n"
   ]
  },
  {
   "cell_type": "markdown",
   "metadata": {},
   "source": [
    "Now that we have identified clusters for each SOM node, we can use our SOM class to assign the cluster label of the closest SOM node to each pixel in the original data.\n"
   ]
  },
  {
   "cell_type": "code",
   "execution_count": 8,
   "metadata": {},
   "outputs": [],
   "source": [
    "labelled_data = som.label(img_data, clusters, save_path=\"./data/example_labelled.npy\")"
   ]
  },
  {
   "cell_type": "markdown",
   "metadata": {},
   "source": [
    "We can use the `plot` submodule to visualize the data:\n"
   ]
  },
  {
   "cell_type": "code",
   "execution_count": 9,
   "metadata": {},
   "outputs": [
    {
     "name": "stderr",
     "output_type": "stream",
     "text": [
      "/var/folders/vg/vt1jjh256dn1g4sd6pknwxbs_qmnws/T/ipykernel_61881/2329922638.py:1: UserWarning: The glasbey color palette is part of colorcet and distributed under the Creative Commons Attribution 4.0 International Public License (CC-BY).\n",
      "  colormap = so.plot.colormap(color_count=np.array(clusters).max() + 1, flavor=\"glasbey\")\n"
     ]
    },
    {
     "data": {
      "image/png": "[encoded data removed]",
      "text/plain": [
       "<Figure size 640x480 with 2 Axes>"
      ]
     },
     "metadata": {},
     "output_type": "display_data"
    }
   ],
   "source": [
    "colormap = so.plot.colormap(color_count=np.array(clusters).max() + 1, flavor=\"glasbey\")\n",
    "\n",
    "fig = so.plot.cluster_image(\n",
    "    labelled_data,\n",
    "    colormap=colormap,\n",
    ")"
   ]
  },
  {
   "cell_type": "markdown",
   "metadata": {},
   "source": [
    "We can also plot the locations of individual clusters:\n"
   ]
  },
  {
   "cell_type": "code",
   "execution_count": 10,
   "metadata": {},
   "outputs": [
    {
     "data": {
      "image/png": "[encoded data removed]",
      "text/plain": [
       "<Figure size 500x500 with 5 Axes>"
      ]
     },
     "metadata": {},
     "output_type": "display_data"
    }
   ],
   "source": [
    "fig = so.plot.cluster_location(labelled_data)\n",
    "fig.set_size_inches(5, 5)\n",
    "fig.tight_layout(pad=2)"
   ]
  },
  {
   "cell_type": "markdown",
   "metadata": {},
   "source": [
    "We can further evaluate how distributed the clusters are by calculating Moran's I.\n"
   ]
  },
  {
   "cell_type": "code",
   "execution_count": 11,
   "metadata": {},
   "outputs": [
    {
     "name": "stderr",
     "output_type": "stream",
     "text": [
      "Calculating spatial autocorrelation for each channel/cluster: 100%|██████████| 4/4 [00:00<00:00, 24.69it/s]\n"
     ]
    }
   ],
   "source": [
    "df_morans_i = so.spatial.autocorrelation().predict(labelled_data, method=\"moran\", permutation_count=500)"
   ]
  },
  {
   "cell_type": "code",
   "execution_count": 12,
   "metadata": {},
   "outputs": [
    {
     "data": {
      "text/html": [
       "<div>\n",
       "<style scoped>\n",
       "    .dataframe tbody tr th:only-of-type {\n",
       "        vertical-align: middle;\n",
       "    }\n",
       "\n",
       "    .dataframe tbody tr th {\n",
       "        vertical-align: top;\n",
       "    }\n",
       "\n",
       "    .dataframe thead th {\n",
       "        text-align: right;\n",
       "    }\n",
       "</style>\n",
       "<table border=\"1\" class=\"dataframe\">\n",
       "  <thead>\n",
       "    <tr style=\"text-align: right;\">\n",
       "      <th></th>\n",
       "      <th>cluster</th>\n",
       "      <th>morans_i</th>\n",
       "      <th>morans_i_expected</th>\n",
       "      <th>p_value</th>\n",
       "      <th>z_score</th>\n",
       "    </tr>\n",
       "  </thead>\n",
       "  <tbody>\n",
       "    <tr>\n",
       "      <th>0</th>\n",
       "      <td>0</td>\n",
       "      <td>0.810741</td>\n",
       "      <td>-0.000278</td>\n",
       "      <td>0.001996</td>\n",
       "      <td>100.076246</td>\n",
       "    </tr>\n",
       "    <tr>\n",
       "      <th>1</th>\n",
       "      <td>1</td>\n",
       "      <td>0.841830</td>\n",
       "      <td>-0.000278</td>\n",
       "      <td>0.001996</td>\n",
       "      <td>96.222970</td>\n",
       "    </tr>\n",
       "    <tr>\n",
       "      <th>2</th>\n",
       "      <td>2</td>\n",
       "      <td>0.846760</td>\n",
       "      <td>-0.000278</td>\n",
       "      <td>0.001996</td>\n",
       "      <td>108.678817</td>\n",
       "    </tr>\n",
       "    <tr>\n",
       "      <th>3</th>\n",
       "      <td>4</td>\n",
       "      <td>0.846887</td>\n",
       "      <td>-0.000278</td>\n",
       "      <td>0.001996</td>\n",
       "      <td>94.977202</td>\n",
       "    </tr>\n",
       "  </tbody>\n",
       "</table>\n",
       "</div>"
      ],
      "text/plain": [
       "   cluster  morans_i  morans_i_expected   p_value     z_score\n",
       "0        0  0.810741          -0.000278  0.001996  100.076246\n",
       "1        1  0.841830          -0.000278  0.001996   96.222970\n",
       "2        2  0.846760          -0.000278  0.001996  108.678817\n",
       "3        4  0.846887          -0.000278  0.001996   94.977202"
      ]
     },
     "execution_count": 12,
     "metadata": {},
     "output_type": "execute_result"
    }
   ],
   "source": [
    "df_morans_i"
   ]
  },
  {
   "cell_type": "markdown",
   "metadata": {},
   "source": [
    "To evaluate the correlation of the clusters with the channels in the original image, we can use the bivariate version of Moran's I.\n"
   ]
  },
  {
   "cell_type": "code",
   "execution_count": 13,
   "metadata": {},
   "outputs": [],
   "source": [
    "df_bv_morans_i = so.spatial.bivariate_correlation().predict(\n",
    "    data=labelled_data,\n",
    "    channel_image=img_data,\n",
    "    method=\"moran\",\n",
    ")"
   ]
  },
  {
   "cell_type": "markdown",
   "metadata": {},
   "source": [
    "An easy way to look at this data is by using the heatmap functionality from `seaborn`.\n"
   ]
  },
  {
   "cell_type": "code",
   "execution_count": 14,
   "metadata": {},
   "outputs": [
    {
     "data": {
      "text/plain": [
       "<Axes: xlabel='channel', ylabel='cluster'>"
      ]
     },
     "execution_count": 14,
     "metadata": {},
     "output_type": "execute_result"
    },
    {
     "data": {
      "image/png": "[encoded data removed]",
      "text/plain": [
       "<Figure size 250x250 with 2 Axes>"
      ]
     },
     "metadata": {},
     "output_type": "display_data"
    }
   ],
   "source": [
    "fig, ax = plt.subplots(dpi=100, figsize=(2.5, 2.5))\n",
    "sns.heatmap(\n",
    "    df_bv_morans_i.pivot(index=\"cluster\", columns=\"channel\", values=\"morans_i\"),\n",
    "    cmap=\"coolwarm\",\n",
    "    vmin=-1,\n",
    "    vmax=1,\n",
    "    annot=True,\n",
    "    fmt=\".2f\",\n",
    "    square=True,\n",
    "    ax=ax,\n",
    ")"
   ]
  },
  {
   "cell_type": "markdown",
   "metadata": {},
   "source": [
    "## Statistics\n"
   ]
  },
  {
   "cell_type": "markdown",
   "metadata": {},
   "source": [
    "We can also get the counts for each cluster in our image.\n"
   ]
  },
  {
   "cell_type": "code",
   "execution_count": 15,
   "metadata": {},
   "outputs": [],
   "source": [
    "df_cluster_abundances = so.tool.count_clusters(\n",
    "    file_paths=[\"./data/example_labelled.npy\"],\n",
    "    cluster_count=labelled_data.max() + 1,\n",
    ")"
   ]
  },
  {
   "cell_type": "code",
   "execution_count": 16,
   "metadata": {},
   "outputs": [
    {
     "data": {
      "text/plain": [
       "<Axes: ylabel='file_path'>"
      ]
     },
     "execution_count": 16,
     "metadata": {},
     "output_type": "execute_result"
    },
    {
     "data": {
      "image/png": "[encoded data removed]",
      "text/plain": [
       "<Figure size 640x480 with 1 Axes>"
      ]
     },
     "metadata": {},
     "output_type": "display_data"
    }
   ],
   "source": [
    "df_cluster_abundances.plot.barh()"
   ]
  },
  {
   "cell_type": "code",
   "execution_count": null,
   "metadata": {},
   "outputs": [],
   "source": []
  }
 ],
 "metadata": {
  "kernelspec": {
   "display_name": "spatiomic",
   "language": "python",
   "name": "python3"
  },
  "language_info": {
   "codemirror_mode": {
    "name": "ipython",
    "version": 3
   },
   "file_extension": ".py",
   "mimetype": "text/x-python",
   "name": "python",
   "nbconvert_exporter": "python",
   "pygments_lexer": "ipython3",
   "version": "3.12.10"
  },
  "orig_nbformat": 4
 },
 "nbformat": 4,
 "nbformat_minor": 2
}
