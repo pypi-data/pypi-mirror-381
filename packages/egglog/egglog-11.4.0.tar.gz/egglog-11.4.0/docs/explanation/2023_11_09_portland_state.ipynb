{
 "cells": [
  {
   "cell_type": "markdown",
   "id": "7fb27b941602401d91542211134fc71a",
   "metadata": {
    "notebookRunGroups": {
     "groupValue": "1"
    }
   },
   "source": [
    "```{post} 2023-11-09\n",
    ":author: Saul\n",
    "```\n"
   ]
  },
  {
   "cell_type": "markdown",
   "id": "9bcd0e70",
   "metadata": {
    "slideshow": {
     "slide_type": "slide"
    }
   },
   "source": [
    "# egglog\n",
    "\n",
    "## Bringing e-graphs to Python\n",
    "\n",
    "_Saul Shanabrook_\n"
   ]
  },
  {
   "cell_type": "markdown",
   "id": "22529135",
   "metadata": {
    "slideshow": {
     "slide_type": "slide"
    }
   },
   "source": [
    "![PL - PyData - egglog handshake meme](https://i.imgflip.com/85gsif.jpg)\n",
    "\n",
    "- PyData open source needs PL research to handle growing complexity\n",
    "- PL research can have large impact by working with PyData open source\n"
   ]
  },
  {
   "cell_type": "markdown",
   "id": "7ba71c0d",
   "metadata": {
    "slideshow": {
     "slide_type": "notes"
    }
   },
   "source": [
    "- Overview\n",
    "  - Why pydata (scientific computing) and PL researchers need each other...\n",
    "    - Python open source ecosystem around data, ML, scientific computing needs support of abstractions\n",
    "    - PL can use this rich ecosystem to promote its ideas to larger audiences, make them accessible, have large impact, and use the real world problem to drive research goals\n",
    "  - How a library for building e-graphs could help them come together\n"
   ]
  },
  {
   "cell_type": "markdown",
   "id": "38d197bb",
   "metadata": {
    "slideshow": {
     "slide_type": "slide"
    }
   },
   "source": [
    "## Contributed to...\n",
    "\n",
    "<img src=\"https://upload.wikimedia.org/wikipedia/commons/thumb/3/38/Jupyter_logo.svg/883px-Jupyter_logo.svg.png\" width=\"100px\" > <img src=\"https://pbs.twimg.com/media/CvORVm4XEAI4bMV?format=png&name=small\" width=\"100px\" > <img src=\"https://upload.wikimedia.org/wikipedia/commons/thumb/a/a9/Vega_Logo.svg/400px-Vega_Logo.svg.png\" width=\"100px\" >\n",
    "\n",
    "## Worked at...\n",
    "\n",
    "<img src=\"https://a.storyblok.com/f/152463/900x472/b289c484e3/qslabs-logo-opengraph-size.png\" width=\"200px\" align=\"center\"> <img src=\"https://lever-client-logos.s3.us-west-2.amazonaws.com/4c9e45ad-c4d3-4684-adfd-82d53e437d9e-1651884428345.png\" width=\"100px\" align=\"center\">\n",
    "\n",
    "## Applying to Ph.D. programs in <br /> programming languages/formal methods.\n"
   ]
  },
  {
   "cell_type": "markdown",
   "id": "14bc32fe",
   "metadata": {
    "slideshow": {
     "slide_type": "notes"
    }
   },
   "source": [
    "- My background\n",
    "\n",
    "  - Been working in open source python ecosystem 10 years\n",
    "    - Slide with logos of projects\n",
    "    - different communities, mainting projects\n",
    "    - startups, consulting, grants\n",
    "  - Applying to PhD programs in PL\n",
    "  - My own journey, reflective of needs of community, what that can offer research\n",
    "    - mutually beneficial collaboration\n"
   ]
  },
  {
   "cell_type": "markdown",
   "id": "a73d2c97",
   "metadata": {
    "slideshow": {
     "slide_type": "slide"
    }
   },
   "source": [
    "# First, some history....\n",
    "\n",
    "<img src=\"moa.png\" width=\"400px\">\n"
   ]
  },
  {
   "cell_type": "markdown",
   "id": "c3b7e89a",
   "metadata": {
    "slideshow": {
     "slide_type": "slide"
    }
   },
   "source": [
    "**[PYTHON MATRIX-SIG] Time for recap?**\n",
    "_Fri, 29 Sep 1995_\n",
    "\n",
    "How about separating out the representation and the structure?\n",
    "\n",
    "I believe I've seen C/Fortran matrix packages that made quite good use of this. The representation would be a simple 1-dimensional sequence. You'd normally not see or use this, but it would be there if you needed access to it (e.g. for passing to C/Fortran code).\n",
    "\n",
    "There's a simple way to map an index in an N-dim array into an index in the 1-dim representation array (Fortran compilers use it all the time :-).\n",
    "\n",
    "To make efficient use of this, I propose that slicing and indexing, as long as they return an object of rank >= 1, return an object that points into the same representation sequence.\n",
    "\n",
    "I propose one additional feature (which I believe I saw in Algol-68; some matrix packages may also use it): add a \"stride\" to each dimension (including the last). This makes it possible to have slices reference discontiguous parts of the underlying representation, and even to represent a transposed version!\n",
    "\n",
    "If we do things just right, it may be possible to pass in the sequence to be used as the representation -- it could be a Python list, tuple or array (from the array module).\n",
    "\n",
    "Again, all this can be prototyped in Python!\n",
    "\n",
    "I would give an example, but I have to run.\n",
    "\n",
    "--Guido van Rossum <guido@CNRI.Reston.VA.US>\n"
   ]
  },
  {
   "cell_type": "markdown",
   "id": "5eba630d",
   "metadata": {
    "slideshow": {
     "slide_type": "notes"
    }
   },
   "source": [
    "- mixing the representation from the implementation\n",
    "- Pointer, strides, dtype\n"
   ]
  },
  {
   "cell_type": "markdown",
   "id": "2778a894",
   "metadata": {
    "slideshow": {
     "slide_type": "slide"
    }
   },
   "source": [
    "_What is built on top of this?_\n",
    "\n",
    "> The term “ecosystem” is often used to describe the modern open-source scientific software. In biology, the term “ecosystem” is defined as a biological community of interacting organisms and their physical environment. Modern open-source scientific software development occurs in a similarly interconnected and interoperable fashion.\n",
    "\n",
    "[Jupyter Meets the Earth: Ecosystem](https://jupytearth.org/jupyter-resources/introduction/ecosystem.html)\n"
   ]
  },
  {
   "cell_type": "markdown",
   "id": "08f1ff36",
   "metadata": {
    "slideshow": {
     "slide_type": "notes"
    }
   },
   "source": [
    "- Why does Python need PL?\n",
    "  - It's in jeopardy now... but to explain how first have to start with history\n",
    "- History of Python open source\n",
    "  - interdependent collection of projects\n",
    "    - ecosystem\n",
    "    - governed independently\n",
    "      - Often Multi-stakeholder, from institutions or individuals\n",
    "    - depend on one another\n",
    "      - users will pull in multiple different projects to achieve their goals, that all work together\n",
    "    - This is why its so powerful, someone already built the library and also that the whole ecosystem can function as one big solution\n",
    "    - I love working in this space\n",
    "      - room for collaboration from diverse individuals\n",
    "      - values of transparency, openess, and collective good\n"
   ]
  },
  {
   "cell_type": "markdown",
   "id": "9b41cb41",
   "metadata": {
    "slideshow": {
     "slide_type": "slide"
    }
   },
   "source": [
    "## Python scientific computing ecosystem\n",
    "\n",
    "![](https://jupytearth.org/_images/python-stack.png)\n"
   ]
  },
  {
   "cell_type": "markdown",
   "id": "cd8123a1",
   "metadata": {
    "slideshow": {
     "slide_type": "notes"
    }
   },
   "source": [
    "- Original where it took off\n",
    "\n",
    "  - NumPy & SciPy\n",
    "    - created by Travis Oliphant, who I worked with and serves as a mentor in this pace\n",
    "    - Call out to C and Fortran routines\n",
    "    - pointer in memory, metadata about shape and dtype\n",
    "    - efficient, not have to leave python\n",
    "  - Pandas, scikit learn, matplotlib built on top of this\n",
    "    - common abstractions, allows users to take array from numpy, pass to scikit learn, then plot with matplotlib\n",
    "    - efficient, no memory copies required, becuase all understand common format of numpy pointers at C level, or numpy API at python level\n",
    "    - allows projects to be written by diverse people, innovation.\n"
   ]
  },
  {
   "cell_type": "markdown",
   "id": "cf6ca6a8",
   "metadata": {
    "slideshow": {
     "slide_type": "slide"
    }
   },
   "source": [
    "## How do we support todays targets?\n",
    "\n",
    "<img src=\"./ecosystem-graph.png\"  align=\"center\">\n",
    "\n",
    "_I made this four years ago, but gives a sense of some of the complexity_\n"
   ]
  },
  {
   "cell_type": "markdown",
   "id": "559f193e",
   "metadata": {
    "slideshow": {
     "slide_type": "notes"
    }
   },
   "source": [
    "- Different from today\n",
    "\n",
    "  - changes in hardware\n",
    "    - no longer single CPU\n",
    "      - multicore\n",
    "      - distributed accross many computers\n",
    "    - heterogenous compute\n",
    "      - GPU\n",
    "      - TPU\n",
    "      - ASICs\n",
    "    - constantly changing as well, not fixed.\n"
   ]
  },
  {
   "cell_type": "markdown",
   "id": "71020c75",
   "metadata": {
    "slideshow": {
     "slide_type": "slide"
    }
   },
   "source": [
    "## Arrays are no longer a pointer to contigious memory and metadata...\n"
   ]
  },
  {
   "cell_type": "markdown",
   "id": "d130c5cb",
   "metadata": {
    "slideshow": {
     "slide_type": "notes"
    }
   },
   "source": [
    "- abstractions no longe rhold\n",
    "  - pointer to array in memory + shape and type not sufficient as an interface between libraries\n",
    "  - If I want to use pytorch deep learning TODO EXAMPLE THAT ISNT POSSIBLE WITH PYTORCH\n",
    "  - memory might just be in CPU, might be on a GPU\n",
    "    - what if its actually chunked across a number of CPUs?\n",
    "  - also want to do whole program optimization, instead of going eagerly back and forth to compute and then to Python after every op, might want to analyze larger chunk of ops together and lower them\n"
   ]
  },
  {
   "cell_type": "markdown",
   "id": "3ad88a7b",
   "metadata": {
    "slideshow": {
     "slide_type": "slide"
    }
   },
   "source": [
    "## How do we manage the new complexity?\n",
    "\n",
    "Integrated frameworks funded by companies with 💸?\n",
    "\n",
    "<img src=\"https://upload.wikimedia.org/wikipedia/commons/thumb/8/86/Google_JAX_logo.svg/1024px-Google_JAX_logo.svg.png\" width=\"200px\" align=\"center\"> <img src=\"https://upload.wikimedia.org/wikipedia/commons/thumb/c/c6/PyTorch_logo_black.svg/2560px-PyTorch_logo_black.svg.png\" width=\"200px\" align=\"center\"> <img src=\"https://miro.medium.com/v2/resize:fit:1400/0*kXleHB9RbdRW26Uy.png\" width=\"200px\" align=\"center\">\n"
   ]
  },
  {
   "cell_type": "markdown",
   "id": "412358d5",
   "metadata": {
    "slideshow": {
     "slide_type": "notes"
    }
   },
   "source": [
    "- More complex!\n",
    "  - the workflows that manage this are often all encompassing, ala PyTorch, or TF/Jax, or even more so Mojo\n",
    "    - Owned by single company!\n",
    "      - PyTorch does have open gov, but all core maintainors are at meta\n",
    "    - Mojo basically fork the whole language, with lots of $$$$\n",
    "  - Users are locked into depending on these stacks, if you want to support the best performance\n",
    "  - focus of these companies is more narrow than scientific computing, prioritize their profit centers, of AI\n",
    "  - Many libraries are also re-implementing partial Python semantics\n",
    "    - Jax, Numba, Tensorflow PyTorch...\n",
    "    - to do whole program optimization must deal with parsing Python control flow\n",
    "- Libraries dont work together as well\n",
    "  - users end up having to choose one stack... incompatible with others\n",
    "  - if they want to change, must rewrite code\n",
    "  - if new hardware comes u that isnt covered, must rewrite\n",
    "  - for example probabilistic programming, have to choose one\n",
    "- Harder to have smaller isolated libraries that do only their strength\n",
    "  - to do this write, you have to basically be a whole compiler\n",
    "  - need to support lazy/eager\n",
    "- This is a crisis! We need help! What exactly do we need help with?\n"
   ]
  },
  {
   "cell_type": "markdown",
   "id": "ceb84c20",
   "metadata": {
    "slideshow": {
     "slide_type": "fragment"
    }
   },
   "source": [
    "_If we have tools to manage our complexity, can we have an ecosystem of interrelated DSLs and optimizations?_\n"
   ]
  },
  {
   "cell_type": "markdown",
   "id": "74d2752c",
   "metadata": {
    "slideshow": {
     "slide_type": "notes"
    }
   },
   "source": [
    "- If we take a step back, we can see the ecosystem as a whole as one big compiler itself\n",
    "\n",
    "  - But a ideosyncratic one with lots of mutually incompatible features\n",
    "  - If they are part of large compiler, what if they didnt have to re-implement that every time?\n",
    "    - by having careful ways of managing abstraction\n",
    "  - So what if we lean into the idea of all of these different domains, instead of trying to build a monolothic framework/compiler to rule them all, what if instead we just make it easier for different libraries to write their own piece?\n",
    "    - Hardware vendor: write just mapping from low level imperative domain to their hardware\n",
    "    - Math array library: write array to hardware\n",
    "    - End user: Target the domain they are familiar with\n",
    "    - optimizations: could be added seperate\n",
    "    - seperate of concerns\n",
    "  - Looks much like the goals of MLIR, BUT\n",
    "    - Python first\n",
    "    - MLIR is imperative first, it says very little about the underlying semantics of any domain\n",
    "    - Can we instead have a functional representation? Treat that as the underlying meta-domain?\n",
    "  - Whats missing is shared abstractions\n",
    "    - this is where it gets to be about people, they are domain experts, building tools for themselves\n",
    "      - has been successful so far\n",
    "    - but at a place where complexity has grown too much\n",
    "    - folks more interested in managing this complexity through abstraction often end up in other places\n",
    "      - julia, haskell, dependently typed languages\n",
    "  - Why is this relevant to PL?\n",
    "    - If we could have a place for these shared abstractions in Python TODO\n"
   ]
  },
  {
   "cell_type": "markdown",
   "id": "f90b638b",
   "metadata": {
    "slideshow": {
     "slide_type": "slide"
    }
   },
   "source": [
    "# Could e-graphs help?\n",
    "\n",
    "<img src=\"./egg.png\" width=\"600px\" align=\"center\">\n"
   ]
  },
  {
   "cell_type": "markdown",
   "id": "3417a380",
   "metadata": {
    "slideshow": {
     "slide_type": "notes"
    }
   },
   "source": [
    "- e-graphs\n",
    "\n",
    "  - Could they be a foundation we are looking for here?\n",
    "  - Overview\n",
    "\n",
    "    - How many people understand e-graph? Intuitive understanding?\n",
    "      - im newer to this world, just started learning about them in the past year\n",
    "      - very grateful to the work of the egg team, Max, Zach, Oliver, at UW and Berkeley for making accessible\n",
    "      - Im not an expert\n"
   ]
  },
  {
   "cell_type": "markdown",
   "id": "a72d64cb",
   "metadata": {
    "slideshow": {
     "slide_type": "slide"
    }
   },
   "source": [
    "## How to use egglog in Python?\n",
    "\n",
    "1. Describe domain with types & functions\n",
    "2. Write rewrite rules to express semantics\n",
    "3. Add expresions of interest\n",
    "4. Run rules\n",
    "5. Extract out lowest cost\n"
   ]
  },
  {
   "cell_type": "code",
   "execution_count": 1,
   "id": "e7f713f9",
   "metadata": {
    "slideshow": {
     "slide_type": "slide"
    }
   },
   "outputs": [],
   "source": [
    "from __future__ import annotations\n",
    "\n",
    "from egglog import *\n",
    "\n",
    "egraph = EGraph()\n",
    "\n",
    "\n",
    "# 1. Describe domain with types & functions\n",
    "@egraph.class_\n",
    "class Num(Expr):\n",
    "    def __init__(self, i: i64Like) -> None: ...\n",
    "\n",
    "    def __add__(self, other: Num) -> Num: ...\n",
    "\n",
    "\n",
    "@egraph.function(cost=20)\n",
    "def fib(x: i64Like) -> Num: ..."
   ]
  },
  {
   "cell_type": "markdown",
   "id": "77670071",
   "metadata": {
    "slideshow": {
     "slide_type": "notes"
    }
   },
   "source": [
    "- Working on Python bindings, I will show you some visualize examples\n",
    "\n",
    "  - Fib\n",
    "    - Create some abstract types & functions\n",
    "      - types work with existing linting\n",
    "        - Python can use static types\n",
    "        - Building DSLs with this feels natural, not a seperate ecosystem, compatible\n",
    "      - No actual body, so what if I call it?\n"
   ]
  },
  {
   "cell_type": "code",
   "execution_count": 2,
   "id": "364e4e45",
   "metadata": {
    "slideshow": {
     "slide_type": "subslide"
    }
   },
   "outputs": [],
   "source": [
    "# 2. Write rewrite rules to express semantics\n",
    "@egraph.register\n",
    "def _fib(a: i64, b: i64):\n",
    "    yield rewrite(Num(a) + Num(b)).to(Num(a + b))  # Pushdown additon\n",
    "    yield rewrite(fib(a)).to(fib(a - 1) + fib(a - 2), a > 1)  # Define fib recursively\n",
    "    yield rewrite(fib(a)).to(Num(a), a <= 1)  # Define base cases"
   ]
  },
  {
   "cell_type": "markdown",
   "id": "1bd36ace",
   "metadata": {
    "slideshow": {
     "slide_type": "notes"
    }
   },
   "source": [
    "    - create some rewrite rules\n",
    "      - define it recursively, and based on base cases\n"
   ]
  },
  {
   "cell_type": "code",
   "execution_count": 3,
   "id": "fd3d2ab9",
   "metadata": {
    "slideshow": {
     "slide_type": "subslide"
    }
   },
   "outputs": [
    {
     "data": {
      "application/vnd.jupyter.widget-view+json": {
       "model_id": "743fae2b78964bf1a5c6632ed60a7842",
       "version_major": 2,
       "version_minor": 0
      },
      "text/plain": [
       "VBox(children=(IntSlider(value=0, max=6), GraphvizWidget(dots=['digraph  {stylesheet=\"/var/folders/xn/05ktz305…"
      ]
     },
     "execution_count": 3,
     "metadata": {},
     "output_type": "execute_result"
    }
   ],
   "source": [
    "# 3. Add expresions of interest\n",
    "egraph.register(fib(4))\n",
    "# 4. Run rules\n",
    "egraph.saturate()"
   ]
  },
  {
   "cell_type": "markdown",
   "id": "937bd81b",
   "metadata": {
    "slideshow": {
     "slide_type": "notes"
    }
   },
   "source": [
    "      - <Add to e-graph>\n",
    "      - there is only one expression in the graph\n",
    "        - outer circle shows equivalence class, currnetly its not\n",
    "\n",
    "    - As we saturate it, we see how it expands up\n",
    "    - extract out minimum cost\n",
    "    - extract out all versions\n"
   ]
  },
  {
   "cell_type": "code",
   "execution_count": 4,
   "id": "99666a60",
   "metadata": {
    "slideshow": {
     "slide_type": "subslide"
    }
   },
   "outputs": [
    {
     "data": {
      "text/html": [
       "<style>pre { line-height: 125%; }\n",
       "td.linenos .normal { color: inherit; background-color: transparent; padding-left: 5px; padding-right: 5px; }\n",
       "span.linenos { color: inherit; background-color: transparent; padding-left: 5px; padding-right: 5px; }\n",
       "td.linenos .special { color: #000000; background-color: #ffffc0; padding-left: 5px; padding-right: 5px; }\n",
       "span.linenos.special { color: #000000; background-color: #ffffc0; padding-left: 5px; padding-right: 5px; }\n",
       ".output_html .hll { background-color: #ffffcc }\n",
       ".output_html { background: #f8f8f8; }\n",
       ".output_html .c { color: #3D7B7B; font-style: italic } /* Comment */\n",
       ".output_html .err { border: 1px solid #FF0000 } /* Error */\n",
       ".output_html .k { color: #008000; font-weight: bold } /* Keyword */\n",
       ".output_html .o { color: #666666 } /* Operator */\n",
       ".output_html .ch { color: #3D7B7B; font-style: italic } /* Comment.Hashbang */\n",
       ".output_html .cm { color: #3D7B7B; font-style: italic } /* Comment.Multiline */\n",
       ".output_html .cp { color: #9C6500 } /* Comment.Preproc */\n",
       ".output_html .cpf { color: #3D7B7B; font-style: italic } /* Comment.PreprocFile */\n",
       ".output_html .c1 { color: #3D7B7B; font-style: italic } /* Comment.Single */\n",
       ".output_html .cs { color: #3D7B7B; font-style: italic } /* Comment.Special */\n",
       ".output_html .gd { color: #A00000 } /* Generic.Deleted */\n",
       ".output_html .ge { font-style: italic } /* Generic.Emph */\n",
       ".output_html .ges { font-weight: bold; font-style: italic } /* Generic.EmphStrong */\n",
       ".output_html .gr { color: #E40000 } /* Generic.Error */\n",
       ".output_html .gh { color: #000080; font-weight: bold } /* Generic.Heading */\n",
       ".output_html .gi { color: #008400 } /* Generic.Inserted */\n",
       ".output_html .go { color: #717171 } /* Generic.Output */\n",
       ".output_html .gp { color: #000080; font-weight: bold } /* Generic.Prompt */\n",
       ".output_html .gs { font-weight: bold } /* Generic.Strong */\n",
       ".output_html .gu { color: #800080; font-weight: bold } /* Generic.Subheading */\n",
       ".output_html .gt { color: #0044DD } /* Generic.Traceback */\n",
       ".output_html .kc { color: #008000; font-weight: bold } /* Keyword.Constant */\n",
       ".output_html .kd { color: #008000; font-weight: bold } /* Keyword.Declaration */\n",
       ".output_html .kn { color: #008000; font-weight: bold } /* Keyword.Namespace */\n",
       ".output_html .kp { color: #008000 } /* Keyword.Pseudo */\n",
       ".output_html .kr { color: #008000; font-weight: bold } /* Keyword.Reserved */\n",
       ".output_html .kt { color: #B00040 } /* Keyword.Type */\n",
       ".output_html .m { color: #666666 } /* Literal.Number */\n",
       ".output_html .s { color: #BA2121 } /* Literal.String */\n",
       ".output_html .na { color: #687822 } /* Name.Attribute */\n",
       ".output_html .nb { color: #008000 } /* Name.Builtin */\n",
       ".output_html .nc { color: #0000FF; font-weight: bold } /* Name.Class */\n",
       ".output_html .no { color: #880000 } /* Name.Constant */\n",
       ".output_html .nd { color: #AA22FF } /* Name.Decorator */\n",
       ".output_html .ni { color: #717171; font-weight: bold } /* Name.Entity */\n",
       ".output_html .ne { color: #CB3F38; font-weight: bold } /* Name.Exception */\n",
       ".output_html .nf { color: #0000FF } /* Name.Function */\n",
       ".output_html .nl { color: #767600 } /* Name.Label */\n",
       ".output_html .nn { color: #0000FF; font-weight: bold } /* Name.Namespace */\n",
       ".output_html .nt { color: #008000; font-weight: bold } /* Name.Tag */\n",
       ".output_html .nv { color: #19177C } /* Name.Variable */\n",
       ".output_html .ow { color: #AA22FF; font-weight: bold } /* Operator.Word */\n",
       ".output_html .w { color: #bbbbbb } /* Text.Whitespace */\n",
       ".output_html .mb { color: #666666 } /* Literal.Number.Bin */\n",
       ".output_html .mf { color: #666666 } /* Literal.Number.Float */\n",
       ".output_html .mh { color: #666666 } /* Literal.Number.Hex */\n",
       ".output_html .mi { color: #666666 } /* Literal.Number.Integer */\n",
       ".output_html .mo { color: #666666 } /* Literal.Number.Oct */\n",
       ".output_html .sa { color: #BA2121 } /* Literal.String.Affix */\n",
       ".output_html .sb { color: #BA2121 } /* Literal.String.Backtick */\n",
       ".output_html .sc { color: #BA2121 } /* Literal.String.Char */\n",
       ".output_html .dl { color: #BA2121 } /* Literal.String.Delimiter */\n",
       ".output_html .sd { color: #BA2121; font-style: italic } /* Literal.String.Doc */\n",
       ".output_html .s2 { color: #BA2121 } /* Literal.String.Double */\n",
       ".output_html .se { color: #AA5D1F; font-weight: bold } /* Literal.String.Escape */\n",
       ".output_html .sh { color: #BA2121 } /* Literal.String.Heredoc */\n",
       ".output_html .si { color: #A45A77; font-weight: bold } /* Literal.String.Interpol */\n",
       ".output_html .sx { color: #008000 } /* Literal.String.Other */\n",
       ".output_html .sr { color: #A45A77 } /* Literal.String.Regex */\n",
       ".output_html .s1 { color: #BA2121 } /* Literal.String.Single */\n",
       ".output_html .ss { color: #19177C } /* Literal.String.Symbol */\n",
       ".output_html .bp { color: #008000 } /* Name.Builtin.Pseudo */\n",
       ".output_html .fm { color: #0000FF } /* Name.Function.Magic */\n",
       ".output_html .vc { color: #19177C } /* Name.Variable.Class */\n",
       ".output_html .vg { color: #19177C } /* Name.Variable.Global */\n",
       ".output_html .vi { color: #19177C } /* Name.Variable.Instance */\n",
       ".output_html .vm { color: #19177C } /* Name.Variable.Magic */\n",
       ".output_html .il { color: #666666 } /* Literal.Number.Integer.Long */</style><div class=\"highlight\"><pre><span></span><span class=\"n\">Num</span><span class=\"p\">(</span><span class=\"mi\">3</span><span class=\"p\">)</span>\n",
       "</pre></div>\n"
      ],
      "text/latex": [
       "\\begin{Verbatim}[commandchars=\\\\\\{\\}]\n",
       "\\PY{n}{Num}\\PY{p}{(}\\PY{l+m+mi}{3}\\PY{p}{)}\n",
       "\\end{Verbatim}\n"
      ],
      "text/plain": [
       "Num(3)"
      ]
     },
     "metadata": {},
     "output_type": "display_data"
    }
   ],
   "source": [
    "# 5. Extract out lowest cost equivalent expression\n",
    "egraph.extract(fib(4))"
   ]
  },
  {
   "cell_type": "code",
   "execution_count": 5,
   "id": "ff2d2f2b",
   "metadata": {},
   "outputs": [
    {
     "data": {
      "text/plain": [
       "[Num(3), Num(2) + Num(1), fib(4)]"
      ]
     },
     "execution_count": 5,
     "metadata": {},
     "output_type": "execute_result"
    }
   ],
   "source": [
    "egraph.extract_multiple(fib(4), 10)"
   ]
  },
  {
   "cell_type": "markdown",
   "id": "4544b9ec",
   "metadata": {
    "slideshow": {
     "slide_type": "notes"
    }
   },
   "source": [
    "- Procedure for optimization\n",
    "\n",
    "  - 1. build types & functions to describe API\n",
    "  - 2. add rewrite rules\n",
    "  - 3. add expresions to graph\n",
    "  - 4. run rules\n",
    "  - 5. extract out lowest cost\n"
   ]
  },
  {
   "cell_type": "markdown",
   "id": "97f33ffa",
   "metadata": {
    "slideshow": {
     "slide_type": "slide"
    }
   },
   "source": [
    "## What are the benefits for library authors?\n",
    "\n",
    "- **Composability**\n",
    "  - Rewrite rules are composable\n",
    "  - Can be written by different people\n",
    "  - Can be added on top of each other\n",
    "- **Abstraction**\n",
    "  - Only need to know type level information\n",
    "  - Can be used to build up more complex abstractions\n",
    "- **Pythonic**\n",
    "  - Rewrite rules are statically checked, based on type annotations\n",
    "  - Reeuse existing notation for class and function definitions and function application\n"
   ]
  },
  {
   "cell_type": "markdown",
   "id": "58b2ff4e",
   "metadata": {
    "slideshow": {
     "slide_type": "notes"
    }
   },
   "source": [
    "- Takeaways\n",
    "\n",
    "  - Different people can write all these different steps... or add on to them\n",
    "  - Also every object is stored as an abstract representation\n",
    "    - dont have any insight into the actual repersentation in memory...\n",
    "  - For example can make a variable number\n",
    "  - Basically creating an expression can only rely on type level information\n",
    "    - this isnt new for other more strongly typed languages\n",
    "    - but for Python, usually\n",
    "  - Allows for composition\n"
   ]
  },
  {
   "cell_type": "markdown",
   "id": "8b9db21b",
   "metadata": {
    "slideshow": {
     "slide_type": "slide"
    }
   },
   "source": [
    "# Larger real world example\n"
   ]
  },
  {
   "cell_type": "code",
   "execution_count": 6,
   "id": "8be695a7",
   "metadata": {},
   "outputs": [
    {
     "data": {
      "text/plain": [
       "array([[ 0.64233002],\n",
       "       [ 0.63661245],\n",
       "       [-1.603293  ],\n",
       "       ...,\n",
       "       [-1.1506433 ],\n",
       "       [ 0.71687176],\n",
       "       [-1.51119579]])"
      ]
     },
     "execution_count": 6,
     "metadata": {},
     "output_type": "execute_result"
    }
   ],
   "source": [
    "from sklearn import config_context\n",
    "from sklearn.datasets import make_classification\n",
    "from sklearn.discriminant_analysis import LinearDiscriminantAnalysis\n",
    "\n",
    "\n",
    "# Binary classification with scikit-learn\n",
    "def run_lda(x, y):\n",
    "    with config_context(array_api_dispatch=True):\n",
    "        lda = LinearDiscriminantAnalysis()\n",
    "        return lda.fit(x, y).transform(x)\n",
    "\n",
    "\n",
    "X_np, y_np = make_classification(random_state=0, n_samples=1000000)\n",
    "run_lda(X_np, y_np)"
   ]
  },
  {
   "cell_type": "markdown",
   "id": "bd6df272",
   "metadata": {
    "slideshow": {
     "slide_type": "notes"
    }
   },
   "source": [
    "- NumPy Array example\n",
    "  - Build up symbolic array\n",
    "    - arange 10 then get shape\n",
    "  - concrete more practical example\n",
    "    - lets say you are using scikit learn for in classification\n",
    "    - you call funtion a lot with array, but its slow\n",
    "    - What if we could partially evaluate it to create optimized form?\n",
    "      - use this with numba to JIT compile to LLVM\n",
    "      - totally omit the interfacing with Python interpreter\n",
    "      - but numba cant optimize scikit learn, it doesnt know this dilect\n",
    "      - but it does know numpy\n"
   ]
  },
  {
   "cell_type": "code",
   "execution_count": 7,
   "id": "41a76a83",
   "metadata": {
    "slideshow": {
     "slide_type": "subslide"
    }
   },
   "outputs": [
    {
     "data": {
      "text/html": [
       "<style>pre { line-height: 125%; }\n",
       "td.linenos .normal { color: inherit; background-color: transparent; padding-left: 5px; padding-right: 5px; }\n",
       "span.linenos { color: inherit; background-color: transparent; padding-left: 5px; padding-right: 5px; }\n",
       "td.linenos .special { color: #000000; background-color: #ffffc0; padding-left: 5px; padding-right: 5px; }\n",
       "span.linenos.special { color: #000000; background-color: #ffffc0; padding-left: 5px; padding-right: 5px; }\n",
       ".output_html .hll { background-color: #ffffcc }\n",
       ".output_html { background: #f8f8f8; }\n",
       ".output_html .c { color: #3D7B7B; font-style: italic } /* Comment */\n",
       ".output_html .err { border: 1px solid #FF0000 } /* Error */\n",
       ".output_html .k { color: #008000; font-weight: bold } /* Keyword */\n",
       ".output_html .o { color: #666666 } /* Operator */\n",
       ".output_html .ch { color: #3D7B7B; font-style: italic } /* Comment.Hashbang */\n",
       ".output_html .cm { color: #3D7B7B; font-style: italic } /* Comment.Multiline */\n",
       ".output_html .cp { color: #9C6500 } /* Comment.Preproc */\n",
       ".output_html .cpf { color: #3D7B7B; font-style: italic } /* Comment.PreprocFile */\n",
       ".output_html .c1 { color: #3D7B7B; font-style: italic } /* Comment.Single */\n",
       ".output_html .cs { color: #3D7B7B; font-style: italic } /* Comment.Special */\n",
       ".output_html .gd { color: #A00000 } /* Generic.Deleted */\n",
       ".output_html .ge { font-style: italic } /* Generic.Emph */\n",
       ".output_html .ges { font-weight: bold; font-style: italic } /* Generic.EmphStrong */\n",
       ".output_html .gr { color: #E40000 } /* Generic.Error */\n",
       ".output_html .gh { color: #000080; font-weight: bold } /* Generic.Heading */\n",
       ".output_html .gi { color: #008400 } /* Generic.Inserted */\n",
       ".output_html .go { color: #717171 } /* Generic.Output */\n",
       ".output_html .gp { color: #000080; font-weight: bold } /* Generic.Prompt */\n",
       ".output_html .gs { font-weight: bold } /* Generic.Strong */\n",
       ".output_html .gu { color: #800080; font-weight: bold } /* Generic.Subheading */\n",
       ".output_html .gt { color: #0044DD } /* Generic.Traceback */\n",
       ".output_html .kc { color: #008000; font-weight: bold } /* Keyword.Constant */\n",
       ".output_html .kd { color: #008000; font-weight: bold } /* Keyword.Declaration */\n",
       ".output_html .kn { color: #008000; font-weight: bold } /* Keyword.Namespace */\n",
       ".output_html .kp { color: #008000 } /* Keyword.Pseudo */\n",
       ".output_html .kr { color: #008000; font-weight: bold } /* Keyword.Reserved */\n",
       ".output_html .kt { color: #B00040 } /* Keyword.Type */\n",
       ".output_html .m { color: #666666 } /* Literal.Number */\n",
       ".output_html .s { color: #BA2121 } /* Literal.String */\n",
       ".output_html .na { color: #687822 } /* Name.Attribute */\n",
       ".output_html .nb { color: #008000 } /* Name.Builtin */\n",
       ".output_html .nc { color: #0000FF; font-weight: bold } /* Name.Class */\n",
       ".output_html .no { color: #880000 } /* Name.Constant */\n",
       ".output_html .nd { color: #AA22FF } /* Name.Decorator */\n",
       ".output_html .ni { color: #717171; font-weight: bold } /* Name.Entity */\n",
       ".output_html .ne { color: #CB3F38; font-weight: bold } /* Name.Exception */\n",
       ".output_html .nf { color: #0000FF } /* Name.Function */\n",
       ".output_html .nl { color: #767600 } /* Name.Label */\n",
       ".output_html .nn { color: #0000FF; font-weight: bold } /* Name.Namespace */\n",
       ".output_html .nt { color: #008000; font-weight: bold } /* Name.Tag */\n",
       ".output_html .nv { color: #19177C } /* Name.Variable */\n",
       ".output_html .ow { color: #AA22FF; font-weight: bold } /* Operator.Word */\n",
       ".output_html .w { color: #bbbbbb } /* Text.Whitespace */\n",
       ".output_html .mb { color: #666666 } /* Literal.Number.Bin */\n",
       ".output_html .mf { color: #666666 } /* Literal.Number.Float */\n",
       ".output_html .mh { color: #666666 } /* Literal.Number.Hex */\n",
       ".output_html .mi { color: #666666 } /* Literal.Number.Integer */\n",
       ".output_html .mo { color: #666666 } /* Literal.Number.Oct */\n",
       ".output_html .sa { color: #BA2121 } /* Literal.String.Affix */\n",
       ".output_html .sb { color: #BA2121 } /* Literal.String.Backtick */\n",
       ".output_html .sc { color: #BA2121 } /* Literal.String.Char */\n",
       ".output_html .dl { color: #BA2121 } /* Literal.String.Delimiter */\n",
       ".output_html .sd { color: #BA2121; font-style: italic } /* Literal.String.Doc */\n",
       ".output_html .s2 { color: #BA2121 } /* Literal.String.Double */\n",
       ".output_html .se { color: #AA5D1F; font-weight: bold } /* Literal.String.Escape */\n",
       ".output_html .sh { color: #BA2121 } /* Literal.String.Heredoc */\n",
       ".output_html .si { color: #A45A77; font-weight: bold } /* Literal.String.Interpol */\n",
       ".output_html .sx { color: #008000 } /* Literal.String.Other */\n",
       ".output_html .sr { color: #A45A77 } /* Literal.String.Regex */\n",
       ".output_html .s1 { color: #BA2121 } /* Literal.String.Single */\n",
       ".output_html .ss { color: #19177C } /* Literal.String.Symbol */\n",
       ".output_html .bp { color: #008000 } /* Name.Builtin.Pseudo */\n",
       ".output_html .fm { color: #0000FF } /* Name.Function.Magic */\n",
       ".output_html .vc { color: #19177C } /* Name.Variable.Class */\n",
       ".output_html .vg { color: #19177C } /* Name.Variable.Global */\n",
       ".output_html .vi { color: #19177C } /* Name.Variable.Instance */\n",
       ".output_html .vm { color: #19177C } /* Name.Variable.Magic */\n",
       ".output_html .il { color: #666666 } /* Literal.Number.Integer.Long */</style><div class=\"highlight\"><pre><span></span><span class=\"n\">NDArray</span><span class=\"o\">.</span><span class=\"n\">var</span><span class=\"p\">(</span><span class=\"s2\">&quot;x&quot;</span><span class=\"p\">)</span> <span class=\"o\">*</span> <span class=\"n\">NDArray</span><span class=\"o\">.</span><span class=\"n\">scalar</span><span class=\"p\">(</span><span class=\"n\">Value</span><span class=\"o\">.</span><span class=\"n\">int</span><span class=\"p\">(</span><span class=\"n\">Int</span><span class=\"p\">(</span><span class=\"mi\">2</span><span class=\"p\">)))</span>\n",
       "</pre></div>\n"
      ],
      "text/latex": [
       "\\begin{Verbatim}[commandchars=\\\\\\{\\}]\n",
       "\\PY{n}{NDArray}\\PY{o}{.}\\PY{n}{var}\\PY{p}{(}\\PY{l+s+s2}{\\PYZdq{}}\\PY{l+s+s2}{x}\\PY{l+s+s2}{\\PYZdq{}}\\PY{p}{)} \\PY{o}{*} \\PY{n}{NDArray}\\PY{o}{.}\\PY{n}{scalar}\\PY{p}{(}\\PY{n}{Value}\\PY{o}{.}\\PY{n}{int}\\PY{p}{(}\\PY{n}{Int}\\PY{p}{(}\\PY{l+m+mi}{2}\\PY{p}{)}\\PY{p}{)}\\PY{p}{)}\n",
       "\\end{Verbatim}\n"
      ],
      "text/plain": [
       "NDArray.var(\"x\") * NDArray.scalar(Value.int(Int(2)))"
      ]
     },
     "metadata": {},
     "output_type": "display_data"
    }
   ],
   "source": [
    "from egglog.exp.array_api import *\n",
    "\n",
    "x = NDArray.var(\"x\")\n",
    "x * 2"
   ]
  },
  {
   "cell_type": "code",
   "execution_count": 8,
   "id": "cbb1ae02",
   "metadata": {
    "slideshow": {
     "slide_type": "subslide"
    }
   },
   "outputs": [],
   "source": [
    "from egglog.exp.array_api_jit import jit\n",
    "\n",
    "\n",
    "@jit\n",
    "def optimized_fn(X, y):\n",
    "    # Add metadata about input shapes and dtypes, so that abstract array\n",
    "    # can pass scikit-learn runtime checks\n",
    "    assume_dtype(X, X_np.dtype)\n",
    "    assume_shape(X, X_np.shape)\n",
    "    assume_isfinite(X)\n",
    "\n",
    "    assume_dtype(y, y_np.dtype)\n",
    "    assume_shape(y, y_np.shape)\n",
    "    assume_value_one_of(y, (0, 1))\n",
    "\n",
    "    return run_lda(X, y)"
   ]
  },
  {
   "cell_type": "markdown",
   "id": "2c191446",
   "metadata": {
    "slideshow": {
     "slide_type": "notes"
    }
   },
   "source": [
    "    - By using egglog, we can translate between scikit learn domain and numpy\n",
    "      - if scikit-learn was written in egglog, this could be written as a re-write rule\n",
    "      - but its not, so what do we do?\n",
    "      - well because our array API conforms to the standards, we can pass in variable arrays\n",
    "      - shows power of egglog to work in environments where traditional python objects are expected\n",
    "    - we can call it\n",
    "      - we get back this big expression\n",
    "      - strongly typed\n",
    "      - mathematical\n",
    "      - in the dialect of this array api\n",
    "    - need to do a few translates actually to go into numba\n",
    "      - add rewrite rule to from mean to sum\n",
    "    - Then another one to go into Python string\n",
    "      - everything has been de-duplicated\n",
    "      - shape calculations have been partially evaluated\n",
    "    - if we evaluate peformance, we can see yes it did improve\n"
   ]
  },
  {
   "cell_type": "code",
   "execution_count": 9,
   "id": "b5db4d30",
   "metadata": {
    "slideshow": {
     "slide_type": "subslide"
    }
   },
   "outputs": [
    {
     "data": {
      "text/html": [
       "<style>pre { line-height: 125%; }\n",
       "td.linenos .normal { color: inherit; background-color: transparent; padding-left: 5px; padding-right: 5px; }\n",
       "span.linenos { color: inherit; background-color: transparent; padding-left: 5px; padding-right: 5px; }\n",
       "td.linenos .special { color: #000000; background-color: #ffffc0; padding-left: 5px; padding-right: 5px; }\n",
       "span.linenos.special { color: #000000; background-color: #ffffc0; padding-left: 5px; padding-right: 5px; }\n",
       ".output_html .hll { background-color: #ffffcc }\n",
       ".output_html { background: #f8f8f8; }\n",
       ".output_html .c { color: #3D7B7B; font-style: italic } /* Comment */\n",
       ".output_html .err { border: 1px solid #FF0000 } /* Error */\n",
       ".output_html .k { color: #008000; font-weight: bold } /* Keyword */\n",
       ".output_html .o { color: #666666 } /* Operator */\n",
       ".output_html .ch { color: #3D7B7B; font-style: italic } /* Comment.Hashbang */\n",
       ".output_html .cm { color: #3D7B7B; font-style: italic } /* Comment.Multiline */\n",
       ".output_html .cp { color: #9C6500 } /* Comment.Preproc */\n",
       ".output_html .cpf { color: #3D7B7B; font-style: italic } /* Comment.PreprocFile */\n",
       ".output_html .c1 { color: #3D7B7B; font-style: italic } /* Comment.Single */\n",
       ".output_html .cs { color: #3D7B7B; font-style: italic } /* Comment.Special */\n",
       ".output_html .gd { color: #A00000 } /* Generic.Deleted */\n",
       ".output_html .ge { font-style: italic } /* Generic.Emph */\n",
       ".output_html .ges { font-weight: bold; font-style: italic } /* Generic.EmphStrong */\n",
       ".output_html .gr { color: #E40000 } /* Generic.Error */\n",
       ".output_html .gh { color: #000080; font-weight: bold } /* Generic.Heading */\n",
       ".output_html .gi { color: #008400 } /* Generic.Inserted */\n",
       ".output_html .go { color: #717171 } /* Generic.Output */\n",
       ".output_html .gp { color: #000080; font-weight: bold } /* Generic.Prompt */\n",
       ".output_html .gs { font-weight: bold } /* Generic.Strong */\n",
       ".output_html .gu { color: #800080; font-weight: bold } /* Generic.Subheading */\n",
       ".output_html .gt { color: #0044DD } /* Generic.Traceback */\n",
       ".output_html .kc { color: #008000; font-weight: bold } /* Keyword.Constant */\n",
       ".output_html .kd { color: #008000; font-weight: bold } /* Keyword.Declaration */\n",
       ".output_html .kn { color: #008000; font-weight: bold } /* Keyword.Namespace */\n",
       ".output_html .kp { color: #008000 } /* Keyword.Pseudo */\n",
       ".output_html .kr { color: #008000; font-weight: bold } /* Keyword.Reserved */\n",
       ".output_html .kt { color: #B00040 } /* Keyword.Type */\n",
       ".output_html .m { color: #666666 } /* Literal.Number */\n",
       ".output_html .s { color: #BA2121 } /* Literal.String */\n",
       ".output_html .na { color: #687822 } /* Name.Attribute */\n",
       ".output_html .nb { color: #008000 } /* Name.Builtin */\n",
       ".output_html .nc { color: #0000FF; font-weight: bold } /* Name.Class */\n",
       ".output_html .no { color: #880000 } /* Name.Constant */\n",
       ".output_html .nd { color: #AA22FF } /* Name.Decorator */\n",
       ".output_html .ni { color: #717171; font-weight: bold } /* Name.Entity */\n",
       ".output_html .ne { color: #CB3F38; font-weight: bold } /* Name.Exception */\n",
       ".output_html .nf { color: #0000FF } /* Name.Function */\n",
       ".output_html .nl { color: #767600 } /* Name.Label */\n",
       ".output_html .nn { color: #0000FF; font-weight: bold } /* Name.Namespace */\n",
       ".output_html .nt { color: #008000; font-weight: bold } /* Name.Tag */\n",
       ".output_html .nv { color: #19177C } /* Name.Variable */\n",
       ".output_html .ow { color: #AA22FF; font-weight: bold } /* Operator.Word */\n",
       ".output_html .w { color: #bbbbbb } /* Text.Whitespace */\n",
       ".output_html .mb { color: #666666 } /* Literal.Number.Bin */\n",
       ".output_html .mf { color: #666666 } /* Literal.Number.Float */\n",
       ".output_html .mh { color: #666666 } /* Literal.Number.Hex */\n",
       ".output_html .mi { color: #666666 } /* Literal.Number.Integer */\n",
       ".output_html .mo { color: #666666 } /* Literal.Number.Oct */\n",
       ".output_html .sa { color: #BA2121 } /* Literal.String.Affix */\n",
       ".output_html .sb { color: #BA2121 } /* Literal.String.Backtick */\n",
       ".output_html .sc { color: #BA2121 } /* Literal.String.Char */\n",
       ".output_html .dl { color: #BA2121 } /* Literal.String.Delimiter */\n",
       ".output_html .sd { color: #BA2121; font-style: italic } /* Literal.String.Doc */\n",
       ".output_html .s2 { color: #BA2121 } /* Literal.String.Double */\n",
       ".output_html .se { color: #AA5D1F; font-weight: bold } /* Literal.String.Escape */\n",
       ".output_html .sh { color: #BA2121 } /* Literal.String.Heredoc */\n",
       ".output_html .si { color: #A45A77; font-weight: bold } /* Literal.String.Interpol */\n",
       ".output_html .sx { color: #008000 } /* Literal.String.Other */\n",
       ".output_html .sr { color: #A45A77 } /* Literal.String.Regex */\n",
       ".output_html .s1 { color: #BA2121 } /* Literal.String.Single */\n",
       ".output_html .ss { color: #19177C } /* Literal.String.Symbol */\n",
       ".output_html .bp { color: #008000 } /* Name.Builtin.Pseudo */\n",
       ".output_html .fm { color: #0000FF } /* Name.Function.Magic */\n",
       ".output_html .vc { color: #19177C } /* Name.Variable.Class */\n",
       ".output_html .vg { color: #19177C } /* Name.Variable.Global */\n",
       ".output_html .vi { color: #19177C } /* Name.Variable.Instance */\n",
       ".output_html .vm { color: #19177C } /* Name.Variable.Magic */\n",
       ".output_html .il { color: #666666 } /* Literal.Number.Integer.Long */</style><div class=\"highlight\"><pre><span></span><span class=\"n\">_NDArray_1</span> <span class=\"o\">=</span> <span class=\"n\">NDArray</span><span class=\"o\">.</span><span class=\"n\">var</span><span class=\"p\">(</span><span class=\"s2\">&quot;X&quot;</span><span class=\"p\">)</span>\n",
       "<span class=\"n\">assume_dtype</span><span class=\"p\">(</span><span class=\"n\">_NDArray_1</span><span class=\"p\">,</span> <span class=\"n\">DType</span><span class=\"o\">.</span><span class=\"n\">float64</span><span class=\"p\">)</span>\n",
       "<span class=\"n\">assume_shape</span><span class=\"p\">(</span><span class=\"n\">_NDArray_1</span><span class=\"p\">,</span> <span class=\"n\">TupleInt</span><span class=\"p\">(</span><span class=\"n\">Int</span><span class=\"p\">(</span><span class=\"mi\">1000000</span><span class=\"p\">))</span> <span class=\"o\">+</span> <span class=\"n\">TupleInt</span><span class=\"p\">(</span><span class=\"n\">Int</span><span class=\"p\">(</span><span class=\"mi\">20</span><span class=\"p\">)))</span>\n",
       "<span class=\"n\">assume_isfinite</span><span class=\"p\">(</span><span class=\"n\">_NDArray_1</span><span class=\"p\">)</span>\n",
       "<span class=\"n\">_NDArray_2</span> <span class=\"o\">=</span> <span class=\"n\">NDArray</span><span class=\"o\">.</span><span class=\"n\">var</span><span class=\"p\">(</span><span class=\"s2\">&quot;y&quot;</span><span class=\"p\">)</span>\n",
       "<span class=\"n\">assume_dtype</span><span class=\"p\">(</span><span class=\"n\">_NDArray_2</span><span class=\"p\">,</span> <span class=\"n\">DType</span><span class=\"o\">.</span><span class=\"n\">int64</span><span class=\"p\">)</span>\n",
       "<span class=\"n\">assume_shape</span><span class=\"p\">(</span><span class=\"n\">_NDArray_2</span><span class=\"p\">,</span> <span class=\"n\">TupleInt</span><span class=\"p\">(</span><span class=\"n\">Int</span><span class=\"p\">(</span><span class=\"mi\">1000000</span><span class=\"p\">)))</span>\n",
       "<span class=\"n\">assume_value_one_of</span><span class=\"p\">(</span><span class=\"n\">_NDArray_2</span><span class=\"p\">,</span> <span class=\"n\">TupleValue</span><span class=\"p\">(</span><span class=\"n\">Value</span><span class=\"o\">.</span><span class=\"n\">int</span><span class=\"p\">(</span><span class=\"n\">Int</span><span class=\"p\">(</span><span class=\"mi\">0</span><span class=\"p\">)))</span> <span class=\"o\">+</span> <span class=\"n\">TupleValue</span><span class=\"p\">(</span><span class=\"n\">Value</span><span class=\"o\">.</span><span class=\"n\">int</span><span class=\"p\">(</span><span class=\"n\">Int</span><span class=\"p\">(</span><span class=\"mi\">1</span><span class=\"p\">))))</span>\n",
       "<span class=\"n\">_NDArray_3</span> <span class=\"o\">=</span> <span class=\"n\">astype</span><span class=\"p\">(</span>\n",
       "    <span class=\"n\">NDArray</span><span class=\"o\">.</span><span class=\"n\">vector</span><span class=\"p\">(</span><span class=\"n\">TupleValue</span><span class=\"p\">(</span><span class=\"nb\">sum</span><span class=\"p\">(</span><span class=\"n\">_NDArray_2</span> <span class=\"o\">==</span> <span class=\"n\">NDArray</span><span class=\"o\">.</span><span class=\"n\">scalar</span><span class=\"p\">(</span><span class=\"n\">Value</span><span class=\"o\">.</span><span class=\"n\">int</span><span class=\"p\">(</span><span class=\"n\">Int</span><span class=\"p\">(</span><span class=\"mi\">0</span><span class=\"p\">))))</span><span class=\"o\">.</span><span class=\"n\">to_value</span><span class=\"p\">())</span> <span class=\"o\">+</span> <span class=\"n\">TupleValue</span><span class=\"p\">(</span><span class=\"nb\">sum</span><span class=\"p\">(</span><span class=\"n\">_NDArray_2</span> <span class=\"o\">==</span> <span class=\"n\">NDArray</span><span class=\"o\">.</span><span class=\"n\">scalar</span><span class=\"p\">(</span><span class=\"n\">Value</span><span class=\"o\">.</span><span class=\"n\">int</span><span class=\"p\">(</span><span class=\"n\">Int</span><span class=\"p\">(</span><span class=\"mi\">1</span><span class=\"p\">))))</span><span class=\"o\">.</span><span class=\"n\">to_value</span><span class=\"p\">())),</span>\n",
       "    <span class=\"n\">DType</span><span class=\"o\">.</span><span class=\"n\">float64</span><span class=\"p\">,</span>\n",
       "<span class=\"p\">)</span> <span class=\"o\">/</span> <span class=\"n\">NDArray</span><span class=\"o\">.</span><span class=\"n\">scalar</span><span class=\"p\">(</span><span class=\"n\">Value</span><span class=\"o\">.</span><span class=\"n\">float</span><span class=\"p\">(</span><span class=\"n\">Float</span><span class=\"p\">(</span><span class=\"mf\">1000000.0</span><span class=\"p\">)))</span>\n",
       "<span class=\"n\">_NDArray_4</span> <span class=\"o\">=</span> <span class=\"n\">zeros</span><span class=\"p\">(</span><span class=\"n\">TupleInt</span><span class=\"p\">(</span><span class=\"n\">Int</span><span class=\"p\">(</span><span class=\"mi\">2</span><span class=\"p\">))</span> <span class=\"o\">+</span> <span class=\"n\">TupleInt</span><span class=\"p\">(</span><span class=\"n\">Int</span><span class=\"p\">(</span><span class=\"mi\">20</span><span class=\"p\">)),</span> <span class=\"n\">OptionalDType</span><span class=\"o\">.</span><span class=\"n\">some</span><span class=\"p\">(</span><span class=\"n\">DType</span><span class=\"o\">.</span><span class=\"n\">float64</span><span class=\"p\">),</span> <span class=\"n\">OptionalDevice</span><span class=\"o\">.</span><span class=\"n\">some</span><span class=\"p\">(</span><span class=\"n\">_NDArray_1</span><span class=\"o\">.</span><span class=\"n\">device</span><span class=\"p\">))</span>\n",
       "<span class=\"n\">_MultiAxisIndexKey_1</span> <span class=\"o\">=</span> <span class=\"n\">MultiAxisIndexKey</span><span class=\"p\">(</span><span class=\"n\">MultiAxisIndexKeyItem</span><span class=\"o\">.</span><span class=\"n\">slice</span><span class=\"p\">(</span><span class=\"n\">Slice</span><span class=\"p\">()))</span>\n",
       "<span class=\"n\">_IndexKey_1</span> <span class=\"o\">=</span> <span class=\"n\">IndexKey</span><span class=\"o\">.</span><span class=\"n\">multi_axis</span><span class=\"p\">(</span><span class=\"n\">MultiAxisIndexKey</span><span class=\"p\">(</span><span class=\"n\">MultiAxisIndexKeyItem</span><span class=\"o\">.</span><span class=\"n\">int</span><span class=\"p\">(</span><span class=\"n\">Int</span><span class=\"p\">(</span><span class=\"mi\">0</span><span class=\"p\">)))</span> <span class=\"o\">+</span> <span class=\"n\">_MultiAxisIndexKey_1</span><span class=\"p\">)</span>\n",
       "<span class=\"n\">_NDArray_5</span> <span class=\"o\">=</span> <span class=\"n\">_NDArray_1</span><span class=\"p\">[</span><span class=\"n\">ndarray_index</span><span class=\"p\">(</span><span class=\"n\">_NDArray_2</span> <span class=\"o\">==</span> <span class=\"n\">NDArray</span><span class=\"o\">.</span><span class=\"n\">scalar</span><span class=\"p\">(</span><span class=\"n\">Value</span><span class=\"o\">.</span><span class=\"n\">int</span><span class=\"p\">(</span><span class=\"n\">Int</span><span class=\"p\">(</span><span class=\"mi\">0</span><span class=\"p\">))))]</span>\n",
       "<span class=\"n\">_OptionalIntOrTuple_1</span> <span class=\"o\">=</span> <span class=\"n\">OptionalIntOrTuple</span><span class=\"o\">.</span><span class=\"n\">some</span><span class=\"p\">(</span><span class=\"n\">IntOrTuple</span><span class=\"o\">.</span><span class=\"n\">int</span><span class=\"p\">(</span><span class=\"n\">Int</span><span class=\"p\">(</span><span class=\"mi\">0</span><span class=\"p\">)))</span>\n",
       "<span class=\"n\">_NDArray_4</span><span class=\"p\">[</span><span class=\"n\">_IndexKey_1</span><span class=\"p\">]</span> <span class=\"o\">=</span> <span class=\"nb\">sum</span><span class=\"p\">(</span><span class=\"n\">_NDArray_5</span><span class=\"p\">,</span> <span class=\"n\">_OptionalIntOrTuple_1</span><span class=\"p\">)</span> <span class=\"o\">/</span> <span class=\"n\">NDArray</span><span class=\"o\">.</span><span class=\"n\">scalar</span><span class=\"p\">(</span><span class=\"n\">Value</span><span class=\"o\">.</span><span class=\"n\">int</span><span class=\"p\">(</span><span class=\"n\">_NDArray_5</span><span class=\"o\">.</span><span class=\"n\">shape</span><span class=\"p\">[</span><span class=\"n\">Int</span><span class=\"p\">(</span><span class=\"mi\">0</span><span class=\"p\">)]))</span>\n",
       "<span class=\"n\">_IndexKey_2</span> <span class=\"o\">=</span> <span class=\"n\">IndexKey</span><span class=\"o\">.</span><span class=\"n\">multi_axis</span><span class=\"p\">(</span><span class=\"n\">MultiAxisIndexKey</span><span class=\"p\">(</span><span class=\"n\">MultiAxisIndexKeyItem</span><span class=\"o\">.</span><span class=\"n\">int</span><span class=\"p\">(</span><span class=\"n\">Int</span><span class=\"p\">(</span><span class=\"mi\">1</span><span class=\"p\">)))</span> <span class=\"o\">+</span> <span class=\"n\">_MultiAxisIndexKey_1</span><span class=\"p\">)</span>\n",
       "<span class=\"n\">_NDArray_6</span> <span class=\"o\">=</span> <span class=\"n\">_NDArray_1</span><span class=\"p\">[</span><span class=\"n\">ndarray_index</span><span class=\"p\">(</span><span class=\"n\">_NDArray_2</span> <span class=\"o\">==</span> <span class=\"n\">NDArray</span><span class=\"o\">.</span><span class=\"n\">scalar</span><span class=\"p\">(</span><span class=\"n\">Value</span><span class=\"o\">.</span><span class=\"n\">int</span><span class=\"p\">(</span><span class=\"n\">Int</span><span class=\"p\">(</span><span class=\"mi\">1</span><span class=\"p\">))))]</span>\n",
       "<span class=\"n\">_NDArray_4</span><span class=\"p\">[</span><span class=\"n\">_IndexKey_2</span><span class=\"p\">]</span> <span class=\"o\">=</span> <span class=\"nb\">sum</span><span class=\"p\">(</span><span class=\"n\">_NDArray_6</span><span class=\"p\">,</span> <span class=\"n\">_OptionalIntOrTuple_1</span><span class=\"p\">)</span> <span class=\"o\">/</span> <span class=\"n\">NDArray</span><span class=\"o\">.</span><span class=\"n\">scalar</span><span class=\"p\">(</span><span class=\"n\">Value</span><span class=\"o\">.</span><span class=\"n\">int</span><span class=\"p\">(</span><span class=\"n\">_NDArray_6</span><span class=\"o\">.</span><span class=\"n\">shape</span><span class=\"p\">[</span><span class=\"n\">Int</span><span class=\"p\">(</span><span class=\"mi\">0</span><span class=\"p\">)]))</span>\n",
       "<span class=\"n\">_NDArray_7</span> <span class=\"o\">=</span> <span class=\"n\">concat</span><span class=\"p\">(</span><span class=\"n\">TupleNDArray</span><span class=\"p\">(</span><span class=\"n\">_NDArray_5</span> <span class=\"o\">-</span> <span class=\"n\">_NDArray_4</span><span class=\"p\">[</span><span class=\"n\">_IndexKey_1</span><span class=\"p\">])</span> <span class=\"o\">+</span> <span class=\"n\">TupleNDArray</span><span class=\"p\">(</span><span class=\"n\">_NDArray_6</span> <span class=\"o\">-</span> <span class=\"n\">_NDArray_4</span><span class=\"p\">[</span><span class=\"n\">_IndexKey_2</span><span class=\"p\">]),</span> <span class=\"n\">OptionalInt</span><span class=\"o\">.</span><span class=\"n\">some</span><span class=\"p\">(</span><span class=\"n\">Int</span><span class=\"p\">(</span><span class=\"mi\">0</span><span class=\"p\">)))</span>\n",
       "<span class=\"n\">_NDArray_8</span> <span class=\"o\">=</span> <span class=\"n\">square</span><span class=\"p\">(</span><span class=\"n\">_NDArray_7</span> <span class=\"o\">-</span> <span class=\"n\">expand_dims</span><span class=\"p\">(</span><span class=\"nb\">sum</span><span class=\"p\">(</span><span class=\"n\">_NDArray_7</span><span class=\"p\">,</span> <span class=\"n\">_OptionalIntOrTuple_1</span><span class=\"p\">)</span> <span class=\"o\">/</span> <span class=\"n\">NDArray</span><span class=\"o\">.</span><span class=\"n\">scalar</span><span class=\"p\">(</span><span class=\"n\">Value</span><span class=\"o\">.</span><span class=\"n\">int</span><span class=\"p\">(</span><span class=\"n\">_NDArray_7</span><span class=\"o\">.</span><span class=\"n\">shape</span><span class=\"p\">[</span><span class=\"n\">Int</span><span class=\"p\">(</span><span class=\"mi\">0</span><span class=\"p\">)]))))</span>\n",
       "<span class=\"n\">_NDArray_9</span> <span class=\"o\">=</span> <span class=\"n\">sqrt</span><span class=\"p\">(</span><span class=\"nb\">sum</span><span class=\"p\">(</span><span class=\"n\">_NDArray_8</span><span class=\"p\">,</span> <span class=\"n\">_OptionalIntOrTuple_1</span><span class=\"p\">)</span> <span class=\"o\">/</span> <span class=\"n\">NDArray</span><span class=\"o\">.</span><span class=\"n\">scalar</span><span class=\"p\">(</span><span class=\"n\">Value</span><span class=\"o\">.</span><span class=\"n\">int</span><span class=\"p\">(</span><span class=\"n\">_NDArray_8</span><span class=\"o\">.</span><span class=\"n\">shape</span><span class=\"p\">[</span><span class=\"n\">Int</span><span class=\"p\">(</span><span class=\"mi\">0</span><span class=\"p\">)])))</span>\n",
       "<span class=\"n\">_NDArray_10</span> <span class=\"o\">=</span> <span class=\"n\">copy</span><span class=\"p\">(</span><span class=\"n\">_NDArray_9</span><span class=\"p\">)</span>\n",
       "<span class=\"n\">_NDArray_10</span><span class=\"p\">[</span><span class=\"n\">ndarray_index</span><span class=\"p\">(</span><span class=\"n\">_NDArray_9</span> <span class=\"o\">==</span> <span class=\"n\">NDArray</span><span class=\"o\">.</span><span class=\"n\">scalar</span><span class=\"p\">(</span><span class=\"n\">Value</span><span class=\"o\">.</span><span class=\"n\">int</span><span class=\"p\">(</span><span class=\"n\">Int</span><span class=\"p\">(</span><span class=\"mi\">0</span><span class=\"p\">))))]</span> <span class=\"o\">=</span> <span class=\"n\">NDArray</span><span class=\"o\">.</span><span class=\"n\">scalar</span><span class=\"p\">(</span><span class=\"n\">Value</span><span class=\"o\">.</span><span class=\"n\">float</span><span class=\"p\">(</span><span class=\"n\">Float</span><span class=\"p\">(</span><span class=\"mf\">1.0</span><span class=\"p\">)))</span>\n",
       "<span class=\"n\">_TupleNDArray_1</span> <span class=\"o\">=</span> <span class=\"n\">svd</span><span class=\"p\">(</span><span class=\"n\">sqrt</span><span class=\"p\">(</span><span class=\"n\">NDArray</span><span class=\"o\">.</span><span class=\"n\">scalar</span><span class=\"p\">(</span><span class=\"n\">Value</span><span class=\"o\">.</span><span class=\"n\">float</span><span class=\"p\">(</span><span class=\"n\">Float</span><span class=\"o\">.</span><span class=\"n\">rational</span><span class=\"p\">(</span><span class=\"n\">Rational</span><span class=\"p\">(</span><span class=\"mi\">1</span><span class=\"p\">,</span> <span class=\"mi\">999998</span><span class=\"p\">)))))</span> <span class=\"o\">*</span> <span class=\"p\">(</span><span class=\"n\">_NDArray_7</span> <span class=\"o\">/</span> <span class=\"n\">_NDArray_10</span><span class=\"p\">),</span> <span class=\"n\">FALSE</span><span class=\"p\">)</span>\n",
       "<span class=\"n\">_Slice_1</span> <span class=\"o\">=</span> <span class=\"n\">Slice</span><span class=\"p\">(</span><span class=\"n\">OptionalInt</span><span class=\"o\">.</span><span class=\"n\">none</span><span class=\"p\">,</span> <span class=\"n\">OptionalInt</span><span class=\"o\">.</span><span class=\"n\">some</span><span class=\"p\">(</span><span class=\"nb\">sum</span><span class=\"p\">(</span><span class=\"n\">astype</span><span class=\"p\">(</span><span class=\"n\">_TupleNDArray_1</span><span class=\"p\">[</span><span class=\"n\">Int</span><span class=\"p\">(</span><span class=\"mi\">1</span><span class=\"p\">)]</span> <span class=\"o\">&gt;</span> <span class=\"n\">NDArray</span><span class=\"o\">.</span><span class=\"n\">scalar</span><span class=\"p\">(</span><span class=\"n\">Value</span><span class=\"o\">.</span><span class=\"n\">float</span><span class=\"p\">(</span><span class=\"n\">Float</span><span class=\"p\">(</span><span class=\"mf\">0.0001</span><span class=\"p\">))),</span> <span class=\"n\">DType</span><span class=\"o\">.</span><span class=\"n\">int32</span><span class=\"p\">))</span><span class=\"o\">.</span><span class=\"n\">to_value</span><span class=\"p\">()</span><span class=\"o\">.</span><span class=\"n\">to_int</span><span class=\"p\">))</span>\n",
       "<span class=\"n\">_NDArray_11</span> <span class=\"o\">=</span> <span class=\"p\">(</span><span class=\"n\">_TupleNDArray_1</span><span class=\"p\">[</span><span class=\"n\">Int</span><span class=\"p\">(</span><span class=\"mi\">2</span><span class=\"p\">)][</span><span class=\"n\">IndexKey</span><span class=\"o\">.</span><span class=\"n\">multi_axis</span><span class=\"p\">(</span><span class=\"n\">MultiAxisIndexKey</span><span class=\"p\">(</span><span class=\"n\">MultiAxisIndexKeyItem</span><span class=\"o\">.</span><span class=\"n\">slice</span><span class=\"p\">(</span><span class=\"n\">_Slice_1</span><span class=\"p\">))</span> <span class=\"o\">+</span> <span class=\"n\">_MultiAxisIndexKey_1</span><span class=\"p\">)]</span> <span class=\"o\">/</span> <span class=\"n\">_NDArray_10</span><span class=\"p\">)</span><span class=\"o\">.</span><span class=\"n\">T</span> <span class=\"o\">/</span> <span class=\"n\">_TupleNDArray_1</span><span class=\"p\">[</span>\n",
       "    <span class=\"n\">Int</span><span class=\"p\">(</span><span class=\"mi\">1</span><span class=\"p\">)</span>\n",
       "<span class=\"p\">][</span><span class=\"n\">IndexKey</span><span class=\"o\">.</span><span class=\"n\">slice</span><span class=\"p\">(</span><span class=\"n\">_Slice_1</span><span class=\"p\">)]</span>\n",
       "<span class=\"n\">_TupleNDArray_2</span> <span class=\"o\">=</span> <span class=\"n\">svd</span><span class=\"p\">(</span>\n",
       "    <span class=\"p\">(</span><span class=\"n\">sqrt</span><span class=\"p\">((</span><span class=\"n\">NDArray</span><span class=\"o\">.</span><span class=\"n\">scalar</span><span class=\"p\">(</span><span class=\"n\">Value</span><span class=\"o\">.</span><span class=\"n\">int</span><span class=\"p\">(</span><span class=\"n\">Int</span><span class=\"p\">(</span><span class=\"mi\">1000000</span><span class=\"p\">)))</span> <span class=\"o\">*</span> <span class=\"n\">_NDArray_3</span><span class=\"p\">)</span> <span class=\"o\">*</span> <span class=\"n\">NDArray</span><span class=\"o\">.</span><span class=\"n\">scalar</span><span class=\"p\">(</span><span class=\"n\">Value</span><span class=\"o\">.</span><span class=\"n\">float</span><span class=\"p\">(</span><span class=\"n\">Float</span><span class=\"p\">(</span><span class=\"mf\">1.0</span><span class=\"p\">))))</span> <span class=\"o\">*</span> <span class=\"p\">(</span><span class=\"n\">_NDArray_4</span> <span class=\"o\">-</span> <span class=\"p\">(</span><span class=\"n\">_NDArray_3</span> <span class=\"o\">@</span> <span class=\"n\">_NDArray_4</span><span class=\"p\">))</span><span class=\"o\">.</span><span class=\"n\">T</span><span class=\"p\">)</span><span class=\"o\">.</span><span class=\"n\">T</span> <span class=\"o\">@</span> <span class=\"n\">_NDArray_11</span><span class=\"p\">,</span> <span class=\"n\">FALSE</span>\n",
       "<span class=\"p\">)</span>\n",
       "<span class=\"p\">(</span>\n",
       "    <span class=\"p\">(</span><span class=\"n\">_NDArray_1</span> <span class=\"o\">-</span> <span class=\"p\">(</span><span class=\"n\">_NDArray_3</span> <span class=\"o\">@</span> <span class=\"n\">_NDArray_4</span><span class=\"p\">))</span>\n",
       "    <span class=\"o\">@</span> <span class=\"p\">(</span>\n",
       "        <span class=\"n\">_NDArray_11</span>\n",
       "        <span class=\"o\">@</span> <span class=\"n\">_TupleNDArray_2</span><span class=\"p\">[</span><span class=\"n\">Int</span><span class=\"p\">(</span><span class=\"mi\">2</span><span class=\"p\">)]</span><span class=\"o\">.</span><span class=\"n\">T</span><span class=\"p\">[</span>\n",
       "            <span class=\"n\">IndexKey</span><span class=\"o\">.</span><span class=\"n\">multi_axis</span><span class=\"p\">(</span>\n",
       "                <span class=\"n\">_MultiAxisIndexKey_1</span>\n",
       "                <span class=\"o\">+</span> <span class=\"n\">MultiAxisIndexKey</span><span class=\"p\">(</span>\n",
       "                    <span class=\"n\">MultiAxisIndexKeyItem</span><span class=\"o\">.</span><span class=\"n\">slice</span><span class=\"p\">(</span>\n",
       "                        <span class=\"n\">Slice</span><span class=\"p\">(</span>\n",
       "                            <span class=\"n\">OptionalInt</span><span class=\"o\">.</span><span class=\"n\">none</span><span class=\"p\">,</span>\n",
       "                            <span class=\"n\">OptionalInt</span><span class=\"o\">.</span><span class=\"n\">some</span><span class=\"p\">(</span>\n",
       "                                <span class=\"nb\">sum</span><span class=\"p\">(</span><span class=\"n\">astype</span><span class=\"p\">(</span><span class=\"n\">_TupleNDArray_2</span><span class=\"p\">[</span><span class=\"n\">Int</span><span class=\"p\">(</span><span class=\"mi\">1</span><span class=\"p\">)]</span> <span class=\"o\">&gt;</span> <span class=\"p\">(</span><span class=\"n\">NDArray</span><span class=\"o\">.</span><span class=\"n\">scalar</span><span class=\"p\">(</span><span class=\"n\">Value</span><span class=\"o\">.</span><span class=\"n\">float</span><span class=\"p\">(</span><span class=\"n\">Float</span><span class=\"p\">(</span><span class=\"mf\">0.0001</span><span class=\"p\">)))</span> <span class=\"o\">*</span> <span class=\"n\">_TupleNDArray_2</span><span class=\"p\">[</span><span class=\"n\">Int</span><span class=\"p\">(</span><span class=\"mi\">1</span><span class=\"p\">)][</span><span class=\"n\">IndexKey</span><span class=\"o\">.</span><span class=\"n\">int</span><span class=\"p\">(</span><span class=\"n\">Int</span><span class=\"p\">(</span><span class=\"mi\">0</span><span class=\"p\">))]),</span> <span class=\"n\">DType</span><span class=\"o\">.</span><span class=\"n\">int32</span><span class=\"p\">))</span>\n",
       "                                <span class=\"o\">.</span><span class=\"n\">to_value</span><span class=\"p\">()</span>\n",
       "                                <span class=\"o\">.</span><span class=\"n\">to_int</span>\n",
       "                            <span class=\"p\">),</span>\n",
       "                        <span class=\"p\">)</span>\n",
       "                    <span class=\"p\">)</span>\n",
       "                <span class=\"p\">)</span>\n",
       "            <span class=\"p\">)</span>\n",
       "        <span class=\"p\">]</span>\n",
       "    <span class=\"p\">)</span>\n",
       "<span class=\"p\">)[</span><span class=\"n\">IndexKey</span><span class=\"o\">.</span><span class=\"n\">multi_axis</span><span class=\"p\">(</span><span class=\"n\">_MultiAxisIndexKey_1</span> <span class=\"o\">+</span> <span class=\"n\">MultiAxisIndexKey</span><span class=\"p\">(</span><span class=\"n\">MultiAxisIndexKeyItem</span><span class=\"o\">.</span><span class=\"n\">slice</span><span class=\"p\">(</span><span class=\"n\">Slice</span><span class=\"p\">(</span><span class=\"n\">OptionalInt</span><span class=\"o\">.</span><span class=\"n\">none</span><span class=\"p\">,</span> <span class=\"n\">OptionalInt</span><span class=\"o\">.</span><span class=\"n\">some</span><span class=\"p\">(</span><span class=\"n\">Int</span><span class=\"p\">(</span><span class=\"mi\">1</span><span class=\"p\">))))))]</span>\n",
       "</pre></div>\n"
      ],
      "text/latex": [
       "\\begin{Verbatim}[commandchars=\\\\\\{\\}]\n",
       "\\PY{n}{\\PYZus{}NDArray\\PYZus{}1} \\PY{o}{=} \\PY{n}{NDArray}\\PY{o}{.}\\PY{n}{var}\\PY{p}{(}\\PY{l+s+s2}{\\PYZdq{}}\\PY{l+s+s2}{X}\\PY{l+s+s2}{\\PYZdq{}}\\PY{p}{)}\n",
       "\\PY{n}{assume\\PYZus{}dtype}\\PY{p}{(}\\PY{n}{\\PYZus{}NDArray\\PYZus{}1}\\PY{p}{,} \\PY{n}{DType}\\PY{o}{.}\\PY{n}{float64}\\PY{p}{)}\n",
       "\\PY{n}{assume\\PYZus{}shape}\\PY{p}{(}\\PY{n}{\\PYZus{}NDArray\\PYZus{}1}\\PY{p}{,} \\PY{n}{TupleInt}\\PY{p}{(}\\PY{n}{Int}\\PY{p}{(}\\PY{l+m+mi}{1000000}\\PY{p}{)}\\PY{p}{)} \\PY{o}{+} \\PY{n}{TupleInt}\\PY{p}{(}\\PY{n}{Int}\\PY{p}{(}\\PY{l+m+mi}{20}\\PY{p}{)}\\PY{p}{)}\\PY{p}{)}\n",
       "\\PY{n}{assume\\PYZus{}isfinite}\\PY{p}{(}\\PY{n}{\\PYZus{}NDArray\\PYZus{}1}\\PY{p}{)}\n",
       "\\PY{n}{\\PYZus{}NDArray\\PYZus{}2} \\PY{o}{=} \\PY{n}{NDArray}\\PY{o}{.}\\PY{n}{var}\\PY{p}{(}\\PY{l+s+s2}{\\PYZdq{}}\\PY{l+s+s2}{y}\\PY{l+s+s2}{\\PYZdq{}}\\PY{p}{)}\n",
       "\\PY{n}{assume\\PYZus{}dtype}\\PY{p}{(}\\PY{n}{\\PYZus{}NDArray\\PYZus{}2}\\PY{p}{,} \\PY{n}{DType}\\PY{o}{.}\\PY{n}{int64}\\PY{p}{)}\n",
       "\\PY{n}{assume\\PYZus{}shape}\\PY{p}{(}\\PY{n}{\\PYZus{}NDArray\\PYZus{}2}\\PY{p}{,} \\PY{n}{TupleInt}\\PY{p}{(}\\PY{n}{Int}\\PY{p}{(}\\PY{l+m+mi}{1000000}\\PY{p}{)}\\PY{p}{)}\\PY{p}{)}\n",
       "\\PY{n}{assume\\PYZus{}value\\PYZus{}one\\PYZus{}of}\\PY{p}{(}\\PY{n}{\\PYZus{}NDArray\\PYZus{}2}\\PY{p}{,} \\PY{n}{TupleValue}\\PY{p}{(}\\PY{n}{Value}\\PY{o}{.}\\PY{n}{int}\\PY{p}{(}\\PY{n}{Int}\\PY{p}{(}\\PY{l+m+mi}{0}\\PY{p}{)}\\PY{p}{)}\\PY{p}{)} \\PY{o}{+} \\PY{n}{TupleValue}\\PY{p}{(}\\PY{n}{Value}\\PY{o}{.}\\PY{n}{int}\\PY{p}{(}\\PY{n}{Int}\\PY{p}{(}\\PY{l+m+mi}{1}\\PY{p}{)}\\PY{p}{)}\\PY{p}{)}\\PY{p}{)}\n",
       "\\PY{n}{\\PYZus{}NDArray\\PYZus{}3} \\PY{o}{=} \\PY{n}{astype}\\PY{p}{(}\n",
       "    \\PY{n}{NDArray}\\PY{o}{.}\\PY{n}{vector}\\PY{p}{(}\\PY{n}{TupleValue}\\PY{p}{(}\\PY{n+nb}{sum}\\PY{p}{(}\\PY{n}{\\PYZus{}NDArray\\PYZus{}2} \\PY{o}{==} \\PY{n}{NDArray}\\PY{o}{.}\\PY{n}{scalar}\\PY{p}{(}\\PY{n}{Value}\\PY{o}{.}\\PY{n}{int}\\PY{p}{(}\\PY{n}{Int}\\PY{p}{(}\\PY{l+m+mi}{0}\\PY{p}{)}\\PY{p}{)}\\PY{p}{)}\\PY{p}{)}\\PY{o}{.}\\PY{n}{to\\PYZus{}value}\\PY{p}{(}\\PY{p}{)}\\PY{p}{)} \\PY{o}{+} \\PY{n}{TupleValue}\\PY{p}{(}\\PY{n+nb}{sum}\\PY{p}{(}\\PY{n}{\\PYZus{}NDArray\\PYZus{}2} \\PY{o}{==} \\PY{n}{NDArray}\\PY{o}{.}\\PY{n}{scalar}\\PY{p}{(}\\PY{n}{Value}\\PY{o}{.}\\PY{n}{int}\\PY{p}{(}\\PY{n}{Int}\\PY{p}{(}\\PY{l+m+mi}{1}\\PY{p}{)}\\PY{p}{)}\\PY{p}{)}\\PY{p}{)}\\PY{o}{.}\\PY{n}{to\\PYZus{}value}\\PY{p}{(}\\PY{p}{)}\\PY{p}{)}\\PY{p}{)}\\PY{p}{,}\n",
       "    \\PY{n}{DType}\\PY{o}{.}\\PY{n}{float64}\\PY{p}{,}\n",
       "\\PY{p}{)} \\PY{o}{/} \\PY{n}{NDArray}\\PY{o}{.}\\PY{n}{scalar}\\PY{p}{(}\\PY{n}{Value}\\PY{o}{.}\\PY{n}{float}\\PY{p}{(}\\PY{n}{Float}\\PY{p}{(}\\PY{l+m+mf}{1000000.0}\\PY{p}{)}\\PY{p}{)}\\PY{p}{)}\n",
       "\\PY{n}{\\PYZus{}NDArray\\PYZus{}4} \\PY{o}{=} \\PY{n}{zeros}\\PY{p}{(}\\PY{n}{TupleInt}\\PY{p}{(}\\PY{n}{Int}\\PY{p}{(}\\PY{l+m+mi}{2}\\PY{p}{)}\\PY{p}{)} \\PY{o}{+} \\PY{n}{TupleInt}\\PY{p}{(}\\PY{n}{Int}\\PY{p}{(}\\PY{l+m+mi}{20}\\PY{p}{)}\\PY{p}{)}\\PY{p}{,} \\PY{n}{OptionalDType}\\PY{o}{.}\\PY{n}{some}\\PY{p}{(}\\PY{n}{DType}\\PY{o}{.}\\PY{n}{float64}\\PY{p}{)}\\PY{p}{,} \\PY{n}{OptionalDevice}\\PY{o}{.}\\PY{n}{some}\\PY{p}{(}\\PY{n}{\\PYZus{}NDArray\\PYZus{}1}\\PY{o}{.}\\PY{n}{device}\\PY{p}{)}\\PY{p}{)}\n",
       "\\PY{n}{\\PYZus{}MultiAxisIndexKey\\PYZus{}1} \\PY{o}{=} \\PY{n}{MultiAxisIndexKey}\\PY{p}{(}\\PY{n}{MultiAxisIndexKeyItem}\\PY{o}{.}\\PY{n}{slice}\\PY{p}{(}\\PY{n}{Slice}\\PY{p}{(}\\PY{p}{)}\\PY{p}{)}\\PY{p}{)}\n",
       "\\PY{n}{\\PYZus{}IndexKey\\PYZus{}1} \\PY{o}{=} \\PY{n}{IndexKey}\\PY{o}{.}\\PY{n}{multi\\PYZus{}axis}\\PY{p}{(}\\PY{n}{MultiAxisIndexKey}\\PY{p}{(}\\PY{n}{MultiAxisIndexKeyItem}\\PY{o}{.}\\PY{n}{int}\\PY{p}{(}\\PY{n}{Int}\\PY{p}{(}\\PY{l+m+mi}{0}\\PY{p}{)}\\PY{p}{)}\\PY{p}{)} \\PY{o}{+} \\PY{n}{\\PYZus{}MultiAxisIndexKey\\PYZus{}1}\\PY{p}{)}\n",
       "\\PY{n}{\\PYZus{}NDArray\\PYZus{}5} \\PY{o}{=} \\PY{n}{\\PYZus{}NDArray\\PYZus{}1}\\PY{p}{[}\\PY{n}{ndarray\\PYZus{}index}\\PY{p}{(}\\PY{n}{\\PYZus{}NDArray\\PYZus{}2} \\PY{o}{==} \\PY{n}{NDArray}\\PY{o}{.}\\PY{n}{scalar}\\PY{p}{(}\\PY{n}{Value}\\PY{o}{.}\\PY{n}{int}\\PY{p}{(}\\PY{n}{Int}\\PY{p}{(}\\PY{l+m+mi}{0}\\PY{p}{)}\\PY{p}{)}\\PY{p}{)}\\PY{p}{)}\\PY{p}{]}\n",
       "\\PY{n}{\\PYZus{}OptionalIntOrTuple\\PYZus{}1} \\PY{o}{=} \\PY{n}{OptionalIntOrTuple}\\PY{o}{.}\\PY{n}{some}\\PY{p}{(}\\PY{n}{IntOrTuple}\\PY{o}{.}\\PY{n}{int}\\PY{p}{(}\\PY{n}{Int}\\PY{p}{(}\\PY{l+m+mi}{0}\\PY{p}{)}\\PY{p}{)}\\PY{p}{)}\n",
       "\\PY{n}{\\PYZus{}NDArray\\PYZus{}4}\\PY{p}{[}\\PY{n}{\\PYZus{}IndexKey\\PYZus{}1}\\PY{p}{]} \\PY{o}{=} \\PY{n+nb}{sum}\\PY{p}{(}\\PY{n}{\\PYZus{}NDArray\\PYZus{}5}\\PY{p}{,} \\PY{n}{\\PYZus{}OptionalIntOrTuple\\PYZus{}1}\\PY{p}{)} \\PY{o}{/} \\PY{n}{NDArray}\\PY{o}{.}\\PY{n}{scalar}\\PY{p}{(}\\PY{n}{Value}\\PY{o}{.}\\PY{n}{int}\\PY{p}{(}\\PY{n}{\\PYZus{}NDArray\\PYZus{}5}\\PY{o}{.}\\PY{n}{shape}\\PY{p}{[}\\PY{n}{Int}\\PY{p}{(}\\PY{l+m+mi}{0}\\PY{p}{)}\\PY{p}{]}\\PY{p}{)}\\PY{p}{)}\n",
       "\\PY{n}{\\PYZus{}IndexKey\\PYZus{}2} \\PY{o}{=} \\PY{n}{IndexKey}\\PY{o}{.}\\PY{n}{multi\\PYZus{}axis}\\PY{p}{(}\\PY{n}{MultiAxisIndexKey}\\PY{p}{(}\\PY{n}{MultiAxisIndexKeyItem}\\PY{o}{.}\\PY{n}{int}\\PY{p}{(}\\PY{n}{Int}\\PY{p}{(}\\PY{l+m+mi}{1}\\PY{p}{)}\\PY{p}{)}\\PY{p}{)} \\PY{o}{+} \\PY{n}{\\PYZus{}MultiAxisIndexKey\\PYZus{}1}\\PY{p}{)}\n",
       "\\PY{n}{\\PYZus{}NDArray\\PYZus{}6} \\PY{o}{=} \\PY{n}{\\PYZus{}NDArray\\PYZus{}1}\\PY{p}{[}\\PY{n}{ndarray\\PYZus{}index}\\PY{p}{(}\\PY{n}{\\PYZus{}NDArray\\PYZus{}2} \\PY{o}{==} \\PY{n}{NDArray}\\PY{o}{.}\\PY{n}{scalar}\\PY{p}{(}\\PY{n}{Value}\\PY{o}{.}\\PY{n}{int}\\PY{p}{(}\\PY{n}{Int}\\PY{p}{(}\\PY{l+m+mi}{1}\\PY{p}{)}\\PY{p}{)}\\PY{p}{)}\\PY{p}{)}\\PY{p}{]}\n",
       "\\PY{n}{\\PYZus{}NDArray\\PYZus{}4}\\PY{p}{[}\\PY{n}{\\PYZus{}IndexKey\\PYZus{}2}\\PY{p}{]} \\PY{o}{=} \\PY{n+nb}{sum}\\PY{p}{(}\\PY{n}{\\PYZus{}NDArray\\PYZus{}6}\\PY{p}{,} \\PY{n}{\\PYZus{}OptionalIntOrTuple\\PYZus{}1}\\PY{p}{)} \\PY{o}{/} \\PY{n}{NDArray}\\PY{o}{.}\\PY{n}{scalar}\\PY{p}{(}\\PY{n}{Value}\\PY{o}{.}\\PY{n}{int}\\PY{p}{(}\\PY{n}{\\PYZus{}NDArray\\PYZus{}6}\\PY{o}{.}\\PY{n}{shape}\\PY{p}{[}\\PY{n}{Int}\\PY{p}{(}\\PY{l+m+mi}{0}\\PY{p}{)}\\PY{p}{]}\\PY{p}{)}\\PY{p}{)}\n",
       "\\PY{n}{\\PYZus{}NDArray\\PYZus{}7} \\PY{o}{=} \\PY{n}{concat}\\PY{p}{(}\\PY{n}{TupleNDArray}\\PY{p}{(}\\PY{n}{\\PYZus{}NDArray\\PYZus{}5} \\PY{o}{\\PYZhy{}} \\PY{n}{\\PYZus{}NDArray\\PYZus{}4}\\PY{p}{[}\\PY{n}{\\PYZus{}IndexKey\\PYZus{}1}\\PY{p}{]}\\PY{p}{)} \\PY{o}{+} \\PY{n}{TupleNDArray}\\PY{p}{(}\\PY{n}{\\PYZus{}NDArray\\PYZus{}6} \\PY{o}{\\PYZhy{}} \\PY{n}{\\PYZus{}NDArray\\PYZus{}4}\\PY{p}{[}\\PY{n}{\\PYZus{}IndexKey\\PYZus{}2}\\PY{p}{]}\\PY{p}{)}\\PY{p}{,} \\PY{n}{OptionalInt}\\PY{o}{.}\\PY{n}{some}\\PY{p}{(}\\PY{n}{Int}\\PY{p}{(}\\PY{l+m+mi}{0}\\PY{p}{)}\\PY{p}{)}\\PY{p}{)}\n",
       "\\PY{n}{\\PYZus{}NDArray\\PYZus{}8} \\PY{o}{=} \\PY{n}{square}\\PY{p}{(}\\PY{n}{\\PYZus{}NDArray\\PYZus{}7} \\PY{o}{\\PYZhy{}} \\PY{n}{expand\\PYZus{}dims}\\PY{p}{(}\\PY{n+nb}{sum}\\PY{p}{(}\\PY{n}{\\PYZus{}NDArray\\PYZus{}7}\\PY{p}{,} \\PY{n}{\\PYZus{}OptionalIntOrTuple\\PYZus{}1}\\PY{p}{)} \\PY{o}{/} \\PY{n}{NDArray}\\PY{o}{.}\\PY{n}{scalar}\\PY{p}{(}\\PY{n}{Value}\\PY{o}{.}\\PY{n}{int}\\PY{p}{(}\\PY{n}{\\PYZus{}NDArray\\PYZus{}7}\\PY{o}{.}\\PY{n}{shape}\\PY{p}{[}\\PY{n}{Int}\\PY{p}{(}\\PY{l+m+mi}{0}\\PY{p}{)}\\PY{p}{]}\\PY{p}{)}\\PY{p}{)}\\PY{p}{)}\\PY{p}{)}\n",
       "\\PY{n}{\\PYZus{}NDArray\\PYZus{}9} \\PY{o}{=} \\PY{n}{sqrt}\\PY{p}{(}\\PY{n+nb}{sum}\\PY{p}{(}\\PY{n}{\\PYZus{}NDArray\\PYZus{}8}\\PY{p}{,} \\PY{n}{\\PYZus{}OptionalIntOrTuple\\PYZus{}1}\\PY{p}{)} \\PY{o}{/} \\PY{n}{NDArray}\\PY{o}{.}\\PY{n}{scalar}\\PY{p}{(}\\PY{n}{Value}\\PY{o}{.}\\PY{n}{int}\\PY{p}{(}\\PY{n}{\\PYZus{}NDArray\\PYZus{}8}\\PY{o}{.}\\PY{n}{shape}\\PY{p}{[}\\PY{n}{Int}\\PY{p}{(}\\PY{l+m+mi}{0}\\PY{p}{)}\\PY{p}{]}\\PY{p}{)}\\PY{p}{)}\\PY{p}{)}\n",
       "\\PY{n}{\\PYZus{}NDArray\\PYZus{}10} \\PY{o}{=} \\PY{n}{copy}\\PY{p}{(}\\PY{n}{\\PYZus{}NDArray\\PYZus{}9}\\PY{p}{)}\n",
       "\\PY{n}{\\PYZus{}NDArray\\PYZus{}10}\\PY{p}{[}\\PY{n}{ndarray\\PYZus{}index}\\PY{p}{(}\\PY{n}{\\PYZus{}NDArray\\PYZus{}9} \\PY{o}{==} \\PY{n}{NDArray}\\PY{o}{.}\\PY{n}{scalar}\\PY{p}{(}\\PY{n}{Value}\\PY{o}{.}\\PY{n}{int}\\PY{p}{(}\\PY{n}{Int}\\PY{p}{(}\\PY{l+m+mi}{0}\\PY{p}{)}\\PY{p}{)}\\PY{p}{)}\\PY{p}{)}\\PY{p}{]} \\PY{o}{=} \\PY{n}{NDArray}\\PY{o}{.}\\PY{n}{scalar}\\PY{p}{(}\\PY{n}{Value}\\PY{o}{.}\\PY{n}{float}\\PY{p}{(}\\PY{n}{Float}\\PY{p}{(}\\PY{l+m+mf}{1.0}\\PY{p}{)}\\PY{p}{)}\\PY{p}{)}\n",
       "\\PY{n}{\\PYZus{}TupleNDArray\\PYZus{}1} \\PY{o}{=} \\PY{n}{svd}\\PY{p}{(}\\PY{n}{sqrt}\\PY{p}{(}\\PY{n}{NDArray}\\PY{o}{.}\\PY{n}{scalar}\\PY{p}{(}\\PY{n}{Value}\\PY{o}{.}\\PY{n}{float}\\PY{p}{(}\\PY{n}{Float}\\PY{o}{.}\\PY{n}{rational}\\PY{p}{(}\\PY{n}{Rational}\\PY{p}{(}\\PY{l+m+mi}{1}\\PY{p}{,} \\PY{l+m+mi}{999998}\\PY{p}{)}\\PY{p}{)}\\PY{p}{)}\\PY{p}{)}\\PY{p}{)} \\PY{o}{*} \\PY{p}{(}\\PY{n}{\\PYZus{}NDArray\\PYZus{}7} \\PY{o}{/} \\PY{n}{\\PYZus{}NDArray\\PYZus{}10}\\PY{p}{)}\\PY{p}{,} \\PY{n}{FALSE}\\PY{p}{)}\n",
       "\\PY{n}{\\PYZus{}Slice\\PYZus{}1} \\PY{o}{=} \\PY{n}{Slice}\\PY{p}{(}\\PY{n}{OptionalInt}\\PY{o}{.}\\PY{n}{none}\\PY{p}{,} \\PY{n}{OptionalInt}\\PY{o}{.}\\PY{n}{some}\\PY{p}{(}\\PY{n+nb}{sum}\\PY{p}{(}\\PY{n}{astype}\\PY{p}{(}\\PY{n}{\\PYZus{}TupleNDArray\\PYZus{}1}\\PY{p}{[}\\PY{n}{Int}\\PY{p}{(}\\PY{l+m+mi}{1}\\PY{p}{)}\\PY{p}{]} \\PY{o}{\\PYZgt{}} \\PY{n}{NDArray}\\PY{o}{.}\\PY{n}{scalar}\\PY{p}{(}\\PY{n}{Value}\\PY{o}{.}\\PY{n}{float}\\PY{p}{(}\\PY{n}{Float}\\PY{p}{(}\\PY{l+m+mf}{0.0001}\\PY{p}{)}\\PY{p}{)}\\PY{p}{)}\\PY{p}{,} \\PY{n}{DType}\\PY{o}{.}\\PY{n}{int32}\\PY{p}{)}\\PY{p}{)}\\PY{o}{.}\\PY{n}{to\\PYZus{}value}\\PY{p}{(}\\PY{p}{)}\\PY{o}{.}\\PY{n}{to\\PYZus{}int}\\PY{p}{)}\\PY{p}{)}\n",
       "\\PY{n}{\\PYZus{}NDArray\\PYZus{}11} \\PY{o}{=} \\PY{p}{(}\\PY{n}{\\PYZus{}TupleNDArray\\PYZus{}1}\\PY{p}{[}\\PY{n}{Int}\\PY{p}{(}\\PY{l+m+mi}{2}\\PY{p}{)}\\PY{p}{]}\\PY{p}{[}\\PY{n}{IndexKey}\\PY{o}{.}\\PY{n}{multi\\PYZus{}axis}\\PY{p}{(}\\PY{n}{MultiAxisIndexKey}\\PY{p}{(}\\PY{n}{MultiAxisIndexKeyItem}\\PY{o}{.}\\PY{n}{slice}\\PY{p}{(}\\PY{n}{\\PYZus{}Slice\\PYZus{}1}\\PY{p}{)}\\PY{p}{)} \\PY{o}{+} \\PY{n}{\\PYZus{}MultiAxisIndexKey\\PYZus{}1}\\PY{p}{)}\\PY{p}{]} \\PY{o}{/} \\PY{n}{\\PYZus{}NDArray\\PYZus{}10}\\PY{p}{)}\\PY{o}{.}\\PY{n}{T} \\PY{o}{/} \\PY{n}{\\PYZus{}TupleNDArray\\PYZus{}1}\\PY{p}{[}\n",
       "    \\PY{n}{Int}\\PY{p}{(}\\PY{l+m+mi}{1}\\PY{p}{)}\n",
       "\\PY{p}{]}\\PY{p}{[}\\PY{n}{IndexKey}\\PY{o}{.}\\PY{n}{slice}\\PY{p}{(}\\PY{n}{\\PYZus{}Slice\\PYZus{}1}\\PY{p}{)}\\PY{p}{]}\n",
       "\\PY{n}{\\PYZus{}TupleNDArray\\PYZus{}2} \\PY{o}{=} \\PY{n}{svd}\\PY{p}{(}\n",
       "    \\PY{p}{(}\\PY{n}{sqrt}\\PY{p}{(}\\PY{p}{(}\\PY{n}{NDArray}\\PY{o}{.}\\PY{n}{scalar}\\PY{p}{(}\\PY{n}{Value}\\PY{o}{.}\\PY{n}{int}\\PY{p}{(}\\PY{n}{Int}\\PY{p}{(}\\PY{l+m+mi}{1000000}\\PY{p}{)}\\PY{p}{)}\\PY{p}{)} \\PY{o}{*} \\PY{n}{\\PYZus{}NDArray\\PYZus{}3}\\PY{p}{)} \\PY{o}{*} \\PY{n}{NDArray}\\PY{o}{.}\\PY{n}{scalar}\\PY{p}{(}\\PY{n}{Value}\\PY{o}{.}\\PY{n}{float}\\PY{p}{(}\\PY{n}{Float}\\PY{p}{(}\\PY{l+m+mf}{1.0}\\PY{p}{)}\\PY{p}{)}\\PY{p}{)}\\PY{p}{)} \\PY{o}{*} \\PY{p}{(}\\PY{n}{\\PYZus{}NDArray\\PYZus{}4} \\PY{o}{\\PYZhy{}} \\PY{p}{(}\\PY{n}{\\PYZus{}NDArray\\PYZus{}3} \\PY{o}{@} \\PY{n}{\\PYZus{}NDArray\\PYZus{}4}\\PY{p}{)}\\PY{p}{)}\\PY{o}{.}\\PY{n}{T}\\PY{p}{)}\\PY{o}{.}\\PY{n}{T} \\PY{o}{@} \\PY{n}{\\PYZus{}NDArray\\PYZus{}11}\\PY{p}{,} \\PY{n}{FALSE}\n",
       "\\PY{p}{)}\n",
       "\\PY{p}{(}\n",
       "    \\PY{p}{(}\\PY{n}{\\PYZus{}NDArray\\PYZus{}1} \\PY{o}{\\PYZhy{}} \\PY{p}{(}\\PY{n}{\\PYZus{}NDArray\\PYZus{}3} \\PY{o}{@} \\PY{n}{\\PYZus{}NDArray\\PYZus{}4}\\PY{p}{)}\\PY{p}{)}\n",
       "    \\PY{o}{@} \\PY{p}{(}\n",
       "        \\PY{n}{\\PYZus{}NDArray\\PYZus{}11}\n",
       "        \\PY{o}{@} \\PY{n}{\\PYZus{}TupleNDArray\\PYZus{}2}\\PY{p}{[}\\PY{n}{Int}\\PY{p}{(}\\PY{l+m+mi}{2}\\PY{p}{)}\\PY{p}{]}\\PY{o}{.}\\PY{n}{T}\\PY{p}{[}\n",
       "            \\PY{n}{IndexKey}\\PY{o}{.}\\PY{n}{multi\\PYZus{}axis}\\PY{p}{(}\n",
       "                \\PY{n}{\\PYZus{}MultiAxisIndexKey\\PYZus{}1}\n",
       "                \\PY{o}{+} \\PY{n}{MultiAxisIndexKey}\\PY{p}{(}\n",
       "                    \\PY{n}{MultiAxisIndexKeyItem}\\PY{o}{.}\\PY{n}{slice}\\PY{p}{(}\n",
       "                        \\PY{n}{Slice}\\PY{p}{(}\n",
       "                            \\PY{n}{OptionalInt}\\PY{o}{.}\\PY{n}{none}\\PY{p}{,}\n",
       "                            \\PY{n}{OptionalInt}\\PY{o}{.}\\PY{n}{some}\\PY{p}{(}\n",
       "                                \\PY{n+nb}{sum}\\PY{p}{(}\\PY{n}{astype}\\PY{p}{(}\\PY{n}{\\PYZus{}TupleNDArray\\PYZus{}2}\\PY{p}{[}\\PY{n}{Int}\\PY{p}{(}\\PY{l+m+mi}{1}\\PY{p}{)}\\PY{p}{]} \\PY{o}{\\PYZgt{}} \\PY{p}{(}\\PY{n}{NDArray}\\PY{o}{.}\\PY{n}{scalar}\\PY{p}{(}\\PY{n}{Value}\\PY{o}{.}\\PY{n}{float}\\PY{p}{(}\\PY{n}{Float}\\PY{p}{(}\\PY{l+m+mf}{0.0001}\\PY{p}{)}\\PY{p}{)}\\PY{p}{)} \\PY{o}{*} \\PY{n}{\\PYZus{}TupleNDArray\\PYZus{}2}\\PY{p}{[}\\PY{n}{Int}\\PY{p}{(}\\PY{l+m+mi}{1}\\PY{p}{)}\\PY{p}{]}\\PY{p}{[}\\PY{n}{IndexKey}\\PY{o}{.}\\PY{n}{int}\\PY{p}{(}\\PY{n}{Int}\\PY{p}{(}\\PY{l+m+mi}{0}\\PY{p}{)}\\PY{p}{)}\\PY{p}{]}\\PY{p}{)}\\PY{p}{,} \\PY{n}{DType}\\PY{o}{.}\\PY{n}{int32}\\PY{p}{)}\\PY{p}{)}\n",
       "                                \\PY{o}{.}\\PY{n}{to\\PYZus{}value}\\PY{p}{(}\\PY{p}{)}\n",
       "                                \\PY{o}{.}\\PY{n}{to\\PYZus{}int}\n",
       "                            \\PY{p}{)}\\PY{p}{,}\n",
       "                        \\PY{p}{)}\n",
       "                    \\PY{p}{)}\n",
       "                \\PY{p}{)}\n",
       "            \\PY{p}{)}\n",
       "        \\PY{p}{]}\n",
       "    \\PY{p}{)}\n",
       "\\PY{p}{)}\\PY{p}{[}\\PY{n}{IndexKey}\\PY{o}{.}\\PY{n}{multi\\PYZus{}axis}\\PY{p}{(}\\PY{n}{\\PYZus{}MultiAxisIndexKey\\PYZus{}1} \\PY{o}{+} \\PY{n}{MultiAxisIndexKey}\\PY{p}{(}\\PY{n}{MultiAxisIndexKeyItem}\\PY{o}{.}\\PY{n}{slice}\\PY{p}{(}\\PY{n}{Slice}\\PY{p}{(}\\PY{n}{OptionalInt}\\PY{o}{.}\\PY{n}{none}\\PY{p}{,} \\PY{n}{OptionalInt}\\PY{o}{.}\\PY{n}{some}\\PY{p}{(}\\PY{n}{Int}\\PY{p}{(}\\PY{l+m+mi}{1}\\PY{p}{)}\\PY{p}{)}\\PY{p}{)}\\PY{p}{)}\\PY{p}{)}\\PY{p}{)}\\PY{p}{]}\n",
       "\\end{Verbatim}\n"
      ],
      "text/plain": [
       "_NDArray_1 = NDArray.var(\"X\")\n",
       "assume_dtype(_NDArray_1, DType.float64)\n",
       "assume_shape(_NDArray_1, TupleInt(Int(1000000)) + TupleInt(Int(20)))\n",
       "assume_isfinite(_NDArray_1)\n",
       "_NDArray_2 = NDArray.var(\"y\")\n",
       "assume_dtype(_NDArray_2, DType.int64)\n",
       "assume_shape(_NDArray_2, TupleInt(Int(1000000)))\n",
       "assume_value_one_of(_NDArray_2, TupleValue(Value.int(Int(0))) + TupleValue(Value.int(Int(1))))\n",
       "_NDArray_3 = astype(\n",
       "    NDArray.vector(TupleValue(sum(_NDArray_2 == NDArray.scalar(Value.int(Int(0)))).to_value()) + TupleValue(sum(_NDArray_2 == NDArray.scalar(Value.int(Int(1)))).to_value())),\n",
       "    DType.float64,\n",
       ") / NDArray.scalar(Value.float(Float(1000000.0)))\n",
       "_NDArray_4 = zeros(TupleInt(Int(2)) + TupleInt(Int(20)), OptionalDType.some(DType.float64), OptionalDevice.some(_NDArray_1.device))\n",
       "_MultiAxisIndexKey_1 = MultiAxisIndexKey(MultiAxisIndexKeyItem.slice(Slice()))\n",
       "_IndexKey_1 = IndexKey.multi_axis(MultiAxisIndexKey(MultiAxisIndexKeyItem.int(Int(0))) + _MultiAxisIndexKey_1)\n",
       "_NDArray_5 = _NDArray_1[ndarray_index(_NDArray_2 == NDArray.scalar(Value.int(Int(0))))]\n",
       "_OptionalIntOrTuple_1 = OptionalIntOrTuple.some(IntOrTuple.int(Int(0)))\n",
       "_NDArray_4[_IndexKey_1] = sum(_NDArray_5, _OptionalIntOrTuple_1) / NDArray.scalar(Value.int(_NDArray_5.shape[Int(0)]))\n",
       "_IndexKey_2 = IndexKey.multi_axis(MultiAxisIndexKey(MultiAxisIndexKeyItem.int(Int(1))) + _MultiAxisIndexKey_1)\n",
       "_NDArray_6 = _NDArray_1[ndarray_index(_NDArray_2 == NDArray.scalar(Value.int(Int(1))))]\n",
       "_NDArray_4[_IndexKey_2] = sum(_NDArray_6, _OptionalIntOrTuple_1) / NDArray.scalar(Value.int(_NDArray_6.shape[Int(0)]))\n",
       "_NDArray_7 = concat(TupleNDArray(_NDArray_5 - _NDArray_4[_IndexKey_1]) + TupleNDArray(_NDArray_6 - _NDArray_4[_IndexKey_2]), OptionalInt.some(Int(0)))\n",
       "_NDArray_8 = square(_NDArray_7 - expand_dims(sum(_NDArray_7, _OptionalIntOrTuple_1) / NDArray.scalar(Value.int(_NDArray_7.shape[Int(0)]))))\n",
       "_NDArray_9 = sqrt(sum(_NDArray_8, _OptionalIntOrTuple_1) / NDArray.scalar(Value.int(_NDArray_8.shape[Int(0)])))\n",
       "_NDArray_10 = copy(_NDArray_9)\n",
       "_NDArray_10[ndarray_index(_NDArray_9 == NDArray.scalar(Value.int(Int(0))))] = NDArray.scalar(Value.float(Float(1.0)))\n",
       "_TupleNDArray_1 = svd(sqrt(NDArray.scalar(Value.float(Float.rational(Rational(1, 999998))))) * (_NDArray_7 / _NDArray_10), FALSE)\n",
       "_Slice_1 = Slice(OptionalInt.none, OptionalInt.some(sum(astype(_TupleNDArray_1[Int(1)] > NDArray.scalar(Value.float(Float(0.0001))), DType.int32)).to_value().to_int))\n",
       "_NDArray_11 = (_TupleNDArray_1[Int(2)][IndexKey.multi_axis(MultiAxisIndexKey(MultiAxisIndexKeyItem.slice(_Slice_1)) + _MultiAxisIndexKey_1)] / _NDArray_10).T / _TupleNDArray_1[\n",
       "    Int(1)\n",
       "][IndexKey.slice(_Slice_1)]\n",
       "_TupleNDArray_2 = svd(\n",
       "    (sqrt((NDArray.scalar(Value.int(Int(1000000))) * _NDArray_3) * NDArray.scalar(Value.float(Float(1.0)))) * (_NDArray_4 - (_NDArray_3 @ _NDArray_4)).T).T @ _NDArray_11, FALSE\n",
       ")\n",
       "(\n",
       "    (_NDArray_1 - (_NDArray_3 @ _NDArray_4))\n",
       "    @ (\n",
       "        _NDArray_11\n",
       "        @ _TupleNDArray_2[Int(2)].T[\n",
       "            IndexKey.multi_axis(\n",
       "                _MultiAxisIndexKey_1\n",
       "                + MultiAxisIndexKey(\n",
       "                    MultiAxisIndexKeyItem.slice(\n",
       "                        Slice(\n",
       "                            OptionalInt.none,\n",
       "                            OptionalInt.some(\n",
       "                                sum(astype(_TupleNDArray_2[Int(1)] > (NDArray.scalar(Value.float(Float(0.0001))) * _TupleNDArray_2[Int(1)][IndexKey.int(Int(0))]), DType.int32))\n",
       "                                .to_value()\n",
       "                                .to_int\n",
       "                            ),\n",
       "                        )\n",
       "                    )\n",
       "                )\n",
       "            )\n",
       "        ]\n",
       "    )\n",
       ")[IndexKey.multi_axis(_MultiAxisIndexKey_1 + MultiAxisIndexKey(MultiAxisIndexKeyItem.slice(Slice(OptionalInt.none, OptionalInt.some(Int(1))))))]"
      ]
     },
     "metadata": {},
     "output_type": "display_data"
    }
   ],
   "source": [
    "optimized_fn.expr"
   ]
  },
  {
   "cell_type": "code",
   "execution_count": 10,
   "id": "c5c4994b",
   "metadata": {
    "slideshow": {
     "slide_type": "subslide"
    }
   },
   "outputs": [
    {
     "name": "stdout",
     "output_type": "stream",
     "text": [
      "def __fn(X, y):\n",
      "    assert X.dtype == np.dtype(np.float64)\n",
      "    assert X.shape == (1000000, 20,)\n",
      "    assert np.all(np.isfinite(X))\n",
      "    assert y.dtype == np.dtype(np.int64)\n",
      "    assert y.shape == (1000000,)\n",
      "    assert set(np.unique(y)) == set((0, 1,))\n",
      "    _0 = y == np.array(0)\n",
      "    _1 = np.sum(_0)\n",
      "    _2 = y == np.array(1)\n",
      "    _3 = np.sum(_2)\n",
      "    _4 = np.array((_1, _3,)).astype(np.dtype(np.float64))\n",
      "    _5 = _4 / np.array(1000000.0)\n",
      "    _6 = np.zeros((2, 20,), dtype=np.dtype(np.float64))\n",
      "    _7 = np.sum(X[_0], axis=0)\n",
      "    _8 = _7 / np.array(X[_0].shape[0])\n",
      "    _6[0, :] = _8\n",
      "    _9 = np.sum(X[_2], axis=0)\n",
      "    _10 = _9 / np.array(X[_2].shape[0])\n",
      "    _6[1, :] = _10\n",
      "    _11 = _5 @ _6\n",
      "    _12 = X - _11\n",
      "    _13 = np.sqrt(np.array(float(1 / 999998)))\n",
      "    _14 = X[_0] - _6[0, :]\n",
      "    _15 = X[_2] - _6[1, :]\n",
      "    _16 = np.concatenate((_14, _15,), axis=0)\n",
      "    _17 = np.sum(_16, axis=0)\n",
      "    _18 = _17 / np.array(_16.shape[0])\n",
      "    _19 = np.expand_dims(_18, 0)\n",
      "    _20 = _16 - _19\n",
      "    _21 = np.square(_20)\n",
      "    _22 = np.sum(_21, axis=0)\n",
      "    _23 = _22 / np.array(_21.shape[0])\n",
      "    _24 = np.sqrt(_23)\n",
      "    _25 = _24 == np.array(0)\n",
      "    _24[_25] = np.array(1.0)\n",
      "    _26 = _16 / _24\n",
      "    _27 = _13 * _26\n",
      "    _28 = np.linalg.svd(_27, full_matrices=False)\n",
      "    _29 = _28[1] > np.array(0.0001)\n",
      "    _30 = _29.astype(np.dtype(np.int32))\n",
      "    _31 = np.sum(_30)\n",
      "    _32 = _28[2][:_31, :] / _24\n",
      "    _33 = _32.T / _28[1][:_31]\n",
      "    _34 = np.array(1000000) * _5\n",
      "    _35 = _34 * np.array(1.0)\n",
      "    _36 = np.sqrt(_35)\n",
      "    _37 = _6 - _11\n",
      "    _38 = _36 * _37.T\n",
      "    _39 = _38.T @ _33\n",
      "    _40 = np.linalg.svd(_39, full_matrices=False)\n",
      "    _41 = np.array(0.0001) * _40[1][0]\n",
      "    _42 = _40[1] > _41\n",
      "    _43 = _42.astype(np.dtype(np.int32))\n",
      "    _44 = np.sum(_43)\n",
      "    _45 = _33 @ _40[2].T[:, :_44]\n",
      "    _46 = _12 @ _45\n",
      "    return _46[:, :1]\n",
      "\n"
     ]
    }
   ],
   "source": [
    "import inspect\n",
    "\n",
    "print(inspect.getsource(optimized_fn))"
   ]
  },
  {
   "cell_type": "code",
   "execution_count": 11,
   "id": "83212722",
   "metadata": {
    "slideshow": {
     "slide_type": "subslide"
    }
   },
   "outputs": [
    {
     "name": "stderr",
     "output_type": "stream",
     "text": [
      "/var/folders/xn/05ktz3056kqd9n8frgd6236h0000gn/T/egglog-9befda2c-765c-4e2c-94d5-f667be45c7eb.py:56: NumbaPerformanceWarning: '@' is faster on contiguous arrays, called on (Array(float64, 2, 'C', False, aligned=True), Array(float64, 2, 'A', False, aligned=True))\n",
      "  _45 = _33 @ _40[2].T[:, :_44]\n"
     ]
    }
   ],
   "source": [
    "import numba\n",
    "import numpy as np\n",
    "\n",
    "numba_fn = numba.njit(fastmath=True)(optimized_fn)\n",
    "assert np.allclose(run_lda(X_np, y_np), numba_fn(X_np, y_np))"
   ]
  },
  {
   "cell_type": "code",
   "execution_count": 12,
   "id": "3b08ba55",
   "metadata": {
    "slideshow": {
     "slide_type": "subslide"
    }
   },
   "outputs": [],
   "source": [
    "import timeit\n",
    "\n",
    "import pandas as pd\n",
    "import seaborn as sns\n",
    "\n",
    "stmts = {\n",
    "    \"original\": \"run_lda(X_np, y_np)\",\n",
    "    \"numba\": \"numba_fn(X_np, y_np)\",\n",
    "}\n",
    "df = pd.DataFrame.from_dict({\n",
    "    name: timeit.repeat(stmt, globals=globals(), number=1, repeat=10) for name, stmt in stmts.items()\n",
    "})\n",
    "df_melt = pd.melt(df, var_name=\"function\", value_name=\"time\")"
   ]
  },
  {
   "cell_type": "code",
   "execution_count": 13,
   "id": "2b79af51",
   "metadata": {
    "slideshow": {
     "slide_type": "subslide"
    }
   },
   "outputs": [
    {
     "data": {
      "image/png": "[encoded data removed]",
      "text/plain": [
       "<Figure size 500x500 with 1 Axes>"
      ]
     },
     "metadata": {},
     "output_type": "display_data"
    }
   ],
   "source": [
    "_ = sns.catplot(data=df_melt, x=\"function\", y=\"time\", kind=\"swarm\")"
   ]
  },
  {
   "cell_type": "markdown",
   "id": "4fd233fa",
   "metadata": {
    "slideshow": {
     "slide_type": "slide"
    }
   },
   "source": [
    "# What kind of analysis?\n"
   ]
  },
  {
   "cell_type": "code",
   "execution_count": 14,
   "id": "19b9dc85",
   "metadata": {
    "slideshow": {
     "slide_type": "subslide"
    }
   },
   "outputs": [
    {
     "data": {
      "application/vnd.jupyter.widget-view+json": {
       "model_id": "04f2e862c13249869358425630a06aac",
       "version_major": 2,
       "version_minor": 0
      },
      "text/plain": [
       "VBox(children=(IntSlider(value=0, max=3), GraphvizWidget(dots=['digraph  {stylesheet=\"/var/folders/xn/05ktz305…"
      ]
     },
     "execution_count": 14,
     "metadata": {},
     "output_type": "execute_result"
    }
   ],
   "source": [
    "egraph = EGraph([array_api_module])\n",
    "_NDArray_1 = NDArray.var(\"X\")\n",
    "assume_dtype(_NDArray_1, DType.float64)\n",
    "\n",
    "egraph.register(DType.float64 == _NDArray_1.dtype)\n",
    "egraph.saturate()"
   ]
  },
  {
   "cell_type": "code",
   "execution_count": 15,
   "id": "6d199848",
   "metadata": {
    "slideshow": {
     "slide_type": "subslide"
    }
   },
   "outputs": [
    {
     "data": {
      "application/vnd.jupyter.widget-view+json": {
       "model_id": "d09ada3849bb4ed3b1bfd545c2ec29c4",
       "version_major": 2,
       "version_minor": 0
      },
      "text/plain": [
       "VBox(children=(IntSlider(value=0, max=6), GraphvizWidget(dots=['digraph  {stylesheet=\"/var/folders/xn/05ktz305…"
      ]
     },
     "execution_count": 15,
     "metadata": {},
     "output_type": "execute_result"
    }
   ],
   "source": [
    "assume_shape(_NDArray_1, TupleInt(Int(1000000)))\n",
    "egraph = EGraph([array_api_module])\n",
    "egraph.register(reshape(_NDArray_1, (-1,)).ndim == Int(1))\n",
    "egraph.saturate()"
   ]
  },
  {
   "cell_type": "code",
   "execution_count": 16,
   "id": "f14e6523",
   "metadata": {
    "slideshow": {
     "slide_type": "subslide"
    }
   },
   "outputs": [
    {
     "data": {
      "application/vnd.jupyter.widget-view+json": {
       "model_id": "b558f607a292410c9cd268c2fb205949",
       "version_major": 2,
       "version_minor": 0
      },
      "text/plain": [
       "VBox(children=(IntSlider(value=0, max=9), GraphvizWidget(dots=['digraph  {stylesheet=\"/var/folders/xn/05ktz305…"
      ]
     },
     "execution_count": 16,
     "metadata": {},
     "output_type": "execute_result"
    }
   ],
   "source": [
    "# rule(\n",
    "#     greater_zero(v),\n",
    "#     greater_zero(v1),\n",
    "#     eq(v2).to(v / v1),\n",
    "# ).then(\n",
    "#     greater_zero(v2),\n",
    "# )\n",
    "egraph = EGraph([array_api_module])\n",
    "egraph.register(  # Interval analysis\n",
    "    any((unique_counts(NDArray.var(\"X\"))[1] / 1000000.0) < 0)\n",
    ")\n",
    "egraph.saturate()"
   ]
  },
  {
   "cell_type": "markdown",
   "id": "c50cba58",
   "metadata": {
    "slideshow": {
     "slide_type": "slide"
    }
   },
   "source": [
    "# Egglog can open a door to PL in Python\n",
    "\n",
    "- Meet users where they are at\n",
    "- Introduce new abstractions to improve performance and interoperability between libraries\n"
   ]
  },
  {
   "cell_type": "markdown",
   "id": "b1ce4ae5",
   "metadata": {
    "slideshow": {
     "slide_type": "notes"
    }
   },
   "source": [
    "-\n",
    "- So whats the point?\n",
    "  - all this mechanisms basically let us open a door\n",
    "  - to do symbolic evaluate\n",
    "  - bring formal methods into Python\n",
    "  - If this can be a way to get research into the field\n",
    "    - people arent going to use haskell, not write in coq,\n",
    "    - they wont even use try a new python library\n",
    "    - but, if all it takes is an import, and their code will go faster?\n",
    "      - or they can target new hardware\n",
    "      - thats compelling\n"
   ]
  },
  {
   "cell_type": "markdown",
   "id": "73114166",
   "metadata": {
    "slideshow": {
     "slide_type": "slide"
    }
   },
   "source": [
    "# Future work\n",
    "\n",
    "Can we implement this journey in egglog?\n",
    "\n",
    "```\n",
    "Python bytecode\n",
    "    -> RSVDG\n",
    "        -> abstract analysis of program state/effects ~Interaction Trees\n",
    "            -> Functional domains (a Mathematics of Arrays/APL)\n",
    "        <- Flatten arrays\n",
    "    <- Polyhedral forms/loop nests\n",
    "GPU/LLVM code\n",
    "```\n",
    "\n",
    "Can this abstract interpretation, using a System F type system, and rewrite rules, serve as a way to communicate between these different domains?\n",
    "\n",
    "What about studying the correctness properties of these rewrite rules and semantics?\n"
   ]
  },
  {
   "cell_type": "markdown",
   "id": "2a74a6a3",
   "metadata": {
    "slideshow": {
     "slide_type": "notes"
    }
   },
   "source": [
    "- Lenore mullin APL\n",
    "  - functional representation of arrays\n",
    "  - TODO quote from python mailing lists?\n",
    "- For example, what if we move the bytecode analysis numba does into this frame?\n",
    "  - imperative -> functional code\n",
    "  - RSVDG - start to use this work\n",
    "  - maybe we could also use different models, from IT\n",
    "    - take imperative code, lift into form to analyze the semantics, and optimize it\n",
    "    - closer to a semantics\n",
    "- Let us express these different more abstract semantic domains, and go back and forth between those and imperative levels, of Python, of Array APIs\n",
    "  - IF/when its working I would love to start exploring quesitons on the meta framework - like is the Systme F type system enough to represent all of this? - How can we prove properties of our system based on the rewrite rules?\n"
   ]
  },
  {
   "cell_type": "markdown",
   "id": "94beea84",
   "metadata": {
    "slideshow": {
     "slide_type": "slide"
    }
   },
   "source": [
    "# Conclusion\n",
    "\n",
    "- Python open source ecosystem needs more precise abstractions for building ecosystem of DSLs\n",
    "- Space for PL research to have a huge impact and lots of interesting mathematical problems\n",
    "\n",
    "Thank you!\n",
    "\n",
    "- Saul Shanabrook\n",
    "- [https://github.com/egraphs-good/egglog-python](https://github.com/egraphs-good/egglog-python)\n"
   ]
  },
  {
   "cell_type": "markdown",
   "id": "87c9aa7c",
   "metadata": {
    "slideshow": {
     "slide_type": "notes"
    }
   },
   "source": [
    "- Before we can even begin to experiment here, we have to build up all this machinery\n",
    "  - there is no compiler pass to add to Python\n",
    "  - Either we have to fork the language, or do it through EDSLS\n",
    "  - the latter seems more diverse, more fun, more collaborative\n",
    "    - share horizontally\n",
    "  - In a way, it's a political question, that if we can add these ways to creating abstraction in Python, allows different ways of orienting social groups\n",
    "- work with numba team to use egglog to allow third party authors to add their own abstractions to the compiler that are erased\n",
    "  - democratizing a compiler\n",
    "  - rewrite rules that are much more readable than many other libraries\n",
    "  - very mathametical\n",
    "  - open up space for more people\n",
    "- This is a way of bringing PL research into high impact field\n",
    "\n",
    "  - if we are to deliver here we also need to show it can work\n",
    "  - I am applying for PhD programs to help this collaboration\n",
    "  - I am familair with PyData ecosystem\n",
    "  - need egglog to work\n",
    "    - open research wquestions\n",
    "  - need optimizations to work, need to have the right abstractions to store these things in a functional form\n",
    "\n",
    "    - theory needs to hold up its of the bargain\n"
   ]
  }
 ],
 "metadata": {
  "file_format": "mystnb",
  "kernelspec": {
   "display_name": "egglog-python",
   "language": "python",
   "name": "python3"
  },
  "language_info": {
   "codemirror_mode": {
    "name": "ipython",
    "version": 3
   },
   "file_extension": ".py",
   "mimetype": "text/x-python",
   "name": "python",
   "nbconvert_exporter": "python",
   "pygments_lexer": "ipython3",
   "version": "3.10.12"
  },
  "mystnb": {
   "execution_mode": "off"
  },
  "title": "Portland State University's \"Programming Languages and Verification\" seminar"
 },
 "nbformat": 4,
 "nbformat_minor": 5
}
