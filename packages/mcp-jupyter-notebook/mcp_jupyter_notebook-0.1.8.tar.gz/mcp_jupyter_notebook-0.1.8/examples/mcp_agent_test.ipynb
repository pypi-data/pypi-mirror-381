{
 "cells": [
  {
   "cell_type": "code",
   "execution_count": 1,
   "id": "3c0eac9f",
   "metadata": {},
   "outputs": [
    {
     "data": {
      "text/plain": [
       "True"
      ]
     },
     "execution_count": 1,
     "metadata": {},
     "output_type": "execute_result"
    }
   ],
   "source": [
    "import os\n",
    "import uuid\n",
    "import json\n",
    "import logging\n",
    "from dotenv import load_dotenv\n",
    "\n",
    "from dapr_agents import OpenAIChatClient\n",
    "from mcp import ClientSession, StdioServerParameters\n",
    "from mcp.client.stdio import stdio_client\n",
    "from dapr_agents.tool import AgentTool\n",
    "\n",
    "logging.basicConfig(level=logging.INFO)\n",
    "load_dotenv()"
   ]
  },
  {
   "cell_type": "code",
   "execution_count": 2,
   "id": "227adcc6",
   "metadata": {},
   "outputs": [
    {
     "name": "stderr",
     "output_type": "stream",
     "text": [
      "INFO:dapr_agents.llm.openai.client.base:Initializing Azure OpenAI client...\n",
      "INFO:dapr_agents.llm.openai.client.azure:Using API key for authentication.\n"
     ]
    }
   ],
   "source": [
    "llm = OpenAIChatClient(\n",
    "    api_key=os.getenv(\"AZURE_OPENAI_API_KEY\"),\n",
    "    azure_endpoint=os.getenv(\"AZURE_OPENAI_ENDPOINT\"),\n",
    "    azure_deployment=os.getenv(\"AZURE_OPENAI_DEPLOYMENT\"),\n",
    "    api_version=os.getenv(\"AZURE_OPENAI_API_VERSION\"),\n",
    ")\n",
    "\n",
    "def to_obj(x):\n",
    "    return json.loads(x) if isinstance(x, str) else x"
   ]
  },
  {
   "cell_type": "code",
   "execution_count": null,
   "id": "c4bb939f",
   "metadata": {},
   "outputs": [],
   "source": [
    "# ---- MCP Jupyter server env (REMOTE) ----\n",
    "NOTEBOOK_NAME = f\"mcp_{uuid.uuid4().hex[:8]}.ipynb\"\n",
    "\n",
    "ENV = {\n",
    "    **os.environ,\n",
    "    \"MCP_JUPYTER_SESSION_MODE\": \"server\",\n",
    "    \"MCP_JUPYTER_BASE_URL\": os.getenv(\"JUPYTER_BASE_URL\"),\n",
    "    \"MCP_JUPYTER_TOKEN\": os.getenv(\"JUPYTER_TOKEN\"),\n",
    "    \"MCP_JUPYTER_KERNEL_NAME\": os.getenv(\"JUPYTER_KERNEL_NAME\", \"python3\"),\n",
    "    \"MCP_JUPYTER_NOTEBOOK_PATH\": os.getenv(\"JUPYTER_NOTEBOOK_PATH\", NOTEBOOK_NAME),\n",
    "}\n",
    "\n",
    "# Adjust path to your MCP server entrypoint (where your server.py lives)\n",
    "server_params = StdioServerParameters(\n",
    "    command=\"uvx\",\n",
    "    args=[ \"mcp-jupyter-notebook\", \"--transport\", \"stdio\"],\n",
    "    env=ENV,\n",
    ")"
   ]
  },
  {
   "cell_type": "code",
   "execution_count": 4,
   "id": "d0dab763",
   "metadata": {},
   "outputs": [
    {
     "name": "stderr",
     "output_type": "stream",
     "text": [
      "INFO:dapr_agents.tool.executor:Tool registered: Notebook.Markdown.Add\n",
      "INFO:dapr_agents.tool.executor:Tool registered: Notebook.Code.Run\n",
      "INFO:dapr_agents.tool.executor:Tool registered: Notebook.Packages.Add\n",
      "INFO:dapr_agents.tool.executor:Tool Executor initialized with 3 tool(s).\n"
     ]
    },
    {
     "name": "stdout",
     "output_type": "stream",
     "text": [
      "\u001b[38;2;242;182;128muser:\u001b[0m\n",
      "\u001b[38;2;242;182;128m\u001b[0m\u001b[38;2;242;182;128mcreate a matplotlib bar and line chart examples in the notebook\u001b[0m\u001b[0m\n",
      "\u001b[0m\u001b[0m\n",
      "\u001b[0m--------------------------------------------------------------------------------\u001b[0m\n",
      "\u001b[0m\u001b[0m"
     ]
    },
    {
     "name": "stderr",
     "output_type": "stream",
     "text": [
      "INFO:dapr_agents.agents.agent.agent:Iteration 1/20 started.\n",
      "INFO:dapr_agents.llm.utils.request:Tools are available in the request.\n",
      "INFO:dapr_agents.llm.openai.chat:Calling OpenAI ChatCompletion...\n"
     ]
    },
    {
     "name": "stdout",
     "output_type": "stream",
     "text": [
      "\u001b[0m\n"
     ]
    },
    {
     "name": "stderr",
     "output_type": "stream",
     "text": [
      "INFO:httpx:HTTP Request: POST https://bh25-shared-azfoundry-w3.cognitiveservices.azure.com/openai/deployments/gpt-4.1-mini/chat/completions?api-version=2024-12-01-preview \"HTTP/1.1 200 OK\"\n",
      "INFO:dapr_agents.llm.openai.chat:ChatCompletion response received.\n"
     ]
    },
    {
     "name": "stdout",
     "output_type": "stream",
     "text": [
      "\u001b[38;2;217;95;118massistant:\u001b[0m\n",
      "\u001b[38;2;217;95;118m\u001b[0m\u001b[38;2;217;95;118mFunction name: Notebook.Markdown.Add (Call Id: call_a8ON6swQR5M90M8Kr0WxnTrN)\u001b[0m\n",
      "\u001b[38;2;217;95;118m\u001b[0m\u001b[38;2;217;95;118mArguments: {\"content\":\"# Bar Chart and Line Chart Examples using Matplotlib\\n\\nIn this section, I will create examples of a bar chart and a line chart using the matplotlib library.\"}\u001b[0m\u001b[0m\n",
      "\u001b[0m\u001b[0m\n",
      "\u001b[0m--------------------------------------------------------------------------------\u001b[0m\n",
      "\u001b[0m\u001b[0m"
     ]
    },
    {
     "name": "stderr",
     "output_type": "stream",
     "text": [
      "INFO:dapr_agents.tool.executor:Running tool (auto): Notebook.Markdown.Add\n"
     ]
    },
    {
     "name": "stdout",
     "output_type": "stream",
     "text": [
      "\u001b[0m\n",
      "\u001b[38;2;191;69;126mNotebook.Markdown.Add(tool) (Id: call_a8ON6swQR5M90M8Kr0WxnTrN):\u001b[0m\n",
      "\u001b[38;2;191;69;126m\u001b[0m\u001b[38;2;191;69;126m{\"ok\":true,\"index\":1,\"error\":null,\"elapsed_seconds\":0.0001850128173828125}\u001b[0m\u001b[0m\n",
      "\u001b[0m\u001b[0m\n",
      "\u001b[0m--------------------------------------------------------------------------------\u001b[0m\n",
      "\u001b[0m\u001b[0m"
     ]
    },
    {
     "name": "stderr",
     "output_type": "stream",
     "text": [
      "INFO:dapr_agents.agents.agent.agent:Iteration 2/20 started.\n",
      "INFO:dapr_agents.llm.utils.request:Tools are available in the request.\n",
      "INFO:dapr_agents.llm.openai.chat:Calling OpenAI ChatCompletion...\n"
     ]
    },
    {
     "name": "stdout",
     "output_type": "stream",
     "text": [
      "\u001b[0m\n"
     ]
    },
    {
     "name": "stderr",
     "output_type": "stream",
     "text": [
      "INFO:httpx:HTTP Request: POST https://bh25-shared-azfoundry-w3.cognitiveservices.azure.com/openai/deployments/gpt-4.1-mini/chat/completions?api-version=2024-12-01-preview \"HTTP/1.1 200 OK\"\n",
      "INFO:dapr_agents.llm.openai.chat:ChatCompletion response received.\n"
     ]
    },
    {
     "name": "stdout",
     "output_type": "stream",
     "text": [
      "\u001b[38;2;217;95;118massistant:\u001b[0m\n",
      "\u001b[38;2;217;95;118m\u001b[0m\u001b[38;2;217;95;118mFunction name: Notebook.Code.Run (Call Id: call_MHgn1jsTsZhdB89kWj3drGkD)\u001b[0m\n",
      "\u001b[38;2;217;95;118m\u001b[0m\u001b[38;2;217;95;118mArguments: {\"content\":\"import matplotlib.pyplot as plt\\n\\n# Data for charts\\ncategories = ['A', 'B', 'C', 'D']\\nvalues = [23, 45, 56, 78]\\n\\n# Bar chart\\nplt.figure(figsize=(8, 4))\\nplt.bar(categories, values, color='skyblue')\\nplt.title('Bar Chart Example')\\nplt.xlabel('Category')\\nplt.ylabel('Values')\\nplt.show()\\n\\n# Line chart\\nplt.figure(figsize=(8, 4))\\nplt.plot(categories, values, marker='o', linestyle='-', color='green')\\nplt.title('Line Chart Example')\\nplt.xlabel('Category')\\nplt.ylabel('Values')\\nplt.grid(True)\\nplt.show()\"}\u001b[0m\u001b[0m\n",
      "\u001b[0m\u001b[0m\n",
      "\u001b[0m--------------------------------------------------------------------------------\u001b[0m\n",
      "\u001b[0m\u001b[0m"
     ]
    },
    {
     "name": "stderr",
     "output_type": "stream",
     "text": [
      "INFO:dapr_agents.tool.executor:Running tool (auto): Notebook.Code.Run\n"
     ]
    },
    {
     "name": "stdout",
     "output_type": "stream",
     "text": [
      "\u001b[0m\n",
      "\u001b[38;2;191;69;126mNotebook.Code.Run(tool) (Id: call_MHgn1jsTsZhdB89kWj3drGkD):\u001b[0m\n",
      "\u001b[38;2;191;69;126m\u001b[0m\u001b[38;2;191;69;126m{\"ok\":true,\"cell_index\":2,\"status\":\"ok\",\"stdout\":\"\",\"stderr\":\"\",\"outputs\":[{\"output_type\":\"display_data\",\"data\":{\"text/plain\":\"<Figure size 800x400 with 1 Axes>\",\"image/png\":\"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\"},\"metadata\":{}},{\"output_type\":\"display_data\",\"data\":{\"text/plain\":\"<Figure size 800x400 with 1 Axes>\",\"image/png\":\"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\"},\"metadata\":{}}],\"text_outputs\":[\"<Figure size 800x400 with 1 Axes>\",\"<Figure size 800x400 with 1 Axes>\"],\"formatted_output\":\"<Figure size 800x400 with 1 Axes>\\n<Figure size 800x400 with 1 Axes>\",\"error_message\":null,\"elapsed_seconds\":0.5062038898468018}\u001b[0m\u001b[0m\n",
      "\u001b[0m\u001b[0m\n",
      "\u001b[0m--------------------------------------------------------------------------------\u001b[0m\n",
      "\u001b[0m\u001b[0m"
     ]
    },
    {
     "name": "stderr",
     "output_type": "stream",
     "text": [
      "INFO:dapr_agents.agents.agent.agent:Iteration 3/20 started.\n",
      "INFO:dapr_agents.llm.utils.request:Tools are available in the request.\n",
      "INFO:dapr_agents.llm.openai.chat:Calling OpenAI ChatCompletion...\n"
     ]
    },
    {
     "name": "stdout",
     "output_type": "stream",
     "text": [
      "\u001b[0m\n"
     ]
    },
    {
     "name": "stderr",
     "output_type": "stream",
     "text": [
      "INFO:httpx:HTTP Request: POST https://bh25-shared-azfoundry-w3.cognitiveservices.azure.com/openai/deployments/gpt-4.1-mini/chat/completions?api-version=2024-12-01-preview \"HTTP/1.1 200 OK\"\n",
      "INFO:dapr_agents.llm.openai.chat:ChatCompletion response received.\n"
     ]
    },
    {
     "name": "stdout",
     "output_type": "stream",
     "text": [
      "\u001b[38;2;147;191;183massistant:\u001b[0m\n",
      "\u001b[38;2;147;191;183m\u001b[0m\u001b[38;2;147;191;183mI have created examples of a bar chart and a line chart using matplotlib. The bar chart displays categorical values, and the line chart shows the same data points connected with lines and markers. Both charts are labeled with titles and axis labels for clarity. Would you like me to add any other types of charts or modify these examples?\u001b[0m\u001b[0m\n",
      "\u001b[0m\u001b[0m\n",
      "\u001b[0m--------------------------------------------------------------------------------\u001b[0m\n",
      "\u001b[0m\u001b[0m"
     ]
    },
    {
     "name": "stderr",
     "output_type": "stream",
     "text": [
      "INFO:dapr_agents.agents.agent.agent:Agent conversation completed after 3 turns.\n"
     ]
    },
    {
     "name": "stdout",
     "output_type": "stream",
     "text": [
      "\u001b[0m\n"
     ]
    }
   ],
   "source": [
    "async with stdio_client(server_params) as (read, write):\n",
    "    async with ClientSession(read, write) as s:\n",
    "        await s.initialize()\n",
    "\n",
    "        # Discover tools\n",
    "        tools = await AgentTool.from_mcp_session(s)\n",
    "\n",
    "        from dapr_agents import Agent\n",
    "\n",
    "        notebook_agent = Agent(\n",
    "            name=\"Jupyter Notebook Orchestrator\",\n",
    "            role=\"A notebook co-pilot that drives analysis inside a persistent Jupyter session.\",\n",
    "            goal=(\n",
    "                \"Use the active Jupyter notebook to complete tasks end-to-end: \"\n",
    "                \"add clear markdown, execute Python code, and, when necessary, install Python packages. \"\n",
    "                \"Reuse the same live session (kernel + document) so work builds on previous cells.\"\n",
    "            ),\n",
    "            instructions=[\n",
    "                # Session & ordering\n",
    "                \"You are driving a live Jupyter notebook (persistent kernel + document).\",\n",
    "                \"Cell order matters. Issue exactly ONE tool call at a time and wait for its result before the next.\",\n",
    "                \"Append new cells; do not rewrite or reorder existing cells unless explicitly asked.\",\n",
    "\n",
    "                # Tools to use\n",
    "                \"Use `notebook.markdown.add(content)` for headings and short explanations.\",\n",
    "                \"Use `notebook.code.run(content)` to append and execute Python code cells.\",\n",
    "\n",
    "                # Packages\n",
    "                \"If an import fails, call `notebook.packages.add([pip_names])` once, then retry the import.\",\n",
    "                \"Package names are pip distributions (e.g., 'matplotlib', 'seaborn', 'plotly', 'requests').\",\n",
    "\n",
    "                # Notebook hygiene\n",
    "                \"Before a task, add a brief markdown heading describing what you'll do.\",\n",
    "                \"Keep code cells small and focused—one idea per cell.\",\n",
    "                \"When previewing data, show concise outputs (e.g., df.head(), shapes, key metrics).\",\n",
    "                \"For plots, include a title, axis labels, and legends where helpful.\",\n",
    "\n",
    "                # Robustness\n",
    "                \"If an error occurs, add a short markdown note on the fix, then run a corrected code cell.\",\n",
    "                \"Reuse variables and data created in earlier cells; reference them directly in later cells.\",\n",
    "\n",
    "                # Closure\n",
    "                \"End a logical section with a short markdown summary of what was produced.\"\n",
    "            ],\n",
    "            llm=llm,\n",
    "            tools=tools,\n",
    "            max_iterations=20,\n",
    "        )\n",
    "\n",
    "        QUESTION = \"\"\"create a matplotlib bar and line chart examples in the notebook\"\"\"\n",
    "        await notebook_agent.run(QUESTION)"
   ]
  },
  {
   "cell_type": "code",
   "execution_count": null,
   "id": "428d08da",
   "metadata": {},
   "outputs": [],
   "source": []
  }
 ],
 "metadata": {
  "kernelspec": {
   "display_name": ".venv",
   "language": "python",
   "name": "python3"
  },
  "language_info": {
   "codemirror_mode": {
    "name": "ipython",
    "version": 3
   },
   "file_extension": ".py",
   "mimetype": "text/x-python",
   "name": "python",
   "nbconvert_exporter": "python",
   "pygments_lexer": "ipython3",
   "version": "3.13.3"
  }
 },
 "nbformat": 4,
 "nbformat_minor": 5
}
