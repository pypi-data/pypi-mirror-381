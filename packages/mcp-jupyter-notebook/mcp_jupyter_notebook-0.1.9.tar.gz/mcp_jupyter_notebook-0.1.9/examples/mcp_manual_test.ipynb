{
 "cells": [
  {
   "cell_type": "code",
   "execution_count": null,
   "id": "3c0eac9f",
   "metadata": {},
   "outputs": [],
   "source": [
    "import os\n",
    "import uuid\n",
    "import json\n",
    "import logging\n",
    "from dotenv import load_dotenv\n",
    "\n",
    "from dapr_agents import OpenAIChatClient\n",
    "from mcp import ClientSession, StdioServerParameters\n",
    "from mcp.client.stdio import stdio_client\n",
    "from dapr_agents.tool import AgentTool\n",
    "\n",
    "logging.basicConfig(level=logging.INFO)\n",
    "load_dotenv()"
   ]
  },
  {
   "cell_type": "code",
   "execution_count": null,
   "id": "227adcc6",
   "metadata": {},
   "outputs": [],
   "source": [
    "llm = OpenAIChatClient(\n",
    "    api_key=os.getenv(\"AZURE_OPENAI_API_KEY\"),\n",
    "    azure_endpoint=os.getenv(\"AZURE_OPENAI_ENDPOINT\"),\n",
    "    azure_deployment=os.getenv(\"AZURE_OPENAI_DEPLOYMENT\"),\n",
    "    api_version=os.getenv(\"AZURE_OPENAI_API_VERSION\"),\n",
    ")\n",
    "\n",
    "def to_obj(x):\n",
    "    return json.loads(x) if isinstance(x, str) else x"
   ]
  },
  {
   "cell_type": "code",
   "execution_count": null,
   "id": "c4bb939f",
   "metadata": {},
   "outputs": [],
   "source": [
    "# ---- MCP Jupyter server env (REMOTE) ----\n",
    "NOTEBOOK_NAME = f\"mcp_{uuid.uuid4().hex[:8]}.ipynb\"\n",
    "\n",
    "ENV = {\n",
    "    **os.environ,\n",
    "    \"MCP_JUPYTER_SESSION_MODE\": \"server\",\n",
    "    \"MCP_JUPYTER_BASE_URL\": os.getenv(\"JUPYTER_BASE_URL\"),\n",
    "    \"MCP_JUPYTER_TOKEN\": os.getenv(\"JUPYTER_TOKEN\"),\n",
    "    \"MCP_JUPYTER_KERNEL_NAME\": os.getenv(\"JUPYTER_KERNEL_NAME\", \"python3\"),\n",
    "    \"MCP_JUPYTER_NOTEBOOK_PATH\": os.getenv(\"JUPYTER_NOTEBOOK_PATH\", NOTEBOOK_NAME),\n",
    "}\n",
    "\n",
    "# Adjust path to your MCP server entrypoint (where your server.py lives)\n",
    "server_params = StdioServerParameters(\n",
    "    command=\"/Users/wardog/.local/bin/uv\",\n",
    "    args=[\"run\", \"mcp_example/server.py\"],\n",
    "    env=ENV,\n",
    ")"
   ]
  },
  {
   "cell_type": "code",
   "execution_count": null,
   "id": "d0dab763",
   "metadata": {},
   "outputs": [],
   "source": [
    "async with stdio_client(server_params) as (read, write):\n",
    "    async with ClientSession(read, write) as s:\n",
    "        await s.initialize()\n",
    "\n",
    "        # Discover tools\n",
    "        tools = {t.name: t for t in await AgentTool.from_mcp_session(s)}\n",
    "        print(\"Discovered tools:\", list(tools.keys()))\n",
    "\n",
    "        # 1) Add a markdown heading\n",
    "        md_res = await tools[\"Notebook.Markdown.Add\"].arun(content=\"## Hello from MCP Jupyter\")\n",
    "        print(\"markdown.add ->\", to_obj(md_res))\n",
    "\n",
    "        # 2) Run a code cell\n",
    "        code = \"print('hello'); 1+2\"\n",
    "        run_res = await tools[\"Notebook.Code.Run\"].arun(content=code)\n",
    "        run_obj = to_obj(run_res)\n",
    "        print(\"code.run ->\", run_obj[\"ok\"], run_obj.get(\"stdout\"), run_obj.get(\"formatted_output\"))"
   ]
  },
  {
   "cell_type": "code",
   "execution_count": null,
   "id": "b23ccc33",
   "metadata": {},
   "outputs": [],
   "source": []
  }
 ],
 "metadata": {
  "kernelspec": {
   "display_name": ".venv",
   "language": "python",
   "name": "python3"
  },
  "language_info": {
   "codemirror_mode": {
    "name": "ipython",
    "version": 3
   },
   "file_extension": ".py",
   "mimetype": "text/x-python",
   "name": "python",
   "nbconvert_exporter": "python",
   "pygments_lexer": "ipython3",
   "version": "3.13.3"
  }
 },
 "nbformat": 4,
 "nbformat_minor": 5
}
