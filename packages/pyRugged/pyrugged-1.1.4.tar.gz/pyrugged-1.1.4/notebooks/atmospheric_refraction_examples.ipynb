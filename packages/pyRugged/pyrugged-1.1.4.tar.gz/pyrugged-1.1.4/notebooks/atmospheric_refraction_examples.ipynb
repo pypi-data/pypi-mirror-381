{
 "cells": [
  {
   "cell_type": "markdown",
   "metadata": {},
   "source": [
    "# Atmospheric refraction examples \n",
    "### PyRugged API - tutorial 4\n",
    "---"
   ]
  },
  {
   "cell_type": "markdown",
   "metadata": {},
   "source": [
    "Module imports"
   ]
  },
  {
   "cell_type": "code",
   "execution_count": 1,
   "metadata": {},
   "outputs": [],
   "source": [
    "import orekit\n",
    "import numpy as np\n",
    "\n",
    "import os\n",
    "import sys\n",
    "\n",
    "\n",
    "from org.hipparchus.geometry.euclidean.threed import Rotation\n",
    "from org.hipparchus.geometry.euclidean.threed import Vector3D\n",
    "from org.hipparchus.stat.descriptive import DescriptiveStatistics\n",
    "\n",
    "from org.orekit.frames import Frame\n",
    "from org.orekit.frames import FramesFactory\n",
    "from org.orekit.frames import Transform\n",
    "\n",
    "from org.orekit.time import AbsoluteDate\n",
    "from org.orekit.time import TimeScale\n",
    "from org.orekit.time import TimeScalesFactory\n",
    "from org.orekit.utils import AngularDerivativesFilter\n",
    "from org.orekit.utils import CartesianDerivativesFilter\n",
    "from org.orekit.utils import IERSConventions\n",
    "from org.orekit.utils import PVCoordinates\n",
    "from org.orekit.utils import TimeStampedAngularCoordinates\n",
    "from org.orekit.utils import TimeStampedPVCoordinates\n",
    "\n",
    "from pyrugged.configuration.init_orekit import init_orekit\n",
    "from pyrugged.intersection.algorithm_id import AlgorithmId\n",
    "from pyrugged.intersection.intersection_algorithm import create_intersection_algorithm\n",
    "from pyrugged.bodies.body_rotating_frame_id import BodyRotatingFrameId\n",
    "from pyrugged.bodies.ellipsoid_id import EllipsoidId\n",
    "from pyrugged.model.inertial_frame_id import InertialFrameId\n",
    "from pyrugged.model.pyrugged_builder import PyRuggedBuilder\n",
    "from pyrugged.line_sensor.line_sensor import LineSensor\n",
    "from pyrugged.line_sensor.linear_line_datation import LinearLineDatation\n",
    "from pyrugged.los.fixed_rotation import FixedRotation\n",
    "from pyrugged.los.los_builder import LOSBuilder\n",
    "from pyrugged.refraction.atmospheric_refraction import AtmosphericRefraction\n",
    "from pyrugged.refraction.multi_layer_model import MultiLayerModel\n",
    "from pyrugged.bodies.geodetic_point import GeodeticPoint\n",
    "from pyrugged.location.optical import OpticalLocation, CorrectionsParams\n",
    "from pyrugged.utils.math_utils import compute_distance_in_meter_from_points\n",
    "\n",
    "# add helpers modules from tests\n",
    "import os\n",
    "import sys\n",
    "module_path = os.path.join(os.getcwd(), \"./../tests/\")\n",
    "if module_path not in sys.path:\n",
    "    sys.path.append(module_path)\n",
    "\n",
    "import helpers"
   ]
  },
  {
   "cell_type": "markdown",
   "metadata": {},
   "source": [
    "### Initialization \n",
    "\n",
    "initialize JVM or GraalVM subtrat VM, and initialize Orekit, using internal orekit-data folder."
   ]
  },
  {
   "cell_type": "code",
   "execution_count": 2,
   "metadata": {},
   "outputs": [],
   "source": [
    "init_orekit()"
   ]
  },
  {
   "cell_type": "markdown",
   "metadata": {},
   "source": [
    "## 1 - Sensor's definition"
   ]
  },
  {
   "cell_type": "markdown",
   "metadata": {},
   "source": [
    "### Line of sight\n",
    "The raw viewing direction of pixel i with respect to the instrument is defined by the vector:"
   ]
  },
  {
   "cell_type": "code",
   "execution_count": 3,
   "metadata": {},
   "outputs": [],
   "source": [
    "raw_dirs = []\n",
    "for i in range(2000):\n",
    "    raw_dirs.append(\n",
    "        Vector3D(0.0, i * float(np.radians(20.0)) / 2000.0, 1.0)\n",
    "    )"
   ]
  },
  {
   "cell_type": "markdown",
   "metadata": {},
   "source": [
    "The instrument is oriented 10° off nadir around the X-axis. \n",
    "We need to rotate the viewing direction to obtain the line of sight in the satellite frame."
   ]
  },
  {
   "cell_type": "code",
   "execution_count": 4,
   "metadata": {},
   "outputs": [],
   "source": [
    "los_builder = LOSBuilder(raw_dirs)\n",
    "los_builder.add_ti_los_transform(\n",
    "    FixedRotation(\n",
    "        \"10-degrees-rotation\",\n",
    "        Vector3D.PLUS_I,\n",
    "        float(np.radians(10.))\n",
    "    )\n",
    ")\n",
    "\n",
    "line_of_sight = los_builder.build()"
   ]
  },
  {
   "cell_type": "markdown",
   "metadata": {},
   "source": [
    "### Datation model\n",
    "We use Orekit for handling time and dates, and PyRugged for defining the datation model:"
   ]
  },
  {
   "cell_type": "code",
   "execution_count": 5,
   "metadata": {},
   "outputs": [],
   "source": [
    "gps = TimeScalesFactory.getGPS()\n",
    "abs_date = AbsoluteDate(\"2009-12-11T16:59:30.0\", gps)\n",
    "line_datation = LinearLineDatation(\n",
    "    abs_date, 1.0, 20\n",
    ")"
   ]
  },
  {
   "cell_type": "markdown",
   "metadata": {},
   "source": [
    "### Line sensor\n",
    "With the LOS and the datation now defined, we can initialize a line sensor object in PyRugged:"
   ]
  },
  {
   "cell_type": "code",
   "execution_count": 6,
   "metadata": {},
   "outputs": [],
   "source": [
    "line_sensor = LineSensor(\n",
    "    \"my-sensor\",\n",
    "    line_datation,\n",
    "    Vector3D.ZERO,\n",
    "    line_of_sight,\n",
    ")"
   ]
  },
  {
   "cell_type": "markdown",
   "metadata": {},
   "source": [
    "## 2 - Satellite position, velocity and attitude"
   ]
  },
  {
   "cell_type": "markdown",
   "metadata": {},
   "source": [
    "### Reference frames\n",
    "In our application, we simply need to know the name of the frames we are working with. Positions and\n",
    "velocities are given in the ITRF terrestrial frame, while the quaternions are given in EME2000\n",
    "inertial frame."
   ]
  },
  {
   "cell_type": "code",
   "execution_count": 7,
   "metadata": {},
   "outputs": [],
   "source": [
    "eme_2000 = FramesFactory.getEME2000()\n",
    "\n",
    "# We don't want to compute tiny tidal effects at millimeter level\n",
    "simple_eop = True\n",
    "\n",
    "itrf = FramesFactory.getITRF(\n",
    "    IERSConventions.IERS_2010, simple_eop\n",
    ")"
   ]
  },
  {
   "cell_type": "markdown",
   "metadata": {},
   "source": [
    "### Satellite attitude"
   ]
  },
  {
   "cell_type": "code",
   "execution_count": 8,
   "metadata": {},
   "outputs": [],
   "source": [
    "satellite_q_list = []\n",
    "\n",
    "helpers.add_satellite_q(gps, satellite_q_list, \"2009-12-11T16:58:42.592937\", -0.340236, 0.333952, -0.844012, -0.245684)\n",
    "helpers.add_satellite_q(gps, satellite_q_list, \"2009-12-11T16:59:06.592937\", -0.354773, 0.329336, -0.837871, -0.252281)\n",
    "helpers.add_satellite_q(gps, satellite_q_list, \"2009-12-11T16:59:30.592937\", -0.369237, 0.324612, -0.831445, -0.258824)\n",
    "helpers.add_satellite_q(gps, satellite_q_list, \"2009-12-11T16:59:54.592937\", -0.3836, 0.319792, -0.824743, -0.265299)\n",
    "helpers.add_satellite_q(gps, satellite_q_list, \"2009-12-11T17:00:18.592937\", -0.397834, 0.314883, -0.817777, -0.271695)\n",
    "helpers.add_satellite_q(gps, satellite_q_list, \"2009-12-11T17:00:42.592937\", -0.411912, 0.309895, -0.810561, -0.278001)\n",
    "helpers.add_satellite_q(gps, satellite_q_list, \"2009-12-11T17:01:06.592937\", -0.42581, 0.304838, -0.803111, -0.284206)\n",
    "helpers.add_satellite_q(gps, satellite_q_list, \"2009-12-11T17:01:30.592937\", -0.439505, 0.299722, -0.795442, -0.290301)\n",
    "helpers.add_satellite_q(gps, satellite_q_list, \"2009-12-11T17:01:54.592937\", -0.452976, 0.294556, -0.787571, -0.296279)\n",
    "helpers.add_satellite_q(gps, satellite_q_list, \"2009-12-11T17:02:18.592937\", -0.466207, 0.28935, -0.779516, -0.302131)\n"
   ]
  },
  {
   "cell_type": "markdown",
   "metadata": {},
   "source": [
    "### Positions and velocities"
   ]
  },
  {
   "cell_type": "code",
   "execution_count": 9,
   "metadata": {},
   "outputs": [],
   "source": [
    "satellite_pv_list = []\n",
    "\n",
    "helpers.add_satellite_pv(gps, eme_2000, itrf, satellite_pv_list, \"2009-12-11T16:58:42.592937\", -726361.466, -5411878.485, 4637549.599, -2463.635, -4447.634, -5576.736)\n",
    "helpers.add_satellite_pv(gps, eme_2000, itrf, satellite_pv_list, \"2009-12-11T16:59:04.192937\", -779538.267, -5506500.533, 4515934.894, -2459.848, -4312.676, -5683.906)\n",
    "helpers.add_satellite_pv(gps, eme_2000, itrf, satellite_pv_list, \"2009-12-11T16:59:25.792937\", -832615.368, -5598184.195, 4392036.13, -2454.395, -4175.564, -5788.201)\n",
    "helpers.add_satellite_pv(gps, eme_2000, itrf, satellite_pv_list, \"2009-12-11T16:59:47.392937\", -885556.748, -5686883.696, 4265915.971, -2447.273, -4036.368, -5889.568)\n",
    "helpers.add_satellite_pv(gps, eme_2000, itrf, satellite_pv_list, \"2009-12-11T17:00:08.992937\", -938326.32, -5772554.875, 4137638.207, -2438.478, -3895.166, -5987.957)\n",
    "helpers.add_satellite_pv(gps, eme_2000, itrf, satellite_pv_list, \"2009-12-11T17:00:30.592937\", -990887.942, -5855155.21, 4007267.717, -2428.011, -3752.034, -6083.317)\n",
    "helpers.add_satellite_pv(gps, eme_2000, itrf, satellite_pv_list, \"2009-12-11T17:00:52.192937\", -1043205.448, -5934643.836, 3874870.441, -2415.868, -3607.05, -6175.6)\n",
    "helpers.add_satellite_pv(gps, eme_2000, itrf, satellite_pv_list, \"2009-12-11T17:01:13.792937\", -1095242.669, -6010981.571, 3740513.34, -2402.051, -3460.291, -6264.76)\n",
    "helpers.add_satellite_pv(gps, eme_2000, itrf, satellite_pv_list, \"2009-12-11T17:01:35.392937\", -1146963.457, -6084130.93, 3604264.372, -2386.561, -3311.835, -6350.751)\n",
    "helpers.add_satellite_pv(gps, eme_2000, itrf, satellite_pv_list, \"2009-12-11T17:01:56.992937\", -1198331.706, -6154056.146, 3466192.446, -2369.401, -3161.764, -6433.531)\n",
    "helpers.add_satellite_pv(gps, eme_2000, itrf, satellite_pv_list, \"2009-12-11T17:02:18.592937\", -1249311.381, -6220723.191, 3326367.397, -2350.574, -3010.159, -6513.056)"
   ]
  },
  {
   "cell_type": "markdown",
   "metadata": {},
   "source": [
    "## 3 - PyRugged initialization"
   ]
  },
  {
   "cell_type": "code",
   "execution_count": 10,
   "metadata": {},
   "outputs": [],
   "source": [
    "builder = PyRuggedBuilder()\n",
    "\n",
    "builder.set_ellipsoid(\n",
    "    new_ellipsoid = None,\n",
    "    ellipsoid_id = EllipsoidId.WGS84,\n",
    "    body_rotating_frame_id = BodyRotatingFrameId.ITRF,\n",
    ")\n",
    "\n",
    "builder.set_time_span(\n",
    "    abs_date,\n",
    "    abs_date.shiftedBy(60.0),\n",
    "    0.01,\n",
    "    5 / line_sensor.get_rate(0)\n",
    ")\n",
    "\n",
    "builder.set_trajectory(\n",
    "    satellite_pv_list,\n",
    "    4, CartesianDerivativesFilter.USE_P,\n",
    "    satellite_q_list, \n",
    "    4, AngularDerivativesFilter.USE_R,\n",
    "    inertial_frame_id=InertialFrameId.EME2000,\n",
    ")\n",
    "\n",
    "builder.add_line_sensor(line_sensor)\n",
    "\n",
    "rugged = builder.build()"
   ]
  },
  {
   "cell_type": "markdown",
   "metadata": {},
   "source": [
    "## 4 -  Intersection algorithm with atmospheric refraction model"
   ]
  },
  {
   "cell_type": "code",
   "execution_count": 11,
   "metadata": {},
   "outputs": [],
   "source": [
    "# Defines atmospheric refraction model (with the default multi layers model)\n",
    "atmospheric_refraction = MultiLayerModel(rugged.ellipsoid)\n",
    "\n",
    "# One can use its own atmospheric model that must extend the abstract refraction.AtmosphericRefraction class.\n",
    "\n",
    "# Set the optional grid steps, for the inverse location computation. Useless for direct location computation.\n",
    "# This setting is optional as default values exist. But can be useful for instance to improve results by given smaller steps \n",
    "# or to speed up the computation bigger steps. \n",
    "pixel_step = 100\n",
    "line_step = 100\n",
    "atmospheric_refraction.set_grid_steps(pixel_step, line_step)\n",
    "\n",
    "correction_params = CorrectionsParams(False, False, atmospheric_refraction)\n",
    "intersection_algorithm = create_intersection_algorithm(AlgorithmId.IGNORE_DEM_USE_ELLIPSOID)\n",
    "\n",
    "location = OpticalLocation(rugged, intersection_algorithm, correction_params)\n",
    "\n",
    "\n",
    "correction_params = CorrectionsParams(False, False, None)\n",
    "\n",
    "\n",
    "location_without_refraction = OpticalLocation(rugged, intersection_algorithm, correction_params)"
   ]
  },
  {
   "cell_type": "markdown",
   "metadata": {},
   "source": [
    "## 4 - Direct location WITH and WITHOUT atmospheric correction"
   ]
  },
  {
   "cell_type": "code",
   "execution_count": 12,
   "metadata": {},
   "outputs": [
    {
     "name": "stdout",
     "output_type": "stream",
     "text": [
      "Distance must be > 0 and < 2m:\n",
      "Max = 0.5669886864451367\n",
      "Min = 0.00021678107073320137\n",
      "Median = 0.25510454060494187\n",
      "Mean = 0.25899266436729373\n",
      "Std deviation = 0.15350403049652708\n"
     ]
    }
   ],
   "source": [
    "def compute_distance_in_meter(earth_radius, gp_1, gp_2):\n",
    "    \"\"\"Compute distance in meters between two GeodeticPoint objects.\"\"\"\n",
    "\n",
    "    p_1 = Vector3D(gp_1.longitude, gp_1.latitude)\n",
    "    p_2 = Vector3D(gp_2.longitude, gp_1.latitude)\n",
    "\n",
    "    return earth_radius * Vector3D.angle(p_1, p_2)\n",
    "\n",
    "\n",
    "chosen_line = 200\n",
    "\n",
    "# With atmosphere\n",
    "gp_with_atmospheric_refraction_correction = location.direct_location_of_sensor_line(chosen_line)\n",
    "\n",
    "# Without atmosphere\n",
    "gp_without_atmospheric_refraction_correction = location_without_refraction.direct_location_of_sensor_line(chosen_line)\n",
    "\n",
    "\n",
    "earth_radius = rugged.ellipsoid.equatorial_radius\n",
    "stat_distance = []\n",
    "\n",
    "for index, _ in enumerate(gp_with_atmospheric_refraction_correction):\n",
    "    current_radius = earth_radius + (\n",
    "        gp_with_atmospheric_refraction_correction[index][2] + gp_without_atmospheric_refraction_correction[index][2]\n",
    "    ) / 2.\n",
    "    \n",
    "    distance = compute_distance_in_meter_from_points(\n",
    "        current_radius,\n",
    "        gp_with_atmospheric_refraction_correction[index],\n",
    "        gp_without_atmospheric_refraction_correction[index],\n",
    "    )\n",
    "\n",
    "    stat_distance.append(distance)\n",
    "\n",
    "print(f'{\"Distance must be > 0 and < 2m:\"}')\n",
    "print(f'{\"Max = \"}{np.max(stat_distance)}')\n",
    "print(f'{\"Min = \"}{np.min(stat_distance)}')\n",
    "print(f'{\"Median = \"}{np.median(stat_distance)}')\n",
    "print(f'{\"Mean = \"}{np.mean(stat_distance)}')\n",
    "print(f'{\"Std deviation = \"}{np.std(stat_distance)}')"
   ]
  },
  {
   "cell_type": "markdown",
   "metadata": {},
   "source": [
    "## 6 - Inverse loc WITH atmospheric correction"
   ]
  },
  {
   "cell_type": "code",
   "execution_count": 13,
   "metadata": {},
   "outputs": [
    {
     "name": "stdout",
     "output_type": "stream",
     "text": [
      "Inverse location gave same pixel and line as direct location input for : Epsilon pixel = 0.001 Epsilon line = 0.011\n"
     ]
    }
   ],
   "source": [
    "epsilon_pixel = 1.0e-3\n",
    "epsilon_line = 1.1e-2\n",
    "\n",
    "min_line = int(np.floor(line_sensor.get_line(rugged.min_date)))\n",
    "max_line = int(np.ceil(line_sensor.get_line(rugged.max_date)))\n",
    "\n",
    "for index, _ in enumerate(gp_with_atmospheric_refraction_correction):\n",
    "    \n",
    "    # to check if we go back to the initial point when taking the geodetic point with atmospheric correction\n",
    "    gp_with = gp_with_atmospheric_refraction_correction[index]\n",
    "    line, pixel = location.inverse_location(min_line, max_line, gp_with[1], gp_with[0], gp_with[2])\n",
    "\n",
    "    if line is not None and pixel is not None:\n",
    "        # Compare the computed pixel vs expected\n",
    "        if np.abs(index - pixel) > epsilon_pixel:\n",
    "            print(f'{\"Problem with pixel \"}{index}{\" . Delta pixel = \"}{index - pixel}')\n",
    "\n",
    "        # Compare the computed line vs the expected\n",
    "        if np.abs(chosen_line - line) > epsilon_line:\n",
    "            print(f'{\"Problem with line, for pixel \"}{index}{\" . Delta line = \"}{chosen_line - line}')\n",
    "\n",
    "    else:\n",
    "        print(f'{\"Inverse location failed for pixel \"}{index}{\" with atmospheric refraction correction for geodetic point computed with\"}')\n",
    "    \n",
    "print(\n",
    "    f'{\"Inverse location gave same pixel and line as direct location input for :\"}'\n",
    "    f'{\" Epsilon pixel = \"}{epsilon_pixel}'\n",
    "    f'{\" Epsilon line = \"}{epsilon_line}'\n",
    ")"
   ]
  }
 ],
 "metadata": {
  "kernelspec": {
   "display_name": "Python 3 (ipykernel)",
   "language": "python",
   "name": "python3"
  },
  "language_info": {
   "codemirror_mode": {
    "name": "ipython",
    "version": 3
   },
   "file_extension": ".py",
   "mimetype": "text/x-python",
   "name": "python",
   "nbconvert_exporter": "python",
   "pygments_lexer": "ipython3",
   "version": "3.9.5"
  },
  "vscode": {
   "interpreter": {
    "hash": "cd0adc180b42e1e51f02a942863d8cde0529ac7c733595c0604310f535ec4db1"
   }
  }
 },
 "nbformat": 4,
 "nbformat_minor": 2
}
