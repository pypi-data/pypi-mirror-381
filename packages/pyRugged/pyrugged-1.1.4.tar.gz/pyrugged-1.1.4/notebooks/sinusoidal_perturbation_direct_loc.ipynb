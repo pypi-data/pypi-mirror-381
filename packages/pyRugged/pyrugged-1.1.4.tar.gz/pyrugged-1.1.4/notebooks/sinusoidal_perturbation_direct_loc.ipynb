{
 "cells": [
  {
   "attachments": {},
   "cell_type": "markdown",
   "metadata": {
    "tags": []
   },
   "source": [
    "# Sinusoidal effects on Direct location \n",
    "\n",
    "This tutorial shows 2 ways to generate `sinusoidal perturbation` on the line of sight (LOS) of a satellite's line sensor. This notebook is based on 'tutorial 1' of the `Pyrugged` examples: 'direct_location.ipynb'. We advise you to have a look at this notebook before reading the following.  \n",
    "The sinusoidal pertubation deviates the LOS by an angle define as follow:  \n",
    "$$angle = \\alpha \\sin(2\\pi f t + \\phi)$$\n",
    "With $\\alpha$ the amplitude in radians, f the frequency in Hz, t the time ins second, and phi the phase.  \n",
    "\n",
    "The first part explains how to implement sinusoidal perturbation when you build a line sensor using `Pyrugged` LOSBuilder object.  \n",
    "The second part explains how to set sinusoidal perturbation when you import dimap data using `PydimapRugged` and how it affects geolocation of satellite image"
   ]
  },
  {
   "cell_type": "markdown",
   "metadata": {},
   "source": [
    "### Module imports"
   ]
  },
  {
   "cell_type": "code",
   "execution_count": 13,
   "metadata": {},
   "outputs": [],
   "source": [
    "import orekit\n",
    "\n",
    "import numpy as np\n",
    "import matplotlib.pyplot as plt\n",
    "\n",
    "from org.hipparchus.geometry.euclidean.threed import Vector3D\n",
    "from org.orekit.time import AbsoluteDate\n",
    "from org.orekit.time import TimeScalesFactory\n",
    "\n",
    "from pyrugged.configuration.init_orekit import init_orekit\n",
    "from pyrugged.los.sinusoidal_rotation import SinusoidalRotation\n",
    "from pyrugged.los.los_builder import LOSBuilder\n",
    "from pyrugged.line_sensor.line_sensor import LineSensor\n",
    "from pyrugged.line_sensor.linear_line_datation import LinearLineDatation\n",
    "\n",
    "from pydimaprugged.utils.proj_utils import change_crs\n",
    "from pydimaprugged.process.pyrugged_initialization import initialize_pyrugged"
   ]
  },
  {
   "attachments": {},
   "cell_type": "markdown",
   "metadata": {},
   "source": [
    "### Initialization \n",
    "\n",
    "initialize Orekit"
   ]
  },
  {
   "cell_type": "code",
   "execution_count": 14,
   "metadata": {},
   "outputs": [],
   "source": [
    "init_orekit()"
   ]
  },
  {
   "attachments": {},
   "cell_type": "markdown",
   "metadata": {},
   "source": [
    "---"
   ]
  },
  {
   "attachments": {},
   "cell_type": "markdown",
   "metadata": {},
   "source": [
    "## 1 - Generate sinusoidal perturbation using Pyrugged LOSBuilder object"
   ]
  },
  {
   "attachments": {},
   "cell_type": "markdown",
   "metadata": {},
   "source": [
    "In this part, we will use Pyrugged `LOSBuilder` object and the `add_transform` method to generate perturbed line of sight (LOS) following a sinusoidal function from raw LOS."
   ]
  },
  {
   "attachments": {},
   "cell_type": "markdown",
   "metadata": {},
   "source": [
    "### Generate raw LOS"
   ]
  },
  {
   "cell_type": "code",
   "execution_count": 15,
   "metadata": {},
   "outputs": [],
   "source": [
    "raw_dirs = []\n",
    "for i in range(2000):\n",
    "    raw_dirs.append(\n",
    "        Vector3D(0.0, (-1000+i) * float(np.radians(1)) / 2000.0, 1.0)\n",
    "    )"
   ]
  },
  {
   "attachments": {},
   "cell_type": "markdown",
   "metadata": {},
   "source": [
    "### Define line datation model"
   ]
  },
  {
   "attachments": {},
   "cell_type": "markdown",
   "metadata": {},
   "source": [
    "Since the sinusoidal function is time dependent, we have to define the time model before the LOSBuilder."
   ]
  },
  {
   "cell_type": "code",
   "execution_count": 16,
   "metadata": {},
   "outputs": [],
   "source": [
    "gps = TimeScalesFactory.getGPS() #time frame (gps)\n",
    "abs_date = AbsoluteDate(\"2009-12-11T16:59:30.0\", gps)\n",
    "line_datation = LinearLineDatation(\n",
    "    abs_date, 1.0, 20\n",
    ")"
   ]
  },
  {
   "attachments": {},
   "cell_type": "markdown",
   "metadata": {},
   "source": [
    "### Build LOS from raw los"
   ]
  },
  {
   "attachments": {},
   "cell_type": "markdown",
   "metadata": {},
   "source": [
    "We use the `SinusoidalRotation` object, very similar to the `PolynomialRotation` object used in the tutorial 1. The constructor of this object takes for arguments the following:  \n",
    "-The name of the transform  :  str  \n",
    "-The axis around which the (sinusoidal) rotation take place  :  Vector3D\n",
    "-The reference date to set a time frame for the sinusoide function  :  AbsoluteDate  \n",
    "-The amplitude of the sinusoide in radians  :  float\n",
    "-The frequency of the sinusoide in Hz  :  float  \n",
    "-The phase of the sinusoide  :  float"
   ]
  },
  {
   "cell_type": "code",
   "execution_count": 17,
   "metadata": {},
   "outputs": [],
   "source": [
    "los_builder = LOSBuilder(raw_dirs)\n",
    "los_builder.add_los_transform(\n",
    "    SinusoidalRotation(\n",
    "        \"sinusoidal rotation\",\n",
    "        Vector3D.PLUS_J, #rotation axis\n",
    "        reference_date = abs_date,\n",
    "        amplitude = 1e-4,\n",
    "        frequency = 30,\n",
    "        phase = 0\n",
    "    )\n",
    ")\n",
    "line_of_sight = los_builder.build()\n"
   ]
  },
  {
   "attachments": {},
   "cell_type": "markdown",
   "metadata": {},
   "source": [
    "### Generate the line sensor"
   ]
  },
  {
   "cell_type": "code",
   "execution_count": 18,
   "metadata": {},
   "outputs": [],
   "source": [
    "line_sensor = LineSensor(\n",
    "    \"my-sensor2\",\n",
    "    line_datation,\n",
    "    Vector3D.ZERO,\n",
    "    line_of_sight,\n",
    ")"
   ]
  },
  {
   "attachments": {},
   "cell_type": "markdown",
   "metadata": {},
   "source": [
    "You can now use the line_sensor as you usually do, and use it to build a Pyrugged instance. The line_senor LOS have been affected by the sinusoidal perturbation.\n",
    "\n",
    "---"
   ]
  },
  {
   "attachments": {},
   "cell_type": "markdown",
   "metadata": {},
   "source": [
    "## 2 - Generate sinusoidal perturbation using Pydimaprugged API and dimap data\n",
    "\n",
    "In this part, we will use Pydimaprugged to import dimap data and affect them by a sinusoidal perturbation. We use a real dimap file ('DIM_PHR1A_P_201202250025599_SEN_PRG_FC_5847-001.XML') of a satellite's line sensor pointing at nadir for an easier way to analyze the perturbation's effect."
   ]
  },
  {
   "attachments": {},
   "cell_type": "markdown",
   "metadata": {},
   "source": [
    "### Pyrugged initilization\n",
    "\n",
    "We use Pydimaprugged to initialize pyrugged using the dimap file, and the argument of the sinusoidal perturbation."
   ]
  },
  {
   "cell_type": "code",
   "execution_count": 19,
   "metadata": {},
   "outputs": [],
   "source": [
    "location_no_pert,parser = initialize_pyrugged( #none perturbated location for reference\n",
    "    \"DIM_PHR1A_P_201202250025599_SEN_PRG_FC_5847-001.XML\",\n",
    "    \"pleiade_sensor\",\n",
    "    amplitude = 0, #alpha, amplitude of the sinusoide in radians\n",
    "    frequency = 30, #f, frequency of the sinusoide in Hz\n",
    "    phase = 0, #phi, the phase of the sinusoide\n",
    "    axis = Vector3D.PLUS_J, #axis of the (sinusoidale) rotation\n",
    "    )\n",
    "\n",
    "location_pert,parser = initialize_pyrugged(#perturbated location\n",
    "    \"DIM_PHR1A_P_201202250025599_SEN_PRG_FC_5847-001.XML\",\n",
    "    \"pleiade_sensor\",\n",
    "    amplitude = 1e-4, \n",
    "    frequency = 30, \n",
    "    phase = 0,\n",
    "    axis = Vector3D.PLUS_J,\n",
    "    )\n",
    "\n",
    "  "
   ]
  },
  {
   "attachments": {},
   "cell_type": "markdown",
   "metadata": {},
   "source": [
    "### Set the location points\n",
    "\n",
    "We draw 3 vertical lines for an easier perception of the perturbation. (We have to name the sensors but it doesn't matter in this case)"
   ]
  },
  {
   "cell_type": "code",
   "execution_count": 20,
   "metadata": {},
   "outputs": [],
   "source": [
    "line_col = [*range(0,1206,20)]# we visualize 3 vertical lines\n",
    "pixel_col = [50, 1000, 1950]*21"
   ]
  },
  {
   "attachments": {},
   "cell_type": "markdown",
   "metadata": {},
   "source": [
    "### Locate the points"
   ]
  },
  {
   "cell_type": "code",
   "execution_count": 21,
   "metadata": {},
   "outputs": [],
   "source": [
    "\n",
    "longitudes_no_pert,latitudes_no_pert, altitudes_no_pert = location_no_pert.direct_location(line_col, pixel_col,\"pleiade_sensor\")\n",
    "longitudes_pert,latitudes_pert, altitudes_pert = location_pert.direct_location(line_col, pixel_col,\"pleiade_sensor\")"
   ]
  },
  {
   "attachments": {},
   "cell_type": "markdown",
   "metadata": {},
   "source": [
    "### Turn geodetic coordinate to UTM coordinates\n",
    "\n",
    "Be carefull the espg code may change depending on your location"
   ]
  },
  {
   "cell_type": "code",
   "execution_count": 22,
   "metadata": {},
   "outputs": [],
   "source": [
    "def geodeticToUTM(long,lat,alt):\n",
    "    geodetic_coor = tuple(zip(long,lat,alt))\n",
    "    geodetic_coor = np.asarray(geodetic_coor)\n",
    "    geodetic_coor = np.degrees(geodetic_coor)\n",
    "\n",
    "    cartesian_UTM_coor = change_crs(geodetic_coor, 4326 , 32755)#espg code melbourne\n",
    "    return cartesian_UTM_coor\n",
    "\n",
    "\n",
    "UTM_no_pert = geodeticToUTM(longitudes_no_pert,latitudes_no_pert,altitudes_no_pert)\n",
    "UTM_pert = geodeticToUTM(longitudes_pert,latitudes_pert,altitudes_pert)\n"
   ]
  },
  {
   "attachments": {},
   "cell_type": "markdown",
   "metadata": {},
   "source": [
    "### Error mesurement"
   ]
  },
  {
   "cell_type": "code",
   "execution_count": 23,
   "metadata": {},
   "outputs": [
    {
     "name": "stdout",
     "output_type": "stream",
     "text": [
      "VIBRATION EFFECT\n",
      "Max = 71.2559533503668\n",
      "Min = 0.4936117965813631\n",
      "Median = 48.48626546484274\n",
      "Mean = 44.27839758263692\n",
      "Std deviation = 22.15222524422336\n",
      "\n"
     ]
    }
   ],
   "source": [
    "def dist(arrayA,arrayB):\n",
    "    return np.sqrt(np.sum(np.square(arrayA-arrayB),axis=1))\n",
    "\n",
    "dist_pert = dist(UTM_no_pert,UTM_pert)\n",
    "\n",
    "print(\"VIBRATION EFFECT\")\n",
    "print(f'{\"Max = \"}{np.max(dist_pert)}')\n",
    "print(f'{\"Min = \"}{np.min(dist_pert)}')\n",
    "print(f'{\"Median = \"}{np.median(dist_pert)}')\n",
    "print(f'{\"Mean = \"}{np.mean(dist_pert)}')\n",
    "print(f'{\"Std deviation = \"}{np.std(dist_pert)}',end='\\n\\n')\n"
   ]
  },
  {
   "attachments": {},
   "cell_type": "markdown",
   "metadata": {},
   "source": [
    "### Display data"
   ]
  },
  {
   "cell_type": "code",
   "execution_count": 24,
   "metadata": {},
   "outputs": [
    {
     "data": {
      "image/png": "[encoded data removed]",
      "text/plain": [
       "<Figure size 640x480 with 1 Axes>"
      ]
     },
     "metadata": {},
     "output_type": "display_data"
    }
   ],
   "source": [
    "plt.plot(UTM_no_pert[:,0],UTM_no_pert[:,1],'bx')\n",
    "plt.plot(UTM_pert[:,0],UTM_pert[:,1],'rx')\n",
    "plt.legend(['without vibration','with vibration'])\n",
    "plt.title('Vibration effects on Direct localization UTM (epsg 32755)')\n",
    "plt.xlabel('X in meters')\n",
    "plt.ylabel('Y in meters')\n",
    "plt.show()"
   ]
  }
 ],
 "metadata": {
  "kernelspec": {
   "display_name": "Python 3 (ipykernel)",
   "language": "python",
   "name": "python3"
  },
  "language_info": {
   "codemirror_mode": {
    "name": "ipython",
    "version": 3
   },
   "file_extension": ".py",
   "mimetype": "text/x-python",
   "name": "python",
   "nbconvert_exporter": "python",
   "pygments_lexer": "ipython3",
   "version": "3.10.6"
  },
  "vscode": {
   "interpreter": {
    "hash": "cd0adc180b42e1e51f02a942863d8cde0529ac7c733595c0604310f535ec4db1"
   }
  }
 },
 "nbformat": 4,
 "nbformat_minor": 4
}
