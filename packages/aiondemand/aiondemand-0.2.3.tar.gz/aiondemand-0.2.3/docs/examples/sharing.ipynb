{
 "cells": [
  {
   "cell_type": "markdown",
   "metadata": {},
   "source": [
    "⚠️ This notebook assumes you followed installation instructions in [Getting Started](getting-started.ipynb) or the [home page](../README.md). If you are running this in an online environment such as Colab, install the package first:"
   ]
  },
  {
   "cell_type": "code",
   "execution_count": null,
   "metadata": {},
   "outputs": [],
   "source": [
    "!pip install aiondemand"
   ]
  },
  {
   "cell_type": "markdown",
   "metadata": {},
   "source": [
    "# Sharing Metadata on AI-on-Demand\n",
    "\n",
    "🧑‍💻 You can try this notebook interactively on [Google Colab](https://colab.research.google.com/github/aiondemand/aiondemand/blob/develop/docs/examples/sharing.ipynb) or [Binder](https://mybinder.org/v2/gh/aiondemand/aiondemand/develop?urlpath=%2Fdoc%2Ftree%2Fdocs%2Fexamples%2Fsharing.ipynb).\n",
    "\n",
    "To share metadata on AI-on-Demand, you need to have an AI-on-Demand account. To obtain one, head over to [the AI-on-Demand website](https://aiod.eu) and click 'login'. You will be prompted to sign in with an authentication service (e.g., Google or an institutional login), which will initiate the account creation process. You can later use these same credentials to log in to your account - no need for AI-on-Demand specific login credentials! 🎉\n",
    "\n",
    "After creating an account, we can use it to grant us programmatic access from Python.\n",
    "The programmatic access is granted through an 'access token', which you can obtain by running the code below.\n",
    "It will initiate an authorization request, and print instructions to confirm your authorization in the browser.\n",
    "Follow these instructions, the method will wait for you to complete this process.\n",
    "We call the function with argument `write_to_file=True`, which will automatically save the obtained token in a file (`~/.aiod/token.toml`) so it can be loaded from disk next time you use the package.\n",
    "You can choose not to store your token, but you will need to obtain a new token each time you start a new Python process (i.e., run your script)."
   ]
  },
  {
   "cell_type": "code",
   "execution_count": 2,
   "metadata": {},
   "outputs": [
    {
     "name": "stdout",
     "output_type": "stream",
     "text": [
      "Please authenticate using one of two methods:\n",
      "\n",
      "  1. Navigate to http://localhost/aiod-auth/realms/aiod/device?user_code=VSIF-SFQQ\n",
      "  2. Navigate to http://localhost/aiod-auth/realms/aiod/device and enter code VSIF-SFQQ\n",
      "\n",
      "This workflow will automatically abort after 300 seconds.\n"
     ]
    },
    {
     "data": {
      "text/plain": [
       "<aiod.authentication.authentication.Token at 0x1133d5e10>"
      ]
     },
     "execution_count": 2,
     "metadata": {},
     "output_type": "execute_result"
    }
   ],
   "source": [
    "import aiod\n",
    "aiod.create_token(write_to_file=True)"
   ]
  },
  {
   "cell_type": "markdown",
   "metadata": {},
   "source": [
    "You can test whether authentication has been successful by obtaining information about the logged in user:"
   ]
  },
  {
   "cell_type": "code",
   "execution_count": 3,
   "metadata": {},
   "outputs": [
    {
     "data": {
      "text/plain": [
       "User(name='user', roles=('offline_access', 'default-roles-aiod', 'uma_authorization'))"
      ]
     },
     "execution_count": 3,
     "metadata": {},
     "output_type": "execute_result"
    }
   ],
   "source": [
    "aiod.get_current_user()"
   ]
  },
  {
   "cell_type": "markdown",
   "metadata": {},
   "source": [
    "## Registering New Metadata\n",
    "You can register new metadata of any resource type. For the full schema specification, reference the [REST API documentation](https://api.aiod.eu/). \n",
    "\n",
    "💡To find the schema specification in the REST API documentation, go to the asset type of interested, expand the `POST /ASSET_TYPE` section (e.g., `POST /persons`) and under *request body* click *schema*. We are working on making these schema's more easily available.\n",
    "\n",
    "⚠️ Metadata submitted to the metadata catalogue will be available for all to see. In the example below, consider updating it to reflect your own identity, the organisation you work for, or an interesting AI asset that isn't yet registered on AI-on-Demand. Fake data may be removed without warning, and repeated offenses may result in a ban. Making mistakes is allowed, but please use the `replace` method to correct information or the `delete` method to remove accidental uploads (more about those methods "
   ]
  },
  {
   "cell_type": "code",
   "execution_count": null,
   "metadata": {},
   "outputs": [],
   "source": [
    "# Or alternatively, use a local server for testing, see https://github.com/aiondemand/aiod-rest-api\n",
    "# import aiod\n",
    "# aiod.config.auth_server = 'http://localhost/aiod-auth/'\n",
    "# aiod.config.api_server = 'http://localhost/'\n",
    "# aiod.create_token()  # The old token is not valid for the new authentication server"
   ]
  },
  {
   "cell_type": "code",
   "execution_count": 4,
   "metadata": {},
   "outputs": [],
   "source": [
    "identifier = aiod.persons.register(metadata=dict(name=\"Arthur Dent\"))"
   ]
  },
  {
   "cell_type": "markdown",
   "metadata": {},
   "source": [
    "If our asset was registered successfully, we should now be able to obtain it from the server:"
   ]
  },
  {
   "cell_type": "code",
   "execution_count": 5,
   "metadata": {},
   "outputs": [
    {
     "data": {
      "text/plain": [
       "{'platform': 'aiod',\n",
       " 'platform_resource_identifier': 'prsn_zKwBU5BHJldmqfUXcu5hBWsp',\n",
       " 'name': 'Arthur Dent',\n",
       " 'wants_to_be_contacted': False,\n",
       " 'agent_identifier': 'prsn_zKwBU5BHJldmqfUXcu5hBWsp',\n",
       " 'ai_resource_identifier': 'prsn_zKwBU5BHJldmqfUXcu5hBWsp',\n",
       " 'aiod_entry': {'editor': [],\n",
       "  'status': 'published',\n",
       "  'date_modified': '2025-09-16T08:35:09',\n",
       "  'date_created': '2025-09-16T08:35:09'},\n",
       " 'alternate_name': [],\n",
       " 'application_area': [],\n",
       " 'contact': [],\n",
       " 'contacts': [],\n",
       " 'creator': [],\n",
       " 'expertise': [],\n",
       " 'has_part': [],\n",
       " 'industrial_sector': [],\n",
       " 'is_part_of': [],\n",
       " 'keyword': [],\n",
       " 'languages': [],\n",
       " 'media': [],\n",
       " 'member_of': [],\n",
       " 'note': [],\n",
       " 'relevant_link': [],\n",
       " 'relevant_resource': [],\n",
       " 'relevant_to': [],\n",
       " 'research_area': [],\n",
       " 'scientific_domain': [],\n",
       " 'identifier': 'prsn_zKwBU5BHJldmqfUXcu5hBWsp'}"
      ]
     },
     "execution_count": 5,
     "metadata": {},
     "output_type": "execute_result"
    }
   ],
   "source": [
    "person = aiod.persons.get_asset(identifier=identifier, data_format=\"json\")\n",
    "person"
   ]
  },
  {
   "cell_type": "markdown",
   "metadata": {},
   "source": [
    "If we find we need to update something, we can use the `update` method to provide new metadata for the asset."
   ]
  },
  {
   "cell_type": "code",
   "execution_count": 6,
   "metadata": {},
   "outputs": [
    {
     "data": {
      "text/plain": [
       "<Response [200]>"
      ]
     },
     "execution_count": 6,
     "metadata": {},
     "output_type": "execute_result"
    }
   ],
   "source": [
    "aiod.persons.update(identifier=identifier, metadata=dict(keyword=[\"example\", \"fictional\"]))"
   ]
  },
  {
   "cell_type": "markdown",
   "metadata": {},
   "source": [
    "Changes from the call above are reflected on the server:"
   ]
  },
  {
   "cell_type": "code",
   "execution_count": 7,
   "metadata": {},
   "outputs": [
    {
     "data": {
      "text/plain": [
       "['fictional', 'example']"
      ]
     },
     "execution_count": 7,
     "metadata": {},
     "output_type": "execute_result"
    }
   ],
   "source": [
    "person = aiod.persons.get_asset(identifier=identifier, data_format=\"json\")\n",
    "person[\"keyword\"]"
   ]
  },
  {
   "cell_type": "markdown",
   "metadata": {},
   "source": [
    "We can also use the `replace` method, which replaces all values back to default except for those specified. For example, using `replace` without specifying `keyword` will set it back to its default value:"
   ]
  },
  {
   "cell_type": "code",
   "execution_count": 8,
   "metadata": {
    "scrolled": true
   },
   "outputs": [
    {
     "data": {
      "text/plain": [
       "<Response [200]>"
      ]
     },
     "execution_count": 8,
     "metadata": {},
     "output_type": "execute_result"
    }
   ],
   "source": [
    "aiod.persons.replace(identifier=identifier, metadata=dict(name=\"King Arthur\", wants_to_be_contacted=True))"
   ]
  },
  {
   "cell_type": "code",
   "execution_count": 9,
   "metadata": {},
   "outputs": [
    {
     "name": "stdout",
     "output_type": "stream",
     "text": [
      "Wants to be contacted: True\n",
      "Keywords: []\n",
      "Name: King Arthur\n"
     ]
    }
   ],
   "source": [
    "person = aiod.persons.get_asset(identifier=identifier, data_format=\"json\")\n",
    "print(\"Wants to be contacted:\", person[\"wants_to_be_contacted\"])\n",
    "print(\"Keywords:\", person[\"keyword\"])\n",
    "print(\"Name:\", person[\"name\"])"
   ]
  },
  {
   "cell_type": "markdown",
   "metadata": {},
   "source": [
    "*Note*: while we generally think people prefer to use the `update` method over the `replace` method, the `update` method is simply a best-effort wrapper around `replace` as the `PATCH` functionality to natively support `update` is not yet supported by the server's REST API. For the time being, if you experience issues using `update` please consider using `replace` instead. Here is a simple recipe for fetching the data before a `replace` request:"
   ]
  },
  {
   "cell_type": "code",
   "execution_count": 10,
   "metadata": {},
   "outputs": [
    {
     "data": {
      "text/plain": [
       "<Response [200]>"
      ]
     },
     "execution_count": 10,
     "metadata": {},
     "output_type": "execute_result"
    }
   ],
   "source": [
    "person = aiod.persons.get_asset(identifier=identifier, data_format=\"json\")\n",
    "del person[\"aiod_entry\"]  # This field may not be present in the update request\n",
    "person[\"keyword\"] = [\"example\", \"fictional\"]  # Now you manually set any fields\n",
    "aiod.persons.replace(identifier=person['identifier'], metadata=person)"
   ]
  },
  {
   "cell_type": "markdown",
   "metadata": {},
   "source": [
    "Finally, we can also remove assets that we registered using the `delete` method.\n",
    "\n",
    "⚠️ Deleting an asset is final. It cannot be undone."
   ]
  },
  {
   "cell_type": "code",
   "execution_count": 11,
   "metadata": {},
   "outputs": [
    {
     "data": {
      "text/plain": [
       "<Response [200]>"
      ]
     },
     "execution_count": 11,
     "metadata": {},
     "output_type": "execute_result"
    }
   ],
   "source": [
    "aiod.persons.delete(identifier=identifier)"
   ]
  },
  {
   "cell_type": "code",
   "execution_count": 12,
   "metadata": {},
   "outputs": [
    {
     "ename": "KeyError",
     "evalue": "\"No persons with identifier 'prsn_zKwBU5BHJldmqfUXcu5hBWsp' found.\"",
     "output_type": "error",
     "traceback": [
      "\u001b[31m---------------------------------------------------------------------------\u001b[39m",
      "\u001b[31mKeyError\u001b[39m                                  Traceback (most recent call last)",
      "\u001b[36mCell\u001b[39m\u001b[36m \u001b[39m\u001b[32mIn[12]\u001b[39m\u001b[32m, line 1\u001b[39m\n\u001b[32m----> \u001b[39m\u001b[32m1\u001b[39m \u001b[43maiod\u001b[49m\u001b[43m.\u001b[49m\u001b[43mpersons\u001b[49m\u001b[43m.\u001b[49m\u001b[43mget_asset\u001b[49m\u001b[43m(\u001b[49m\u001b[43midentifier\u001b[49m\u001b[43m=\u001b[49m\u001b[43midentifier\u001b[49m\u001b[43m)\u001b[49m\n",
      "\u001b[36mFile \u001b[39m\u001b[32m~/repositories/aiod-py-sdk/src/aiod/calls/calls.py:282\u001b[39m, in \u001b[36mget_asset\u001b[39m\u001b[34m(identifier, asset_type, version, data_format)\u001b[39m\n\u001b[32m    278\u001b[39m res = requests.get(url, headers=_get_auth_headers(required=\u001b[38;5;28;01mFalse\u001b[39;00m))\n\u001b[32m    279\u001b[39m \u001b[38;5;28;01mif\u001b[39;00m res.status_code == HTTPStatus.NOT_FOUND \u001b[38;5;129;01mand\u001b[39;00m \u001b[33m\"\u001b[39m\u001b[33mnot found\u001b[39m\u001b[33m\"\u001b[39m \u001b[38;5;129;01min\u001b[39;00m res.json().get(\n\u001b[32m    280\u001b[39m         \u001b[33m\"\u001b[39m\u001b[33mdetail\u001b[39m\u001b[33m\"\u001b[39m\n\u001b[32m    281\u001b[39m ):\n\u001b[32m--> \u001b[39m\u001b[32m282\u001b[39m     \u001b[38;5;28;01mraise\u001b[39;00m \u001b[38;5;167;01mKeyError\u001b[39;00m(\u001b[33mf\u001b[39m\u001b[33m\"\u001b[39m\u001b[33mNo \u001b[39m\u001b[38;5;132;01m{\u001b[39;00masset_type\u001b[38;5;132;01m}\u001b[39;00m\u001b[33m with identifier \u001b[39m\u001b[38;5;132;01m{\u001b[39;00midentifier\u001b[38;5;132;01m!r}\u001b[39;00m\u001b[33m found.\u001b[39m\u001b[33m\"\u001b[39m)\n\u001b[32m    283\u001b[39m resources = format_response(res.json(), data_format)\n\u001b[32m    284\u001b[39m \u001b[38;5;28;01mreturn\u001b[39;00m resources\n",
      "\u001b[31mKeyError\u001b[39m: \"No persons with identifier 'prsn_zKwBU5BHJldmqfUXcu5hBWsp' found.\""
     ]
    }
   ],
   "source": [
    "aiod.persons.get_asset(identifier=identifier)"
   ]
  },
  {
   "cell_type": "code",
   "execution_count": null,
   "metadata": {},
   "outputs": [],
   "source": []
  }
 ],
 "metadata": {
  "kernelspec": {
   "display_name": "Python 3 (ipykernel)",
   "language": "python",
   "name": "python3"
  },
  "language_info": {
   "codemirror_mode": {
    "name": "ipython",
    "version": 3
   },
   "file_extension": ".py",
   "mimetype": "text/x-python",
   "name": "python",
   "nbconvert_exporter": "python",
   "pygments_lexer": "ipython3",
   "version": "3.11.3"
  }
 },
 "nbformat": 4,
 "nbformat_minor": 4
}
