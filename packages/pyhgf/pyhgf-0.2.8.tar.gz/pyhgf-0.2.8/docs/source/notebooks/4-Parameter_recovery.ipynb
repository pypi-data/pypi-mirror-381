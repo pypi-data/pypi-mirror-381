{
 "cells": [
  {
   "cell_type": "markdown",
   "id": "3d531da8-f5e7-4979-9c95-a2dd12c8298e",
   "metadata": {
    "editable": true,
    "slideshow": {
     "slide_type": ""
    },
    "tags": []
   },
   "source": [
    "(parameters_recovery)=\n",
    "# Recovering computational parameters from observed behaviours"
   ]
  },
  {
   "cell_type": "markdown",
   "id": "5d880108-f486-4fcc-8bf3-651c6c8b829c",
   "metadata": {
    "editable": true,
    "slideshow": {
     "slide_type": ""
    },
    "tags": []
   },
   "source": [
    "[![Open In Colab](https://colab.research.google.com/assets/colab-badge.svg)](https://colab.research.google.com/github/ComputationalPsychiatry/pyhgf/blob/master/docs/source/notebooks/4-Parameter_recovery.ipynb)"
   ]
  },
  {
   "cell_type": "code",
   "execution_count": null,
   "id": "e00c09dd-b0ed-4e32-8bc7-af5868acdcd3",
   "metadata": {
    "editable": true,
    "execution": {
     "iopub.execute_input": "2025-08-23T18:00:15.472186Z",
     "iopub.status.busy": "2025-08-23T18:00:15.471874Z",
     "iopub.status.idle": "2025-08-23T18:00:15.478484Z",
     "shell.execute_reply": "2025-08-23T18:00:15.477279Z"
    },
    "slideshow": {
     "slide_type": ""
    },
    "tags": [
     "hide-cell"
    ]
   },
   "outputs": [],
   "source": [
    "import sys\n",
    "from IPython.utils import io\n",
    "\n",
    "if \"google.colab\" in sys.modules:\n",
    "    with io.capture_output() as captured:\n",
    "        ! pip uninstall -y jax jaxlib\n",
    "        ! pip install pyhgf watermark jax[cuda12]==0.4.31"
   ]
  },
  {
   "cell_type": "code",
   "execution_count": 2,
   "id": "4bc4fb2a-0224-4374-b046-76ab5904e757",
   "metadata": {
    "editable": true,
    "execution": {
     "iopub.execute_input": "2025-08-23T18:00:15.482748Z",
     "iopub.status.busy": "2025-08-23T18:00:15.482105Z",
     "iopub.status.idle": "2025-08-23T18:00:17.790913Z",
     "shell.execute_reply": "2025-08-23T18:00:17.790200Z"
    },
    "slideshow": {
     "slide_type": ""
    },
    "tags": []
   },
   "outputs": [
    {
     "name": "stderr",
     "output_type": "stream",
     "text": [
      "An NVIDIA GPU may be present on this machine, but a CUDA-enabled jaxlib is not installed. Falling back to cpu.\n"
     ]
    }
   ],
   "source": [
    "import arviz as az\n",
    "import jax.numpy as jnp\n",
    "import matplotlib.pyplot as plt\n",
    "import numpy as np\n",
    "import pymc as pm\n",
    "import seaborn as sns\n",
    "from pyhgf import load_data\n",
    "from pyhgf.distribution import HGFDistribution\n",
    "from pyhgf.math import sigmoid_inverse_temperature\n",
    "from pyhgf.model import HGF\n",
    "from pyhgf.response import binary_softmax_inverse_temperature"
   ]
  },
  {
   "cell_type": "code",
   "execution_count": 3,
   "id": "20aba0ed-e8c6-4276-8778-496528d41232",
   "metadata": {
    "execution": {
     "iopub.execute_input": "2025-08-23T18:00:17.793562Z",
     "iopub.status.busy": "2025-08-23T18:00:17.793118Z",
     "iopub.status.idle": "2025-08-23T18:00:17.796081Z",
     "shell.execute_reply": "2025-08-23T18:00:17.795551Z"
    }
   },
   "outputs": [],
   "source": [
    "np.random.seed(123)"
   ]
  },
  {
   "cell_type": "markdown",
   "id": "dbef25ef-44e0-4d35-bfa4-5be3bb3a393e",
   "metadata": {
    "editable": true,
    "slideshow": {
     "slide_type": ""
    },
    "tags": []
   },
   "source": [
    "An important application of Hierarchical Gaussian Filters consists in the inference of computational parameters from observed behaviours, as well as the inference of data-generating models (e.g. are the participants answering randomly or are they learning environmental volatilities that are better approached with a Rescorla-Wagner or a Hierarchical Gaussian Filter?). **Parameter recovery** refers to the ability to recover true data-generating parameters; **model recovery** refers to the ability to correctly identify the true data-generating model using model comparison techniques. It is often a good idea to test parameter/model recovery of a computational model using simulated data before applying this model to experimental data {cite:p}`RobertCollins2019`. In this tutorial, we demonstrate how to recover some parameters of the generative model of the Hierarchical Gaussian Filter."
   ]
  },
  {
   "cell_type": "markdown",
   "id": "a3a79141-eeda-47fa-bff1-eecd6bf035ee",
   "metadata": {
    "editable": true,
    "slideshow": {
     "slide_type": ""
    },
    "tags": []
   },
   "source": [
    "## Simulate behaviours from a one-armed bandit task\n",
    "Using a given task structure, we simulate behaviours from a group of participants assuming that they are updating beliefs of environmental volatility using a two-level Hierarchical Gaussian Filter, using a simple sigmoid as a response function parametrized by an inverse temperature parameter. For each participant, the inverse temperature and the tonic volatility at the second level are free parameters that will be estimated during the inference step."
   ]
  },
  {
   "cell_type": "code",
   "execution_count": 4,
   "id": "70400fe9-3277-4674-97de-d17543d42054",
   "metadata": {
    "editable": true,
    "execution": {
     "iopub.execute_input": "2025-08-23T18:00:17.797930Z",
     "iopub.status.busy": "2025-08-23T18:00:17.797764Z",
     "iopub.status.idle": "2025-08-23T18:00:17.805202Z",
     "shell.execute_reply": "2025-08-23T18:00:17.804064Z"
    },
    "slideshow": {
     "slide_type": ""
    },
    "tags": []
   },
   "outputs": [],
   "source": [
    "u, _ = load_data(\"binary\")  # the vector encoding the presence/absence of association\n",
    "\n",
    "N = 20  # the number of agents to simulate\n",
    "\n",
    "# sample one value for the inverse temperature\n",
    "temperatures = np.linspace(0.5, 6.0, num=N)\n",
    "\n",
    "# sample one new value of the tonic volatility at the second level\n",
    "volatilities = np.linspace(-6.0, -1.0, num=N)"
   ]
  },
  {
   "cell_type": "code",
   "execution_count": 5,
   "id": "7d8a095c-2360-4a12-9539-7a6c94b99c48",
   "metadata": {
    "editable": true,
    "execution": {
     "iopub.execute_input": "2025-08-23T18:00:17.807775Z",
     "iopub.status.busy": "2025-08-23T18:00:17.807543Z",
     "iopub.status.idle": "2025-08-23T18:00:17.811089Z",
     "shell.execute_reply": "2025-08-23T18:00:17.810423Z"
    },
    "slideshow": {
     "slide_type": ""
    },
    "tags": []
   },
   "outputs": [],
   "source": [
    "# create just one default network - we will simply change the values of interest before fitting to save time\n",
    "agent = HGF(\n",
    "    n_levels=2,\n",
    "    model_type=\"binary\",\n",
    "    initial_mean={\"1\": 0.5, \"2\": 0.0},\n",
    ")"
   ]
  },
  {
   "cell_type": "code",
   "execution_count": 6,
   "id": "d7efae06-415c-425d-a0b2-bb5a86ed2b16",
   "metadata": {
    "execution": {
     "iopub.execute_input": "2025-08-23T18:00:17.812881Z",
     "iopub.status.busy": "2025-08-23T18:00:17.812714Z",
     "iopub.status.idle": "2025-08-23T18:00:18.086960Z",
     "shell.execute_reply": "2025-08-23T18:00:18.085983Z"
    }
   },
   "outputs": [],
   "source": [
    "# observations (always the same), simulated decisions, sample values for temperature and volatility\n",
    "responses = []\n",
    "for i in range(N):\n",
    "    # set the tonic volatility for this agent and run the perceptual model forward\n",
    "    agent.attributes[1][\"tonic_volatility\"] = volatilities[i]\n",
    "    agent.input_data(input_data=u)\n",
    "\n",
    "    # get decision probabilities using the belief trajectories\n",
    "    # and the sigmoid decision function with inverse temperature\n",
    "    p = sigmoid_inverse_temperature(\n",
    "        x=agent.node_trajectories[0][\"expected_mean\"], temperature=temperatures[i]\n",
    "    )\n",
    "\n",
    "    # save the observations and decisions separately\n",
    "    responses.append(np.random.binomial(p=p, n=1))"
   ]
  },
  {
   "cell_type": "markdown",
   "id": "b2f1c173-ebf9-4f65-9003-a07b547bc670",
   "metadata": {
    "editable": true,
    "slideshow": {
     "slide_type": ""
    },
    "tags": []
   },
   "source": [
    "## Inference from the simulated behaviours"
   ]
  },
  {
   "cell_type": "code",
   "execution_count": 7,
   "id": "92a9d137-7c0c-4dd7-bdd0-403dde0a6f90",
   "metadata": {
    "editable": true,
    "execution": {
     "iopub.execute_input": "2025-08-23T18:00:18.089313Z",
     "iopub.status.busy": "2025-08-23T18:00:18.089134Z",
     "iopub.status.idle": "2025-08-23T18:00:18.113602Z",
     "shell.execute_reply": "2025-08-23T18:00:18.112500Z"
    },
    "slideshow": {
     "slide_type": ""
    },
    "tags": []
   },
   "outputs": [],
   "source": [
    "hgf_logp_op = HGFDistribution(\n",
    "    n_levels=2,\n",
    "    model_type=\"binary\",\n",
    "    input_data=jnp.array(\n",
    "        [u] * N\n",
    "    ),  # the inputs are the same for all agents - just duplicate the array\n",
    "    response_function=binary_softmax_inverse_temperature,\n",
    "    response_function_inputs=jnp.array(responses),\n",
    ")"
   ]
  },
  {
   "cell_type": "markdown",
   "id": "fd8b6cc5-2eca-4d5f-89e4-eb450e0832e8",
   "metadata": {
    "editable": true,
    "slideshow": {
     "slide_type": ""
    },
    "tags": []
   },
   "source": [
    "Here, we are not assuming hyperpriors to ensure that individual estimates are independent and avoid hierarchical partial pooling."
   ]
  },
  {
   "cell_type": "code",
   "execution_count": 8,
   "id": "2e4177b3-2e49-43f8-9f3b-64226420ef05",
   "metadata": {
    "editable": true,
    "execution": {
     "iopub.execute_input": "2025-08-23T18:00:18.115992Z",
     "iopub.status.busy": "2025-08-23T18:00:18.115755Z",
     "iopub.status.idle": "2025-08-23T18:00:18.152049Z",
     "shell.execute_reply": "2025-08-23T18:00:18.150939Z"
    },
    "slideshow": {
     "slide_type": ""
    },
    "tags": []
   },
   "outputs": [],
   "source": [
    "with pm.Model() as two_levels_binary_hgf:\n",
    "    # tonic volatility\n",
    "    volatility = pm.Normal.dist(-3.0, 5, shape=N)\n",
    "    censored_volatility = pm.Censored(\n",
    "        \"censored_volatility\", volatility, lower=-8, upper=2\n",
    "    )\n",
    "\n",
    "    # inverse temperature\n",
    "    inverse_temperature = pm.Uniform(\n",
    "        \"inverse_temperature\", 0.2, 20, shape=N, initval=np.ones(N)\n",
    "    )\n",
    "\n",
    "    # The multi-HGF distribution\n",
    "    # --------------------------\n",
    "    pm.Potential(\n",
    "        \"hgf_loglike\",\n",
    "        hgf_logp_op(\n",
    "            tonic_volatility_2=censored_volatility,\n",
    "            response_function_parameters=inverse_temperature,\n",
    "        ),\n",
    "    )"
   ]
  },
  {
   "cell_type": "code",
   "execution_count": 9,
   "id": "5154c464-7218-4ebf-a974-0fbaf82685d5",
   "metadata": {
    "editable": true,
    "execution": {
     "iopub.execute_input": "2025-08-23T18:00:18.154890Z",
     "iopub.status.busy": "2025-08-23T18:00:18.154718Z",
     "iopub.status.idle": "2025-08-23T18:01:42.520277Z",
     "shell.execute_reply": "2025-08-23T18:01:42.519274Z"
    },
    "slideshow": {
     "slide_type": ""
    },
    "tags": []
   },
   "outputs": [
    {
     "name": "stderr",
     "output_type": "stream",
     "text": [
      "Initializing NUTS using jitter+adapt_diag...\n"
     ]
    },
    {
     "name": "stderr",
     "output_type": "stream",
     "text": [
      "/home/nicolas/git/pyhgf/.venv/lib/python3.12/site-packages/pytensor/link/c/cmodule.py:2959: UserWarning: PyTensor could not link to a BLAS installation. Operations that might benefit from BLAS will be severely degraded.\n",
      "This usually happens when PyTensor is installed via pip. We recommend it be installed via conda/mamba/pixi instead.\n",
      "Alternatively, you can use an experimental backend such as Numba or JAX that perform their own BLAS optimizations, by setting `pytensor.config.mode == 'NUMBA'` or passing `mode='NUMBA'` when compiling a PyTensor function.\n",
      "For more options and details see https://pytensor.readthedocs.io/en/latest/troubleshooting.html#how-do-i-configure-test-my-blas-library\n",
      "  warnings.warn(\n"
     ]
    },
    {
     "name": "stderr",
     "output_type": "stream",
     "text": [
      "Sequential sampling (2 chains in 1 job)\n"
     ]
    },
    {
     "name": "stderr",
     "output_type": "stream",
     "text": [
      "NUTS: [censored_volatility, inverse_temperature]\n"
     ]
    },
    {
     "data": {
      "application/vnd.jupyter.widget-view+json": {
       "model_id": "2d45ee9f4ae84337adb48d2fd934a566",
       "version_major": 2,
       "version_minor": 0
      },
      "text/plain": [
       "Output()"
      ]
     },
     "metadata": {},
     "output_type": "display_data"
    },
    {
     "data": {
      "text/html": [
       "<pre style=\"white-space:pre;overflow-x:auto;line-height:normal;font-family:Menlo,'DejaVu Sans Mono',consolas,'Courier New',monospace\"></pre>\n"
      ],
      "text/plain": []
     },
     "metadata": {},
     "output_type": "display_data"
    },
    {
     "name": "stderr",
     "output_type": "stream",
     "text": [
      "Sampling 2 chains for 1_000 tune and 1_000 draw iterations (2_000 + 2_000 draws total) took 68 seconds.\n"
     ]
    },
    {
     "name": "stderr",
     "output_type": "stream",
     "text": [
      "There were 2000 divergences after tuning. Increase `target_accept` or reparameterize.\n"
     ]
    },
    {
     "name": "stderr",
     "output_type": "stream",
     "text": [
      "We recommend running at least 4 chains for robust computation of convergence diagnostics\n"
     ]
    },
    {
     "name": "stderr",
     "output_type": "stream",
     "text": [
      "The rhat statistic is larger than 1.01 for some parameters. This indicates problems during sampling. See https://arxiv.org/abs/1903.08008 for details\n"
     ]
    },
    {
     "name": "stderr",
     "output_type": "stream",
     "text": [
      "The effective sample size per chain is smaller than 100 for some parameters.  A higher number is needed for reliable rhat and ess computation. See https://arxiv.org/abs/1903.08008 for details\n"
     ]
    }
   ],
   "source": [
    "with two_levels_binary_hgf:\n",
    "    two_level_hgf_idata = pm.sample(chains=2, cores=1)"
   ]
  },
  {
   "cell_type": "markdown",
   "id": "51c38758-8394-40ca-ae32-676d44f59dd4",
   "metadata": {
    "editable": true,
    "slideshow": {
     "slide_type": ""
    },
    "tags": []
   },
   "source": [
    "## Visualizing parameters recovery"
   ]
  },
  {
   "cell_type": "markdown",
   "id": "5ba30cbb-bf8c-4e00-9198-0bbe411daeae",
   "metadata": {
    "editable": true,
    "slideshow": {
     "slide_type": ""
    },
    "tags": []
   },
   "source": [
    "A successful parameter recovery is usually inferred from the scatterplot of simulated values and inferred values of the parameters. Here, we can see that the model can recover fairly accurate values close to the underlying parameters. Additionally, we can report the coefficient of correlation between the two variables, as a more objective measure of correspondence."
   ]
  },
  {
   "cell_type": "code",
   "execution_count": 10,
   "id": "e8203a17-e1a2-4d32-a477-d2bd55e22ba6",
   "metadata": {
    "editable": true,
    "execution": {
     "iopub.execute_input": "2025-08-23T18:01:43.650393Z",
     "iopub.status.busy": "2025-08-23T18:01:43.650207Z",
     "iopub.status.idle": "2025-08-23T18:01:44.516009Z",
     "shell.execute_reply": "2025-08-23T18:01:44.515346Z"
    },
    "scrolled": true,
    "slideshow": {
     "slide_type": ""
    },
    "tags": [
     "hide-input"
    ]
   },
   "outputs": [
    {
     "data": {
      "image/png": "[encoded data removed]",
      "text/plain": [
       "<Figure size 1200x500 with 2 Axes>"
      ]
     },
     "metadata": {},
     "output_type": "display_data"
    }
   ],
   "source": [
    "fig, axs = plt.subplots(figsize=(12, 5), ncols=2)\n",
    "\n",
    "axs[0].plot([-6.0, 0.0], [-6.0, 0.0], color=\"grey\", linestyle=\"--\", zorder=-1)\n",
    "axs[1].plot([0.0, 7.0], [0.0, 7.0], color=\"grey\", linestyle=\"--\", zorder=-1)\n",
    "\n",
    "for var_name, refs, idx in zip(\n",
    "    [\"censored_volatility\", \"inverse_temperature\"],\n",
    "    [volatilities, temperatures],\n",
    "    [0, 1],\n",
    "):\n",
    "    inferred_parameters = az.summary(two_level_hgf_idata, var_names=var_name)[\n",
    "        \"mean\"\n",
    "    ].tolist()\n",
    "\n",
    "    sns.kdeplot(\n",
    "        x=refs,\n",
    "        y=inferred_parameters,\n",
    "        ax=axs[idx],\n",
    "        fill=True,\n",
    "        cmap=\"Reds\" if var_name == \"censored_volatility\" else \"Greens\",\n",
    "        alpha=0.4,\n",
    "    )\n",
    "\n",
    "    axs[idx].scatter(\n",
    "        refs,\n",
    "        az.summary(two_level_hgf_idata, var_names=var_name)[\"mean\"].tolist(),\n",
    "        s=60,\n",
    "        alpha=0.8,\n",
    "        edgecolors=\"k\",\n",
    "        color=\"#c44e52\" if var_name == \"censored_volatility\" else \"#55a868\",\n",
    "    )\n",
    "\n",
    "    axs[idx].grid(True, linestyle=\"--\")\n",
    "    axs[idx].set_xlabel(\"Simulated parameter\")\n",
    "    axs[idx].set_ylabel(\"Infered parameter\")\n",
    "\n",
    "\n",
    "axs[0].set_title(\"Second level tonic volatility\")\n",
    "axs[1].set_title(\"Inverse temperature\")\n",
    "sns.despine()"
   ]
  },
  {
   "cell_type": "markdown",
   "id": "e4cf5f0c-6263-45a1-860a-6694b9a02279",
   "metadata": {
    "editable": true,
    "slideshow": {
     "slide_type": ""
    },
    "tags": []
   },
   "source": [
    "# System configuration"
   ]
  },
  {
   "cell_type": "code",
   "execution_count": 11,
   "id": "f26d0d76-8705-4f03-86fc-e8d1b996b99c",
   "metadata": {
    "editable": true,
    "execution": {
     "iopub.execute_input": "2025-08-23T18:01:44.518191Z",
     "iopub.status.busy": "2025-08-23T18:01:44.518002Z",
     "iopub.status.idle": "2025-08-23T18:01:44.533330Z",
     "shell.execute_reply": "2025-08-23T18:01:44.532524Z"
    },
    "slideshow": {
     "slide_type": ""
    },
    "tags": []
   },
   "outputs": [
    {
     "name": "stdout",
     "output_type": "stream",
     "text": [
      "Last updated: Sat Aug 23 2025\n",
      "\n",
      "Python implementation: CPython\n",
      "Python version       : 3.12.10\n",
      "IPython version      : 9.4.0\n",
      "\n",
      "pyhgf : 0.2.7\n",
      "jax   : 0.4.31\n",
      "jaxlib: 0.4.31\n",
      "\n",
      "arviz     : 0.21.0\n",
      "seaborn   : 0.13.2\n",
      "jax       : 0.4.31\n",
      "sys       : 3.12.10 (main, Apr  9 2025, 04:03:51) [Clang 20.1.0 ]\n",
      "matplotlib: 3.10.1\n",
      "pyhgf     : 0.2.7\n",
      "pymc      : 5.22.0\n",
      "numpy     : 2.2.5\n",
      "IPython   : 9.4.0\n",
      "\n",
      "Watermark: 2.5.0\n",
      "\n"
     ]
    }
   ],
   "source": [
    "%load_ext watermark\n",
    "%watermark -n -u -v -iv -w -p pyhgf,jax,jaxlib"
   ]
  },
  {
   "cell_type": "code",
   "execution_count": null,
   "id": "1467d1a4-9bc8-4cf9-9b71-85c797d7973e",
   "metadata": {},
   "outputs": [],
   "source": []
  }
 ],
 "metadata": {
  "interpreter": {
   "hash": "40d3a090f54c6569ab1632332b64b2c03c39dcf918b08424e98f38b5ae0af88f"
  },
  "kernelspec": {
   "display_name": "Python 3 (ipykernel)",
   "language": "python",
   "name": "python3"
  },
  "language_info": {
   "codemirror_mode": {
    "name": "ipython",
    "version": 3
   },
   "file_extension": ".py",
   "mimetype": "text/x-python",
   "name": "python",
   "nbconvert_exporter": "python",
   "pygments_lexer": "ipython3",
   "version": "3.12.10"
  },
  "widgets": {
   "application/vnd.jupyter.widget-state+json": {
    "state": {
     "00715dea9eb740958845c6d8c95839bb": {
      "model_module": "@jupyter-widgets/base",
      "model_module_version": "2.0.0",
      "model_name": "LayoutModel",
      "state": {
       "_model_module": "@jupyter-widgets/base",
       "_model_module_version": "2.0.0",
       "_model_name": "LayoutModel",
       "_view_count": null,
       "_view_module": "@jupyter-widgets/base",
       "_view_module_version": "2.0.0",
       "_view_name": "LayoutView",
       "align_content": null,
       "align_items": null,
       "align_self": null,
       "border_bottom": null,
       "border_left": null,
       "border_right": null,
       "border_top": null,
       "bottom": null,
       "display": null,
       "flex": null,
       "flex_flow": null,
       "grid_area": null,
       "grid_auto_columns": null,
       "grid_auto_flow": null,
       "grid_auto_rows": null,
       "grid_column": null,
       "grid_gap": null,
       "grid_row": null,
       "grid_template_areas": null,
       "grid_template_columns": null,
       "grid_template_rows": null,
       "height": null,
       "justify_content": null,
       "justify_items": null,
       "left": null,
       "margin": null,
       "max_height": null,
       "max_width": null,
       "min_height": null,
       "min_width": null,
       "object_fit": null,
       "object_position": null,
       "order": null,
       "overflow": null,
       "padding": null,
       "right": null,
       "top": null,
       "visibility": null,
       "width": null
      }
     },
     "2d45ee9f4ae84337adb48d2fd934a566": {
      "model_module": "@jupyter-widgets/output",
      "model_module_version": "1.0.0",
      "model_name": "OutputModel",
      "state": {
       "_dom_classes": [],
       "_model_module": "@jupyter-widgets/output",
       "_model_module_version": "1.0.0",
       "_model_name": "OutputModel",
       "_view_count": null,
       "_view_module": "@jupyter-widgets/output",
       "_view_module_version": "1.0.0",
       "_view_name": "OutputView",
       "layout": "IPY_MODEL_00715dea9eb740958845c6d8c95839bb",
       "msg_id": "",
       "outputs": [
        {
         "data": {
          "text/html": "<pre style=\"white-space:pre;overflow-x:auto;line-height:normal;font-family:Menlo,'DejaVu Sans Mono',consolas,'Courier New',monospace\">                                                                                                                   \n <span style=\"font-weight: bold\"> Progress                  </span> <span style=\"font-weight: bold\"> Draws </span> <span style=\"font-weight: bold\"> Divergences </span> <span style=\"font-weight: bold\"> Step size </span> <span style=\"font-weight: bold\"> Grad evals </span> <span style=\"font-weight: bold\"> Sampling Speed </span> <span style=\"font-weight: bold\"> Elapsed </span> <span style=\"font-weight: bold\"> Remaining </span> \n ───────────────────────────────────────────────────────────────────────────────────────────────────────────────── \n  <span style=\"color: #d62728; text-decoration-color: #d62728\">━━━━━━━━━━━━━━━━━━━━━━━━━</span>   2000    1001          0.01        25           45.45 draws/s    0:00:43   0:00:00    \n  <span style=\"color: #d62728; text-decoration-color: #d62728\">━━━━━━━━━━━━━━━━━━━━━━━━━</span>   2000    1001          0.06        5            29.27 draws/s    0:01:08   0:00:00    \n                                                                                                                   \n</pre>\n",
          "text/plain": "                                                                                                                   \n \u001b[1m \u001b[0m\u001b[1mProgress                 \u001b[0m\u001b[1m \u001b[0m \u001b[1m \u001b[0m\u001b[1mDraws\u001b[0m\u001b[1m \u001b[0m \u001b[1m \u001b[0m\u001b[1mDivergences\u001b[0m\u001b[1m \u001b[0m \u001b[1m \u001b[0m\u001b[1mStep size\u001b[0m\u001b[1m \u001b[0m \u001b[1m \u001b[0m\u001b[1mGrad evals\u001b[0m\u001b[1m \u001b[0m \u001b[1m \u001b[0m\u001b[1mSampling Speed\u001b[0m\u001b[1m \u001b[0m \u001b[1m \u001b[0m\u001b[1mElapsed\u001b[0m\u001b[1m \u001b[0m \u001b[1m \u001b[0m\u001b[1mRemaining\u001b[0m\u001b[1m \u001b[0m \n ───────────────────────────────────────────────────────────────────────────────────────────────────────────────── \n  \u001b[38;2;214;39;40m━━━━━━━━━━━━━━━━━━━━━━━━━\u001b[0m   2000    1001          0.01        25           45.45 draws/s    0:00:43   0:00:00    \n  \u001b[38;2;214;39;40m━━━━━━━━━━━━━━━━━━━━━━━━━\u001b[0m   2000    1001          0.06        5            29.27 draws/s    0:01:08   0:00:00    \n                                                                                                                   \n"
         },
         "metadata": {},
         "output_type": "display_data"
        }
       ],
       "tabbable": null,
       "tooltip": null
      }
     }
    },
    "version_major": 2,
    "version_minor": 0
   }
  }
 },
 "nbformat": 4,
 "nbformat_minor": 5
}
