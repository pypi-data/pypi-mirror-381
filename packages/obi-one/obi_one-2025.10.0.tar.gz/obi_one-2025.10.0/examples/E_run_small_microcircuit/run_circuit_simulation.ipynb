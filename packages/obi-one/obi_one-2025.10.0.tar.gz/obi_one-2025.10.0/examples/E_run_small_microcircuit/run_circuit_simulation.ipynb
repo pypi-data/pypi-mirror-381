{
 "cells": [
  {
   "cell_type": "markdown",
   "id": "67c231aa",
   "metadata": {},
   "source": [
    "\n",
    "Circuit Simulation Example with OBI-One\n",
    "======================================\n",
    "\n",
    "This notebook demonstrates how to run circuit simulations using the obi-one simulation framework\n",
    "with [BlueCelluLab](https://github.com/openbraininstitute/BlueCelluLab) as the simulator."
   ]
  },
  {
   "cell_type": "code",
   "execution_count": null,
   "id": "fb4f3552",
   "metadata": {},
   "outputs": [],
   "source": [
    "from entitysdk import Client, models\n",
    "from obi_auth import get_token\n",
    "import os\n",
    "import time\n",
    "\n",
    "from obi_notebook import get_projects\n",
    "from obi_notebook import get_entities\n",
    "import obi_one as obi\n",
    "\n",
    "ENV = \"production\"\n",
    "token = get_token(environment=ENV, auth_mode=\"daf\")\n",
    "project_context = get_projects.get_projects(token)"
   ]
  },
  {
   "cell_type": "markdown",
   "id": "23eb492a",
   "metadata": {},
   "source": [
    "### Load pre-downloaded example microcircuit\n",
    "\n",
    "We'll use a small two-neuron SSCx microcircuit already available in:\n",
    "`examples/data/tiny_circuits/nbS1-O1-E2Sst-maxNsyn-HEX0-L5`"
   ]
  },
  {
   "cell_type": "code",
   "execution_count": null,
   "id": "c9aa6ec3",
   "metadata": {},
   "outputs": [],
   "source": [
    "circuit_folder = \"./../data/tiny_circuits/nbS1-O1-E2Sst-maxNsyn-HEX0-L5/\""
   ]
  },
  {
   "cell_type": "markdown",
   "id": "c4a6449a",
   "metadata": {},
   "source": [
    "If you wouldd prefer to download a different circuit from the platform, see the optional cell below."
   ]
  },
  {
   "cell_type": "code",
   "execution_count": null,
   "id": "d0d70de8",
   "metadata": {},
   "outputs": [],
   "source": [
    "# OPTIONAL: Download a circuit from the platform using an ID or UI selection\n",
    "client = Client(environment=ENV, project_context=project_context, token_manager=token)\n",
    "\n",
    "# Optional: Download using unique ID\n",
    "entity_ID = \"f27df71c-c59b-4b6d-979e-b2d133926117\"  # <<< FILL IN UNIQUE CIRCUIT ID HERE\n",
    "\n",
    "\n",
    "if entity_ID != \"<CIRCUIT-ID>\":\n",
    "    circuit_ids = [entity_ID]\n",
    "else:\n",
    "# Alternative: Select from a table of entities\n",
    "    circuit_ids = []\n",
    "    circuit_ids = get_entities.get_entities(\"circuit\", token, circuit_ids,\n",
    "                                            project_context=project_context,\n",
    "                                            multi_select=False,\n",
    "                                            default_scale=\"small\")\n",
    "\n",
    "# Fetch circuit\n",
    "fetched = client.get_entity(entity_id=circuit_ids[0], entity_type=models.Circuit)\n",
    "print(f\"Circuit fetched: {fetched.name} (ID {fetched.id})\\n\")\n",
    "print(f\"#Neurons: {fetched.number_neurons}, #Synapses: {fetched.number_synapses}, #Connections: {fetched.number_connections}\\n\")\n",
    "print(f\"{fetched.description}\\n\")\n",
    "\n",
    "# Download SONATA circuit files\n",
    "asset = [asset for asset in fetched.assets if asset.label==\"sonata_circuit\"][0]\n",
    "asset_dir = asset.path\n",
    "circuit_dir = \"analysis_circuit\"\n",
    "assert not os.path.exists(asset_dir), f\"ERROR: Circuit download folder '{asset_dir}' already exists! Please delete folder.\"\n",
    "assert not os.path.exists(circuit_dir), f\"ERROR: Circuit folder '{circuit_dir}' already exists! Delete folder or choose a different path.\"\n",
    "\n",
    "t0 = time.time()\n",
    "client.download_directory(\n",
    "    entity_id=fetched.id,\n",
    "    entity_type=models.Circuit,\n",
    "    asset_id=asset.id,\n",
    "    output_path=\"./../data/tiny_circuits/\",\n",
    "    max_concurrent=4,  # Parallel file download\n",
    ")\n",
    "t = time.time() - t0\n",
    "print(f\"Circuit files downloaded to '{asset_dir}' in {t:.1f}s\")\n",
    "\n",
    "circuit_folder = \"./../data/tiny_circuits/sonata_circuit/\""
   ]
  },
  {
   "cell_type": "code",
   "execution_count": null,
   "id": "f92c01a0",
   "metadata": {},
   "outputs": [],
   "source": [
    "circ_path = f\"{circuit_folder}/circuit_config.json\"\n",
    "circuit = obi.Circuit(name=fetched.name, path=circ_path)\n",
    "print(f\"Circuit '{circuit}' with {circuit.sonata_circuit.nodes.size} neurons and {circuit.sonata_circuit.edges.size} synapses\")\n",
    "print(f\"Default node population: '{circuit.default_population_name}'\")"
   ]
  },
  {
   "cell_type": "markdown",
   "id": "701d87e9",
   "metadata": {},
   "source": [
    "### (Optional) Define and modify node sets in the circuit\n",
    "Below we show how to modify the node_sets.json file:\n",
    "- Add new node sets using tags\n",
    "- Combine or update existing sets\n",
    "\n",
    "Finally, the modified node sets are saved to a new node_sets.json file."
   ]
  },
  {
   "cell_type": "code",
   "execution_count": null,
   "id": "62ea8751",
   "metadata": {},
   "outputs": [],
   "source": [
    "# Get SONATA circuit object\n",
    "c = circuit.sonata_circuit\n",
    "print(\"...\" + str(c.node_sets.content)[-25:])\n",
    "\n",
    "# Adding a node set to the circuit\n",
    "obi.NeuronSet.add_node_set_to_circuit(c, {\"Layer23\": {\"layer\": [2, 3]}})\n",
    "print(\"...\" + str(c.node_sets.content)[-55:])\n",
    "\n",
    "# Adding a node set with an exising name => NOT POSSIBLE\n",
    "# obi.NeuronSet.add_node_set_to_circuit(c, {\"Layer23\": {\"layer\": [2, 3]}})  # AssertionError: Node set 'Layer23' already exists!\n",
    "\n",
    "# Update/overwrite an existing node set\n",
    "obi.NeuronSet.add_node_set_to_circuit(c, {\"Layer23\": [\"Layer2\", \"Layer3\"]}, overwrite_if_exists=True)  # Update/overwrite\n",
    "print(\"...\" + str(c.node_sets.content)[-58:])\n",
    "\n",
    "# Adding multiple node sets\n",
    "obi.NeuronSet.add_node_set_to_circuit(c, {\"Layer45\": [\"Layer4\", \"Layer5\"], \"Layer56\": [\"Layer5\", \"Layer6\"]})\n",
    "print(\"...\" + str(c.node_sets.content)[-124:])\n",
    "\n",
    "# Add node set from NeuronSet object, resolved in circuit's default node population\n",
    "neuron_set = obi.CombinedNeuronSet(node_sets=(\"Layer1\", \"Layer2\", \"Layer3\"))\n",
    "obi.NeuronSet.add_node_set_to_circuit(c, {\"Layer123\": neuron_set.get_node_set_definition(circuit, circuit.default_population_name)})\n",
    "print(\"...\" + str(c.node_sets.content)[-168:])\n",
    "\n",
    "# Adding a node sets based on previously added node sets\n",
    "obi.NeuronSet.add_node_set_to_circuit(c, {\"AllLayers\": [\"Layer123\", \"Layer4\", \"Layer56\"]})\n",
    "print(\"...\" + str(c.node_sets.content)[-216:])\n",
    "\n",
    "# Write new circuit's node set file\n",
    "obi.NeuronSet.write_circuit_node_set_file(c, output_path=\"./\", file_name=\"new_node_sets.json\", overwrite_if_exists=True)"
   ]
  },
  {
   "cell_type": "markdown",
   "id": "c22ef685",
   "metadata": {},
   "source": [
    "Now, let's generate the Simulation Config"
   ]
  },
  {
   "cell_type": "code",
   "execution_count": null,
   "id": "48fcc963",
   "metadata": {},
   "outputs": [],
   "source": [
    "from pathlib import Path\n",
    "import obi_one as obi\n",
    "\n",
    "# === Parameters ===\n",
    "output_path = Path(\".\")\n",
    "sim_duration = 3000.0\n",
    "\n",
    "# === 1. Build Form (SimulationsForm) ===\n",
    "sim_form = obi.SimulationsForm.empty_config()\n",
    "\n",
    "# Info\n",
    "info = obi.Info(\n",
    "    campaign_name=\"Small Microcircuit Simulation\",\n",
    "    campaign_description=\"Simulation of circuit with predefined neuron set and constant current stimulus\"\n",
    ")\n",
    "sim_form.set(info, name=\"info\")\n",
    "\n",
    "# Neuron Sets\n",
    "sim_nset = obi.IDNeuronSet(neuron_ids=obi.NamedTuple(name=\"IDNeuronSet1\", elements=range(2)))\n",
    "sim_form.add(sim_nset, name=\"ID1\")\n",
    "\n",
    "# Timestamps\n",
    "timestamps = obi.RegularTimestamps(start_time=0.0, number_of_repetitions=1, interval=100)\n",
    "sim_form.add(timestamps, name=\"Timestamps\")\n",
    "\n",
    "# Stimulus\n",
    "stimulus = obi.PoissonSpikeStimulus(\n",
    "    duration=800.0,\n",
    "    timestamps=timestamps.ref,\n",
    "    frequency=20,\n",
    "    source_neuron_set=sim_nset.ref,\n",
    "    targeted_neuron_set=sim_nset.ref\n",
    ")\n",
    "sim_form.add(stimulus, name=\"PoissonInput\")\n",
    "\n",
    "stimulus = obi.ConstantCurrentClampSomaticStimulus(\n",
    "    timestamps=timestamps.ref, duration=2000.0, neuron_set=sim_nset.ref, amplitude=0.5\n",
    ")\n",
    "sim_form.add(stimulus, name=\"CurrentClampInput\")\n",
    "\n",
    "# Recording\n",
    "recording = obi.SomaVoltageRecording(neuron_set=sim_nset.ref)\n",
    "sim_form.add(recording, name=\"SomaVoltage\")\n",
    "\n",
    "# Initialization block\n",
    "init = obi.SimulationsForm.Initialize(\n",
    "    circuit=obi.Circuit(name=fetched.name, path=circ_path),\n",
    "    node_set=sim_nset.ref,\n",
    "    simulation_length=sim_duration,\n",
    ")\n",
    "sim_form.set(init, name=\"initialize\")\n",
    "\n",
    "# === 2. Wrap into a Simulation ===\n",
    "simulation = obi.Simulation(**sim_form.model_dump())\n",
    "simulation.coordinate_output_root = output_path\n",
    "\n",
    "# === 3. Generate simulation_config.json + node_sets.json ===\n",
    "simulation.generate(db_client=client)"
   ]
  },
  {
   "cell_type": "code",
   "execution_count": null,
   "id": "89a912e4",
   "metadata": {},
   "outputs": [],
   "source": [
    "population_name = circuit.default_population_name\n",
    "simulation_config_path = output_path / \"simulation_config.json\""
   ]
  },
  {
   "cell_type": "markdown",
   "id": "ddb7b307",
   "metadata": {},
   "source": [
    "Get the path to the mod files and compile the mod files. "
   ]
  },
  {
   "cell_type": "code",
   "execution_count": null,
   "id": "0261e76d",
   "metadata": {},
   "outputs": [],
   "source": [
    "# Remove the old compiled mod files folder\n",
    "! rm -r arm64/\n",
    "# flag DISABLE_REPORTINGLIB to skip SonataReportHelper.mod and SonataReport.mod from compilation.\n",
    "!../../.venv/bin/nrnivmodl -incflags \"-DDISABLE_REPORTINGLIB\" {circuit_folder}/mod"
   ]
  },
  {
   "cell_type": "markdown",
   "id": "0208f8ce",
   "metadata": {},
   "source": [
    "Run circuit simulation using BlueCelluLab backend. In future, we will support Neurodamus backend as well. This will run a SONATA simulation.  "
   ]
  },
  {
   "cell_type": "code",
   "execution_count": null,
   "id": "dc875930",
   "metadata": {},
   "outputs": [],
   "source": [
    "# Run the simulation\n",
    "from obi_one.scientific.simulation import execution\n",
    "obi.scientific.simulation.execution.run(\n",
    "# obi.scientific.simulation.execution.run(\n",
    "    simulation_config=simulation_config_path,\n",
    "    simulator=\"bluecellulab\", # Optional: bluecellulab or neurodamus. Default: bluecellulab\n",
    "    save_nwb=False            # Optional: Save results in NWB format. Default: False\n",
    ")"
   ]
  },
  {
   "cell_type": "markdown",
   "id": "22ea1a5d",
   "metadata": {},
   "source": [
    "The results are stored in the `output` directory. The logs are also stored in the `logs` in notebooks folder."
   ]
  },
  {
   "cell_type": "markdown",
   "id": "9a852052",
   "metadata": {},
   "source": [
    "### Spike Report Analysis using BluePySnap\n",
    "\n",
    "We will use the example [notebook](https://github.com/openbraininstitute/snap/blob/master/doc/source/notebooks/06_spike_reports.ipynb) from BluePySnap to analyse the spike report generated by the circuit simulation."
   ]
  },
  {
   "cell_type": "code",
   "execution_count": null,
   "id": "2217d2c0",
   "metadata": {},
   "outputs": [],
   "source": [
    "import bluepysnap\n",
    "\n",
    "snap_simulation = bluepysnap.Simulation(simulation_config_path)\n",
    "spikes = snap_simulation.spikes\n",
    "print(\n",
    "    spikes.time_start,\n",
    "    spikes.time_stop,\n",
    "    spikes.dt\n",
    ")\n",
    "print(spikes.population_names)"
   ]
  },
  {
   "cell_type": "code",
   "execution_count": null,
   "id": "cfbf0271",
   "metadata": {},
   "outputs": [],
   "source": [
    "spike_pop = spikes[population_name]\n",
    "node_population = spike_pop.nodes"
   ]
  },
  {
   "cell_type": "code",
   "execution_count": null,
   "id": "575074f4",
   "metadata": {},
   "outputs": [],
   "source": [
    "filtered = spikes.filter(group={'layer':'5'}, t_start=spikes.time_start, t_stop=spikes.time_stop)\n",
    "filtered.report.head()"
   ]
  },
  {
   "cell_type": "code",
   "execution_count": null,
   "id": "42df73fb",
   "metadata": {},
   "outputs": [],
   "source": [
    "filtered.raster();"
   ]
  },
  {
   "cell_type": "code",
   "execution_count": null,
   "id": "f9bde80d",
   "metadata": {},
   "outputs": [],
   "source": [
    "filtered.firing_rate_histogram();"
   ]
  },
  {
   "cell_type": "code",
   "execution_count": null,
   "id": "6e06a3ac",
   "metadata": {},
   "outputs": [],
   "source": [
    "import matplotlib.pyplot as plt\n",
    "import numpy as np\n",
    "\n",
    "ax = plt.gca()\n",
    "ax.set_xlabel(\"Time [ms]\")\n",
    "ax.set_ylabel(\"PSTH [Hz]\")\n",
    "ax.set_title(f\"PSTH for group: {filtered.group}\")\n",
    "\n",
    "times = filtered.report.index\n",
    "\n",
    "time_start = np.min(times)\n",
    "time_stop = np.max(times)\n",
    "\n",
    "# heuristic for a nice bin size (~100 spikes per bin on average)\n",
    "time_binsize = min(50.0, (time_stop - time_start) / ((len(times) / 100.0) + 1.0))\n",
    "\n",
    "bins = np.append(np.arange(time_start, time_stop, time_binsize), time_stop)\n",
    "hist, bin_edges = np.histogram(times, bins=bins)\n",
    "node_count = len(snap_simulation.circuit.nodes.ids(filtered.group))  # Get length of node ids for whole `group`\n",
    "freq = 1.0 * hist / node_count / (0.001 * time_binsize)\n",
    "\n",
    "# use the middle of the bins instead of the start of the bin\n",
    "ax.plot(0.5 * (bin_edges[1:] + bin_edges[:-1]), freq, label=\"PSTH\", drawstyle=\"steps-mid\");"
   ]
  },
  {
   "cell_type": "code",
   "execution_count": null,
   "id": "7891799c",
   "metadata": {},
   "outputs": [],
   "source": [
    "spikes.filter().raster();"
   ]
  },
  {
   "cell_type": "code",
   "execution_count": null,
   "id": "97fd63f2",
   "metadata": {},
   "outputs": [],
   "source": [
    "spikes.filter().raster(y_axis='etype');"
   ]
  },
  {
   "cell_type": "code",
   "execution_count": null,
   "id": "16834d60",
   "metadata": {},
   "outputs": [],
   "source": [
    "spikes.filter().isi(binsize=20);"
   ]
  },
  {
   "cell_type": "markdown",
   "id": "f9d38e72",
   "metadata": {},
   "source": [
    "### Soma Report Analysis\n",
    "\n",
    "Let's [load](https://github.com/openbraininstitute/snap/blob/master/doc/source/notebooks/07_frame_reports.ipynb) the soma report using BluePySnap and plot it."
   ]
  },
  {
   "cell_type": "code",
   "execution_count": null,
   "id": "63b2c8f4",
   "metadata": {},
   "outputs": [],
   "source": [
    "snap_simulation.reports"
   ]
  },
  {
   "cell_type": "code",
   "execution_count": null,
   "id": "a861746a",
   "metadata": {},
   "outputs": [],
   "source": [
    "soma_report = snap_simulation.reports['SomaVoltage']"
   ]
  },
  {
   "cell_type": "code",
   "execution_count": null,
   "id": "c1f20e88",
   "metadata": {},
   "outputs": [],
   "source": [
    "print(\n",
    "    soma_report.time_start,\n",
    "    soma_report.time_stop,\n",
    "    soma_report.dt\n",
    ")  # Gives a warning in case the dt differs from simulation.dt"
   ]
  },
  {
   "cell_type": "code",
   "execution_count": null,
   "id": "ac72ec47",
   "metadata": {},
   "outputs": [],
   "source": [
    "soma_report.population_names"
   ]
  },
  {
   "cell_type": "code",
   "execution_count": null,
   "id": "d62930b0",
   "metadata": {},
   "outputs": [],
   "source": [
    "soma_pop = soma_report[population_name]"
   ]
  },
  {
   "cell_type": "code",
   "execution_count": null,
   "id": "91224e1f",
   "metadata": {},
   "outputs": [],
   "source": [
    "node_population = soma_pop.nodes"
   ]
  },
  {
   "cell_type": "code",
   "execution_count": null,
   "id": "b9b2e42c",
   "metadata": {},
   "outputs": [],
   "source": [
    "ids = soma_pop.node_ids\n",
    "node_population.get(ids, properties=['layer','synapse_class','x','y','z']).head()"
   ]
  },
  {
   "cell_type": "code",
   "execution_count": null,
   "id": "a64a32e1",
   "metadata": {},
   "outputs": [],
   "source": [
    "filtered = soma_report.filter(group={'layer':'5'}, t_start= soma_report.time_start, t_stop= soma_report.time_stop)\n",
    "filtered.report.head()"
   ]
  }
 ],
 "metadata": {
  "kernelspec": {
   "display_name": "obi-one (3.12.9)",
   "language": "python",
   "name": "python3"
  },
  "language_info": {
   "codemirror_mode": {
    "name": "ipython",
    "version": 3
   },
   "file_extension": ".py",
   "mimetype": "text/x-python",
   "name": "python",
   "nbconvert_exporter": "python",
   "pygments_lexer": "ipython3",
   "version": "3.12.9"
  }
 },
 "nbformat": 4,
 "nbformat_minor": 5
}
