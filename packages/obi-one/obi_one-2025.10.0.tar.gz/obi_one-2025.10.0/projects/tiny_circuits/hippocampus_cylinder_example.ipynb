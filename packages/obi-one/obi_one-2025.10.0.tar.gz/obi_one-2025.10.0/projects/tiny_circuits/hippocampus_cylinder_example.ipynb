{
 "cells": [
  {
   "cell_type": "markdown",
   "metadata": {},
   "source": [
    "# Circuit simulation examples"
   ]
  },
  {
   "cell_type": "code",
   "execution_count": 1,
   "metadata": {},
   "outputs": [],
   "source": [
    "import obi_one as obi"
   ]
  },
  {
   "cell_type": "code",
   "execution_count": 2,
   "metadata": {},
   "outputs": [],
   "source": [
    "circuit_path_prefix = \"/Users/armando/Desktop/Models/microcircuits/cylinder/\""
   ]
  },
  {
   "cell_type": "markdown",
   "metadata": {},
   "source": [
    "### Loading one circuit"
   ]
  },
  {
   "cell_type": "code",
   "execution_count": 3,
   "metadata": {},
   "outputs": [
    {
     "name": "stdout",
     "output_type": "stream",
     "text": [
      "Circuit 'cylinder' with 273451 neurons and 131621230 synapses\n"
     ]
    }
   ],
   "source": [
    "circuit = obi.Circuit(name=\"cylinder\", path=circuit_path_prefix + \"circuit_config.json\")\n",
    "print(f\"Circuit '{circuit}' with {circuit.sonata_circuit.nodes.size} neurons and {circuit.sonata_circuit.edges.size} synapses\")"
   ]
  },
  {
   "cell_type": "markdown",
   "metadata": {},
   "source": [
    "### Defining the circuit simulation"
   ]
  },
  {
   "cell_type": "code",
   "execution_count": null,
   "metadata": {},
   "outputs": [],
   "source": [
    "# Simulation init\n",
    "neuron_set = obi.PredefinedNeuronSet(node_set=\"All\", sample_percentage=None)\n",
    "sim_duration = 1000.0  # ms\n",
    "stim_frequency = 20 # Hz\n",
    "simulations_initialize = obi.SimulationsForm.Initialize(\n",
    "    circuit=circuit,\n",
    "    node_set=neuron_set,\n",
    "    simulation_length=sim_duration,\n",
    ")\n",
    "\n",
    "# Stimuli\n",
    "stim_neuron_set = obi.PredefinedNeuronSet(node_set=\"All\", sample_percentage=100)\n",
    "stim_times = obi.RegularTimestamps(start_time=0.0, number_of_repetitions=1, interval=1000.0)  # in ms!!\n",
    "poisson_input = obi.PoissonSpikeStimulus(timestamps=stim_times,\n",
    "                                         stim_duration=sim_duration,\n",
    "                                         frequency=stim_frequency,\n",
    "                                         neuron_set=stim_neuron_set,\n",
    "                                         )\n",
    "\n",
    "# Recordings\n",
    "rec_neuron_set = obi.PredefinedNeuronSet(node_set=\"All\", sample_percentage=100)\n",
    "v_recording = obi.SomaVoltageRecording(start_time=0.0, end_time=sim_duration, neuron_set=rec_neuron_set)\n",
    "\n",
    "\"\"\"\n",
    "Fill form with Blocks\n",
    "\"\"\"\n",
    "simulations_form = obi.SimulationsForm(\n",
    "                                    initialize=simulations_initialize,\n",
    "                                    intracellular_location_sets={},\n",
    "                                    extracellular_location_sets={},\n",
    "                                    neuron_sets={\"AllNeurons\": neuron_set, \"AllStim\": stim_neuron_set, \"AllRec\": rec_neuron_set},\n",
    "                                    synapse_sets={},\n",
    "                                    timestamps={\"StimTimes\": stim_times},\n",
    "                                    stimuli={\"PoissonInput\": poisson_input},\n",
    "                                    recordings={\"SomaVoltRec\": v_recording},\n",
    "                                    )"
   ]
  },
  {
   "cell_type": "code",
   "execution_count": 5,
   "metadata": {},
   "outputs": [
    {
     "data": {
      "text/plain": [
       "{'type': 'SimulationsForm',\n",
       " 'timestamps': {'StimTimes': {'type': 'RegularTimestamps',\n",
       "   'start_time': 0.0,\n",
       "   'simulation_level_name': 'StimTimes',\n",
       "   'number_of_repetitions': 1,\n",
       "   'interval': 1000.0}},\n",
       " 'stimuli': {'PoissonInput': {'type': 'PoissonSpikeStimulus',\n",
       "   'timestamps': {'type': 'RegularTimestamps',\n",
       "    'start_time': 0.0,\n",
       "    'simulation_level_name': 'StimTimes',\n",
       "    'number_of_repetitions': 1,\n",
       "    'interval': 1000.0},\n",
       "   'simulation_level_name': 'PoissonInput',\n",
       "   'duration': 1000.0,\n",
       "   'gid_spike_map': {},\n",
       "   'spike_file': None,\n",
       "   'neuron_set': {'type': 'PredefinedNeuronSet',\n",
       "    'simulation_level_name': 'AllStim',\n",
       "    'random_sample': 10,\n",
       "    'random_seed': 0,\n",
       "    'node_set': 'All'},\n",
       "   'frequency': 20.0}},\n",
       " 'recordings': {'SomaVoltRec': {'type': 'SomaVoltageRecording',\n",
       "   'start_time': 0.0,\n",
       "   'end_time': 1000.0,\n",
       "   'dt': 0.1,\n",
       "   'simulation_level_name': 'SomaVoltRec',\n",
       "   'neuron_set': {'type': 'PredefinedNeuronSet',\n",
       "    'simulation_level_name': 'AllRec',\n",
       "    'random_sample': 10,\n",
       "    'random_seed': 0,\n",
       "    'node_set': 'All'}}},\n",
       " 'neuron_sets': {'AllNeurons': {'type': 'PredefinedNeuronSet',\n",
       "   'simulation_level_name': 'AllNeurons',\n",
       "   'random_sample': None,\n",
       "   'random_seed': 0,\n",
       "   'node_set': 'All'},\n",
       "  'AllStim': {'type': 'PredefinedNeuronSet',\n",
       "   'simulation_level_name': 'AllStim',\n",
       "   'random_sample': 10,\n",
       "   'random_seed': 0,\n",
       "   'node_set': 'All'},\n",
       "  'AllRec': {'type': 'PredefinedNeuronSet',\n",
       "   'simulation_level_name': 'AllRec',\n",
       "   'random_sample': 10,\n",
       "   'random_seed': 0,\n",
       "   'node_set': 'All'}},\n",
       " 'synapse_sets': {},\n",
       " 'intracellular_location_sets': {},\n",
       " 'extracellular_location_sets': {},\n",
       " 'initialize': {'type': 'SimulationsForm.Initialize',\n",
       "  'circuit': {'type': 'Circuit',\n",
       "   'name': 'cylinder',\n",
       "   'path': '/Users/armando/Desktop/Models/microcircuits/cylinder/circuit_config.json'},\n",
       "  'simulation_length': 1000.0,\n",
       "  'node_set': {'type': 'PredefinedNeuronSet',\n",
       "   'simulation_level_name': 'AllNeurons',\n",
       "   'random_sample': None,\n",
       "   'random_seed': 0,\n",
       "   'node_set': 'All'},\n",
       "  'random_seed': 1,\n",
       "  'extracellular_calcium_concentration': 1.1,\n",
       "  'v_init': -80.0,\n",
       "  'spike_location': 'soma',\n",
       "  'sonata_version': 1,\n",
       "  'target_simulator': 'CORENEURON',\n",
       "  'timestep': 0.025}}"
      ]
     },
     "execution_count": 5,
     "metadata": {},
     "output_type": "execute_result"
    }
   ],
   "source": [
    "simulations_form.model_dump(mode=\"json\")"
   ]
  },
  {
   "cell_type": "code",
   "execution_count": 6,
   "metadata": {},
   "outputs": [
    {
     "name": "stdout",
     "output_type": "stream",
     "text": [
      "\n",
      "MULTIPLE VALUE PARAMETERS\n",
      "No multiple value parameters found.\n",
      "\n",
      "COORDINATE PARAMETERS\n",
      "No coordinate parameters.\n",
      "create_bbp_workflow_campaign_config() not yet complete.\n"
     ]
    },
    {
     "data": {
      "text/plain": [
       "{0: None}"
      ]
     },
     "execution_count": 6,
     "metadata": {},
     "output_type": "execute_result"
    }
   ],
   "source": [
    "grid_scan = obi.GridScan(form=simulations_form, output_root='../../../obi-output/circuit_simulations/grid_scan')\n",
    "grid_scan.multiple_value_parameters(display=True)\n",
    "grid_scan.coordinate_parameters(display=True)\n",
    "# grid_scan.coordinate_instances(display=True)\n",
    "grid_scan.execute(processing_method='generate')"
   ]
  },
  {
   "cell_type": "code",
   "execution_count": 7,
   "metadata": {},
   "outputs": [],
   "source": [
    "# Deserialization\n",
    "# grid_scan_ds = obi.deserialize_obi_object_from_json_file(\"../../../obi-output/circuit_simulations/grid_scan/run_scan_config.json\")"
   ]
  }
 ],
 "metadata": {
  "kernelspec": {
   "display_name": "obi-one",
   "language": "python",
   "name": "obi-one"
  },
  "language_info": {
   "codemirror_mode": {
    "name": "ipython",
    "version": 3
   },
   "file_extension": ".py",
   "mimetype": "text/x-python",
   "name": "python",
   "nbconvert_exporter": "python",
   "pygments_lexer": "ipython3",
   "version": "3.12.9"
  }
 },
 "nbformat": 4,
 "nbformat_minor": 4
}
