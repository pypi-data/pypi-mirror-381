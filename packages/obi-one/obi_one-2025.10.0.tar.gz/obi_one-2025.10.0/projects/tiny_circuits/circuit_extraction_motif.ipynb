{
 "cells": [
  {
   "cell_type": "code",
   "execution_count": 1,
   "metadata": {},
   "outputs": [],
   "source": [
    "import numpy as np\n",
    "import obi_one as obi\n",
    "import os\n",
    "import pandas as pd\n",
    "from conntility.connectivity import ConnectivityMatrix"
   ]
  },
  {
   "cell_type": "code",
   "execution_count": 2,
   "metadata": {},
   "outputs": [],
   "source": [
    "input_root = \"/Users/pokorny/Data/Circuits\"\n",
    "cmat_root = \"/Users/pokorny/Data/ConnectivityMatrices\"\n",
    "output_root = \"../../../obi-output/extracted_small_microcircuits_motif\""
   ]
  },
  {
   "cell_type": "code",
   "execution_count": 3,
   "metadata": {},
   "outputs": [
    {
     "data": {
      "text/plain": [
       "<COOrdinate sparse matrix of dtype 'int64'\n",
       "\twith 87457567 stored elements and shape (211712, 211712)>"
      ]
     },
     "metadata": {},
     "output_type": "display_data"
    }
   ],
   "source": [
    "# Load nbS1-O1 circuit with connectivity matrix\n",
    "circuit = obi.Circuit(name=\"nbS1-O1\",\n",
    "                      path=os.path.join(input_root, \"nbS1-O1\", \"circuit_config_postfix2.json\"),\n",
    "                      matrix_path=os.path.join(cmat_root, \"nbS1-O1\", \"connectivity_matrix.h5\"))\n",
    "display(circuit.connectivity_matrix.matrix)"
   ]
  },
  {
   "cell_type": "code",
   "execution_count": 109,
   "metadata": {},
   "outputs": [],
   "source": [
    "# Set up pair motif neuron sets\n",
    "\n",
    "hex_nset = \"nbS1-HEX0\"\n",
    "layers = [\"2\", \"3\", \"4\", \"5\", \"6\"]\n",
    "inh_subtypes = [\"hex_O1PV\", \"hex_O1Sst\"]\n",
    "\n",
    "# # (1) E->I sets per layer and INH subtype\n",
    "# neuron1_filter = [{\"node_set\": hex_nset, \"synapse_class\": \"EXC\", \"layer\": _lay} for _lay in layers for _inh in inh_subtypes]\n",
    "# neuron2_filter = [{\"node_set\": [hex_nset, _inh], \"synapse_class\": \"INH\", \"layer\": _lay} for _lay in layers for _inh in inh_subtypes]\n",
    "\n",
    "# conn_ff_filter = {\"nsyn\": {\"gt\": 0}}\n",
    "# conn_fb_filter = {\"nsyn\": 0}  # No feedback connection\n",
    "\n",
    "# pair_selection = {\"count\": 1, \"method\": \"max_nsyn_ff\"}  # Selection based on max. number of synapses\n",
    "\n",
    "# virtual_sources_to_ignore = [(\"external_S1nonbarrel_neurons__S1nonbarrel_neurons__chemical\", \"POm\") if (_lay == \"6\" and _inh == \"hex_O1Sst\") else (\"external_S1nonbarrel_neurons__S1nonbarrel_neurons__chemical\", ) for _lay in layers for _inh in inh_subtypes]\n",
    "# output_path = os.path.join(output_root, \"E2I\")\n",
    "\n",
    "# # (2) I->E sets per layer and INH subtype\n",
    "# neuron1_filter = [{\"node_set\": [hex_nset, _inh],  \"synapse_class\": \"INH\", \"layer\": _lay} for _lay in layers for _inh in inh_subtypes]\n",
    "# neuron2_filter = [{\"node_set\": hex_nset, \"synapse_class\": \"EXC\", \"layer\": _lay} for _lay in layers for _inh in inh_subtypes]\n",
    "\n",
    "# conn_ff_filter = {\"nsyn\": {\"gt\": 0}}\n",
    "# conn_fb_filter = {\"nsyn\": 0}  # No feedback connection\n",
    "\n",
    "# pair_selection = {\"count\": 1, \"method\": \"max_nsyn_ff\"}  # Selection based on max. number of synapses\n",
    "\n",
    "# virtual_sources_to_ignore = (\"external_S1nonbarrel_neurons__S1nonbarrel_neurons__chemical\", )\n",
    "# output_path = os.path.join(output_root, \"I2E\")\n",
    "\n",
    "# (3) E<->I sets per layer and INH subtype\n",
    "neuron1_filter = [{\"node_set\": hex_nset, \"synapse_class\": \"EXC\", \"layer\": _lay} for _lay in layers for _inh in inh_subtypes]\n",
    "neuron2_filter = [{\"node_set\": [hex_nset, _inh],  \"synapse_class\": \"INH\", \"layer\": _lay} for _lay in layers for _inh in inh_subtypes]\n",
    "\n",
    "conn_ff_filter = {\"nsyn\": {\"gt\": 0}}\n",
    "conn_fb_filter = {\"nsyn\": {\"gt\": 0}}  # Reciprocal connection\n",
    "\n",
    "pair_selection = {\"count\": 1, \"method\": \"max_nsyn_all\"}  # Selection based on max. number of synapses\n",
    "\n",
    "virtual_sources_to_ignore = [(\"external_S1nonbarrel_neurons__S1nonbarrel_neurons__chemical\", \"POm\") if (_lay == \"6\" and _inh == \"hex_O1Sst\") else (\"external_S1nonbarrel_neurons__S1nonbarrel_neurons__chemical\", ) for _lay in layers for _inh in inh_subtypes]\n",
    "output_path = os.path.join(output_root, \"ErcI\")\n",
    "\n",
    "node_set_list_op = \"intersect\"\n",
    "motif_neuron_sets = obi.PairMotifNeuronSet(neuron1_filter=neuron1_filter, neuron2_filter=neuron2_filter, conn_ff_filter=conn_ff_filter, conn_fb_filter=conn_fb_filter, pair_selection=pair_selection, node_set_list_op=node_set_list_op)\n",
    "\n",
    "names = [f\"{os.path.split(output_path)[-1]}-{_inh}-{hex_nset}-L{_lay}\" for _lay in layers for _inh in inh_subtypes]"
   ]
  },
  {
   "cell_type": "code",
   "execution_count": 113,
   "metadata": {},
   "outputs": [],
   "source": [
    "circuit_extractions_form = obi.CircuitExtractions(\n",
    "                    initialize=obi.CircuitExtractions.Initialize(\n",
    "                        circuit=circuit,\n",
    "                        run_validation=False,\n",
    "                        do_virtual=True,\n",
    "                        create_external=True,\n",
    "                        virtual_sources_to_ignore=virtual_sources_to_ignore,\n",
    "                    ),\n",
    "                    neuron_set=motif_neuron_sets,\n",
    ")\n",
    "\n",
    "coupled_scan = obi.CoupledScan(form=circuit_extractions_form, output_root=output_path, coordinate_directory_option=\"ZERO_INDEX\")"
   ]
  },
  {
   "cell_type": "code",
   "execution_count": 114,
   "metadata": {},
   "outputs": [
    {
     "name": "stdout",
     "output_type": "stream",
     "text": [
      "[2025-06-17 11:23:45,728] INFO: \n",
      "MULTIPLE VALUE PARAMETERS\n",
      "[2025-06-17 11:23:45,730] INFO: initialize.virtual_sources_to_ignore: [('external_S1nonbarrel_neurons__S1nonbarrel_neurons__chemical',), ('external_S1nonbarrel_neurons__S1nonbarrel_neurons__chemical',), ('external_S1nonbarrel_neurons__S1nonbarrel_neurons__chemical',), ('external_S1nonbarrel_neurons__S1nonbarrel_neurons__chemical',), ('external_S1nonbarrel_neurons__S1nonbarrel_neurons__chemical',), ('external_S1nonbarrel_neurons__S1nonbarrel_neurons__chemical',), ('external_S1nonbarrel_neurons__S1nonbarrel_neurons__chemical',), ('external_S1nonbarrel_neurons__S1nonbarrel_neurons__chemical',), ('external_S1nonbarrel_neurons__S1nonbarrel_neurons__chemical',), ('external_S1nonbarrel_neurons__S1nonbarrel_neurons__chemical', 'POm')]\n",
      "[2025-06-17 11:23:45,731] INFO: neuron_set.neuron1_filter: [{'node_set': 'nbS1-HEX0', 'synapse_class': 'EXC', 'layer': '2'}, {'node_set': 'nbS1-HEX0', 'synapse_class': 'EXC', 'layer': '2'}, {'node_set': 'nbS1-HEX0', 'synapse_class': 'EXC', 'layer': '3'}, {'node_set': 'nbS1-HEX0', 'synapse_class': 'EXC', 'layer': '3'}, {'node_set': 'nbS1-HEX0', 'synapse_class': 'EXC', 'layer': '4'}, {'node_set': 'nbS1-HEX0', 'synapse_class': 'EXC', 'layer': '4'}, {'node_set': 'nbS1-HEX0', 'synapse_class': 'EXC', 'layer': '5'}, {'node_set': 'nbS1-HEX0', 'synapse_class': 'EXC', 'layer': '5'}, {'node_set': 'nbS1-HEX0', 'synapse_class': 'EXC', 'layer': '6'}, {'node_set': 'nbS1-HEX0', 'synapse_class': 'EXC', 'layer': '6'}]\n",
      "[2025-06-17 11:23:45,732] INFO: neuron_set.neuron2_filter: [{'node_set': ['nbS1-HEX0', 'hex_O1PV'], 'synapse_class': 'INH', 'layer': '2'}, {'node_set': ['nbS1-HEX0', 'hex_O1Sst'], 'synapse_class': 'INH', 'layer': '2'}, {'node_set': ['nbS1-HEX0', 'hex_O1PV'], 'synapse_class': 'INH', 'layer': '3'}, {'node_set': ['nbS1-HEX0', 'hex_O1Sst'], 'synapse_class': 'INH', 'layer': '3'}, {'node_set': ['nbS1-HEX0', 'hex_O1PV'], 'synapse_class': 'INH', 'layer': '4'}, {'node_set': ['nbS1-HEX0', 'hex_O1Sst'], 'synapse_class': 'INH', 'layer': '4'}, {'node_set': ['nbS1-HEX0', 'hex_O1PV'], 'synapse_class': 'INH', 'layer': '5'}, {'node_set': ['nbS1-HEX0', 'hex_O1Sst'], 'synapse_class': 'INH', 'layer': '5'}, {'node_set': ['nbS1-HEX0', 'hex_O1PV'], 'synapse_class': 'INH', 'layer': '6'}, {'node_set': ['nbS1-HEX0', 'hex_O1Sst'], 'synapse_class': 'INH', 'layer': '6'}]\n",
      "[2025-06-17 11:23:45,733] INFO: \n",
      "COORDINATE PARAMETERS\n",
      "[2025-06-17 11:23:45,734] INFO: initialize.virtual_sources_to_ignore: ('external_S1nonbarrel_neurons__S1nonbarrel_neurons__chemical',), neuron_set.neuron1_filter: {'node_set': 'nbS1-HEX0', 'synapse_class': 'EXC', 'layer': '2'}, neuron_set.neuron2_filter: {'node_set': ['nbS1-HEX0', 'hex_O1PV'], 'synapse_class': 'INH', 'layer': '2'}\n",
      "[2025-06-17 11:23:45,735] INFO: initialize.virtual_sources_to_ignore: ('external_S1nonbarrel_neurons__S1nonbarrel_neurons__chemical',), neuron_set.neuron1_filter: {'node_set': 'nbS1-HEX0', 'synapse_class': 'EXC', 'layer': '2'}, neuron_set.neuron2_filter: {'node_set': ['nbS1-HEX0', 'hex_O1Sst'], 'synapse_class': 'INH', 'layer': '2'}\n",
      "[2025-06-17 11:23:45,735] INFO: initialize.virtual_sources_to_ignore: ('external_S1nonbarrel_neurons__S1nonbarrel_neurons__chemical',), neuron_set.neuron1_filter: {'node_set': 'nbS1-HEX0', 'synapse_class': 'EXC', 'layer': '3'}, neuron_set.neuron2_filter: {'node_set': ['nbS1-HEX0', 'hex_O1PV'], 'synapse_class': 'INH', 'layer': '3'}\n",
      "[2025-06-17 11:23:45,736] INFO: initialize.virtual_sources_to_ignore: ('external_S1nonbarrel_neurons__S1nonbarrel_neurons__chemical',), neuron_set.neuron1_filter: {'node_set': 'nbS1-HEX0', 'synapse_class': 'EXC', 'layer': '3'}, neuron_set.neuron2_filter: {'node_set': ['nbS1-HEX0', 'hex_O1Sst'], 'synapse_class': 'INH', 'layer': '3'}\n",
      "[2025-06-17 11:23:45,736] INFO: initialize.virtual_sources_to_ignore: ('external_S1nonbarrel_neurons__S1nonbarrel_neurons__chemical',), neuron_set.neuron1_filter: {'node_set': 'nbS1-HEX0', 'synapse_class': 'EXC', 'layer': '4'}, neuron_set.neuron2_filter: {'node_set': ['nbS1-HEX0', 'hex_O1PV'], 'synapse_class': 'INH', 'layer': '4'}\n",
      "[2025-06-17 11:23:45,737] INFO: initialize.virtual_sources_to_ignore: ('external_S1nonbarrel_neurons__S1nonbarrel_neurons__chemical',), neuron_set.neuron1_filter: {'node_set': 'nbS1-HEX0', 'synapse_class': 'EXC', 'layer': '4'}, neuron_set.neuron2_filter: {'node_set': ['nbS1-HEX0', 'hex_O1Sst'], 'synapse_class': 'INH', 'layer': '4'}\n",
      "[2025-06-17 11:23:45,737] INFO: initialize.virtual_sources_to_ignore: ('external_S1nonbarrel_neurons__S1nonbarrel_neurons__chemical',), neuron_set.neuron1_filter: {'node_set': 'nbS1-HEX0', 'synapse_class': 'EXC', 'layer': '5'}, neuron_set.neuron2_filter: {'node_set': ['nbS1-HEX0', 'hex_O1PV'], 'synapse_class': 'INH', 'layer': '5'}\n",
      "[2025-06-17 11:23:45,738] INFO: initialize.virtual_sources_to_ignore: ('external_S1nonbarrel_neurons__S1nonbarrel_neurons__chemical',), neuron_set.neuron1_filter: {'node_set': 'nbS1-HEX0', 'synapse_class': 'EXC', 'layer': '5'}, neuron_set.neuron2_filter: {'node_set': ['nbS1-HEX0', 'hex_O1Sst'], 'synapse_class': 'INH', 'layer': '5'}\n",
      "[2025-06-17 11:23:45,738] INFO: initialize.virtual_sources_to_ignore: ('external_S1nonbarrel_neurons__S1nonbarrel_neurons__chemical',), neuron_set.neuron1_filter: {'node_set': 'nbS1-HEX0', 'synapse_class': 'EXC', 'layer': '6'}, neuron_set.neuron2_filter: {'node_set': ['nbS1-HEX0', 'hex_O1PV'], 'synapse_class': 'INH', 'layer': '6'}\n",
      "[2025-06-17 11:23:45,739] INFO: initialize.virtual_sources_to_ignore: ('external_S1nonbarrel_neurons__S1nonbarrel_neurons__chemical', 'POm'), neuron_set.neuron1_filter: {'node_set': 'nbS1-HEX0', 'synapse_class': 'EXC', 'layer': '6'}, neuron_set.neuron2_filter: {'node_set': ['nbS1-HEX0', 'hex_O1Sst'], 'synapse_class': 'INH', 'layer': '6'}\n",
      "[2025-06-17 11:23:45,742] INFO: \n",
      "COORDINATE INSTANCES\n",
      "[2025-06-17 11:23:45,743] INFO: CircuitExtraction(idx=0, scan_output_root=PosixPath('.'), coordinate_output_root=PosixPath('.'), single_coordinate_scan_params=SingleCoordinateScanParams(type='SingleCoordinateScanParams', scan_params=[SingleValueScanParam(type='SingleValueScanParam', location_list=['initialize', 'virtual_sources_to_ignore'], value=('external_S1nonbarrel_neurons__S1nonbarrel_neurons__chemical',)), SingleValueScanParam(type='SingleValueScanParam', location_list=['neuron_set', 'neuron1_filter'], value={'node_set': 'nbS1-HEX0', 'synapse_class': 'EXC', 'layer': '2'}), SingleValueScanParam(type='SingleValueScanParam', location_list=['neuron_set', 'neuron2_filter'], value={'node_set': ['nbS1-HEX0', 'hex_O1PV'], 'synapse_class': 'INH', 'layer': '2'})], nested_coordinate_subpath_str=PosixPath('.')), type='CircuitExtraction', initialize=Initialize(type='CircuitExtractions.Initialize', circuit=Circuit(type='Circuit', name='nbS1-O1', path='/Users/pokorny/Data/Circuits/nbS1-O1/circuit_config_postfix2.json', matrix_path='/Users/pokorny/Data/ConnectivityMatrices/nbS1-O1/connectivity_matrix.h5'), run_validation=False, do_virtual=True, create_external=True, virtual_sources_to_ignore=('external_S1nonbarrel_neurons__S1nonbarrel_neurons__chemical',)), neuron_set=PairMotifNeuronSet(type='PairMotifNeuronSet', random_sample=None, random_seed=0, node_population=None, neuron1_filter={'node_set': 'nbS1-HEX0', 'synapse_class': 'EXC', 'layer': '2'}, neuron2_filter={'node_set': ['nbS1-HEX0', 'hex_O1PV'], 'synapse_class': 'INH', 'layer': '2'}, conn_ff_filter={'nsyn': {'gt': 0}}, conn_fb_filter={'nsyn': {'gt': 0}}, pair_selection={'count': 1, 'method': 'max_nsyn_all'}, node_set_list_op='intersect'))\n",
      "[2025-06-17 11:23:45,743] INFO: CircuitExtraction(idx=1, scan_output_root=PosixPath('.'), coordinate_output_root=PosixPath('.'), single_coordinate_scan_params=SingleCoordinateScanParams(type='SingleCoordinateScanParams', scan_params=[SingleValueScanParam(type='SingleValueScanParam', location_list=['initialize', 'virtual_sources_to_ignore'], value=('external_S1nonbarrel_neurons__S1nonbarrel_neurons__chemical',)), SingleValueScanParam(type='SingleValueScanParam', location_list=['neuron_set', 'neuron1_filter'], value={'node_set': 'nbS1-HEX0', 'synapse_class': 'EXC', 'layer': '2'}), SingleValueScanParam(type='SingleValueScanParam', location_list=['neuron_set', 'neuron2_filter'], value={'node_set': ['nbS1-HEX0', 'hex_O1Sst'], 'synapse_class': 'INH', 'layer': '2'})], nested_coordinate_subpath_str=PosixPath('.')), type='CircuitExtraction', initialize=Initialize(type='CircuitExtractions.Initialize', circuit=Circuit(type='Circuit', name='nbS1-O1', path='/Users/pokorny/Data/Circuits/nbS1-O1/circuit_config_postfix2.json', matrix_path='/Users/pokorny/Data/ConnectivityMatrices/nbS1-O1/connectivity_matrix.h5'), run_validation=False, do_virtual=True, create_external=True, virtual_sources_to_ignore=('external_S1nonbarrel_neurons__S1nonbarrel_neurons__chemical',)), neuron_set=PairMotifNeuronSet(type='PairMotifNeuronSet', random_sample=None, random_seed=0, node_population=None, neuron1_filter={'node_set': 'nbS1-HEX0', 'synapse_class': 'EXC', 'layer': '2'}, neuron2_filter={'node_set': ['nbS1-HEX0', 'hex_O1Sst'], 'synapse_class': 'INH', 'layer': '2'}, conn_ff_filter={'nsyn': {'gt': 0}}, conn_fb_filter={'nsyn': {'gt': 0}}, pair_selection={'count': 1, 'method': 'max_nsyn_all'}, node_set_list_op='intersect'))\n",
      "[2025-06-17 11:23:45,744] INFO: CircuitExtraction(idx=2, scan_output_root=PosixPath('.'), coordinate_output_root=PosixPath('.'), single_coordinate_scan_params=SingleCoordinateScanParams(type='SingleCoordinateScanParams', scan_params=[SingleValueScanParam(type='SingleValueScanParam', location_list=['initialize', 'virtual_sources_to_ignore'], value=('external_S1nonbarrel_neurons__S1nonbarrel_neurons__chemical',)), SingleValueScanParam(type='SingleValueScanParam', location_list=['neuron_set', 'neuron1_filter'], value={'node_set': 'nbS1-HEX0', 'synapse_class': 'EXC', 'layer': '3'}), SingleValueScanParam(type='SingleValueScanParam', location_list=['neuron_set', 'neuron2_filter'], value={'node_set': ['nbS1-HEX0', 'hex_O1PV'], 'synapse_class': 'INH', 'layer': '3'})], nested_coordinate_subpath_str=PosixPath('.')), type='CircuitExtraction', initialize=Initialize(type='CircuitExtractions.Initialize', circuit=Circuit(type='Circuit', name='nbS1-O1', path='/Users/pokorny/Data/Circuits/nbS1-O1/circuit_config_postfix2.json', matrix_path='/Users/pokorny/Data/ConnectivityMatrices/nbS1-O1/connectivity_matrix.h5'), run_validation=False, do_virtual=True, create_external=True, virtual_sources_to_ignore=('external_S1nonbarrel_neurons__S1nonbarrel_neurons__chemical',)), neuron_set=PairMotifNeuronSet(type='PairMotifNeuronSet', random_sample=None, random_seed=0, node_population=None, neuron1_filter={'node_set': 'nbS1-HEX0', 'synapse_class': 'EXC', 'layer': '3'}, neuron2_filter={'node_set': ['nbS1-HEX0', 'hex_O1PV'], 'synapse_class': 'INH', 'layer': '3'}, conn_ff_filter={'nsyn': {'gt': 0}}, conn_fb_filter={'nsyn': {'gt': 0}}, pair_selection={'count': 1, 'method': 'max_nsyn_all'}, node_set_list_op='intersect'))\n",
      "[2025-06-17 11:23:45,744] INFO: CircuitExtraction(idx=3, scan_output_root=PosixPath('.'), coordinate_output_root=PosixPath('.'), single_coordinate_scan_params=SingleCoordinateScanParams(type='SingleCoordinateScanParams', scan_params=[SingleValueScanParam(type='SingleValueScanParam', location_list=['initialize', 'virtual_sources_to_ignore'], value=('external_S1nonbarrel_neurons__S1nonbarrel_neurons__chemical',)), SingleValueScanParam(type='SingleValueScanParam', location_list=['neuron_set', 'neuron1_filter'], value={'node_set': 'nbS1-HEX0', 'synapse_class': 'EXC', 'layer': '3'}), SingleValueScanParam(type='SingleValueScanParam', location_list=['neuron_set', 'neuron2_filter'], value={'node_set': ['nbS1-HEX0', 'hex_O1Sst'], 'synapse_class': 'INH', 'layer': '3'})], nested_coordinate_subpath_str=PosixPath('.')), type='CircuitExtraction', initialize=Initialize(type='CircuitExtractions.Initialize', circuit=Circuit(type='Circuit', name='nbS1-O1', path='/Users/pokorny/Data/Circuits/nbS1-O1/circuit_config_postfix2.json', matrix_path='/Users/pokorny/Data/ConnectivityMatrices/nbS1-O1/connectivity_matrix.h5'), run_validation=False, do_virtual=True, create_external=True, virtual_sources_to_ignore=('external_S1nonbarrel_neurons__S1nonbarrel_neurons__chemical',)), neuron_set=PairMotifNeuronSet(type='PairMotifNeuronSet', random_sample=None, random_seed=0, node_population=None, neuron1_filter={'node_set': 'nbS1-HEX0', 'synapse_class': 'EXC', 'layer': '3'}, neuron2_filter={'node_set': ['nbS1-HEX0', 'hex_O1Sst'], 'synapse_class': 'INH', 'layer': '3'}, conn_ff_filter={'nsyn': {'gt': 0}}, conn_fb_filter={'nsyn': {'gt': 0}}, pair_selection={'count': 1, 'method': 'max_nsyn_all'}, node_set_list_op='intersect'))\n",
      "[2025-06-17 11:23:45,745] INFO: CircuitExtraction(idx=4, scan_output_root=PosixPath('.'), coordinate_output_root=PosixPath('.'), single_coordinate_scan_params=SingleCoordinateScanParams(type='SingleCoordinateScanParams', scan_params=[SingleValueScanParam(type='SingleValueScanParam', location_list=['initialize', 'virtual_sources_to_ignore'], value=('external_S1nonbarrel_neurons__S1nonbarrel_neurons__chemical',)), SingleValueScanParam(type='SingleValueScanParam', location_list=['neuron_set', 'neuron1_filter'], value={'node_set': 'nbS1-HEX0', 'synapse_class': 'EXC', 'layer': '4'}), SingleValueScanParam(type='SingleValueScanParam', location_list=['neuron_set', 'neuron2_filter'], value={'node_set': ['nbS1-HEX0', 'hex_O1PV'], 'synapse_class': 'INH', 'layer': '4'})], nested_coordinate_subpath_str=PosixPath('.')), type='CircuitExtraction', initialize=Initialize(type='CircuitExtractions.Initialize', circuit=Circuit(type='Circuit', name='nbS1-O1', path='/Users/pokorny/Data/Circuits/nbS1-O1/circuit_config_postfix2.json', matrix_path='/Users/pokorny/Data/ConnectivityMatrices/nbS1-O1/connectivity_matrix.h5'), run_validation=False, do_virtual=True, create_external=True, virtual_sources_to_ignore=('external_S1nonbarrel_neurons__S1nonbarrel_neurons__chemical',)), neuron_set=PairMotifNeuronSet(type='PairMotifNeuronSet', random_sample=None, random_seed=0, node_population=None, neuron1_filter={'node_set': 'nbS1-HEX0', 'synapse_class': 'EXC', 'layer': '4'}, neuron2_filter={'node_set': ['nbS1-HEX0', 'hex_O1PV'], 'synapse_class': 'INH', 'layer': '4'}, conn_ff_filter={'nsyn': {'gt': 0}}, conn_fb_filter={'nsyn': {'gt': 0}}, pair_selection={'count': 1, 'method': 'max_nsyn_all'}, node_set_list_op='intersect'))\n",
      "[2025-06-17 11:23:45,745] INFO: CircuitExtraction(idx=5, scan_output_root=PosixPath('.'), coordinate_output_root=PosixPath('.'), single_coordinate_scan_params=SingleCoordinateScanParams(type='SingleCoordinateScanParams', scan_params=[SingleValueScanParam(type='SingleValueScanParam', location_list=['initialize', 'virtual_sources_to_ignore'], value=('external_S1nonbarrel_neurons__S1nonbarrel_neurons__chemical',)), SingleValueScanParam(type='SingleValueScanParam', location_list=['neuron_set', 'neuron1_filter'], value={'node_set': 'nbS1-HEX0', 'synapse_class': 'EXC', 'layer': '4'}), SingleValueScanParam(type='SingleValueScanParam', location_list=['neuron_set', 'neuron2_filter'], value={'node_set': ['nbS1-HEX0', 'hex_O1Sst'], 'synapse_class': 'INH', 'layer': '4'})], nested_coordinate_subpath_str=PosixPath('.')), type='CircuitExtraction', initialize=Initialize(type='CircuitExtractions.Initialize', circuit=Circuit(type='Circuit', name='nbS1-O1', path='/Users/pokorny/Data/Circuits/nbS1-O1/circuit_config_postfix2.json', matrix_path='/Users/pokorny/Data/ConnectivityMatrices/nbS1-O1/connectivity_matrix.h5'), run_validation=False, do_virtual=True, create_external=True, virtual_sources_to_ignore=('external_S1nonbarrel_neurons__S1nonbarrel_neurons__chemical',)), neuron_set=PairMotifNeuronSet(type='PairMotifNeuronSet', random_sample=None, random_seed=0, node_population=None, neuron1_filter={'node_set': 'nbS1-HEX0', 'synapse_class': 'EXC', 'layer': '4'}, neuron2_filter={'node_set': ['nbS1-HEX0', 'hex_O1Sst'], 'synapse_class': 'INH', 'layer': '4'}, conn_ff_filter={'nsyn': {'gt': 0}}, conn_fb_filter={'nsyn': {'gt': 0}}, pair_selection={'count': 1, 'method': 'max_nsyn_all'}, node_set_list_op='intersect'))\n",
      "[2025-06-17 11:23:45,745] INFO: CircuitExtraction(idx=6, scan_output_root=PosixPath('.'), coordinate_output_root=PosixPath('.'), single_coordinate_scan_params=SingleCoordinateScanParams(type='SingleCoordinateScanParams', scan_params=[SingleValueScanParam(type='SingleValueScanParam', location_list=['initialize', 'virtual_sources_to_ignore'], value=('external_S1nonbarrel_neurons__S1nonbarrel_neurons__chemical',)), SingleValueScanParam(type='SingleValueScanParam', location_list=['neuron_set', 'neuron1_filter'], value={'node_set': 'nbS1-HEX0', 'synapse_class': 'EXC', 'layer': '5'}), SingleValueScanParam(type='SingleValueScanParam', location_list=['neuron_set', 'neuron2_filter'], value={'node_set': ['nbS1-HEX0', 'hex_O1PV'], 'synapse_class': 'INH', 'layer': '5'})], nested_coordinate_subpath_str=PosixPath('.')), type='CircuitExtraction', initialize=Initialize(type='CircuitExtractions.Initialize', circuit=Circuit(type='Circuit', name='nbS1-O1', path='/Users/pokorny/Data/Circuits/nbS1-O1/circuit_config_postfix2.json', matrix_path='/Users/pokorny/Data/ConnectivityMatrices/nbS1-O1/connectivity_matrix.h5'), run_validation=False, do_virtual=True, create_external=True, virtual_sources_to_ignore=('external_S1nonbarrel_neurons__S1nonbarrel_neurons__chemical',)), neuron_set=PairMotifNeuronSet(type='PairMotifNeuronSet', random_sample=None, random_seed=0, node_population=None, neuron1_filter={'node_set': 'nbS1-HEX0', 'synapse_class': 'EXC', 'layer': '5'}, neuron2_filter={'node_set': ['nbS1-HEX0', 'hex_O1PV'], 'synapse_class': 'INH', 'layer': '5'}, conn_ff_filter={'nsyn': {'gt': 0}}, conn_fb_filter={'nsyn': {'gt': 0}}, pair_selection={'count': 1, 'method': 'max_nsyn_all'}, node_set_list_op='intersect'))\n",
      "[2025-06-17 11:23:45,746] INFO: CircuitExtraction(idx=7, scan_output_root=PosixPath('.'), coordinate_output_root=PosixPath('.'), single_coordinate_scan_params=SingleCoordinateScanParams(type='SingleCoordinateScanParams', scan_params=[SingleValueScanParam(type='SingleValueScanParam', location_list=['initialize', 'virtual_sources_to_ignore'], value=('external_S1nonbarrel_neurons__S1nonbarrel_neurons__chemical',)), SingleValueScanParam(type='SingleValueScanParam', location_list=['neuron_set', 'neuron1_filter'], value={'node_set': 'nbS1-HEX0', 'synapse_class': 'EXC', 'layer': '5'}), SingleValueScanParam(type='SingleValueScanParam', location_list=['neuron_set', 'neuron2_filter'], value={'node_set': ['nbS1-HEX0', 'hex_O1Sst'], 'synapse_class': 'INH', 'layer': '5'})], nested_coordinate_subpath_str=PosixPath('.')), type='CircuitExtraction', initialize=Initialize(type='CircuitExtractions.Initialize', circuit=Circuit(type='Circuit', name='nbS1-O1', path='/Users/pokorny/Data/Circuits/nbS1-O1/circuit_config_postfix2.json', matrix_path='/Users/pokorny/Data/ConnectivityMatrices/nbS1-O1/connectivity_matrix.h5'), run_validation=False, do_virtual=True, create_external=True, virtual_sources_to_ignore=('external_S1nonbarrel_neurons__S1nonbarrel_neurons__chemical',)), neuron_set=PairMotifNeuronSet(type='PairMotifNeuronSet', random_sample=None, random_seed=0, node_population=None, neuron1_filter={'node_set': 'nbS1-HEX0', 'synapse_class': 'EXC', 'layer': '5'}, neuron2_filter={'node_set': ['nbS1-HEX0', 'hex_O1Sst'], 'synapse_class': 'INH', 'layer': '5'}, conn_ff_filter={'nsyn': {'gt': 0}}, conn_fb_filter={'nsyn': {'gt': 0}}, pair_selection={'count': 1, 'method': 'max_nsyn_all'}, node_set_list_op='intersect'))\n",
      "[2025-06-17 11:23:45,746] INFO: CircuitExtraction(idx=8, scan_output_root=PosixPath('.'), coordinate_output_root=PosixPath('.'), single_coordinate_scan_params=SingleCoordinateScanParams(type='SingleCoordinateScanParams', scan_params=[SingleValueScanParam(type='SingleValueScanParam', location_list=['initialize', 'virtual_sources_to_ignore'], value=('external_S1nonbarrel_neurons__S1nonbarrel_neurons__chemical',)), SingleValueScanParam(type='SingleValueScanParam', location_list=['neuron_set', 'neuron1_filter'], value={'node_set': 'nbS1-HEX0', 'synapse_class': 'EXC', 'layer': '6'}), SingleValueScanParam(type='SingleValueScanParam', location_list=['neuron_set', 'neuron2_filter'], value={'node_set': ['nbS1-HEX0', 'hex_O1PV'], 'synapse_class': 'INH', 'layer': '6'})], nested_coordinate_subpath_str=PosixPath('.')), type='CircuitExtraction', initialize=Initialize(type='CircuitExtractions.Initialize', circuit=Circuit(type='Circuit', name='nbS1-O1', path='/Users/pokorny/Data/Circuits/nbS1-O1/circuit_config_postfix2.json', matrix_path='/Users/pokorny/Data/ConnectivityMatrices/nbS1-O1/connectivity_matrix.h5'), run_validation=False, do_virtual=True, create_external=True, virtual_sources_to_ignore=('external_S1nonbarrel_neurons__S1nonbarrel_neurons__chemical',)), neuron_set=PairMotifNeuronSet(type='PairMotifNeuronSet', random_sample=None, random_seed=0, node_population=None, neuron1_filter={'node_set': 'nbS1-HEX0', 'synapse_class': 'EXC', 'layer': '6'}, neuron2_filter={'node_set': ['nbS1-HEX0', 'hex_O1PV'], 'synapse_class': 'INH', 'layer': '6'}, conn_ff_filter={'nsyn': {'gt': 0}}, conn_fb_filter={'nsyn': {'gt': 0}}, pair_selection={'count': 1, 'method': 'max_nsyn_all'}, node_set_list_op='intersect'))\n",
      "[2025-06-17 11:23:45,747] INFO: CircuitExtraction(idx=9, scan_output_root=PosixPath('.'), coordinate_output_root=PosixPath('.'), single_coordinate_scan_params=SingleCoordinateScanParams(type='SingleCoordinateScanParams', scan_params=[SingleValueScanParam(type='SingleValueScanParam', location_list=['initialize', 'virtual_sources_to_ignore'], value=('external_S1nonbarrel_neurons__S1nonbarrel_neurons__chemical', 'POm')), SingleValueScanParam(type='SingleValueScanParam', location_list=['neuron_set', 'neuron1_filter'], value={'node_set': 'nbS1-HEX0', 'synapse_class': 'EXC', 'layer': '6'}), SingleValueScanParam(type='SingleValueScanParam', location_list=['neuron_set', 'neuron2_filter'], value={'node_set': ['nbS1-HEX0', 'hex_O1Sst'], 'synapse_class': 'INH', 'layer': '6'})], nested_coordinate_subpath_str=PosixPath('.')), type='CircuitExtraction', initialize=Initialize(type='CircuitExtractions.Initialize', circuit=Circuit(type='Circuit', name='nbS1-O1', path='/Users/pokorny/Data/Circuits/nbS1-O1/circuit_config_postfix2.json', matrix_path='/Users/pokorny/Data/ConnectivityMatrices/nbS1-O1/connectivity_matrix.h5'), run_validation=False, do_virtual=True, create_external=True, virtual_sources_to_ignore=('external_S1nonbarrel_neurons__S1nonbarrel_neurons__chemical', 'POm')), neuron_set=PairMotifNeuronSet(type='PairMotifNeuronSet', random_sample=None, random_seed=0, node_population=None, neuron1_filter={'node_set': 'nbS1-HEX0', 'synapse_class': 'EXC', 'layer': '6'}, neuron2_filter={'node_set': ['nbS1-HEX0', 'hex_O1Sst'], 'synapse_class': 'INH', 'layer': '6'}, conn_ff_filter={'nsyn': {'gt': 0}}, conn_fb_filter={'nsyn': {'gt': 0}}, pair_selection={'count': 1, 'method': 'max_nsyn_all'}, node_set_list_op='intersect'))\n"
     ]
    },
    {
     "data": {
      "text/plain": [
       "[CircuitExtraction(idx=0, scan_output_root=PosixPath('.'), coordinate_output_root=PosixPath('.'), single_coordinate_scan_params=SingleCoordinateScanParams(type='SingleCoordinateScanParams', scan_params=[SingleValueScanParam(type='SingleValueScanParam', location_list=['initialize', 'virtual_sources_to_ignore'], value=('external_S1nonbarrel_neurons__S1nonbarrel_neurons__chemical',)), SingleValueScanParam(type='SingleValueScanParam', location_list=['neuron_set', 'neuron1_filter'], value={'node_set': 'nbS1-HEX0', 'synapse_class': 'EXC', 'layer': '2'}), SingleValueScanParam(type='SingleValueScanParam', location_list=['neuron_set', 'neuron2_filter'], value={'node_set': ['nbS1-HEX0', 'hex_O1PV'], 'synapse_class': 'INH', 'layer': '2'})], nested_coordinate_subpath_str=PosixPath('.')), type='CircuitExtraction', initialize=Initialize(type='CircuitExtractions.Initialize', circuit=Circuit(type='Circuit', name='nbS1-O1', path='/Users/pokorny/Data/Circuits/nbS1-O1/circuit_config_postfix2.json', matrix_path='/Users/pokorny/Data/ConnectivityMatrices/nbS1-O1/connectivity_matrix.h5'), run_validation=False, do_virtual=True, create_external=True, virtual_sources_to_ignore=('external_S1nonbarrel_neurons__S1nonbarrel_neurons__chemical',)), neuron_set=PairMotifNeuronSet(type='PairMotifNeuronSet', random_sample=None, random_seed=0, node_population=None, neuron1_filter={'node_set': 'nbS1-HEX0', 'synapse_class': 'EXC', 'layer': '2'}, neuron2_filter={'node_set': ['nbS1-HEX0', 'hex_O1PV'], 'synapse_class': 'INH', 'layer': '2'}, conn_ff_filter={'nsyn': {'gt': 0}}, conn_fb_filter={'nsyn': {'gt': 0}}, pair_selection={'count': 1, 'method': 'max_nsyn_all'}, node_set_list_op='intersect')),\n",
       " CircuitExtraction(idx=1, scan_output_root=PosixPath('.'), coordinate_output_root=PosixPath('.'), single_coordinate_scan_params=SingleCoordinateScanParams(type='SingleCoordinateScanParams', scan_params=[SingleValueScanParam(type='SingleValueScanParam', location_list=['initialize', 'virtual_sources_to_ignore'], value=('external_S1nonbarrel_neurons__S1nonbarrel_neurons__chemical',)), SingleValueScanParam(type='SingleValueScanParam', location_list=['neuron_set', 'neuron1_filter'], value={'node_set': 'nbS1-HEX0', 'synapse_class': 'EXC', 'layer': '2'}), SingleValueScanParam(type='SingleValueScanParam', location_list=['neuron_set', 'neuron2_filter'], value={'node_set': ['nbS1-HEX0', 'hex_O1Sst'], 'synapse_class': 'INH', 'layer': '2'})], nested_coordinate_subpath_str=PosixPath('.')), type='CircuitExtraction', initialize=Initialize(type='CircuitExtractions.Initialize', circuit=Circuit(type='Circuit', name='nbS1-O1', path='/Users/pokorny/Data/Circuits/nbS1-O1/circuit_config_postfix2.json', matrix_path='/Users/pokorny/Data/ConnectivityMatrices/nbS1-O1/connectivity_matrix.h5'), run_validation=False, do_virtual=True, create_external=True, virtual_sources_to_ignore=('external_S1nonbarrel_neurons__S1nonbarrel_neurons__chemical',)), neuron_set=PairMotifNeuronSet(type='PairMotifNeuronSet', random_sample=None, random_seed=0, node_population=None, neuron1_filter={'node_set': 'nbS1-HEX0', 'synapse_class': 'EXC', 'layer': '2'}, neuron2_filter={'node_set': ['nbS1-HEX0', 'hex_O1Sst'], 'synapse_class': 'INH', 'layer': '2'}, conn_ff_filter={'nsyn': {'gt': 0}}, conn_fb_filter={'nsyn': {'gt': 0}}, pair_selection={'count': 1, 'method': 'max_nsyn_all'}, node_set_list_op='intersect')),\n",
       " CircuitExtraction(idx=2, scan_output_root=PosixPath('.'), coordinate_output_root=PosixPath('.'), single_coordinate_scan_params=SingleCoordinateScanParams(type='SingleCoordinateScanParams', scan_params=[SingleValueScanParam(type='SingleValueScanParam', location_list=['initialize', 'virtual_sources_to_ignore'], value=('external_S1nonbarrel_neurons__S1nonbarrel_neurons__chemical',)), SingleValueScanParam(type='SingleValueScanParam', location_list=['neuron_set', 'neuron1_filter'], value={'node_set': 'nbS1-HEX0', 'synapse_class': 'EXC', 'layer': '3'}), SingleValueScanParam(type='SingleValueScanParam', location_list=['neuron_set', 'neuron2_filter'], value={'node_set': ['nbS1-HEX0', 'hex_O1PV'], 'synapse_class': 'INH', 'layer': '3'})], nested_coordinate_subpath_str=PosixPath('.')), type='CircuitExtraction', initialize=Initialize(type='CircuitExtractions.Initialize', circuit=Circuit(type='Circuit', name='nbS1-O1', path='/Users/pokorny/Data/Circuits/nbS1-O1/circuit_config_postfix2.json', matrix_path='/Users/pokorny/Data/ConnectivityMatrices/nbS1-O1/connectivity_matrix.h5'), run_validation=False, do_virtual=True, create_external=True, virtual_sources_to_ignore=('external_S1nonbarrel_neurons__S1nonbarrel_neurons__chemical',)), neuron_set=PairMotifNeuronSet(type='PairMotifNeuronSet', random_sample=None, random_seed=0, node_population=None, neuron1_filter={'node_set': 'nbS1-HEX0', 'synapse_class': 'EXC', 'layer': '3'}, neuron2_filter={'node_set': ['nbS1-HEX0', 'hex_O1PV'], 'synapse_class': 'INH', 'layer': '3'}, conn_ff_filter={'nsyn': {'gt': 0}}, conn_fb_filter={'nsyn': {'gt': 0}}, pair_selection={'count': 1, 'method': 'max_nsyn_all'}, node_set_list_op='intersect')),\n",
       " CircuitExtraction(idx=3, scan_output_root=PosixPath('.'), coordinate_output_root=PosixPath('.'), single_coordinate_scan_params=SingleCoordinateScanParams(type='SingleCoordinateScanParams', scan_params=[SingleValueScanParam(type='SingleValueScanParam', location_list=['initialize', 'virtual_sources_to_ignore'], value=('external_S1nonbarrel_neurons__S1nonbarrel_neurons__chemical',)), SingleValueScanParam(type='SingleValueScanParam', location_list=['neuron_set', 'neuron1_filter'], value={'node_set': 'nbS1-HEX0', 'synapse_class': 'EXC', 'layer': '3'}), SingleValueScanParam(type='SingleValueScanParam', location_list=['neuron_set', 'neuron2_filter'], value={'node_set': ['nbS1-HEX0', 'hex_O1Sst'], 'synapse_class': 'INH', 'layer': '3'})], nested_coordinate_subpath_str=PosixPath('.')), type='CircuitExtraction', initialize=Initialize(type='CircuitExtractions.Initialize', circuit=Circuit(type='Circuit', name='nbS1-O1', path='/Users/pokorny/Data/Circuits/nbS1-O1/circuit_config_postfix2.json', matrix_path='/Users/pokorny/Data/ConnectivityMatrices/nbS1-O1/connectivity_matrix.h5'), run_validation=False, do_virtual=True, create_external=True, virtual_sources_to_ignore=('external_S1nonbarrel_neurons__S1nonbarrel_neurons__chemical',)), neuron_set=PairMotifNeuronSet(type='PairMotifNeuronSet', random_sample=None, random_seed=0, node_population=None, neuron1_filter={'node_set': 'nbS1-HEX0', 'synapse_class': 'EXC', 'layer': '3'}, neuron2_filter={'node_set': ['nbS1-HEX0', 'hex_O1Sst'], 'synapse_class': 'INH', 'layer': '3'}, conn_ff_filter={'nsyn': {'gt': 0}}, conn_fb_filter={'nsyn': {'gt': 0}}, pair_selection={'count': 1, 'method': 'max_nsyn_all'}, node_set_list_op='intersect')),\n",
       " CircuitExtraction(idx=4, scan_output_root=PosixPath('.'), coordinate_output_root=PosixPath('.'), single_coordinate_scan_params=SingleCoordinateScanParams(type='SingleCoordinateScanParams', scan_params=[SingleValueScanParam(type='SingleValueScanParam', location_list=['initialize', 'virtual_sources_to_ignore'], value=('external_S1nonbarrel_neurons__S1nonbarrel_neurons__chemical',)), SingleValueScanParam(type='SingleValueScanParam', location_list=['neuron_set', 'neuron1_filter'], value={'node_set': 'nbS1-HEX0', 'synapse_class': 'EXC', 'layer': '4'}), SingleValueScanParam(type='SingleValueScanParam', location_list=['neuron_set', 'neuron2_filter'], value={'node_set': ['nbS1-HEX0', 'hex_O1PV'], 'synapse_class': 'INH', 'layer': '4'})], nested_coordinate_subpath_str=PosixPath('.')), type='CircuitExtraction', initialize=Initialize(type='CircuitExtractions.Initialize', circuit=Circuit(type='Circuit', name='nbS1-O1', path='/Users/pokorny/Data/Circuits/nbS1-O1/circuit_config_postfix2.json', matrix_path='/Users/pokorny/Data/ConnectivityMatrices/nbS1-O1/connectivity_matrix.h5'), run_validation=False, do_virtual=True, create_external=True, virtual_sources_to_ignore=('external_S1nonbarrel_neurons__S1nonbarrel_neurons__chemical',)), neuron_set=PairMotifNeuronSet(type='PairMotifNeuronSet', random_sample=None, random_seed=0, node_population=None, neuron1_filter={'node_set': 'nbS1-HEX0', 'synapse_class': 'EXC', 'layer': '4'}, neuron2_filter={'node_set': ['nbS1-HEX0', 'hex_O1PV'], 'synapse_class': 'INH', 'layer': '4'}, conn_ff_filter={'nsyn': {'gt': 0}}, conn_fb_filter={'nsyn': {'gt': 0}}, pair_selection={'count': 1, 'method': 'max_nsyn_all'}, node_set_list_op='intersect')),\n",
       " CircuitExtraction(idx=5, scan_output_root=PosixPath('.'), coordinate_output_root=PosixPath('.'), single_coordinate_scan_params=SingleCoordinateScanParams(type='SingleCoordinateScanParams', scan_params=[SingleValueScanParam(type='SingleValueScanParam', location_list=['initialize', 'virtual_sources_to_ignore'], value=('external_S1nonbarrel_neurons__S1nonbarrel_neurons__chemical',)), SingleValueScanParam(type='SingleValueScanParam', location_list=['neuron_set', 'neuron1_filter'], value={'node_set': 'nbS1-HEX0', 'synapse_class': 'EXC', 'layer': '4'}), SingleValueScanParam(type='SingleValueScanParam', location_list=['neuron_set', 'neuron2_filter'], value={'node_set': ['nbS1-HEX0', 'hex_O1Sst'], 'synapse_class': 'INH', 'layer': '4'})], nested_coordinate_subpath_str=PosixPath('.')), type='CircuitExtraction', initialize=Initialize(type='CircuitExtractions.Initialize', circuit=Circuit(type='Circuit', name='nbS1-O1', path='/Users/pokorny/Data/Circuits/nbS1-O1/circuit_config_postfix2.json', matrix_path='/Users/pokorny/Data/ConnectivityMatrices/nbS1-O1/connectivity_matrix.h5'), run_validation=False, do_virtual=True, create_external=True, virtual_sources_to_ignore=('external_S1nonbarrel_neurons__S1nonbarrel_neurons__chemical',)), neuron_set=PairMotifNeuronSet(type='PairMotifNeuronSet', random_sample=None, random_seed=0, node_population=None, neuron1_filter={'node_set': 'nbS1-HEX0', 'synapse_class': 'EXC', 'layer': '4'}, neuron2_filter={'node_set': ['nbS1-HEX0', 'hex_O1Sst'], 'synapse_class': 'INH', 'layer': '4'}, conn_ff_filter={'nsyn': {'gt': 0}}, conn_fb_filter={'nsyn': {'gt': 0}}, pair_selection={'count': 1, 'method': 'max_nsyn_all'}, node_set_list_op='intersect')),\n",
       " CircuitExtraction(idx=6, scan_output_root=PosixPath('.'), coordinate_output_root=PosixPath('.'), single_coordinate_scan_params=SingleCoordinateScanParams(type='SingleCoordinateScanParams', scan_params=[SingleValueScanParam(type='SingleValueScanParam', location_list=['initialize', 'virtual_sources_to_ignore'], value=('external_S1nonbarrel_neurons__S1nonbarrel_neurons__chemical',)), SingleValueScanParam(type='SingleValueScanParam', location_list=['neuron_set', 'neuron1_filter'], value={'node_set': 'nbS1-HEX0', 'synapse_class': 'EXC', 'layer': '5'}), SingleValueScanParam(type='SingleValueScanParam', location_list=['neuron_set', 'neuron2_filter'], value={'node_set': ['nbS1-HEX0', 'hex_O1PV'], 'synapse_class': 'INH', 'layer': '5'})], nested_coordinate_subpath_str=PosixPath('.')), type='CircuitExtraction', initialize=Initialize(type='CircuitExtractions.Initialize', circuit=Circuit(type='Circuit', name='nbS1-O1', path='/Users/pokorny/Data/Circuits/nbS1-O1/circuit_config_postfix2.json', matrix_path='/Users/pokorny/Data/ConnectivityMatrices/nbS1-O1/connectivity_matrix.h5'), run_validation=False, do_virtual=True, create_external=True, virtual_sources_to_ignore=('external_S1nonbarrel_neurons__S1nonbarrel_neurons__chemical',)), neuron_set=PairMotifNeuronSet(type='PairMotifNeuronSet', random_sample=None, random_seed=0, node_population=None, neuron1_filter={'node_set': 'nbS1-HEX0', 'synapse_class': 'EXC', 'layer': '5'}, neuron2_filter={'node_set': ['nbS1-HEX0', 'hex_O1PV'], 'synapse_class': 'INH', 'layer': '5'}, conn_ff_filter={'nsyn': {'gt': 0}}, conn_fb_filter={'nsyn': {'gt': 0}}, pair_selection={'count': 1, 'method': 'max_nsyn_all'}, node_set_list_op='intersect')),\n",
       " CircuitExtraction(idx=7, scan_output_root=PosixPath('.'), coordinate_output_root=PosixPath('.'), single_coordinate_scan_params=SingleCoordinateScanParams(type='SingleCoordinateScanParams', scan_params=[SingleValueScanParam(type='SingleValueScanParam', location_list=['initialize', 'virtual_sources_to_ignore'], value=('external_S1nonbarrel_neurons__S1nonbarrel_neurons__chemical',)), SingleValueScanParam(type='SingleValueScanParam', location_list=['neuron_set', 'neuron1_filter'], value={'node_set': 'nbS1-HEX0', 'synapse_class': 'EXC', 'layer': '5'}), SingleValueScanParam(type='SingleValueScanParam', location_list=['neuron_set', 'neuron2_filter'], value={'node_set': ['nbS1-HEX0', 'hex_O1Sst'], 'synapse_class': 'INH', 'layer': '5'})], nested_coordinate_subpath_str=PosixPath('.')), type='CircuitExtraction', initialize=Initialize(type='CircuitExtractions.Initialize', circuit=Circuit(type='Circuit', name='nbS1-O1', path='/Users/pokorny/Data/Circuits/nbS1-O1/circuit_config_postfix2.json', matrix_path='/Users/pokorny/Data/ConnectivityMatrices/nbS1-O1/connectivity_matrix.h5'), run_validation=False, do_virtual=True, create_external=True, virtual_sources_to_ignore=('external_S1nonbarrel_neurons__S1nonbarrel_neurons__chemical',)), neuron_set=PairMotifNeuronSet(type='PairMotifNeuronSet', random_sample=None, random_seed=0, node_population=None, neuron1_filter={'node_set': 'nbS1-HEX0', 'synapse_class': 'EXC', 'layer': '5'}, neuron2_filter={'node_set': ['nbS1-HEX0', 'hex_O1Sst'], 'synapse_class': 'INH', 'layer': '5'}, conn_ff_filter={'nsyn': {'gt': 0}}, conn_fb_filter={'nsyn': {'gt': 0}}, pair_selection={'count': 1, 'method': 'max_nsyn_all'}, node_set_list_op='intersect')),\n",
       " CircuitExtraction(idx=8, scan_output_root=PosixPath('.'), coordinate_output_root=PosixPath('.'), single_coordinate_scan_params=SingleCoordinateScanParams(type='SingleCoordinateScanParams', scan_params=[SingleValueScanParam(type='SingleValueScanParam', location_list=['initialize', 'virtual_sources_to_ignore'], value=('external_S1nonbarrel_neurons__S1nonbarrel_neurons__chemical',)), SingleValueScanParam(type='SingleValueScanParam', location_list=['neuron_set', 'neuron1_filter'], value={'node_set': 'nbS1-HEX0', 'synapse_class': 'EXC', 'layer': '6'}), SingleValueScanParam(type='SingleValueScanParam', location_list=['neuron_set', 'neuron2_filter'], value={'node_set': ['nbS1-HEX0', 'hex_O1PV'], 'synapse_class': 'INH', 'layer': '6'})], nested_coordinate_subpath_str=PosixPath('.')), type='CircuitExtraction', initialize=Initialize(type='CircuitExtractions.Initialize', circuit=Circuit(type='Circuit', name='nbS1-O1', path='/Users/pokorny/Data/Circuits/nbS1-O1/circuit_config_postfix2.json', matrix_path='/Users/pokorny/Data/ConnectivityMatrices/nbS1-O1/connectivity_matrix.h5'), run_validation=False, do_virtual=True, create_external=True, virtual_sources_to_ignore=('external_S1nonbarrel_neurons__S1nonbarrel_neurons__chemical',)), neuron_set=PairMotifNeuronSet(type='PairMotifNeuronSet', random_sample=None, random_seed=0, node_population=None, neuron1_filter={'node_set': 'nbS1-HEX0', 'synapse_class': 'EXC', 'layer': '6'}, neuron2_filter={'node_set': ['nbS1-HEX0', 'hex_O1PV'], 'synapse_class': 'INH', 'layer': '6'}, conn_ff_filter={'nsyn': {'gt': 0}}, conn_fb_filter={'nsyn': {'gt': 0}}, pair_selection={'count': 1, 'method': 'max_nsyn_all'}, node_set_list_op='intersect')),\n",
       " CircuitExtraction(idx=9, scan_output_root=PosixPath('.'), coordinate_output_root=PosixPath('.'), single_coordinate_scan_params=SingleCoordinateScanParams(type='SingleCoordinateScanParams', scan_params=[SingleValueScanParam(type='SingleValueScanParam', location_list=['initialize', 'virtual_sources_to_ignore'], value=('external_S1nonbarrel_neurons__S1nonbarrel_neurons__chemical', 'POm')), SingleValueScanParam(type='SingleValueScanParam', location_list=['neuron_set', 'neuron1_filter'], value={'node_set': 'nbS1-HEX0', 'synapse_class': 'EXC', 'layer': '6'}), SingleValueScanParam(type='SingleValueScanParam', location_list=['neuron_set', 'neuron2_filter'], value={'node_set': ['nbS1-HEX0', 'hex_O1Sst'], 'synapse_class': 'INH', 'layer': '6'})], nested_coordinate_subpath_str=PosixPath('.')), type='CircuitExtraction', initialize=Initialize(type='CircuitExtractions.Initialize', circuit=Circuit(type='Circuit', name='nbS1-O1', path='/Users/pokorny/Data/Circuits/nbS1-O1/circuit_config_postfix2.json', matrix_path='/Users/pokorny/Data/ConnectivityMatrices/nbS1-O1/connectivity_matrix.h5'), run_validation=False, do_virtual=True, create_external=True, virtual_sources_to_ignore=('external_S1nonbarrel_neurons__S1nonbarrel_neurons__chemical', 'POm')), neuron_set=PairMotifNeuronSet(type='PairMotifNeuronSet', random_sample=None, random_seed=0, node_population=None, neuron1_filter={'node_set': 'nbS1-HEX0', 'synapse_class': 'EXC', 'layer': '6'}, neuron2_filter={'node_set': ['nbS1-HEX0', 'hex_O1Sst'], 'synapse_class': 'INH', 'layer': '6'}, conn_ff_filter={'nsyn': {'gt': 0}}, conn_fb_filter={'nsyn': {'gt': 0}}, pair_selection={'count': 1, 'method': 'max_nsyn_all'}, node_set_list_op='intersect'))]"
      ]
     },
     "execution_count": 114,
     "metadata": {},
     "output_type": "execute_result"
    }
   ],
   "source": [
    "# Display the intermediary data\n",
    "coupled_scan.multiple_value_parameters(display=True)\n",
    "coupled_scan.coordinate_parameters(display=True)\n",
    "coupled_scan.coordinate_instances(display=True)"
   ]
  },
  {
   "cell_type": "code",
   "execution_count": 108,
   "metadata": {},
   "outputs": [
    {
     "name": "stdout",
     "output_type": "stream",
     "text": [
      "[2025-06-17 11:15:26,540] INFO: None\n",
      "Extracting subcircuit from 'nbS1-O1'\n",
      "Copying morphologies for population 'S1nonbarrel_neurons' (2)\n"
     ]
    },
    {
     "name": "stderr",
     "output_type": "stream",
     "text": [
      "Copying containerized .h5 morphologies: 100%|████████████████████████████████████████████████████| 2/2 [00:00<00:00, 420.17it/s]"
     ]
    },
    {
     "name": "stdout",
     "output_type": "stream",
     "text": [
      "Copied 2 morphologies into container (0 already existed)\n",
      "Copying 2 biophysical neuron models (.hoc) for population 'S1nonbarrel_neurons' (2)\n",
      "Copying mod files\n",
      "Extraction DONE\n",
      "[2025-06-17 11:18:11,477] INFO: create_bbp_workflow_campaign_config() not yet complete.\n"
     ]
    },
    {
     "name": "stderr",
     "output_type": "stream",
     "text": [
      "\n"
     ]
    },
    {
     "data": {
      "text/plain": [
       "{0: None}"
      ]
     },
     "execution_count": 108,
     "metadata": {},
     "output_type": "execute_result"
    }
   ],
   "source": [
    "coupled_scan.execute(processing_method='run')"
   ]
  },
  {
   "cell_type": "code",
   "execution_count": 115,
   "metadata": {},
   "outputs": [
    {
     "name": "stdout",
     "output_type": "stream",
     "text": [
      "ErcI-hex_O1PV-nbS1-HEX0-L2 >>> 2 neurons, 83 (FF 21, FB 62) synapses, m-types: ['L2_IPC', 'L23_LBC']\n",
      "ErcI-hex_O1Sst-nbS1-HEX0-L2>>> 2 neurons, 56 (FF 30, FB 26) synapses, m-types: ['L2_IPC', 'L23_MC']\n",
      "ErcI-hex_O1PV-nbS1-HEX0-L3 >>> 2 neurons, 91 (FF 10, FB 81) synapses, m-types: ['L3_TPC:A', 'L23_NBC']\n",
      "ErcI-hex_O1Sst-nbS1-HEX0-L3>>> 2 neurons, 102 (FF 11, FB 91) synapses, m-types: ['L3_TPC:A', 'L23_MC']\n",
      "ErcI-hex_O1PV-nbS1-HEX0-L4 >>> 2 neurons, 84 (FF 16, FB 68) synapses, m-types: ['L4_SSC', 'L4_LBC']\n",
      "ErcI-hex_O1Sst-nbS1-HEX0-L4>>> 2 neurons, 63 (FF 9, FB 54) synapses, m-types: ['L4_UPC', 'L4_MC']\n",
      "ErcI-hex_O1PV-nbS1-HEX0-L5 >>> 2 neurons, 123 (FF 17, FB 106) synapses, m-types: ['L5_TPC:A', 'L5_NBC']\n",
      "ErcI-hex_O1Sst-nbS1-HEX0-L5>>> 2 neurons, 81 (FF 23, FB 58) synapses, m-types: ['L5_TPC:A', 'L5_BTC']\n",
      "ErcI-hex_O1PV-nbS1-HEX0-L6 >>> 2 neurons, 89 (FF 10, FB 79) synapses, m-types: ['L6_TPC:C', 'L6_NBC']\n",
      "ErcI-hex_O1Sst-nbS1-HEX0-L6>>> 2 neurons, 73 (FF 21, FB 52) synapses, m-types: ['L6_BPC', 'L6_MC']\n"
     ]
    }
   ],
   "source": [
    "# Check circuits\n",
    "import json\n",
    "from bluepysnap import Circuit\n",
    "\n",
    "c = circuit.sonata_circuit\n",
    "nodes = c.nodes[\"S1nonbarrel_neurons\"]\n",
    "hex0_ids = nodes.ids(\"nbS1-HEX0\")\n",
    "\n",
    "for _idx, _inst in enumerate(coupled_scan.coordinate_instances()):\n",
    "    cfg = coupled_scan.output_root / str(_idx) / \"circuit_config.json\"\n",
    "    c = Circuit(cfg)\n",
    "    with open(coupled_scan.output_root / str(_idx) / \"id_mapping.json\", \"r\") as f:\n",
    "        id_map = json.load(f)\n",
    "    parent_ids = id_map[\"S1nonbarrel_neurons\"][\"parent_id\"]\n",
    "    assert np.all(np.isin(parent_ids, hex0_ids))\n",
    "\n",
    "    nodes = c.nodes['S1nonbarrel_neurons']\n",
    "    edges = c.edges[\"S1nonbarrel_neurons__S1nonbarrel_neurons__chemical\"]\n",
    "    nids = np.hstack([nodes.ids({\"synapse_class\": \"EXC\"}), nodes.ids({\"synapse_class\": \"INH\"})])\n",
    "    print(f\"{names[_idx]:27s}>>> {nodes.size} neurons, {edges.size} (FF {len(edges.pathway_edges(source=nids[0], target=nids[1]))}, FB {len(edges.pathway_edges(source=nids[1], target=nids[0]))}) synapses, m-types: {nodes.get(nids, properties=['mtype']).to_numpy().flatten().tolist()}\")\n",
    "\n"
   ]
  },
  {
   "cell_type": "code",
   "execution_count": null,
   "metadata": {},
   "outputs": [],
   "source": []
  }
 ],
 "metadata": {
  "kernelspec": {
   "display_name": "obi-one",
   "language": "python",
   "name": "obi-one"
  },
  "language_info": {
   "codemirror_mode": {
    "name": "ipython",
    "version": 3
   },
   "file_extension": ".py",
   "mimetype": "text/x-python",
   "name": "python",
   "nbconvert_exporter": "python",
   "pygments_lexer": "ipython3",
   "version": "3.12.9"
  }
 },
 "nbformat": 4,
 "nbformat_minor": 4
}
