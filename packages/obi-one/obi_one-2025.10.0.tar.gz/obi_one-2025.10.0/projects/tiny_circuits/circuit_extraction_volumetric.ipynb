{
 "cells": [
  {
   "cell_type": "code",
   "execution_count": 1,
   "metadata": {},
   "outputs": [],
   "source": [
    "import numpy as np\n",
    "import obi_one as obi\n",
    "import os\n",
    "import pandas as pd\n",
    "from conntility.connectivity import ConnectivityMatrix"
   ]
  },
  {
   "cell_type": "code",
   "execution_count": 2,
   "metadata": {},
   "outputs": [],
   "source": [
    "input_root = \"/Users/pokorny/Data/Circuits\"\n",
    "cmat_root = \"/Users/pokorny/Data/ConnectivityMatrices\"\n",
    "output_root = \"../../../obi-output/extracted_small_microcircuits_volumetric\""
   ]
  },
  {
   "cell_type": "code",
   "execution_count": 3,
   "metadata": {},
   "outputs": [],
   "source": [
    "# Compute population centroid\n",
    "circuit = obi.Circuit(name=\"nbS1-O1\", path=os.path.join(input_root, \"nbS1-O1\", \"circuit_config_postfix2.json\"))\n",
    "c = circuit.sonata_circuit\n",
    "nodes = c.nodes[circuit.default_population_name]\n",
    "population_centroid = nodes.positions().mean()"
   ]
  },
  {
   "cell_type": "code",
   "execution_count": 4,
   "metadata": {},
   "outputs": [],
   "source": [
    "# nbS1-O1 - Central neurons in connectivity\n",
    "df_sel = pd.read_pickle(\"Top10CentralNeurons_Layer_Hex.pkl\")  # (Contains neuron IDs relative to nbS1-HEXn)\n",
    "df_opt = pd.read_pickle(\"Top10CentralNeurons_Layer_Hex_OptIDX.pkl\")\n",
    "\n",
    "# Load x/y/z positions from connectivity matrix and select best neuron in each layer\n",
    "base_name = \"nbS1\"\n",
    "hex_sel = \"hex0\"\n",
    "layers = range(1, 7)\n",
    "cmat = ConnectivityMatrix.from_h5(os.path.join(cmat_root, f\"{base_name}-{hex_sel.upper()}\", \"connectivity_matrix.h5\"))\n",
    "ntab = cmat.vertices.set_index(\"node_ids\")\n",
    "\n",
    "xyz_selection = []\n",
    "for _lay in layers:\n",
    "    opt_idx = df_opt.loc[(hex_sel, _lay)][\"pos\"]\n",
    "    node_id = df_sel[(\"hex0\", _lay)].iloc[opt_idx].tolist()\n",
    "    xyz_selection.append(ntab.loc[node_id][[\"x\", \"y\", \"z\"]].astype(float).to_list())\n",
    "    assert ntab.loc[node_id][\"layer\"] == str(_lay), \"ERROR: Layer mismatch!\"\n",
    "xyz_selection = pd.DataFrame(xyz_selection, columns=[\"x\", \"y\", \"z\"], index=layers) - population_centroid  # Relative to population centroid\n",
    "xyz_selection.index.name = \"layer\""
   ]
  },
  {
   "cell_type": "code",
   "execution_count": 5,
   "metadata": {},
   "outputs": [
    {
     "name": "stderr",
     "output_type": "stream",
     "text": [
      "/var/folders/5m/dt9zn2xs6ksczy18674h6ryc0000gn/T/ipykernel_47511/3852920299.py:7: FutureWarning: The default of observed=False is deprecated and will be changed to True in a future version of pandas. Pass observed=False to retain current behavior or observed=True to adopt the future default and silence this warning.\n",
      "  layer_centers = pos_tab.groupby(\"layer\").mean()\n"
     ]
    }
   ],
   "source": [
    "# nbS1-O1 - Central neurons in space\n",
    "hex_sel = \"hex0\"\n",
    "layers = range(1, 7)\n",
    "\n",
    "# Compute layer centers\n",
    "pos_tab = nodes.get(\"hex0\", properties=[\"layer\", \"x\", \"y\", \"z\"])\n",
    "layer_centers = pos_tab.groupby(\"layer\").mean()\n",
    "layer_centers.index = layer_centers.index.astype(int)\n",
    "layer_centers = layer_centers.loc[layers]\n",
    "\n",
    "# Find position of closest neurons to layer centers\n",
    "xyz_selection_space = []\n",
    "for _lay in layers:\n",
    "    sel_idx = np.argmin(np.sum((pos_tab[[\"x\", \"y\", \"z\"]] - layer_centers.loc[_lay])**2, 1))\n",
    "    xyz_selection_space.append(pos_tab.iloc[sel_idx][[\"x\", \"y\", \"z\"]].astype(float).to_list())\n",
    "xyz_selection_space = pd.DataFrame(xyz_selection_space, columns=[\"x\", \"y\", \"z\"], index=layers) - population_centroid  # Relative to population centroid\n",
    "xyz_selection_space.index.name = \"layer\""
   ]
  },
  {
   "cell_type": "code",
   "execution_count": 6,
   "metadata": {},
   "outputs": [],
   "source": [
    "# Set up volumetric neuron sets\n",
    "\n",
    "# # (1) Centered around a central neurons in the network's connectivity\n",
    "# N = 10\n",
    "# volumetric_neuron_sets = obi.VolumetricCountNeuronSet(ox=xyz_selection[\"x\"].to_list(), oy=xyz_selection[\"y\"].to_list(), oz=xyz_selection[\"z\"].to_list(), n=N,\n",
    "#                                                       property_filter=obi.scientific.circuit.neuron_sets.NeuronPropertyFilter(filter_dict={}))\n",
    "# virtual_sources_to_ignore = [(\"external_S1nonbarrel_neurons__S1nonbarrel_neurons__chemical\", \"VPM\") if _lay == 1 else (\"external_S1nonbarrel_neurons__S1nonbarrel_neurons__chemical\", ) for _lay in layers]\n",
    "# output_path = os.path.join(output_root, \"nCN\")\n",
    "\n",
    "# (2) Centered around a central neurons in space\n",
    "N = 10\n",
    "volumetric_neuron_sets = obi.VolumetricCountNeuronSet(ox=xyz_selection_space[\"x\"].to_list(), oy=xyz_selection_space[\"y\"].to_list(), oz=xyz_selection_space[\"z\"].to_list(), n=N,\n",
    "                                                      property_filter=obi.scientific.circuit.neuron_sets.NeuronPropertyFilter(filter_dict={}))\n",
    "virtual_sources_to_ignore = [(\"external_S1nonbarrel_neurons__S1nonbarrel_neurons__chemical\", \"VPM\") if _lay == 1 else (\"external_S1nonbarrel_neurons__S1nonbarrel_neurons__chemical\", ) for _lay in layers]\n",
    "output_path = os.path.join(output_root, \"sCN\")"
   ]
  },
  {
   "cell_type": "code",
   "execution_count": 6,
   "metadata": {},
   "outputs": [],
   "source": [
    "# # nbS1-O1 - PLOTTING (Central in connectivity)\n",
    "# import matplotlib.pyplot as plt\n",
    "\n",
    "# # cmat_O1 = ConnectivityMatrix.from_h5(os.path.join(cmat_root, f\"{base_name}-O1\", \"connectivity_matrix.h5\"))\n",
    "\n",
    "# # Load x/y/z positions from connectivity matrix\n",
    "# base_name = \"nbS1\"\n",
    "# plt.figure()\n",
    "# for hex_sel in [f\"hex{_i}\" for _i in range(7)]:\n",
    "#     cmat = ConnectivityMatrix.from_h5(os.path.join(cmat_root, f\"{base_name}-{hex_sel.upper()}\", \"connectivity_matrix.h5\"))\n",
    "#     plt.plot(cmat.vertices[\"y\"], cmat.vertices[\"z\"], '.')\n",
    "# # plt.plot(cmat_O1.vertices[\"y\"], cmat_O1.vertices[\"z\"], ',k')\n",
    "# # plt.plot(xyz_selection[\"y\"], xyz_selection[\"z\"], \"xk\")\n",
    "# plt.show()\n",
    "\n",
    "# # df_sel[(\"hex0\", 1)]"
   ]
  },
  {
   "cell_type": "code",
   "execution_count": 8,
   "metadata": {},
   "outputs": [],
   "source": [
    "# # PLOTTING (Central in space)\n",
    "# import matplotlib.pyplot as plt\n",
    "\n",
    "# plt.figure()\n",
    "# for _lay in layers:\n",
    "#     plt.plot(pos_tab[pos_tab[\"layer\"] == str(_lay)][\"x\"] - population_centroid.loc[\"x\"], pos_tab[pos_tab[\"layer\"] == str(_lay)][\"y\"] - population_centroid.loc[\"y\"], \".\")\n",
    "# for _lay in layers:\n",
    "#     plt.plot(xyz_selection_space.loc[_lay][\"x\"], xyz_selection_space.loc[_lay][\"y\"], \"*k\")\n",
    "# plt.show()"
   ]
  },
  {
   "cell_type": "code",
   "execution_count": 9,
   "metadata": {},
   "outputs": [],
   "source": [
    "circuit_extractions_form = obi.CircuitExtractions(\n",
    "                    initialize=obi.CircuitExtractions.Initialize(\n",
    "                        circuit=circuit,\n",
    "                        run_validation=False,\n",
    "                        do_virtual=True,\n",
    "                        create_external=True,\n",
    "                        virtual_sources_to_ignore=virtual_sources_to_ignore,\n",
    "                    ),\n",
    "                    # neuron_set=obi.PredefinedNeuronSet(node_set=[\"Excitatory\", \"Inhibitory\"], random_sample=[100, 500]),\n",
    "                    # neuron_set=obi.PredefinedNeuronSet(node_set=[\"Layer2\", \"Layer3\", \"Layer4\", \"Layer5\", \"Layer6\"], random_sample=10),\n",
    "                    # neuron_set=obi.IDNeuronSet(neuron_ids=node_id_lists),\n",
    "                    neuron_set=volumetric_neuron_sets\n",
    ")\n",
    "\n",
    "coupled_scan = obi.CoupledScan(form=circuit_extractions_form, output_root=output_path, coordinate_directory_option=\"ZERO_INDEX\")"
   ]
  },
  {
   "cell_type": "code",
   "execution_count": 10,
   "metadata": {},
   "outputs": [
    {
     "name": "stdout",
     "output_type": "stream",
     "text": [
      "[2025-06-17 13:33:29,800] INFO: \n",
      "MULTIPLE VALUE PARAMETERS\n",
      "[2025-06-17 13:33:29,803] INFO: initialize.virtual_sources_to_ignore: [('external_S1nonbarrel_neurons__S1nonbarrel_neurons__chemical', 'VPM'), ('external_S1nonbarrel_neurons__S1nonbarrel_neurons__chemical',), ('external_S1nonbarrel_neurons__S1nonbarrel_neurons__chemical',), ('external_S1nonbarrel_neurons__S1nonbarrel_neurons__chemical',), ('external_S1nonbarrel_neurons__S1nonbarrel_neurons__chemical',), ('external_S1nonbarrel_neurons__S1nonbarrel_neurons__chemical',)]\n",
      "[2025-06-17 13:33:29,803] INFO: neuron_set.ox: [536.7723752498928, 456.7532512197463, 313.3539132193323, 167.75904955575197, -41.48441166992461, -404.24438343671363]\n",
      "[2025-06-17 13:33:29,804] INFO: neuron_set.oy: [-153.9048518204288, -120.451012424375, -84.2362471629474, -39.53695179386955, 21.394159650640404, 98.35934257433678]\n",
      "[2025-06-17 13:33:29,804] INFO: neuron_set.oz: [733.6345807499231, 603.0905432415154, 434.6597197208482, 212.74385912901107, -44.34403473424072, -520.1239239224496]\n",
      "[2025-06-17 13:33:29,806] INFO: \n",
      "COORDINATE PARAMETERS\n",
      "[2025-06-17 13:33:29,806] INFO: initialize.virtual_sources_to_ignore: ('external_S1nonbarrel_neurons__S1nonbarrel_neurons__chemical', 'VPM'), neuron_set.ox: 536.7723752498928, neuron_set.oy: -153.9048518204288, neuron_set.oz: 733.6345807499231\n",
      "[2025-06-17 13:33:29,807] INFO: initialize.virtual_sources_to_ignore: ('external_S1nonbarrel_neurons__S1nonbarrel_neurons__chemical',), neuron_set.ox: 456.7532512197463, neuron_set.oy: -120.451012424375, neuron_set.oz: 603.0905432415154\n",
      "[2025-06-17 13:33:29,807] INFO: initialize.virtual_sources_to_ignore: ('external_S1nonbarrel_neurons__S1nonbarrel_neurons__chemical',), neuron_set.ox: 313.3539132193323, neuron_set.oy: -84.2362471629474, neuron_set.oz: 434.6597197208482\n",
      "[2025-06-17 13:33:29,807] INFO: initialize.virtual_sources_to_ignore: ('external_S1nonbarrel_neurons__S1nonbarrel_neurons__chemical',), neuron_set.ox: 167.75904955575197, neuron_set.oy: -39.53695179386955, neuron_set.oz: 212.74385912901107\n",
      "[2025-06-17 13:33:29,808] INFO: initialize.virtual_sources_to_ignore: ('external_S1nonbarrel_neurons__S1nonbarrel_neurons__chemical',), neuron_set.ox: -41.48441166992461, neuron_set.oy: 21.394159650640404, neuron_set.oz: -44.34403473424072\n",
      "[2025-06-17 13:33:29,808] INFO: initialize.virtual_sources_to_ignore: ('external_S1nonbarrel_neurons__S1nonbarrel_neurons__chemical',), neuron_set.ox: -404.24438343671363, neuron_set.oy: 98.35934257433678, neuron_set.oz: -520.1239239224496\n",
      "[2025-06-17 13:33:29,810] INFO: \n",
      "COORDINATE INSTANCES\n",
      "[2025-06-17 13:33:29,811] INFO: CircuitExtraction(idx=0, scan_output_root=PosixPath('.'), coordinate_output_root=PosixPath('.'), single_coordinate_scan_params=SingleCoordinateScanParams(type='SingleCoordinateScanParams', scan_params=[SingleValueScanParam(type='SingleValueScanParam', location_list=['initialize', 'virtual_sources_to_ignore'], value=('external_S1nonbarrel_neurons__S1nonbarrel_neurons__chemical', 'VPM')), SingleValueScanParam(type='SingleValueScanParam', location_list=['neuron_set', 'ox'], value=536.7723752498928), SingleValueScanParam(type='SingleValueScanParam', location_list=['neuron_set', 'oy'], value=-153.9048518204288), SingleValueScanParam(type='SingleValueScanParam', location_list=['neuron_set', 'oz'], value=733.6345807499231)], nested_coordinate_subpath_str=PosixPath('.')), type='CircuitExtraction', initialize=Initialize(type='CircuitExtractions.Initialize', circuit=Circuit(type='Circuit', name='nbS1-O1', path='/Users/pokorny/Data/Circuits/nbS1-O1/circuit_config_postfix2.json', matrix_path=None), run_validation=False, do_virtual=True, create_external=True, virtual_sources_to_ignore=('external_S1nonbarrel_neurons__S1nonbarrel_neurons__chemical', 'VPM')), neuron_set=VolumetricCountNeuronSet(type='VolumetricCountNeuronSet', random_sample=None, random_seed=0, node_population=None, property_filter=NoFilter, node_sets=(), ox=536.7723752498928, oy=-153.9048518204288, oz=733.6345807499231, n=10, columns_xyz=('x', 'y', 'z')))\n",
      "[2025-06-17 13:33:29,811] INFO: CircuitExtraction(idx=1, scan_output_root=PosixPath('.'), coordinate_output_root=PosixPath('.'), single_coordinate_scan_params=SingleCoordinateScanParams(type='SingleCoordinateScanParams', scan_params=[SingleValueScanParam(type='SingleValueScanParam', location_list=['initialize', 'virtual_sources_to_ignore'], value=('external_S1nonbarrel_neurons__S1nonbarrel_neurons__chemical',)), SingleValueScanParam(type='SingleValueScanParam', location_list=['neuron_set', 'ox'], value=456.7532512197463), SingleValueScanParam(type='SingleValueScanParam', location_list=['neuron_set', 'oy'], value=-120.451012424375), SingleValueScanParam(type='SingleValueScanParam', location_list=['neuron_set', 'oz'], value=603.0905432415154)], nested_coordinate_subpath_str=PosixPath('.')), type='CircuitExtraction', initialize=Initialize(type='CircuitExtractions.Initialize', circuit=Circuit(type='Circuit', name='nbS1-O1', path='/Users/pokorny/Data/Circuits/nbS1-O1/circuit_config_postfix2.json', matrix_path=None), run_validation=False, do_virtual=True, create_external=True, virtual_sources_to_ignore=('external_S1nonbarrel_neurons__S1nonbarrel_neurons__chemical',)), neuron_set=VolumetricCountNeuronSet(type='VolumetricCountNeuronSet', random_sample=None, random_seed=0, node_population=None, property_filter=NoFilter, node_sets=(), ox=456.7532512197463, oy=-120.451012424375, oz=603.0905432415154, n=10, columns_xyz=('x', 'y', 'z')))\n",
      "[2025-06-17 13:33:29,812] INFO: CircuitExtraction(idx=2, scan_output_root=PosixPath('.'), coordinate_output_root=PosixPath('.'), single_coordinate_scan_params=SingleCoordinateScanParams(type='SingleCoordinateScanParams', scan_params=[SingleValueScanParam(type='SingleValueScanParam', location_list=['initialize', 'virtual_sources_to_ignore'], value=('external_S1nonbarrel_neurons__S1nonbarrel_neurons__chemical',)), SingleValueScanParam(type='SingleValueScanParam', location_list=['neuron_set', 'ox'], value=313.3539132193323), SingleValueScanParam(type='SingleValueScanParam', location_list=['neuron_set', 'oy'], value=-84.2362471629474), SingleValueScanParam(type='SingleValueScanParam', location_list=['neuron_set', 'oz'], value=434.6597197208482)], nested_coordinate_subpath_str=PosixPath('.')), type='CircuitExtraction', initialize=Initialize(type='CircuitExtractions.Initialize', circuit=Circuit(type='Circuit', name='nbS1-O1', path='/Users/pokorny/Data/Circuits/nbS1-O1/circuit_config_postfix2.json', matrix_path=None), run_validation=False, do_virtual=True, create_external=True, virtual_sources_to_ignore=('external_S1nonbarrel_neurons__S1nonbarrel_neurons__chemical',)), neuron_set=VolumetricCountNeuronSet(type='VolumetricCountNeuronSet', random_sample=None, random_seed=0, node_population=None, property_filter=NoFilter, node_sets=(), ox=313.3539132193323, oy=-84.2362471629474, oz=434.6597197208482, n=10, columns_xyz=('x', 'y', 'z')))\n",
      "[2025-06-17 13:33:29,812] INFO: CircuitExtraction(idx=3, scan_output_root=PosixPath('.'), coordinate_output_root=PosixPath('.'), single_coordinate_scan_params=SingleCoordinateScanParams(type='SingleCoordinateScanParams', scan_params=[SingleValueScanParam(type='SingleValueScanParam', location_list=['initialize', 'virtual_sources_to_ignore'], value=('external_S1nonbarrel_neurons__S1nonbarrel_neurons__chemical',)), SingleValueScanParam(type='SingleValueScanParam', location_list=['neuron_set', 'ox'], value=167.75904955575197), SingleValueScanParam(type='SingleValueScanParam', location_list=['neuron_set', 'oy'], value=-39.53695179386955), SingleValueScanParam(type='SingleValueScanParam', location_list=['neuron_set', 'oz'], value=212.74385912901107)], nested_coordinate_subpath_str=PosixPath('.')), type='CircuitExtraction', initialize=Initialize(type='CircuitExtractions.Initialize', circuit=Circuit(type='Circuit', name='nbS1-O1', path='/Users/pokorny/Data/Circuits/nbS1-O1/circuit_config_postfix2.json', matrix_path=None), run_validation=False, do_virtual=True, create_external=True, virtual_sources_to_ignore=('external_S1nonbarrel_neurons__S1nonbarrel_neurons__chemical',)), neuron_set=VolumetricCountNeuronSet(type='VolumetricCountNeuronSet', random_sample=None, random_seed=0, node_population=None, property_filter=NoFilter, node_sets=(), ox=167.75904955575197, oy=-39.53695179386955, oz=212.74385912901107, n=10, columns_xyz=('x', 'y', 'z')))\n",
      "[2025-06-17 13:33:29,813] INFO: CircuitExtraction(idx=4, scan_output_root=PosixPath('.'), coordinate_output_root=PosixPath('.'), single_coordinate_scan_params=SingleCoordinateScanParams(type='SingleCoordinateScanParams', scan_params=[SingleValueScanParam(type='SingleValueScanParam', location_list=['initialize', 'virtual_sources_to_ignore'], value=('external_S1nonbarrel_neurons__S1nonbarrel_neurons__chemical',)), SingleValueScanParam(type='SingleValueScanParam', location_list=['neuron_set', 'ox'], value=-41.48441166992461), SingleValueScanParam(type='SingleValueScanParam', location_list=['neuron_set', 'oy'], value=21.394159650640404), SingleValueScanParam(type='SingleValueScanParam', location_list=['neuron_set', 'oz'], value=-44.34403473424072)], nested_coordinate_subpath_str=PosixPath('.')), type='CircuitExtraction', initialize=Initialize(type='CircuitExtractions.Initialize', circuit=Circuit(type='Circuit', name='nbS1-O1', path='/Users/pokorny/Data/Circuits/nbS1-O1/circuit_config_postfix2.json', matrix_path=None), run_validation=False, do_virtual=True, create_external=True, virtual_sources_to_ignore=('external_S1nonbarrel_neurons__S1nonbarrel_neurons__chemical',)), neuron_set=VolumetricCountNeuronSet(type='VolumetricCountNeuronSet', random_sample=None, random_seed=0, node_population=None, property_filter=NoFilter, node_sets=(), ox=-41.48441166992461, oy=21.394159650640404, oz=-44.34403473424072, n=10, columns_xyz=('x', 'y', 'z')))\n",
      "[2025-06-17 13:33:29,813] INFO: CircuitExtraction(idx=5, scan_output_root=PosixPath('.'), coordinate_output_root=PosixPath('.'), single_coordinate_scan_params=SingleCoordinateScanParams(type='SingleCoordinateScanParams', scan_params=[SingleValueScanParam(type='SingleValueScanParam', location_list=['initialize', 'virtual_sources_to_ignore'], value=('external_S1nonbarrel_neurons__S1nonbarrel_neurons__chemical',)), SingleValueScanParam(type='SingleValueScanParam', location_list=['neuron_set', 'ox'], value=-404.24438343671363), SingleValueScanParam(type='SingleValueScanParam', location_list=['neuron_set', 'oy'], value=98.35934257433678), SingleValueScanParam(type='SingleValueScanParam', location_list=['neuron_set', 'oz'], value=-520.1239239224496)], nested_coordinate_subpath_str=PosixPath('.')), type='CircuitExtraction', initialize=Initialize(type='CircuitExtractions.Initialize', circuit=Circuit(type='Circuit', name='nbS1-O1', path='/Users/pokorny/Data/Circuits/nbS1-O1/circuit_config_postfix2.json', matrix_path=None), run_validation=False, do_virtual=True, create_external=True, virtual_sources_to_ignore=('external_S1nonbarrel_neurons__S1nonbarrel_neurons__chemical',)), neuron_set=VolumetricCountNeuronSet(type='VolumetricCountNeuronSet', random_sample=None, random_seed=0, node_population=None, property_filter=NoFilter, node_sets=(), ox=-404.24438343671363, oy=98.35934257433678, oz=-520.1239239224496, n=10, columns_xyz=('x', 'y', 'z')))\n"
     ]
    },
    {
     "data": {
      "text/plain": [
       "[CircuitExtraction(idx=0, scan_output_root=PosixPath('.'), coordinate_output_root=PosixPath('.'), single_coordinate_scan_params=SingleCoordinateScanParams(type='SingleCoordinateScanParams', scan_params=[SingleValueScanParam(type='SingleValueScanParam', location_list=['initialize', 'virtual_sources_to_ignore'], value=('external_S1nonbarrel_neurons__S1nonbarrel_neurons__chemical', 'VPM')), SingleValueScanParam(type='SingleValueScanParam', location_list=['neuron_set', 'ox'], value=536.7723752498928), SingleValueScanParam(type='SingleValueScanParam', location_list=['neuron_set', 'oy'], value=-153.9048518204288), SingleValueScanParam(type='SingleValueScanParam', location_list=['neuron_set', 'oz'], value=733.6345807499231)], nested_coordinate_subpath_str=PosixPath('.')), type='CircuitExtraction', initialize=Initialize(type='CircuitExtractions.Initialize', circuit=Circuit(type='Circuit', name='nbS1-O1', path='/Users/pokorny/Data/Circuits/nbS1-O1/circuit_config_postfix2.json', matrix_path=None), run_validation=False, do_virtual=True, create_external=True, virtual_sources_to_ignore=('external_S1nonbarrel_neurons__S1nonbarrel_neurons__chemical', 'VPM')), neuron_set=VolumetricCountNeuronSet(type='VolumetricCountNeuronSet', random_sample=None, random_seed=0, node_population=None, property_filter=NoFilter, node_sets=(), ox=536.7723752498928, oy=-153.9048518204288, oz=733.6345807499231, n=10, columns_xyz=('x', 'y', 'z'))),\n",
       " CircuitExtraction(idx=1, scan_output_root=PosixPath('.'), coordinate_output_root=PosixPath('.'), single_coordinate_scan_params=SingleCoordinateScanParams(type='SingleCoordinateScanParams', scan_params=[SingleValueScanParam(type='SingleValueScanParam', location_list=['initialize', 'virtual_sources_to_ignore'], value=('external_S1nonbarrel_neurons__S1nonbarrel_neurons__chemical',)), SingleValueScanParam(type='SingleValueScanParam', location_list=['neuron_set', 'ox'], value=456.7532512197463), SingleValueScanParam(type='SingleValueScanParam', location_list=['neuron_set', 'oy'], value=-120.451012424375), SingleValueScanParam(type='SingleValueScanParam', location_list=['neuron_set', 'oz'], value=603.0905432415154)], nested_coordinate_subpath_str=PosixPath('.')), type='CircuitExtraction', initialize=Initialize(type='CircuitExtractions.Initialize', circuit=Circuit(type='Circuit', name='nbS1-O1', path='/Users/pokorny/Data/Circuits/nbS1-O1/circuit_config_postfix2.json', matrix_path=None), run_validation=False, do_virtual=True, create_external=True, virtual_sources_to_ignore=('external_S1nonbarrel_neurons__S1nonbarrel_neurons__chemical',)), neuron_set=VolumetricCountNeuronSet(type='VolumetricCountNeuronSet', random_sample=None, random_seed=0, node_population=None, property_filter=NoFilter, node_sets=(), ox=456.7532512197463, oy=-120.451012424375, oz=603.0905432415154, n=10, columns_xyz=('x', 'y', 'z'))),\n",
       " CircuitExtraction(idx=2, scan_output_root=PosixPath('.'), coordinate_output_root=PosixPath('.'), single_coordinate_scan_params=SingleCoordinateScanParams(type='SingleCoordinateScanParams', scan_params=[SingleValueScanParam(type='SingleValueScanParam', location_list=['initialize', 'virtual_sources_to_ignore'], value=('external_S1nonbarrel_neurons__S1nonbarrel_neurons__chemical',)), SingleValueScanParam(type='SingleValueScanParam', location_list=['neuron_set', 'ox'], value=313.3539132193323), SingleValueScanParam(type='SingleValueScanParam', location_list=['neuron_set', 'oy'], value=-84.2362471629474), SingleValueScanParam(type='SingleValueScanParam', location_list=['neuron_set', 'oz'], value=434.6597197208482)], nested_coordinate_subpath_str=PosixPath('.')), type='CircuitExtraction', initialize=Initialize(type='CircuitExtractions.Initialize', circuit=Circuit(type='Circuit', name='nbS1-O1', path='/Users/pokorny/Data/Circuits/nbS1-O1/circuit_config_postfix2.json', matrix_path=None), run_validation=False, do_virtual=True, create_external=True, virtual_sources_to_ignore=('external_S1nonbarrel_neurons__S1nonbarrel_neurons__chemical',)), neuron_set=VolumetricCountNeuronSet(type='VolumetricCountNeuronSet', random_sample=None, random_seed=0, node_population=None, property_filter=NoFilter, node_sets=(), ox=313.3539132193323, oy=-84.2362471629474, oz=434.6597197208482, n=10, columns_xyz=('x', 'y', 'z'))),\n",
       " CircuitExtraction(idx=3, scan_output_root=PosixPath('.'), coordinate_output_root=PosixPath('.'), single_coordinate_scan_params=SingleCoordinateScanParams(type='SingleCoordinateScanParams', scan_params=[SingleValueScanParam(type='SingleValueScanParam', location_list=['initialize', 'virtual_sources_to_ignore'], value=('external_S1nonbarrel_neurons__S1nonbarrel_neurons__chemical',)), SingleValueScanParam(type='SingleValueScanParam', location_list=['neuron_set', 'ox'], value=167.75904955575197), SingleValueScanParam(type='SingleValueScanParam', location_list=['neuron_set', 'oy'], value=-39.53695179386955), SingleValueScanParam(type='SingleValueScanParam', location_list=['neuron_set', 'oz'], value=212.74385912901107)], nested_coordinate_subpath_str=PosixPath('.')), type='CircuitExtraction', initialize=Initialize(type='CircuitExtractions.Initialize', circuit=Circuit(type='Circuit', name='nbS1-O1', path='/Users/pokorny/Data/Circuits/nbS1-O1/circuit_config_postfix2.json', matrix_path=None), run_validation=False, do_virtual=True, create_external=True, virtual_sources_to_ignore=('external_S1nonbarrel_neurons__S1nonbarrel_neurons__chemical',)), neuron_set=VolumetricCountNeuronSet(type='VolumetricCountNeuronSet', random_sample=None, random_seed=0, node_population=None, property_filter=NoFilter, node_sets=(), ox=167.75904955575197, oy=-39.53695179386955, oz=212.74385912901107, n=10, columns_xyz=('x', 'y', 'z'))),\n",
       " CircuitExtraction(idx=4, scan_output_root=PosixPath('.'), coordinate_output_root=PosixPath('.'), single_coordinate_scan_params=SingleCoordinateScanParams(type='SingleCoordinateScanParams', scan_params=[SingleValueScanParam(type='SingleValueScanParam', location_list=['initialize', 'virtual_sources_to_ignore'], value=('external_S1nonbarrel_neurons__S1nonbarrel_neurons__chemical',)), SingleValueScanParam(type='SingleValueScanParam', location_list=['neuron_set', 'ox'], value=-41.48441166992461), SingleValueScanParam(type='SingleValueScanParam', location_list=['neuron_set', 'oy'], value=21.394159650640404), SingleValueScanParam(type='SingleValueScanParam', location_list=['neuron_set', 'oz'], value=-44.34403473424072)], nested_coordinate_subpath_str=PosixPath('.')), type='CircuitExtraction', initialize=Initialize(type='CircuitExtractions.Initialize', circuit=Circuit(type='Circuit', name='nbS1-O1', path='/Users/pokorny/Data/Circuits/nbS1-O1/circuit_config_postfix2.json', matrix_path=None), run_validation=False, do_virtual=True, create_external=True, virtual_sources_to_ignore=('external_S1nonbarrel_neurons__S1nonbarrel_neurons__chemical',)), neuron_set=VolumetricCountNeuronSet(type='VolumetricCountNeuronSet', random_sample=None, random_seed=0, node_population=None, property_filter=NoFilter, node_sets=(), ox=-41.48441166992461, oy=21.394159650640404, oz=-44.34403473424072, n=10, columns_xyz=('x', 'y', 'z'))),\n",
       " CircuitExtraction(idx=5, scan_output_root=PosixPath('.'), coordinate_output_root=PosixPath('.'), single_coordinate_scan_params=SingleCoordinateScanParams(type='SingleCoordinateScanParams', scan_params=[SingleValueScanParam(type='SingleValueScanParam', location_list=['initialize', 'virtual_sources_to_ignore'], value=('external_S1nonbarrel_neurons__S1nonbarrel_neurons__chemical',)), SingleValueScanParam(type='SingleValueScanParam', location_list=['neuron_set', 'ox'], value=-404.24438343671363), SingleValueScanParam(type='SingleValueScanParam', location_list=['neuron_set', 'oy'], value=98.35934257433678), SingleValueScanParam(type='SingleValueScanParam', location_list=['neuron_set', 'oz'], value=-520.1239239224496)], nested_coordinate_subpath_str=PosixPath('.')), type='CircuitExtraction', initialize=Initialize(type='CircuitExtractions.Initialize', circuit=Circuit(type='Circuit', name='nbS1-O1', path='/Users/pokorny/Data/Circuits/nbS1-O1/circuit_config_postfix2.json', matrix_path=None), run_validation=False, do_virtual=True, create_external=True, virtual_sources_to_ignore=('external_S1nonbarrel_neurons__S1nonbarrel_neurons__chemical',)), neuron_set=VolumetricCountNeuronSet(type='VolumetricCountNeuronSet', random_sample=None, random_seed=0, node_population=None, property_filter=NoFilter, node_sets=(), ox=-404.24438343671363, oy=98.35934257433678, oz=-520.1239239224496, n=10, columns_xyz=('x', 'y', 'z')))]"
      ]
     },
     "execution_count": 10,
     "metadata": {},
     "output_type": "execute_result"
    }
   ],
   "source": [
    "# Display the intermediary data\n",
    "coupled_scan.multiple_value_parameters(display=True)\n",
    "coupled_scan.coordinate_parameters(display=True)\n",
    "coupled_scan.coordinate_instances(display=True)"
   ]
  },
  {
   "cell_type": "code",
   "execution_count": 11,
   "metadata": {},
   "outputs": [
    {
     "name": "stdout",
     "output_type": "stream",
     "text": [
      "[2025-06-17 13:33:31,326] INFO: None\n",
      "Extracting subcircuit from 'nbS1-O1'\n",
      "Copying morphologies for population 'S1nonbarrel_neurons' (10)\n"
     ]
    },
    {
     "name": "stderr",
     "output_type": "stream",
     "text": [
      "Copying containerized .h5 morphologies: 100%|██████████████████████████████████████████████████| 10/10 [00:00<00:00, 880.97it/s]"
     ]
    },
    {
     "name": "stdout",
     "output_type": "stream",
     "text": [
      "Copied 10 morphologies into container (0 already existed)\n",
      "Copying 8 biophysical neuron models (.hoc) for population 'S1nonbarrel_neurons' (10)\n",
      "Copying mod files\n",
      "Extraction DONE\n"
     ]
    },
    {
     "name": "stderr",
     "output_type": "stream",
     "text": [
      "\n"
     ]
    },
    {
     "name": "stdout",
     "output_type": "stream",
     "text": [
      "Extracting subcircuit from 'nbS1-O1'\n",
      "Copying morphologies for population 'S1nonbarrel_neurons' (10)\n"
     ]
    },
    {
     "name": "stderr",
     "output_type": "stream",
     "text": [
      "Copying containerized .h5 morphologies: 100%|██████████████████████████████████████████████████| 10/10 [00:00<00:00, 982.99it/s]"
     ]
    },
    {
     "name": "stdout",
     "output_type": "stream",
     "text": [
      "Copied 10 morphologies into container (0 already existed)\n",
      "Copying 2 biophysical neuron models (.hoc) for population 'S1nonbarrel_neurons' (10)\n",
      "Copying mod files\n",
      "Extraction DONE\n"
     ]
    },
    {
     "name": "stderr",
     "output_type": "stream",
     "text": [
      "\n"
     ]
    },
    {
     "name": "stdout",
     "output_type": "stream",
     "text": [
      "Extracting subcircuit from 'nbS1-O1'\n",
      "Copying morphologies for population 'S1nonbarrel_neurons' (10)\n"
     ]
    },
    {
     "name": "stderr",
     "output_type": "stream",
     "text": [
      "Copying containerized .h5 morphologies: 100%|██████████████████████████████████████████████████| 10/10 [00:00<00:00, 868.49it/s]"
     ]
    },
    {
     "name": "stdout",
     "output_type": "stream",
     "text": [
      "Copied 10 morphologies into container (0 already existed)\n",
      "Copying 1 biophysical neuron models (.hoc) for population 'S1nonbarrel_neurons' (10)\n",
      "Copying mod files\n",
      "Extraction DONE\n"
     ]
    },
    {
     "name": "stderr",
     "output_type": "stream",
     "text": [
      "\n"
     ]
    },
    {
     "name": "stdout",
     "output_type": "stream",
     "text": [
      "Extracting subcircuit from 'nbS1-O1'\n",
      "Copying morphologies for population 'S1nonbarrel_neurons' (10)\n"
     ]
    },
    {
     "name": "stderr",
     "output_type": "stream",
     "text": [
      "Copying containerized .h5 morphologies: 100%|██████████████████████████████████████████████████| 10/10 [00:00<00:00, 966.27it/s]"
     ]
    },
    {
     "name": "stdout",
     "output_type": "stream",
     "text": [
      "Copied 10 morphologies into container (0 already existed)\n",
      "Copying 2 biophysical neuron models (.hoc) for population 'S1nonbarrel_neurons' (10)\n",
      "Copying mod files\n",
      "Extraction DONE\n"
     ]
    },
    {
     "name": "stderr",
     "output_type": "stream",
     "text": [
      "\n"
     ]
    },
    {
     "name": "stdout",
     "output_type": "stream",
     "text": [
      "Extracting subcircuit from 'nbS1-O1'\n",
      "Copying morphologies for population 'S1nonbarrel_neurons' (10)\n"
     ]
    },
    {
     "name": "stderr",
     "output_type": "stream",
     "text": [
      "Copying containerized .h5 morphologies: 100%|██████████████████████████████████████████████████| 10/10 [00:00<00:00, 868.13it/s]"
     ]
    },
    {
     "name": "stdout",
     "output_type": "stream",
     "text": [
      "Copied 10 morphologies into container (0 already existed)\n",
      "Copying 1 biophysical neuron models (.hoc) for population 'S1nonbarrel_neurons' (10)\n",
      "Copying mod files\n",
      "Extraction DONE\n"
     ]
    },
    {
     "name": "stderr",
     "output_type": "stream",
     "text": [
      "\n"
     ]
    },
    {
     "name": "stdout",
     "output_type": "stream",
     "text": [
      "Extracting subcircuit from 'nbS1-O1'\n",
      "Copying morphologies for population 'S1nonbarrel_neurons' (10)\n"
     ]
    },
    {
     "name": "stderr",
     "output_type": "stream",
     "text": [
      "Copying containerized .h5 morphologies: 100%|██████████████████████████████████████████████████| 10/10 [00:00<00:00, 911.41it/s]"
     ]
    },
    {
     "name": "stdout",
     "output_type": "stream",
     "text": [
      "Copied 10 morphologies into container (0 already existed)\n",
      "Copying 2 biophysical neuron models (.hoc) for population 'S1nonbarrel_neurons' (10)\n",
      "Copying mod files\n",
      "Extraction DONE\n",
      "[2025-06-17 13:48:20,907] INFO: create_bbp_workflow_campaign_config() not yet complete.\n"
     ]
    },
    {
     "name": "stderr",
     "output_type": "stream",
     "text": [
      "\n"
     ]
    },
    {
     "data": {
      "text/plain": [
       "{0: None, 1: None, 2: None, 3: None, 4: None, 5: None}"
      ]
     },
     "execution_count": 11,
     "metadata": {},
     "output_type": "execute_result"
    }
   ],
   "source": [
    "coupled_scan.execute(processing_method='run')"
   ]
  },
  {
   "cell_type": "code",
   "execution_count": 38,
   "metadata": {},
   "outputs": [
    {
     "name": "stdout",
     "output_type": "stream",
     "text": [
      "L1: 10 neurons, 107 synapses, m-types: ['2xL1_DAC', '2xL1_HAC', '2xL1_NGC-DA', '1xL1_NGC-SA', '3xL1_SAC']\n",
      "L2: 10 neurons, 51 synapses, m-types: ['2xL2_IPC', '1xL2_TPC:A', '7xL2_TPC:B']\n",
      "L3: 10 neurons, 34 synapses, m-types: ['7xL3_TPC:A', '3xL3_TPC:C']\n",
      "L4: 10 neurons, 24 synapses, m-types: ['5xL4_TPC', '5xL4_UPC']\n",
      "L5: 10 neurons, 56 synapses, m-types: ['6xL5_TPC:A', '3xL5_TPC:B', '1xL5_UPC']\n",
      "L6: 10 neurons, 33 synapses, m-types: ['2xL6_BPC', '2xL6_IPC', '1xL6_LBC', '5xL6_TPC:A']\n"
     ]
    }
   ],
   "source": [
    "# Check circuits\n",
    "from bluepysnap import Circuit\n",
    "\n",
    "for _idx, _inst in enumerate(coupled_scan.coordinate_instances()):\n",
    "    cfg = coupled_scan.output_root / str(_idx) / \"circuit_config.json\"\n",
    "    c = Circuit(cfg)\n",
    "    nodes = c.nodes['S1nonbarrel_neurons']\n",
    "    mtypes = np.unique(nodes.get(properties=['mtype']), return_counts=True)\n",
    "    mt_hist = [f\"{_c}x{_mt}\" for _mt, _c in zip(*mtypes)]\n",
    "    print(f\"L{layers[_idx]}: {nodes.size} neurons, {c.edges[\"S1nonbarrel_neurons__S1nonbarrel_neurons__chemical\"].size} synapses, m-types: {mt_hist}\")\n"
   ]
  },
  {
   "cell_type": "code",
   "execution_count": null,
   "metadata": {},
   "outputs": [],
   "source": []
  }
 ],
 "metadata": {
  "kernelspec": {
   "display_name": "obi-one",
   "language": "python",
   "name": "obi-one"
  },
  "language_info": {
   "codemirror_mode": {
    "name": "ipython",
    "version": 3
   },
   "file_extension": ".py",
   "mimetype": "text/x-python",
   "name": "python",
   "nbconvert_exporter": "python",
   "pygments_lexer": "ipython3",
   "version": "3.12.9"
  }
 },
 "nbformat": 4,
 "nbformat_minor": 4
}
