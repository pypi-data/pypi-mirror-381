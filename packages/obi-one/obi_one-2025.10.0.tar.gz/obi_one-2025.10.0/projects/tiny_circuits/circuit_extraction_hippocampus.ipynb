{
 "cells": [
  {
   "cell_type": "code",
   "execution_count": 1,
   "metadata": {},
   "outputs": [],
   "source": [
    "import obi_one as obi\n",
    "import os\n",
    "import pandas as pd"
   ]
  },
  {
   "cell_type": "code",
   "execution_count": 2,
   "metadata": {},
   "outputs": [],
   "source": [
    "input_root = \"/Users/pokorny/Data/Circuits\"\n",
    "output_root = \"../../../obi-output/extracted_small_microcircuits_hippocampus\""
   ]
  },
  {
   "cell_type": "code",
   "execution_count": 4,
   "metadata": {},
   "outputs": [],
   "source": [
    "circuit = obi.Circuit(name=\"rCA1-CYLINDER-REF\", path=os.path.join(input_root, \"rCA1-CYLINDER-REF\", \"circuit_config_postfix2.json\"))"
   ]
  },
  {
   "cell_type": "code",
   "execution_count": 5,
   "metadata": {},
   "outputs": [],
   "source": [
    "# Neuron IDs for rCA1-CYLINDER-REF\n",
    "node_id_lists = [obi.NamedTuple(name=\"rCA1-CYLINDER-REF-1PC-8PV-01\", elements=(5625, 5821, 5847, 5815, 5591, 5619, 5675, 5845, 3673)),\n",
    "                 obi.NamedTuple(name=\"rCA1-CYLINDER-REF-1PC-8PV-02\", elements=(848, 5827, 5834, 5644, 5822, 5831, 5815, 5690, 5816)),\n",
    "                 obi.NamedTuple(name=\"rCA1-CYLINDER-REF-1PC-8PV-03\", elements=(2496, 5812, 5836, 5815, 5818, 5834, 5822, 5587, 5827)),\n",
    "                 obi.NamedTuple(name=\"rCA1-CYLINDER-REF-1PC-8PV-04\", elements=(220, 5832, 5815, 5834, 5819, 5825, 5826, 5841, 5830)),\n",
    "                 obi.NamedTuple(name=\"rCA1-CYLINDER-REF-1PC-8PV-05\", elements=(295, 5834, 5830, 5822, 5828, 5837, 5831, 5840, 5827)),\n",
    "                 obi.NamedTuple(name=\"rCA1-CYLINDER-REF-1PC-8PV-06\", elements=(5055, 5826, 5832, 5847, 5830, 5840, 5828, 5822, 5841)),\n",
    "                 obi.NamedTuple(name=\"rCA1-CYLINDER-REF-1PC-8PV-07\", elements=(2805, 5832, 5826, 5807, 5830, 5825, 5834, 5819, 5842)),\n",
    "                 obi.NamedTuple(name=\"rCA1-CYLINDER-REF-1PC-8PV-08\", elements=(357, 5819, 5842, 5825, 5826, 5834, 5830, 5840, 5832)),\n",
    "                 obi.NamedTuple(name=\"rCA1-CYLINDER-REF-1PC-8PV-09\", elements=(220, 5821, 5830, 5834, 5819, 5825, 5832, 5826, 5840)),\n",
    "                 obi.NamedTuple(name=\"rCA1-CYLINDER-REF-1PC-8PV-10\", elements=(2459, 5834, 5819, 5825, 5842, 5826, 5832, 5840, 5821)),\n",
    "                ]"
   ]
  },
  {
   "cell_type": "code",
   "execution_count": 6,
   "metadata": {},
   "outputs": [],
   "source": [
    "circuit_extractions_form = obi.CircuitExtractions(\n",
    "                    initialize=obi.CircuitExtractions.Initialize(\n",
    "                        circuit=circuit,\n",
    "                        run_validation=False,\n",
    "                        do_virtual=True,\n",
    "                        create_external=True,\n",
    "                        virtual_sources_to_ignore=(\"external_hippocampus_neurons__hippocampus_neurons__chemical_synapse\", ),\n",
    "                    ),\n",
    "                    neuron_set=obi.IDNeuronSet(neuron_ids=node_id_lists)\n",
    ")\n",
    "\n",
    "grid_scan = obi.GridScan(form=circuit_extractions_form, output_root=output_root, coordinate_directory_option=\"VALUE\")"
   ]
  },
  {
   "cell_type": "code",
   "execution_count": 7,
   "metadata": {},
   "outputs": [
    {
     "name": "stdout",
     "output_type": "stream",
     "text": [
      "[2025-06-17 14:08:28,347] INFO: \n",
      "MULTIPLE VALUE PARAMETERS\n",
      "[2025-06-17 14:08:28,349] INFO: neuron_set.neuron_ids: [rCA1-CYLINDER-REF-idSub-01, rCA1-CYLINDER-REF-idSub-02, rCA1-CYLINDER-REF-idSub-03, rCA1-CYLINDER-REF-idSub-04, rCA1-CYLINDER-REF-idSub-05, rCA1-CYLINDER-REF-idSub-06, rCA1-CYLINDER-REF-idSub-07, rCA1-CYLINDER-REF-idSub-08, rCA1-CYLINDER-REF-idSub-09, rCA1-CYLINDER-REF-idSub-10]\n",
      "[2025-06-17 14:08:28,351] INFO: \n",
      "COORDINATE PARAMETERS\n",
      "[2025-06-17 14:08:28,352] INFO: neuron_set.neuron_ids: rCA1-CYLINDER-REF-idSub-01\n",
      "[2025-06-17 14:08:28,353] INFO: neuron_set.neuron_ids: rCA1-CYLINDER-REF-idSub-02\n",
      "[2025-06-17 14:08:28,353] INFO: neuron_set.neuron_ids: rCA1-CYLINDER-REF-idSub-03\n",
      "[2025-06-17 14:08:28,354] INFO: neuron_set.neuron_ids: rCA1-CYLINDER-REF-idSub-04\n",
      "[2025-06-17 14:08:28,355] INFO: neuron_set.neuron_ids: rCA1-CYLINDER-REF-idSub-05\n",
      "[2025-06-17 14:08:28,355] INFO: neuron_set.neuron_ids: rCA1-CYLINDER-REF-idSub-06\n",
      "[2025-06-17 14:08:28,356] INFO: neuron_set.neuron_ids: rCA1-CYLINDER-REF-idSub-07\n",
      "[2025-06-17 14:08:28,357] INFO: neuron_set.neuron_ids: rCA1-CYLINDER-REF-idSub-08\n",
      "[2025-06-17 14:08:28,357] INFO: neuron_set.neuron_ids: rCA1-CYLINDER-REF-idSub-09\n",
      "[2025-06-17 14:08:28,360] INFO: neuron_set.neuron_ids: rCA1-CYLINDER-REF-idSub-10\n",
      "[2025-06-17 14:08:28,365] INFO: \n",
      "COORDINATE INSTANCES\n",
      "[2025-06-17 14:08:28,365] INFO: CircuitExtraction(idx=0, scan_output_root=PosixPath('.'), coordinate_output_root=PosixPath('.'), single_coordinate_scan_params=SingleCoordinateScanParams(type='SingleCoordinateScanParams', scan_params=[SingleValueScanParam(type='SingleValueScanParam', location_list=['neuron_set', 'neuron_ids'], value=rCA1-CYLINDER-REF-idSub-01)], nested_coordinate_subpath_str=PosixPath('.')), type='CircuitExtraction', initialize=Initialize(type='CircuitExtractions.Initialize', circuit=Circuit(type='Circuit', name='rCA1-CYLINDER-REF', path='/Users/pokorny/Data/Circuits/rCA1-CYLINDER-REF/circuit_config_postfix2.json', matrix_path=None), run_validation=False, do_virtual=True, create_external=True, virtual_sources_to_ignore=('external_hippocampus_neurons__hippocampus_neurons__chemical_synapse',)), neuron_set=IDNeuronSet(type='IDNeuronSet', random_sample=None, random_seed=0, neuron_ids=rCA1-CYLINDER-REF-idSub-01))\n",
      "[2025-06-17 14:08:28,366] INFO: CircuitExtraction(idx=1, scan_output_root=PosixPath('.'), coordinate_output_root=PosixPath('.'), single_coordinate_scan_params=SingleCoordinateScanParams(type='SingleCoordinateScanParams', scan_params=[SingleValueScanParam(type='SingleValueScanParam', location_list=['neuron_set', 'neuron_ids'], value=rCA1-CYLINDER-REF-idSub-02)], nested_coordinate_subpath_str=PosixPath('.')), type='CircuitExtraction', initialize=Initialize(type='CircuitExtractions.Initialize', circuit=Circuit(type='Circuit', name='rCA1-CYLINDER-REF', path='/Users/pokorny/Data/Circuits/rCA1-CYLINDER-REF/circuit_config_postfix2.json', matrix_path=None), run_validation=False, do_virtual=True, create_external=True, virtual_sources_to_ignore=('external_hippocampus_neurons__hippocampus_neurons__chemical_synapse',)), neuron_set=IDNeuronSet(type='IDNeuronSet', random_sample=None, random_seed=0, neuron_ids=rCA1-CYLINDER-REF-idSub-02))\n",
      "[2025-06-17 14:08:28,367] INFO: CircuitExtraction(idx=2, scan_output_root=PosixPath('.'), coordinate_output_root=PosixPath('.'), single_coordinate_scan_params=SingleCoordinateScanParams(type='SingleCoordinateScanParams', scan_params=[SingleValueScanParam(type='SingleValueScanParam', location_list=['neuron_set', 'neuron_ids'], value=rCA1-CYLINDER-REF-idSub-03)], nested_coordinate_subpath_str=PosixPath('.')), type='CircuitExtraction', initialize=Initialize(type='CircuitExtractions.Initialize', circuit=Circuit(type='Circuit', name='rCA1-CYLINDER-REF', path='/Users/pokorny/Data/Circuits/rCA1-CYLINDER-REF/circuit_config_postfix2.json', matrix_path=None), run_validation=False, do_virtual=True, create_external=True, virtual_sources_to_ignore=('external_hippocampus_neurons__hippocampus_neurons__chemical_synapse',)), neuron_set=IDNeuronSet(type='IDNeuronSet', random_sample=None, random_seed=0, neuron_ids=rCA1-CYLINDER-REF-idSub-03))\n",
      "[2025-06-17 14:08:28,367] INFO: CircuitExtraction(idx=3, scan_output_root=PosixPath('.'), coordinate_output_root=PosixPath('.'), single_coordinate_scan_params=SingleCoordinateScanParams(type='SingleCoordinateScanParams', scan_params=[SingleValueScanParam(type='SingleValueScanParam', location_list=['neuron_set', 'neuron_ids'], value=rCA1-CYLINDER-REF-idSub-04)], nested_coordinate_subpath_str=PosixPath('.')), type='CircuitExtraction', initialize=Initialize(type='CircuitExtractions.Initialize', circuit=Circuit(type='Circuit', name='rCA1-CYLINDER-REF', path='/Users/pokorny/Data/Circuits/rCA1-CYLINDER-REF/circuit_config_postfix2.json', matrix_path=None), run_validation=False, do_virtual=True, create_external=True, virtual_sources_to_ignore=('external_hippocampus_neurons__hippocampus_neurons__chemical_synapse',)), neuron_set=IDNeuronSet(type='IDNeuronSet', random_sample=None, random_seed=0, neuron_ids=rCA1-CYLINDER-REF-idSub-04))\n",
      "[2025-06-17 14:08:28,368] INFO: CircuitExtraction(idx=4, scan_output_root=PosixPath('.'), coordinate_output_root=PosixPath('.'), single_coordinate_scan_params=SingleCoordinateScanParams(type='SingleCoordinateScanParams', scan_params=[SingleValueScanParam(type='SingleValueScanParam', location_list=['neuron_set', 'neuron_ids'], value=rCA1-CYLINDER-REF-idSub-05)], nested_coordinate_subpath_str=PosixPath('.')), type='CircuitExtraction', initialize=Initialize(type='CircuitExtractions.Initialize', circuit=Circuit(type='Circuit', name='rCA1-CYLINDER-REF', path='/Users/pokorny/Data/Circuits/rCA1-CYLINDER-REF/circuit_config_postfix2.json', matrix_path=None), run_validation=False, do_virtual=True, create_external=True, virtual_sources_to_ignore=('external_hippocampus_neurons__hippocampus_neurons__chemical_synapse',)), neuron_set=IDNeuronSet(type='IDNeuronSet', random_sample=None, random_seed=0, neuron_ids=rCA1-CYLINDER-REF-idSub-05))\n",
      "[2025-06-17 14:08:28,368] INFO: CircuitExtraction(idx=5, scan_output_root=PosixPath('.'), coordinate_output_root=PosixPath('.'), single_coordinate_scan_params=SingleCoordinateScanParams(type='SingleCoordinateScanParams', scan_params=[SingleValueScanParam(type='SingleValueScanParam', location_list=['neuron_set', 'neuron_ids'], value=rCA1-CYLINDER-REF-idSub-06)], nested_coordinate_subpath_str=PosixPath('.')), type='CircuitExtraction', initialize=Initialize(type='CircuitExtractions.Initialize', circuit=Circuit(type='Circuit', name='rCA1-CYLINDER-REF', path='/Users/pokorny/Data/Circuits/rCA1-CYLINDER-REF/circuit_config_postfix2.json', matrix_path=None), run_validation=False, do_virtual=True, create_external=True, virtual_sources_to_ignore=('external_hippocampus_neurons__hippocampus_neurons__chemical_synapse',)), neuron_set=IDNeuronSet(type='IDNeuronSet', random_sample=None, random_seed=0, neuron_ids=rCA1-CYLINDER-REF-idSub-06))\n",
      "[2025-06-17 14:08:28,369] INFO: CircuitExtraction(idx=6, scan_output_root=PosixPath('.'), coordinate_output_root=PosixPath('.'), single_coordinate_scan_params=SingleCoordinateScanParams(type='SingleCoordinateScanParams', scan_params=[SingleValueScanParam(type='SingleValueScanParam', location_list=['neuron_set', 'neuron_ids'], value=rCA1-CYLINDER-REF-idSub-07)], nested_coordinate_subpath_str=PosixPath('.')), type='CircuitExtraction', initialize=Initialize(type='CircuitExtractions.Initialize', circuit=Circuit(type='Circuit', name='rCA1-CYLINDER-REF', path='/Users/pokorny/Data/Circuits/rCA1-CYLINDER-REF/circuit_config_postfix2.json', matrix_path=None), run_validation=False, do_virtual=True, create_external=True, virtual_sources_to_ignore=('external_hippocampus_neurons__hippocampus_neurons__chemical_synapse',)), neuron_set=IDNeuronSet(type='IDNeuronSet', random_sample=None, random_seed=0, neuron_ids=rCA1-CYLINDER-REF-idSub-07))\n",
      "[2025-06-17 14:08:28,369] INFO: CircuitExtraction(idx=7, scan_output_root=PosixPath('.'), coordinate_output_root=PosixPath('.'), single_coordinate_scan_params=SingleCoordinateScanParams(type='SingleCoordinateScanParams', scan_params=[SingleValueScanParam(type='SingleValueScanParam', location_list=['neuron_set', 'neuron_ids'], value=rCA1-CYLINDER-REF-idSub-08)], nested_coordinate_subpath_str=PosixPath('.')), type='CircuitExtraction', initialize=Initialize(type='CircuitExtractions.Initialize', circuit=Circuit(type='Circuit', name='rCA1-CYLINDER-REF', path='/Users/pokorny/Data/Circuits/rCA1-CYLINDER-REF/circuit_config_postfix2.json', matrix_path=None), run_validation=False, do_virtual=True, create_external=True, virtual_sources_to_ignore=('external_hippocampus_neurons__hippocampus_neurons__chemical_synapse',)), neuron_set=IDNeuronSet(type='IDNeuronSet', random_sample=None, random_seed=0, neuron_ids=rCA1-CYLINDER-REF-idSub-08))\n",
      "[2025-06-17 14:08:28,370] INFO: CircuitExtraction(idx=8, scan_output_root=PosixPath('.'), coordinate_output_root=PosixPath('.'), single_coordinate_scan_params=SingleCoordinateScanParams(type='SingleCoordinateScanParams', scan_params=[SingleValueScanParam(type='SingleValueScanParam', location_list=['neuron_set', 'neuron_ids'], value=rCA1-CYLINDER-REF-idSub-09)], nested_coordinate_subpath_str=PosixPath('.')), type='CircuitExtraction', initialize=Initialize(type='CircuitExtractions.Initialize', circuit=Circuit(type='Circuit', name='rCA1-CYLINDER-REF', path='/Users/pokorny/Data/Circuits/rCA1-CYLINDER-REF/circuit_config_postfix2.json', matrix_path=None), run_validation=False, do_virtual=True, create_external=True, virtual_sources_to_ignore=('external_hippocampus_neurons__hippocampus_neurons__chemical_synapse',)), neuron_set=IDNeuronSet(type='IDNeuronSet', random_sample=None, random_seed=0, neuron_ids=rCA1-CYLINDER-REF-idSub-09))\n",
      "[2025-06-17 14:08:28,370] INFO: CircuitExtraction(idx=9, scan_output_root=PosixPath('.'), coordinate_output_root=PosixPath('.'), single_coordinate_scan_params=SingleCoordinateScanParams(type='SingleCoordinateScanParams', scan_params=[SingleValueScanParam(type='SingleValueScanParam', location_list=['neuron_set', 'neuron_ids'], value=rCA1-CYLINDER-REF-idSub-10)], nested_coordinate_subpath_str=PosixPath('.')), type='CircuitExtraction', initialize=Initialize(type='CircuitExtractions.Initialize', circuit=Circuit(type='Circuit', name='rCA1-CYLINDER-REF', path='/Users/pokorny/Data/Circuits/rCA1-CYLINDER-REF/circuit_config_postfix2.json', matrix_path=None), run_validation=False, do_virtual=True, create_external=True, virtual_sources_to_ignore=('external_hippocampus_neurons__hippocampus_neurons__chemical_synapse',)), neuron_set=IDNeuronSet(type='IDNeuronSet', random_sample=None, random_seed=0, neuron_ids=rCA1-CYLINDER-REF-idSub-10))\n"
     ]
    },
    {
     "data": {
      "text/plain": [
       "[CircuitExtraction(idx=0, scan_output_root=PosixPath('.'), coordinate_output_root=PosixPath('.'), single_coordinate_scan_params=SingleCoordinateScanParams(type='SingleCoordinateScanParams', scan_params=[SingleValueScanParam(type='SingleValueScanParam', location_list=['neuron_set', 'neuron_ids'], value=rCA1-CYLINDER-REF-idSub-01)], nested_coordinate_subpath_str=PosixPath('.')), type='CircuitExtraction', initialize=Initialize(type='CircuitExtractions.Initialize', circuit=Circuit(type='Circuit', name='rCA1-CYLINDER-REF', path='/Users/pokorny/Data/Circuits/rCA1-CYLINDER-REF/circuit_config_postfix2.json', matrix_path=None), run_validation=False, do_virtual=True, create_external=True, virtual_sources_to_ignore=('external_hippocampus_neurons__hippocampus_neurons__chemical_synapse',)), neuron_set=IDNeuronSet(type='IDNeuronSet', random_sample=None, random_seed=0, neuron_ids=rCA1-CYLINDER-REF-idSub-01)),\n",
       " CircuitExtraction(idx=1, scan_output_root=PosixPath('.'), coordinate_output_root=PosixPath('.'), single_coordinate_scan_params=SingleCoordinateScanParams(type='SingleCoordinateScanParams', scan_params=[SingleValueScanParam(type='SingleValueScanParam', location_list=['neuron_set', 'neuron_ids'], value=rCA1-CYLINDER-REF-idSub-02)], nested_coordinate_subpath_str=PosixPath('.')), type='CircuitExtraction', initialize=Initialize(type='CircuitExtractions.Initialize', circuit=Circuit(type='Circuit', name='rCA1-CYLINDER-REF', path='/Users/pokorny/Data/Circuits/rCA1-CYLINDER-REF/circuit_config_postfix2.json', matrix_path=None), run_validation=False, do_virtual=True, create_external=True, virtual_sources_to_ignore=('external_hippocampus_neurons__hippocampus_neurons__chemical_synapse',)), neuron_set=IDNeuronSet(type='IDNeuronSet', random_sample=None, random_seed=0, neuron_ids=rCA1-CYLINDER-REF-idSub-02)),\n",
       " CircuitExtraction(idx=2, scan_output_root=PosixPath('.'), coordinate_output_root=PosixPath('.'), single_coordinate_scan_params=SingleCoordinateScanParams(type='SingleCoordinateScanParams', scan_params=[SingleValueScanParam(type='SingleValueScanParam', location_list=['neuron_set', 'neuron_ids'], value=rCA1-CYLINDER-REF-idSub-03)], nested_coordinate_subpath_str=PosixPath('.')), type='CircuitExtraction', initialize=Initialize(type='CircuitExtractions.Initialize', circuit=Circuit(type='Circuit', name='rCA1-CYLINDER-REF', path='/Users/pokorny/Data/Circuits/rCA1-CYLINDER-REF/circuit_config_postfix2.json', matrix_path=None), run_validation=False, do_virtual=True, create_external=True, virtual_sources_to_ignore=('external_hippocampus_neurons__hippocampus_neurons__chemical_synapse',)), neuron_set=IDNeuronSet(type='IDNeuronSet', random_sample=None, random_seed=0, neuron_ids=rCA1-CYLINDER-REF-idSub-03)),\n",
       " CircuitExtraction(idx=3, scan_output_root=PosixPath('.'), coordinate_output_root=PosixPath('.'), single_coordinate_scan_params=SingleCoordinateScanParams(type='SingleCoordinateScanParams', scan_params=[SingleValueScanParam(type='SingleValueScanParam', location_list=['neuron_set', 'neuron_ids'], value=rCA1-CYLINDER-REF-idSub-04)], nested_coordinate_subpath_str=PosixPath('.')), type='CircuitExtraction', initialize=Initialize(type='CircuitExtractions.Initialize', circuit=Circuit(type='Circuit', name='rCA1-CYLINDER-REF', path='/Users/pokorny/Data/Circuits/rCA1-CYLINDER-REF/circuit_config_postfix2.json', matrix_path=None), run_validation=False, do_virtual=True, create_external=True, virtual_sources_to_ignore=('external_hippocampus_neurons__hippocampus_neurons__chemical_synapse',)), neuron_set=IDNeuronSet(type='IDNeuronSet', random_sample=None, random_seed=0, neuron_ids=rCA1-CYLINDER-REF-idSub-04)),\n",
       " CircuitExtraction(idx=4, scan_output_root=PosixPath('.'), coordinate_output_root=PosixPath('.'), single_coordinate_scan_params=SingleCoordinateScanParams(type='SingleCoordinateScanParams', scan_params=[SingleValueScanParam(type='SingleValueScanParam', location_list=['neuron_set', 'neuron_ids'], value=rCA1-CYLINDER-REF-idSub-05)], nested_coordinate_subpath_str=PosixPath('.')), type='CircuitExtraction', initialize=Initialize(type='CircuitExtractions.Initialize', circuit=Circuit(type='Circuit', name='rCA1-CYLINDER-REF', path='/Users/pokorny/Data/Circuits/rCA1-CYLINDER-REF/circuit_config_postfix2.json', matrix_path=None), run_validation=False, do_virtual=True, create_external=True, virtual_sources_to_ignore=('external_hippocampus_neurons__hippocampus_neurons__chemical_synapse',)), neuron_set=IDNeuronSet(type='IDNeuronSet', random_sample=None, random_seed=0, neuron_ids=rCA1-CYLINDER-REF-idSub-05)),\n",
       " CircuitExtraction(idx=5, scan_output_root=PosixPath('.'), coordinate_output_root=PosixPath('.'), single_coordinate_scan_params=SingleCoordinateScanParams(type='SingleCoordinateScanParams', scan_params=[SingleValueScanParam(type='SingleValueScanParam', location_list=['neuron_set', 'neuron_ids'], value=rCA1-CYLINDER-REF-idSub-06)], nested_coordinate_subpath_str=PosixPath('.')), type='CircuitExtraction', initialize=Initialize(type='CircuitExtractions.Initialize', circuit=Circuit(type='Circuit', name='rCA1-CYLINDER-REF', path='/Users/pokorny/Data/Circuits/rCA1-CYLINDER-REF/circuit_config_postfix2.json', matrix_path=None), run_validation=False, do_virtual=True, create_external=True, virtual_sources_to_ignore=('external_hippocampus_neurons__hippocampus_neurons__chemical_synapse',)), neuron_set=IDNeuronSet(type='IDNeuronSet', random_sample=None, random_seed=0, neuron_ids=rCA1-CYLINDER-REF-idSub-06)),\n",
       " CircuitExtraction(idx=6, scan_output_root=PosixPath('.'), coordinate_output_root=PosixPath('.'), single_coordinate_scan_params=SingleCoordinateScanParams(type='SingleCoordinateScanParams', scan_params=[SingleValueScanParam(type='SingleValueScanParam', location_list=['neuron_set', 'neuron_ids'], value=rCA1-CYLINDER-REF-idSub-07)], nested_coordinate_subpath_str=PosixPath('.')), type='CircuitExtraction', initialize=Initialize(type='CircuitExtractions.Initialize', circuit=Circuit(type='Circuit', name='rCA1-CYLINDER-REF', path='/Users/pokorny/Data/Circuits/rCA1-CYLINDER-REF/circuit_config_postfix2.json', matrix_path=None), run_validation=False, do_virtual=True, create_external=True, virtual_sources_to_ignore=('external_hippocampus_neurons__hippocampus_neurons__chemical_synapse',)), neuron_set=IDNeuronSet(type='IDNeuronSet', random_sample=None, random_seed=0, neuron_ids=rCA1-CYLINDER-REF-idSub-07)),\n",
       " CircuitExtraction(idx=7, scan_output_root=PosixPath('.'), coordinate_output_root=PosixPath('.'), single_coordinate_scan_params=SingleCoordinateScanParams(type='SingleCoordinateScanParams', scan_params=[SingleValueScanParam(type='SingleValueScanParam', location_list=['neuron_set', 'neuron_ids'], value=rCA1-CYLINDER-REF-idSub-08)], nested_coordinate_subpath_str=PosixPath('.')), type='CircuitExtraction', initialize=Initialize(type='CircuitExtractions.Initialize', circuit=Circuit(type='Circuit', name='rCA1-CYLINDER-REF', path='/Users/pokorny/Data/Circuits/rCA1-CYLINDER-REF/circuit_config_postfix2.json', matrix_path=None), run_validation=False, do_virtual=True, create_external=True, virtual_sources_to_ignore=('external_hippocampus_neurons__hippocampus_neurons__chemical_synapse',)), neuron_set=IDNeuronSet(type='IDNeuronSet', random_sample=None, random_seed=0, neuron_ids=rCA1-CYLINDER-REF-idSub-08)),\n",
       " CircuitExtraction(idx=8, scan_output_root=PosixPath('.'), coordinate_output_root=PosixPath('.'), single_coordinate_scan_params=SingleCoordinateScanParams(type='SingleCoordinateScanParams', scan_params=[SingleValueScanParam(type='SingleValueScanParam', location_list=['neuron_set', 'neuron_ids'], value=rCA1-CYLINDER-REF-idSub-09)], nested_coordinate_subpath_str=PosixPath('.')), type='CircuitExtraction', initialize=Initialize(type='CircuitExtractions.Initialize', circuit=Circuit(type='Circuit', name='rCA1-CYLINDER-REF', path='/Users/pokorny/Data/Circuits/rCA1-CYLINDER-REF/circuit_config_postfix2.json', matrix_path=None), run_validation=False, do_virtual=True, create_external=True, virtual_sources_to_ignore=('external_hippocampus_neurons__hippocampus_neurons__chemical_synapse',)), neuron_set=IDNeuronSet(type='IDNeuronSet', random_sample=None, random_seed=0, neuron_ids=rCA1-CYLINDER-REF-idSub-09)),\n",
       " CircuitExtraction(idx=9, scan_output_root=PosixPath('.'), coordinate_output_root=PosixPath('.'), single_coordinate_scan_params=SingleCoordinateScanParams(type='SingleCoordinateScanParams', scan_params=[SingleValueScanParam(type='SingleValueScanParam', location_list=['neuron_set', 'neuron_ids'], value=rCA1-CYLINDER-REF-idSub-10)], nested_coordinate_subpath_str=PosixPath('.')), type='CircuitExtraction', initialize=Initialize(type='CircuitExtractions.Initialize', circuit=Circuit(type='Circuit', name='rCA1-CYLINDER-REF', path='/Users/pokorny/Data/Circuits/rCA1-CYLINDER-REF/circuit_config_postfix2.json', matrix_path=None), run_validation=False, do_virtual=True, create_external=True, virtual_sources_to_ignore=('external_hippocampus_neurons__hippocampus_neurons__chemical_synapse',)), neuron_set=IDNeuronSet(type='IDNeuronSet', random_sample=None, random_seed=0, neuron_ids=rCA1-CYLINDER-REF-idSub-10))]"
      ]
     },
     "execution_count": 7,
     "metadata": {},
     "output_type": "execute_result"
    }
   ],
   "source": [
    "# Display the intermediary data\n",
    "grid_scan.multiple_value_parameters(display=True)\n",
    "grid_scan.coordinate_parameters(display=True)\n",
    "grid_scan.coordinate_instances(display=True)"
   ]
  },
  {
   "cell_type": "code",
   "execution_count": 8,
   "metadata": {},
   "outputs": [
    {
     "name": "stdout",
     "output_type": "stream",
     "text": [
      "[2025-06-17 14:08:46,148] INFO: None\n",
      "Extracting subcircuit from 'rCA1-CYLINDER-REF'\n",
      "Copying morphologies for population 'hippocampus_neurons' (9)\n"
     ]
    },
    {
     "name": "stderr",
     "output_type": "stream",
     "text": [
      "Copying .swc morphologies: 100%|█████████████████████████████████████████████████████████████████| 9/9 [00:00<00:00, 120.30it/s]"
     ]
    },
    {
     "name": "stdout",
     "output_type": "stream",
     "text": [
      "Copying 8 biophysical neuron models (.hoc) for population 'hippocampus_neurons' (9)\n",
      "Copying mod files\n",
      "Extraction DONE\n",
      "Extracting subcircuit from 'rCA1-CYLINDER-REF'\n"
     ]
    },
    {
     "name": "stderr",
     "output_type": "stream",
     "text": [
      "\n"
     ]
    },
    {
     "name": "stdout",
     "output_type": "stream",
     "text": [
      "Copying morphologies for population 'hippocampus_neurons' (9)\n"
     ]
    },
    {
     "name": "stderr",
     "output_type": "stream",
     "text": [
      "Copying .swc morphologies: 100%|█████████████████████████████████████████████████████████████████| 9/9 [00:00<00:00, 105.88it/s]"
     ]
    },
    {
     "name": "stdout",
     "output_type": "stream",
     "text": [
      "Copying 6 biophysical neuron models (.hoc) for population 'hippocampus_neurons' (9)\n",
      "Copying mod files\n",
      "Extraction DONE\n",
      "Extracting subcircuit from 'rCA1-CYLINDER-REF'\n"
     ]
    },
    {
     "name": "stderr",
     "output_type": "stream",
     "text": [
      "\n"
     ]
    },
    {
     "name": "stdout",
     "output_type": "stream",
     "text": [
      "Copying morphologies for population 'hippocampus_neurons' (9)\n"
     ]
    },
    {
     "name": "stderr",
     "output_type": "stream",
     "text": [
      "Copying .swc morphologies: 100%|██████████████████████████████████████████████████████████████████| 7/7 [00:00<00:00, 99.76it/s]"
     ]
    },
    {
     "name": "stdout",
     "output_type": "stream",
     "text": [
      "Copying 7 biophysical neuron models (.hoc) for population 'hippocampus_neurons' (9)\n",
      "Copying mod files\n",
      "Extraction DONE\n",
      "Extracting subcircuit from 'rCA1-CYLINDER-REF'\n"
     ]
    },
    {
     "name": "stderr",
     "output_type": "stream",
     "text": [
      "\n"
     ]
    },
    {
     "name": "stdout",
     "output_type": "stream",
     "text": [
      "Copying morphologies for population 'hippocampus_neurons' (9)\n"
     ]
    },
    {
     "name": "stderr",
     "output_type": "stream",
     "text": [
      "Copying .swc morphologies: 100%|█████████████████████████████████████████████████████████████████| 6/6 [00:00<00:00, 100.88it/s]"
     ]
    },
    {
     "name": "stdout",
     "output_type": "stream",
     "text": [
      "Copying 8 biophysical neuron models (.hoc) for population 'hippocampus_neurons' (9)\n",
      "Copying mod files\n",
      "Extraction DONE\n",
      "Extracting subcircuit from 'rCA1-CYLINDER-REF'\n"
     ]
    },
    {
     "name": "stderr",
     "output_type": "stream",
     "text": [
      "\n"
     ]
    },
    {
     "name": "stdout",
     "output_type": "stream",
     "text": [
      "Copying morphologies for population 'hippocampus_neurons' (9)\n"
     ]
    },
    {
     "name": "stderr",
     "output_type": "stream",
     "text": [
      "Copying .swc morphologies: 100%|██████████████████████████████████████████████████████████████████| 7/7 [00:00<00:00, 95.72it/s]"
     ]
    },
    {
     "name": "stdout",
     "output_type": "stream",
     "text": [
      "Copying 6 biophysical neuron models (.hoc) for population 'hippocampus_neurons' (9)\n",
      "Copying mod files\n",
      "Extraction DONE\n",
      "Extracting subcircuit from 'rCA1-CYLINDER-REF'\n"
     ]
    },
    {
     "name": "stderr",
     "output_type": "stream",
     "text": [
      "\n"
     ]
    },
    {
     "name": "stdout",
     "output_type": "stream",
     "text": [
      "Copying morphologies for population 'hippocampus_neurons' (9)\n"
     ]
    },
    {
     "name": "stderr",
     "output_type": "stream",
     "text": [
      "Copying .swc morphologies: 100%|██████████████████████████████████████████████████████████████████| 7/7 [00:00<00:00, 97.18it/s]"
     ]
    },
    {
     "name": "stdout",
     "output_type": "stream",
     "text": [
      "Copying 7 biophysical neuron models (.hoc) for population 'hippocampus_neurons' (9)\n",
      "Copying mod files\n",
      "Extraction DONE\n",
      "Extracting subcircuit from 'rCA1-CYLINDER-REF'\n"
     ]
    },
    {
     "name": "stderr",
     "output_type": "stream",
     "text": [
      "\n"
     ]
    },
    {
     "name": "stdout",
     "output_type": "stream",
     "text": [
      "Copying morphologies for population 'hippocampus_neurons' (9)\n"
     ]
    },
    {
     "name": "stderr",
     "output_type": "stream",
     "text": [
      "Copying .swc morphologies: 100%|██████████████████████████████████████████████████████████████████| 7/7 [00:00<00:00, 98.19it/s]"
     ]
    },
    {
     "name": "stdout",
     "output_type": "stream",
     "text": [
      "Copying 8 biophysical neuron models (.hoc) for population 'hippocampus_neurons' (9)\n",
      "Copying mod files\n",
      "Extraction DONE\n",
      "Extracting subcircuit from 'rCA1-CYLINDER-REF'\n"
     ]
    },
    {
     "name": "stderr",
     "output_type": "stream",
     "text": [
      "\n"
     ]
    },
    {
     "name": "stdout",
     "output_type": "stream",
     "text": [
      "Copying morphologies for population 'hippocampus_neurons' (9)\n"
     ]
    },
    {
     "name": "stderr",
     "output_type": "stream",
     "text": [
      "Copying .swc morphologies: 100%|█████████████████████████████████████████████████████████████████| 6/6 [00:00<00:00, 101.85it/s]"
     ]
    },
    {
     "name": "stdout",
     "output_type": "stream",
     "text": [
      "Copying 9 biophysical neuron models (.hoc) for population 'hippocampus_neurons' (9)\n",
      "Copying mod files\n",
      "Extraction DONE\n",
      "Extracting subcircuit from 'rCA1-CYLINDER-REF'\n"
     ]
    },
    {
     "name": "stderr",
     "output_type": "stream",
     "text": [
      "\n"
     ]
    },
    {
     "name": "stdout",
     "output_type": "stream",
     "text": [
      "Copying morphologies for population 'hippocampus_neurons' (9)\n"
     ]
    },
    {
     "name": "stderr",
     "output_type": "stream",
     "text": [
      "Copying .swc morphologies: 100%|██████████████████████████████████████████████████████████████████| 6/6 [00:00<00:00, 99.11it/s]"
     ]
    },
    {
     "name": "stdout",
     "output_type": "stream",
     "text": [
      "Copying 9 biophysical neuron models (.hoc) for population 'hippocampus_neurons' (9)\n",
      "Copying mod files\n",
      "Extraction DONE\n",
      "Extracting subcircuit from 'rCA1-CYLINDER-REF'\n"
     ]
    },
    {
     "name": "stderr",
     "output_type": "stream",
     "text": [
      "\n"
     ]
    },
    {
     "name": "stdout",
     "output_type": "stream",
     "text": [
      "Copying morphologies for population 'hippocampus_neurons' (9)\n"
     ]
    },
    {
     "name": "stderr",
     "output_type": "stream",
     "text": [
      "Copying .swc morphologies: 100%|██████████████████████████████████████████████████████████████████| 7/7 [00:00<00:00, 88.76it/s]"
     ]
    },
    {
     "name": "stdout",
     "output_type": "stream",
     "text": [
      "Copying 9 biophysical neuron models (.hoc) for population 'hippocampus_neurons' (9)\n",
      "Copying mod files\n",
      "Extraction DONE\n",
      "[2025-06-17 14:11:19,530] INFO: create_bbp_workflow_campaign_config() not yet complete.\n"
     ]
    },
    {
     "name": "stderr",
     "output_type": "stream",
     "text": [
      "\n"
     ]
    },
    {
     "data": {
      "text/plain": [
       "{0: None,\n",
       " 1: None,\n",
       " 2: None,\n",
       " 3: None,\n",
       " 4: None,\n",
       " 5: None,\n",
       " 6: None,\n",
       " 7: None,\n",
       " 8: None,\n",
       " 9: None}"
      ]
     },
     "execution_count": 8,
     "metadata": {},
     "output_type": "execute_result"
    }
   ],
   "source": [
    "grid_scan.execute(processing_method='run')"
   ]
  },
  {
   "cell_type": "code",
   "execution_count": 23,
   "metadata": {},
   "outputs": [
    {
     "name": "stdout",
     "output_type": "stream",
     "text": [
      "rCA1-CYLINDER-REF-idSub-01: 9 neurons, 291 synapses, m-types: ['4xSP_BS', '1xSP_PC', '4xSP_PVBC']\n",
      "rCA1-CYLINDER-REF-idSub-02: 9 neurons, 441 synapses, m-types: ['6xSP_BS', '1xSP_PC', '2xSP_PVBC']\n",
      "rCA1-CYLINDER-REF-idSub-03: 9 neurons, 385 synapses, m-types: ['7xSP_BS', '1xSP_PC', '1xSP_PVBC']\n",
      "rCA1-CYLINDER-REF-idSub-04: 9 neurons, 447 synapses, m-types: ['8xSP_BS', '1xSP_PC']\n",
      "rCA1-CYLINDER-REF-idSub-05: 9 neurons, 409 synapses, m-types: ['8xSP_BS', '1xSP_PC']\n",
      "rCA1-CYLINDER-REF-idSub-06: 9 neurons, 403 synapses, m-types: ['8xSP_BS', '1xSP_PC']\n",
      "rCA1-CYLINDER-REF-idSub-07: 9 neurons, 518 synapses, m-types: ['8xSP_BS', '1xSP_PC']\n",
      "rCA1-CYLINDER-REF-idSub-08: 9 neurons, 453 synapses, m-types: ['8xSP_BS', '1xSP_PC']\n",
      "rCA1-CYLINDER-REF-idSub-09: 9 neurons, 486 synapses, m-types: ['8xSP_BS', '1xSP_PC']\n",
      "rCA1-CYLINDER-REF-idSub-10: 9 neurons, 552 synapses, m-types: ['8xSP_BS', '1xSP_PC']\n"
     ]
    }
   ],
   "source": [
    "# Check circuits\n",
    "from bluepysnap import Circuit\n",
    "import numpy as np\n",
    "\n",
    "for _inst in grid_scan.coordinate_instances():\n",
    "    cfg = grid_scan.output_root / str(_inst.neuron_set.neuron_ids) / \"circuit_config.json\"\n",
    "    c = Circuit(cfg)\n",
    "    nodes = c.nodes['hippocampus_neurons']\n",
    "    mtypes = np.unique(nodes.get(properties=['mtype']), return_counts=True)\n",
    "    mt_hist = [f\"{_c}x{_mt}\" for _mt, _c in zip(*mtypes)]\n",
    "    print(f\"{_inst.neuron_set.neuron_ids}: {nodes.size} neurons, {c.edges[\"hippocampus_neurons__hippocampus_neurons__chemical_synapse\"].size} synapses, m-types: {mt_hist}\")\n"
   ]
  },
  {
   "cell_type": "code",
   "execution_count": null,
   "metadata": {},
   "outputs": [],
   "source": []
  }
 ],
 "metadata": {
  "kernelspec": {
   "display_name": "obi-one",
   "language": "python",
   "name": "obi-one"
  },
  "language_info": {
   "codemirror_mode": {
    "name": "ipython",
    "version": 3
   },
   "file_extension": ".py",
   "mimetype": "text/x-python",
   "name": "python",
   "nbconvert_exporter": "python",
   "pygments_lexer": "ipython3",
   "version": "3.12.9"
  }
 },
 "nbformat": 4,
 "nbformat_minor": 4
}
