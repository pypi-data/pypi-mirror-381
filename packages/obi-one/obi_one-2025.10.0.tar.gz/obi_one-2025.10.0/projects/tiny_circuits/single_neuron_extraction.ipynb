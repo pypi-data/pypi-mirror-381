{
 "cells": [
  {
   "cell_type": "code",
   "execution_count": 1,
   "metadata": {},
   "outputs": [],
   "source": [
    "import obi_one as obi\n",
    "import os\n",
    "import pandas as pd"
   ]
  },
  {
   "cell_type": "code",
   "execution_count": 2,
   "metadata": {},
   "outputs": [],
   "source": [
    "input_root = \"/Users/pokorny/Data/Circuits\"\n",
    "output_root = \"../../../obi-output/extracted_single_neuron_circuits\""
   ]
  },
  {
   "cell_type": "code",
   "execution_count": 3,
   "metadata": {},
   "outputs": [],
   "source": [
    "# Number of single-neuron circuits to extract\n",
    "idx_list = [0, 1]\n",
    "node_selection_file = \"./top_nodes_dim6.csv\"\n",
    "node_id_lists = [obi.NamedTuple(name=f\"SingleNeuronCircuit__\" + os.path.splitext(os.path.split(node_selection_file)[1])[0] + f\"__IDX{_idx}\", elements=tuple([pd.read_csv(node_selection_file)[\"node_ids\"].to_list()[_idx]])) for _idx in idx_list]"
   ]
  },
  {
   "cell_type": "code",
   "execution_count": null,
   "metadata": {},
   "outputs": [],
   "source": [
    "circuit_extractions_form = obi.CircuitExtractions(\n",
    "                    initialize=obi.CircuitExtractions.Initialize(\n",
    "                        # circuit=obi.Circuit(name=\"ToyCircuit-S1-6k\", path=os.path.join(input_root, \"ToyCircuit-S1-6k\", \"circuit_config.json\")),\n",
    "                        circuit=obi.Circuit(name=\"nbS1-HEX0\", path=os.path.join(input_root, \"nbS1-HEX0\", \"circuit_config.json\")),\n",
    "                        run_validation=False,\n",
    "                    ),\n",
    "                    # neuron_set=obi.PredefinedNeuronSet(node_set=[\"Excitatory\", \"Inhibitory\"], sample_percentage=[50, 100]),\n",
    "                    # neuron_set=obi.PredefinedNeuronSet(node_set=[\"Layer2\", \"Layer3\", \"Layer4\", \"Layer5\", \"Layer6\"], sample_percentage=10),\n",
    "                    neuron_set=obi.IDNeuronSet(neuron_ids=node_id_lists)\n",
    ")\n",
    "\n",
    "grid_scan = obi.GridScan(form=circuit_extractions_form, output_root=output_root, coordinate_directory_option=\"VALUE\")"
   ]
  },
  {
   "cell_type": "code",
   "execution_count": 5,
   "metadata": {},
   "outputs": [
    {
     "name": "stdout",
     "output_type": "stream",
     "text": [
      "\n",
      "MULTIPLE VALUE PARAMETERS\n",
      "neuron_set.neuron_ids: [SingleNeuronCircuit__top_nodes_dim6__IDX0, SingleNeuronCircuit__top_nodes_dim6__IDX1]\n",
      "\n",
      "COORDINATE PARAMETERS\n",
      "neuron_set.neuron_ids: SingleNeuronCircuit__top_nodes_dim6__IDX0\n",
      "neuron_set.neuron_ids: SingleNeuronCircuit__top_nodes_dim6__IDX1\n",
      "\n",
      "COORDINATE INSTANCES\n",
      "CircuitExtraction(idx=0, scan_output_root=PosixPath('.'), coordinate_output_root=PosixPath('.'), single_coordinate_scan_params=SingleCoordinateScanParams(type='SingleCoordinateScanParams', scan_params=[SingleValueScanParam(type='SingleValueScanParam', location_list=['neuron_set', 'neuron_ids'], value=SingleNeuronCircuit__top_nodes_dim6__IDX0)], nested_coordinate_subpath_str=PosixPath('.')), type='CircuitExtraction', neuron_set=IDNeuronSet(type='IDNeuronSet', simulation_level_name=None, sample_percentage=None, sample_seed=0, neuron_ids=SingleNeuronCircuit__top_nodes_dim6__IDX0), initialize=Initialize(type='CircuitExtractions.Initialize', circuit=Circuit(type='Circuit', name='nbS1-HEX0', path='/Users/pokorny/Data/Circuits/nbS1-HEX0/circuit_config.json'), run_validation=False))\n",
      "CircuitExtraction(idx=1, scan_output_root=PosixPath('.'), coordinate_output_root=PosixPath('.'), single_coordinate_scan_params=SingleCoordinateScanParams(type='SingleCoordinateScanParams', scan_params=[SingleValueScanParam(type='SingleValueScanParam', location_list=['neuron_set', 'neuron_ids'], value=SingleNeuronCircuit__top_nodes_dim6__IDX1)], nested_coordinate_subpath_str=PosixPath('.')), type='CircuitExtraction', neuron_set=IDNeuronSet(type='IDNeuronSet', simulation_level_name=None, sample_percentage=None, sample_seed=0, neuron_ids=SingleNeuronCircuit__top_nodes_dim6__IDX1), initialize=Initialize(type='CircuitExtractions.Initialize', circuit=Circuit(type='Circuit', name='nbS1-HEX0', path='/Users/pokorny/Data/Circuits/nbS1-HEX0/circuit_config.json'), run_validation=False))\n"
     ]
    },
    {
     "data": {
      "text/plain": [
       "[CircuitExtraction(idx=0, scan_output_root=PosixPath('.'), coordinate_output_root=PosixPath('.'), single_coordinate_scan_params=SingleCoordinateScanParams(type='SingleCoordinateScanParams', scan_params=[SingleValueScanParam(type='SingleValueScanParam', location_list=['neuron_set', 'neuron_ids'], value=SingleNeuronCircuit__top_nodes_dim6__IDX0)], nested_coordinate_subpath_str=PosixPath('.')), type='CircuitExtraction', neuron_set=IDNeuronSet(type='IDNeuronSet', simulation_level_name=None, sample_percentage=None, sample_seed=0, neuron_ids=SingleNeuronCircuit__top_nodes_dim6__IDX0), initialize=Initialize(type='CircuitExtractions.Initialize', circuit=Circuit(type='Circuit', name='nbS1-HEX0', path='/Users/pokorny/Data/Circuits/nbS1-HEX0/circuit_config.json'), run_validation=False)),\n",
       " CircuitExtraction(idx=1, scan_output_root=PosixPath('.'), coordinate_output_root=PosixPath('.'), single_coordinate_scan_params=SingleCoordinateScanParams(type='SingleCoordinateScanParams', scan_params=[SingleValueScanParam(type='SingleValueScanParam', location_list=['neuron_set', 'neuron_ids'], value=SingleNeuronCircuit__top_nodes_dim6__IDX1)], nested_coordinate_subpath_str=PosixPath('.')), type='CircuitExtraction', neuron_set=IDNeuronSet(type='IDNeuronSet', simulation_level_name=None, sample_percentage=None, sample_seed=0, neuron_ids=SingleNeuronCircuit__top_nodes_dim6__IDX1), initialize=Initialize(type='CircuitExtractions.Initialize', circuit=Circuit(type='Circuit', name='nbS1-HEX0', path='/Users/pokorny/Data/Circuits/nbS1-HEX0/circuit_config.json'), run_validation=False))]"
      ]
     },
     "execution_count": 5,
     "metadata": {},
     "output_type": "execute_result"
    }
   ],
   "source": [
    "# Display the intermediary data\n",
    "grid_scan.multiple_value_parameters(display=True)\n",
    "grid_scan.coordinate_parameters(display=True)\n",
    "grid_scan.coordinate_instances(display=True)"
   ]
  },
  {
   "cell_type": "code",
   "execution_count": 6,
   "metadata": {},
   "outputs": [
    {
     "name": "stdout",
     "output_type": "stream",
     "text": [
      "Extracting subcircuit from 'nbS1-HEX0'\n",
      "Copying morphologies for population 'S1nonbarrel_neurons' (1)\n"
     ]
    },
    {
     "name": "stderr",
     "output_type": "stream",
     "text": [
      "Copying containerized .h5 morphologies: 100%|████████████████████████████████████████████████████████████████████████████████| 1/1 [00:00<00:00, 1082.12it/s]"
     ]
    },
    {
     "name": "stdout",
     "output_type": "stream",
     "text": [
      "Copied 1 morphologies into container (0 already existed)\n",
      "Copying biophysical_neuron_models for population 'S1nonbarrel_neurons' (1)\n",
      "Copying mod files\n",
      "Extraction DONE\n",
      "Extracting subcircuit from 'nbS1-HEX0'\n"
     ]
    },
    {
     "name": "stderr",
     "output_type": "stream",
     "text": [
      "\n"
     ]
    },
    {
     "name": "stdout",
     "output_type": "stream",
     "text": [
      "Copying morphologies for population 'S1nonbarrel_neurons' (1)\n"
     ]
    },
    {
     "name": "stderr",
     "output_type": "stream",
     "text": [
      "Copying containerized .h5 morphologies: 100%|████████████████████████████████████████████████████████████████████████████████| 1/1 [00:00<00:00, 1558.06it/s]"
     ]
    },
    {
     "name": "stdout",
     "output_type": "stream",
     "text": [
      "Copied 1 morphologies into container (0 already existed)\n",
      "Copying biophysical_neuron_models for population 'S1nonbarrel_neurons' (1)\n",
      "Copying mod files\n",
      "Extraction DONE\n",
      "create_bbp_workflow_campaign_config() not yet complete.\n"
     ]
    },
    {
     "name": "stderr",
     "output_type": "stream",
     "text": [
      "\n"
     ]
    },
    {
     "data": {
      "text/plain": [
       "{0: None, 1: None}"
      ]
     },
     "execution_count": 6,
     "metadata": {},
     "output_type": "execute_result"
    }
   ],
   "source": [
    "grid_scan.execute(processing_method='run')"
   ]
  },
  {
   "cell_type": "code",
   "execution_count": 7,
   "metadata": {},
   "outputs": [
    {
     "name": "stdout",
     "output_type": "stream",
     "text": [
      "SingleNeuronCircuit__top_nodes_dim6__IDX0: 1 neuron, 0 local synapses, 0 VPM synapses, 0 POm synapses\n",
      "SingleNeuronCircuit__top_nodes_dim6__IDX1: 1 neuron, 0 local synapses, 104 VPM synapses, 88 POm synapses\n"
     ]
    }
   ],
   "source": [
    "# Check circuits\n",
    "from bluepysnap import Circuit\n",
    "\n",
    "for _inst in grid_scan.coordinate_instances():\n",
    "    cfg = grid_scan.output_root / str(_inst.neuron_set.neuron_ids) / \"circuit_config.json\"\n",
    "    c = Circuit(cfg)\n",
    "    local_nsyn = vpm_nsyn = pom_nsyn = 0\n",
    "    if \"S1nonbarrel_neurons__S1nonbarrel_neurons__chemical\" in c.edges.population_names:\n",
    "        local_nsyn = c.edges[\"S1nonbarrel_neurons__S1nonbarrel_neurons__chemical\"].size\n",
    "    if \"VPM__S1nonbarrel_neurons__chemical\" in c.edges.population_names:\n",
    "        vpm_nsyn = c.edges[\"VPM__S1nonbarrel_neurons__chemical\"].size\n",
    "    if \"POm__S1nonbarrel_neurons__chemical\" in c.edges.population_names:\n",
    "        pom_nsyn = c.edges[\"POm__S1nonbarrel_neurons__chemical\"].size\n",
    "    print(f\"{_inst.neuron_set.neuron_ids}: {c.nodes[\"S1nonbarrel_neurons\"].size} neuron, {local_nsyn} local synapses, {vpm_nsyn} VPM synapses, {pom_nsyn} POm synapses\")\n"
   ]
  }
 ],
 "metadata": {
  "kernelspec": {
   "display_name": "obi-one",
   "language": "python",
   "name": "python3"
  },
  "language_info": {
   "codemirror_mode": {
    "name": "ipython",
    "version": 3
   },
   "file_extension": ".py",
   "mimetype": "text/x-python",
   "name": "python",
   "nbconvert_exporter": "python",
   "pygments_lexer": "ipython3",
   "version": "3.12.9"
  }
 },
 "nbformat": 4,
 "nbformat_minor": 4
}
