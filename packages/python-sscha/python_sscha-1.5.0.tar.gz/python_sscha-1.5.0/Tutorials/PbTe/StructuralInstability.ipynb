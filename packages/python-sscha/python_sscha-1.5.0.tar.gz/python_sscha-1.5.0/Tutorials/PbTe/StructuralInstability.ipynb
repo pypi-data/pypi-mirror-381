{
 "cells": [
  {
   "cell_type": "code",
   "execution_count": 1,
   "metadata": {},
   "outputs": [
    {
     "name": "stdout",
     "output_type": "stream",
     "text": [
      "Using matplotlib backend: Qt5Agg\n",
      "Populating the interactive namespace from numpy and matplotlib\n"
     ]
    }
   ],
   "source": [
    "%pylab"
   ]
  },
  {
   "cell_type": "markdown",
   "metadata": {},
   "source": [
    "# Second order phase transitions and structural instabilities\n",
    "\n",
    "One of the main big features of the self-consistent harmonic approximation (SCHA) is that it provides a complete theoretical framework to study second order phase-transitions for structural instabilities.\n",
    "Examples are charge density wave, ferroelectric materials or structural deformation.\n",
    "An example application for each one of this case is reported, carried out with the SSCHA package:\n",
    "1. [Bianco et. al. Nano Lett. 2019, 19, 5, 3098-3103](https://pubs.acs.org/doi/abs/10.1021/acs.nanolett.9b00504)\n",
    "2. [Aseguinolaza et. al. Phys. Rev. Lett. 122, 075901](https://journals.aps.org/prl/abstract/10.1103/PhysRevLett.122.075901)\n",
    "3. [Bianco et. al. Phys. Rev. B 97, 214101](https://journals.aps.org/prb/abstract/10.1103/PhysRevB.97.214101)\n",
    "\n",
    "According to the Landau theory of second order phase transitions, a phase transition occurs when the free energy curvature around the high-symmetry structure on the direction of the order parameter becomes negative:\n",
    "![](second_order.png)\n",
    "\n",
    "For structural phase transitions, the order parameter is associated to phonon atomic displacements. So we just need to calculate the Free energy Hessian, as:\n",
    "$$\n",
    "\\frac{\\partial^2 F}{\\partial R_a \\partial R_b} \n",
    "$$\n",
    "\n",
    "here, $a$ and $b$ encodes both atomic and cartesian coordinates.\n",
    "This quantity is very hard to compute with a finite difference approach, as it would require a SSCHA calculation for all possible atomic displacements (keeping atoms fixed), and the Free energy is affected by stochastic noise. Luckily, SSCHA provides an analitical equation for the free energy hessian, derived by Raffaello Bianco in the work [Bianco et. al. Phys. Rev. B 96, 014111](https://journals.aps.org/prb/abstract/10.1103/PhysRevB.96.014111).\n",
    "The free energy curvature can be writte in matrical form as:\n",
    "$$\n",
    "\\frac{\\partial^2 F}{\\partial {R_a}\\partial {R_b}} = \\Phi_{ab} + \\sum_{cdef} \\stackrel{(3)}{\\Phi}_{acd}[1 - \\Lambda\\stackrel{(4)}{\\Phi}]^{-1}_{cdef} \\stackrel{(3)}{\\Phi}_{efb}\n",
    "$$\n",
    "\n",
    "Here, $\\Phi$ is the SCHA force constant matrix obtained by the auxiliary harmonic hamiltonian, $\\stackrel{(3,4)}{\\Phi}$ are the average of the 3rd and 4th derivative of the Born-Oppenheimer energy landscape on the SCHA density matrix, while the $\\Lambda$ tensor is a function of the frequencies of the auxiliary harmonic hamiltonian.\n",
    "\n",
    "Fortunately, this complex equation can be evaluated from the ensemble with a simple function call:\n",
    "```python\n",
    "ensemble.get_free_energy_hessian()\n",
    "```\n",
    "\n",
    "Lets see a practical example:"
   ]
  },
  {
   "cell_type": "code",
   "execution_count": 3,
   "metadata": {},
   "outputs": [],
   "source": [
    "# Lets import all the sscha modules\n",
    "import cellconstructor as CC\n",
    "import cellconstructor.Phonons\n",
    "import sscha, sscha.Ensemble"
   ]
  },
  {
   "cell_type": "code",
   "execution_count": null,
   "metadata": {},
   "outputs": [],
   "source": [
    "# We load the SSCHA dynamical matrix for the PbTe (the one after convergence)\n",
    "dyn_sscha = CC.Phonons.Phonons(\"dyn_sscha\", nqirr = 3)\n",
    "\n",
    "# Now we load the ensemble\n",
    "ensemble = sscha.Ensemble.Ensemble(dyn_sscha, T0 = 1000, supercell=dyn_sscha.GetSupercell())\n",
    "ensemble.load(\"data_ensemble_final\", N = 100, population = 5)\n",
    "\n",
    "# If the sscha matrix was not the one used to compute the ensemble\n",
    "# We must update the ensemble weights\n",
    "# We can also use this function to simulate a different temperature.\n",
    "ensemble.update_weights(dyn_sscha, T = 1000)\n",
    "\n",
    "# ----------- COMPUTE THE FREE ENERGY HESSIAN -----------\n",
    "dyn_hessian = ensemble.get_free_energy_hessian()\n",
    "# -------------------------------------------------------\n",
    "\n",
    "# We can save the free energy hessian as a dynamical matrix in quantum espresso format\n",
    "dyn_hessian.save_qe(\"free_energy_hessian\")"
   ]
  },
  {
   "cell_type": "markdown",
   "metadata": {},
   "source": [
    "This code will do the trick. We can then print the frequencies of the hessian. If an imaginary frequency is present, then the system wants to spontaneosly break the high symmetry phase.\n",
    "\n",
    "The frequencies in the free energy hessian are temperature dependent.\n"
   ]
  },
  {
   "cell_type": "code",
   "execution_count": null,
   "metadata": {},
   "outputs": [],
   "source": []
  }
 ],
 "metadata": {
  "kernelspec": {
   "display_name": "Python 3",
   "language": "python",
   "name": "python3"
  },
  "language_info": {
   "codemirror_mode": {
    "name": "ipython",
    "version": 3
   },
   "file_extension": ".py",
   "mimetype": "text/x-python",
   "name": "python",
   "nbconvert_exporter": "python",
   "pygments_lexer": "ipython3",
   "version": "3.7.6"
  }
 },
 "nbformat": 4,
 "nbformat_minor": 4
}
