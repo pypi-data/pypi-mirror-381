{
 "cells": [
  {
   "cell_type": "markdown",
   "id": "630aa133",
   "metadata": {},
   "source": [
    "Date: June 5, 2025  \n",
    "Author: Diane Menuz  \n",
    "Looked at daily and monthly daytime energy closure for all sites with data available between March and October 2024\n"
   ]
  },
  {
   "cell_type": "markdown",
   "id": "ce44efdc",
   "metadata": {},
   "source": [
    "Most recent data for any site in the database is from March 2025\n",
    "\n",
    "Sites with data between March and October 2024: US-CdM, US-UTD, US-UTE, US-UTJ, US-UTM, US-UTV, US-UTW"
   ]
  },
  {
   "cell_type": "markdown",
   "id": "3bec45fe",
   "metadata": {},
   "source": [
    "# Parameters and Libraries"
   ]
  },
  {
   "cell_type": "markdown",
   "id": "2998e639",
   "metadata": {},
   "source": [
    "## Parameters"
   ]
  },
  {
   "cell_type": "code",
   "execution_count": 8,
   "id": "c61b140a",
   "metadata": {},
   "outputs": [],
   "source": [
    "table = 'amfluxeddy'\n",
    "\n",
    "micromet_path= \"C:/Users/dmenuz/Documents/scripts/MicroMet/src/micromet\"\n",
    "loggerloader_path= \"C:/Users/dmenuz/Documents/scripts/loggerloader\""
   ]
  },
  {
   "cell_type": "markdown",
   "id": "bed8a4f8",
   "metadata": {},
   "source": [
    "## Libraries"
   ]
  },
  {
   "cell_type": "code",
   "execution_count": 9,
   "id": "20445ee6",
   "metadata": {},
   "outputs": [],
   "source": [
    "import pandas as pd\n",
    "import numpy as np\n",
    "import importlib.util\n",
    "import plotly.graph_objects as go\n",
    "import plotly.express as px\n",
    "\n",
    "\n",
    "from sqlalchemy import create_engine, inspect\n",
    "from urllib.parse import quote  \n",
    "import requests\n",
    "import json"
   ]
  },
  {
   "cell_type": "code",
   "execution_count": 10,
   "id": "d4969303",
   "metadata": {},
   "outputs": [],
   "source": [
    "# import functions\n",
    "import sys\n",
    "sys.path.append(micromet_path)\n",
    "import graphs as mm_graphs\n",
    "\n",
    "sys.path.append(loggerloader_path)\n",
    "import loggerloader as ll"
   ]
  },
  {
   "cell_type": "markdown",
   "id": "6ba43147",
   "metadata": {},
   "source": [
    "## Database Connection"
   ]
  },
  {
   "cell_type": "code",
   "execution_count": null,
   "id": "65b3bc09",
   "metadata": {},
   "outputs": [],
   "source": [
    "spec = importlib.util.spec_from_file_location(\"dbconnect\", \"C:/Users/dmenuz/Documents/scripts/supporting_files/dbconnect_cloud.py\")\n",
    "dbconnect = importlib.util.module_from_spec(spec)\n",
    "spec.loader.exec_module(dbconnect)\n",
    "\n",
    "engine = dbconnect.postconn_ugs_read()"
   ]
  },
  {
   "cell_type": "markdown",
   "id": "34c1a9f9",
   "metadata": {},
   "source": [
    "# Daily and Monthly Data"
   ]
  },
  {
   "cell_type": "code",
   "execution_count": null,
   "id": "59d460ad",
   "metadata": {},
   "outputs": [],
   "source": [
    "start_date = '2024-03-01'\n",
    "end_date = '2024-10-31'\n",
    "monthly_dict = {}\n",
    "growing_season_dict = {}\n"
   ]
  },
  {
   "cell_type": "code",
   "execution_count": null,
   "id": "b345bd63",
   "metadata": {},
   "outputs": [],
   "source": [
    "# pull data from database to get list of stations with data\n",
    "query = \"SELECT DiSTINCT stationid FROM groundwater.amfluxeddy WHERE datetime_start >= %(start_date)s and datetime_start <= %(end_date)s and netrad >-9999 and g>-9999\"\n",
    "stations = pd.read_sql(query, engine, params={'start_date': start_date, 'end_date': end_date})"
   ]
  },
  {
   "cell_type": "code",
   "execution_count": 49,
   "id": "44f7c1eb",
   "metadata": {},
   "outputs": [
    {
     "name": "stdout",
     "output_type": "stream",
     "text": [
      "US-UTD\n",
      "US-UTV\n",
      "US-CdM\n",
      "US-UTE\n",
      "US-UTJ\n",
      "US-UTM\n",
      "US-UTW\n"
     ]
    }
   ],
   "source": [
    "for station in stations.stationid:\n",
    "    print(station)\n",
    "    query = \"SELECT * FROM groundwater.amfluxeddy WHERE stationid = %(sid)s and datetime_start >= %(start_date)s and datetime_start <= %(end_date)s\"\n",
    "    params={'sid': station, 'start_date': start_date, 'end_date': end_date}\n",
    "\n",
    "    # set index, drop na values\n",
    "    eddy = pd.read_sql(query, engine, params=params)\n",
    "    eddy.set_index('datetime_start', inplace=True)\n",
    "    eddy.replace(-9999,np.nan,inplace=True)\n",
    "    eddy_dropna = eddy.dropna(subset = ['netrad', 'h', 'le', 'g'], how='any')\n",
    "    eddy.head()\n",
    "\n",
    "    # select hours that are in good days (48 records)\n",
    "    drop_threshold=48\n",
    "    daily_dat = eddy_dropna.resample('D').count()\n",
    "    daily_net_enough_records = daily_dat[daily_dat.netrad>=drop_threshold]\n",
    "    hourly_gooddays = eddy_dropna[eddy_dropna.index.floor('D').isin(daily_net_enough_records.index)]\n",
    "\n",
    "    # summarize to monthly\n",
    "    monthly_clean = hourly_gooddays.resample('MS').agg({\n",
    "        'le': 'sum',\n",
    "        'h': 'sum',\n",
    "        'netrad': 'sum',\n",
    "        'g': 'sum',\n",
    "        'stationid':'count'\n",
    "    })\n",
    "\n",
    "    monthly_clean['closure'] = (monthly_clean['le']+monthly_clean['h'])/(monthly_clean['netrad']-monthly_clean['g'])\n",
    "    monthly_clean['days_in_month'] = monthly_clean['stationid']/48\n",
    "    monthly_dict[station] = monthly_clean[['closure', 'days_in_month']]\n",
    "\n",
    "    # summarize to growing season (or annual)\n",
    "    growing_season = hourly_gooddays.resample('YE').agg({\n",
    "        'le': 'sum',\n",
    "        'h': 'sum',\n",
    "        'netrad': 'sum',\n",
    "        'g': 'sum',\n",
    "        'stationid':'count',\n",
    "    })\n",
    "\n",
    "\n",
    "    growing_season['closure'] = (growing_season['le']+growing_season['h'])/(growing_season['netrad']-growing_season['g'])\n",
    "    growing_season_dict[station] = growing_season['closure'].iloc[0]\n",
    "\n",
    "\n",
    "    "
   ]
  },
  {
   "cell_type": "code",
   "execution_count": 68,
   "id": "b4c285bc",
   "metadata": {},
   "outputs": [],
   "source": [
    "monthly_dat = pd.concat(monthly_dict)\n",
    "monthly_dat.reset_index(inplace=True)\n",
    "\n",
    "pivoted_df = monthly_dat.pivot_table(\n",
    "    index='datetime_start',\n",
    "    columns='level_0',\n",
    "    values=['days_in_month', 'closure'],\n",
    "    aggfunc='first'\n",
    ")\n",
    "pivoted_df.to_csv(r'C:\\Users\\dmenuz\\Desktop\\temp\\closure.csv')"
   ]
  },
  {
   "cell_type": "code",
   "execution_count": 71,
   "id": "be720854",
   "metadata": {},
   "outputs": [
    {
     "data": {
      "text/plain": [
       "{'US-UTD': np.float64(0.6397409110828715),\n",
       " 'US-UTV': np.float64(0.736573045050875),\n",
       " 'US-CdM': np.float64(1.0633013953635682),\n",
       " 'US-UTE': np.float64(0.8272994929715909),\n",
       " 'US-UTJ': np.float64(0.5777436614735132),\n",
       " 'US-UTM': np.float64(1.0090151859946075),\n",
       " 'US-UTW': np.float64(0.6217252583844296)}"
      ]
     },
     "execution_count": 71,
     "metadata": {},
     "output_type": "execute_result"
    }
   ],
   "source": [
    "growing_season_dict\n"
   ]
  },
  {
   "cell_type": "code",
   "execution_count": null,
   "id": "adaba3c9",
   "metadata": {},
   "outputs": [],
   "source": []
  }
 ],
 "metadata": {
  "kernelspec": {
   "display_name": "pygis12v3",
   "language": "python",
   "name": "python3"
  },
  "language_info": {
   "codemirror_mode": {
    "name": "ipython",
    "version": 3
   },
   "file_extension": ".py",
   "mimetype": "text/x-python",
   "name": "python",
   "nbconvert_exporter": "python",
   "pygments_lexer": "ipython3",
   "version": "3.12.6"
  }
 },
 "nbformat": 4,
 "nbformat_minor": 5
}
