{
 "cells": [
  {
   "cell_type": "code",
   "execution_count": null,
   "id": "initial_id",
   "metadata": {
    "collapsed": true
   },
   "outputs": [],
   "source": [
    ""
   ]
  },
  {
   "metadata": {},
   "cell_type": "code",
   "outputs": [],
   "execution_count": null,
   "source": "",
   "id": "4a67128dd573dd65"
  },
  {
   "metadata": {},
   "cell_type": "code",
   "outputs": [],
   "execution_count": null,
   "source": [
    "raw_fold = pathlib.Path('H:/UGS_Flux/Data_Downloads/Wellington')\n",
    "value = 'm20240723'\n",
    "raw_met_data = micromet.raw_file_compile(raw_fold, value, search_str = \"*AmeriFlux*.dat\")\n",
    "\n",
    "print(pd.to_datetime(raw_met_data['TIMESTAMP_START'][0],format='%Y%m%d%H%M'))\n",
    "\n",
    "raw_met_data['datetime'] = pd.date_range(start='2024-07-11 06:00:00', freq='30min', periods=len(raw_met_data))\n",
    "raw_met_data.set_index('datetime', inplace=True)\n",
    "#micromet.Reformatter(raw_met_data)"
   ],
   "id": "1d6bcba4ee0dc0b9"
  },
  {
   "metadata": {},
   "cell_type": "code",
   "outputs": [],
   "execution_count": null,
   "source": "data.rename(columns={'WD':'csat_WD'})['csat_WD']",
   "id": "d40622635efc51b8"
  },
  {
   "metadata": {},
   "cell_type": "code",
   "outputs": [],
   "execution_count": null,
   "source": [
    "df_wd = pd.concat([data.rename(columns={'WD':'csat_WD','WS':'csat_WS'}),\n",
    "                  raw_met_data.rename(columns={'WD':'young_WD','WS':'young_WS'}).shift(-1)], axis=1)\n",
    "df_wd = df_wd[['csat_WD','young_WD','csat_WS','young_WS']].dropna(axis=1, how='all')\n",
    "df_wd['csat_wd_rad'] = pg.circ_axial(pg.convert_angles(df_wd['csat_WD'],positive=True),2)\n",
    "csat_wd_mean = pg.circ_mean(pg.convert_angles(df_wd['csat_WD']))\n",
    "df_wd['young_wd_rad'] = pg.circ_axial(pg.convert_angles(df_wd['young_WD'],positive=True),2)\n",
    "young_wd_mean = pg.circ_mean(pg.convert_angles(df_wd['young_WD']))\n",
    "\n",
    "\n",
    "\n",
    "print(csat_wd_mean, young_wd_mean)\n",
    "pg.circ_corrcc(df_wd['csat_wd_rad'], df_wd['young_wd_rad'], correction_uniform=True)"
   ],
   "id": "cb564d18936c8ce2"
  },
  {
   "metadata": {},
   "cell_type": "code",
   "outputs": [],
   "execution_count": null,
   "source": [
    "df_wd.loc[(df_wd['young_wd_rad']>3.2) & (df_wd['csat_wd_rad']<2),'csat_wd_rad'] = df_wd.loc[(df_wd['young_wd_rad']<3.2) & (df_wd['csat_wd_rad']>2),'csat_wd_rad'] + 6.25\n",
    "\n",
    "fig = px.scatter(df_wd, x='csat_wd_rad', y='young_wd_rad', trendline=\"ols\",color=df_wd.index.hour)\n",
    "fig.show()"
   ],
   "id": "1dd4e19a750efde2"
  },
  {
   "metadata": {},
   "cell_type": "code",
   "outputs": [],
   "execution_count": null,
   "source": [
    "\n",
    "#fig = px.line(df_wd, y=[\"young_WS\",\"csat_WS\"],\n",
    "#              title='custom tick labels')\n",
    "fig = px.scatter(df_wd, x='young_WS', y='csat_WS', trendline=\"ols\",color=df_wd.index.hour)\n",
    "fig.show()"
   ],
   "id": "ac11d5a3922172d7"
  },
  {
   "metadata": {},
   "cell_type": "code",
   "outputs": [],
   "execution_count": null,
   "source": [
    "#raw_met_data['SW_IN'].plot()\n",
    "\n",
    "comp_col = 'LW_OUT'\n",
    "\n",
    "sql = \"SELECT * FROM groundwater.amfluxeddy WHERE (groundwater.amfluxeddy.stationid = 'US-UTW') AND (groundwater.amfluxeddy.timestamp_start >= 202407110000)\"\n",
    "data = pd.read_sql(sql, con=engine)\n",
    "data = data.replace(-9999, np.nan)\n",
    "data.set_index('datetime_start', inplace=True)\n",
    "for col in data.columns:\n",
    "    data.rename(columns={col:col.upper()}, inplace=True)\n",
    "#data['SW_IN'].plot()\n",
    "\n",
    "df = pd.concat([data.rename(columns={f'{comp_col}':f'{comp_col}_HF'})[f'{comp_col}_HF'].shift(-1),\n",
    "                raw_met_data.rename(columns={f'{comp_col}':f'{comp_col}_AP'})[f'{comp_col}_AP']],axis=1).dropna()\n",
    "\n",
    "\n",
    "y = df[f'{comp_col}_HF']\n",
    "x = df[f'{comp_col}_AP']\n",
    "X = sm.add_constant(x)\n",
    "model = sm.OLS(y,X)\n",
    "results = model.fit()\n",
    "print(results.params)\n",
    "\n",
    "\n",
    "\n",
    "fig = px.scatter(df, x=f'{comp_col}_HF', y=f'{comp_col}_AP', trendline=\"ols\",color=df.index.hour)\n",
    "\n",
    "ax = pg.plot_blandaltman(x, y)\n",
    "\n",
    "fig.show()\n",
    "print(results.summary())"
   ],
   "id": "c126b43f974c4ab5"
  },
  {
   "metadata": {},
   "cell_type": "code",
   "outputs": [],
   "execution_count": null,
   "source": "d = pg.plot_blandaltman(x, y)",
   "id": "dcaee96ab9f53b55"
  }
 ],
 "metadata": {
  "kernelspec": {
   "display_name": "Python 3",
   "language": "python",
   "name": "python3"
  },
  "language_info": {
   "codemirror_mode": {
    "name": "ipython",
    "version": 2
   },
   "file_extension": ".py",
   "mimetype": "text/x-python",
   "name": "python",
   "nbconvert_exporter": "python",
   "pygments_lexer": "ipython2",
   "version": "2.7.6"
  }
 },
 "nbformat": 4,
 "nbformat_minor": 5
}
