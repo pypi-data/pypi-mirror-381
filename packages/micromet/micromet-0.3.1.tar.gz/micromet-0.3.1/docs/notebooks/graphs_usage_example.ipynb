{
 "cells": [
  {
   "cell_type": "markdown",
   "id": "c757063c",
   "metadata": {},
   "source": [
    "# Tutorial: Using `graphs.py`\n",
    "\n",
    "This example notebook demonstrates the main plotting and analysis utilities provided in `graphs.py`. Each section generates a small synthetic dataset, calls the target function, and highlights the expected outputs. Replace the demo data with your own observations for real‐world analyses."
   ]
  },
  {
   "cell_type": "markdown",
   "id": "c0920b26",
   "metadata": {},
   "source": [
    "## Setup"
   ]
  },
  {
   "cell_type": "code",
   "execution_count": null,
   "id": "1f2a6d64",
   "metadata": {},
   "outputs": [],
   "source": [
    "import pandas as pd\n",
    "import numpy as np\n",
    "import matplotlib.pyplot as plt\n",
    "import plotly.graph_objects as go\n",
    "import scipy\n",
    "import sys\n",
    "sys.path.append(\"../../src/\")\n",
    "# Local import of graphs.py (make sure it is on your PYTHONPATH or in the same folder)\n",
    "import micromet\n",
    "%matplotlib inline"
   ]
  },
  {
   "cell_type": "markdown",
   "id": "aecea689",
   "metadata": {},
   "source": [
    "## Generate synthetic datasets"
   ]
  },
  {
   "cell_type": "code",
   "execution_count": null,
   "id": "e3a97165",
   "metadata": {},
   "outputs": [],
   "source": [
    "# --- Energy balance demo data -----------------------------------------\n",
    "dates = pd.date_range('2024-06-18 00:00', '2024-06-20 00:00', freq='30T', tz='UTC')\n",
    "hours = dates.hour + dates.minute / 60\n",
    "SW_IN = np.maximum(0, 900 * np.sin(np.deg2rad((hours - 6) / 24 * 360)))\n",
    "LW_IN = np.full_like(SW_IN, 350)\n",
    "SW_OUT = SW_IN * 0.05\n",
    "LW_OUT = LW_IN * 0.9\n",
    "NETRAD = SW_IN + LW_IN - SW_OUT - LW_OUT\n",
    "G = 0.10 * NETRAD\n",
    "LE = 0.40 * (NETRAD - G)\n",
    "H = 0.50 * (NETRAD - G)\n",
    "\n",
    "energy_df = pd.DataFrame(\n",
    "    {\n",
    "        'SW_IN': SW_IN,\n",
    "        'LW_IN': LW_IN,\n",
    "        'SW_OUT': SW_OUT,\n",
    "        'LW_OUT': LW_OUT,\n",
    "        'NETRAD': NETRAD,\n",
    "        'G': G,\n",
    "        'LE': LE,\n",
    "        'H': H,\n",
    "    },\n",
    "    index=dates,\n",
    ")\n",
    "energy_df.head()"
   ]
  },
  {
   "cell_type": "markdown",
   "id": "0b820fed",
   "metadata": {},
   "source": [
    "## 1. Energy Sankey Diagram"
   ]
  },
  {
   "cell_type": "code",
   "execution_count": null,
   "id": "76f2750b",
   "metadata": {},
   "outputs": [],
   "source": [
    "fig = micromet.energy_sankey(energy_df, '2024-06-19 12:00')\n",
    "fig.show()"
   ]
  },
  {
   "cell_type": "markdown",
   "id": "514f147a",
   "metadata": {},
   "source": [
    "## 2. Instrument scatter comparison"
   ]
  },
  {
   "cell_type": "code",
   "execution_count": null,
   "id": "4e910f95",
   "metadata": {},
   "outputs": [],
   "source": [
    "# --- Synthetic instrument data ---------------------------------------\n",
    "rng = pd.date_range('2024-06-01', periods=1000, freq='10min', tz='UTC')\n",
    "edmet = pd.DataFrame(index=rng)\n",
    "edmet['Temp_Instrument1'] = 20 + np.random.normal(0, 1, size=len(rng))\n",
    "edmet['Temp_Instrument2'] = edmet['Temp_Instrument1'] + np.random.normal(0, 0.5, size=len(rng))\n",
    "\n",
    "compare_dict = {\n",
    "    'Temp_Instrument1': ('Temperature', 'Instrument 1', '°C'),\n",
    "    'Temp_Instrument2': ('Temperature', 'Instrument 2', '°C'),\n",
    "}\n",
    "\n",
    "station = 'DemoStation'\n",
    "results = micromet.scatterplot_instrument_comparison(edmet, compare_dict, station)\n",
    "results[:3]  # slope, intercept, R²"
   ]
  },
  {
   "cell_type": "markdown",
   "id": "14b951f2",
   "metadata": {},
   "source": [
    "## 3. Bland–Altman Plot"
   ]
  },
  {
   "cell_type": "code",
   "execution_count": null,
   "id": "121b0f91",
   "metadata": {},
   "outputs": [],
   "source": [
    "_ = micromet.bland_alt_plot(edmet, compare_dict, station)"
   ]
  },
  {
   "cell_type": "markdown",
   "id": "28f766e3",
   "metadata": {},
   "source": [
    "## 4. Mean Difference Plot & Error Metrics"
   ]
  },
  {
   "cell_type": "code",
   "execution_count": null,
   "id": "2089598e",
   "metadata": {},
   "outputs": [],
   "source": [
    "series1 = edmet['Temp_Instrument1'][::6]\n",
    "series2 = edmet['Temp_Instrument2'][::6]\n",
    "\n",
    "# Mean squared error\n",
    "mse = micromet.mean_squared_error(series1, series2)\n",
    "print(f'MSE = {mse:.3f}')\n",
    "\n",
    "# Mean difference (Tukey) plot\n",
    "_ = micromet.mean_diff_plot(series1, series2)"
   ]
  },
  {
   "cell_type": "markdown",
   "id": "25a36daa",
   "metadata": {},
   "source": [
    "## 5. Time‑series plot with date range"
   ]
  },
  {
   "cell_type": "code",
   "execution_count": null,
   "id": "15c94260",
   "metadata": {},
   "outputs": [],
   "source": [
    "# --- Build a MultiIndex dataset --------------------------------------\n",
    "multi_index = pd.MultiIndex.from_product([\n",
    "    ['DemoStation'], rng\n",
    "], names=('station', 'datetime'))\n",
    "\n",
    "multidf = pd.DataFrame({'Temperature': edmet['Temp_Instrument1'].values}, index=multi_index)\n",
    "\n",
    "micromet.plot_timeseries_daterange(multidf, 'DemoStation', 'Temperature', '2024-06-05', '2024-06-07')"
   ]
  },
  {
   "cell_type": "markdown",
   "id": "d1c8b378",
   "metadata": {},
   "source": [
    "## 6. Saving plots interactively"
   ]
  },
  {
   "cell_type": "markdown",
   "id": "0dc53bf2",
   "metadata": {},
   "source": [
    "Use `ipywidgets` to attach the `graphs.save_plot` callback to a button:\n",
    "```python\n",
    "from ipywidgets import Button\n",
    "btn = Button(description='Save Current Figure')\n",
    "btn.on_click(graphs.save_plot)\n",
    "btn\n",
    "```"
   ]
  },
  {
   "cell_type": "markdown",
   "id": "db35e985",
   "metadata": {},
   "source": [
    "## Conclusion\n",
    "This notebook showcased each of the core functions in **graphs.py**. Adapt the synthetic data creation steps to load your real datasets, and integrate these plotting utilities into your own analysis workflows."
   ]
  }
 ],
 "metadata": {
  "language_info": {
   "name": "python"
  }
 },
 "nbformat": 4,
 "nbformat_minor": 5
}
