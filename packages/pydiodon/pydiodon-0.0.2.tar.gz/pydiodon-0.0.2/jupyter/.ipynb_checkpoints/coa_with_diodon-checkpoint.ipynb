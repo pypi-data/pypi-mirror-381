{
 "cells": [
  {
   "cell_type": "markdown",
   "metadata": {},
   "source": [
    "# Correspondence Analysis with Diodon - a tutorial"
   ]
  },
  {
   "cell_type": "markdown",
   "metadata": {},
   "source": [
    "This is an elementary tutorial for Correspondecne Analysis with Diodon."
   ]
  },
  {
   "cell_type": "markdown",
   "metadata": {},
   "source": [
    "### Authors \n",
    "\n",
    "Olivier Coulaud    \n",
    "Alain Franc   \n",
    "Jean-Marc Frigerio   \n",
    "Rémy Peressoni   \n",
    "Florent Pruvost   "
   ]
  },
  {
   "cell_type": "markdown",
   "metadata": {},
   "source": [
    "### Contact and maintainer \n",
    "\n",
    "Alain Franc, alain.franc@inrae.fr"
   ]
  },
  {
   "cell_type": "markdown",
   "metadata": {},
   "source": [
    "### Version\n",
    "\n",
    "started: October, 29th, 2022   \n",
    "version: 22.10.29"
   ]
  },
  {
   "cell_type": "markdown",
   "metadata": {},
   "source": [
    "## Overview"
   ]
  },
  {
   "cell_type": "markdown",
   "metadata": {},
   "source": [
    "The tutorial programm for running CoA is very short, and given here. It will be explained step by step along this notebok.\n",
    "\n",
    "\n",
    "```Python  \n",
    "\n",
    "# importing library\n",
    "import pydiodon as dio \n",
    "# loading dataset\n",
    "infile  = \"../data4tests/CoA_LMF82.txt\"\n",
    "A, rownames, colnames = dio.load_dataset(\"example_coa\")\n",
    "# running CoA\n",
    "L, Y_r, Y_c = dio.coa(A)\n",
    "\n",
    "```\n",
    "It is followed by a few functions for plotting the results\n",
    "\n",
    "```Python\n",
    "\n",
    "# plotting the results\n",
    "dio.plot_coa(Y_r, Y_c, rownames=rownames, colnames=colnames)\n",
    "\n",
    "```\n"
   ]
  },
  {
   "cell_type": "markdown",
   "metadata": {},
   "source": [
    "## Importing python version of diodon"
   ]
  },
  {
   "cell_type": "code",
   "execution_count": 1,
   "metadata": {},
   "outputs": [
    {
     "name": "stdout",
     "output_type": "stream",
     "text": [
      "loading pydiodon - version 22.10.29\n"
     ]
    }
   ],
   "source": [
    "import pydiodon as dio"
   ]
  },
  {
   "cell_type": "markdown",
   "metadata": {},
   "source": [
    "## Loading dataset"
   ]
  },
  {
   "cell_type": "markdown",
   "metadata": {},
   "source": [
    "Use terefor the function dio.load_dataset().  \n",
    "\n",
    "The name for the example for CoA is \"example_coa\""
   ]
  },
  {
   "cell_type": "code",
   "execution_count": 2,
   "metadata": {},
   "outputs": [],
   "source": [
    "A, rownames, colnames = dio.load_dataset(\"example_coa\")"
   ]
  },
  {
   "cell_type": "markdown",
   "metadata": {},
   "source": [
    "## Analyzing dataset"
   ]
  },
  {
   "cell_type": "code",
   "execution_count": 3,
   "metadata": {},
   "outputs": [
    {
     "name": "stdout",
     "output_type": "stream",
     "text": [
      "Y_r =\n",
      "[[ 0.13968116 -0.17571191  0.2411423 ]\n",
      " [ 0.03584189  0.384053    0.34891427]\n",
      " [-0.20892723 -0.18443583  0.05542058]\n",
      " [-0.32498476 -0.0213525  -0.09968779]\n",
      " [ 0.10172804 -0.05901549 -0.07291212]\n",
      " [ 0.06525407 -0.12729234 -0.01156088]\n",
      " [ 0.23654214  0.00725767 -0.00846451]\n",
      " [ 0.03834502  0.20089456  0.2400401 ]\n",
      " [-0.00843841  0.4740163  -0.1293684 ]\n",
      " [-0.20652232  0.11679963  0.12245704]]\n",
      "\n",
      "Y_c =\n",
      "[[-0.32908994 -0.17447121  0.08634824]\n",
      " [ 0.0776667  -0.13837874 -0.0592031 ]\n",
      " [-0.40695846  0.13197546 -0.26248142]\n",
      " [ 0.0634421   0.14297687  0.03874988]\n",
      " [-0.11249182  0.00842469  0.11603206]\n",
      " [ 0.30175635 -0.1391285  -0.08589898]\n",
      " [ 0.21303375 -0.16318396 -0.01532873]\n",
      " [ 0.08340193 -0.11258196  0.03133089]]\n"
     ]
    }
   ],
   "source": [
    "L, Y_r, Y_c = dio.coa(A, k=3)"
   ]
  },
  {
   "cell_type": "code",
   "execution_count": 4,
   "metadata": {},
   "outputs": [
    {
     "name": "stdout",
     "output_type": "stream",
     "text": [
      "plotting axis 1 and 2 ...\n"
     ]
    },
    {
     "data": {
      "image/png": "[encoded data removed]",
      "text/plain": [
       "<Figure size 432x288 with 1 Axes>"
      ]
     },
     "metadata": {
      "needs_background": "light"
     },
     "output_type": "display_data"
    }
   ],
   "source": [
    "dio.plot_coa(Y_r, Y_c, rownames=rownames, colnames=colnames)"
   ]
  },
  {
   "cell_type": "markdown",
   "metadata": {},
   "source": [
    "### Eigenvalues"
   ]
  },
  {
   "cell_type": "markdown",
   "metadata": {},
   "source": [
    "Eigenvalues are given in $L$, and are "
   ]
  },
  {
   "cell_type": "code",
   "execution_count": 5,
   "metadata": {},
   "outputs": [
    {
     "name": "stdout",
     "output_type": "stream",
     "text": [
      "[0.04425764 0.02018083 0.00880238]\n"
     ]
    }
   ],
   "source": [
    "print(L)"
   ]
  },
  {
   "cell_type": "markdown",
   "metadata": {},
   "source": [
    "## References\n",
    "\n",
    "#### For CoA:\n",
    "\n",
    "- L. Lebart, A. Morineau, and N. Tabard. Techniques de la description statistique. Bordas - Dunod, 1977.\n",
    "- L. Lebart, A. Morineau, and J.-P. Fénelon. Traitement des données statistiques. Dunod, Paris, 1982.\n",
    "- L. Lebart, A. Morineau, and M. Piron. Statistique exploratoire multidimensionnelle. Dunod, Paris, 2000\n",
    "- M. Greenacre. Theory and Applications of Correspondence Analysis. Academic Press, 1984.\n",
    "- O. Nenadić and M. Greenacre. Correspondence Analysis in R, with Two- and Three-dimensional Graphics: The ca Package. Journal of Statistical Software, 20(3):1–12, 2007.\n",
    "\n",
    "#### For dataset:\n",
    "Table 8, p. 306, in L. Lebart, A. Morineau, and J.-P. Fénelon (1982).\n",
    "\n",
    "\n",
    "#### For softwares:\n",
    "\n",
    "- the python library is called pydiodon and can be downloaded from XXXX\n",
    "- the Cpp library is called Cppdiodon and can be downloaded from XXX\n",
    "- the \"binding\" of Cppdiodon with pydiodon is called Cppydiodon and can be downloaded from XXX\n",
    "\n",
    "#### Further documentation:\n",
    "\n",
    "The methods used in those libraries and their pseudocodes are explained in\n",
    "\n",
    "A. Franc. Linear Dimensionality Reduction. Inria-Inrae Research report N° 9488; 2022 ; arXiv:2209.13597\n",
    "https://doi.org/10.48550/arXiv.2209.13597\n"
   ]
  },
  {
   "cell_type": "code",
   "execution_count": null,
   "metadata": {},
   "outputs": [],
   "source": []
  }
 ],
 "metadata": {
  "kernelspec": {
   "display_name": "Python 3 (ipykernel)",
   "language": "python",
   "name": "python3"
  },
  "language_info": {
   "codemirror_mode": {
    "name": "ipython",
    "version": 3
   },
   "file_extension": ".py",
   "mimetype": "text/x-python",
   "name": "python",
   "nbconvert_exporter": "python",
   "pygments_lexer": "ipython3",
   "version": "3.10.6"
  }
 },
 "nbformat": 4,
 "nbformat_minor": 4
}
