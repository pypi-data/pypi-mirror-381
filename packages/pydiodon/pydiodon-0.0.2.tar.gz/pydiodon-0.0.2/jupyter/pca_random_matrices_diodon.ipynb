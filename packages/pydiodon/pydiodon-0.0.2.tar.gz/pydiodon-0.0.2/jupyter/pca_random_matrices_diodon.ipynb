{
 "cells": [
  {
   "cell_type": "markdown",
   "metadata": {},
   "source": [
    "# PCA on random matrices"
   ]
  },
  {
   "cell_type": "markdown",
   "metadata": {},
   "source": [
    "af, started 22.10.26"
   ]
  },
  {
   "cell_type": "markdown",
   "metadata": {},
   "source": [
    "## Import librairies"
   ]
  },
  {
   "cell_type": "code",
   "execution_count": 1,
   "metadata": {},
   "outputs": [
    {
     "name": "stdout",
     "output_type": "stream",
     "text": [
      "loading pydiodon - version 22.10.29\n"
     ]
    }
   ],
   "source": [
    "import timeit\n",
    "import numpy as np\n",
    "import matplotlib.pyplot as plt\n",
    "import pydiodon as dio\n",
    "import cppdiodon as cppdio"
   ]
  },
  {
   "cell_type": "markdown",
   "metadata": {},
   "source": [
    "## General approach"
   ]
  },
  {
   "cell_type": "markdown",
   "metadata": {},
   "source": [
    "### Select the dimension of the random matrix"
   ]
  },
  {
   "cell_type": "markdown",
   "metadata": {},
   "source": [
    "matrix $A$ has $m$ rows and $n$ columns."
   ]
  },
  {
   "cell_type": "code",
   "execution_count": 2,
   "metadata": {},
   "outputs": [],
   "source": [
    "m = 1500\n",
    "n = 1500"
   ]
  },
  {
   "cell_type": "markdown",
   "metadata": {},
   "source": [
    "### Select the model for building a random matrix"
   ]
  },
  {
   "cell_type": "markdown",
   "metadata": {},
   "source": [
    "Models are:\n",
    "- `uniform` for a uniform law in $[-1,1]$\n",
    "- `gauss` for a normal law $\\mathcal{N}(0,1)$  of mean 0 and variance 1"
   ]
  },
  {
   "cell_type": "code",
   "execution_count": 3,
   "metadata": {},
   "outputs": [],
   "source": [
    "meth = \"gauss\""
   ]
  },
  {
   "cell_type": "markdown",
   "metadata": {},
   "source": [
    "### Building the random matrix"
   ]
  },
  {
   "cell_type": "code",
   "execution_count": 4,
   "metadata": {},
   "outputs": [],
   "source": [
    "if meth==\"uniform\":\n",
    "    A = -1 + 2*np.random.random((m,n))\n",
    "if meth==\"gauss\":\n",
    "    A = np.random.randn(m,n)"
   ]
  },
  {
   "cell_type": "markdown",
   "metadata": {},
   "source": [
    "### Running the PCA of the random matrix"
   ]
  },
  {
   "cell_type": "markdown",
   "metadata": {},
   "source": [
    "#### py and method is svd"
   ]
  },
  {
   "cell_type": "code",
   "execution_count": 5,
   "metadata": {},
   "outputs": [
    {
     "name": "stdout",
     "output_type": "stream",
     "text": [
      "\n",
      "-----------------------------------------\n",
      "running pca(), version 21.05.05\n",
      "Matrix A has 1500 rows and 1500 columns\n",
      "rank is -1 (full rank if k = -1)\n",
      "pretreatment is standard\n",
      "method is svd\n",
      "------------------------------------------\n",
      "\n",
      "\n",
      "Duration with SVD is 1.2329449039998508\n"
     ]
    }
   ],
   "source": [
    "t_start   = timeit.default_timer()\n",
    "Ys, Ls, Vs = dio.pca(A, meth=\"svd\")\n",
    "t_stop    = timeit.default_timer()\n",
    "print(\"\\nDuration with SVD is\", t_stop-t_start)"
   ]
  },
  {
   "cell_type": "markdown",
   "metadata": {},
   "source": [
    "#### cpp and method is svd"
   ]
  },
  {
   "cell_type": "code",
   "execution_count": null,
   "metadata": {},
   "outputs": [],
   "source": [
    "t_start   = timeit.default_timer()\n",
    "Ys, Ls, Vs = cppdio.pca(A, meth=\"svd\")\n",
    "t_stop    = timeit.default_timer()\n",
    "print(\"\\nDuration with SVD is\", t_stop-t_start)"
   ]
  },
  {
   "cell_type": "markdown",
   "metadata": {},
   "source": [
    "####  Method is rSVD"
   ]
  },
  {
   "cell_type": "code",
   "execution_count": null,
   "metadata": {},
   "outputs": [],
   "source": [
    "k = 500\n",
    "t_start   = timeit.default_timer()\n",
    "Yg, Lg, Vg = dio.pca(A, k = k, meth=\"grp\")\n",
    "t_stop    = timeit.default_timer()\n",
    "print(\"\\nDuration with rSVD is\", t_stop-t_start)"
   ]
  },
  {
   "cell_type": "markdown",
   "metadata": {},
   "source": [
    "### Comparison of singular values between SVD and rSVD"
   ]
  },
  {
   "cell_type": "code",
   "execution_count": null,
   "metadata": {},
   "outputs": [],
   "source": [
    "plt.plot(Ls, c=\"green\")\n",
    "plt.plot(Lg, c=\"blue\")\n",
    "plt.xlabel(\"rank\")\n",
    "plt.ylabel(\"Singular value\")\n",
    "plt.show()"
   ]
  },
  {
   "cell_type": "markdown",
   "metadata": {},
   "source": [
    "- Singular values computed with SVD are in green\n",
    "- Singular values computed with rSVD are in blue"
   ]
  },
  {
   "cell_type": "markdown",
   "metadata": {},
   "source": [
    "### Plotting the components"
   ]
  },
  {
   "cell_type": "code",
   "execution_count": null,
   "metadata": {},
   "outputs": [],
   "source": [
    "dio.plot_components_heatmap(Ys, bins=64)"
   ]
  },
  {
   "cell_type": "markdown",
   "metadata": {},
   "source": [
    "## That's all folks!"
   ]
  }
 ],
 "metadata": {
  "kernelspec": {
   "display_name": "Python 3",
   "language": "python",
   "name": "python3"
  },
  "language_info": {
   "codemirror_mode": {
    "name": "ipython",
    "version": 3
   },
   "file_extension": ".py",
   "mimetype": "text/x-python",
   "name": "python",
   "nbconvert_exporter": "python",
   "pygments_lexer": "ipython3",
   "version": "3.8.10"
  }
 },
 "nbformat": 4,
 "nbformat_minor": 4
}
