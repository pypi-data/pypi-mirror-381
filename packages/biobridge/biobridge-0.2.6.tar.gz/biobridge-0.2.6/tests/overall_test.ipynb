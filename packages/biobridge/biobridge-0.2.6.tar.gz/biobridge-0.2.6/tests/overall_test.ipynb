{
 "cells": [
  {
   "metadata": {},
   "cell_type": "markdown",
   "source": [
    "# Protein Interaction Simulation\n",
    "\n",
    "This Jupyter notebook simulates the interaction between two proteins and a cell.\n",
    "\n",
    "## Importing Necessary Classes\n",
    "\n",
    "We start by importing the `Protein` and `Cell` classes from the `src.blocks` module.\n"
   ],
   "id": "6c2aa1b3276eef9a"
  },
  {
   "cell_type": "code",
   "id": "initial_id",
   "metadata": {
    "collapsed": true,
    "ExecuteTime": {
     "end_time": "2024-09-01T17:24:47.581824Z",
     "start_time": "2024-09-01T17:24:47.090648Z"
    }
   },
   "source": [
    "from src.blocks.protein import Protein\n",
    "from src.blocks.cell import Cell"
   ],
   "outputs": [],
   "execution_count": 2
  },
  {
   "metadata": {},
   "cell_type": "markdown",
   "source": [
    "## Defining Proteins\n",
    "\n",
    "We define two proteins, `protein1` and `protein2`, with their respective names and sequences.\n"
   ],
   "id": "ce1dc0e7c2ddae4a"
  },
  {
   "metadata": {
    "ExecuteTime": {
     "end_time": "2024-09-01T17:24:48.991282Z",
     "start_time": "2024-09-01T17:24:48.989217Z"
    }
   },
   "cell_type": "code",
   "source": [
    "protein1 = Protein(\"Protein A\", \"ACDEFGHIKLMNPQRSTVWY\", id=1)\n",
    "protein2 = Protein(\"Protein B\", \"YVWTSRQPNMLKIHGFEDCA\")"
   ],
   "id": "1ea4c3d600578e8",
   "outputs": [],
   "execution_count": 3
  },
  {
   "metadata": {},
   "cell_type": "markdown",
   "source": "We then check the ID of `protein1`.",
   "id": "9632c38ceb68f7e7"
  },
  {
   "metadata": {
    "ExecuteTime": {
     "end_time": "2024-09-01T17:24:50.600674Z",
     "start_time": "2024-09-01T17:24:50.598111Z"
    }
   },
   "cell_type": "code",
   "source": "print(protein1.get_id())",
   "id": "2fdf50696626f889",
   "outputs": [
    {
     "name": "stdout",
     "output_type": "stream",
     "text": [
      "1\n"
     ]
    }
   ],
   "execution_count": 4
  },
  {
   "metadata": {},
   "cell_type": "markdown",
   "source": [
    "## Defining Interactions\n",
    "\n",
    "We define the interactions between `protein1` and `protein2`.\n"
   ],
   "id": "7296cd8c94e662a3"
  },
  {
   "metadata": {
    "ExecuteTime": {
     "end_time": "2024-09-01T17:24:53.713149Z",
     "start_time": "2024-09-01T17:24:53.710881Z"
    }
   },
   "cell_type": "code",
   "source": [
    "protein1.add_interaction(protein2, \"inhibition\", \"strong\")\n",
    "protein2.add_interaction(protein1, \"activation\", \"moderate\")"
   ],
   "id": "a0d5540f22ffc00c",
   "outputs": [],
   "execution_count": 5
  },
  {
   "metadata": {},
   "cell_type": "markdown",
   "source": [
    "## Defining Bindings\n",
    "\n",
    "We define the bindings of `protein1` and `protein2` to specific sites.\n"
   ],
   "id": "33a38639a2afffd"
  },
  {
   "metadata": {
    "ExecuteTime": {
     "end_time": "2024-09-01T17:24:55.348678Z",
     "start_time": "2024-09-01T17:24:55.346853Z"
    }
   },
   "cell_type": "code",
   "source": [
    "protein1.add_binding(\"Site 1\", \"High\")\n",
    "protein2.add_binding(\"Site 2\", \"Medium\")"
   ],
   "id": "85a4d1ec461e2d53",
   "outputs": [],
   "execution_count": 6
  },
  {
   "metadata": {},
   "cell_type": "markdown",
   "source": [
    "## Defining a Cell\n",
    "\n",
    "We define a cell, `cell`, and add receptors to it.\n"
   ],
   "id": "7f890f9d25cac0c6"
  },
  {
   "metadata": {
    "ExecuteTime": {
     "end_time": "2024-09-01T17:24:57.098843Z",
     "start_time": "2024-09-01T17:24:57.096879Z"
    }
   },
   "cell_type": "code",
   "source": [
    "cell = Cell(\"Cell X\")\n",
    "cell.add_receptor(\"Site 1\")\n",
    "cell.add_receptor(\"Site 3\")"
   ],
   "id": "e936362089637af2",
   "outputs": [],
   "execution_count": 7
  },
  {
   "metadata": {},
   "cell_type": "markdown",
   "source": [
    "## Simulating Protein Interaction with the Cell\n",
    "\n",
    "We simulate the interaction of `protein1` and `protein2` with the cell.\n"
   ],
   "id": "cb8572d740e5b0f1"
  },
  {
   "metadata": {
    "ExecuteTime": {
     "end_time": "2024-09-01T17:24:58.589959Z",
     "start_time": "2024-09-01T17:24:58.587548Z"
    }
   },
   "cell_type": "code",
   "source": [
    "protein1.interact_with_cell(cell)\n",
    "protein2.interact_with_cell(cell)"
   ],
   "id": "507593aca4654303",
   "outputs": [
    {
     "name": "stdout",
     "output_type": "stream",
     "text": [
      "Protein A interacts with Cell X. Binding occurs at Site 1.\n",
      "Protein B interacts with Cell X. No specific binding detected.\n"
     ]
    }
   ],
   "execution_count": 8
  },
  {
   "metadata": {},
   "cell_type": "markdown",
   "source": [
    "## Mutating Sequence\n",
    "\n",
    "We mutate the sequence of `protein1` at position 2 to 'W'.\n"
   ],
   "id": "a228f7868cde1ba8"
  },
  {
   "metadata": {
    "ExecuteTime": {
     "end_time": "2024-09-01T17:25:00.119910Z",
     "start_time": "2024-09-01T17:25:00.117887Z"
    }
   },
   "cell_type": "code",
   "source": [
    "print(\"Original Sequence:\", protein1.sequence)\n",
    "protein1.mutate_sequence(2, 'W')\n",
    "print(\"Mutated Sequence:\", protein1.sequence)"
   ],
   "id": "543865ed5e8ee55b",
   "outputs": [
    {
     "name": "stdout",
     "output_type": "stream",
     "text": [
      "Original Sequence: ACDEFGHIKLMNPQRSTVWY\n",
      "Probability: 0.2\n",
      "Mutated Sequence: ACDEFGHIKLMNPQRSTVWY\n"
     ]
    }
   ],
   "execution_count": 9
  },
  {
   "metadata": {},
   "cell_type": "markdown",
   "source": [
    "## Calculating Properties\n",
    "\n",
    "We calculate the length and molecular weight of `protein1`.\n"
   ],
   "id": "5b19a4abefc72b9"
  },
  {
   "metadata": {
    "ExecuteTime": {
     "end_time": "2024-09-01T17:25:02.510945Z",
     "start_time": "2024-09-01T17:25:02.508582Z"
    }
   },
   "cell_type": "code",
   "source": [
    "properties = protein1.calculate_properties()\n",
    "print(f\"Protein Length: {properties['length']}\")\n",
    "print(f\"Molecular Weight: {properties['molecular_weight']:.2f} Da\")"
   ],
   "id": "41b3d4b6b401a749",
   "outputs": [
    {
     "name": "stdout",
     "output_type": "stream",
     "text": [
      "Protein Length: 20\n",
      "Molecular Weight: 2738.04 Da\n"
     ]
    }
   ],
   "execution_count": 10
  },
  {
   "metadata": {},
   "cell_type": "markdown",
   "source": [
    "## Simulating Interactions\n",
    "\n",
    "We simulate the interactions of `protein1`.\n"
   ],
   "id": "16c23d7ce59379e8"
  },
  {
   "metadata": {
    "ExecuteTime": {
     "end_time": "2024-09-01T17:25:04.895262Z",
     "start_time": "2024-09-01T17:25:04.770793Z"
    }
   },
   "cell_type": "code",
   "source": "protein1.simulate_interactions()",
   "id": "3bc6ff2348b1aac3",
   "outputs": [
    {
     "data": {
      "text/plain": [
       "<Figure size 640x480 with 1 Axes>"
      ],
      "image/png": "[encoded data removed]"
     },
     "metadata": {},
     "output_type": "display_data"
    }
   ],
   "execution_count": 11
  },
  {
   "metadata": {},
   "cell_type": "markdown",
   "source": [
    "## Printing Protein as JSON\n",
    "\n",
    "Finally, we print `protein1` as JSON.\n"
   ],
   "id": "125db1904731587d"
  },
  {
   "metadata": {
    "ExecuteTime": {
     "end_time": "2024-09-01T17:25:08.739428Z",
     "start_time": "2024-09-01T17:25:08.736596Z"
    }
   },
   "cell_type": "code",
   "source": "print(protein1.to_json())",
   "id": "f6d72fed6164fda4",
   "outputs": [
    {
     "name": "stdout",
     "output_type": "stream",
     "text": [
      "{\n",
      "  \"name\": \"Protein A\",\n",
      "  \"sequence\": \"ACDEFGHIKLMNPQRSTVWY\",\n",
      "  \"structure\": null,\n",
      "  \"secondary_structure\": null,\n",
      "  \"interactions\": [\n",
      "    {\n",
      "      \"protein\": \"Protein B\",\n",
      "      \"type\": \"inhibition\",\n",
      "      \"strength\": \"strong\"\n",
      "    }\n",
      "  ],\n",
      "  \"bindings\": [\n",
      "    {\n",
      "      \"site\": \"Site 1\",\n",
      "      \"affinity\": \"High\"\n",
      "    }\n",
      "  ],\n",
      "  \"active\": 1.0\n",
      "}\n"
     ]
    }
   ],
   "execution_count": 12
  }
 ],
 "metadata": {
  "kernelspec": {
   "display_name": "Python 3",
   "language": "python",
   "name": "python3"
  },
  "language_info": {
   "codemirror_mode": {
    "name": "ipython",
    "version": 2
   },
   "file_extension": ".py",
   "mimetype": "text/x-python",
   "name": "python",
   "nbconvert_exporter": "python",
   "pygments_lexer": "ipython2",
   "version": "2.7.6"
  }
 },
 "nbformat": 4,
 "nbformat_minor": 5
}
