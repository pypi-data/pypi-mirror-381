{
 "cells": [
  {
   "cell_type": "code",
   "execution_count": null,
   "id": "16047c63",
   "metadata": {},
   "outputs": [],
   "source": [
    "import os\n",
    "\n",
    "import numpy as np\n",
    "from matplotlib import pyplot as plt"
   ]
  },
  {
   "cell_type": "code",
   "execution_count": null,
   "id": "674f05b4",
   "metadata": {},
   "outputs": [],
   "source": [
    "for param0 in [\"a\", \"b\", \"c\"]:\n",
    "    for param1 in range(3):\n",
    "        if param0 == \"c\" and param1 == 1:\n",
    "            continue  # missing data point\n",
    "        x = np.linspace(0, 2 * np.pi, 100)\n",
    "        y = np.sin(x + param1) + (ord(param0) - ord(\"a\")) * 0.5\n",
    "        color = {\n",
    "            \"a\": \"blue\",\n",
    "            \"b\": \"green\",\n",
    "            \"c\": \"orange\",\n",
    "        }[param0]\n",
    "        with plt.xkcd():\n",
    "            plt.plot(x, y, color=color, lw=4)\n",
    "            plt.title(f\"param0={param0}, param1={param1}\")\n",
    "            os.makedirs(f\"param0_{param0}/param1_{param1}\", exist_ok=True)\n",
    "            plt.savefig(f\"param0_{param0}/param1_{param1}/file.png\")\n",
    "            plt.close()"
   ]
  }
 ],
 "metadata": {
  "kernelspec": {
   "display_name": "disco_ad",
   "language": "python",
   "name": "python3"
  },
  "language_info": {
   "codemirror_mode": {
    "name": "ipython",
    "version": 3
   },
   "file_extension": ".py",
   "mimetype": "text/x-python",
   "name": "python",
   "nbconvert_exporter": "python",
   "pygments_lexer": "ipython3",
   "version": "3.12.11"
  }
 },
 "nbformat": 4,
 "nbformat_minor": 5
}
