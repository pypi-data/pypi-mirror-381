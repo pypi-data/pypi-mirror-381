{
 "cells": [
  {
   "cell_type": "markdown",
   "metadata": {},
   "source": [
    "# Offline notebook example\n",
    "\n",
    "You should see three new buttons:\n",
    "![Offline notebook buttons](./offline-notebook-buttons.png)"
   ]
  },
  {
   "cell_type": "markdown",
   "metadata": {},
   "source": [
    "1. Make some changes to this notebook (or run it to update the output).\n",
    "2. Do not save the notebook. You can even disconnect from the Jupyter server or your network.\n",
    "3. Click the first button (`Download`). This should prompt you to download the notebook.\n",
    "4. Click the second button (`cloud download`). This should save the current notebook into your browser's [local-storage](https://developer.mozilla.org/en-US/docs/Web/API/Window/localStorage).\n",
    "5. Start a new instance of Jupyter, and open the original version of this notebook.\n",
    "6. Click the third button (`cloud upload`). This should restore the copy of the notebook from your browser's local-storage."
   ]
  },
  {
   "cell_type": "code",
   "execution_count": null,
   "metadata": {},
   "outputs": [],
   "source": [
    "from datetime import datetime\n",
    "print(datetime.now())"
   ]
  },
  {
   "cell_type": "code",
   "execution_count": null,
   "metadata": {},
   "outputs": [],
   "source": [
    "import os\n",
    "for (k, v) in sorted(os.environ.items()):\n",
    "    print(f'{k}\\t{v}')"
   ]
  },
  {
   "cell_type": "markdown",
   "metadata": {},
   "source": [
    "Limitations: see [README.md](https://github.com/manics/jupyter-offlinenotebook/blob/main/README.md)"
   ]
  }
 ],
 "metadata": {
  "kernelspec": {
   "display_name": "Python 3",
   "language": "python",
   "name": "python3"
  },
  "language_info": {
   "codemirror_mode": {
    "name": "ipython",
    "version": 3
   },
   "file_extension": ".py",
   "mimetype": "text/x-python",
   "name": "python",
   "nbconvert_exporter": "python",
   "pygments_lexer": "ipython3",
   "version": "3.7.5"
  }
 },
 "nbformat": 4,
 "nbformat_minor": 2
}
