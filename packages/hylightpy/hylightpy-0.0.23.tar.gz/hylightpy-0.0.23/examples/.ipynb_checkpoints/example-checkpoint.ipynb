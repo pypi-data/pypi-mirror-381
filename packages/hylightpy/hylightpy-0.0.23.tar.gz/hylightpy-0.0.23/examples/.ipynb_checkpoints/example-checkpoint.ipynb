{
 "cells": [
  {
   "cell_type": "markdown",
   "id": "dd5da9be-109b-416f-9cad-788b7e02d18e",
   "metadata": {},
   "source": [
    "# Hylight"
   ]
  },
  {
   "cell_type": "code",
   "execution_count": 1,
   "id": "b7c682f1-baf2-471f-8c05-5767cbefe3e2",
   "metadata": {},
   "outputs": [],
   "source": [
    "import hylightpy"
   ]
  },
  {
   "cell_type": "code",
   "execution_count": 2,
   "id": "c7778f2a-ae71-43c3-970a-826e32096608",
   "metadata": {},
   "outputs": [],
   "source": [
    "from matplotlib import pyplot as plt\n",
    "import numpy as np"
   ]
  },
  {
   "cell_type": "code",
   "execution_count": 3,
   "id": "b1610fd6-fdab-4b0b-93db-f722966760a9",
   "metadata": {},
   "outputs": [
    {
     "data": {
      "text/plain": [
       "'0.0.17'"
      ]
     },
     "execution_count": 3,
     "metadata": {},
     "output_type": "execute_result"
    }
   ],
   "source": [
    "hylightpy.__version__"
   ]
  },
  {
   "cell_type": "markdown",
   "id": "4e240b4a-bfdc-4187-83dd-0daa86919d11",
   "metadata": {},
   "source": [
    "First, we initialise the class with a 10-level atom in Case B, enabling radiative recombination only (i.e. shutting down collisional excitation from the ground states). \n",
    "\n",
    "Here, we use 100 levels for demonstration. The user should caution that this is a memory-intensive caculation. Be careful to run the code on your personal laptop! \n",
    "\n",
    "**Note: Initialising H atom with 100 levels takes 16 GB RAM and 1000 seconds.**\n",
    "\n",
    "**Note: Initialising H atom with 10 levels takes 10 GB RAM and 10 seconds.**\n",
    "\n",
    "The following line will create a cache directory in your working directory. There is the optional to point to a user-defined path. \n",
    "\n",
    "We use a cache folder to store the cascade matrix elements so that we don't need to compute them everytime. "
   ]
  },
  {
   "cell_type": "code",
   "execution_count": 5,
   "id": "2cc62ef3-326e-48df-83d8-f249765ffaf6",
   "metadata": {},
   "outputs": [
    {
     "name": "stdout",
     "output_type": "stream",
     "text": [
      " ░▒▓█▓▒░░▒▓█▓▒░▒▓█▓▒░░▒▓█▓▒░▒▓█▓▒░      ░▒▓█▓▒░░▒▓██████▓▒░░▒▓█▓▒░░▒▓█▓▒░▒▓████████▓▒░ \n",
      " ░▒▓█▓▒░░▒▓█▓▒░▒▓█▓▒░░▒▓█▓▒░▒▓█▓▒░      ░▒▓█▓▒░▒▓█▓▒░░▒▓█▓▒░▒▓█▓▒░░▒▓█▓▒░  ░▒▓█▓▒░     \n",
      " ░▒▓█▓▒░░▒▓█▓▒░▒▓█▓▒░░▒▓█▓▒░▒▓█▓▒░      ░▒▓█▓▒░▒▓█▓▒░      ░▒▓█▓▒░░▒▓█▓▒░  ░▒▓█▓▒░     \n",
      " ░▒▓████████▓▒░░▒▓██████▓▒░░▒▓█▓▒░      ░▒▓█▓▒░▒▓█▓▒▒▓███▓▒░▒▓████████▓▒░  ░▒▓█▓▒░     \n",
      " ░▒▓█▓▒░░▒▓█▓▒░  ░▒▓█▓▒░   ░▒▓█▓▒░      ░▒▓█▓▒░▒▓█▓▒░░▒▓█▓▒░▒▓█▓▒░░▒▓█▓▒░  ░▒▓█▓▒░     \n",
      " ░▒▓█▓▒░░▒▓█▓▒░  ░▒▓█▓▒░   ░▒▓█▓▒░      ░▒▓█▓▒░▒▓█▓▒░░▒▓█▓▒░▒▓█▓▒░░▒▓█▓▒░  ░▒▓█▓▒░     \n",
      " ░▒▓█▓▒░░▒▓█▓▒░  ░▒▓█▓▒░   ░▒▓████████▓▒░▒▓█▓▒░░▒▓██████▓▒░░▒▓█▓▒░░▒▓█▓▒░  ░▒▓█▓▒░     \n",
      "Folder './cache' already exists.\n",
      "Einstein coefficients unpickled from existing file\n",
      " ... Imposing caseB (no Lyman-transitions) \n",
      "Recombination rates read and fitted\n",
      "Collisional Excitaion Rates read and fitted\n",
      " ... Cascade matrix: P copied in time 73.64 s\n",
      " ... Cascade matrix: probability matrix computed (eq. 4.8) in time 1.50\n",
      " ... Cascade matrix: transpose of probability matrix computed in time 19.36\n",
      " ... Cascade matrix: matrix initialized (eq. 4.10) in time 7.97\n",
      " ...    Computed level = 100 in time 53.11, len = 99\n",
      " ...    Computed level = 99 in time 51.34, len = 98\n",
      " ...    Computed level = 98 in time 49.65, len = 97\n",
      " ...    Computed level = 97 in time 47.13, len = 96\n",
      " ...    Computed level = 96 in time 45.25, len = 95\n",
      " ...    Computed level = 95 in time 43.46, len = 94\n",
      " ...    Computed level = 94 in time 41.77, len = 93\n",
      " ...    Computed level = 93 in time 40.16, len = 92\n",
      " ...    Computed level = 92 in time 38.37, len = 91\n",
      " ...    Computed level = 91 in time 36.78, len = 90\n",
      " ...    Computed level = 90 in time 34.96, len = 89\n",
      " ...    Computed level = 89 in time 33.60, len = 88\n",
      " ...    Computed level = 88 in time 31.85, len = 87\n",
      " ...    Computed level = 87 in time 30.52, len = 86\n",
      " ...    Computed level = 86 in time 29.14, len = 85\n",
      " ...    Computed level = 85 in time 27.40, len = 84\n",
      " ...    Computed level = 84 in time 26.43, len = 83\n",
      " ...    Computed level = 83 in time 25.19, len = 82\n",
      " ...    Computed level = 82 in time 23.88, len = 81\n",
      " ...    Computed level = 81 in time 22.81, len = 80\n",
      " ...    Computed level = 80 in time 21.47, len = 79\n",
      " ...    Computed level = 79 in time 20.46, len = 78\n",
      " ...    Computed level = 78 in time 19.36, len = 77\n",
      " ...    Computed level = 77 in time 18.47, len = 76\n",
      " ...    Computed level = 76 in time 17.51, len = 75\n",
      " ...    Computed level = 75 in time 16.82, len = 74\n",
      " ...    Computed level = 74 in time 15.69, len = 73\n",
      " ...    Computed level = 73 in time 15.08, len = 72\n",
      " ...    Computed level = 72 in time 14.02, len = 71\n",
      " ...    Computed level = 71 in time 13.22, len = 70\n",
      " ...    Computed level = 70 in time 12.66, len = 69\n",
      " ...    Computed level = 69 in time 11.69, len = 68\n",
      " ...    Computed level = 68 in time 11.11, len = 67\n",
      " ...    Computed level = 67 in time 10.44, len = 66\n",
      " ...    Computed level = 66 in time 9.61, len = 65\n",
      " ...    Computed level = 65 in time 9.01, len = 64\n",
      " ...    Computed level = 64 in time 8.52, len = 63\n",
      " ...    Computed level = 63 in time 8.00, len = 62\n",
      " ...    Computed level = 62 in time 7.49, len = 61\n",
      " ...    Computed level = 61 in time 6.99, len = 60\n",
      " ...    Computed level = 60 in time 6.52, len = 59\n",
      " ...    Computed level = 59 in time 6.09, len = 58\n",
      " ...    Computed level = 58 in time 5.56, len = 57\n",
      " ...    Computed level = 57 in time 5.20, len = 56\n",
      " ...    Computed level = 56 in time 4.81, len = 55\n",
      " ...    Computed level = 55 in time 4.43, len = 54\n",
      " ...    Computed level = 54 in time 4.15, len = 53\n",
      " ...    Computed level = 53 in time 4.31, len = 52\n",
      " ...    Computed level = 52 in time 3.98, len = 51\n",
      " ...    Computed level = 51 in time 3.31, len = 50\n",
      " ...    Computed level = 50 in time 2.87, len = 49\n",
      " ...    Computed level = 49 in time 2.69, len = 48\n",
      " ...    Computed level = 48 in time 2.38, len = 47\n",
      " ...    Computed level = 47 in time 2.16, len = 46\n",
      " ...    Computed level = 46 in time 1.98, len = 45\n",
      " ...    Computed level = 45 in time 1.80, len = 44\n",
      " ...    Computed level = 44 in time 1.62, len = 43\n",
      " ...    Computed level = 43 in time 1.47, len = 42\n",
      " ...    Computed level = 42 in time 1.33, len = 41\n",
      " ...    Computed level = 41 in time 1.26, len = 40\n",
      " ...    Computed level = 40 in time 1.11, len = 39\n",
      " ...    Computed level = 39 in time 0.99, len = 38\n",
      " ...    Computed level = 38 in time 0.90, len = 37\n",
      " ...    Computed level = 37 in time 0.80, len = 36\n",
      " ...    Computed level = 36 in time 0.74, len = 35\n",
      " ...    Computed level = 35 in time 0.66, len = 34\n",
      " ...    Computed level = 34 in time 0.59, len = 33\n",
      " ...    Computed level = 33 in time 0.53, len = 32\n",
      " ...    Computed level = 32 in time 0.49, len = 31\n",
      " ...    Computed level = 31 in time 0.42, len = 30\n",
      " ...    Computed level = 30 in time 0.37, len = 29\n",
      " ...    Computed level = 29 in time 0.33, len = 28\n",
      " ...    Computed level = 28 in time 0.29, len = 27\n",
      " ...    Computed level = 27 in time 0.25, len = 26\n",
      " ...    Computed level = 26 in time 0.22, len = 25\n",
      " ...    Computed level = 25 in time 0.19, len = 24\n",
      " ...    Computed level = 24 in time 0.16, len = 23\n",
      " ...    Computed level = 23 in time 0.14, len = 22\n",
      " ...    Computed level = 22 in time 0.12, len = 21\n",
      " ...    Computed level = 21 in time 0.10, len = 20\n",
      " ...    Computed level = 20 in time 0.09, len = 19\n",
      " ...    Computed level = 19 in time 0.07, len = 18\n",
      " ...    Computed level = 18 in time 0.06, len = 17\n",
      " ...    Computed level = 17 in time 0.05, len = 16\n",
      " ...    Computed level = 16 in time 0.04, len = 15\n",
      " ...    Computed level = 15 in time 0.03, len = 14\n",
      " ...    Computed level = 14 in time 0.02, len = 13\n",
      " ...    Computed level = 13 in time 0.02, len = 12\n",
      " ...    Computed level = 12 in time 0.01, len = 11\n",
      " ...    Computed level = 11 in time 0.01, len = 10\n",
      " ...    Computed level = 10 in time 0.01, len = 9\n",
      " ...    Computed level = 9 in time 0.01, len = 8\n",
      " ...    Computed level = 8 in time 0.00, len = 7\n",
      " ...    Computed level = 7 in time 0.00, len = 6\n",
      " ...    Computed level = 6 in time 0.00, len = 5\n",
      " ...    Computed level = 5 in time 0.00, len = 4\n",
      " ...    Computed level = 4 in time 0.00, len = 3\n",
      " ...    Computed level = 3 in time 0.00, len = 2\n",
      " ...    Computed level = 2 in time 0.00, len = 1\n",
      " ...    Computed level = 1 in time 0.00, len = 0\n",
      " ... Cascade matrix: calculation finished in time 1078.18s\n",
      "Cascade matric elements pickled to file  CascadeC_100_B.pickle\n",
      "Cascade matrix class initialized \n",
      "Class initialized\n"
     ]
    }
   ],
   "source": [
    "HI = hylightpy.HIAtom(nmax = 100, verbose=True, caseB=True,\n",
    "                        recom=True, coll=False, cache_path='./cache')\n",
    "\n",
    "print(\"Class initialized\")"
   ]
  },
  {
   "cell_type": "markdown",
   "id": "0238fc49-3927-4d1e-abfa-8f3b34dd935a",
   "metadata": {},
   "source": [
    "We storeed the Einstein $A$ coefficients in the class. They can be viewed using the following line, where we use the ($n$,$l$) to denote the atomic states. "
   ]
  },
  {
   "cell_type": "code",
   "execution_count": 6,
   "id": "67dd3e48-b969-4d32-b7fa-13c55226d964",
   "metadata": {},
   "outputs": [
    {
     "data": {
      "text/plain": [
       "np.float64(22436400.0)"
      ]
     },
     "execution_count": 6,
     "metadata": {},
     "output_type": "execute_result"
    }
   ],
   "source": [
    "# Einstein coefficients correponding to 3p -> 2s transition\n",
    "HI.A[(3,1)][(2,0)]"
   ]
  },
  {
   "cell_type": "markdown",
   "id": "261a3021-cb6a-4525-891f-fe1ef116a856",
   "metadata": {},
   "source": [
    "Note that in Case~B, the Lyman transitions are optically thick, hence we force the Einstein $A$ values of the Lyman transitions to be zero. "
   ]
  },
  {
   "cell_type": "code",
   "execution_count": 7,
   "id": "e8dfed7d-0932-432c-865b-f2d182f36571",
   "metadata": {},
   "outputs": [
    {
     "data": {
      "text/plain": [
       "0.0"
      ]
     },
     "execution_count": 7,
     "metadata": {},
     "output_type": "execute_result"
    }
   ],
   "source": [
    "# Einstein coefficients correponding to 2p -> 1s transition, 0 in Case B\n",
    "HI.A[(2,1)][(1,0)]"
   ]
  },
  {
   "cell_type": "markdown",
   "id": "dfa3f457-a1ea-4b78-b798-8bb2ee47e9b0",
   "metadata": {},
   "source": [
    "## Line emissivity"
   ]
  },
  {
   "cell_type": "markdown",
   "id": "378fb8a9-38bc-4038-bf59-7ac0e04d3ec9",
   "metadata": {},
   "source": [
    "The user specifies the electron density, HI and HII density as well as the temperature and the transition they are intersted in. \n",
    "In the following example, we set the electron density and HII density to 100 cm$^{-3}$ and the HI density to 10$^{-5}$ cm$^{-3}$. As an example, we calculate the 3$\\to$ 2 transition (Balmer $\\alpha$) at 10$^4$ K. \n",
    "\n",
    "All units are in CGS, i.e. density in cm$^{-3}$. We utilise the unyt package to ensure the units are correct. "
   ]
  },
  {
   "cell_type": "code",
   "execution_count": 8,
   "id": "b5826d5e-65db-4aaa-81b3-2bd611f61b96",
   "metadata": {},
   "outputs": [],
   "source": [
    "import unyt"
   ]
  },
  {
   "cell_type": "code",
   "execution_count": 9,
   "id": "4cdaed55-edab-46e2-ae37-8c7d79c2a5e1",
   "metadata": {},
   "outputs": [
    {
     "data": {
      "text/plain": [
       "unyt_array([3.50935979e-21], 'erg/(cm**3*s)')"
      ]
     },
     "execution_count": 9,
     "metadata": {},
     "output_type": "execute_result"
    }
   ],
   "source": [
    "HI.get_emissivity(ne=unyt.array.unyt_array([1e2], 'cm**(-3)'),\n",
    "                  nHII=unyt.array.unyt_array([1e2], 'cm**(-3)'),\n",
    "                  nHI=unyt.array.unyt_array([1e-5], 'cm**(-3)'),\n",
    "                  temp=unyt.array.unyt_array([1e4], 'K'),\n",
    "                  nupper=3, nlower=2)"
   ]
  },
  {
   "cell_type": "markdown",
   "id": "cbe2fa16-0d0d-40f1-9b5f-83199da0893b",
   "metadata": {},
   "source": [
    "The emissivity actually scales nicely with $n_e n_p$ (see Liu et al. 2025). See the following example. For a given temperature, we vary the density of hydrogen gas and assume the gas is fully ionised ($n_e \\approx n_p$). "
   ]
  },
  {
   "cell_type": "code",
   "execution_count": 17,
   "id": "4f39031d-9445-49a6-ab82-b801f38db231",
   "metadata": {},
   "outputs": [],
   "source": [
    "ne   = [1e-1, 1e0, 1e1, 1e2, 1e3] * unyt.unyt_array(1, 'cm**(-3)')\n",
    "nHII = [1e-1, 1e0, 1e1, 1e2, 1e3] * unyt.unyt_array(1, 'cm**(-3)')\n",
    "nHI  = [1e-5, 1e-5, 1e-5, 1e-5, 1e-5] * unyt.unyt_array(1, 'cm**(-3)')\n",
    "temp = [1e4, 1e4, 1e4, 1e4, 1e4] * unyt.unyt_array(1, 'K')\n",
    "\n",
    "eps  = np.zeros(len(ne))\n",
    "eps  = HI.get_emissivity(ne=ne, nHII=nHII,\n",
    "                         nHI=nHI,\n",
    "                         temp=temp,\n",
    "                         nupper=3, nlower=2)\n",
    "\n",
    "eps_scaling = eps / (ne * nHII)"
   ]
  },
  {
   "cell_type": "code",
   "execution_count": 18,
   "id": "9586f951-325d-4871-b49d-0d492ef6b3ab",
   "metadata": {},
   "outputs": [
    {
     "data": {
      "image/png": "[encoded data removed]",
      "text/plain": [
       "<Figure size 400x400 with 1 Axes>"
      ]
     },
     "metadata": {},
     "output_type": "display_data"
    }
   ],
   "source": [
    "fig, ax = plt.subplots(1, 1, figsize=(4, 4))\n",
    "\n",
    "ax.plot(np.log10(ne.value), np.log10(eps_scaling), color='#FF1F5B', marker='o', linestyle='-', markersize=2)\n",
    "\n",
    "ax.set_yscale('linear')\n",
    "ax.set_xscale('linear')\n",
    "ax.set_xlabel(r'log $n_{\\rm H}$ [cm$^{-3}$]')\n",
    "ax.set_ylabel(r'log $\\frac{\\epsilon}{n_e n_p}$')\n",
    "ax.set_xlim(-1.5, 3.5)\n",
    "ax.tick_params(axis=\"y\",direction=\"in\")\n",
    "ax.tick_params(axis=\"x\",direction=\"in\")"
   ]
  },
  {
   "cell_type": "markdown",
   "id": "85e46a12-762d-495a-80d6-f6f3e4a45799",
   "metadata": {},
   "source": [
    "In the following plot, we plot the emissivity (scaled by $n_e n_p$) as a function of temperature. The temperature dependence in this case comes largely from the weak dependence of recombination coeffcient on temperature. "
   ]
  },
  {
   "cell_type": "code",
   "execution_count": 19,
   "id": "2bd3b4a1-7067-4631-961f-ff1541b8ecc0",
   "metadata": {},
   "outputs": [],
   "source": [
    "ne   = [1e2, 1e2, 1e2, 1e2, 1e2, 1e2] * unyt.unyt_array(1, 'cm**(-3)')\n",
    "nHII = [1e2, 1e2, 1e2, 1e2, 1e2, 1e2] * unyt.unyt_array(1, 'cm**(-3)')\n",
    "nHI  = [1e-5, 1e-5, 1e-5, 1e-5, 1e-5, 1e-5] * unyt.unyt_array(1, 'cm**(-3)')\n",
    "temp = [1e2, 10**(2.5), 1e3, 10**(3.5), 1e4, 10**(4.5)] * unyt.unyt_array(1, 'K')\n",
    "\n",
    "eps  = np.zeros(len(ne))\n",
    "eps  = HI.get_emissivity(ne=ne, nHII=nHII,\n",
    "                         nHI=nHI,\n",
    "                         temp=temp,\n",
    "                         nupper=3, nlower=2)\n",
    "\n",
    "eps_scaling = eps / (ne * nHII)"
   ]
  },
  {
   "cell_type": "code",
   "execution_count": 20,
   "id": "cdf402dc-1c27-484d-aaae-881ac03a941f",
   "metadata": {},
   "outputs": [
    {
     "data": {
      "image/png": "[encoded data removed]",
      "text/plain": [
       "<Figure size 400x400 with 1 Axes>"
      ]
     },
     "metadata": {},
     "output_type": "display_data"
    }
   ],
   "source": [
    "fig, ax = plt.subplots(1, 1, figsize=(4, 4))\n",
    "\n",
    "ax.plot(np.log10(temp.value), np.log10(eps_scaling), color='#FF1F5B', marker='o', linestyle='-', markersize=2)\n",
    "\n",
    "ax.set_yscale('linear')\n",
    "ax.set_xscale('linear')\n",
    "ax.set_xlabel(r'log $T$ [K]')\n",
    "ax.set_ylabel(r'log $\\frac{\\epsilon}{n_e n_p}$')\n",
    "ax.set_xlim(1, 5)\n",
    "ax.tick_params(axis=\"y\",direction=\"in\")\n",
    "ax.tick_params(axis=\"x\",direction=\"in\")"
   ]
  },
  {
   "cell_type": "markdown",
   "id": "e8b044f5-8d98-4dfc-910e-4bb25558f7f8",
   "metadata": {},
   "source": [
    "## Level population for a specific state"
   ]
  },
  {
   "cell_type": "markdown",
   "id": "b1ce1755-4952-4763-8fa9-b02d287cf519",
   "metadata": {},
   "source": [
    "The user specifies the electron density, HI and HII density as well as the temperature and the specific state they are intersted in. \n",
    "In the following example, we set the electron density and HII density to 100 cm$^{-3}$ and the HI density to 10$^{-5}$ cm$^{-3}$. As an example, we calculate the 3$s$ level population density at 10$^4$ K. \n",
    "\n",
    "All units are in CGS, i.e. density in cm$^{-3}$. "
   ]
  },
  {
   "cell_type": "code",
   "execution_count": 21,
   "id": "439affe0-76cd-4757-9d95-c96ad9b01a86",
   "metadata": {},
   "outputs": [
    {
     "name": "stdout",
     "output_type": "stream",
     "text": [
      "[2.42094978e-17]\n"
     ]
    }
   ],
   "source": [
    "levelpop_3s = HI.compute_level_pop(ne=unyt.array.unyt_array([1e2], 'cm**(-3)'), \n",
    "                                   nHI=unyt.array.unyt_array([1e-5], 'cm**(-3)'),\n",
    "                                   nHII=unyt.array.unyt_array([1e2], 'cm**(-3)'), \n",
    "                                   temp=unyt.array.unyt_array([1e4], 'K'), \n",
    "                                   n=3, l=0)\n",
    "print(levelpop_3s)"
   ]
  },
  {
   "cell_type": "markdown",
   "id": "a30969c8-b1d2-4425-83e1-527ba8140172",
   "metadata": {},
   "source": [
    "### Temperature dependence of the level population"
   ]
  },
  {
   "cell_type": "markdown",
   "id": "08f243d6-2326-4737-8d9a-a52170f62291",
   "metadata": {},
   "source": [
    "We demonstrate the temperature dependence of level popualtion 3$s$ in the following example. "
   ]
  },
  {
   "cell_type": "code",
   "execution_count": 22,
   "id": "af656c70-933d-44dc-9b76-8e325ac501d4",
   "metadata": {},
   "outputs": [
    {
     "name": "stderr",
     "output_type": "stream",
     "text": [
      "/tmp/ipykernel_597557/3466169637.py:6: DeprecationWarning: Conversion of an array with ndim > 0 to a scalar is deprecated, and will error in future. Ensure you extract a single element from your array before performing this operation. (Deprecated NumPy 1.25.)\n",
      "  levelpop[i] = HI.compute_level_pop(ne=unyt.array.unyt_array([1e2], 'cm**(-3)'),\n"
     ]
    }
   ],
   "source": [
    "n = 3\n",
    "l = 0\n",
    "logT_list = [1, 1.5, 2, 2.5, 3, 3.5, 4, 4.5, 5]\n",
    "levelpop = np.zeros_like(logT_list, dtype=float)\n",
    "for i, logT in enumerate(logT_list):\n",
    "    levelpop[i] = HI.compute_level_pop(ne=unyt.array.unyt_array([1e2], 'cm**(-3)'), \n",
    "                                       nHI=unyt.array.unyt_array([1e2], 'cm**(-3)'),\n",
    "                                       nHII=unyt.array.unyt_array([1e2], 'cm**(-3)'), \n",
    "                                       temp=unyt.array.unyt_array([10**logT], 'K'), \n",
    "                                       n=3, l=0)"
   ]
  },
  {
   "cell_type": "code",
   "execution_count": 23,
   "id": "f7c93e77-3789-4aef-b8f9-e102d49aebdb",
   "metadata": {},
   "outputs": [
    {
     "data": {
      "image/png": "[encoded data removed]",
      "text/plain": [
       "<Figure size 400x400 with 1 Axes>"
      ]
     },
     "metadata": {},
     "output_type": "display_data"
    }
   ],
   "source": [
    "fig, ax = plt.subplots(1, 1, figsize=(4, 4))\n",
    "\n",
    "ax.plot(logT_list, np.log10(levelpop), color='#FF1F5B', marker='o', linestyle='-', markersize=2)\n",
    "\n",
    "ax.set_yscale('linear')\n",
    "ax.set_xscale('linear')\n",
    "ax.set_xlabel(r'log $T$ [K]')\n",
    "ax.set_ylabel(r'log $n_{3s}$ [cm$^{-3}$]')\n",
    "ax.set_xlim(1, 5)\n",
    "ax.tick_params(axis=\"y\",direction=\"in\")\n",
    "ax.tick_params(axis=\"x\",direction=\"in\")"
   ]
  },
  {
   "cell_type": "markdown",
   "id": "d5687179-8a57-4883-8361-f06110bb5e89",
   "metadata": {},
   "source": [
    "## Recombination rate coefficients"
   ]
  },
  {
   "cell_type": "code",
   "execution_count": 24,
   "id": "43e9895b-d3a9-4fee-af6c-375e84b97d76",
   "metadata": {},
   "outputs": [],
   "source": [
    "import importlib"
   ]
  },
  {
   "cell_type": "code",
   "execution_count": 25,
   "id": "08089c93-a108-4fad-90b7-27912b4129e0",
   "metadata": {},
   "outputs": [],
   "source": [
    "fpath = importlib.resources.files('hylightpy.data').joinpath('h_iso_recomb_HI_150.dat')\n",
    "recom_dict = HI.read_recombination_rates(fname=fpath)"
   ]
  },
  {
   "cell_type": "code",
   "execution_count": 26,
   "id": "bc76374c-fcb4-40e9-a049-40b7b6bcd49e",
   "metadata": {},
   "outputs": [],
   "source": [
    "logTs = recom_dict['LogTs']\n",
    "alpha_nl = recom_dict['recom_data']"
   ]
  },
  {
   "cell_type": "markdown",
   "id": "eb399d23-81ea-4ab0-a5ad-fa48195ce3a8",
   "metadata": {},
   "source": [
    "### Temperature-dependence of the total recombination rate coefficent"
   ]
  },
  {
   "cell_type": "code",
   "execution_count": 27,
   "id": "f59df942-54cf-41f2-bf02-bbf3afd4e446",
   "metadata": {},
   "outputs": [
    {
     "data": {
      "image/png": "[encoded data removed]",
      "text/plain": [
       "<Figure size 333.333x300 with 1 Axes>"
      ]
     },
     "metadata": {},
     "output_type": "display_data"
    }
   ],
   "source": [
    "fig, ax = plt.subplots(1, 1, figsize=(10/3, 3))\n",
    "\n",
    "# index 0 gives the total recombination rate\n",
    "ax.plot(logTs, alpha_nl.iloc[0, 2: 43], color='k', linestyle='-', marker='>')\n",
    "\n",
    "\n",
    "ax.set_yscale('linear')\n",
    "ax.set_xscale('linear')\n",
    "ax.set_xlabel(r'log $T$ [K]')\n",
    "ax.set_ylabel(r'log $\\alpha$ [cm$^{3} \\, s^{-1}$]')\n",
    "ax.set_xlim(1, 7)\n",
    "ax.set_ylim(-16, -10)\n",
    "ax.tick_params(axis=\"y\",direction=\"in\")\n",
    "ax.tick_params(axis=\"x\",direction=\"in\")"
   ]
  },
  {
   "cell_type": "markdown",
   "id": "dfd78732-e853-4071-8b83-cb341bc4e6c9",
   "metadata": {},
   "source": [
    "### Temperature-dependence of the recombination rate coefficent of a specific state"
   ]
  },
  {
   "cell_type": "markdown",
   "id": "ad4107a7-8e5d-446c-85e4-8298a18084d2",
   "metadata": {},
   "source": [
    "The followng function calculates the index of a specific level in the recombination table. "
   ]
  },
  {
   "cell_type": "code",
   "execution_count": 28,
   "id": "b518a411-8f15-4753-87be-3db5f59e66c2",
   "metadata": {},
   "outputs": [],
   "source": [
    "def get_l_level_index(n=1, l=0):\n",
    "    assert type(n) == int and type(l) == int, 'n and l must be intergers.'\n",
    "    assert n >= 1, 'Princuple quantum number can not be smaller than 1.'\n",
    "    assert l < n and l >= 0, 'Angular momentum must be positive and smalled than principle quantum number.'\n",
    "    \n",
    "    il = 0\n",
    "    for j in np.arange(1, n):\n",
    "        il = il + j \n",
    "    il = il + l + 1 # count the l level at current n level, l start from 0\n",
    "    \n",
    "    return il"
   ]
  },
  {
   "cell_type": "markdown",
   "id": "0da13f25-b5de-448b-a1e7-a2ae8d0e90c2",
   "metadata": {},
   "source": [
    "For example, for level 3$s$, the index is 4:"
   ]
  },
  {
   "cell_type": "code",
   "execution_count": 29,
   "id": "1fcf88e9-74d7-45d6-94a1-e04803f999c4",
   "metadata": {},
   "outputs": [
    {
     "data": {
      "text/plain": [
       "np.int64(4)"
      ]
     },
     "execution_count": 29,
     "metadata": {},
     "output_type": "execute_result"
    }
   ],
   "source": [
    "get_l_level_index(n=3, l=0)"
   ]
  },
  {
   "cell_type": "markdown",
   "id": "e615b9d2-dcf5-43c8-b05d-bb484a490f8a",
   "metadata": {},
   "source": [
    "Hence, the temperature-dependence of the recombination rate coefficient $\\alpha_{3,0}$ looks like:"
   ]
  },
  {
   "cell_type": "code",
   "execution_count": 30,
   "id": "02255e01-4673-457f-acc0-cf56e982d891",
   "metadata": {},
   "outputs": [
    {
     "data": {
      "image/png": "[encoded data removed]",
      "text/plain": [
       "<Figure size 333.333x300 with 1 Axes>"
      ]
     },
     "metadata": {},
     "output_type": "display_data"
    }
   ],
   "source": [
    "fig, ax = plt.subplots(1, 1, figsize=(10/3, 3))\n",
    "\n",
    "# index 4 gives alpha_{3s}\n",
    "ax.plot(logTs, alpha_nl.iloc[4, 2: 43], color='blue', linestyle='-', marker='>')\n",
    "\n",
    "\n",
    "ax.set_yscale('linear')\n",
    "ax.set_xscale('linear')\n",
    "ax.set_xlabel(r'log $T$ [K]')\n",
    "ax.set_ylabel(r'log $\\alpha_{3s}$ [cm$^{3} \\, s^{-1}$]')\n",
    "ax.set_xlim(1, 7)\n",
    "ax.set_ylim(-16, -10)\n",
    "ax.tick_params(axis=\"y\",direction=\"in\")\n",
    "ax.tick_params(axis=\"x\",direction=\"in\")"
   ]
  },
  {
   "cell_type": "code",
   "execution_count": null,
   "id": "b4ad865c-4681-41c2-9091-2f1a448923b2",
   "metadata": {},
   "outputs": [],
   "source": []
  }
 ],
 "metadata": {
  "kernelspec": {
   "display_name": "Python 3.12.4 virtual environment",
   "language": "python",
   "name": "python3.12.4-env"
  },
  "language_info": {
   "codemirror_mode": {
    "name": "ipython",
    "version": 3
   },
   "file_extension": ".py",
   "mimetype": "text/x-python",
   "name": "python",
   "nbconvert_exporter": "python",
   "pygments_lexer": "ipython3",
   "version": "3.12.4"
  }
 },
 "nbformat": 4,
 "nbformat_minor": 5
}
