{
 "cells": [
  {
   "cell_type": "markdown",
   "metadata": {},
   "source": [
    "## 1. Run with a fixed bound `N = 5`"
   ]
  },
  {
   "cell_type": "code",
   "execution_count": 1,
   "metadata": {},
   "outputs": [
    {
     "name": "stdout",
     "output_type": "stream",
     "text": [
      "Set parameter WLSAccessID\n",
      "Set parameter WLSSecret\n",
      "Set parameter LicenseID to value 2450049\n",
      "Academic license 2450049 - for non-commercial use only - registered to so___@nii.ac.jp\n",
      "Gurobi Optimizer version 11.0.0 build v11.0.0rc2 (linux64 - \"Ubuntu 22.04.3 LTS\")\n",
      "\n",
      "CPU model: 13th Gen Intel(R) Core(TM) i7-1365U, instruction set [SSE2|AVX|AVX2]\n",
      "Thread count: 6 physical cores, 12 logical processors, using up to 12 threads\n",
      "\n",
      "Academic license 2450049 - for non-commercial use only - registered to so___@nii.ac.jp\n",
      "Optimize a model with 308 rows, 861 columns and 1298 nonzeros\n",
      "Model fingerprint: 0x6bd6a6fe\n",
      "Model has 975 general constraints\n",
      "Variable types: 284 continuous, 577 integer (577 binary)\n",
      "Coefficient statistics:\n",
      "  Matrix range     [5e-03, 5e+00]\n",
      "  Objective range  [0e+00, 0e+00]\n",
      "  Bounds range     [1e+00, 5e+02]\n",
      "  RHS range        [1e-04, 1e+02]\n",
      "  GenCon rhs range [1e-04, 9e+00]\n",
      "  GenCon coe range [5e-01, 1e+00]\n",
      "Presolve added 1073 rows and 0 columns\n",
      "Presolve removed 0 rows and 142 columns\n",
      "Presolve time: 0.04s\n",
      "Presolved: 1381 rows, 719 columns, 3883 nonzeros\n",
      "Variable types: 397 continuous, 322 integer (322 binary)\n",
      "\n",
      "Root relaxation: objective 0.000000e+00, 401 iterations, 0.01 seconds (0.01 work units)\n",
      "\n",
      "    Nodes    |    Current Node    |     Objective Bounds      |     Work\n",
      " Expl Unexpl |  Obj  Depth IntInf | Incumbent    BestBd   Gap | It/Node Time\n",
      "\n",
      "     0     0    0.00000    0    3          -    0.00000      -     -    0s\n",
      "     0     0    0.00000    0   18          -    0.00000      -     -    0s\n",
      "     0     0    0.00000    0   19          -    0.00000      -     -    0s\n",
      "H    0     0                       0.0000000    0.00000  0.00%     -    0s\n",
      "\n",
      "Cutting planes:\n",
      "  Learned: 14\n",
      "  Gomory: 1\n",
      "  Cover: 5\n",
      "  Implied bound: 17\n",
      "  MIR: 12\n",
      "  StrongCG: 1\n",
      "  Flow cover: 1\n",
      "  RLT: 2\n",
      "  Relax-and-lift: 1\n",
      "\n",
      "Explored 1 nodes (966 simplex iterations) in 0.19 seconds (0.09 work units)\n",
      "Thread count was 12 (of 12 available processors)\n",
      "\n",
      "Solution count 1: 0 \n",
      "\n",
      "Optimal solution found (tolerance 1.00e-04)\n",
      "Best objective 0.000000000000e+00, best bound 0.000000000000e+00, gap 0.0000%\n",
      "<stlts.trace.Trace object at 0x7fa3f90cd420>\n"
     ]
    }
   ],
   "source": [
    "import gurobipy as gp\n",
    "from stlts import benchmarks\n",
    "\n",
    "milp = gp.Model()\n",
    "\n",
    "benchmark_name = 'rnc1'\n",
    "bound = 5\n",
    "\n",
    "prob = benchmarks.get_benchmark(milp, benchmark_name, N=bound, delta=0.1)\n",
    "\n",
    "prob.search_satisfaction()\n",
    "\n",
    "if prob.has_solution:\n",
    "    print(prob.get_trace_result(interpolation=False))\n",
    "else:\n",
    "    print(f'No trace found with bound {bound}')"
   ]
  },
  {
   "cell_type": "markdown",
   "metadata": {},
   "source": [
    "## 2. Increment the bound until a satisfying solution is found"
   ]
  },
  {
   "cell_type": "code",
   "execution_count": 2,
   "metadata": {},
   "outputs": [],
   "source": [
    "import dataclasses\n",
    "\n",
    "@dataclasses.dataclass\n",
    "class Config:\n",
    "    benchmark: str = 'rnc2'\n",
    "    max_bound: int = 10\n",
    "    optimize: bool = False\n",
    "    stop_after_success: bool = True\n",
    "    delta: float = 0.01\n",
    "\n",
    "MILP_PARAMS = dict(\n",
    "    MIPFocus=1,\n",
    "    IntFeasTol=1e-7,\n",
    "    FeasibilityTol=1e-7,\n",
    "    MIPGap=1e-1,\n",
    "    TimeLimit=20.0,\n",
    ")\n",
    "\n",
    "cfg = Config()"
   ]
  },
  {
   "cell_type": "code",
   "execution_count": 3,
   "metadata": {},
   "outputs": [
    {
     "name": "stdout",
     "output_type": "stream",
     "text": [
      "total runtime: 0.4041860103607178 seconds\n",
      "{'params': Config(benchmark='rnc2', max_bound=10, optimize=False, stop_after_success=True, delta=0.01), 'result': {'runtime_total': 0.4041860103607178, 'first_satisfied_n': 4, 'runtime_to_synth': 0.4041860103607178, 'runtimes': [0.004884958267211914, 0.00978708267211914, 0.1605839729309082, 0.22892999649047852], 'objective': [nan, nan, nan, 0.0]}}\n"
     ]
    }
   ],
   "source": [
    "import contextlib\n",
    "import io\n",
    "\n",
    "import gurobipy as gp\n",
    "import numpy as np\n",
    "\n",
    "from stlts import benchmarks\n",
    "\n",
    "first_satisfied_n = -1\n",
    "runtimes = []\n",
    "objective = []\n",
    "runtime_to_synth: float = 0\n",
    "\n",
    "with contextlib.redirect_stdout(io.StringIO()):  # suppress gurobi output\n",
    "    for bound in range(1, cfg.max_bound + 1):\n",
    "        milp = gp.Model()\n",
    "        for k, v in MILP_PARAMS.items():\n",
    "            milp.setParam(k, v)\n",
    "\n",
    "        try:\n",
    "            prob = benchmarks.get_benchmark(\n",
    "                milp,\n",
    "                name=cfg.benchmark,\n",
    "                N=bound,\n",
    "                optimize=cfg.optimize,\n",
    "                delta=cfg.delta,\n",
    "            )\n",
    "\n",
    "            prob.search_satisfaction()\n",
    "        except Exception as e:\n",
    "            # print(f'Exception at bound {bound}')\n",
    "            continue\n",
    "\n",
    "        runtimes.append(milp.Runtime)\n",
    "        objective.append(milp.ObjVal if prob.has_solution else np.nan)\n",
    "\n",
    "        if prob.has_solution:\n",
    "            if first_satisfied_n == -1:\n",
    "                first_satisfied_n = bound\n",
    "                runtime_to_synth = sum(runtimes)\n",
    "\n",
    "            if cfg.stop_after_success:\n",
    "                break\n",
    "\n",
    "runtime_total = sum(runtimes)\n",
    "print(f'total runtime: {runtime_total} seconds')\n",
    "result = dict(\n",
    "    runtime_total=runtime_total,\n",
    "    first_satisfied_n=first_satisfied_n,\n",
    "    runtime_to_synth=runtime_to_synth,\n",
    "    runtimes=runtimes,\n",
    "    objective=objective,\n",
    ")\n",
    "\n",
    "summary: dict = dict(params=cfg, result=result)\n",
    "print(summary)"
   ]
  },
  {
   "cell_type": "code",
   "execution_count": 4,
   "metadata": {},
   "outputs": [
    {
     "name": "stdout",
     "output_type": "stream",
     "text": [
      "       t          x1         v1        a1          x2         v2       a2\n",
      "0   0.00   45.000000   2.000000  0.000000    0.000000  12.284133 -1.50234\n",
      "1   6.33   57.660000   2.000000  1.301291   47.660000   2.774319  1.00000\n",
      "2   8.90   67.097450   5.344319  3.000000   58.092450   5.344319  1.01000\n",
      "3   9.90   73.941769   8.344319  0.802970   63.941769   6.354319  1.00000\n",
      "4  20.00  199.174892  16.454319  0.802970  179.125392  16.454319  1.00000\n"
     ]
    },
    {
     "data": {
      "image/png": "[encoded data removed]",
      "text/plain": [
       "<Figure size 640x480 with 1 Axes>"
      ]
     },
     "metadata": {},
     "output_type": "display_data"
    }
   ],
   "source": [
    "import matplotlib.pyplot as plt\n",
    "\n",
    "if prob.has_solution:\n",
    "    trace_raw = prob.get_trace_result(interpolation=False).df\n",
    "    trace_continuous = prob.get_trace_result(interpolation=True).df\n",
    "    print(trace_raw)\n",
    "    trace_continuous.plot(x='t')"
   ]
  }
 ],
 "metadata": {
  "kernelspec": {
   "display_name": ".venv",
   "language": "python",
   "name": "python3"
  },
  "language_info": {
   "codemirror_mode": {
    "name": "ipython",
    "version": 3
   },
   "file_extension": ".py",
   "mimetype": "text/x-python",
   "name": "python",
   "nbconvert_exporter": "python",
   "pygments_lexer": "ipython3",
   "version": "3.10.12"
  }
 },
 "nbformat": 4,
 "nbformat_minor": 2
}
