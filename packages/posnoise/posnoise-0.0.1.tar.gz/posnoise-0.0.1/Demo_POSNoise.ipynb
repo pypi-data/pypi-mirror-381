{
 "cells": [
  {
   "cell_type": "markdown",
   "id": "77dd4a9b",
   "metadata": {},
   "source": [
    "## POSNoise"
   ]
  },
  {
   "cell_type": "code",
   "execution_count": 1,
   "id": "381f1f4b",
   "metadata": {},
   "outputs": [
    {
     "name": "stdout",
     "output_type": "stream",
     "text": [
      "[POSNoise] Loading spaCy model 'en_core_web_sm' (disabled: parser, ner)...\n",
      "[POSNoise] Loaded 'en_core_web_sm'.\n",
      "The original dataset contains two partitions comprising sockpuppets and non-sockpuppets cases.\n",
      "The @ # Ø two # Ø # and @@@ #.\n"
     ]
    }
   ],
   "source": [
    "import posnoise\n",
    "from posnoise import POSNoise"
   ]
  },
  {
   "cell_type": "code",
   "execution_count": 2,
   "id": "a54b16a6",
   "metadata": {},
   "outputs": [],
   "source": [
    "posnoise_instance = POSNoise(spacy_model_size=posnoise.core.SpacyModelSize.Large)"
   ]
  },
  {
   "cell_type": "code",
   "execution_count": 4,
   "id": "6febdb03",
   "metadata": {
    "scrolled": true
   },
   "outputs": [
    {
     "name": "stdout",
     "output_type": "stream",
     "text": [
      "I love python !\n",
      "I Ø # !\n"
     ]
    }
   ],
   "source": [
    "#document = \"Mathematics is the most beautiful and most powerful creation of the human spirit.\"\n",
    "\n",
    "document = \"I love python !\"\n",
    "posnoised_doc = posnoise_instance.pos_noise(document)\n",
    "\n",
    "print(document)\n",
    "print(posnoised_doc)"
   ]
  },
  {
   "cell_type": "code",
   "execution_count": null,
   "id": "69bf62a8",
   "metadata": {},
   "outputs": [],
   "source": []
  }
 ],
 "metadata": {
  "kernelspec": {
   "display_name": "Python 3 (ipykernel)",
   "language": "python",
   "name": "python3"
  },
  "language_info": {
   "codemirror_mode": {
    "name": "ipython",
    "version": 3
   },
   "file_extension": ".py",
   "mimetype": "text/x-python",
   "name": "python",
   "nbconvert_exporter": "python",
   "pygments_lexer": "ipython3",
   "version": "3.12.2"
  },
  "varInspector": {
   "cols": {
    "lenName": 16,
    "lenType": 16,
    "lenVar": 40
   },
   "kernels_config": {
    "python": {
     "delete_cmd_postfix": "",
     "delete_cmd_prefix": "del ",
     "library": "var_list.py",
     "varRefreshCmd": "print(var_dic_list())"
    },
    "r": {
     "delete_cmd_postfix": ") ",
     "delete_cmd_prefix": "rm(",
     "library": "var_list.r",
     "varRefreshCmd": "cat(var_dic_list()) "
    }
   },
   "types_to_exclude": [
    "module",
    "function",
    "builtin_function_or_method",
    "instance",
    "_Feature"
   ],
   "window_display": false
  }
 },
 "nbformat": 4,
 "nbformat_minor": 5
}
