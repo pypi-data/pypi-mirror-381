{
 "cells": [
  {
   "cell_type": "markdown",
   "metadata": {},
   "source": [
    "# pycarta Administrative Functions\n",
    "\n",
    "This notebook demonstrates administrative tasks including user management, group management, and secrets management.\n",
    "\n",
    "## Prerequisites\n",
    "\n",
    "- Valid Carta authentication (see `01_authentication.ipynb`)\n",
    "- Administrative privileges for user/group management"
   ]
  },
  {
   "cell_type": "markdown",
   "metadata": {},
   "source": [
    "## Setup"
   ]
  },
  {
   "cell_type": "code",
   "execution_count": 3,
   "metadata": {},
   "outputs": [
    {
     "data": {
      "text/plain": [
       "True"
      ]
     },
     "execution_count": 3,
     "metadata": {},
     "output_type": "execute_result"
    }
   ],
   "source": [
    "import pycarta as pc\n",
    "\n",
    "# Ensure you're authenticated\n",
    "pc.login(interactive=True)  # Uncomment and authenticate as needed\n",
    "# print(\"Setup complete - ensure authentication before running user/group examples\")"
   ]
  },
  {
   "cell_type": "markdown",
   "metadata": {},
   "source": [
    "## User Management\n",
    "\n",
    "Create, retrieve, and manage users:"
   ]
  },
  {
   "cell_type": "code",
   "execution_count": 4,
   "metadata": {},
   "outputs": [
    {
     "name": "stdout",
     "output_type": "stream",
     "text": [
      "User management functions imported\n"
     ]
    }
   ],
   "source": [
    "from pycarta.admin.user import (\n",
    "    create_user,\n",
    "    get_current_user,\n",
    "    get_user,\n",
    "    list_users,\n",
    "    reset_user_password,\n",
    ")\n",
    "from pycarta.admin.types import User\n",
    "\n",
    "print(\"User management functions imported\")"
   ]
  },
  {
   "cell_type": "code",
   "execution_count": 6,
   "metadata": {},
   "outputs": [
    {
     "name": "stdout",
     "output_type": "stream",
     "text": [
      "Current user: branden.kappes\n",
      "Email: branden.kappes@contextualize.us.com\n",
      "Full name: Branden Kappes\n"
     ]
    }
   ],
   "source": [
    "# Get the current user\n",
    "try:\n",
    "    current_user = get_current_user()\n",
    "    print(f\"Current user: {current_user.name}\")\n",
    "    print(f\"Email: {current_user.email}\")\n",
    "    print(f\"Full name: {current_user.firstName} {current_user.lastName}\")\n",
    "except Exception as e:\n",
    "    print(f\"Error getting current user: {e}\")\n",
    "    print(\"Note: This requires valid authentication\")"
   ]
  },
  {
   "cell_type": "code",
   "execution_count": 8,
   "metadata": {},
   "outputs": [
    {
     "name": "stdout",
     "output_type": "stream",
     "text": [
      "Total users found: 120\n",
      "First few users:\n",
      "  - Aimpf.admin (user.admin@contextualize.us.com)\n",
      "  - GeorgiaTechSAML_acaputo7 (acaputo7@gatech.edu)\n",
      "  - GeorgiaTechSAML_acoksaygili3 (acoksaygili3@gatech.edu)\n"
     ]
    }
   ],
   "source": [
    "# List all users\n",
    "try:\n",
    "    user_list = list_users()\n",
    "    print(f\"Total users found: {len(user_list)}\")\n",
    "    if user_list:\n",
    "        print(\"First few users:\")\n",
    "        for user in user_list[:3]:  # Show first 3 users\n",
    "            print(f\"  - {user.name} ({user.email})\")\n",
    "except Exception as e:\n",
    "    print(f\"Error listing users: {e}\")\n",
    "    print(\"Note: This requires admin privileges\")"
   ]
  },
  {
   "cell_type": "code",
   "execution_count": 9,
   "metadata": {},
   "outputs": [
    {
     "name": "stdout",
     "output_type": "stream",
     "text": [
      "User creation example ready (uncomment to actually create)\n",
      "Would create: Jane Doe (test@example.com)\n"
     ]
    }
   ],
   "source": [
    "# Create a new user (example - commented for safety)\n",
    "try:\n",
    "    new_user = User(\n",
    "        name=\"test_user\",\n",
    "        email=\"test@example.com\",\n",
    "        lastName=\"Doe\",\n",
    "        firstName=\"Jane\"\n",
    "    )\n",
    "    # create_user(new_user)  # Commented out - uncomment to actually create\n",
    "    print(\"User creation example ready (uncomment to actually create)\")\n",
    "    print(f\"Would create: {new_user.firstName} {new_user.lastName} ({new_user.email})\")\n",
    "except Exception as e:\n",
    "    print(f\"Error with user creation example: {e}\")"
   ]
  },
  {
   "cell_type": "code",
   "execution_count": null,
   "metadata": {},
   "outputs": [
    {
     "name": "stdout",
     "output_type": "stream",
     "text": [
      "Found 1 matching user: name='branden.kappes' email='branden.kappes@contextualize.us.com' organization='UTEP' id='f0713161-f0f9-4284-a29d-10c331fb703e' lastName='Kappes' firstName='Branden' groups=None\n",
      "Found 1 matching user: name='branden.kappes' email='branden.kappes@contextualize.us.com' organization='UTEP' id='f0713161-f0f9-4284-a29d-10c331fb703e' lastName='Kappes' firstName='Branden' groups=None\n",
      "Found 2 matching users: [User(name='GeorgiaTechSAML_bkappes6', email='bkappes6@gatech.edu', organization=None, id='e9945a7e-2273-4760-a294-90d9848dcf1e', lastName='Kappes', firstName='Branden', groups=None), User(name='branden.kappes', email='branden.kappes@contextualize.us.com', organization='UTEP', id='f0713161-f0f9-4284-a29d-10c331fb703e', lastName='Kappes', firstName='Branden', groups=None)]\n",
      "Found 2 matching users: [User(name='GeorgiaTechSAML_bkappes6', email='bkappes6@gatech.edu', organization=None, id='e9945a7e-2273-4760-a294-90d9848dcf1e', lastName='Kappes', firstName='Branden', groups=None), User(name='branden.kappes', email='branden.kappes@contextualize.us.com', organization='UTEP', id='f0713161-f0f9-4284-a29d-10c331fb703e', lastName='Kappes', firstName='Branden', groups=None)]\n"
     ]
    }
   ],
   "source": [
    "# Search for users by email, username, etc.\n",
    "params = {\n",
    "    \"username\": current_user.name,\n",
    "    \"email\": current_user.email,\n",
    "    \"first_name\": current_user.firstName,\n",
    "    \"last_name\": current_user.lastName,\n",
    "}\n",
    "\n",
    "for key, query in params.items():\n",
    "    try:\n",
    "        # Search for users by various properties: username, email, first name, or last name.\n",
    "        match = get_user(**{key: query})\n",
    "        if not match:\n",
    "            print(f\"No user found with {key}={query}\")\n",
    "            continue\n",
    "        else:\n",
    "            count = len(match) if isinstance(match, list) else 1\n",
    "            print(f\"Found {count} matching user{'s' if count != 1 else ''}:\", str(match))\n",
    "    except Exception as e:\n",
    "        print(f\"Error with user search: {e}\")"
   ]
  },
  {
   "cell_type": "code",
   "execution_count": 13,
   "metadata": {},
   "outputs": [
    {
     "name": "stdout",
     "output_type": "stream",
     "text": [
      "Password reset example ready (commented for safety)\n",
      "This would reset the current user's password\n"
     ]
    }
   ],
   "source": [
    "# Reset user password (careful!)\n",
    "try:\n",
    "    # reset_user_password(current_user.username)  # Commented for safety\n",
    "    print(\"Password reset example ready (commented for safety)\")\n",
    "    print(\"This would reset the current user's password\")\n",
    "except Exception as e:\n",
    "    print(f\"Error with password reset: {e}\")"
   ]
  },
  {
   "cell_type": "markdown",
   "metadata": {},
   "source": [
    "## Group Management\n",
    "\n",
    "Create and manage groups for authorization:"
   ]
  },
  {
   "cell_type": "code",
   "execution_count": 14,
   "metadata": {},
   "outputs": [
    {
     "name": "stdout",
     "output_type": "stream",
     "text": [
      "Group management functions imported\n"
     ]
    }
   ],
   "source": [
    "from pycarta.admin.types import Group\n",
    "from pycarta.admin.user import get_current_user\n",
    "from pycarta.admin.group import (\n",
    "    add_user_to_group,\n",
    "    create_group,\n",
    "    list_members as list_group_members,\n",
    ")\n",
    "\n",
    "print(\"Group management functions imported\")"
   ]
  },
  {
   "cell_type": "code",
   "execution_count": 16,
   "metadata": {},
   "outputs": [
    {
     "name": "stdout",
     "output_type": "stream",
     "text": [
      "Group creation for 'DevelopersTeam' in organization 'MyCompany' example ready\n",
      "Would create group: MyCompany:DevelopersTeam\n",
      "Note: Group names must be unique across the Carta platform\n"
     ]
    }
   ],
   "source": [
    "# Create a new group (example)\n",
    "try:\n",
    "    name = \"DevelopersTeam\"\n",
    "    organization = \"MyCompany\"\n",
    "    # Best practice: use namespaced group names to avoid conflicts\n",
    "    group = Group(name=name, organization=organization)\n",
    "    \n",
    "    # create_group(group)  # Commented out - uncomment to actually create\n",
    "    print(f\"Group creation for '{name}' in organization '{organization}' example ready\")\n",
    "    print(f\"Would create group: {group.organization}:{group.name}\")\n",
    "    print(\"Note: Group names must be unique across the Carta platform\")\n",
    "except Exception as e:\n",
    "    print(f\"Error with group creation: {e}\")"
   ]
  },
  {
   "cell_type": "code",
   "execution_count": 17,
   "metadata": {},
   "outputs": [
    {
     "name": "stdout",
     "output_type": "stream",
     "text": [
      "Add user to group example ready\n",
      "This would add the current user to the specified group\n"
     ]
    }
   ],
   "source": [
    "# Add user to group\n",
    "try:\n",
    "    # user = get_current_user()\n",
    "    # add_user_to_group(user, group)  # Commented out\n",
    "    print(\"Add user to group example ready\")\n",
    "    print(\"This would add the current user to the specified group\")\n",
    "except Exception as e:\n",
    "    print(f\"Error with adding user to group: {e}\")"
   ]
  },
  {
   "cell_type": "code",
   "execution_count": null,
   "metadata": {},
   "outputs": [
    {
     "name": "stdout",
     "output_type": "stream",
     "text": [
      "Group members in Birdshot:All: ['kkaczmarek', 'jparamore', 'dlewis', 'nthomas', 'admin.contextualize', 'enorris', 'jsaini', 'attari.v', 'heoh', 'stephen.seruya', 'kxiao', 'user1.army', 'thomas.ralph', 'dsmula', 'shafiq', 'bbutler', 'samantha.kotze', 'user1.birdshot', 'wxu', 'gpharr', 'asrivastava', 'rmahat', 'htrevor', 'raymundo.arroyave', 'mrinalini', 'mskokan', 'justin.wilkerson', 'bvela', 'robert.robinson', 'jacob.hempel', 'lindsey.kuettner', 'nperson', 'htian', 'manish.vasoya', 'bpsahu', 'michelle.daya', 'michelle.prd', 'admin.birdshot', 'branden.kappes', 'melverud', 'hwang', 'dkhatamsaz', 'clinton.strosser', 'ahnafalvi', 'ikaramin']\n",
      "Group members in Contextualize:All: ['admin.contextualize', 'lindsey.kuettner', 'william.silloway', 'michelle.daya', 'branden.kappes', 'chen.chen', 'kyle.pittman']\n",
      "Group members in UTEP:All: ['avenzorna', 'admin.utep', 'david.espalin', 'dummy.utep.dashboards', 'hunter.taylor', 'lindsey.kuettner', 'blopez', 'dakota.morgan', 'jorge.mireles', 'ryan.wicker', 'branden.kappes', 'mdiaz', 'michelle.utep']\n",
      "Group members in AllUsers: ['kkaczmarek', 'jparamore', 'mrademacher', 'dlewis', 'scott.collab', 'nathan.lies', 'sarah.sub', 'nthomas', 'evelyn.quansah', 'kenneth.asemewanlen', 'maegan.lenertz', 'admin.contextualize', 'enorris', 'neel.shah', 'jsaini', 'attari.v', 'jarred.fountain', 'heoh', 'stephen.seruya', 'bob.demonstration', 'kxiao', 'jwateska', 'user1.army', 'thomas.ralph', 'dsmula', 'avenzorna', 'animesh.chhotaray', 'shafiq', 'bramanathan', 'eduardo.lagochamero', 'alan.burl', 'admin.utep', 'bbutler', 'samantha.kotze', 'user1.birdshot', 'wxu', 'gpharr', 'mannamaraju3', 'john.collab', 'asrivastava', 'rmahat', 'nhandel', 'htrevor', 'david.espalin', 'raymundo.arroyave', 'jack.weeks', 'dummy.utep.dashboards', 'jamila.khanfri', 'mrinalini', 'hunter.taylor', 'mskokan', 'justin.wilkerson', 'zaky.hussein', 'alex.arbogast', 'carolyn.massey', 'bvela', 'matteo.venturiello', 'robert.robinson', 'jacob.hempel', 'styler.goring', 'lindsey.kuettner', 'admin.army', 'nperson', 'user1', 'peter.pub', 'htian', 'cchen.gt', 'alexander.caputo', 'william.silloway', 'Aimpf.admin', 'matthew.kosmala', 'blopez', 'manish.vasoya', 'bpsahu', 'prithu.mishra', 'dakota.morgan', 'kathryn.kelly', 'shohom', 'twisha.chattopadhyay', 'michelle.daya', 'test_acc_20250915', 'alex.butler', 'jorge.mireles', 'michelle.prd', 'karthik.adapa', 'user1.host', 'ryan.wicker', 'admin.birdshot', 'branden.kappes', 'melverud', 'alice.demonstration', 'hwang', 'mdiaz', 'dkhatamsaz', 'clinton.strosser', 'ahnafalvi', 'ikaramin', 'chen.chen', 'michelle.utep', 'kyle.pittman']\n"
     ]
    }
   ],
   "source": [
    "# List group members\n",
    "groups = get_current_user().groups  # Groups in which you are a member.\n",
    "\n",
    "for group in groups:\n",
    "    try:\n",
    "        members = list_group_members(group)  # Commented out\n",
    "        print(f\"Group members in {group}: {[member.name for member in members]}\")\n",
    "        # print(\"List group members example ready\")\n",
    "        # print(\"This would show all members of the specified group\")\n",
    "    except Exception as e:\n",
    "        print(f\"Error listing group members: {e}\")"
   ]
  },
  {
   "cell_type": "markdown",
   "metadata": {},
   "source": [
    "## Secrets Management\n",
    "\n",
    "Store and retrieve sensitive information securely:"
   ]
  },
  {
   "cell_type": "code",
   "execution_count": 37,
   "metadata": {},
   "outputs": [
    {
     "name": "stdout",
     "output_type": "stream",
     "text": [
      "Secrets management functions imported\n",
      "Note: Secrets are user-specific and cannot be shared between users\n",
      "Some consequences:\n",
      "  1. The same secret name will retrieve user-specific information.\n",
      "  2. You cannot list secrets. This allows developers to store per-user details.\n"
     ]
    }
   ],
   "source": [
    "from pycarta.admin.secret import put_secret, get_secret\n",
    "\n",
    "print(\"Secrets management functions imported\")\n",
    "print(\"Note: Secrets are user-specific and cannot be shared between users\")\n",
    "print(\"Some consequences:\")\n",
    "print(\"  1. The same secret name will retrieve user-specific information.\")\n",
    "print(\"  2. You cannot list secrets. This allows developers to store per-user details.\")"
   ]
  },
  {
   "cell_type": "code",
   "execution_count": 38,
   "metadata": {},
   "outputs": [
    {
     "name": "stdout",
     "output_type": "stream",
     "text": [
      "Secret storage example ready\n",
      "This would store database credentials securely\n",
      "Uncomment and modify with real values when needed\n"
     ]
    }
   ],
   "source": [
    "# Store secrets (example)\n",
    "try:\n",
    "    # put_secret(name=\"db-username\", value=\"joe\")  # Commented for safety\n",
    "    # put_secret(name=\"db-password\", value=\"abc123def\")  # Commented for safety\n",
    "    \n",
    "    print(\"Secret storage example ready\")\n",
    "    print(\"This would store database credentials securely\")\n",
    "    print(\"Uncomment and modify with real values when needed\")\n",
    "except Exception as e:\n",
    "    print(f\"Error storing secrets: {e}\")"
   ]
  },
  {
   "cell_type": "code",
   "execution_count": 39,
   "metadata": {},
   "outputs": [
    {
     "name": "stdout",
     "output_type": "stream",
     "text": [
      "Secret retrieval example ready\n",
      "This would retrieve stored credentials\n"
     ]
    }
   ],
   "source": [
    "# Retrieve secrets\n",
    "try:\n",
    "    # username = get_secret(\"db-username\")\n",
    "    # password = get_secret(\"db-password\")\n",
    "    # print(f\"Retrieved username: {username}\")\n",
    "    # print(f\"Retrieved password: {'*' * len(password)}\")\n",
    "    \n",
    "    print(\"Secret retrieval example ready\")\n",
    "    print(\"This would retrieve stored credentials\")\n",
    "except Exception as e:\n",
    "    print(f\"Error retrieving secrets: {e}\")"
   ]
  },
  {
   "cell_type": "markdown",
   "metadata": {},
   "source": [
    "## Practical Secrets Example\n",
    "\n",
    "A more realistic example using getpass for secure input:"
   ]
  },
  {
   "cell_type": "code",
   "execution_count": null,
   "metadata": {},
   "outputs": [],
   "source": [
    "import getpass\n",
    "\n",
    "def store_database_credentials():\n",
    "    \"\"\"Securely store database credentials.\"\"\"\n",
    "    try:\n",
    "        # Prompt user for credentials\n",
    "        username = input(\"Database username: \")\n",
    "        password = getpass.getpass(\"Database password: \")\n",
    "        \n",
    "        # Store securely\n",
    "        put_secret(name=\"db-username\", value=username)\n",
    "        put_secret(name=\"db-password\", value=password)\n",
    "        \n",
    "        print(\"Database credentials stored securely\")\n",
    "        return True\n",
    "    except Exception as e:\n",
    "        print(f\"Error storing credentials: {e}\")\n",
    "        return False\n",
    "\n",
    "def get_database_credentials():\n",
    "    \"\"\"Retrieve stored database credentials.\"\"\"\n",
    "    try:\n",
    "        username = get_secret(\"db-username\")\n",
    "        password = get_secret(\"db-password\")\n",
    "        return username, password\n",
    "    except Exception as e:\n",
    "        print(f\"Error retrieving credentials: {e}\")\n",
    "        return None, None\n",
    "\n",
    "print(\"Practical secrets management functions defined\")\n",
    "print(\"Call store_database_credentials() to securely store credentials\")\n",
    "print(\"Call get_database_credentials() to retrieve them\")"
   ]
  },
  {
   "cell_type": "markdown",
   "metadata": {},
   "source": [
    "## Group-based Authorization Example\n",
    "\n",
    "Combining user/group management with authorization:"
   ]
  },
  {
   "cell_type": "code",
   "execution_count": null,
   "metadata": {},
   "outputs": [],
   "source": [
    "import pycarta\n",
    "\n",
    "# Example: Function that requires group membership\n",
    "@pycarta.authorize(groups=[\"MyCompany:DevelopersTeam\"])\n",
    "def developer_only_function():\n",
    "    \"\"\"Function only accessible to developers.\"\"\"\n",
    "    return {\n",
    "        \"message\": \"Access granted to developer function\",\n",
    "        \"data\": \"Sensitive development information\"\n",
    "    }\n",
    "\n",
    "@pycarta.authorize(groups=[\"MyCompany:Admins\"], users=[\"jqpublic\"])\n",
    "def admin_function():\n",
    "    \"\"\"Function for admins or specific users.\"\"\"\n",
    "    return {\n",
    "        \"message\": \"Admin access granted\",\n",
    "        \"admin_data\": \"Administrative information\"\n",
    "    }\n",
    "\n",
    "print(\"Authorization functions defined\")\n",
    "print(\"These will check group membership before allowing access\")"
   ]
  },
  {
   "cell_type": "markdown",
   "metadata": {},
   "source": [
    "## Best Practices for Administration\n",
    "\n",
    "Key recommendations:"
   ]
  },
  {
   "cell_type": "code",
   "execution_count": 41,
   "metadata": {},
   "outputs": [
    {
     "name": "stdout",
     "output_type": "stream",
     "text": [
      "\n",
      "ADMINISTRATIVE BEST PRACTICES:\n",
      "\n",
      "1. Group Naming:\n",
      "   - Use namespaced names: \"MyOrg:MyGroup\"\n",
      "   - Avoid conflicts across the platform\n",
      "   - Be descriptive: \"Acme:DataScientists\" vs \"DataTeam\"\n",
      "\n",
      "2. User Management:\n",
      "   - Use groups instead of individual user lists when possible\n",
      "   - Regular audit of user access\n",
      "   - Implement least privilege principle\n",
      "\n",
      "3. Secrets Management:\n",
      "   - Secrets are user-specific (cannot be shared)\n",
      "   - Use descriptive secret names\n",
      "   - Regularly rotate sensitive credentials\n",
      "   - Never hardcode secrets in code\n",
      "\n",
      "4. Authorization:\n",
      "   - Prefer group-based over user-based authorization\n",
      "   - Regularly review and update permissions\n",
      "   - Test authorization in development environment\n",
      "\n",
      "5. Security:\n",
      "   - Always use getpass for password input\n",
      "   - Log administrative actions\n",
      "   - Implement proper error handling\n",
      "   - Regular security audits\n",
      "\n"
     ]
    }
   ],
   "source": [
    "print(\"\"\"\n",
    "ADMINISTRATIVE BEST PRACTICES:\n",
    "\n",
    "1. Group Naming:\n",
    "   - Use namespaced names: \"MyOrg:MyGroup\"\n",
    "   - Avoid conflicts across the platform\n",
    "   - Be descriptive: \"Acme:DataScientists\" vs \"DataTeam\"\n",
    "\n",
    "2. User Management:\n",
    "   - Use groups instead of individual user lists when possible\n",
    "   - Regular audit of user access\n",
    "   - Implement least privilege principle\n",
    "\n",
    "3. Secrets Management:\n",
    "   - Secrets are user-specific (cannot be shared)\n",
    "   - Use descriptive secret names\n",
    "   - Regularly rotate sensitive credentials\n",
    "   - Never hardcode secrets in code\n",
    "\n",
    "4. Authorization:\n",
    "   - Prefer group-based over user-based authorization\n",
    "   - Regularly review and update permissions\n",
    "   - Test authorization in development environment\n",
    "\n",
    "5. Security:\n",
    "   - Always use getpass for password input\n",
    "   - Log administrative actions\n",
    "   - Implement proper error handling\n",
    "   - Regular security audits\n",
    "\"\"\")"
   ]
  },
  {
   "cell_type": "markdown",
   "metadata": {},
   "source": [
    "## Next Steps\n",
    "\n",
    "After setting up users and groups:\n",
    "1. Create services with authorization (see `03_services.ipynb`)\n",
    "2. Set up MQTT messaging (see `04_mqtt.ipynb`) \n",
    "3. Use data management features (see `05_data_management.ipynb`)\n",
    "4. Integrate with Seven Bridges (see `06_seven_bridges.ipynb`)"
   ]
  }
 ],
 "metadata": {
  "kernelspec": {
   "display_name": "venv",
   "language": "python",
   "name": "python3"
  },
  "language_info": {
   "codemirror_mode": {
    "name": "ipython",
    "version": 3
   },
   "file_extension": ".py",
   "mimetype": "text/x-python",
   "name": "python",
   "nbconvert_exporter": "python",
   "pygments_lexer": "ipython3",
   "version": "3.12.7"
  }
 },
 "nbformat": 4,
 "nbformat_minor": 4
}
