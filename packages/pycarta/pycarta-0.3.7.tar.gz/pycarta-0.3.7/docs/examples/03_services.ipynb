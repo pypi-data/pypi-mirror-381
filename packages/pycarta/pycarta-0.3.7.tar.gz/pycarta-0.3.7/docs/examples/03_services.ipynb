{
 "cells": [
  {
   "cell_type": "markdown",
   "metadata": {},
   "source": [
    "# pycarta Service Development\n",
    "\n",
    "This notebook demonstrates how to create REST APIs using pycarta's service framework.\n",
    "\n",
    "## Prerequisites\n",
    "\n",
    "- Valid Carta authentication (see `01_authentication.ipynb`)\n",
    "- Understanding of REST APIs and HTTP methods\n",
    "- Basic knowledge of FastAPI (optional, but helpful)"
   ]
  },
  {
   "cell_type": "markdown",
   "metadata": {},
   "source": [
    "## Setup"
   ]
  },
  {
   "cell_type": "code",
   "execution_count": null,
   "metadata": {},
   "outputs": [],
   "source": []
  },
  {
   "cell_type": "code",
   "execution_count": null,
   "metadata": {},
   "outputs": [
    {
     "name": "stdout",
     "output_type": "stream",
     "text": [
      "Setup complete - ensure authentication before running service examples\n"
     ]
    }
   ],
   "source": [
    "import pycarta as pc\n",
    "\n",
    "from fastapi import HTTPException\n",
    "from pydantic import BaseModel, EmailStr\n",
    "from requests import HTTPError\n",
    "from typing import List, Optional\n",
    "import json\n",
    "import logging\n",
    "import time\n",
    "\n",
    "# Ensure you're authenticated\n",
    "pc.login(environment=\"development\", interactive=True)\n",
    "\n",
    "# Agent is useful for making calls to carta services.\n",
    "agent = pc.get_agent()\n",
    "\n",
    "# Create a user namespace in which you can create test services\n",
    "mynamespace = pc.get_agent().username\n",
    "\n",
    "# Some commands produce a lot of logging output. Change logging settings to quiet this down a bit\n",
    "def suppress_logging(level: int=logging.ERROR):\n",
    "    logger = logging.getLogger()\n",
    "    assert len(logger.handlers) == 1\n",
    "    handler = logger.handlers[0]\n",
    "    handler.setLevel(level)  # or DEBUG, INFO, CRITICAL, or FATAL\n",
    "suppress_logging()\n",
    "\n",
    "print(\"Setup complete - ensure authentication before running service examples\")"
   ]
  },
  {
   "cell_type": "markdown",
   "metadata": {},
   "source": [
    "## Basic Service Creation\n",
    "\n",
    "### Your First Service"
   ]
  },
  {
   "cell_type": "code",
   "execution_count": 2,
   "metadata": {},
   "outputs": [],
   "source": [
    "import asyncio\n",
    "from threading import Thread\n",
    "\n",
    "\n",
    "class ServiceRunner:\n",
    "    def __init__(self, agent: None | pc.CartaAgent, *, timeout: int=10) -> None:\n",
    "        self.agent: None | pc.CartaAgent = agent or pc.get_agent()\n",
    "        self.loop = asyncio.get_event_loop()\n",
    "        self.timeout: int = timeout\n",
    "        self._task: None | Thread = None\n",
    "\n",
    "    def __enter__(self):\n",
    "        def run_connect_async():\n",
    "            asyncio.run(pc.service.connect())\n",
    "            \n",
    "        self._task = Thread(target=run_connect_async, args=())\n",
    "        self._task.start()\n",
    "        print(\"Waiting for the service to start. This takes a few seconds.\")\n",
    "        time.sleep(5)\n",
    "        return self\n",
    "    \n",
    "    def __exit__(self, exc_type, exc_value, traceback):\n",
    "        if self._task is not None:\n",
    "            try:\n",
    "                self._task.join(timeout=10)\n",
    "            except TimeoutError:\n",
    "                print(\"Service did not stop in time.\")\n",
    "            self._task = None\n",
    "        pc.service.cleanup()\n",
    "\n",
    "    def _request(self, method: str, endpoint: str, **kwds):\n",
    "        submit = self.agent.request(method, f\"service/{endpoint}\", **kwds)\n",
    "        timeout = self.timeout\n",
    "        while timeout > 0:\n",
    "            result = self.agent.request(method, f\"service/{endpoint}\", params=submit.json())\n",
    "            if result.json()[\"status\"] != \"RUNNING\":\n",
    "                return result\n",
    "            else:\n",
    "                timeout -= 1\n",
    "                time.sleep(1)\n",
    "\n",
    "    def get(self, endpoint: str, **kwds):\n",
    "        return self._request(\"GET\", endpoint, **kwds)\n",
    "    \n",
    "    def post(self, endpoint: str, **kwds):\n",
    "        return self._request(\"POST\", endpoint, **kwds)\n",
    "    \n",
    "    def put(self, endpoint: str, **kwds):\n",
    "        return self._request(\"PUT\", endpoint, **kwds)\n",
    "    \n",
    "    def patch(self, endpoint: str, **kwds):\n",
    "        return self._request(\"PATCH\", endpoint, **kwds)\n",
    "    \n",
    "    def delete(self, endpoint: str, **kwds):\n",
    "        return self._request(\"DELETE\", endpoint, **kwds)"
   ]
  },
  {
   "cell_type": "code",
   "execution_count": 22,
   "metadata": {},
   "outputs": [
    {
     "name": "stdout",
     "output_type": "stream",
     "text": [
      "Simple service defined\n",
      "When started, this will be available at:\n",
      "https://api.sandbox.carta.contextualize.us.com/service/bkappes/hello/\n"
     ]
    }
   ],
   "source": [
    "# Create a simple GET endpoint\n",
    "try:\n",
    "    @pc.service(mynamespace, \"hello\").get()\n",
    "    def world() -> str:\n",
    "        \"\"\"Say hello to the world.\"\"\"\n",
    "        return json.dumps({\"message\": \"Hello, World!\"})\n",
    "except pc.exceptions.PermissionDeniedException:\n",
    "    import sys\n",
    "    print(\"You don't have permission to create this service. Please contact your plan administrator before proceeding.\")\n",
    "    sys.exit()\n",
    "\n",
    "print(\"Simple service defined\")\n",
    "print(\"When started, this will be available at:\")\n",
    "print(f\"{agent.url}/service/{mynamespace}/hello/\")"
   ]
  },
  {
   "cell_type": "code",
   "execution_count": null,
   "metadata": {},
   "outputs": [
    {
     "name": "stdout",
     "output_type": "stream",
     "text": [
      "Waiting for the service to start. This takes a few seconds.\n"
     ]
    },
    {
     "name": "stderr",
     "output_type": "stream",
     "text": [
      "INFO:     Started server process [87282]\n",
      "INFO:     Waiting for application startup.\n",
      "INFO:     Application startup complete.\n",
      "INFO:     Uvicorn running on http://127.0.0.1:53518 (Press CTRL+C to quit)\n"
     ]
    },
    {
     "name": "stdout",
     "output_type": "stream",
     "text": [
      "INFO:     127.0.0.1:53521 - \"GET /bkappes/hello/world HTTP/1.1\" 200 OK\n",
      "{'status': 'COMPLETE', 'startTime': '2025-10-01T23:44:27.266982', 'stopTime': '2025-10-01T23:44:32.339274', 'response': '\"{\\\\\"message\\\\\": \\\\\"Hello, World!\\\\\"}\"'}\n"
     ]
    },
    {
     "name": "stderr",
     "output_type": "stream",
     "text": [
      "ERROR:pycarta.services.server:Proxy error: no close frame received or sent\n",
      "INFO:     Shutting down\n",
      "INFO:     Waiting for application shutdown.\n",
      "INFO:     Application shutdown complete.\n",
      "INFO:     Finished server process [87282]\n",
      "Exception in thread Thread-248 (run_connect_async):\n",
      "  + Exception Group Traceback (most recent call last):\n",
      "  |   File \"/opt/homebrew/anaconda3/envs/py312/lib/python3.12/threading.py\", line 1075, in _bootstrap_inner\n",
      "  |     self.run()\n",
      "  |   File \"/Users/bkappes/src/contextualize/pycarta/pycarta/venv/lib/python3.12/site-packages/ipykernel/ipkernel.py\", line 772, in run_closure\n",
      "  |     _threading_Thread_run(self)\n",
      "  |   File \"/opt/homebrew/anaconda3/envs/py312/lib/python3.12/threading.py\", line 1012, in run\n",
      "  |     self._target(*self._args, **self._kwargs)\n",
      "  |   File \"/var/folders/2r/w5t_rv6d6zv28c1r2x_p5cc00000gn/T/ipykernel_87282/2219249050.py\", line 14, in run_connect_async\n",
      "  |   File \"/opt/homebrew/anaconda3/envs/py312/lib/python3.12/asyncio/runners.py\", line 194, in run\n",
      "  |     return runner.run(main)\n",
      "  |            ^^^^^^^^^^^^^^^^\n",
      "  |   File \"/opt/homebrew/anaconda3/envs/py312/lib/python3.12/asyncio/runners.py\", line 118, in run\n",
      "  |     return self._loop.run_until_complete(task)\n",
      "  |            ^^^^^^^^^^^^^^^^^^^^^^^^^^^^^^^^^^^\n",
      "  |   File \"/opt/homebrew/anaconda3/envs/py312/lib/python3.12/asyncio/base_events.py\", line 687, in run_until_complete\n",
      "  |     return future.result()\n",
      "  |            ^^^^^^^^^^^^^^^\n",
      "  |   File \"/Users/bkappes/src/contextualize/pycarta/pycarta/src/pycarta/services/server.py\", line 617, in connect\n",
      "  |     raise eg\n",
      "  |   File \"/Users/bkappes/src/contextualize/pycarta/pycarta/src/pycarta/services/server.py\", line 601, in connect\n",
      "  |     async with asyncio.TaskGroup() as tg:\n",
      "  |                ^^^^^^^^^^^^^^^^^^^\n",
      "  |   File \"/opt/homebrew/anaconda3/envs/py312/lib/python3.12/asyncio/taskgroups.py\", line 145, in __aexit__\n",
      "  |     raise me from None\n",
      "  | ExceptionGroup: unhandled errors in a TaskGroup (1 sub-exception)\n",
      "  +-+---------------- 1 ----------------\n",
      "    | Traceback (most recent call last):\n",
      "    |   File \"/opt/homebrew/anaconda3/envs/py312/lib/python3.12/asyncio/selector_events.py\", line 988, in _read_ready__get_buffer\n",
      "    |     nbytes = self._sock.recv_into(buf)\n",
      "    |              ^^^^^^^^^^^^^^^^^^^^^^^^^\n",
      "    | ConnectionResetError: [Errno 54] Connection reset by peer\n",
      "    | \n",
      "    | The above exception was the direct cause of the following exception:\n",
      "    | \n",
      "    | Traceback (most recent call last):\n",
      "    |   File \"/Users/bkappes/src/contextualize/pycarta/pycarta/src/pycarta/services/proxy.py\", line 91, in listen\n",
      "    |     message = await connection.recv()\n",
      "    |               ^^^^^^^^^^^^^^^^^^^^^^^\n",
      "    |   File \"/Users/bkappes/src/contextualize/pycarta/pycarta/venv/lib/python3.12/site-packages/websockets/asyncio/connection.py\", line 322, in recv\n",
      "    |     raise self.protocol.close_exc from self.recv_exc\n",
      "    | websockets.exceptions.ConnectionClosedError: no close frame received or sent\n",
      "    +------------------------------------\n"
     ]
    }
   ],
   "source": [
    "suppress_logging()\n",
    "with ServiceRunner(agent) as runner:\n",
    "    result = runner.get(f\"{mynamespace}/hello/world\")\n",
    "print(result.json())"
   ]
  },
  {
   "cell_type": "markdown",
   "metadata": {},
   "source": [
    "### Calculator Service Example"
   ]
  },
  {
   "cell_type": "code",
   "execution_count": 25,
   "metadata": {},
   "outputs": [
    {
     "name": "stdout",
     "output_type": "stream",
     "text": [
      "Calculator service endpoints defined\n",
      "Endpoints:\n",
      "  GET /add/{a}/{b} - Add two numbers\n",
      "  GET /multiply/{a}/{b} - Multiply two numbers\n",
      "Waiting for the service to start. This takes a few seconds.\n"
     ]
    },
    {
     "name": "stderr",
     "output_type": "stream",
     "text": [
      "INFO:     Started server process [87282]\n",
      "INFO:     Waiting for application startup.\n",
      "INFO:     Application startup complete.\n",
      "INFO:     Uvicorn running on http://127.0.0.1:53538 (Press CTRL+C to quit)\n"
     ]
    },
    {
     "name": "stdout",
     "output_type": "stream",
     "text": [
      "INFO:     127.0.0.1:53540 - \"GET /bkappes/calculator/add/5/3 HTTP/1.1\" 200 OK\n",
      "Add: {\"status\": \"COMPLETE\", \"startTime\": \"2025-10-01T23:46:46.607193\", \"stopTime\": \"2025-10-01T23:46:52.630214\", \"response\": \"\\\"{\\\\\\\"result\\\\\\\": 8}\\\"\"}\n",
      "INFO:     127.0.0.1:53542 - \"GET /bkappes/calculator/multiply/5/3 HTTP/1.1\" 200 OK\n",
      "Multiply: {\"status\": \"COMPLETE\", \"startTime\": \"2025-10-01T23:46:54.725262\", \"stopTime\": \"2025-10-01T23:46:59.697577\", \"response\": \"\\\"{\\\\\\\"result\\\\\\\": 15}\\\"\"}\n"
     ]
    },
    {
     "name": "stderr",
     "output_type": "stream",
     "text": [
      "ERROR:pycarta.services.server:Proxy error: no close frame received or sent\n",
      "INFO:     Shutting down\n",
      "INFO:     Waiting for application shutdown.\n",
      "INFO:     Application shutdown complete.\n",
      "INFO:     Finished server process [87282]\n",
      "Exception in thread Thread-280 (run_connect_async):\n",
      "  + Exception Group Traceback (most recent call last):\n",
      "  |   File \"/opt/homebrew/anaconda3/envs/py312/lib/python3.12/threading.py\", line 1075, in _bootstrap_inner\n",
      "  |     self.run()\n",
      "  |   File \"/Users/bkappes/src/contextualize/pycarta/pycarta/venv/lib/python3.12/site-packages/ipykernel/ipkernel.py\", line 772, in run_closure\n",
      "  |     _threading_Thread_run(self)\n",
      "  |   File \"/opt/homebrew/anaconda3/envs/py312/lib/python3.12/threading.py\", line 1012, in run\n",
      "  |     self._target(*self._args, **self._kwargs)\n",
      "  |   File \"/var/folders/2r/w5t_rv6d6zv28c1r2x_p5cc00000gn/T/ipykernel_87282/2219249050.py\", line 14, in run_connect_async\n",
      "  |   File \"/opt/homebrew/anaconda3/envs/py312/lib/python3.12/asyncio/runners.py\", line 194, in run\n",
      "  |     return runner.run(main)\n",
      "  |            ^^^^^^^^^^^^^^^^\n",
      "  |   File \"/opt/homebrew/anaconda3/envs/py312/lib/python3.12/asyncio/runners.py\", line 118, in run\n",
      "  |     return self._loop.run_until_complete(task)\n",
      "  |            ^^^^^^^^^^^^^^^^^^^^^^^^^^^^^^^^^^^\n",
      "  |   File \"/opt/homebrew/anaconda3/envs/py312/lib/python3.12/asyncio/base_events.py\", line 687, in run_until_complete\n",
      "  |     return future.result()\n",
      "  |            ^^^^^^^^^^^^^^^\n",
      "  |   File \"/Users/bkappes/src/contextualize/pycarta/pycarta/src/pycarta/services/server.py\", line 617, in connect\n",
      "  |     raise eg\n",
      "  |   File \"/Users/bkappes/src/contextualize/pycarta/pycarta/src/pycarta/services/server.py\", line 601, in connect\n",
      "  |     async with asyncio.TaskGroup() as tg:\n",
      "  |                ^^^^^^^^^^^^^^^^^^^\n",
      "  |   File \"/opt/homebrew/anaconda3/envs/py312/lib/python3.12/asyncio/taskgroups.py\", line 145, in __aexit__\n",
      "  |     raise me from None\n",
      "  | ExceptionGroup: unhandled errors in a TaskGroup (1 sub-exception)\n",
      "  +-+---------------- 1 ----------------\n",
      "    | Traceback (most recent call last):\n",
      "    |   File \"/opt/homebrew/anaconda3/envs/py312/lib/python3.12/asyncio/selector_events.py\", line 988, in _read_ready__get_buffer\n",
      "    |     nbytes = self._sock.recv_into(buf)\n",
      "    |              ^^^^^^^^^^^^^^^^^^^^^^^^^\n",
      "    | ConnectionResetError: [Errno 54] Connection reset by peer\n",
      "    | \n",
      "    | The above exception was the direct cause of the following exception:\n",
      "    | \n",
      "    | Traceback (most recent call last):\n",
      "    |   File \"/Users/bkappes/src/contextualize/pycarta/pycarta/src/pycarta/services/proxy.py\", line 91, in listen\n",
      "    |     message = await connection.recv()\n",
      "    |               ^^^^^^^^^^^^^^^^^^^^^^^\n",
      "    |   File \"/Users/bkappes/src/contextualize/pycarta/pycarta/venv/lib/python3.12/site-packages/websockets/asyncio/connection.py\", line 322, in recv\n",
      "    |     raise self.protocol.close_exc from self.recv_exc\n",
      "    | websockets.exceptions.ConnectionClosedError: no close frame received or sent\n",
      "    +------------------------------------\n"
     ]
    }
   ],
   "source": [
    "# Create a simple calculator service\n",
    "@pc.service(mynamespace, \"calculator\").get(\"add/{a}/{b}\")\n",
    "def add_numbers(a: int, b: int) -> str:\n",
    "    \"\"\"Add two numbers together.\"\"\"\n",
    "    return json.dumps({\"result\": a + b})\n",
    "\n",
    "@pc.service(mynamespace, \"calculator\").get(\"/multiply/{a}/{b}\")\n",
    "def multiply_numbers(a: int, b: int) -> str:\n",
    "    \"\"\"Multiply two numbers.\"\"\"\n",
    "    return json.dumps({\"result\": a * b})\n",
    "\n",
    "print(\"Calculator service endpoints defined\")\n",
    "print(\"Endpoints:\")\n",
    "print(\"  GET /add/{a}/{b} - Add two numbers\")\n",
    "print(\"  GET /multiply/{a}/{b} - Multiply two numbers\")\n",
    "\n",
    "suppress_logging()\n",
    "with ServiceRunner(agent) as runner:\n",
    "    result = runner.get(f\"{mynamespace}/calculator/add/5/3\")\n",
    "    print(\"Add:\", json.dumps(result.json()))\n",
    "\n",
    "    result = runner.get(f\"{mynamespace}/calculator/multiply/5/3\")\n",
    "    print(\"Multiply:\", json.dumps(result.json()))"
   ]
  },
  {
   "cell_type": "markdown",
   "metadata": {},
   "source": [
    "## HTTP Methods\n",
    "\n",
    "Support for all standard HTTP methods:"
   ]
  },
  {
   "cell_type": "code",
   "execution_count": 48,
   "metadata": {},
   "outputs": [
    {
     "name": "stdout",
     "output_type": "stream",
     "text": [
      "Data models defined for user management service\n"
     ]
    }
   ],
   "source": [
    "# Define data models\n",
    "class UserCreate(BaseModel):\n",
    "    name: str\n",
    "    email: str\n",
    "    age: int\n",
    "\n",
    "class UserUpdate(BaseModel):\n",
    "    name: None | str = None\n",
    "    email: None | str = None\n",
    "    age: None | int = None\n",
    "\n",
    "print(\"Data models defined for user management service\")"
   ]
  },
  {
   "cell_type": "code",
   "execution_count": null,
   "metadata": {},
   "outputs": [
    {
     "name": "stdout",
     "output_type": "stream",
     "text": [
      "User management service with all HTTP methods defined\n",
      "Waiting for the service to start. This takes a few seconds.\n"
     ]
    },
    {
     "name": "stderr",
     "output_type": "stream",
     "text": [
      "INFO:     Started server process [87282]\n",
      "INFO:     Waiting for application startup.\n",
      "INFO:     Application startup complete.\n",
      "INFO:     Uvicorn running on http://127.0.0.1:54030 (Press CTRL+C to quit)\n"
     ]
    },
    {
     "name": "stdout",
     "output_type": "stream",
     "text": [
      "GET: {'status': 'COMPLETE', 'startTime': '2025-10-02T00:33:32.594255', 'stopTime': '2025-10-02T00:33:36.997849', 'response': '\"{\\\\\"user_id\\\\\": 1, \\\\\"name\\\\\": \\\\\"User 1\\\\\"}\"'}\n",
      "INFO:     127.0.0.1:54034 - \"POST /bkappes/users/create HTTP/1.1\" 200 OK\n",
      "POST: {'status': 'COMPLETE', 'startTime': '2025-10-02T00:33:40.374322', 'stopTime': '2025-10-02T00:33:44.585974', 'response': '\"{\\\\\"message\\\\\": \\\\\"Created user Alice <- {\\'name\\': \\'Alice\\', \\'email\\': \\'alice@example.com\\', \\'age\\': 30}\\\\\"}\"'}\n",
      "INFO:     127.0.0.1:54036 - \"PUT /bkappes/users/2 HTTP/1.1\" 200 OK\n",
      "PUT: {'status': 'COMPLETE', 'startTime': '2025-10-02T00:33:47.494478', 'stopTime': '2025-10-02T00:33:52.154845', 'response': '\"{\\\\\"message\\\\\": \\\\\"Updated user 2 <- {\\'name\\': \\'Bob\\', \\'email\\': \\'bob@example.com\\', \\'age\\': 25}\\\\\"}\"'}\n",
      "INFO:     127.0.0.1:54038 - \"PATCH /bkappes/users/2 HTTP/1.1\" 200 OK\n",
      "PATCH: {'status': 'COMPLETE', 'startTime': '2025-10-02T00:33:54.814298', 'stopTime': '2025-10-02T00:33:59.063988', 'response': '\"{\\\\\"message\\\\\": \\\\\"Patched user 2\\\\\", \\\\\"updates\\\\\": \\\\\"{\\\\\\\\\\\\\"name\\\\\\\\\\\\\":null,\\\\\\\\\\\\\"email\\\\\\\\\\\\\":null,\\\\\\\\\\\\\"age\\\\\\\\\\\\\":31}\\\\\"}\"'}\n",
      "INFO:     127.0.0.1:54040 - \"DELETE /bkappes/users/1 HTTP/1.1\" 200 OK\n",
      "DELETE: {'status': 'COMPLETE', 'startTime': '2025-10-02T00:34:02.274789', 'stopTime': '2025-10-02T00:34:06.600284', 'response': '\"{\\\\\"message\\\\\": \\\\\"Deleted user 1\\\\\"}\"'}\n"
     ]
    },
    {
     "name": "stderr",
     "output_type": "stream",
     "text": [
      "ERROR:pycarta.services.server:Proxy error: no close frame received or sent\n",
      "INFO:     Shutting down\n",
      "INFO:     Waiting for application shutdown.\n",
      "INFO:     Application shutdown complete.\n",
      "INFO:     Finished server process [87282]\n",
      "Exception in thread Thread-446 (run_connect_async):\n",
      "  + Exception Group Traceback (most recent call last):\n",
      "  |   File \"/opt/homebrew/anaconda3/envs/py312/lib/python3.12/threading.py\", line 1075, in _bootstrap_inner\n",
      "  |     self.run()\n",
      "  |   File \"/Users/bkappes/src/contextualize/pycarta/pycarta/venv/lib/python3.12/site-packages/ipykernel/ipkernel.py\", line 772, in run_closure\n",
      "  |     _threading_Thread_run(self)\n",
      "  |   File \"/opt/homebrew/anaconda3/envs/py312/lib/python3.12/threading.py\", line 1012, in run\n",
      "  |     self._target(*self._args, **self._kwargs)\n",
      "  |   File \"/var/folders/2r/w5t_rv6d6zv28c1r2x_p5cc00000gn/T/ipykernel_87282/340729537.py\", line 14, in run_connect_async\n",
      "  |   File \"/opt/homebrew/anaconda3/envs/py312/lib/python3.12/asyncio/runners.py\", line 194, in run\n",
      "  |     return runner.run(main)\n",
      "  |            ^^^^^^^^^^^^^^^^\n",
      "  |   File \"/opt/homebrew/anaconda3/envs/py312/lib/python3.12/asyncio/runners.py\", line 118, in run\n",
      "  |     return self._loop.run_until_complete(task)\n",
      "  |            ^^^^^^^^^^^^^^^^^^^^^^^^^^^^^^^^^^^\n",
      "  |   File \"/opt/homebrew/anaconda3/envs/py312/lib/python3.12/asyncio/base_events.py\", line 687, in run_until_complete\n",
      "  |     return future.result()\n",
      "  |            ^^^^^^^^^^^^^^^\n",
      "  |   File \"/Users/bkappes/src/contextualize/pycarta/pycarta/src/pycarta/services/server.py\", line 617, in connect\n",
      "  |     raise eg\n",
      "  |   File \"/Users/bkappes/src/contextualize/pycarta/pycarta/src/pycarta/services/server.py\", line 601, in connect\n",
      "  |     async with asyncio.TaskGroup() as tg:\n",
      "  |                ^^^^^^^^^^^^^^^^^^^\n",
      "  |   File \"/opt/homebrew/anaconda3/envs/py312/lib/python3.12/asyncio/taskgroups.py\", line 145, in __aexit__\n",
      "  |     raise me from None\n",
      "  | ExceptionGroup: unhandled errors in a TaskGroup (1 sub-exception)\n",
      "  +-+---------------- 1 ----------------\n",
      "    | Traceback (most recent call last):\n",
      "    |   File \"/opt/homebrew/anaconda3/envs/py312/lib/python3.12/asyncio/selector_events.py\", line 988, in _read_ready__get_buffer\n",
      "    |     nbytes = self._sock.recv_into(buf)\n",
      "    |              ^^^^^^^^^^^^^^^^^^^^^^^^^\n",
      "    | ConnectionResetError: [Errno 54] Connection reset by peer\n",
      "    | \n",
      "    | The above exception was the direct cause of the following exception:\n",
      "    | \n",
      "    | Traceback (most recent call last):\n",
      "    |   File \"/Users/bkappes/src/contextualize/pycarta/pycarta/src/pycarta/services/proxy.py\", line 91, in listen\n",
      "    |     message = await connection.recv()\n",
      "    |               ^^^^^^^^^^^^^^^^^^^^^^^\n",
      "    |   File \"/Users/bkappes/src/contextualize/pycarta/pycarta/venv/lib/python3.12/site-packages/websockets/asyncio/connection.py\", line 322, in recv\n",
      "    |     raise self.protocol.close_exc from self.recv_exc\n",
      "    | websockets.exceptions.ConnectionClosedError: no close frame received or sent\n",
      "    +------------------------------------\n"
     ]
    }
   ],
   "source": [
    "service = pc.service(mynamespace, \"users\")  # root URL = {base URL}/services/api/users/, e.g. https://api.carta.contextualize.us.com/services/api/users/\n",
    "\n",
    "# GET endpoint with path parameters\n",
    "@service.get(\"/{user_id}\")  # {root URL}/{user_id}\n",
    "def get_user(user_id: int) -> str:\n",
    "    return json.dumps({\"user_id\": user_id, \"name\": f\"User {user_id}\"})\n",
    "\n",
    "# POST endpoint with JSON body\n",
    "@service.post(\"/create\")  # {root URL}/create\n",
    "def create_user(user: UserCreate) -> str:\n",
    "    return json.dumps({\"message\": f\"Created user {user.name} <- {user.model_dump()}\"})\n",
    "\n",
    "# PUT endpoint for updates\n",
    "@service.put(\"/{user_id}\")  # {root URL}/{user_id}\n",
    "def update_user(user_id: int, user: UserCreate) -> str:\n",
    "    return json.dumps({\"message\": f\"Updated user {user_id} <- {user.model_dump()}\"})\n",
    "\n",
    "# DELETE endpoint\n",
    "@service.delete(\"/{user_id}\")  # {root URL}/{user_id}\n",
    "def delete_user(user_id: int) -> str:\n",
    "    return json.dumps({\"message\": f\"Deleted user {user_id}\"})\n",
    "\n",
    "# PATCH endpoint for partial updates\n",
    "@service.patch(\"/{user_id}\")  # {root URL}/{user_id}\n",
    "def patch_user(user_id: int, updates: UserUpdate) -> str:\n",
    "    return json.dumps({\"message\": f\"Patched user {user_id}\", \"updates\": updates.model_dump_json()})\n",
    "\n",
    "print(\"User management service with all HTTP methods defined\")\n",
    "\n",
    "suppress_logging()\n",
    "with ServiceRunner(agent) as runner:\n",
    "    result = runner.get(mynamespace + \"/users/1\")\n",
    "    print(\"GET:\", result.json())\n",
    "\n",
    "    result = runner.post(mynamespace + \"/users/create\", json={\"name\": \"Alice\", \"email\": \"alice@example.com\", \"age\": 30})\n",
    "    print(\"POST:\", result.json())\n",
    "\n",
    "    result = runner.put(mynamespace + \"/users/2\", json={\"name\": \"Bob\", \"email\": \"bob@example.com\", \"age\": 25})\n",
    "    print(\"PUT:\", result.json())\n",
    "    \n",
    "    result = runner.patch(mynamespace + \"/users/2\", json={\"age\": 31})\n",
    "    print(\"PATCH:\", result.json())\n",
    "\n",
    "    result = runner.delete(mynamespace + \"/users/1\")\n",
    "    print(\"DELETE:\", result.json())"
   ]
  },
  {
   "cell_type": "markdown",
   "metadata": {},
   "source": [
    "## Advanced Routing\n",
    "\n",
    "Path parameters, query parameters, and complex routing:"
   ]
  },
  {
   "cell_type": "code",
   "execution_count": null,
   "metadata": {},
   "outputs": [
    {
     "name": "stdout",
     "output_type": "stream",
     "text": [
      "Advanced routing examples defined\n",
      "Examples of path parameters, query parameters, and mixed usage\n",
      "Waiting for the service to start. This takes a few seconds.\n"
     ]
    },
    {
     "name": "stderr",
     "output_type": "stream",
     "text": [
      "INFO:     Started server process [87282]\n",
      "INFO:     Waiting for application startup.\n",
      "INFO:     Application startup complete.\n",
      "INFO:     Uvicorn running on http://127.0.0.1:54097 (Press CTRL+C to quit)\n"
     ]
    },
    {
     "name": "stdout",
     "output_type": "stream",
     "text": [
      "INFO:     127.0.0.1:54099 - \"GET /bkappes/data/A/1 HTTP/1.1\" 200 OK\n",
      "Path: {'status': 'COMPLETE', 'startTime': '2025-10-02T00:41:46.335154', 'stopTime': '2025-10-02T00:41:50.990818', 'response': '\"{\\\\\"category\\\\\": \\\\\"A\\\\\", \\\\\"item_id\\\\\": 1}\"'}\n",
      "INFO:     127.0.0.1:54101 - \"GET /bkappes/data/search?limit=1&q=category%3DA%3Bitem%3D1 HTTP/1.1\" 200 OK\n",
      "Query: {'status': 'COMPLETE', 'startTime': '2025-10-02T00:41:53.735163', 'stopTime': '2025-10-02T00:41:58.156778', 'response': '\"{\\\\\"query\\\\\": \\\\\"category=A;item=1\\\\\", \\\\\"limit\\\\\": 1, \\\\\"offset\\\\\": 0, \\\\\"results\\\\\": []}\"'}\n",
      "INFO:     127.0.0.1:54104 - \"GET /bkappes/data/categories/B/items?sort=ascending HTTP/1.1\" 200 OK\n",
      "Mixed: {'status': 'COMPLETE', 'startTime': '2025-10-02T00:42:00.974843', 'stopTime': '2025-10-02T00:42:05.903548', 'response': '\"{\\\\\"category\\\\\": \\\\\"B\\\\\", \\\\\"page\\\\\": 1, \\\\\"per_page\\\\\": 20, \\\\\"sort\\\\\": \\\\\"ascending\\\\\"}\"'}\n"
     ]
    },
    {
     "name": "stderr",
     "output_type": "stream",
     "text": [
      "ERROR:pycarta.services.server:Proxy error: no close frame received or sent\n",
      "INFO:     Shutting down\n",
      "INFO:     Waiting for application shutdown.\n",
      "INFO:     Application shutdown complete.\n",
      "INFO:     Finished server process [87282]\n",
      "Exception in thread Thread-518 (run_connect_async):\n",
      "  + Exception Group Traceback (most recent call last):\n",
      "  |   File \"/opt/homebrew/anaconda3/envs/py312/lib/python3.12/threading.py\", line 1075, in _bootstrap_inner\n",
      "  |     self.run()\n",
      "  |   File \"/Users/bkappes/src/contextualize/pycarta/pycarta/venv/lib/python3.12/site-packages/ipykernel/ipkernel.py\", line 772, in run_closure\n",
      "  |     _threading_Thread_run(self)\n",
      "  |   File \"/opt/homebrew/anaconda3/envs/py312/lib/python3.12/threading.py\", line 1012, in run\n",
      "  |     self._target(*self._args, **self._kwargs)\n",
      "  |   File \"/var/folders/2r/w5t_rv6d6zv28c1r2x_p5cc00000gn/T/ipykernel_87282/340729537.py\", line 14, in run_connect_async\n",
      "  |   File \"/opt/homebrew/anaconda3/envs/py312/lib/python3.12/asyncio/runners.py\", line 194, in run\n",
      "  |     return runner.run(main)\n",
      "  |            ^^^^^^^^^^^^^^^^\n",
      "  |   File \"/opt/homebrew/anaconda3/envs/py312/lib/python3.12/asyncio/runners.py\", line 118, in run\n",
      "  |     return self._loop.run_until_complete(task)\n",
      "  |            ^^^^^^^^^^^^^^^^^^^^^^^^^^^^^^^^^^^\n",
      "  |   File \"/opt/homebrew/anaconda3/envs/py312/lib/python3.12/asyncio/base_events.py\", line 687, in run_until_complete\n",
      "  |     return future.result()\n",
      "  |            ^^^^^^^^^^^^^^^\n",
      "  |   File \"/Users/bkappes/src/contextualize/pycarta/pycarta/src/pycarta/services/server.py\", line 617, in connect\n",
      "  |     raise eg\n",
      "  |   File \"/Users/bkappes/src/contextualize/pycarta/pycarta/src/pycarta/services/server.py\", line 601, in connect\n",
      "  |     async with asyncio.TaskGroup() as tg:\n",
      "  |                ^^^^^^^^^^^^^^^^^^^\n",
      "  |   File \"/opt/homebrew/anaconda3/envs/py312/lib/python3.12/asyncio/taskgroups.py\", line 145, in __aexit__\n",
      "  |     raise me from None\n",
      "  | ExceptionGroup: unhandled errors in a TaskGroup (1 sub-exception)\n",
      "  +-+---------------- 1 ----------------\n",
      "    | Traceback (most recent call last):\n",
      "    |   File \"/opt/homebrew/anaconda3/envs/py312/lib/python3.12/asyncio/selector_events.py\", line 988, in _read_ready__get_buffer\n",
      "    |     nbytes = self._sock.recv_into(buf)\n",
      "    |              ^^^^^^^^^^^^^^^^^^^^^^^^^\n",
      "    | ConnectionResetError: [Errno 54] Connection reset by peer\n",
      "    | \n",
      "    | The above exception was the direct cause of the following exception:\n",
      "    | \n",
      "    | Traceback (most recent call last):\n",
      "    |   File \"/Users/bkappes/src/contextualize/pycarta/pycarta/src/pycarta/services/proxy.py\", line 91, in listen\n",
      "    |     message = await connection.recv()\n",
      "    |               ^^^^^^^^^^^^^^^^^^^^^^^\n",
      "    |   File \"/Users/bkappes/src/contextualize/pycarta/pycarta/venv/lib/python3.12/site-packages/websockets/asyncio/connection.py\", line 322, in recv\n",
      "    |     raise self.protocol.close_exc from self.recv_exc\n",
      "    | websockets.exceptions.ConnectionClosedError: no close frame received or sent\n",
      "    +------------------------------------\n"
     ]
    }
   ],
   "source": [
    "data_service = pc.service(mynamespace, \"data\")  # root URL = {base URL}/services/api/data, e.g. https://api.carta.contextualize.us.com/services/api/data\n",
    "\n",
    "# Path parameters\n",
    "@data_service.get(\"/{category}/{item_id}\")  # {root URL}/{category}/{item_id}\n",
    "def get_item(category: str, item_id: int) -> str:\n",
    "    return json.dumps({\"category\": category, \"item_id\": item_id})\n",
    "\n",
    "# Query parameters\n",
    "@data_service.get(\"/search\")  # {root URL}/search\n",
    "def search_items(*, q: str, limit: Optional[int] = 10, offset: int = 0) -> str:\n",
    "    return json.dumps({\n",
    "        \"query\": q,\n",
    "        \"limit\": limit,\n",
    "        \"offset\": offset,\n",
    "        \"results\": []\n",
    "    })\n",
    "\n",
    "# Mixed parameters\n",
    "@data_service.get(\"/categories/{category}/items\")  # {root URL}/categories/{category}/items\n",
    "def get_category_items(\n",
    "    category: str,\n",
    "    *,\n",
    "    page: int = 1,\n",
    "    per_page: int = 20,\n",
    "    sort: str = \"name\"\n",
    ") -> str:\n",
    "    return json.dumps({\n",
    "        \"category\": category,\n",
    "        \"page\": page,\n",
    "        \"per_page\": per_page,\n",
    "        \"sort\": sort\n",
    "    })\n",
    "\n",
    "print(\"Advanced routing examples defined\")\n",
    "print(\"Examples of path parameters, query parameters, and mixed usage\")\n",
    "\n",
    "suppress_logging()\n",
    "with ServiceRunner(agent) as runner:\n",
    "    baseurl = f\"{mynamespace}/data\"\n",
    "    result = runner.get(f\"{baseurl}/A/1\")\n",
    "    print(\"Path:\", result.json())\n",
    "\n",
    "    result = runner.get(f\"{baseurl}/search\", params={\"q\": \"category=A;item=1\", \"limit\": 1})\n",
    "    print(\"Query:\", result.json())\n",
    "\n",
    "    result = runner.get(f\"{baseurl}/categories/B/items\", params={\"sort\": \"ascending\"})\n",
    "    print(\"Mixed:\", result.json())"
   ]
  },
  {
   "cell_type": "markdown",
   "metadata": {},
   "source": [
    "## Authentication and Authorization\n",
    "\n",
    "Control access to your services:"
   ]
  },
  {
   "cell_type": "code",
   "execution_count": 60,
   "metadata": {},
   "outputs": [
    {
     "name": "stdout",
     "output_type": "stream",
     "text": [
      "Multiple users matched, so authorization could not be set based on email.\n",
      "Secure service with authorization defined\n",
      "Authorization methods commented out - uncomment when ready to use\n",
      "Available roles: Owner, Editor, User, Guest\n",
      "Waiting for the service to start. This takes a few seconds.\n"
     ]
    },
    {
     "name": "stderr",
     "output_type": "stream",
     "text": [
      "INFO:     Started server process [87282]\n",
      "INFO:     Waiting for application startup.\n",
      "INFO:     Application startup complete.\n",
      "INFO:     Uvicorn running on http://127.0.0.1:54181 (Press CTRL+C to quit)\n"
     ]
    },
    {
     "name": "stdout",
     "output_type": "stream",
     "text": [
      "INFO:     127.0.0.1:54183 - \"GET /bkappes/secureapi/admin/stats HTTP/1.1\" 200 OK\n",
      "Admin stats: {'status': 'COMPLETE', 'startTime': '2025-10-02T00:51:58.444987', 'stopTime': '2025-10-02T00:52:05.518687', 'response': '\"{\\\\\"active_users\\\\\": 150, \\\\\"total_services\\\\\": 45}\"'}\n"
     ]
    },
    {
     "name": "stderr",
     "output_type": "stream",
     "text": [
      "ERROR:pycarta.services.server:Proxy error: no close frame received or sent\n",
      "INFO:     Shutting down\n",
      "INFO:     Waiting for application shutdown.\n",
      "INFO:     Application shutdown complete.\n",
      "INFO:     Finished server process [87282]\n",
      "Exception in thread Thread-614 (run_connect_async):\n",
      "  + Exception Group Traceback (most recent call last):\n",
      "  |   File \"/opt/homebrew/anaconda3/envs/py312/lib/python3.12/threading.py\", line 1075, in _bootstrap_inner\n",
      "  |     self.run()\n",
      "  |   File \"/Users/bkappes/src/contextualize/pycarta/pycarta/venv/lib/python3.12/site-packages/ipykernel/ipkernel.py\", line 772, in run_closure\n",
      "  |     _threading_Thread_run(self)\n",
      "  |   File \"/opt/homebrew/anaconda3/envs/py312/lib/python3.12/threading.py\", line 1012, in run\n",
      "  |     self._target(*self._args, **self._kwargs)\n",
      "  |   File \"/var/folders/2r/w5t_rv6d6zv28c1r2x_p5cc00000gn/T/ipykernel_87282/340729537.py\", line 14, in run_connect_async\n",
      "  |   File \"/opt/homebrew/anaconda3/envs/py312/lib/python3.12/asyncio/runners.py\", line 194, in run\n",
      "  |     return runner.run(main)\n",
      "  |            ^^^^^^^^^^^^^^^^\n",
      "  |   File \"/opt/homebrew/anaconda3/envs/py312/lib/python3.12/asyncio/runners.py\", line 118, in run\n",
      "  |     return self._loop.run_until_complete(task)\n",
      "  |            ^^^^^^^^^^^^^^^^^^^^^^^^^^^^^^^^^^^\n",
      "  |   File \"/opt/homebrew/anaconda3/envs/py312/lib/python3.12/asyncio/base_events.py\", line 687, in run_until_complete\n",
      "  |     return future.result()\n",
      "  |            ^^^^^^^^^^^^^^^\n",
      "  |   File \"/Users/bkappes/src/contextualize/pycarta/pycarta/src/pycarta/services/server.py\", line 617, in connect\n",
      "  |     raise eg\n",
      "  |   File \"/Users/bkappes/src/contextualize/pycarta/pycarta/src/pycarta/services/server.py\", line 601, in connect\n",
      "  |     async with asyncio.TaskGroup() as tg:\n",
      "  |                ^^^^^^^^^^^^^^^^^^^\n",
      "  |   File \"/opt/homebrew/anaconda3/envs/py312/lib/python3.12/asyncio/taskgroups.py\", line 145, in __aexit__\n",
      "  |     raise me from None\n",
      "  | ExceptionGroup: unhandled errors in a TaskGroup (1 sub-exception)\n",
      "  +-+---------------- 1 ----------------\n",
      "    | Traceback (most recent call last):\n",
      "    |   File \"/opt/homebrew/anaconda3/envs/py312/lib/python3.12/asyncio/selector_events.py\", line 988, in _read_ready__get_buffer\n",
      "    |     nbytes = self._sock.recv_into(buf)\n",
      "    |              ^^^^^^^^^^^^^^^^^^^^^^^^^\n",
      "    | ConnectionResetError: [Errno 54] Connection reset by peer\n",
      "    | \n",
      "    | The above exception was the direct cause of the following exception:\n",
      "    | \n",
      "    | Traceback (most recent call last):\n",
      "    |   File \"/Users/bkappes/src/contextualize/pycarta/pycarta/src/pycarta/services/proxy.py\", line 91, in listen\n",
      "    |     message = await connection.recv()\n",
      "    |               ^^^^^^^^^^^^^^^^^^^^^^^\n",
      "    |   File \"/Users/bkappes/src/contextualize/pycarta/pycarta/venv/lib/python3.12/site-packages/websockets/asyncio/connection.py\", line 322, in recv\n",
      "    |     raise self.protocol.close_exc from self.recv_exc\n",
      "    | websockets.exceptions.ConnectionClosedError: no close frame received or sent\n",
      "    +------------------------------------\n"
     ]
    }
   ],
   "source": [
    "# Create service with specific authorization\n",
    "secure_service = pc.service(mynamespace, \"secureapi\")  # root URL = {base URL}/services/sapi/admintools, e.g. https://api.carta.contextualize.us.com/services/sapi/admintools\n",
    "\n",
    "# Authorize specific groups\n",
    "# secure_service.authorize(groups=[\"MyOrg:Admins\", \"MyOrg:PowerUsers\"], role=\"Editor\")\n",
    "\n",
    "# Authorize specific users\n",
    "try:\n",
    "    secure_service.authorize(user=pc.admin.get_current_user().email, role=\"User\")\n",
    "except KeyError:\n",
    "    print(\"Multiple users matched, so authorization could not be set based on email.\")\n",
    "    print(\"By default, the creator of the service has access.\")\n",
    "\n",
    "@secure_service.get(\"/admin/stats\")\n",
    "def get_admin_stats() -> str:\n",
    "    \"\"\"Only accessible to authorized users.\"\"\"\n",
    "    return json.dumps({\"active_users\": 150, \"total_services\": 45})\n",
    "\n",
    "print(\"Secure service with authorization defined\")\n",
    "print(\"Authorization methods commented out - uncomment when ready to use\")\n",
    "print(\"Available roles: Owner, Editor, User, Guest\")\n",
    "\n",
    "suppress_logging()\n",
    "with ServiceRunner(agent) as runner:\n",
    "    result = runner.get(mynamespace + \"/secureapi/admin/stats\")\n",
    "    print(\"Admin stats:\", result.json())"
   ]
  },
  {
   "cell_type": "markdown",
   "metadata": {},
   "source": [
    "## Error Handling\n",
    "\n",
    "Proper error responses with HTTP status codes:"
   ]
  },
  {
   "cell_type": "code",
   "execution_count": 5,
   "metadata": {},
   "outputs": [
    {
     "name": "stdout",
     "output_type": "stream",
     "text": [
      "Error handling examples defined\n",
      "Shows proper HTTP status codes and custom exceptions\n",
      "Waiting for the service to start. This takes a few seconds.\n"
     ]
    },
    {
     "name": "stderr",
     "output_type": "stream",
     "text": [
      "INFO:     Started server process [14971]\n",
      "INFO:     Waiting for application startup.\n",
      "INFO:     Application startup complete.\n",
      "INFO:     Uvicorn running on http://127.0.0.1:62106 (Press CTRL+C to quit)\n"
     ]
    },
    {
     "name": "stdout",
     "output_type": "stream",
     "text": [
      "ID < 0 Error: 404 Client Error: Not Found for url: https://api.sandbox.carta.contextualize.us.com/service/bkappes/users/-1\n",
      "ID > 1000 Error: 404 Client Error: Not Found for url: https://api.sandbox.carta.contextualize.us.com/service/bkappes/users/1024\n",
      "Trigger Error: 404 Client Error: Not Found for url: https://api.sandbox.carta.contextualize.us.com/service/bkappes/trigger-error\n"
     ]
    }
   ],
   "source": [
    "error_service = pc.service(mynamespace, \"errorhandling\")\n",
    "\n",
    "@error_service.get(\"/users/{user_id}\")\n",
    "def get_user_with_validation(user_id: int) -> str:\n",
    "    if user_id < 0:\n",
    "        raise HTTPException(status_code=400, detail=\"Invalid user ID\")\n",
    "    if user_id > 1000:\n",
    "        raise HTTPException(status_code=404, detail=\"User not found\")\n",
    "    return json.dumps({\"user_id\": user_id, \"name\": f\"User {user_id}\"})\n",
    "\n",
    "# Custom exception handling\n",
    "class CustomException(Exception):\n",
    "    def __init__(self, message: str):\n",
    "        self.message = message\n",
    "\n",
    "@error_service.get(\"/trigger-error\")\n",
    "def trigger_error():\n",
    "    raise CustomException(\"This is a custom error\")\n",
    "\n",
    "print(\"Error handling examples defined\")\n",
    "print(\"Shows proper HTTP status codes and custom exceptions\")\n",
    "\n",
    "with ServiceRunner(agent) as runner:\n",
    "    suppress_logging()\n",
    "\n",
    "    try:\n",
    "        runner.get(mynamespace + \"/users/-1\")\n",
    "    except HTTPError as err:\n",
    "        print(\"ID < 0 Error:\", str(err))\n",
    "\n",
    "    try:\n",
    "        runner.get(mynamespace + \"/users/1024\")\n",
    "    except HTTPError as err:\n",
    "        print(\"ID > 1000 Error:\", str(err))\n",
    "\n",
    "    try:\n",
    "        runner.get(mynamespace + \"/trigger-error\")\n",
    "    except HTTPError as err:\n",
    "        print(\"Trigger Error:\", str(err))\n"
   ]
  },
  {
   "cell_type": "markdown",
   "metadata": {},
   "source": [
    "## Complete Service Example\n",
    "\n",
    "A real-world service with full CRUD operations:"
   ]
  },
  {
   "cell_type": "code",
   "execution_count": 6,
   "metadata": {},
   "outputs": [
    {
     "name": "stdout",
     "output_type": "stream",
     "text": [
      "Complete service example setup complete\n",
      "In-memory database initialized\n"
     ]
    }
   ],
   "source": [
    "# Configure logging\n",
    "logging.basicConfig(level=logging.INFO)\n",
    "logger = logging.getLogger(__name__)\n",
    "\n",
    "# Data models\n",
    "class User(BaseModel):\n",
    "    id: Optional[int] = None\n",
    "    name: str\n",
    "    email: EmailStr\n",
    "    age: int\n",
    "    active: bool = True\n",
    "\n",
    "class UserUpdatePartial(BaseModel):\n",
    "    name: Optional[str] = None\n",
    "    email: Optional[EmailStr] = None\n",
    "    age: Optional[int] = None\n",
    "    active: Optional[bool] = None\n",
    "\n",
    "# In-memory store (use a real database in production)\n",
    "users_db = {}\n",
    "next_id = 1\n",
    "\n",
    "print(\"Complete service example setup complete\")\n",
    "print(\"In-memory database initialized\")"
   ]
  },
  {
   "cell_type": "code",
   "execution_count": 7,
   "metadata": {},
   "outputs": [
    {
     "name": "stdout",
     "output_type": "stream",
     "text": [
      "Complete user management service defined\n",
      "Includes all CRUD operations, validation, and logging\n"
     ]
    }
   ],
   "source": [
    "# Create service with authorization\n",
    "full_service = pc.service(mynamespace, \"user-management\")\n",
    "# full_service.authorize(groups=[\"MyCompany:Developers\"], role=\"Editor\")\n",
    "\n",
    "@full_service.get(\"/users\", response_model=List[User])\n",
    "def list_users(skip: int = 0, limit: int = 100) -> list[User]:\n",
    "    \"\"\"List all users with pagination.\"\"\"\n",
    "    users = list(users_db.values())[skip:skip + limit]\n",
    "    logger.info(f\"Listed {len(users)} users\")\n",
    "    return users\n",
    "\n",
    "@full_service.get(\"/users/{user_id}\", response_model=User)\n",
    "def get_user_full(user_id: int) -> User:\n",
    "    \"\"\"Get a specific user by ID.\"\"\"\n",
    "    if user_id not in users_db:\n",
    "        raise HTTPException(status_code=404, detail=\"User not found\")\n",
    "    return users_db[user_id]\n",
    "\n",
    "@full_service.post(\"/users\", response_model=User)\n",
    "def create_user_full(user: User) -> User:\n",
    "    \"\"\"Create a new user.\"\"\"\n",
    "    global next_id\n",
    "    \n",
    "    # Check if email already exists\n",
    "    for existing_user in users_db.values():\n",
    "        if existing_user.email == user.email:\n",
    "            raise HTTPException(status_code=400, detail=\"Email already exists\")\n",
    "    \n",
    "    user.id = next_id\n",
    "    users_db[next_id] = user\n",
    "    next_id += 1\n",
    "    \n",
    "    logger.info(f\"Created user {user.id}: {user.name}\")\n",
    "    return user\n",
    "\n",
    "@full_service.put(\"/users/{user_id}\", response_model=User)\n",
    "def update_user_full(user_id: int, user_update: User) -> User:\n",
    "    \"\"\"Update an existing user.\"\"\"\n",
    "    if user_id not in users_db:\n",
    "        raise HTTPException(status_code=404, detail=\"User not found\")\n",
    "    \n",
    "    user_update.id = user_id\n",
    "    users_db[user_id] = user_update\n",
    "    \n",
    "    logger.info(f\"Updated user {user_id}\")\n",
    "    return user_update\n",
    "\n",
    "@full_service.patch(\"/users/{user_id}\", response_model=User)\n",
    "def patch_user_full(user_id: int, user_update: UserUpdatePartial) -> User:\n",
    "    \"\"\"Partially update an existing user.\"\"\"\n",
    "    if user_id not in users_db:\n",
    "        raise HTTPException(status_code=404, detail=\"User not found\")\n",
    "    \n",
    "    existing_user = users_db[user_id]\n",
    "    update_data = user_update.model_dump(exclude_unset=True)\n",
    "    updated_user = existing_user.copy(update=update_data)\n",
    "    users_db[user_id] = updated_user\n",
    "    \n",
    "    logger.info(f\"Patched user {user_id}\")\n",
    "    return updated_user\n",
    "\n",
    "@full_service.delete(\"/users/{user_id}\")\n",
    "def delete_user_full(user_id: int) -> str:\n",
    "    \"\"\"Delete a user.\"\"\"\n",
    "    if user_id not in users_db:\n",
    "        raise HTTPException(status_code=404, detail=\"User not found\")\n",
    "    \n",
    "    del users_db[user_id]\n",
    "    logger.info(f\"Deleted user {user_id}\")\n",
    "    return json.dumps({\"message\": f\"User {user_id} deleted successfully\"})\n",
    "\n",
    "@full_service.get(\"/health\")\n",
    "def health_check() -> str:\n",
    "    \"\"\"Service health check.\"\"\"\n",
    "    return json.dumps({\"status\": \"healthy\", \"users_count\": len(users_db)})\n",
    "\n",
    "print(\"Complete user management service defined\")\n",
    "print(\"Includes all CRUD operations, validation, and logging\")"
   ]
  },
  {
   "cell_type": "markdown",
   "metadata": {},
   "source": [
    "## Testing the Service\n",
    "\n",
    "Add some sample data and test endpoints:"
   ]
  },
  {
   "cell_type": "code",
   "execution_count": 8,
   "metadata": {},
   "outputs": [
    {
     "name": "stdout",
     "output_type": "stream",
     "text": [
      "Added 3 sample users to the database\n",
      "Current users in database: 3\n",
      "\n",
      "Sample users:\n",
      "  1: Alice Johnson (alice@example.com)\n",
      "  2: Bob Smith (bob@example.com)\n",
      "  3: Charlie Brown (charlie@example.com)\n"
     ]
    }
   ],
   "source": [
    "# Add some sample data\n",
    "sample_users = [\n",
    "    User(name=\"Alice Johnson\", email=\"alice@example.com\", age=30),\n",
    "    User(name=\"Bob Smith\", email=\"bob@example.com\", age=25),\n",
    "    User(name=\"Charlie Brown\", email=\"charlie@example.com\", age=35),\n",
    "]\n",
    "\n",
    "for user in sample_users:\n",
    "    user.id = next_id\n",
    "    users_db[next_id] = user\n",
    "    next_id += 1\n",
    "\n",
    "print(f\"Added {len(sample_users)} sample users to the database\")\n",
    "print(f\"Current users in database: {len(users_db)}\")\n",
    "print(\"\\nSample users:\")\n",
    "for user_id, user in users_db.items():\n",
    "    print(f\"  {user_id}: {user.name} ({user.email})\")"
   ]
  },
  {
   "cell_type": "markdown",
   "metadata": {},
   "source": [
    "## Service Deployment\n",
    "\n",
    "How to start and deploy your services:"
   ]
  },
  {
   "cell_type": "code",
   "execution_count": 9,
   "metadata": {},
   "outputs": [
    {
     "name": "stdout",
     "output_type": "stream",
     "text": [
      "\n",
      "SERVICE DEPLOYMENT:\n",
      "\n",
      "1. Local Development:\n",
      "   To start your service locally, add this to your Python script:\n",
      "\n",
      "   if __name__ == \"__main__\":\n",
      "       pc.service.connect()\n",
      "\n",
      "   This will:\n",
      "   - Start a local server on an available port\n",
      "   - Register with Carta platform\n",
      "   - Make your service accessible via Carta URL\n",
      "\n",
      "2. Service URLs:\n",
      "   Your service will be available at:\n",
      "   https://carta.contextualize.us.com/{namespace}/{service}/\n",
      "\n",
      "   For example:\n",
      "   https://carta.contextualize.us.com/mycompany/user-management/\n",
      "\n",
      "3. Documentation:\n",
      "   Automatic OpenAPI docs available at:\n",
      "   https://carta.contextualize.us.com/{namespace}/{service}/docs\n",
      "\n",
      "4. Production Deployment:\n",
      "   For production, deploy to your server then register:\n",
      "\n",
      "   from pycarta.admin.service import register_service\n",
      "   register_service(\n",
      "       namespace=\"production\",\n",
      "       service=\"my-app\", \n",
      "       url=\"https://my-production-server.com\"\n",
      "   )\n",
      "\n"
     ]
    }
   ],
   "source": [
    "print(\"\"\"\n",
    "SERVICE DEPLOYMENT:\n",
    "\n",
    "1. Local Development:\n",
    "   To start your service locally, add this to your Python script:\n",
    "   \n",
    "   if __name__ == \"__main__\":\n",
    "       pc.service.connect()\n",
    "   \n",
    "   This will:\n",
    "   - Start a local server on an available port\n",
    "   - Register with Carta platform\n",
    "   - Make your service accessible via Carta URL\n",
    "\n",
    "2. Service URLs:\n",
    "   Your service will be available at:\n",
    "   https://carta.contextualize.us.com/{namespace}/{service}/\n",
    "   \n",
    "   For example:\n",
    "   https://carta.contextualize.us.com/mycompany/user-management/\n",
    "\n",
    "3. Documentation:\n",
    "   Automatic OpenAPI docs available at:\n",
    "   https://carta.contextualize.us.com/{namespace}/{service}/docs\n",
    "\n",
    "4. Production Deployment:\n",
    "   For production, deploy to your server then register:\n",
    "   \n",
    "   from pycarta.admin.service import register_service\n",
    "   register_service(\n",
    "       namespace=\"production\",\n",
    "       service=\"my-app\", \n",
    "       url=\"https://my-production-server.com\"\n",
    "   )\n",
    "\"\"\")"
   ]
  },
  {
   "cell_type": "markdown",
   "metadata": {},
   "source": [
    "## Best Practices\n",
    "\n",
    "Guidelines for service development:"
   ]
  },
  {
   "cell_type": "code",
   "execution_count": 10,
   "metadata": {},
   "outputs": [
    {
     "name": "stdout",
     "output_type": "stream",
     "text": [
      "\n",
      "SERVICE DEVELOPMENT BEST PRACTICES:\n",
      "\n",
      "1. Service Design:\n",
      "   - Use meaningful, unique namespace names\n",
      "   - Consider API versioning in namespace or endpoints\n",
      "   - Document thoroughly with docstrings and type hints\n",
      "   - Handle errors gracefully with meaningful messages\n",
      "\n",
      "2. Security:\n",
      "   - Apply principle of least privilege for authorization\n",
      "   - Use Pydantic models for request validation\n",
      "   - Be careful about data exposure in responses\n",
      "   - Monitor and log access patterns\n",
      "\n",
      "3. Performance:\n",
      "   - Use async functions for I/O-bound operations\n",
      "   - Implement appropriate caching strategies\n",
      "   - Set reasonable limits on request body sizes\n",
      "   - Monitor resource usage (memory, CPU)\n",
      "\n",
      "4. Data Validation:\n",
      "   - Use Pydantic models for request/response validation\n",
      "   - Provide clear error messages for validation failures\n",
      "   - Use appropriate HTTP status codes\n",
      "\n",
      "5. Testing:\n",
      "   - Test all endpoints with various inputs\n",
      "   - Test error conditions and edge cases\n",
      "   - Verify authorization works correctly\n",
      "   - Test with realistic data volumes\n",
      "\n",
      "6. Documentation:\n",
      "   - Write clear docstrings for all endpoints\n",
      "   - Use type hints for automatic documentation\n",
      "   - Provide example requests/responses\n",
      "   - Keep documentation up to date\n",
      "\n"
     ]
    }
   ],
   "source": [
    "print(\"\"\"\n",
    "SERVICE DEVELOPMENT BEST PRACTICES:\n",
    "\n",
    "1. Service Design:\n",
    "   - Use meaningful, unique namespace names\n",
    "   - Consider API versioning in namespace or endpoints\n",
    "   - Document thoroughly with docstrings and type hints\n",
    "   - Handle errors gracefully with meaningful messages\n",
    "\n",
    "2. Security:\n",
    "   - Apply principle of least privilege for authorization\n",
    "   - Use Pydantic models for request validation\n",
    "   - Be careful about data exposure in responses\n",
    "   - Monitor and log access patterns\n",
    "\n",
    "3. Performance:\n",
    "   - Use async functions for I/O-bound operations\n",
    "   - Implement appropriate caching strategies\n",
    "   - Set reasonable limits on request body sizes\n",
    "   - Monitor resource usage (memory, CPU)\n",
    "\n",
    "4. Data Validation:\n",
    "   - Use Pydantic models for request/response validation\n",
    "   - Provide clear error messages for validation failures\n",
    "   - Use appropriate HTTP status codes\n",
    "\n",
    "5. Testing:\n",
    "   - Test all endpoints with various inputs\n",
    "   - Test error conditions and edge cases\n",
    "   - Verify authorization works correctly\n",
    "   - Test with realistic data volumes\n",
    "\n",
    "6. Documentation:\n",
    "   - Write clear docstrings for all endpoints\n",
    "   - Use type hints for automatic documentation\n",
    "   - Provide example requests/responses\n",
    "   - Keep documentation up to date\n",
    "\"\"\")"
   ]
  },
  {
   "cell_type": "markdown",
   "metadata": {},
   "source": [
    "## Next Steps\n",
    "\n",
    "After creating services:\n",
    "1. Set up MQTT messaging for real-time features (see `04_mqtt.ipynb`)\n",
    "2. Integrate data management capabilities (see `05_data_management.ipynb`)\n",
    "3. Connect with Seven Bridges workflows (see `06_seven_bridges.ipynb`)\n",
    "4. Deploy to production environment\n",
    "5. Monitor and maintain your services"
   ]
  }
 ],
 "metadata": {
  "kernelspec": {
   "display_name": "venv",
   "language": "python",
   "name": "python3"
  },
  "language_info": {
   "codemirror_mode": {
    "name": "ipython",
    "version": 3
   },
   "file_extension": ".py",
   "mimetype": "text/x-python",
   "name": "python",
   "nbconvert_exporter": "python",
   "pygments_lexer": "ipython3",
   "version": "3.12.7"
  }
 },
 "nbformat": 4,
 "nbformat_minor": 4
}
