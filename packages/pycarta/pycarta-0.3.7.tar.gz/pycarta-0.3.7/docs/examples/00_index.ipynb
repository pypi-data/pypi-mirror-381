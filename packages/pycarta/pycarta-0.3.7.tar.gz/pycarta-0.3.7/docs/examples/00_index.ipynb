{
 "cells": [
  {
   "cell_type": "markdown",
   "metadata": {},
   "source": [
    "# pycarta Examples and Tutorials\n",
    "\n",
    "This collection of Jupyter notebooks demonstrates all the features and capabilities of pycarta, the Python interface to the Carta platform.\n",
    "\n",
    "## What is pycarta?\n",
    "\n",
    "pycarta is a comprehensive Python library that streamlines administrative actions, service development, and integration with the Carta platform. It provides authentication controls, service hosting capabilities, MQTT messaging, data processing utilities, and seamless integration with external platforms like Seven Bridges Genomics.\n",
    "\n",
    "## 📚 Tutorial Notebooks\n",
    "\n",
    "Work through these notebooks in order to learn pycarta systematically:\n",
    "\n",
    "### [01. Authentication](01_authentication.ipynb)\n",
    "- **Topics**: Login methods, profiles, interactive mode, authorization decorators\n",
    "- **Key Features**: Username/password auth, profile management, environment configuration\n",
    "- **Prerequisites**: Carta account credentials\n",
    "- **Time**: 15-20 minutes\n",
    "\n",
    "### [02. Administrative Functions](02_admin.ipynb)\n",
    "- **Topics**: User management, group management, secrets management\n",
    "- **Key Features**: CRUD operations, authorization controls, secure credential storage\n",
    "- **Prerequisites**: Admin privileges, authentication setup\n",
    "- **Time**: 25-30 minutes\n",
    "\n",
    "### [03. Service Development](03_services.ipynb)\n",
    "- **Topics**: REST API creation, HTTP methods, authorization, deployment\n",
    "- **Key Features**: FastAPI integration, automatic documentation, WebSocket support\n",
    "- **Prerequisites**: Basic REST API knowledge\n",
    "- **Time**: 45-60 minutes\n",
    "\n",
    "### [04. MQTT Messaging](04_mqtt.ipynb)\n",
    "- **Topics**: Publishing, subscribing, async operations, QoS, security\n",
    "- **Key Features**: Real-time messaging, IoT data pipelines, TLS/SSL support\n",
    "- **Prerequisites**: Understanding of MQTT protocol basics\n",
    "- **Time**: 35-45 minutes\n",
    "\n",
    "### [05. Data Management](05_data_management.ipynb)\n",
    "- **Topics**: FormsDB, Tablify, Graph operations, integrated workflows\n",
    "- **Key Features**: Schema-aware storage, JSON to DataFrame conversion, graph analysis\n",
    "- **Prerequisites**: JSON Schema knowledge helpful\n",
    "- **Time**: 40-50 minutes\n",
    "\n",
    "### [06. Seven Bridges Integration](06_seven_bridges.ipynb)\n",
    "- **Topics**: ExecutableApp, ExecutableProject, file management, genomics pipelines\n",
    "- **Key Features**: Cloud computation, workflow automation, progress tracking\n",
    "- **Prerequisites**: Seven Bridges platform access\n",
    "- **Time**: 60-75 minutes\n",
    "\n",
    "## 🚀 Quick Start Guide\n",
    "\n",
    "If you're new to pycarta, start here:"
   ]
  },
  {
   "cell_type": "markdown",
   "metadata": {},
   "source": [
    "### Installation"
   ]
  },
  {
   "cell_type": "code",
   "execution_count": 1,
   "metadata": {},
   "outputs": [
    {
     "name": "stdout",
     "output_type": "stream",
     "text": [
      "For development or latest features:\n",
      "git clone https://gitlab.com/contextualize/pycarta\n",
      "cd pycarta\n",
      "pip install -e .\n"
     ]
    }
   ],
   "source": [
    "# Install pycarta (uncomment to run)\n",
    "# !pip install pycarta\n",
    "\n",
    "print(\"For development or latest features:\")\n",
    "print(\"git clone https://gitlab.com/contextualize/pycarta\")\n",
    "print(\"cd pycarta\")\n",
    "print(\"pip install -e .\")"
   ]
  },
  {
   "cell_type": "markdown",
   "metadata": {},
   "source": [
    "### Basic Authentication"
   ]
  },
  {
   "cell_type": "code",
   "execution_count": 3,
   "metadata": {},
   "outputs": [
    {
     "name": "stdout",
     "output_type": "stream",
     "text": [
      "Authentication methods available:\n",
      "- Username/password\n",
      "- Saved profiles\n",
      "- Environment variables\n",
      "- Interactive login\n",
      "Logged in successfully!\n"
     ]
    }
   ],
   "source": [
    "import pycarta as pc\n",
    "\n",
    "# Basic login (see 01_authentication.ipynb for details)\n",
    "# pc.login(username=\"your_username\", password=\"your_password\")\n",
    "# pc.login(profile=\"my-profile\")  # Using saved profile\n",
    "# pc.login(interactive=True)      # Interactive prompts\n",
    "\n",
    "print(\"Authentication methods available:\")\n",
    "print(\"- Username/password\")\n",
    "print(\"- Saved profiles\")\n",
    "print(\"- Environment variables\")\n",
    "print(\"- Interactive login\")\n",
    "\n",
    "if pc.login(interactive=True):\n",
    "    print(\"Logged in successfully!\")\n",
    "else:\n",
    "    print(\"Login failed.\")"
   ]
  },
  {
   "cell_type": "markdown",
   "metadata": {},
   "source": [
    "### Simple Service Example"
   ]
  },
  {
   "cell_type": "code",
   "execution_count": 4,
   "metadata": {},
   "outputs": [
    {
     "name": "stderr",
     "output_type": "stream",
     "text": [
      "ERROR:pycarta.auth.agent:Forbidden: Forbidden\n",
      "INFO:pycarta.services.server:Cleaning up service '/my-namespace/calculator'\n"
     ]
    },
    {
     "name": "stdout",
     "output_type": "stream",
     "text": [
      "Note: You have not been given permission to create services. Please contact your plan administrator.\n",
      "Simple service defined\n",
      "To start: pc.service.connect()\n",
      "URL: https://carta.contextualize.us.com/my-namespace/calculator/add/{a}/{b}\n"
     ]
    }
   ],
   "source": [
    "# Create a simple service (see 03_services.ipynb for details)\n",
    "try:\n",
    "    @pc.service(\"my-namespace\", \"calculator\").get(\"/add/{a}/{b}\")\n",
    "    def add_numbers(a: int, b: int):\n",
    "        \"\"\"Add two numbers together.\"\"\"\n",
    "        return {\"result\": a + b}\n",
    "except pc.exceptions.PermissionDeniedException:\n",
    "    print(\"Note: You have not been given permission to create services. Please contact your plan administrator.\")\n",
    "\n",
    "print(\"Simple service defined\")\n",
    "print(\"To start: pc.service.connect()\")\n",
    "print(\"URL: https://carta.contextualize.us.com/my-namespace/calculator/add/{a}/{b}\")"
   ]
  },
  {
   "cell_type": "markdown",
   "metadata": {},
   "source": [
    "### MQTT Publishing Example"
   ]
  },
  {
   "cell_type": "code",
   "execution_count": 5,
   "metadata": {},
   "outputs": [
    {
     "name": "stdout",
     "output_type": "stream",
     "text": [
      "MQTT publisher defined\n",
      "Call read_temperature() to publish data\n"
     ]
    }
   ],
   "source": [
    "from pycarta.mqtt import publish\n",
    "from datetime import datetime\n",
    "\n",
    "# Simple MQTT publisher (see 04_mqtt.ipynb for details)\n",
    "@publish(\"sensors/temperature\")\n",
    "def read_temperature():\n",
    "    \"\"\"Simulate reading a temperature sensor.\"\"\"\n",
    "    import random\n",
    "    return {\n",
    "        \"temperature\": round(random.uniform(20.0, 30.0), 1),\n",
    "        \"unit\": \"celsius\",\n",
    "        \"timestamp\": datetime.now().isoformat()\n",
    "    }\n",
    "\n",
    "print(\"MQTT publisher defined\")\n",
    "print(\"Call read_temperature() to publish data\")"
   ]
  },
  {
   "cell_type": "markdown",
   "metadata": {},
   "source": [
    "## 📋 Prerequisites and Setup\n",
    "\n",
    "### Required\n",
    "- Python 3.12+\n",
    "- Valid Carta account and credentials\n",
    "- pycarta library installed\n",
    "\n",
    "### Optional (for specific features)\n",
    "- Administrative privileges (for user/group management)\n",
    "- Seven Bridges platform access (for computational workflows)\n",
    "- MQTT broker access (for messaging features)\n",
    "- Project access (for FormsDB data management)\n",
    "\n",
    "### Environment Setup\n",
    "\n",
    "Set these environment variables for automatic authentication:"
   ]
  },
  {
   "cell_type": "code",
   "execution_count": 6,
   "metadata": {},
   "outputs": [
    {
     "name": "stdout",
     "output_type": "stream",
     "text": [
      "\n",
      "Environment Variables (optional):\n",
      "\n",
      "CARTA_USER=<your_username>\n",
      "CARTA_PASS=<your_password>\n",
      "CARTA_PROFILE=<profile_name>\n",
      "CARTA_ENV=<development|production>\n",
      "CARTA_HOST=<custom_host_url>\n",
      "\n",
      "Seven Bridges (optional):\n",
      "SB_API_ENDPOINT=https://api.sbgenomics.com/v2/\n",
      "SB_AUTH_TOKEN=<your_sbg_token>\n",
      "\n"
     ]
    }
   ],
   "source": [
    "print(\"\"\"\n",
    "Environment Variables (optional):\n",
    "\n",
    "CARTA_USER=<your_username>\n",
    "CARTA_PASS=<your_password>\n",
    "CARTA_PROFILE=<profile_name>\n",
    "CARTA_ENV=<development|production>\n",
    "CARTA_HOST=<custom_host_url>\n",
    "\n",
    "Seven Bridges (optional):\n",
    "SB_API_ENDPOINT=https://api.sbgenomics.com/v2/\n",
    "SB_AUTH_TOKEN=<your_sbg_token>\n",
    "\"\"\")"
   ]
  },
  {
   "cell_type": "markdown",
   "metadata": {},
   "source": [
    "## 🎯 Learning Paths\n",
    "\n",
    "Choose your learning path based on your interests:\n",
    "\n",
    "### For API Developers\n",
    "1. [Authentication](01_authentication.ipynb) - Learn login methods\n",
    "2. [Services](03_services.ipynb) - Create REST APIs\n",
    "3. [Admin](02_admin.ipynb) - Manage users and permissions\n",
    "\n",
    "### For Data Scientists\n",
    "1. [Authentication](01_authentication.ipynb) - Get started\n",
    "2. [Data Management](05_data_management.ipynb) - Work with data\n",
    "3. [Seven Bridges](06_seven_bridges.ipynb) - Computational workflows\n",
    "\n",
    "### For IoT/Real-time Applications\n",
    "1. [Authentication](01_authentication.ipynb) - Basic setup\n",
    "2. [MQTT](04_mqtt.ipynb) - Messaging and streaming\n",
    "3. [Services](03_services.ipynb) - Create data APIs\n",
    "\n",
    "### For System Administrators\n",
    "1. [Authentication](01_authentication.ipynb) - User management setup\n",
    "2. [Admin](02_admin.ipynb) - Full administrative features\n",
    "3. [Services](03_services.ipynb) - Service deployment\n",
    "\n",
    "## 🔧 Common Use Cases\n",
    "\n",
    "### Building a Data Analysis Service\n",
    "- Use **Authentication** for secure access\n",
    "- Use **Services** to create analysis APIs\n",
    "- Use **Data Management** for result storage\n",
    "- Use **Seven Bridges** for heavy computation\n",
    "\n",
    "### IoT Data Pipeline\n",
    "- Use **Authentication** for device security\n",
    "- Use **MQTT** for real-time data streaming\n",
    "- Use **Data Management** for time-series storage\n",
    "- Use **Services** for data access APIs\n",
    "\n",
    "### Collaborative Research Platform\n",
    "- Use **Admin** for user and group management\n",
    "- Use **Data Management** for research data\n",
    "- Use **Services** for data sharing APIs\n",
    "- Use **Seven Bridges** for computational analysis\n",
    "\n",
    "## 📖 Additional Resources\n",
    "\n",
    "- **Documentation**: Comprehensive API documentation\n",
    "- **Repository**: [GitLab repository](https://gitlab.com/contextualize/pycarta)\n",
    "- **Support**: customer.service@contextualize.us.com\n",
    "- **Feature Requests**: [Submit via email](mailto:a.t.901104402411.u-26296181.4165918c-9632-497d-8601-dfcb2f66ba78@tasks.clickup.com)\n",
    "\n",
    "## 🚦 Next Steps\n",
    "\n",
    "1. **Start with Authentication**: Run [01_authentication.ipynb](01_authentication.ipynb) to set up your credentials\n",
    "2. **Choose Your Path**: Select notebooks based on your use case\n",
    "3. **Experiment**: Modify examples to fit your specific needs\n",
    "4. **Build**: Create your own applications using pycarta\n",
    "5. **Share**: Contribute improvements back to the community\n",
    "\n",
    "Happy coding with `pycarta`! 🎉"
   ]
  },
  {
   "cell_type": "markdown",
   "metadata": {},
   "source": []
  }
 ],
 "metadata": {
  "kernelspec": {
   "display_name": "venv",
   "language": "python",
   "name": "python3"
  },
  "language_info": {
   "codemirror_mode": {
    "name": "ipython",
    "version": 3
   },
   "file_extension": ".py",
   "mimetype": "text/x-python",
   "name": "python",
   "nbconvert_exporter": "python",
   "pygments_lexer": "ipython3",
   "version": "3.12.7"
  }
 },
 "nbformat": 4,
 "nbformat_minor": 4
}
