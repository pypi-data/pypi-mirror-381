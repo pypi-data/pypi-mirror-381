{
 "cells": [
  {
   "cell_type": "markdown",
   "metadata": {},
   "source": [
    "# pycarta Authentication Examples\n",
    "\n",
    "This notebook demonstrates authentication and authorization features in pycarta.\n",
    "\n",
    "## Prerequisites\n",
    "\n",
    "Before running these examples, ensure you have:\n",
    "- pycarta installed: `pip install pycarta`\n",
    "- Valid Carta credentials\n",
    "- Environment variables set (optional): `CARTA_USER`, `CARTA_PASS`, `CARTA_PROFILE`, `CARTA_ENV`"
   ]
  },
  {
   "cell_type": "markdown",
   "metadata": {},
   "source": [
    "## Basic Authentication\n",
    "\n",
    "### Username and Password Authentication"
   ]
  },
  {
   "cell_type": "code",
   "execution_count": 1,
   "metadata": {},
   "outputs": [
    {
     "name": "stdout",
     "output_type": "stream",
     "text": [
      "Authentication examples ready (uncomment above lines to test)\n"
     ]
    }
   ],
   "source": [
    "import pycarta as pc\n",
    "\n",
    "# Direct login (replace with your credentials)\n",
    "# pc.login(username=\"your_username\", password=\"your_password\")\n",
    "\n",
    "# Interactive login with UI prompt\n",
    "pc.login(interactive=True)\n",
    "\n",
    "# Environment-specific login\n",
    "# pc.login(username=\"user\", password=\"pass\", environment=\"development\")\n",
    "\n",
    "print(\"Authentication examples ready (uncomment above lines to test)\")"
   ]
  },
  {
   "cell_type": "markdown",
   "metadata": {},
   "source": [
    "### Profile-based Authentication"
   ]
  },
  {
   "cell_type": "code",
   "execution_count": 2,
   "metadata": {},
   "outputs": [
    {
     "name": "stdout",
     "output_type": "stream",
     "text": [
      "Profile authentication examples ready\n"
     ]
    }
   ],
   "source": [
    "# Login using profiles (recommended)\n",
    "# pc.login(profile=\"my-profile\")\n",
    "\n",
    "# Or use environment variables\n",
    "# CARTA_USER, CARTA_PASS, CARTA_PROFILE, CARTA_ENV\n",
    "# pc.login()\n",
    "\n",
    "print(\"Profile authentication examples ready\")"
   ]
  },
  {
   "cell_type": "markdown",
   "metadata": {},
   "source": [
    "## Interactive Mode"
   ]
  },
  {
   "cell_type": "code",
   "execution_count": 3,
   "metadata": {},
   "outputs": [
    {
     "name": "stdout",
     "output_type": "stream",
     "text": [
      "Interactive mode demonstration complete\n"
     ]
    }
   ],
   "source": [
    "# Enable interactive mode (like matplotlib)\n",
    "pc.ion()\n",
    "\n",
    "# Now any authentication will prompt user if needed\n",
    "# pc.login()\n",
    "\n",
    "# Disable interactive mode\n",
    "pc.ioff()\n",
    "\n",
    "print(\"Interactive mode demonstration complete\")"
   ]
  },
  {
   "cell_type": "markdown",
   "metadata": {},
   "source": [
    "## Profile Management\n",
    "\n",
    "Programmatic CRUD operations for profiles:"
   ]
  },
  {
   "cell_type": "code",
   "execution_count": 6,
   "metadata": {},
   "outputs": [
    {
     "name": "stdout",
     "output_type": "stream",
     "text": [
      "Available profiles: ['sandbox', 'production', 'production-admin', 'sandbox-admin', 'colorado-digital-admin']\n"
     ]
    }
   ],
   "source": [
    "from pycarta.auth import CartaConfig, Profile\n",
    "from pycarta.exceptions import ProfileNotFoundException\n",
    "\n",
    "config = CartaConfig()\n",
    "\n",
    "# Get a list of available profiles\n",
    "try:\n",
    "    profiles = config.get_profiles()\n",
    "    print(f\"Available profiles: {profiles}\")\n",
    "except Exception as e:\n",
    "    print(f\"Error getting profiles: {e}\")"
   ]
  },
  {
   "cell_type": "code",
   "execution_count": null,
   "metadata": {},
   "outputs": [
    {
     "name": "stdout",
     "output_type": "stream",
     "text": [
      "Profile created (save commented out for safety)\n"
     ]
    }
   ],
   "source": [
    "# Create a new profile\n",
    "try:\n",
    "    profile = Profile(\n",
    "        username=\"test_user\",\n",
    "        environment=\"development\",  # or \"production\"\n",
    "        password=\"your_secure_password\",\n",
    "        profile_name=\"test_profile\",\n",
    "    )\n",
    "    # config.save_profile(\"test_profile\", profile)\n",
    "    print(\"Profile created (save commented out for safety)\")\n",
    "except Exception as e:\n",
    "    print(f\"Error creating profile: {e}\")"
   ]
  },
  {
   "cell_type": "code",
   "execution_count": 8,
   "metadata": {},
   "outputs": [
    {
     "name": "stdout",
     "output_type": "stream",
     "text": [
      "Retrieved profile: branden.kappes\n"
     ]
    }
   ],
   "source": [
    "from random import choice\n",
    "# Retrieve an existing profile\n",
    "try:\n",
    "    profile = config.get_profile(choice(profiles))\n",
    "    print(f\"Retrieved profile: {profile.username}\")\n",
    "except ProfileNotFoundException:\n",
    "    print(\"Profile not found\")\n",
    "    profile = None\n",
    "except Exception as e:\n",
    "    print(f\"Error retrieving profile: {e}\")"
   ]
  },
  {
   "cell_type": "code",
   "execution_count": 9,
   "metadata": {},
   "outputs": [
    {
     "name": "stdout",
     "output_type": "stream",
     "text": [
      "Profile updated (save commented out for safety)\n"
     ]
    }
   ],
   "source": [
    "# Update an existing profile\n",
    "try:\n",
    "    if profile:\n",
    "        profile.password = \"new_password\"\n",
    "        # config.save_profile(\"test_profile\", profile)\n",
    "        print(\"Profile updated (save commented out for safety)\")\n",
    "except Exception as e:\n",
    "    print(f\"Error updating profile: {e}\")"
   ]
  },
  {
   "cell_type": "code",
   "execution_count": 10,
   "metadata": {},
   "outputs": [
    {
     "name": "stdout",
     "output_type": "stream",
     "text": [
      "Profile deleted (commented out for safety)\n"
     ]
    }
   ],
   "source": [
    "# Delete a profile\n",
    "try:\n",
    "    # config.delete_profile(\"test_profile\")\n",
    "    print(\"Profile deleted (commented out for safety)\")\n",
    "except Exception as e:\n",
    "    print(f\"Error deleting profile: {e}\")"
   ]
  },
  {
   "cell_type": "markdown",
   "metadata": {},
   "source": [
    "## Profile UI\n",
    "\n",
    "Interactive profile management:"
   ]
  },
  {
   "cell_type": "code",
   "execution_count": 12,
   "metadata": {},
   "outputs": [
    {
     "name": "stdout",
     "output_type": "stream",
     "text": [
      "Profile UI available.\n"
     ]
    },
    {
     "data": {
      "text/plain": [
       "<pycarta.auth.ui.CartaProfile at 0x117acc0b0>"
      ]
     },
     "execution_count": 12,
     "metadata": {},
     "output_type": "execute_result"
    }
   ],
   "source": [
    "from pycarta.auth import CartaProfileUI\n",
    "\n",
    "print(\"Profile UI available.\")\n",
    "CartaProfileUI()  # A GUI for viewing, adding, or modifying profiles.\n",
    "# print(\"Profile UI available (uncomment to use in desktop environment)\")"
   ]
  },
  {
   "cell_type": "markdown",
   "metadata": {},
   "source": [
    "## Authorization Decorators\n",
    "\n",
    "Control access to functions with decorators:"
   ]
  },
  {
   "cell_type": "code",
   "execution_count": 18,
   "metadata": {},
   "outputs": [
    {
     "name": "stdout",
     "output_type": "stream",
     "text": [
      "Authorization functions defined\n",
      "Note: These will only work when properly authenticated\n",
      "This will only run if the user is authorized.\n",
      "Authentication required for this function.\n",
      "This will only run for users who are members of 'AllUsers'.\n"
     ]
    },
    {
     "data": {
      "text/plain": [
       "'Success: Group member authorized'"
      ]
     },
     "execution_count": 18,
     "metadata": {},
     "output_type": "execute_result"
    }
   ],
   "source": [
    "import pycarta\n",
    "\n",
    "agent = pycarta.get_agent()\n",
    "\n",
    "@pycarta.authorize()\n",
    "def requires_carta_account():\n",
    "    print(\"This will only run if the user is authorized.\")\n",
    "    return \"Success: User is authorized\"\n",
    "\n",
    "@pycarta.authorize(users=[\"Alice\", \"Bob\", \"Charlie\"])\n",
    "def specific_users():\n",
    "    print(f\"This will only run for Alice, Bob, or Charlie.\")\n",
    "    return \"Success: Specific user authorized\"\n",
    "\n",
    "@pycarta.authorize(groups=[\"AllUsers\"])\n",
    "def users_in_group():\n",
    "    print(\"This will only run for users who are members of 'AllUsers'.\")\n",
    "    return \"Success: Group member authorized\"\n",
    "\n",
    "print(\"Authorization functions defined\")\n",
    "print(\"Note: These will only work when properly authenticated\")\n",
    "\n",
    "# By default, the user who creates the function is the only one authorized.\n",
    "requires_carta_account()\n",
    "\n",
    "try:\n",
    "    # The current user is not one of the (fictitious) list of authorized users.\n",
    "    specific_users()\n",
    "except pycarta.AuthenticationError:\n",
    "    print(\"Authentication required for this function.\")\n",
    "\n",
    "# Authorize a specific group. In this case -- everyone is part of \"AllUsers\"\n",
    "users_in_group()"
   ]
  },
  {
   "cell_type": "markdown",
   "metadata": {},
   "source": [
    "## Testing Authorization (when authenticated)\n",
    "\n",
    "Uncomment and run these when you have valid authentication:"
   ]
  },
  {
   "cell_type": "code",
   "execution_count": 19,
   "metadata": {},
   "outputs": [
    {
     "name": "stdout",
     "output_type": "stream",
     "text": [
      "This will only run if the user is authorized.\n",
      "Basic auth result: Success: User is authorized\n"
     ]
    }
   ],
   "source": [
    "# Test the authorization functions\n",
    "try:\n",
    "    result = requires_carta_account()\n",
    "    print(f\"Basic auth result: {result}\")\n",
    "    # print(\"Authorization test ready (uncomment when authenticated)\")\n",
    "except Exception as e:\n",
    "    print(f\"Authorization failed: {e}\")"
   ]
  },
  {
   "cell_type": "markdown",
   "metadata": {},
   "source": [
    "## Environment Configuration\n",
    "\n",
    "Understanding environment settings:"
   ]
  },
  {
   "cell_type": "code",
   "execution_count": 20,
   "metadata": {},
   "outputs": [
    {
     "name": "stdout",
     "output_type": "stream",
     "text": [
      "\n",
      "Set these environment variables for automatic login:\n",
      "\n",
      "CARTA_USER=<Carta username>\n",
      "CARTA_PASS=<Carta password>\n",
      "CARTA_PROFILE=<Carta profile>\n",
      "CARTA_ENV=<Carta environment>  # optional (development/production)\n",
      "CARTA_HOST=<Carta host URL>    # optional\n",
      "\n",
      "If CARTA_PROFILE is set, then CARTA_USER and CARTA_PASS are unnecessary.\n",
      "\n",
      "By default, pycarta connects to production. Use environment=\"development\" \n",
      "for development/sandbox environment.\n",
      "\n",
      "For custom deployments, specify host directly:\n",
      "pycarta.login(host=\"https://custom.carta.host\")\n",
      "\n"
     ]
    }
   ],
   "source": [
    "# Environment variables for automatic authentication:\n",
    "print(\"\"\"\n",
    "Set these environment variables for automatic login:\n",
    "\n",
    "CARTA_USER=<Carta username>\n",
    "CARTA_PASS=<Carta password>\n",
    "CARTA_PROFILE=<Carta profile>\n",
    "CARTA_ENV=<Carta environment>  # optional (development/production)\n",
    "CARTA_HOST=<Carta host URL>    # optional\n",
    "\n",
    "If CARTA_PROFILE is set, then CARTA_USER and CARTA_PASS are unnecessary.\n",
    "\n",
    "By default, pycarta connects to production. Use environment=\"development\" \n",
    "for development/sandbox environment.\n",
    "\n",
    "For custom deployments, specify host directly:\n",
    "pycarta.login(host=\"https://custom.carta.host\")\n",
    "\"\"\")"
   ]
  },
  {
   "cell_type": "markdown",
   "metadata": {},
   "source": [
    "## Next Steps\n",
    "\n",
    "After authentication, you can:\n",
    "1. Use administrative functions (see `02_admin.ipynb`)\n",
    "2. Create services (see `03_services.ipynb`)\n",
    "3. Use MQTT messaging (see `04_mqtt.ipynb`)\n",
    "4. Work with data (see `05_data_management.ipynb`)\n",
    "5. Integrate with Seven Bridges (see `06_seven_bridges.ipynb`)"
   ]
  }
 ],
 "metadata": {
  "kernelspec": {
   "display_name": "venv",
   "language": "python",
   "name": "python3"
  },
  "language_info": {
   "codemirror_mode": {
    "name": "ipython",
    "version": 3
   },
   "file_extension": ".py",
   "mimetype": "text/x-python",
   "name": "python",
   "nbconvert_exporter": "python",
   "pygments_lexer": "ipython3",
   "version": "3.12.7"
  }
 },
 "nbformat": 4,
 "nbformat_minor": 4
}
