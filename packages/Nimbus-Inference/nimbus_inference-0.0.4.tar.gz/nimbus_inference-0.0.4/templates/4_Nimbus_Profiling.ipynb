{
 "cells": [
  {
   "cell_type": "markdown",
   "id": "2a7922d2",
   "metadata": {},
   "source": [
    "## Profiling and improving the Nimbus Model"
   ]
  },
  {
   "cell_type": "code",
   "execution_count": 1,
   "id": "d6304492",
   "metadata": {},
   "outputs": [
    {
     "data": {
      "text/html": [
       "<style>.container { width:100% !important; }</style>"
      ],
      "text/plain": [
       "<IPython.core.display.HTML object>"
      ]
     },
     "metadata": {},
     "output_type": "display_data"
    }
   ],
   "source": [
    "# import required packages\n",
    "import warnings\n",
    "warnings.simplefilter(\"ignore\")\n",
    "import os\n",
    "from IPython.display import display, HTML\n",
    "display(HTML(\"<style>.container { width:100% !important; }</style>\"))\n",
    "from nimbus_inference.nimbus import Nimbus, prep_naming_convention\n",
    "from nimbus_inference.utils import MultiplexDataset\n",
    "from alpineer import io_utils\n",
    "from nimbus_inference import example_dataset\n",
    "from nimbus_inference.viewer_widget import NimbusViewer\n",
    "from torch.profiler import profile, ProfilerActivity, record_function"
   ]
  },
  {
   "cell_type": "code",
   "execution_count": 4,
   "id": "2cf40a69",
   "metadata": {},
   "outputs": [
    {
     "name": "stdout",
     "output_type": "stream",
     "text": [
      "Segmentation data exists for fov 0 and naming convention is correct\n",
      "All inputs are valid\n"
     ]
    }
   ],
   "source": [
    "# set up the base directory\n",
    "base_dir = os.path.normpath(\"../data/example_dataset\")\n",
    "\n",
    "example_dataset.get_example_dataset(dataset=\"cluster_pixels\", save_dir = base_dir, overwrite_existing = False)\n",
    "# set up file paths\n",
    "tiff_dir = os.path.join(base_dir, \"image_data\")\n",
    "deepcell_output_dir = os.path.join(base_dir, \"segmentation\", \"deepcell_output\")\n",
    "nimbus_output_dir = os.path.join(base_dir, \"nimbus_output\")\n",
    "\n",
    "# Create nimbus output directory\n",
    "os.makedirs(nimbus_output_dir, exist_ok=True)\n",
    "\n",
    "# Check if paths exist\n",
    "io_utils.validate_paths([base_dir, tiff_dir, deepcell_output_dir, nimbus_output_dir])\n",
    "\n",
    "# define the channels to include\n",
    "include_channels = [\n",
    "    \"CD3\", \"CD4\", \"CD8\", \"CD14\", \"CD20\", \"CD31\", \"CD45\", \"CD68\", \"CD163\", \"CK17\", \"Collagen1\",\n",
    "    \"ECAD\", \"Fibronectin\", \"GLUT1\", \"HLADR\", \"IDO\", \"Ki67\", \"PD1\", \"SMA\", \"Vim\"\n",
    "]\n",
    "\n",
    "# either get all fovs in the folder...\n",
    "fov_names = os.listdir(tiff_dir)\n",
    "# ... or optionally, select a specific set of fovs manually\n",
    "# fovs = [\"fov0\", \"fov1\"]\n",
    "\n",
    "# make sure to filter paths out that don't lead to FoVs, e.g. .DS_Store files.\n",
    "fov_names = [fov_name for fov_name in fov_names if not fov_name.startswith(\".\")] \n",
    "\n",
    "# construct paths for fovs\n",
    "fov_paths = [os.path.join(tiff_dir, fov_name) for fov_name in fov_names]\n",
    "\n",
    "# Prepare segmentation naming convention that maps a fov_path to the according segmentation label map\n",
    "segmentation_naming_convention = prep_naming_convention(deepcell_output_dir)\n",
    "\n",
    "# test segmentation_naming_convention\n",
    "if os.path.exists(segmentation_naming_convention(fov_paths[0])):\n",
    "    print(\"Segmentation data exists for fov 0 and naming convention is correct\")\n",
    "else:\n",
    "    print(\"Segmentation data does not exist for fov 0 or naming convention is incorrect\")\n",
    "\n",
    "dataset = MultiplexDataset(\n",
    "    fov_paths=fov_paths,\n",
    "    suffix=\".tiff\", # or .png, .jpg, .jpeg, .tif or .ome.tiff\n",
    "    include_channels=include_channels,\n",
    "    segmentation_naming_convention=segmentation_naming_convention,\n",
    "    output_dir=\tnimbus_output_dir,\n",
    ")"
   ]
  },
  {
   "cell_type": "code",
   "execution_count": 5,
   "id": "f7074e48",
   "metadata": {},
   "outputs": [
    {
     "name": "stdout",
     "output_type": "stream",
     "text": [
      "Checking for updated model checkpoints on HuggingFace Hub...\n",
      "Using existing checkpoint: /Users/jrumber/Desktop/Nimbus-Inference/src/nimbus_inference/assets/V1.pt\n",
      "Loaded weights from /Users/jrumber/Desktop/Nimbus-Inference/src/nimbus_inference/assets/V1.pt\n",
      "All inputs are valid.\n"
     ]
    }
   ],
   "source": [
    "nimbus = Nimbus(\n",
    "    dataset=dataset,\n",
    "    save_predictions=True,\n",
    "    batch_size=4,\n",
    "    test_time_aug=True,\n",
    "    input_shape=[1024,1024],\n",
    "    device=\"auto\",\n",
    "    output_dir=nimbus_output_dir,\n",
    ")\n",
    "\n",
    "# check if all inputs are valid\n",
    "nimbus.check_inputs()"
   ]
  },
  {
   "cell_type": "code",
   "execution_count": null,
   "id": "73c0442c",
   "metadata": {},
   "outputs": [
    {
     "name": "stdout",
     "output_type": "stream",
     "text": [
      "Available GPUs:  0\n",
      "Predictions will be saved in ../data/example_dataset/nimbus_output\n",
      "Iterating through fovs will take a while...\n",
      "Predicting ../data/example_dataset/image_data/fov4...\n"
     ]
    },
    {
     "data": {
      "application/vnd.jupyter.widget-view+json": {
       "model_id": "76e3dfab2e4d490093e7a1e6e9f914f1",
       "version_major": 2,
       "version_minor": 0
      },
      "text/plain": [
       "  0%|          | 0/20 [00:00<?, ?it/s]"
      ]
     },
     "metadata": {},
     "output_type": "display_data"
    },
    {
     "name": "stdout",
     "output_type": "stream",
     "text": [
      "No normalization dict found. Preparing normalization dict...\n",
      "Iterate over fovs...\n",
      "Predicting ../data/example_dataset/image_data/fov3...\n"
     ]
    },
    {
     "data": {
      "application/vnd.jupyter.widget-view+json": {
       "model_id": "7a719555207b4266837d3b533a7700cd",
       "version_major": 2,
       "version_minor": 0
      },
      "text/plain": [
       "  0%|          | 0/20 [00:00<?, ?it/s]"
      ]
     },
     "metadata": {},
     "output_type": "display_data"
    },
    {
     "name": "stdout",
     "output_type": "stream",
     "text": [
      "Predicting ../data/example_dataset/image_data/fov10...\n"
     ]
    },
    {
     "data": {
      "application/vnd.jupyter.widget-view+json": {
       "model_id": "5c20953bfd974898a1c28147e2de1aa3",
       "version_major": 2,
       "version_minor": 0
      },
      "text/plain": [
       "  0%|          | 0/20 [00:00<?, ?it/s]"
      ]
     },
     "metadata": {},
     "output_type": "display_data"
    },
    {
     "name": "stdout",
     "output_type": "stream",
     "text": [
      "Predicting ../data/example_dataset/image_data/fov2...\n"
     ]
    },
    {
     "data": {
      "application/vnd.jupyter.widget-view+json": {
       "model_id": "bf38d04a720c403d8b1ec74dc6996518",
       "version_major": 2,
       "version_minor": 0
      },
      "text/plain": [
       "  0%|          | 0/20 [00:00<?, ?it/s]"
      ]
     },
     "metadata": {},
     "output_type": "display_data"
    },
    {
     "name": "stdout",
     "output_type": "stream",
     "text": [
      "Predicting ../data/example_dataset/image_data/fov5...\n"
     ]
    },
    {
     "data": {
      "application/vnd.jupyter.widget-view+json": {
       "model_id": "eb8ee15212784bf399e78e3546f73915",
       "version_major": 2,
       "version_minor": 0
      },
      "text/plain": [
       "  0%|          | 0/20 [00:00<?, ?it/s]"
      ]
     },
     "metadata": {},
     "output_type": "display_data"
    },
    {
     "name": "stdout",
     "output_type": "stream",
     "text": [
      "Predicting ../data/example_dataset/image_data/fov0...\n"
     ]
    },
    {
     "data": {
      "application/vnd.jupyter.widget-view+json": {
       "model_id": "c9c90bbfbc8d4078b85bea421752cb6e",
       "version_major": 2,
       "version_minor": 0
      },
      "text/plain": [
       "  0%|          | 0/20 [00:00<?, ?it/s]"
      ]
     },
     "metadata": {},
     "output_type": "display_data"
    },
    {
     "name": "stdout",
     "output_type": "stream",
     "text": [
      "Predicting ../data/example_dataset/image_data/fov7...\n"
     ]
    },
    {
     "data": {
      "application/vnd.jupyter.widget-view+json": {
       "model_id": "1ec8d14666c14450bd55d4221d2c35cc",
       "version_major": 2,
       "version_minor": 0
      },
      "text/plain": [
       "  0%|          | 0/20 [00:00<?, ?it/s]"
      ]
     },
     "metadata": {},
     "output_type": "display_data"
    },
    {
     "name": "stdout",
     "output_type": "stream",
     "text": [
      "Predicting ../data/example_dataset/image_data/fov9...\n"
     ]
    },
    {
     "data": {
      "application/vnd.jupyter.widget-view+json": {
       "model_id": "5ab2c43dfa824063b447aa28e8ad2f76",
       "version_major": 2,
       "version_minor": 0
      },
      "text/plain": [
       "  0%|          | 0/20 [00:00<?, ?it/s]"
      ]
     },
     "metadata": {},
     "output_type": "display_data"
    },
    {
     "name": "stdout",
     "output_type": "stream",
     "text": [
      "Predicting ../data/example_dataset/image_data/fov8...\n"
     ]
    },
    {
     "data": {
      "application/vnd.jupyter.widget-view+json": {
       "model_id": "bc003ceb916541f68def51463814bd3d",
       "version_major": 2,
       "version_minor": 0
      },
      "text/plain": [
       "  0%|          | 0/20 [00:00<?, ?it/s]"
      ]
     },
     "metadata": {},
     "output_type": "display_data"
    },
    {
     "name": "stdout",
     "output_type": "stream",
     "text": [
      "Predicting ../data/example_dataset/image_data/fov6...\n"
     ]
    },
    {
     "data": {
      "application/vnd.jupyter.widget-view+json": {
       "model_id": "e6431aa7ca714b1d8b0044f98d16322d",
       "version_major": 2,
       "version_minor": 0
      },
      "text/plain": [
       "  0%|          | 0/20 [00:00<?, ?it/s]"
      ]
     },
     "metadata": {},
     "output_type": "display_data"
    },
    {
     "name": "stdout",
     "output_type": "stream",
     "text": [
      "Predicting ../data/example_dataset/image_data/fov1...\n"
     ]
    },
    {
     "data": {
      "application/vnd.jupyter.widget-view+json": {
       "model_id": "661c06ccfdbe4beb8ca2a2c257ba685b",
       "version_major": 2,
       "version_minor": 0
      },
      "text/plain": [
       "  0%|          | 0/20 [00:00<?, ?it/s]"
      ]
     },
     "metadata": {},
     "output_type": "display_data"
    }
   ],
   "source": [
    "with profile(activities=[ProfilerActivity.CPU, ProfilerActivity.CUDA], record_shapes=True, profile_memory=True) as prof:\n",
    "    with record_function(\"model_inference\"):\n",
    "        cell_table = nimbus.predict_fovs()"
   ]
  },
  {
   "cell_type": "code",
   "execution_count": null,
   "id": "2f65696e",
   "metadata": {},
   "outputs": [
    {
     "name": "stdout",
     "output_type": "stream",
     "text": [
      "------------------------------------  ------------  ------------  ------------  ------------  ------------  ------------  \n",
      "                                Name    Self CPU %      Self CPU   CPU total %     CPU total  CPU time avg    # of Calls  \n",
      "------------------------------------  ------------  ------------  ------------  ------------  ------------  ------------  \n",
      "                     model_inference        18.25%       22.526s       100.00%      123.435s      123.435s             1  \n",
      "                            aten::to         0.01%       7.177ms        74.29%       91.698s      11.265ms          8140  \n",
      "                      aten::_to_copy         0.02%      18.601ms        74.28%       91.690s      21.936ms          4180  \n",
      "                         aten::copy_        74.25%       91.653s        74.26%       91.659s      21.928ms          4180  \n",
      "                   aten::convolution         0.05%      61.318ms         2.56%        3.162s      74.852us         42240  \n",
      "                  aten::_convolution         0.09%     114.486ms         2.51%        3.100s      73.400us         42240  \n",
      "                        aten::conv2d         0.03%      40.249ms         2.07%        2.552s      69.051us         36960  \n",
      "                    aten::batch_norm         0.03%      41.110ms         1.97%        2.431s     102.322us         23760  \n",
      "             aten::_convolution_mode         0.03%      42.770ms         1.96%        2.422s      67.957us         35640  \n",
      "        aten::_batch_norm_impl_index         0.03%      40.874ms         1.94%        2.390s     100.591us         23760  \n",
      "------------------------------------  ------------  ------------  ------------  ------------  ------------  ------------  \n",
      "Self CPU time total: 123.435s\n",
      "\n"
     ]
    }
   ],
   "source": [
    "print(prof.key_averages().table(sort_by=\"cpu_time_total\", row_limit=10))"
   ]
  },
  {
   "cell_type": "code",
   "execution_count": null,
   "id": "c8bc3aa4",
   "metadata": {},
   "outputs": [
    {
     "name": "stderr",
     "output_type": "stream",
     "text": [
      "ERROR:tornado.general:Uncaught exception in ZMQStream callback\n",
      "Traceback (most recent call last):\n",
      "  File \"/Users/jrumber/.local/lib/python3.11/site-packages/zmq/eventloop/zmqstream.py\", line 565, in _log_error\n",
      "    f.result()\n",
      "  File \"/Users/jrumber/.local/lib/python3.11/site-packages/ipykernel/kernelbase.py\", line 302, in dispatch_control\n",
      "    await self.process_control(msg)\n",
      "  File \"/Users/jrumber/.local/lib/python3.11/site-packages/ipykernel/kernelbase.py\", line 308, in process_control\n",
      "    idents, msg = self.session.feed_identities(msg, copy=False)\n",
      "                  ^^^^^^^^^^^^^^^^^^^^^^^^^^^^^^^^^^^^^^^^^^^^^\n",
      "  File \"/Users/jrumber/.local/lib/python3.11/site-packages/jupyter_client/session.py\", line 994, in feed_identities\n",
      "    raise ValueError(msg)\n",
      "ValueError: DELIM not in msg_list\n",
      "ERROR:tornado.general:Uncaught exception in ZMQStream callback\n",
      "Traceback (most recent call last):\n",
      "  File \"/Users/jrumber/.local/lib/python3.11/site-packages/zmq/eventloop/zmqstream.py\", line 565, in _log_error\n",
      "    f.result()\n",
      "  File \"/Users/jrumber/.local/lib/python3.11/site-packages/ipykernel/kernelbase.py\", line 302, in dispatch_control\n",
      "    await self.process_control(msg)\n",
      "  File \"/Users/jrumber/.local/lib/python3.11/site-packages/ipykernel/kernelbase.py\", line 308, in process_control\n",
      "    idents, msg = self.session.feed_identities(msg, copy=False)\n",
      "                  ^^^^^^^^^^^^^^^^^^^^^^^^^^^^^^^^^^^^^^^^^^^^^\n",
      "  File \"/Users/jrumber/.local/lib/python3.11/site-packages/jupyter_client/session.py\", line 994, in feed_identities\n",
      "    raise ValueError(msg)\n",
      "ValueError: DELIM not in msg_list\n",
      "ERROR:tornado.general:Uncaught exception in ZMQStream callback\n",
      "Traceback (most recent call last):\n",
      "  File \"/Users/jrumber/.local/lib/python3.11/site-packages/zmq/eventloop/zmqstream.py\", line 565, in _log_error\n",
      "    f.result()\n",
      "  File \"/Users/jrumber/.local/lib/python3.11/site-packages/ipykernel/kernelbase.py\", line 302, in dispatch_control\n",
      "    await self.process_control(msg)\n",
      "  File \"/Users/jrumber/.local/lib/python3.11/site-packages/ipykernel/kernelbase.py\", line 308, in process_control\n",
      "    idents, msg = self.session.feed_identities(msg, copy=False)\n",
      "                  ^^^^^^^^^^^^^^^^^^^^^^^^^^^^^^^^^^^^^^^^^^^^^\n",
      "  File \"/Users/jrumber/.local/lib/python3.11/site-packages/jupyter_client/session.py\", line 994, in feed_identities\n",
      "    raise ValueError(msg)\n",
      "ValueError: DELIM not in msg_list\n",
      "ERROR:tornado.general:Uncaught exception in ZMQStream callback\n",
      "Traceback (most recent call last):\n",
      "  File \"/Users/jrumber/.local/lib/python3.11/site-packages/zmq/eventloop/zmqstream.py\", line 565, in _log_error\n",
      "    f.result()\n",
      "  File \"/Users/jrumber/.local/lib/python3.11/site-packages/ipykernel/kernelbase.py\", line 302, in dispatch_control\n",
      "    await self.process_control(msg)\n",
      "  File \"/Users/jrumber/.local/lib/python3.11/site-packages/ipykernel/kernelbase.py\", line 308, in process_control\n",
      "    idents, msg = self.session.feed_identities(msg, copy=False)\n",
      "                  ^^^^^^^^^^^^^^^^^^^^^^^^^^^^^^^^^^^^^^^^^^^^^\n",
      "  File \"/Users/jrumber/.local/lib/python3.11/site-packages/jupyter_client/session.py\", line 994, in feed_identities\n",
      "    raise ValueError(msg)\n",
      "ValueError: DELIM not in msg_list\n",
      "ERROR:tornado.general:Uncaught exception in ZMQStream callback\n",
      "Traceback (most recent call last):\n",
      "  File \"/Users/jrumber/.local/lib/python3.11/site-packages/zmq/eventloop/zmqstream.py\", line 565, in _log_error\n",
      "    f.result()\n",
      "  File \"/Users/jrumber/.local/lib/python3.11/site-packages/ipykernel/kernelbase.py\", line 302, in dispatch_control\n",
      "    await self.process_control(msg)\n",
      "  File \"/Users/jrumber/.local/lib/python3.11/site-packages/ipykernel/kernelbase.py\", line 308, in process_control\n",
      "    idents, msg = self.session.feed_identities(msg, copy=False)\n",
      "                  ^^^^^^^^^^^^^^^^^^^^^^^^^^^^^^^^^^^^^^^^^^^^^\n",
      "  File \"/Users/jrumber/.local/lib/python3.11/site-packages/jupyter_client/session.py\", line 994, in feed_identities\n",
      "    raise ValueError(msg)\n",
      "ValueError: DELIM not in msg_list\n",
      "ERROR:tornado.general:Uncaught exception in ZMQStream callback\n",
      "Traceback (most recent call last):\n",
      "  File \"/Users/jrumber/.local/lib/python3.11/site-packages/zmq/eventloop/zmqstream.py\", line 565, in _log_error\n",
      "    f.result()\n",
      "  File \"/Users/jrumber/.local/lib/python3.11/site-packages/ipykernel/kernelbase.py\", line 302, in dispatch_control\n",
      "    await self.process_control(msg)\n",
      "  File \"/Users/jrumber/.local/lib/python3.11/site-packages/ipykernel/kernelbase.py\", line 308, in process_control\n",
      "    idents, msg = self.session.feed_identities(msg, copy=False)\n",
      "                  ^^^^^^^^^^^^^^^^^^^^^^^^^^^^^^^^^^^^^^^^^^^^^\n",
      "  File \"/Users/jrumber/.local/lib/python3.11/site-packages/jupyter_client/session.py\", line 994, in feed_identities\n",
      "    raise ValueError(msg)\n",
      "ValueError: DELIM not in msg_list\n",
      "ERROR:tornado.general:Uncaught exception in ZMQStream callback\n",
      "Traceback (most recent call last):\n",
      "  File \"/Users/jrumber/.local/lib/python3.11/site-packages/zmq/eventloop/zmqstream.py\", line 565, in _log_error\n",
      "    f.result()\n",
      "  File \"/Users/jrumber/.local/lib/python3.11/site-packages/ipykernel/kernelbase.py\", line 302, in dispatch_control\n",
      "    await self.process_control(msg)\n",
      "  File \"/Users/jrumber/.local/lib/python3.11/site-packages/ipykernel/kernelbase.py\", line 308, in process_control\n",
      "    idents, msg = self.session.feed_identities(msg, copy=False)\n",
      "                  ^^^^^^^^^^^^^^^^^^^^^^^^^^^^^^^^^^^^^^^^^^^^^\n",
      "  File \"/Users/jrumber/.local/lib/python3.11/site-packages/jupyter_client/session.py\", line 994, in feed_identities\n",
      "    raise ValueError(msg)\n",
      "ValueError: DELIM not in msg_list\n",
      "ERROR:tornado.general:Uncaught exception in ZMQStream callback\n",
      "Traceback (most recent call last):\n",
      "  File \"/Users/jrumber/.local/lib/python3.11/site-packages/zmq/eventloop/zmqstream.py\", line 565, in _log_error\n",
      "    f.result()\n",
      "  File \"/Users/jrumber/.local/lib/python3.11/site-packages/ipykernel/kernelbase.py\", line 302, in dispatch_control\n",
      "    await self.process_control(msg)\n",
      "  File \"/Users/jrumber/.local/lib/python3.11/site-packages/ipykernel/kernelbase.py\", line 308, in process_control\n",
      "    idents, msg = self.session.feed_identities(msg, copy=False)\n",
      "                  ^^^^^^^^^^^^^^^^^^^^^^^^^^^^^^^^^^^^^^^^^^^^^\n",
      "  File \"/Users/jrumber/.local/lib/python3.11/site-packages/jupyter_client/session.py\", line 994, in feed_identities\n",
      "    raise ValueError(msg)\n",
      "ValueError: DELIM not in msg_list\n",
      "ERROR:tornado.general:Uncaught exception in ZMQStream callback\n",
      "Traceback (most recent call last):\n",
      "  File \"/Users/jrumber/.local/lib/python3.11/site-packages/zmq/eventloop/zmqstream.py\", line 565, in _log_error\n",
      "    f.result()\n",
      "  File \"/Users/jrumber/.local/lib/python3.11/site-packages/ipykernel/kernelbase.py\", line 302, in dispatch_control\n",
      "    await self.process_control(msg)\n",
      "  File \"/Users/jrumber/.local/lib/python3.11/site-packages/ipykernel/kernelbase.py\", line 308, in process_control\n",
      "    idents, msg = self.session.feed_identities(msg, copy=False)\n",
      "                  ^^^^^^^^^^^^^^^^^^^^^^^^^^^^^^^^^^^^^^^^^^^^^\n",
      "  File \"/Users/jrumber/.local/lib/python3.11/site-packages/jupyter_client/session.py\", line 994, in feed_identities\n",
      "    raise ValueError(msg)\n",
      "ValueError: DELIM not in msg_list\n",
      "ERROR:tornado.general:Uncaught exception in ZMQStream callback\n",
      "Traceback (most recent call last):\n",
      "  File \"/Users/jrumber/.local/lib/python3.11/site-packages/zmq/eventloop/zmqstream.py\", line 565, in _log_error\n",
      "    f.result()\n",
      "  File \"/Users/jrumber/.local/lib/python3.11/site-packages/ipykernel/kernelbase.py\", line 302, in dispatch_control\n",
      "    await self.process_control(msg)\n",
      "  File \"/Users/jrumber/.local/lib/python3.11/site-packages/ipykernel/kernelbase.py\", line 308, in process_control\n",
      "    idents, msg = self.session.feed_identities(msg, copy=False)\n",
      "                  ^^^^^^^^^^^^^^^^^^^^^^^^^^^^^^^^^^^^^^^^^^^^^\n",
      "  File \"/Users/jrumber/.local/lib/python3.11/site-packages/jupyter_client/session.py\", line 994, in feed_identities\n",
      "    raise ValueError(msg)\n",
      "ValueError: DELIM not in msg_list\n"
     ]
    }
   ],
   "source": [
    "prof.export_chrome_trace(\"trace.json\")"
   ]
  }
 ],
 "metadata": {
  "kernelspec": {
   "display_name": "Python 3",
   "language": "python",
   "name": "python3"
  },
  "language_info": {
   "codemirror_mode": {
    "name": "ipython",
    "version": 3
   },
   "file_extension": ".py",
   "mimetype": "text/x-python",
   "name": "python",
   "nbconvert_exporter": "python",
   "pygments_lexer": "ipython3",
   "version": "3.11.11"
  }
 },
 "nbformat": 4,
 "nbformat_minor": 5
}
